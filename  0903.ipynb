{
 "cells": [
  {
   "cell_type": "markdown",
   "id": "0b5dafad",
   "metadata": {
    "vscode": {
     "languageId": "plaintext"
    }
   },
   "source": [
    "# Computer Programming (English Taught)\n",
    "## 王新博 Hsin-Po Wang"
   ]
  },
  {
   "cell_type": "markdown",
   "id": "7a229808",
   "metadata": {},
   "source": [
    "Authentication code for the lab course:\n",
    "\n",
    "```\n",
    "1051947385 1054515708 1073339755 1229316405 1320774375\n",
    "1444196414 1472644918 1545079054 1551418413 1741272066\n",
    "1759150159 1797956537 1856352933 1879799259 1990921573\n",
    "2022412773 2125659629 2273207663 2294289400 2424612627\n",
    "2597891192 2911269775 2995100846 3232518906 3233836856\n",
    "3261572265 3339886927 3593309478 3613915526 3837562004\n",
    "3926278049 4031339814 4042936557 4046151949 4071889265\n",
    "4169242807 4236948651 4359346062 4586162294 4670003618\n",
    "4711036509 4801242267 4974811896 5035728336 5045740252\n",
    "5149349138 5282001517 5282206983 5343653138 5381459837\n",
    "5575710961 5694576831 5995829848 6076036133 6154235503\n",
    "6535109969 6639440645 6697052835 6823458540 7062469811\n",
    "7198664001 7237853110 7428690756 7434107193 7684772344\n",
    "7838249393 7926256774 8066969360 8291918699 8355615115\n",
    "8423154336 8427421214 8533775595 8615618546 8661121324\n",
    "8801261188 8837900860 8854200349 8914087838 9019345932\n",
    "9069062110 9097012513 9188630780 9204953243 9299936503\n",
    "9314856350 9323586418 9334443918 9525908802 9547723952\n",
    "9555128947 9610286478 9610610378 9622840333 9743115598\n",
    "9782800879 9813440386 9922475422 9953154883 9990110953\n",
    "```"
   ]
  },
  {
   "cell_type": "markdown",
   "id": "6f986e0c",
   "metadata": {
    "vscode": {
     "languageId": "python"
    }
   },
   "source": [
    "## Rules"
   ]
  },
  {
   "cell_type": "markdown",
   "id": "84f2900b",
   "metadata": {},
   "source": [
    "- Homework 40%\n",
    "- Final exam 30%\n",
    "- Midterm 20%\n",
    "- Participation 10%"
   ]
  },
  {
   "cell_type": "markdown",
   "id": "7d009b68",
   "metadata": {},
   "source": [
    "### Homework 40%\n",
    "\n",
    "- Upload to GitHub Classroom to auto-grading\n",
    "- One assignment after each class\n",
    "- Deadline is the beginning of the next class (1530 of the next Wed)\n",
    "- Late submission is allowed; formula is  \n",
    "  `penalized_score = raw_score * 0.9999^minutes_late`"
   ]
  },
  {
   "cell_type": "markdown",
   "id": "93db9e96",
   "metadata": {
    "vscode": {
     "languageId": "python"
    }
   },
   "source": [
    "### Final exam 30% and Midterm 20%\n",
    "\n",
    "They will be held on the final week and midterm week, respectively.\n",
    "\n",
    "On Wednesday is paper test.\n",
    "Only stationery like pen, pencil, eraser are allowed.\n",
    "\n",
    "On Friday is computer-based test.\n",
    "\n",
    "- Textbook, notes, cellphone, internet, and AI tools are allowed.\n",
    "  - You can, in particular, search for other people's answer on forums like StackOverflow.\n",
    "  - You are also encouraged to get familiar with AI tools to maximize your performance.\n",
    "- Anything equivalent to asking another person is not allowed.\n",
    "  - For instance, you cannot ask problems yourself.\n",
    "  - You also cannot chat with your friends for helps.\n",
    "\n",
    "Students whose paper test and computer-based test differ by too much\n",
    "are subject to retest under supervision."
   ]
  },
  {
   "cell_type": "markdown",
   "id": "975e6846",
   "metadata": {},
   "source": [
    "### Participation 10%\n",
    "\n",
    "* Every Wednesday, we do Kahoot at a random timing during the second hour of the class.\n",
    "* Bring a cellphone that has camera. \n",
    "* Use your student ID number to participate. \n",
    "\n",
    "Your score will be \n",
    "`(1 + 1/ranking) * 10% / #weeks`.\n",
    "That is to say, if your ranking is #1, you can skip one class. "
   ]
  },
  {
   "cell_type": "markdown",
   "id": "ac426d19",
   "metadata": {},
   "source": [
    "## Lecture note\n",
    "\n",
    "<https://nm.lk/ccpp>"
   ]
  },
  {
   "cell_type": "markdown",
   "id": "f0e144c8",
   "metadata": {},
   "source": [
    "## Ask questions"
   ]
  },
  {
   "cell_type": "markdown",
   "id": "796bdd8d",
   "metadata": {},
   "source": [
    "- Send me email\n",
    "- DM me on discord (nice) \n",
    "- Ask classmates on discord channel (nicest) \n",
    "- <https://nm.lk/dc>"
   ]
  },
  {
   "cell_type": "markdown",
   "id": "7adf2a10",
   "metadata": {},
   "source": [
    "## IDE setup"
   ]
  },
  {
   "cell_type": "markdown",
   "id": "fbf6ddb7",
   "metadata": {},
   "source": [
    "## Windows"
   ]
  },
  {
   "cell_type": "markdown",
   "id": "28fddfc9",
   "metadata": {},
   "source": [
    "- Ask AI `how to install Ubuntu 24.04 on WSL (I am new so start from win+R)`\n",
    "- AI may provide several options, as AI to `list pros and cons` if you need clarification\n",
    "- Tell AI `用中文再說一次` if you prefer Chinese.\n",
    "- Ask AI `How to test if my Ubuntu 24.04 is set up correctly`\n",
    "- Ask AI `How to install g++-14 on my Ubuntu 24.04 living inside WSL (starting from win+R)`\n",
    "- Ask AI `How to test if my g++-14 is set up correctly`\n",
    "- Ask AI `How to install VS Code on my windows`\n",
    "- Ask AI `How to install the Remote - WSL plugin to my VS Code`\n",
    "- Ask AI `How to configure VS Code such that its terminal is the one with Ubuntu 24.04`\n",
    "- Ask AI `How to create helloworld.cpp in the home folder of my Ubuntu 24.04 using VS Code`\n",
    "- Ask AI `How to compile helloworld.cpp using g++14 all within VS Code`\n",
    "- Ask AI `How to run helloworld.cpp all within VS Code`"
   ]
  },
  {
   "cell_type": "markdown",
   "id": "70ec2e88",
   "metadata": {},
   "source": [
    "## MacOS"
   ]
  },
  {
   "cell_type": "markdown",
   "id": "75562a86",
   "metadata": {},
   "source": [
    "- Ask AI `how to install g++-14 on my mac (for absolute beginners)`.\n",
    "- AI may provide several options, as AI if you need clarification.\n",
    "- Our recommendation is to install `homebrew` and use `homebrew` to install `g++-14`.\n",
    "- Ask AI `How to check if homebrew is installed correctly`\n",
    "- Ask AI `How to check if g++-14 is installed correctly`\n",
    "- Ask AI `How to install VS Code for mac`\n",
    "- Ask AI `How to create helloworld.cpp, compile it with g++-14, and run it`"
   ]
  },
  {
   "cell_type": "markdown",
   "id": "2865f954",
   "metadata": {},
   "source": [
    "## Linux"
   ]
  },
  {
   "cell_type": "markdown",
   "id": "7e30b80d",
   "metadata": {},
   "source": [
    "- You don't need instruction"
   ]
  },
  {
   "cell_type": "markdown",
   "id": "40ae3ee7",
   "metadata": {},
   "source": [
    "## Let's begin"
   ]
  },
  {
   "cell_type": "markdown",
   "id": "fe620edc",
   "metadata": {},
   "source": [
    "`C/C++` is a compiled language.\n",
    "\n",
    "You begin with some code that human can understand.\n",
    "\n",
    "Here is an example: I create a file called `hello.cpp` insider a folder `0903`"
   ]
  },
  {
   "cell_type": "code",
   "execution_count": 19,
   "id": "70b745e7",
   "metadata": {
    "vscode": {
     "languageId": "cpp"
    }
   },
   "outputs": [
    {
     "name": "stdout",
     "output_type": "stream",
     "text": [
      "Overwriting 0903/hello.cpp\n"
     ]
    }
   ],
   "source": [
    "%%writefile 0903/hello.cpp\n",
    "\n",
    "#include <iostream>\n",
    "using namespace std;\n",
    "int main() {\n",
    "    cout << \"Hello, World!\" << endl;\n",
    "    return 0;\n",
    "}"
   ]
  },
  {
   "cell_type": "markdown",
   "id": "b208cda7",
   "metadata": {},
   "source": [
    "Now I need to translate `hello.cpp` into something that machine can read.\n",
    "\n",
    "In the following, I ask `g++-14` (the translator, usually called the **compiler**)\n"
   ]
  },
  {
   "cell_type": "code",
   "execution_count": null,
   "id": "4dfb1d61",
   "metadata": {
    "vscode": {
     "languageId": "cpp"
    }
   },
   "outputs": [],
   "source": [
    "%%shell\n",
    "\n",
    "g++-14 -o 0903/hello 0903/hello.cpp"
   ]
  },
  {
   "cell_type": "markdown",
   "id": "b6834f3e",
   "metadata": {},
   "source": []
  },
  {
   "cell_type": "markdown",
   "id": "771c2d97",
   "metadata": {},
   "source": []
  }
 ],
 "metadata": {
  "kernelspec": {
   "display_name": "SageMath 10.6",
   "language": "sage",
   "name": "SageMath-10.6"
  },
  "language_info": {
   "codemirror_mode": {
    "name": "ipython",
    "version": 3
   },
   "file_extension": ".py",
   "mimetype": "text/x-python",
   "name": "python",
   "nbconvert_exporter": "python",
   "pygments_lexer": "ipython3",
   "version": "3.12.5"
  }
 },
 "nbformat": 4,
 "nbformat_minor": 5
}
