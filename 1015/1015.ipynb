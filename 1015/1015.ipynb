{
 "cells": [
  {
   "cell_type": "markdown",
   "id": "c7658d49",
   "metadata": {
    "vscode": {
     "languageId": "plaintext"
    }
   },
   "source": [
    "# Computer Programming 1001"
   ]
  },
  {
   "cell_type": "code",
   "execution_count": 2,
   "id": "5eba4742",
   "metadata": {
    "vscode": {
     "languageId": "cpp"
    }
   },
   "outputs": [
    {
     "name": "stdout",
     "output_type": "stream",
     "text": [
      "env: SDKROOT=/Library/Developer/CommandLineTools/SDKs/MacOSX.sdk\n"
     ]
    }
   ],
   "source": [
    "# Ignore this; my laptop is so old and Apple is nasty so I need this\n",
    "sdkroot = !xcrun --show-sdk-path\n",
    "%env SDKROOT={sdkroot[0]}"
   ]
  },
  {
   "cell_type": "code",
   "execution_count": 15,
   "id": "61aca75f",
   "metadata": {
    "vscode": {
     "languageId": "cpp"
    }
   },
   "outputs": [
    {
     "name": "stdout",
     "output_type": "stream",
     "text": [
      "123\n",
      "213\n",
      "132\n",
      "231\n",
      "312\n",
      "3"
     ]
    }
   ],
   "source": [
    "%%bash\n",
    "cat > add.cpp << CPPCODE\n",
    "\n",
    "#include <iostream>\n",
    "using namespace std;\n",
    "\n",
    "int main() {\n",
    "    // int a = 3, b = 2;\n",
    "    // cout << a + b;\n",
    "    // cout << a + + b;\n",
    "    // cout << a ++ + b;\n",
    "    // cout << a + ++ b;\n",
    "    // cout << a ++ + + b;\n",
    "    // cout << a + + ++ b;\n",
    "    // cout << a ++ + ++ b;\n",
    "\n",
    "    int a = 1, b = 2, c = 3;\n",
    "    int *p = &a, *q = &b, *r = &c;\n",
    "    int **x = &p, **y = &q, **z = &r;\n",
    "    cout << **x << **y << **z << endl;\n",
    "    swap(x, y);\n",
    "    cout << **x << **y << **z << endl;\n",
    "    swap(a, c); swap(q, r);\n",
    "    cout << **x << **y << **z << endl;\n",
    "    swap(*x, *z);\n",
    "    cout << **x << **y << **z << endl;\n",
    "    swap(*p, *q); swap(**y, **z);\n",
    "    cout << **x << **y << **z << endl;\n",
    "    cout << a**p***x;\n",
    "}\n",
    "\n",
    "CPPCODE\n",
    "g++-14 -std=c++26 -Wall -Wextra -Wpedantic -Wshadow -Wconversion add.cpp -o add\n",
    "./add"
   ]
  },
  {
   "cell_type": "code",
   "execution_count": 13,
   "id": "405b637a",
   "metadata": {
    "vscode": {
     "languageId": "cpp"
    }
   },
   "outputs": [
    {
     "name": "stdout",
     "output_type": "stream",
     "text": [
      "120245177 2226913248 1099853241\n",
      "1\n",
      "2\n",
      "01\n",
      "00\n"
     ]
    }
   ],
   "source": [
    "%%bash\n",
    "cat > mt.cpp << CPPCODE\n",
    "\n",
    "#include <iostream>\n",
    "#include <random>\n",
    "using namespace std;\n",
    "int main () {\n",
    "    mt19937 rand(20251015), rane(20251015), ranf(20251015);\n",
    "    cout << rand() << \" \" << rand() << \" \" << rand() << endl;\n",
    "    cout << rane() % 2 << endl;\n",
    "    cout << ranf() % 3 << endl;\n",
    "    cout << rane() % 2 << rane() % 2 << endl;\n",
    "    cout << ranf() % 3 << ranf() % 3 << endl;\n",
    "}\n",
    "\n",
    "CPPCODE\n",
    "g++-14 -std=c++26 -Wall -Wextra -Wpedantic -Wshadow -Wconversion mt.cpp -o mt\n",
    "./mt"
   ]
  },
  {
   "cell_type": "code",
   "execution_count": 22,
   "id": "64ed2eb5",
   "metadata": {
    "vscode": {
     "languageId": "cpp"
    }
   },
   "outputs": [
    {
     "name": "stdout",
     "output_type": "stream",
     "text": [
      "8888888888888888888888888888888888888888\n",
      "8888888888888888888889888888888888888888\n",
      "8888888888888888888888888888888888888888\n",
      "8888888888888888888888888988888888888888\n",
      "8888888888888888888888888888888888888888\n",
      "8888888888888888886888888888888888888888\n",
      "8888888888888888888888888888888888888888\n",
      "8888888888888888888888888888888888888888\n",
      "8888888888888888888888888888888888888888\n",
      "8888888888888888888888888888888888888888\n"
     ]
    }
   ],
   "source": [
    "(r, c) = (10, 40)\n",
    "table = [\n",
    "    ['8' for _ in range(c)]\n",
    "    for _ in range(r)\n",
    "]\n",
    "\n",
    "table[floor(random() * r)][floor(random() * c)] = '9'\n",
    "table[floor(random() * r)][floor(random() * c)] = '9'\n",
    "table[floor(random() * r)][floor(random() * c)] = '6'\n",
    "\n",
    "for row in table:\n",
    "    print(''.join(row))"
   ]
  }
 ],
 "metadata": {
  "kernelspec": {
   "display_name": "SageMath 10.6",
   "language": "sage",
   "name": "SageMath-10.6"
  },
  "language_info": {
   "codemirror_mode": {
    "name": "ipython",
    "version": 3
   },
   "file_extension": ".py",
   "mimetype": "text/x-python",
   "name": "sage",
   "nbconvert_exporter": "python",
   "pygments_lexer": "ipython3",
   "version": "3.12.5"
  }
 },
 "nbformat": 4,
 "nbformat_minor": 5
}
