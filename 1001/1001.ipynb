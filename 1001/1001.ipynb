{
 "cells": [
  {
   "cell_type": "markdown",
   "id": "094cd75f",
   "metadata": {
    "vscode": {
     "languageId": "plaintext"
    }
   },
   "source": [
    "# Computer Programming 1001"
   ]
  },
  {
   "cell_type": "code",
   "execution_count": 1,
   "id": "ebacef72",
   "metadata": {},
   "outputs": [
    {
     "name": "stdout",
     "output_type": "stream",
     "text": [
      "env: SDKROOT=/Library/Developer/CommandLineTools/SDKs/MacOSX.sdk\n"
     ]
    }
   ],
   "source": [
    "# Ignore this; my laptop is so old and Apple is nasty so I need this\n",
    "sdkroot = !xcrun --show-sdk-path\n",
    "%env SDKROOT={sdkroot[0]}"
   ]
  },
  {
   "cell_type": "markdown",
   "id": "c338b201",
   "metadata": {
    "vscode": {
     "languageId": "cpp"
    }
   },
   "source": [
    "## Pointer"
   ]
  },
  {
   "cell_type": "markdown",
   "id": "6862afa4",
   "metadata": {
    "vscode": {
     "languageId": "cpp"
    }
   },
   "source": [
    "A pointer is another way to access to the memory location of a variable."
   ]
  },
  {
   "cell_type": "code",
   "execution_count": 42,
   "id": "b78e519f",
   "metadata": {
    "vscode": {
     "languageId": "cpp"
    }
   },
   "outputs": [
    {
     "name": "stdout",
     "output_type": "stream",
     "text": [
      "N: 12\n",
      "\n",
      "my_first_pointer: 0x7ff7b4591234\n",
      "*my_first_pointer: 12\n",
      "\n",
      "N = 20;\n",
      "N: 20\n",
      "my_first_pointer: 0x7ff7b4591234\n",
      "*my_first_pointer: 20\n",
      "\n",
      "*my_first_pointer = 28;\n",
      "N: 28\n",
      "my_first_pointer: 0x7ff7b4591234\n",
      "*my_first_pointer: 28\n",
      "\n"
     ]
    }
   ],
   "source": [
    "%%bash\n",
    "cat > pointer.cpp << CPPCODE\n",
    "\n",
    "#include <iostream>\n",
    "using namespace std;\n",
    "\n",
    "int main() {\n",
    "    int N = 12;\n",
    "    cout << \"N: \" << N << endl;\n",
    "    cout << endl;\n",
    "\n",
    "    int *my_first_pointer;\n",
    "    my_first_pointer = &N; // pointer to N\n",
    "    cout << \"my_first_pointer: \" << my_first_pointer << endl;\n",
    "    cout << \"*my_first_pointer: \" << *my_first_pointer << endl;\n",
    "    cout << endl;\n",
    "\n",
    "    N = 20; // change value of N\n",
    "    cout << \"N = 20;\" << endl;\n",
    "    cout << \"N: \" << N << endl;\n",
    "    cout << \"my_first_pointer: \" << my_first_pointer << endl;\n",
    "    cout << \"*my_first_pointer: \" << *my_first_pointer << endl;\n",
    "    cout << endl;\n",
    "\n",
    "    *my_first_pointer = 28; // change value of N by pointer\n",
    "    cout << \"*my_first_pointer = 28;\" << endl;\n",
    "    cout << \"N: \" << N << endl;\n",
    "    cout << \"my_first_pointer: \" << my_first_pointer << endl;\n",
    "    cout << \"*my_first_pointer: \" << *my_first_pointer << endl;\n",
    "    cout << endl;\n",
    "\n",
    "    return 0;\n",
    "}\n",
    "\n",
    "CPPCODE\n",
    "g++-14 -std=c++26 -Wall -Wextra -Wpedantic -Wshadow -Wconversion pointer.cpp -o pointer\n",
    "./pointer"
   ]
  },
  {
   "cell_type": "markdown",
   "id": "78ede956",
   "metadata": {
    "vscode": {
     "languageId": "cpp"
    }
   },
   "source": [
    "Pointers are like arrows; it points you to something useful.\n",
    "\n",
    "Multiple pointers can point to the same location.\n",
    "\n",
    "In that case, it's like google drive,\n",
    "where everyone can read and write the same file."
   ]
  },
  {
   "cell_type": "code",
   "execution_count": 43,
   "id": "6bea2234",
   "metadata": {
    "vscode": {
     "languageId": "cpp"
    }
   },
   "outputs": [
    {
     "name": "stdout",
     "output_type": "stream",
     "text": [
      "N = 12\n",
      "\n",
      "N: 12\n",
      "pointer1: 0x7ff7b97b4214\n",
      "pointer2: 0x7ff7b97b4214\n",
      "pointer3: 0x7ff7b97b4214\n",
      "*pointer1: 12\n",
      "*pointer2: 12\n",
      "*pointer3: 12\n",
      "\n",
      "N = 20;\n",
      "N: 20\n",
      "pointer1: 0x7ff7b97b4214\n",
      "pointer2: 0x7ff7b97b4214\n",
      "pointer3: 0x7ff7b97b4214\n",
      "*pointer1: 20\n",
      "*pointer2: 20\n",
      "*pointer3: 20\n",
      "\n",
      "*pointer1 = 28;\n",
      "N: 28\n",
      "pointer1: 0x7ff7b97b4214\n",
      "pointer2: 0x7ff7b97b4214\n",
      "pointer3: 0x7ff7b97b4214\n",
      "*pointer1: 28\n",
      "*pointer2: 28\n",
      "*pointer3: 28\n",
      "\n",
      "*pointer2 += 2;\n",
      "N: 30\n",
      "pointer1: 0x7ff7b97b4214\n",
      "pointer2: 0x7ff7b97b4214\n",
      "pointer3: 0x7ff7b97b4214\n",
      "*pointer1: 30\n",
      "*pointer2: 30\n",
      "*pointer3: 30\n",
      "\n",
      "*pointer3 = *pointer1 * *pointer2;\n",
      "N: 900\n",
      "pointer1: 0x7ff7b97b4214\n",
      "pointer2: 0x7ff7b97b4214\n",
      "pointer3: 0x7ff7b97b4214\n",
      "*pointer1: 900\n",
      "*pointer2: 900\n",
      "*pointer3: 900\n",
      "\n"
     ]
    }
   ],
   "source": [
    "%%bash\n",
    "cat > multipointer.cpp << CPPCODE\n",
    "\n",
    "#include <iostream>\n",
    "using namespace std;\n",
    "\n",
    "int main() {\n",
    "    int N = 12;\n",
    "    cout << \"N = \" << N << endl;\n",
    "    cout << endl;\n",
    "\n",
    "    int *pointer1;\n",
    "    int *pointer2;\n",
    "    int *pointer3;\n",
    "    pointer1 = &N; // pointer1 points to N\n",
    "    pointer2 = &N; // pointer2 also points to N\n",
    "    pointer3 = &N; // pointer3 is again pointing to N\n",
    "\n",
    "    cout << \"N: \" << N << endl;\n",
    "    cout << \"pointer1: \" << pointer1 << endl;\n",
    "    cout << \"pointer2: \" << pointer2 << endl;\n",
    "    cout << \"pointer3: \" << pointer3 << endl;\n",
    "    cout << \"*pointer1: \" << *pointer1 << endl;\n",
    "    cout << \"*pointer2: \" << *pointer2 << endl;\n",
    "    cout << \"*pointer3: \" << *pointer3 << endl;\n",
    "    cout << endl;\n",
    "\n",
    "    N = 20; // change value of N\n",
    "    cout << \"N = 20;\" << endl;\n",
    "    cout << \"N: \" << N << endl;\n",
    "    cout << \"pointer1: \" << pointer1 << endl;\n",
    "    cout << \"pointer2: \" << pointer2 << endl;\n",
    "    cout << \"pointer3: \" << pointer3 << endl;\n",
    "    cout << \"*pointer1: \" << *pointer1 << endl;\n",
    "    cout << \"*pointer2: \" << *pointer2 << endl;\n",
    "    cout << \"*pointer3: \" << *pointer3 << endl;\n",
    "    cout << endl;\n",
    "\n",
    "    *pointer1 = 28; // change value by pointer\n",
    "    cout << \"*pointer1 = 28;\" << endl;\n",
    "    cout << \"N: \" << N << endl;\n",
    "    cout << \"pointer1: \" << pointer1 << endl;\n",
    "    cout << \"pointer2: \" << pointer2 << endl;\n",
    "    cout << \"pointer3: \" << pointer3 << endl;\n",
    "    cout << \"*pointer1: \" << *pointer1 << endl;\n",
    "    cout << \"*pointer2: \" << *pointer2 << endl;\n",
    "    cout << \"*pointer3: \" << *pointer3 << endl;\n",
    "    cout << endl;\n",
    "\n",
    "    *pointer2 += 2; // change value by pointer\n",
    "    cout << \"*pointer2 += 2;\" << endl;\n",
    "    cout << \"N: \" << N << endl;\n",
    "    cout << \"pointer1: \" << pointer1 << endl;\n",
    "    cout << \"pointer2: \" << pointer2 << endl;\n",
    "    cout << \"pointer3: \" << pointer3 << endl;\n",
    "    cout << \"*pointer1: \" << *pointer1 << endl;\n",
    "    cout << \"*pointer2: \" << *pointer2 << endl;\n",
    "    cout << \"*pointer3: \" << *pointer3 << endl;\n",
    "    cout << endl;\n",
    "\n",
    "    *pointer3 = *pointer1 * *pointer2; // change value by pointer\n",
    "    cout << \"*pointer3 = *pointer1 * *pointer2;\" << endl;\n",
    "    cout << \"N: \" << N << endl;\n",
    "    cout << \"pointer1: \" << pointer1 << endl;\n",
    "    cout << \"pointer2: \" << pointer2 << endl;\n",
    "    cout << \"pointer3: \" << pointer3 << endl;\n",
    "    cout << \"*pointer1: \" << *pointer1 << endl;\n",
    "    cout << \"*pointer2: \" << *pointer2 << endl;\n",
    "    cout << \"*pointer3: \" << *pointer3 << endl;\n",
    "    cout << endl;\n",
    "\n",
    "    return 0;\n",
    "}\n",
    "\n",
    "CPPCODE\n",
    "g++-14 -std=c++26 -Wall -Wextra -Wpedantic -Wshadow -Wconversion multipointer.cpp -o multipointer\n",
    "./multipointer"
   ]
  },
  {
   "cell_type": "markdown",
   "id": "0a2532b3",
   "metadata": {
    "vscode": {
     "languageId": "cpp"
    }
   },
   "source": [
    "If you have multiple variables,\n",
    "the pointer can switch between them."
   ]
  },
  {
   "cell_type": "code",
   "execution_count": 47,
   "id": "9515dae0",
   "metadata": {
    "vscode": {
     "languageId": "cpp"
    }
   },
   "outputs": [
    {
     "name": "stdout",
     "output_type": "stream",
     "text": [
      "0x7ff7ba612224 is 12\n",
      "0x7ff7ba612220 is 14\n",
      "0x7ff7ba61221c is 16\n",
      "0x7ff7ba612218 is 18\n"
     ]
    }
   ],
   "source": [
    "%%bash\n",
    "cat > multivariate.cpp << CPPCODE\n",
    "\n",
    "#include <iostream>\n",
    "using namespace std;\n",
    "\n",
    "int main() {\n",
    "    int a = 12;\n",
    "    int b = 14;\n",
    "    int c = 16;\n",
    "    int d = 18;\n",
    "\n",
    "    int *ptr;\n",
    "\n",
    "    ptr = &a;\n",
    "    cout << ptr << \" is \" << *ptr << endl;\n",
    "    ptr = &b;\n",
    "    cout << ptr << \" is \" << *ptr << endl;\n",
    "    ptr = &c;\n",
    "    cout << ptr << \" is \" << *ptr << endl;\n",
    "    ptr = &d;\n",
    "    cout << ptr << \" is \" << *ptr << endl;\n",
    "    return 0;\n",
    "}\n",
    "\n",
    "CPPCODE\n",
    "g++-14 -std=c++26 -Wall -Wextra -Wpedantic -Wshadow -Wconversion multivariate.cpp -o multivariate\n",
    "./multivariate"
   ]
  },
  {
   "cell_type": "markdown",
   "id": "418cbe69",
   "metadata": {
    "vscode": {
     "languageId": "cpp"
    }
   },
   "source": [
    "## Pointer and memeory"
   ]
  },
  {
   "cell_type": "markdown",
   "id": "a410a8fe",
   "metadata": {
    "vscode": {
     "languageId": "cpp"
    }
   },
   "source": [
    "Same type of variables are stored next to each other in memory.\n",
    "(See previous example.)"
   ]
  },
  {
   "cell_type": "markdown",
   "id": "3b08b717",
   "metadata": {
    "vscode": {
     "languageId": "cpp"
    }
   },
   "source": [
    "Different types of variables are stored in different sections of memory.\n",
    "\n",
    "Also notice that the \"gap\" between addresses depends on the size of the variable type."
   ]
  },
  {
   "cell_type": "code",
   "execution_count": 60,
   "id": "27c37dd6",
   "metadata": {
    "vscode": {
     "languageId": "cpp"
    }
   },
   "outputs": [
    {
     "name": "stdout",
     "output_type": "stream",
     "text": [
      "sizeof(char): 1\n",
      "0x7ff7bf56f23f\n",
      "0x7ff7bf56f23e\n",
      "0x7ff7bf56f23d\n",
      "0x7ff7bf56f23c\n",
      "sizeof(short): 2\n",
      "0x7ff7bf56f23a\n",
      "0x7ff7bf56f238\n",
      "0x7ff7bf56f236\n",
      "0x7ff7bf56f234\n",
      "sizeof(int): 4\n",
      "0x7ff7bf56f230\n",
      "0x7ff7bf56f22c\n",
      "0x7ff7bf56f228\n",
      "0x7ff7bf56f224\n",
      "sizeof(long): 8\n",
      "0x7ff7bf56f218\n",
      "0x7ff7bf56f210\n",
      "0x7ff7bf56f208\n",
      "0x7ff7bf56f200\n",
      "sizeof(long long): 8\n",
      "0x7ff7bf56f1f8\n",
      "0x7ff7bf56f1f0\n",
      "0x7ff7bf56f1e8\n",
      "0x7ff7bf56f1e0\n",
      "sizeof(float): 4\n",
      "0x7ff7bf56f1dc\n",
      "0x7ff7bf56f1d8\n",
      "0x7ff7bf56f1d4\n",
      "0x7ff7bf56f1d0\n",
      "sizeof(double): 8\n",
      "0x7ff7bf56f1c8\n",
      "0x7ff7bf56f1c0\n",
      "0x7ff7bf56f1b8\n",
      "0x7ff7bf56f1b0\n",
      "sizeof(long double): 16\n",
      "0x7ff7bf56f1a0\n",
      "0x7ff7bf56f190\n",
      "0x7ff7bf56f180\n",
      "0x7ff7bf56f170\n"
     ]
    }
   ],
   "source": [
    "%%bash\n",
    "cat > sizeof.cpp << CPPCODE\n",
    "\n",
    "#include <iostream>\n",
    "using namespace std;\n",
    "\n",
    "int main() {\n",
    "    char c1, c2, c3, c4;\n",
    "    short s1, s2, s3, s4;\n",
    "    int i1, i2, i3, i4;\n",
    "    long l1, l2, l3, l4;\n",
    "    long long L1, L2, L3, L4;\n",
    "    float f1, f2, f3, f4;\n",
    "    double d1, d2, d3, d4;\n",
    "    long double D1, D2, D3, D4;\n",
    "    \n",
    "    cout << \"sizeof(char): \" << sizeof(c1) << endl;\n",
    "    cout << (void*)&c1 << \"\\n\" << (void*)&c2 << \"\\n\" << (void*)&c3 << \"\\n\" << (void*)&c4 << endl;\n",
    "\n",
    "    cout << \"sizeof(short): \" << sizeof(s1) << endl;\n",
    "    cout << &s1 << \"\\n\" << &s2 << \"\\n\" << &s3 << \"\\n\" << &s4 << endl;\n",
    "    \n",
    "    cout << \"sizeof(int): \" << sizeof(i1) << endl;\n",
    "    cout << &i1 << \"\\n\" << &i2 << \"\\n\" << &i3 << \"\\n\" << &i4 << endl;\n",
    "\n",
    "    cout << \"sizeof(long): \" << sizeof(l1) << endl;\n",
    "    cout << &l1 << \"\\n\" << &l2 << \"\\n\" << &l3 << \"\\n\" << &l4 << endl;\n",
    "\n",
    "    cout << \"sizeof(long long): \" << sizeof(L1) << endl;\n",
    "    cout << &L1 << \"\\n\" << &L2 << \"\\n\" << &L3 << \"\\n\" << &L4 << endl;\n",
    "\n",
    "    cout << \"sizeof(float): \" << sizeof(f1) << endl;\n",
    "    cout << &f1 << \"\\n\" << &f2 << \"\\n\" << &f3 << \"\\n\" << &f4 << endl;\n",
    "\n",
    "    cout << \"sizeof(double): \" << sizeof(d1) << endl;\n",
    "    cout << &d1 << \"\\n\" << &d2 << \"\\n\" << &d3 << \"\\n\" << &d4 << endl;\n",
    "\n",
    "    cout << \"sizeof(long double): \" << sizeof(D1) << endl;\n",
    "    cout << &D1 << \"\\n\" << &D2 << \"\\n\" << &D3 << \"\\n\" << &D4 << endl;\n",
    "\n",
    "    return 0;\n",
    "}\n",
    "\n",
    "CPPCODE\n",
    "g++-14 -std=c++26 -Wall -Wextra -Wpedantic -Wshadow -Wconversion sizeof.cpp -o sizeof\n",
    "./sizeof"
   ]
  },
  {
   "cell_type": "markdown",
   "id": "59b6fc00",
   "metadata": {
    "vscode": {
     "languageId": "cpp"
    }
   },
   "source": [
    "The memory is a mess if you mix types."
   ]
  },
  {
   "cell_type": "code",
   "execution_count": 71,
   "id": "c7ac19c9",
   "metadata": {
    "vscode": {
     "languageId": "cpp"
    }
   },
   "outputs": [
    {
     "name": "stdout",
     "output_type": "stream",
     "text": [
      "The first copy\n",
      "0x7ff7b88f322f\n",
      "0x7ff7b88f322c\n",
      "0x7ff7b88f3228\n",
      "0x7ff7b88f3220\n",
      "0x7ff7b88f3218\n",
      "0x7ff7b88f3214\n",
      "0x7ff7b88f3208\n",
      "0x7ff7b88f31f0\n",
      "\n",
      "The second copy\n",
      "0x7ff7b88f31ef\n",
      "0x7ff7b88f31ec\n",
      "0x7ff7b88f31e8\n",
      "0x7ff7b88f31e0\n",
      "0x7ff7b88f31d8\n",
      "0x7ff7b88f31d4\n",
      "0x7ff7b88f31c8\n",
      "0x7ff7b88f31b0\n",
      "\n",
      "The third copy\n",
      "0x7ff7b88f31af\n",
      "0x7ff7b88f31ac\n",
      "0x7ff7b88f31a8\n",
      "0x7ff7b88f31a0\n",
      "0x7ff7b88f3198\n",
      "0x7ff7b88f3194\n",
      "0x7ff7b88f3188\n",
      "0x7ff7b88f3170\n",
      "\n",
      "The fourth copy\n",
      "0x7ff7b88f316f\n",
      "0x7ff7b88f316c\n",
      "0x7ff7b88f3168\n",
      "0x7ff7b88f3160\n",
      "0x7ff7b88f3158\n",
      "0x7ff7b88f3154\n",
      "0x7ff7b88f3148\n",
      "0x7ff7b88f3130\n",
      "\n"
     ]
    }
   ],
   "source": [
    "%%bash\n",
    "cat > continuous.cpp << CPPCODE\n",
    "\n",
    "#include <iostream>\n",
    "using namespace std;\n",
    "\n",
    "int main() {\n",
    "    char c1; short s1; int i1; long l1; long long L1; float f1; double d1; long double D1;\n",
    "    char c2; short s2; int i2; long l2; long long L2; float f2; double d2; long double D2;\n",
    "    char c3; short s3; int i3; long l3; long long L3; float f3; double d3; long double D3;\n",
    "    char c4; short s4; int i4; long l4; long long L4; float f4; double d4; long double D4;\n",
    "    \n",
    "    cout << \"The first copy\" << endl;\n",
    "    cout << (void*)&c1 << \"\\n\" << &s1 << \"\\n\" << &i1 << \"\\n\" << &l1 << \"\\n\" << &L1 << \"\\n\" << &f1 << \"\\n\" << &d1 << \"\\n\" << &D1 << endl;\n",
    "    cout << endl;\n",
    "\n",
    "    cout << \"The second copy\" << endl;\n",
    "    cout << (void*)&c2 << \"\\n\" << &s2 << \"\\n\" << &i2 << \"\\n\" << &l2 << \"\\n\" << &L2 << \"\\n\" << &f2 << \"\\n\" << &d2 << \"\\n\" << &D2 << endl;\n",
    "    cout << endl;\n",
    "\n",
    "    cout << \"The third copy\" << endl;\n",
    "    cout << (void*)&c3 << \"\\n\" << &s3 << \"\\n\" << &i3 << \"\\n\" << &l3 << \"\\n\" << &L3 << \"\\n\" << &f3 << \"\\n\" << &d3 << \"\\n\" << &D3 << endl;\n",
    "    cout << endl;\n",
    "\n",
    "    cout << \"The fourth copy\" << endl;\n",
    "    cout << (void*)&c4 << \"\\n\" << &s4 << \"\\n\" << &i4 << \"\\n\" << &l4 << \"\\n\" << &L4 << \"\\n\" << &f4 << \"\\n\" << &d4 << \"\\n\" << &D4 << endl;\n",
    "    cout << endl;\n",
    "\n",
    "    return 0;\n",
    "}\n",
    "\n",
    "CPPCODE\n",
    "g++-14 -std=c++26 -Wall -Wextra -Wpedantic -Wshadow -Wconversion continuous.cpp -o continuous\n",
    "./continuous"
   ]
  },
  {
   "cell_type": "markdown",
   "id": "0b73c215",
   "metadata": {
    "vscode": {
     "languageId": "cpp"
    }
   },
   "source": [
    "The compiler will rearrange the memory starting from -O2"
   ]
  },
  {
   "cell_type": "code",
   "execution_count": 69,
   "id": "71eae9c2",
   "metadata": {
    "vscode": {
     "languageId": "cpp"
    }
   },
   "outputs": [
    {
     "name": "stdout",
     "output_type": "stream",
     "text": [
      "sizeof(char): 1\n",
      "0x7ff7b83fe154\n",
      "0x7ff7b83fe155\n",
      "0x7ff7b83fe156\n",
      "0x7ff7b83fe157\n",
      "sizeof(short): 2\n",
      "0x7ff7b83fe158\n",
      "0x7ff7b83fe15a\n",
      "0x7ff7b83fe15c\n",
      "0x7ff7b83fe15e\n",
      "sizeof(int): 4\n",
      "0x7ff7b83fe160\n",
      "0x7ff7b83fe168\n",
      "0x7ff7b83fe170\n",
      "0x7ff7b83fe178\n",
      "sizeof(long): 8\n",
      "0x7ff7b83fe180\n",
      "0x7ff7b83fe198\n",
      "0x7ff7b83fe1b0\n",
      "0x7ff7b83fe1c8\n",
      "sizeof(long long): 8\n",
      "0x7ff7b83fe188\n",
      "0x7ff7b83fe1a0\n",
      "0x7ff7b83fe1b8\n",
      "0x7ff7b83fe1d0\n",
      "sizeof(float): 4\n",
      "0x7ff7b83fe164\n",
      "0x7ff7b83fe16c\n",
      "0x7ff7b83fe174\n",
      "0x7ff7b83fe17c\n",
      "sizeof(double): 8\n",
      "0x7ff7b83fe190\n",
      "0x7ff7b83fe1a8\n",
      "0x7ff7b83fe1c0\n",
      "0x7ff7b83fe1d8\n",
      "sizeof(long double): 16\n",
      "0x7ff7b83fe1e0\n",
      "0x7ff7b83fe1f0\n",
      "0x7ff7b83fe200\n",
      "0x7ff7b83fe210\n"
     ]
    }
   ],
   "source": [
    "%%bash\n",
    "cat > continuous.cpp << CPPCODE\n",
    "\n",
    "#include <iostream>\n",
    "using namespace std;\n",
    "\n",
    "int main() {\n",
    "    char c1; short s1; int i1; long l1; long long L1; float f1; double d1; long double D1;\n",
    "    char c2; short s2; int i2; long l2; long long L2; float f2; double d2; long double D2;\n",
    "    char c3; short s3; int i3; long l3; long long L3; float f3; double d3; long double D3;\n",
    "    char c4; short s4; int i4; long l4; long long L4; float f4; double d4; long double D4;\n",
    "    \n",
    "    cout << \"sizeof(char): \" << sizeof(c1) << endl;\n",
    "    cout << (void*)&c1 << \"\\n\" << (void*)&c2 << \"\\n\" << (void*)&c3 << \"\\n\" << (void*)&c4 << endl;\n",
    "\n",
    "    cout << \"sizeof(short): \" << sizeof(s1) << endl;\n",
    "    cout << &s1 << \"\\n\" << &s2 << \"\\n\" << &s3 << \"\\n\" << &s4 << endl;\n",
    "    \n",
    "    cout << \"sizeof(int): \" << sizeof(i1) << endl;\n",
    "    cout << &i1 << \"\\n\" << &i2 << \"\\n\" << &i3 << \"\\n\" << &i4 << endl;\n",
    "\n",
    "    cout << \"sizeof(long): \" << sizeof(l1) << endl;\n",
    "    cout << &l1 << \"\\n\" << &l2 << \"\\n\" << &l3 << \"\\n\" << &l4 << endl;\n",
    "\n",
    "    cout << \"sizeof(long long): \" << sizeof(L1) << endl;\n",
    "    cout << &L1 << \"\\n\" << &L2 << \"\\n\" << &L3 << \"\\n\" << &L4 << endl;\n",
    "\n",
    "    cout << \"sizeof(float): \" << sizeof(f1) << endl;\n",
    "    cout << &f1 << \"\\n\" << &f2 << \"\\n\" << &f3 << \"\\n\" << &f4 << endl;\n",
    "\n",
    "    cout << \"sizeof(double): \" << sizeof(d1) << endl;\n",
    "    cout << &d1 << \"\\n\" << &d2 << \"\\n\" << &d3 << \"\\n\" << &d4 << endl;\n",
    "\n",
    "    cout << \"sizeof(long double): \" << sizeof(D1) << endl;\n",
    "    cout << &D1 << \"\\n\" << &D2 << \"\\n\" << &D3 << \"\\n\" << &D4 << endl;\n",
    "\n",
    "    return 0;\n",
    "}\n",
    "\n",
    "CPPCODE\n",
    "g++-14 -std=c++26 -Wall -Wextra -Wpedantic -Wshadow -Wconversion continuous.cpp -O2 -o continuous\n",
    "./continuous"
   ]
  },
  {
   "cell_type": "markdown",
   "id": "3aa6d36b",
   "metadata": {
    "vscode": {
     "languageId": "cpp"
    }
   },
   "source": [
    "## Pointer and array"
   ]
  },
  {
   "cell_type": "markdown",
   "id": "42707059",
   "metadata": {
    "vscode": {
     "languageId": "cpp"
    }
   },
   "source": [
    "But can you explain this?"
   ]
  },
  {
   "cell_type": "code",
   "execution_count": 57,
   "id": "192d3e3c",
   "metadata": {
    "vscode": {
     "languageId": "cpp"
    }
   },
   "outputs": [
    {
     "name": "stdout",
     "output_type": "stream",
     "text": [
      "sizeof(char): 1\n",
      "1 1 1\n",
      "sizeof(short): 2\n",
      "1 1 1\n",
      "sizeof(:4\n",
      "1 1 1\n",
      "sizeof(long): 8\n",
      "1 1 1\n",
      "sizeof(long long): 8\n",
      "1 1 1\n",
      "sizeof(float): 4\n",
      "1 1 1\n",
      "sizeof(double): 8\n",
      "1 1 1\n",
      "sizeof(long double): 16\n",
      "1 1 1\n"
     ]
    }
   ],
   "source": [
    "%%bash\n",
    "cat > sizeof.cpp << CPPCODE\n",
    "\n",
    "#include <iostream>\n",
    "using namespace std;\n",
    "\n",
    "int main() {\n",
    "    char c1, c2, c3, c4;\n",
    "    short s1, s2, s3, s4;\n",
    "    int i1, i2, i3, i4;\n",
    "    long l1, l2, l3, l4;\n",
    "    long long L1, L2, L3, L4;\n",
    "    float f1, f2, f3, f4;\n",
    "    double d1, d2, d3, d4;\n",
    "    long double D1, D2, D3, D4;\n",
    "    \n",
    "    cout << \"sizeof(char): \" << sizeof(c1) << endl;\n",
    "    cout << &c1 - &c2 << \" \" << &c2 - &c3 << \" \" << &c3 - &c4 << endl;\n",
    "\n",
    "    cout << \"sizeof(short): \" << sizeof(s1) << endl;\n",
    "    cout << &s1 - &s2 << \" \" << &s2 - &s3 << \" \" << &s3 - &s4 << endl;\n",
    "    \n",
    "    cout << \"sizeof(:\" << sizeof(i1) << endl;\n",
    "    cout << &i1 - &i2 << \" \" << &i2 - &i3 << \" \" << &i3 - &i4 << endl;\n",
    "\n",
    "    cout << \"sizeof(long): \" << sizeof(l1) << endl;\n",
    "    cout << &l1 - &l2 << \" \" << &l2 - &l3 << \" \" << &l3 - &l4 << endl;\n",
    "\n",
    "    cout << \"sizeof(long long): \" << sizeof(L1) << endl;\n",
    "    cout << &L1 - &L2 << \" \" << &L2 - &L3 << \" \" << &L3 - &L4 << endl;\n",
    "\n",
    "    cout << \"sizeof(float): \" << sizeof(f1) << endl;\n",
    "    cout << &f1 - &f2 << \" \" << &f2 - &f3 << \" \" << &f3 - &f4 << endl;\n",
    "\n",
    "    cout << \"sizeof(double): \" << sizeof(d1) << endl;\n",
    "    cout << &d1 - &d2 << \" \" << &d2 - &d3 << \" \" << &d3 - &d4 << endl;\n",
    "\n",
    "    cout << \"sizeof(long double): \" << sizeof(D1) << endl;\n",
    "    cout << &D1 - &D2 << \" \" << &D2 - &D3 << \" \" << &D3 - &D4 << endl;\n",
    "\n",
    "    return 0;\n",
    "}\n",
    "\n",
    "CPPCODE\n",
    "g++-14 -std=c++26 -Wall -Wextra -Wpedantic -Wshadow -Wconversion sizeof.cpp -o sizeof\n",
    "./sizeof <<< \"999\""
   ]
  },
  {
   "cell_type": "markdown",
   "id": "6dfb1a49",
   "metadata": {
    "vscode": {
     "languageId": "cpp"
    }
   },
   "source": [
    "As it turns out, an array is just continuous memory of same type variables.\n",
    "\n",
    "A[0] is the same as *(A + 0),  \n",
    "A[1] is the same as *(A + 1),  \n",
    "A[2] is the same as *(A + 2),\n",
    "..."
   ]
  },
  {
   "cell_type": "code",
   "execution_count": 75,
   "id": "39945a8f",
   "metadata": {
    "vscode": {
     "languageId": "cpp"
    }
   },
   "outputs": [
    {
     "name": "stdout",
     "output_type": "stream",
     "text": [
      "0x7ff7bca3d0b0\n",
      "0x7ff7bca3d0b0\n",
      "\n",
      "0x7ff7bca3d0b4\n",
      "0x7ff7bca3d0b4\n",
      "\n",
      "0x7ff7bca3d0b8\n",
      "0x7ff7bca3d0b8\n",
      "\n",
      "0x7ff7bca3d0bc\n",
      "0x7ff7bca3d0bc\n",
      "\n",
      "0x7ff7bca3d0c0\n",
      "0x7ff7bca3d0c0\n",
      "\n"
     ]
    }
   ],
   "source": [
    "%%bash\n",
    "cat > array.cpp << CPPCODE\n",
    "\n",
    "#include <iostream>\n",
    "using namespace std;\n",
    "\n",
    "int main() {\n",
    "    int A[100] = {};\n",
    "    \n",
    "    cout << A << endl;\n",
    "    cout << &A[0] << endl;\n",
    "    cout << endl;\n",
    "\n",
    "    cout << A + 1 << endl;\n",
    "    cout << &A[1] << endl;\n",
    "    cout << endl;\n",
    "\n",
    "    cout << A + 2 << endl;\n",
    "    cout << &A[2] << endl;\n",
    "    cout << endl;\n",
    "\n",
    "    cout << A + 3 << endl;\n",
    "    cout << &A[3] << endl;\n",
    "    cout << endl;\n",
    "\n",
    "    cout << A + 4 << endl;\n",
    "    cout << &A[4] << endl;\n",
    "    cout << endl;\n",
    "\n",
    "    return 0;\n",
    "}\n",
    "\n",
    "CPPCODE\n",
    "g++-14 -std=c++26 -Wall -Wextra -Wpedantic -Wshadow -Wconversion array.cpp -o array\n",
    "./array"
   ]
  },
  {
   "cell_type": "code",
   "execution_count": 78,
   "id": "d77a88df",
   "metadata": {
    "vscode": {
     "languageId": "cpp"
    }
   },
   "outputs": [
    {
     "name": "stdout",
     "output_type": "stream",
     "text": [
      "0x7ff7bf9af0b0\n",
      "0x7ff7bf9af0b0\n",
      "0x7ff7bf9af0b0\n",
      "\n",
      "0x7ff7bf9af0b4\n",
      "0x7ff7bf9af0b4\n",
      "0x7ff7bf9af0b4\n",
      "\n",
      "0x7ff7bf9af0b8\n",
      "0x7ff7bf9af0b8\n",
      "0x7ff7bf9af0b8\n",
      "\n",
      "0x7ff7bf9af0bc\n",
      "0x7ff7bf9af0bc\n",
      "0x7ff7bf9af0bc\n",
      "\n",
      "0x7ff7bf9af0c0\n",
      "0x7ff7bf9af0c0\n",
      "0x7ff7bf9af0c0\n",
      "\n"
     ]
    }
   ],
   "source": [
    "%%bash\n",
    "cat > what.cpp << CPPCODE\n",
    "\n",
    "#include <iostream>\n",
    "using namespace std;\n",
    "\n",
    "int main() {\n",
    "    int A[100] = {};\n",
    "    \n",
    "    cout << A << endl;\n",
    "    cout << &A[0] << endl;\n",
    "    cout << &0[A] << endl;\n",
    "    cout << endl;\n",
    "\n",
    "    cout << A + 1 << endl;\n",
    "    cout << &A[1] << endl;\n",
    "    cout << &1[A] << endl;\n",
    "    cout << endl;\n",
    "\n",
    "    cout << A + 2 << endl;\n",
    "    cout << &A[2] << endl;\n",
    "    cout << &2[A] << endl;\n",
    "    cout << endl;\n",
    "    \n",
    "    cout << A + 3 << endl;\n",
    "    cout << &A[3] << endl;\n",
    "    cout << &3[A] << endl;\n",
    "    cout << endl;\n",
    "    \n",
    "    cout << A + 4 << endl;\n",
    "    cout << &A[4] << endl;\n",
    "    cout << &4[A] << endl;\n",
    "    cout << endl;\n",
    "\n",
    "    return 0;\n",
    "}\n",
    "\n",
    "CPPCODE\n",
    "g++-14 -std=c++26 -Wall -Wextra -Wpedantic -Wshadow -Wconversion what.cpp -o what\n",
    "./what"
   ]
  },
  {
   "cell_type": "markdown",
   "id": "03d13cbc",
   "metadata": {
    "vscode": {
     "languageId": "cpp"
    }
   },
   "source": [
    "## The type theory of arrays"
   ]
  },
  {
   "cell_type": "markdown",
   "id": "ea34accc",
   "metadata": {
    "vscode": {
     "languageId": "cpp"
    }
   },
   "source": [
    "Arrays of different sizes all have unique types.\n",
    "That is, the length information is part of the type."
   ]
  },
  {
   "cell_type": "code",
   "execution_count": 97,
   "id": "fdae3e16",
   "metadata": {
    "vscode": {
     "languageId": "cpp"
    }
   },
   "outputs": [
    {
     "name": "stderr",
     "output_type": "stream",
     "text": [
      "typeof.cpp: In function 'float func(char, int, long long int)':\n",
      "typeof.cpp:7:24: error: expected ';' before 'return'\n",
      "    7 |     cout << x << y << z\n",
      "      |                        ^\n",
      "      |                        ;\n",
      "    8 |     return 3.14;\n",
      "      |     ~~~~~~              \n",
      "typeof.cpp:9:1: warning: no return statement in function returning non-void [-Wreturn-type]\n",
      "    9 | }\n",
      "      | ^\n"
     ]
    },
    {
     "name": "stdout",
     "output_type": "stream",
     "text": [
      "typeid(n).name(): i\n",
      "typeid(p).name(): Pi\n",
      "typeid(d).name(): d\n",
      "typeid(fs).name(): A10_f\n",
      "typeid(fs + 1).name(): Pf\n",
      "typeid(css).name(): A20_A30_c\n",
      "typeid(func).name(): FfcixE\n",
      "\n"
     ]
    }
   ],
   "source": [
    "%%bash\n",
    "cat > typeof.cpp <<'CPPCODE'\n",
    "\n",
    "#include <iostream>\n",
    "#include <typeinfo>\n",
    "using namespace std;\n",
    "\n",
    "float func(char x, int y, long long z) {\n",
    "    cout << x << y << z\n",
    "    return 3.14;\n",
    "}\n",
    "\n",
    "int main() {\n",
    "    int n = 42;\n",
    "    int *p;\n",
    "    double d = 3.14;\n",
    "    float fs[10];\n",
    "    char css[20][30];\n",
    "\n",
    "    std::cout << \"typeid(n).name(): \" << typeid(n).name() << endl;\n",
    "    std::cout << \"typeid(p).name(): \" << typeid(p).name() << endl;\n",
    "    std::cout << \"typeid(d).name(): \" << typeid(d).name() << endl;\n",
    "    std::cout << \"typeid(fs).name(): \" << typeid(fs).name() << endl;\n",
    "    std::cout << \"typeid(fs + 1).name(): \" << typeid(fs + 1).name() << endl;\n",
    "    std::cout << \"typeid(css).name(): \" << typeid(css).name() << endl;\n",
    "    std::cout << \"typeid(func).name(): \" << typeid(func).name() << endl;\n",
    "    std::cout << endl;\n",
    "\n",
    "    return 0;\n",
    "}\n",
    "\n",
    "CPPCODE\n",
    "g++-14 -std=c++26 -Wall -Wextra -Wpedantic -Wshadow -Wconversion typeof.cpp -o typeof\n",
    "./typeof"
   ]
  },
  {
   "cell_type": "markdown",
   "id": "60e4bf1b",
   "metadata": {
    "vscode": {
     "languageId": "cpp"
    }
   },
   "source": [
    "This is why functions taking arrays as parameters need to specify the size.\n",
    "\n",
    "```C++\n",
    "float f(int A[10]) {\n",
    "    return A[0];\n",
    "}\n",
    "\n",
    "float f(int A[10][20]) {\n",
    "    return A[0][0];\n",
    "}\n",
    "\n",
    "float f(int A[10][20][30]) {\n",
    "    return A[0][0][0];\n",
    "}\n",
    "```"
   ]
  },
  {
   "cell_type": "markdown",
   "id": "e261684f",
   "metadata": {
    "vscode": {
     "languageId": "cpp"
    }
   },
   "source": [
    "Except I lied.\n",
    "The outmost array dimension is ignored and\n",
    "A is treated as a pointer to the remaining type.\n",
    "\n",
    "So, in particular, the following are equivalent.\n",
    "\n",
    "```C++\n",
    "float f1(int A[10]) {\n",
    "    return A[0];\n",
    "}\n",
    "float f2(int A[]) {\n",
    "    return A[0];\n",
    "}\n",
    "float f3(int *A) {\n",
    "    return A[0];\n",
    "}\n",
    "```"
   ]
  },
  {
   "cell_type": "markdown",
   "id": "78e7f963",
   "metadata": {
    "vscode": {
     "languageId": "cpp"
    }
   },
   "source": [
    "Note that I only say \"the outmost array dimension\".\n",
    "\n",
    "The inner dimensions are still part of the type.\n",
    "\n",
    "```C++\n",
    "float f(int A[][20]) {\n",
    "    return A[0][0];\n",
    "}\n",
    "float f(int A[10][20]) {\n",
    "    return A[0][0];\n",
    "}\n",
    "float f(int (*A)[20]) {\n",
    "    return A[0][0];\n",
    "}\n",
    "```"
   ]
  },
  {
   "cell_type": "markdown",
   "id": "236a6acb",
   "metadata": {
    "vscode": {
     "languageId": "cpp"
    }
   },
   "source": [
    "I don't want to know why the out-most dimension is ignored.\n",
    "But it makes a lot of sense that the inner dimensions are still part of the type:\n",
    "it is used to compute the memory offset.\n",
    "\n",
    "(And the dimension of the outmost axis is not needed for offset.\n",
    "So maybe it does no harm to ignore it.)\n",
    "\n",
    "```C++\n",
    "int A[10][20];\n",
    "cout << A[i][j] << endl; // A + i * 20 + j\n",
    "\n",
    "int B[100][200];\n",
    "cout << B[i][j] << endl; // B + i * 200 + j\n",
    "```"
   ]
  },
  {
   "cell_type": "markdown",
   "id": "e4beb88b",
   "metadata": {
    "vscode": {
     "languageId": "cpp"
    }
   },
   "source": [
    "For three dimension it's the same story.\n",
    "\n",
    "```C++\n",
    "int C[10][20][30];\n",
    "cout << C[i][j][k] << endl; // C + (i * 20 + j) * 30 + k\n",
    "\n",
    "int D[100][200][300];\n",
    "cout << D[i][j][k] << endl; // D + (i * 200 + j) * 300 + k\n",
    "\n",
    "```"
   ]
  },
  {
   "cell_type": "markdown",
   "id": "6b3dcf40",
   "metadata": {
    "vscode": {
     "languageId": "cpp"
    }
   },
   "source": [
    "Try to explain this"
   ]
  },
  {
   "cell_type": "code",
   "execution_count": 112,
   "id": "6c5eb9c7",
   "metadata": {
    "vscode": {
     "languageId": "cpp"
    }
   },
   "outputs": [
    {
     "name": "stdout",
     "output_type": "stream",
     "text": [
      "0x7ff7b96f4edc\n",
      "0x7ff7b96f4edc\n",
      "0x7ff7b96f4edc\n",
      "0x7ff7b96f4edc\n",
      "0x7ff7b96f4edc\n",
      "0x7ff7b96f4edc\n",
      "0x7ff7b96f4edc\n",
      "0x7ff7b96f4edc\n"
     ]
    }
   ],
   "source": [
    "%%bash\n",
    "cat > bracket.cpp <<'CPPCODE'\n",
    "\n",
    "#include <iostream>\n",
    "using namespace std;\n",
    "\n",
    "int main() {\n",
    "    int A[10][20][30] = {};\n",
    "\n",
    "    cout << &A[1][2][3] << endl;\n",
    "    cout << &1[A][2][3] << endl;\n",
    "    cout << &2[A[1]][3] << endl;\n",
    "    cout << &2[1[A]][3] << endl;\n",
    "    cout << &3[A[1][2]] << endl;\n",
    "    cout << &3[1[A][2]] << endl;\n",
    "    cout << &3[2[A[1]]] << endl;\n",
    "    cout << &3[2[1[A]]] << endl;\n",
    "    \n",
    "    return 0;\n",
    "}\n",
    "\n",
    "CPPCODE\n",
    "g++-14 -std=c++26 -Wall -Wextra -Wpedantic -Wshadow -Wconversion bracket.cpp -o bracket\n",
    "./bracket"
   ]
  },
  {
   "cell_type": "markdown",
   "id": "a8f9b333",
   "metadata": {
    "vscode": {
     "languageId": "cpp"
    }
   },
   "source": [
    "## pointer of pointer of pointer of ..."
   ]
  },
  {
   "cell_type": "markdown",
   "id": "e76d1a45",
   "metadata": {
    "vscode": {
     "languageId": "cpp"
    }
   },
   "source": [
    "An arrow may point to another arrow.\n",
    "It just mean that you are not reaching the final destination yet.\n",
    "You should keep following the arrow until you reach the actual value."
   ]
  },
  {
   "cell_type": "code",
   "execution_count": 111,
   "id": "15854f15",
   "metadata": {
    "vscode": {
     "languageId": "cpp"
    }
   },
   "outputs": [
    {
     "name": "stdout",
     "output_type": "stream",
     "text": [
      "42\n",
      "42 0x7ff7bd1fd234\n",
      "42 0x7ff7bd1fd234 0x7ff7bd1fd228\n",
      "42 0x7ff7bd1fd234 0x7ff7bd1fd228 0x7ff7bd1fd220\n",
      "42 0x7ff7bd1fd234 0x7ff7bd1fd228 0x7ff7bd1fd220 0x7ff7bd1fd218\n"
     ]
    }
   ],
   "source": [
    "%%bash\n",
    "cat > p2p2p.cpp <<'CPPCODE'\n",
    "\n",
    "#include <iostream>\n",
    "using namespace std;\n",
    "\n",
    "int main() {\n",
    "    int a;\n",
    "    int *b;\n",
    "    int **c;\n",
    "    int ***d;\n",
    "    int ****e;\n",
    "\n",
    "    a = 42;\n",
    "    b = &a;\n",
    "    c = &b;\n",
    "    d = &c;\n",
    "    e = &d;\n",
    "\n",
    "    cout << a << endl;\n",
    "    cout << *b << \" \" << b << endl;\n",
    "    cout << **c << \" \" << *c << \" \" << c << endl;\n",
    "    cout << ***d << \" \" << **d << \" \" << *d << \" \" << d << endl;\n",
    "    cout << ****e << \" \" << ***e << \" \" << **e << \" \" << *e << \" \" << e << endl;\n",
    "\n",
    "    return 0;\n",
    "}\n",
    "\n",
    "CPPCODE\n",
    "g++-14 -std=c++26 -Wall -Wextra -Wpedantic -Wshadow -Wconversion p2p2p.cpp -o p2p2p\n",
    "./p2p2p"
   ]
  },
  {
   "cell_type": "code",
   "execution_count": 110,
   "id": "3b7b5827",
   "metadata": {
    "vscode": {
     "languageId": "cpp"
    }
   },
   "outputs": [
    {
     "name": "stdout",
     "output_type": "stream",
     "text": [
      "11 22 33\n",
      "22 11 33\n",
      "22 33 11\n",
      "11 33 22\n",
      "11 22 33\n",
      "11 33 22\n",
      "22 33 11\n"
     ]
    }
   ],
   "source": [
    "%%bash\n",
    "cat > maze.cpp <<'CPPCODE'\n",
    "\n",
    "#include <iostream>\n",
    "using namespace std;\n",
    "\n",
    "int main() {\n",
    "    int a1, a2, a3;\n",
    "    a1 = 11;\n",
    "    a2 = 22;\n",
    "    a3 = 33;\n",
    "    int *b1, *b2, *b3;\n",
    "    b1 = &a1;\n",
    "    b2 = &a2;\n",
    "    b3 = &a3;\n",
    "    int **c1, **c2, **c3;\n",
    "    c1 = &b1;\n",
    "    c2 = &b2;\n",
    "    c3 = &b3;\n",
    "    cout << **c1 << \" \" << **c2 << \" \" << **c3 << endl;\n",
    "    swap(a1, a2);\n",
    "    cout << **c1 << \" \" << **c2 << \" \" << **c3 << endl;\n",
    "    swap(b2, b3);\n",
    "    cout << **c1 << \" \" << **c2 << \" \" << **c3 << endl;\n",
    "    swap(c1, c3);\n",
    "    cout << **c1 << \" \" << **c2 << \" \" << **c3 << endl;\n",
    "    swap(*b1, *b2);\n",
    "    cout << **c1 << \" \" << **c2 << \" \" << **c3 << endl;\n",
    "    swap(*c2, *c3);\n",
    "    cout << **c1 << \" \" << **c2 << \" \" << **c3 << endl;\n",
    "    swap(**c1, **c3);\n",
    "    cout << **c1 << \" \" << **c2 << \" \" << **c3 << endl;\n",
    "    return 0;\n",
    "}\n",
    "\n",
    "CPPCODE\n",
    "g++-14 -std=c++26 -Wall -Wextra -Wpedantic -Wshadow -Wconversion maze.cpp -o maze\n",
    "./maze"
   ]
  },
  {
   "cell_type": "markdown",
   "id": "291bd988",
   "metadata": {
    "vscode": {
     "languageId": "cpp"
    }
   },
   "source": [
    "## Struct"
   ]
  },
  {
   "cell_type": "code",
   "execution_count": 116,
   "id": "da6491e6",
   "metadata": {
    "vscode": {
     "languageId": "cpp"
    }
   },
   "outputs": [
    {
     "name": "stdout",
     "output_type": "stream",
     "text": [
      "Z1 is 1 + 2i"
     ]
    }
   ],
   "source": [
    "%%bash\n",
    "cat > complex.cpp <<'CPPCODE'\n",
    "\n",
    "#include <iostream>\n",
    "#include <string>\n",
    "using namespace std;\n",
    "\n",
    "struct ComplexNumber {\n",
    "    float real_part;\n",
    "    float imaginary_part;\n",
    "};\n",
    "\n",
    "void PrintComplex (struct ComplexNumber Z) {\n",
    "    cout << Z.real_part\n",
    "         << \" + \"\n",
    "         << Z.imaginary_part\n",
    "         << \"i\"\n",
    "         << endl;\n",
    "}\n",
    "\n",
    "string ComplexToString (struct ComplexNumber Z) {\n",
    "    string result =\n",
    "        to_string(Z.real_part)\n",
    "        + \" + \"\n",
    "        + to_string(Z.imaginary_part)\n",
    "        + \"i\";\n",
    "    return result;\n",
    "}\n",
    "\n",
    "int main() {\n",
    "    struct ComplexNumber Z1;\n",
    "    Z1.real_part = 1.0;\n",
    "    Z1.imaginary_part = 2.0;\n",
    "    cout << \"Z1 is \" << ComplexToString(Z1);\n",
    "    \n",
    "    return 0;\n",
    "}\n",
    "\n",
    "CPPCODE\n",
    "g++-14 -std=c++26 -Wall -Wextra -Wpedantic -Wshadow -Wconversion complex.cpp -o complex\n",
    "./complex\n"
   ]
  },
  {
   "cell_type": "code",
   "execution_count": 123,
   "id": "8ce03a9d",
   "metadata": {
    "vscode": {
     "languageId": "cpp"
    }
   },
   "outputs": [
    {
     "name": "stderr",
     "output_type": "stream",
     "text": [
      "golden.cpp: In function 'int main()':\n",
      "golden.cpp:35:61: warning: conversion from 'double' to 'float' may change value [-Wfloat-conversion]\n",
      "   35 |             float theta = ndx * 2 * 3.14159 * (sqrt(5) - 1) / 2;\n",
      "      |                           ~~~~~~~~~~~~~~~~~~~~~~~~~~~~~~~~~~^~~\n",
      "golden.cpp:36:32: warning: conversion from '__gnu_cxx::__enable_if<true, double>::__type' {aka 'double'} to 'float' may change value [-Wfloat-conversion]\n",
      "   36 |             float radius = sqrt(ndx);\n",
      "      |                            ~~~~^~~~~\n"
     ]
    },
    {
     "name": "stdout",
     "output_type": "stream",
     "text": [
      "0 + 0i\n",
      "-0.7373711 + -0.6754879i\n",
      "0.12364798 + 1.4087977i\n",
      "1.0538334 + -1.3745673i\n",
      "-1.9694223 + 0.34838998i\n",
      "1.8867141 + 1.2001292i\n",
      "-0.63594514 + -2.3654966i\n",
      "-1.2193909 + 2.347996i\n",
      "2.6567762 + -0.9703302i\n",
      "-2.7730687 + -1.1445918i\n"
     ]
    }
   ],
   "source": [
    "%%bash\n",
    "cat > golden.cpp <<'CPPCODE'\n",
    "\n",
    "#include <iostream>\n",
    "#include <string>\n",
    "#include <cmath>\n",
    "using namespace std;\n",
    "\n",
    "struct ComplexNumber {\n",
    "    float real_part;\n",
    "    float imaginary_part;\n",
    "};\n",
    "\n",
    "string ComplexToString (struct ComplexNumber Z) {\n",
    "    string result =\n",
    "        to_string(Z.real_part)\n",
    "        + \" + \"\n",
    "        + to_string(Z.imaginary_part)\n",
    "        + \"i\";\n",
    "    return result;\n",
    "}\n",
    "\n",
    "int main() {\n",
    "    struct ComplexNumber Zmany[100];\n",
    "    Zmany[0].real_part = 1.0;\n",
    "    Zmany[0].imaginary_part = 2.0;\n",
    "    Zmany[1] = {\n",
    "        .real_part = 1.0,\n",
    "        .imaginary_part = 2.0\n",
    "    };\n",
    "    Zmany[2] = {1.0, 2.0};\n",
    "\n",
    "    for (int ndx = 0; ndx < 100; ndx++) {\n",
    "            // Sun flower?\n",
    "            // What does this look like on the complex plane?\n",
    "            // www.desmos.com/calculator/y7ojlxw0wq\n",
    "            float theta = ndx * 2 * 3.14159 * (sqrt(5) - 1) / 2;\n",
    "            float radius = sqrt(ndx);\n",
    "            float rp = radius * cos(theta);\n",
    "            float ip = radius * sin(theta);\n",
    "            Zmany[ndx] = {.real_part = rp, .imaginary_part = ip};\n",
    "        }\n",
    "    \n",
    "    for (int ndx = 0; ndx < 10; ndx++) {\n",
    "        cout << ComplexToString(Zmany[ndx]) << endl;\n",
    "    }\n",
    "    \n",
    "    return 0;\n",
    "}\n",
    "\n",
    "CPPCODE\n",
    "g++-14 -std=c++26 -Wall -Wextra -Wpedantic -Wshadow -Wconversion golden.cpp -o golden\n",
    "./golden\n"
   ]
  },
  {
   "cell_type": "code",
   "execution_count": 121,
   "id": "553336ce",
   "metadata": {
    "vscode": {
     "languageId": "cpp"
    }
   },
   "outputs": [
    {
     "name": "stderr",
     "output_type": "stream",
     "text": [
      "com_ari.cpp: In function 'int main()':\n",
      "com_ari.cpp:44:61: warning: conversion from 'double' to 'float' may change value [-Wfloat-conversion]\n",
      "   44 |             float theta = ndx * 2 * 3.14159 * (sqrt(5) - 1) / 2;\n",
      "      |                           ~~~~~~~~~~~~~~~~~~~~~~~~~~~~~~~~~~^~~\n",
      "com_ari.cpp:45:32: warning: conversion from '__gnu_cxx::__enable_if<true, double>::__type' {aka 'double'} to 'float' may change value [-Wfloat-conversion]\n",
      "   45 |             float radius = sqrt(ndx);\n",
      "      |                            ~~~~^~~~~\n"
     ]
    },
    {
     "name": "stdout",
     "output_type": "stream",
     "text": [
      "0 + 0i\n",
      "-0.7373711 + -0.6754879i\n",
      "0.12364798 + 1.4087977i\n",
      "1.0538334 + -1.3745673i\n",
      "-1.9694223 + 0.34838998i\n",
      "1.8867141 + 1.2001292i\n",
      "-0.63594514 + -2.3654966i\n",
      "-1.2193909 + 2.347996i\n",
      "2.6567762 + -0.9703302i\n",
      "-2.7730687 + -1.1445918i\n"
     ]
    }
   ],
   "source": [
    "%%bash\n",
    "cat > com_ari.cpp <<'CPPCODE'\n",
    "\n",
    "#include <iostream>\n",
    "#include <string>\n",
    "#include <cmath>\n",
    "using namespace std;\n",
    "\n",
    "struct ComplexNumber {\n",
    "    float real_part;\n",
    "    float imaginary_part;\n",
    "};\n",
    "\n",
    "string ComplexToString (struct ComplexNumber Z) {\n",
    "    string result =\n",
    "        to_string(Z.real_part)\n",
    "        + \" + \"\n",
    "        + to_string(Z.imaginary_part)\n",
    "        + \"i\";\n",
    "    return result;\n",
    "}\n",
    "\n",
    "struct ComplexNumber ComplexAdd(\n",
    "    struct ComplexNumber Z,\n",
    "    struct ComplexNumber W\n",
    ") {\n",
    "    struct ComplexNumber Sum;\n",
    "    Sum.real_part = Z.real_part + W.real_part;\n",
    "    Sum.imaginary_part = Z.imaginary_part + W.imaginary_part;\n",
    "    return Sum;\n",
    "}\n",
    "\n",
    "struct ComplexNumber ComplexMul(\n",
    "    struct ComplexNumber Z,\n",
    "    struct ComplexNumber W\n",
    ") {\n",
    "    struct ComplexNumber Product;\n",
    "    Product.real_part = 0; ///???\n",
    "    Product.imaginary_part = 0; ///???\n",
    "    return Product;\n",
    "}\n",
    "\n",
    "int main() {\n",
    "    struct ComplexNumber Zmany[100];\n",
    "    Zmany[0].real_part = 1.0;\n",
    "    Zmany[0].imaginary_part = 2.0;\n",
    "    Zmany[0] = {1.0, 2.0};\n",
    "\n",
    "    for (int ndx = 0; ndx < 100; ndx++) {\n",
    "            // Sun flower?\n",
    "            // What does this look like on the complex plane?\n",
    "            // www.desmos.com/calculator/y7ojlxw0wq\n",
    "            float theta = ndx * 2 * 3.14159 * (sqrt(5) - 1) / 2;\n",
    "            float radius = sqrt(ndx);\n",
    "            float rp = radius * cos(theta);\n",
    "            float ip = radius * sin(theta);\n",
    "            Zmany[ndx] = {.real_part = rp, .imaginary_part = ip};\n",
    "        }\n",
    "    \n",
    "    for (int ndx = 0; ndx < 10; ndx++) {\n",
    "        cout << ComplexToString(Zmany[ndx]) << endl;\n",
    "    }\n",
    "    \n",
    "    return 0;\n",
    "}\n",
    "\n",
    "CPPCODE\n",
    "g++-14 -std=c++26 -Wall -Wextra -Wpedantic -Wshadow -Wconversion com_ari.cpp -o com_ari\n",
    "./com_ari\n"
   ]
  },
  {
   "cell_type": "markdown",
   "id": "4d5ef0ff",
   "metadata": {
    "vscode": {
     "languageId": "cpp"
    }
   },
   "source": [
    "```C++\n",
    "#include <iostream>\n",
    "#include <cmath>\n",
    "using namespace std;\n",
    "\n",
    "struct ComplexNumber {\n",
    "    float real_part;\n",
    "    float imaginary_part;\n",
    "};\n",
    "\n",
    "void PrintComplex (struct ComplexNumber Z) {\n",
    "    cout << Z.real_part\n",
    "         << \" + \"\n",
    "         << Z.imaginary_part\n",
    "         << \"i\"\n",
    "         << endl;\n",
    "}\n",
    "\n",
    "string  ComplexToString (struct ComplexNumber Z) {\n",
    "    string result = to_string(Z.real_part)\n",
    "                    + \" + \"\n",
    "                    + to_string(Z.imaginary_part)\n",
    "                    + \"i\";\n",
    "    return result;\n",
    "}\n",
    "\n",
    "struct ComplexNumber ComplexAdd(\n",
    "    struct ComplexNumber Z,\n",
    "    struct ComplexNumber W\n",
    ") {\n",
    "    struct ComplexNumber Sum;\n",
    "    Sum.real_part = Z.real_part + W.real_part;\n",
    "    Sum.imaginary_part = Z.imaginary_part + W.imaginary_part;\n",
    "    return Sum;\n",
    "}\n",
    "\n",
    "struct ComplexNumber ComplexSub(\n",
    "    struct ComplexNumber Z,\n",
    "    struct ComplexNumber W\n",
    ") {\n",
    "    struct ComplexNumber Diff;\n",
    "    Diff.real_part = Z.real_part - W.real_part;\n",
    "    Diff.imaginary_part = Z.imaginary_part - W.imaginary_part;\n",
    "    return Diff;\n",
    "}\n",
    "\n",
    "struct ComplexNumber ComplexMul(\n",
    "    struct ComplexNumber Z,\n",
    "    struct ComplexNumber W\n",
    ") {\n",
    "    struct ComplexNumber Product;\n",
    "    Product.real_part = Z.real_part * W.real_part\n",
    "                 - Z.imaginary_part * W.imaginary_part;\n",
    "    Product.imaginary_part = Z.real_part * W.imaginary_part\n",
    "                      + Z.imaginary_part * W.real_part;\n",
    "    return Product;\n",
    "}\n",
    "\n",
    "struct ComplexNumber ComplexDiv(\n",
    "    struct ComplexNumber Z,\n",
    "    struct ComplexNumber W\n",
    ") {\n",
    "    // W better not be zero.\n",
    "    float Abs2 = W.real_part * W.real_part\n",
    "          + W.imaginary_part * W.imaginary_part;\n",
    "    struct ComplexNumber Quotient;\n",
    "    Quotient.real_part = Z.real_part * W.real_part\n",
    "                  + Z.imaginary_part * W.imaginary_part;\n",
    "    Quotient.real_part /= Abs2;\n",
    "    Quotient.imaginary_part = Z.imaginary_part * W.real_part\n",
    "                                 - Z.real_part * W.imaginary_part;\n",
    "    Quotient.imaginary_part /= Abs2;\n",
    "    return Quotient;\n",
    "}\n",
    "\n",
    "float ComplexAbs(struct ComplexNumber Z) {\n",
    "    return sqrt(Z.real_part * Z.real_part\n",
    "         + Z.imaginary_part * Z.imaginary_part);\n",
    "}\n",
    "\n",
    "float ComplexArg(struct ComplexNumber Z) {\n",
    "    return atan2(Z.imaginary_part, Z.real_part);\n",
    "}\n",
    "\n",
    "// other useful functions\n",
    "struct ComplexNumber ComplexExp(struct ComplexNumber Z);\n",
    "struct ComplexNumber ComplexLog(struct ComplexNumber Z);\n",
    "struct ComplexNumber ComplexSin(struct ComplexNumber Z);\n",
    "struct ComplexNumber ComplexCos(struct ComplexNumber Z);\n",
    "struct ComplexNumber ComplexSqrt(struct ComplexNumber Z);\n",
    "\n",
    "int main() {\n",
    "    struct ComplexNumber Z1;\n",
    "    Z1.real_part = 1.0;\n",
    "    Z1.imaginary_part = 2.0;\n",
    "    cout << \"Z1 is \" << ComplexToString(Z1);\n",
    "\n",
    "    struct ComplexNumber Zmany[100];\n",
    "    Zmany[0] = {.real_part = 1.0, .imaginary_part = 2.0};\n",
    "    Zmany[1] = {.real_part = 3.0, .imaginary_part = 4.0};\n",
    "    Zmany[2] = {.real_part = 5.0, .imaginary_part = 6.0};\n",
    "    for (int ndx = 0; ndx < 10; ndx++) {\n",
    "        // Sun flower?\n",
    "        // What does this look like on the complex plane?\n",
    "        // www.desmos.com/calculator/y7ojlxw0wq\n",
    "        float theta = ndx * 2 * 3.14159 * (sqrt(5) - 1) / 2;\n",
    "        float radius = sqrt(ndx);\n",
    "        float rp = radius * cos(theta);\n",
    "        float ip = radius * sin(theta);\n",
    "        Zmany[ndx] = {.real_part = rp, .imaginary_part = ip};\n",
    "    }\n",
    "}\n",
    "```"
   ]
  },
  {
   "cell_type": "markdown",
   "id": "7bc9c169",
   "metadata": {
    "vscode": {
     "languageId": "cpp"
    }
   },
   "source": [
    "## More structures"
   ]
  },
  {
   "cell_type": "markdown",
   "id": "906303b2",
   "metadata": {
    "vscode": {
     "languageId": "cpp"
    }
   },
   "source": [
    "```C++\n",
    "struct loooong { // four o’s\n",
    "    int a;\n",
    "    int b;\n",
    "    int c;\n",
    "    int d;\n",
    "    // to represent\n",
    "    // 10^12 a + 10^8 b + 10^4c + d\n",
    "};\n",
    "```"
   ]
  },
  {
   "cell_type": "markdown",
   "id": "1ee14986",
   "metadata": {
    "vscode": {
     "languageId": "cpp"
    }
   },
   "source": [
    "```C++\n",
    "struct Ratioooonal {\n",
    "    struct loooong p; //numerator\n",
    "    struct loooong q; //denominator\n",
    "    // meant to be p/q\n",
    "};\n",
    "```"
   ]
  },
  {
   "cell_type": "markdown",
   "id": "488c9d35",
   "metadata": {},
   "source": [
    "```C++\n",
    "#include <iostream>\n",
    "#include <cmath>\n",
    "using namespace std;\n",
    "\n",
    "struct Loooong { // four o’s\n",
    "    int a;\n",
    "    int b;\n",
    "    int c;\n",
    "    int d;\n",
    "    // to represent\n",
    "    // 10^12 a + 10^8 b + 10^4c + d\n",
    "};\n",
    "\n",
    "string LoooongToString(struct Loooong L) { \n",
    "    string result;\n",
    "    if (L.a < 10) { result += \"0\"; }\n",
    "    if (L.a < 100) { result += \"0\"; }\n",
    "    if (L.a < 1000) { result += \"0\"; }\n",
    "    result += to_string(L.a);\n",
    "    \n",
    "    if (L.b < 10) { result += \"0\"; }\n",
    "    if (L.b < 100) { result += \"0\"; }\n",
    "    if (L.b < 1000) { result += \"0\"; }\n",
    "    result += to_string(L.b);\n",
    "\n",
    "    if (L.c < 10) { result += \"0\"; }\n",
    "    if (L.c < 100) { result += \"0\"; }\n",
    "    if (L.c < 1000) { result += \"0\"; }\n",
    "    result += to_string(L.c);\n",
    "\n",
    "    if (L.d < 10) { result += \"0\"; }\n",
    "    if (L.d < 100) { result += \"0\"; }\n",
    "    if (L.d < 1000) { result += \"0\"; }\n",
    "    result += to_string(L.d);\n",
    "\n",
    "    return result;\n",
    "}\n",
    "\n",
    "struct Loooong Aaaadd(struct Loooong L, struct Loooong M) {\n",
    "    struct Loooong Sum;\n",
    "    Sum.d = L.d + M.d;\n",
    "    Sum.c = L.c + M.c;\n",
    "    Sum.b = L.b + M.b;\n",
    "    Sum.a = L.a + M.a;\n",
    "    if (Sum.d >= 10000) {\n",
    "        Sum.d -= 10000;\n",
    "        Sum.c++;\n",
    "    }\n",
    "    if (Sum.c >= 10000) {\n",
    "        Sum.c -= 10000;\n",
    "        Sum.b++;\n",
    "    }\n",
    "    if (Sum.b >= 10000) {\n",
    "        Sum.b -= 10000;\n",
    "        Sum.a++;\n",
    "    }\n",
    "    return Sum;\n",
    "}\n",
    "\n",
    "struct Loooong Muuuul(struct Loooong L, struct Loooong M) {\n",
    "    struct Loooong Product;\n",
    "    Product.d = L.d * M.d;\n",
    "    Product.c = L.c * M.d + L.d * M.c;\n",
    "    Product.b = L.b * M.d + L.d * M.b + L.c * M.c;\n",
    "    Product.a = L.a * M.d + L.d * M.a + L.c * M.b + L.b * M.c;\n",
    "    if (Product.d >= 10000) {\n",
    "        Product.c += Product.d / 10000;\n",
    "        Product.d %= 10000;\n",
    "    }\n",
    "    if (Product.c >= 10000) {\n",
    "        Product.b += Product.c / 10000;\n",
    "        Product.c %= 10000;\n",
    "    }\n",
    "    if (Product.b >= 10000) {\n",
    "        Product.a += Product.b / 10000;\n",
    "        Product.b %= 10000;\n",
    "    }\n",
    "    return Product;\n",
    "}\n",
    "\n",
    "struct Loooong Suuuub(struct Loooong L, struct Loooong M) {\n",
    "    struct Loooong Diff;\n",
    "    Diff.d = L.d - M.d;\n",
    "    Diff.c = L.c - M.c;\n",
    "    Diff.b = L.b - M.b;\n",
    "    Diff.a = L.a - M.a;\n",
    "    if (Diff.d < 0) {\n",
    "        Diff.d += 10000;\n",
    "        Diff.c--;\n",
    "    }\n",
    "    if (Diff.c < 0) {\n",
    "        Diff.c += 10000;\n",
    "        Diff.b--;\n",
    "    }\n",
    "    if (Diff.b < 0) {\n",
    "        Diff.b += 10000;\n",
    "        Diff.a--;\n",
    "    }\n",
    "    return Diff;\n",
    "}\n",
    "\n",
    "bool LoooongLessThan(struct Loooong L, struct Loooong M) {\n",
    "    if (L.a < M.a) { return true; }\n",
    "    if (L.a > M.a) { return false; }\n",
    "    if (L.b < M.b) { return true; }\n",
    "    if (L.b > M.b) { return false; }\n",
    "    if (L.c < M.c) { return true; }\n",
    "    if (L.c > M.c) { return false; }\n",
    "    if (L.d < M.d) { return true; }\n",
    "    return false;\n",
    "}\n",
    "\n",
    "struct Loooong GCD(struct Loooong L, struct Loooong M) {\n",
    "    if (LoooongLessThan(L, M)) {\n",
    "        return GCD(M, L);\n",
    "    }\n",
    "    if (M.a == 0 && M.b == 0 && M.c == 0 && M.d == 0) {\n",
    "        return L;\n",
    "    }\n",
    "    struct Loooong N = Suuuub(L, M);\n",
    "    return GCD(M, N);\n",
    "}\n",
    "\n",
    "struct Ratioooonal {\n",
    "    struct Loooong p; //numerator\n",
    "    struct Loooong q; //denominator\n",
    "    // meant to be p/q\n",
    "};\n",
    "\n",
    "struct Ratioooonal Aaaadd(struct Ratioooonal R, struct Ratioooonal S) {\n",
    "    struct Ratioooonal Sum;\n",
    "    Sum.p = Aaaadd(Muuuul(R.p, S.q), Muuuul(S.p, R.q));\n",
    "    Sum.q = Muuuul(R.q, S.q);\n",
    "    // TODO: divide both p and q by GCD?\n",
    "    // Sum = Siiiimplify(Sum);\n",
    "    return Sum;\n",
    "}\n",
    "\n",
    "struct Ratioooonal Suuuub(struct Ratioooonal R, struct Ratioooonal S) {\n",
    "    struct Ratioooonal Diff;\n",
    "    Diff.p = Suuuub(Muuuul(R.p, S.q), Muuuul(S.p, R.q));\n",
    "    Diff.q = Muuuul(R.q, S.q);\n",
    "    // TODO: divide both p and q by GCD?\n",
    "    // Diff = Siiiimplify(Diff);\n",
    "    return Diff;\n",
    "}\n",
    "\n",
    "struct Ratioooonal Muuuul(struct Ratioooonal R, struct Ratioooonal S) {\n",
    "    struct Ratioooonal Product;\n",
    "    Product.p = Muuuul(R.p, S.p);\n",
    "    Product.q = Muuuul(R.q, S.q);\n",
    "    return Product;\n",
    "}\n",
    "\n",
    "struct Ratioooonal Diiiiv(struct Ratioooonal R, struct Ratioooonal S) {\n",
    "    struct Ratioooonal Quotient;\n",
    "    Quotient.p = Muuuul(R.p, S.q);\n",
    "    Quotient.q = Muuuul(R.q, S.p);\n",
    "    // TODO: divide both p and q by GCD?\n",
    "    return Quotient;\n",
    "}\n",
    "\n",
    "struct Ratioooonal Siiiimplify(struct Ratioooonal R) {\n",
    "    struct Loooong G = GCD(R.p, R.q);\n",
    "    struct Ratioooonal S;\n",
    "    S.p = R.p;\n",
    "    S.q = R.q;\n",
    "    // S.p = Diiiiv(S.p, G);\n",
    "    // S.q = Diiiiv(S.q, G);\n",
    "    // TODO: implement diiiivision of Loooong by Loooong\n",
    "    return S;\n",
    "}\n",
    "\n",
    "int main() {\n",
    "    struct Loooong A = {36, 0000, 0000, 0000};\n",
    "    struct Loooong B = {30, 0000, 0000, 000};\n",
    "    struct Loooong C = GCD(A, B);\n",
    "    cout << LoooongToString(C) << endl;\n",
    "    return 0;\n",
    "}\n",
    "```"
   ]
  },
  {
   "cell_type": "code",
   "execution_count": 132,
   "id": "f4576c0f",
   "metadata": {
    "vscode": {
     "languageId": "cpp"
    }
   },
   "outputs": [
    {
     "name": "stderr",
     "output_type": "stream",
     "text": [
      "campus.cpp: In function 'void Print2Canvas(Rectangle)':\n",
      "campus.cpp:46:30: warning: conversion from 'std::__cxx11::basic_string<char>::size_type' {aka 'long unsigned int'} to 'int' may change value [-Wconversion]\n",
      "   46 |     int lsize = r1.label.size();\n",
      "      |                 ~~~~~~~~~~~~~^~\n"
     ]
    },
    {
     "name": "stdout",
     "output_type": "stream",
     "text": [
      "                                                                                                    \n",
      "                                                                                                    \n",
      "                                                                                                    \n",
      "                                                                                                    \n",
      "                                                                                                    \n",
      "                                                  @@@@@@@@@@@@@@@@@@@@@@@@@@@@@@@                   \n",
      "                                                  @'''''''''''''''''''''''''''''@                   \n",
      "                                                  @'''''''''''''''''''''''''''''@                   \n",
      "                                                  @'''''''''''''''''''''''''''''@                   \n",
      "                                                  @'''''''''''''''''''''''''''''@                   \n",
      "                                                  @'''''''''''''''''''''''''''''@                   \n",
      "                                                  @'''''''''''''''''''''''''''''@                   \n",
      "                                                  @'''''''''''''''''''''''''''''@                   \n",
      "                                                  @'''''''''''''''''''''''''''''@                   \n",
      "                                                  @'''''''''''''''''''''''''''''@                   \n",
      "                                                  @'''''''''''''''''''''''''''''@                   \n",
      "                                                  @'''''''''''''''''''''''''''''@                   \n",
      "                                                  @'''''''''''''''''''''''''''''@                   \n",
      "                                                  @'''''''''''''''''''''''''''''@                   \n",
      "                                                  @'''''''''''''''''''''''''''''@                   \n",
      "                                                  @''''''''''''Glass''''''''''''@                   \n",
      "                                                  @'''''''''''''''''''''''''''''@                   \n",
      "                                                  @'''''''''''''''''''''''''''''@                   \n",
      "                                                  @'''''''''''''''''''''''''''''@                   \n",
      "                                                  @'''''''''''''''''''''''''''''@                   \n",
      "                                                  @'''''''''''''''''''''''''''''@                   \n",
      "                                                  @'''''''''''''''''''''''''''''@                   \n",
      "                                                  @'''''''''''''''''''''''''''''@                   \n",
      "                                                  @'''''''''''''''''''''''''''''@                   \n",
      "                                                  @'''''''''''''''''''''''''''''@                   \n",
      "                                                  @'''''''''''''''''''''''''''''@                   \n",
      "                                                  @'''''''''''''''''''''''''''''@                   \n",
      "                                                  @'''''''''''''''''''''''''''''@                   \n",
      "                                                  @'''''''''''''''''''''''''''''@                   \n",
      "                                                  @'''''''''''''''''''''''''''''@                   \n",
      "                                                  @@@@@@@@@@@@@@@@@@@@@@@@@@@@@@@                   \n",
      "                                                                                                    \n",
      "                                                                                                    \n",
      "                                                                                                    \n",
      "                                                                                                    \n",
      "                                        #########################################                   \n",
      "                                        #.......................................#                   \n",
      "                                        #.......................................#                   \n",
      "                                        #.......................................#                   \n",
      "                                        #.......................................#                   \n",
      "                                        #.......................................#                   \n",
      "                                        #.......................................#                   \n",
      "                                        #.......................................#                   \n",
      "                                        #.......................................#                   \n",
      "                                        #.......................................#                   \n",
      "                                        #.................DanG2.................#                   \n",
      "                                        #.......................................#                   \n",
      "                                        #.......................................#                   \n",
      "                                        #.......................................#                   \n",
      "                                        #.......................................#                   \n",
      "                                        #.......................................#                   \n",
      "                                        #.......................................#                   \n",
      "                                        #.......................................#                   \n",
      "                                        #.......................................#                   \n",
      "                                        #.......................................#                   \n",
      "                                        #########################################                   \n",
      "                                                                                                    \n",
      "                                                                                                    \n",
      "                                                                                                    \n",
      "                                                                                                    \n",
      "     xxxxxxxxxxxxxxxxxxxxxxxxxxxxxxxxxxxxxxxxxxxxxx                                                 \n",
      "     x,,,,,,,,,,,,,,,,,,,,,,,,,,,,,,,,,,,,,,,,,,,,x                                                 \n",
      "     x,,,,,,,,,,,,,,,,,,,,,,,,,,,,,,,,,,,,,,,,,,,,x                                                 \n",
      "     x,,,,,,,,,,,,,,,,,,,,,,,,,,,,,,,,,,,,,,,,,,,,x                                                 \n",
      "     x,,,,,,,,,,,,,,,,,,,,,,,,,,,,,,,,,,,,,,,,,,,,x                                                 \n",
      "     x,,,,,,,,,,,,,,,,,,,,,,,,,,,,,,,,,,,,,,,,,,,,x                                                 \n",
      "     x,,,,,,,,,,,,,,,,,,,,,,,,,,,,,,,,,,,,,,,,,,,,x                                                 \n",
      "     x,,,,,,,,,,,,,,,,,,,,,,,,,,,,,,,,,,,,,,,,,,,,x                                                 \n",
      "     x,,,,,,,,,,,,,,,,,,,,,,,,,,,,,,,,,,,,,,,,,,,,x                                                 \n",
      "     x,,,,,,,,,,,,,,,,,,,,,,,,,,,,,,,,,,,,,,,,,,,,x                                                 \n",
      "     x,,,,,,,,,,,,,,,,,,,,,,,,,,,,,,,,,,,,,,,,,,,,x                                                 \n",
      "     x,,,,,,,,,,,,,,,,,,,,,,,,,,,,,,,,,,,,,,,,,,,,x                                                 \n",
      "     x,,,,,,,,,,,,,,,,,,,Zone2,,,,,,,,,,,,,,,,,,,,x                                                 \n",
      "     x,,,,,,,,,,,,,,,,,,,,,,,,,,,,,,,,,,,,,,,,,,,,x                                                 \n",
      "     x,,,,,,,,,,,,,,,,,,,,,,,,,,,,,,,,,,,,,,,,,,,,x                                                 \n",
      "     x,,,,,,,,,,,,,,,,,,,,,,,,,,,,,,,,,,,,,,,,,,,,x                                                 \n",
      "     x,,,,,,,,,,,,,,,,,,,,,,,,,,,,,,,,,,,,,,,,,,,,x                                                 \n",
      "     x,,,,,,,,,,,,,,,,,,,,,,,,,,,,,,,,,,,,,,,,,,,,x                                                 \n",
      "     x,,,,,,,,,,,,,,,,,,,,,,,,,,,,,,,,,,,,,,,,,,,,x                                                 \n",
      "     x,,,,,,,,,,,,,,,,,,,,,,,,,,,,,,,,,,,,,,,,,,,,x                                                 \n",
      "     x,,,,,,,,,,,,,,,,,,,,,,,,,,,,,,,,,,,,,,,,,,,,x                                                 \n",
      "     x,,,,,,,,,,,,,,,,,,,,,,,,,,,,,,,,,,,,,,,,,,,,x                                                 \n",
      "     x,,,,,,,,,,,,,,,,,,,,,,,,,,,,,,,,,,,,,,,,,,,,x                                                 \n",
      "     x,,,,,,,,,,,,,,,,,,,,,,,,,,,,,,,,,,,,,,,,,,,,x                                                 \n",
      "     x,,,,,,,,,,,,,,,,,,,,,,,,,,,,,,,,,,,,,,,,,,,,x                                                 \n",
      "     xxxxxxxxxxxxxxxxxxxxxxxxxxxxxxxxxxxxxxxxxxxxxx                                                 \n",
      "                                                                                                    \n",
      "                                                                                                    \n",
      "                                                                                                    \n",
      "                                                                                                    \n",
      "                                                                                                    \n",
      "                                                                                                    \n",
      "                                                                                                    \n",
      "                                                                                                    \n",
      "                                                                                                    \n"
     ]
    }
   ],
   "source": [
    "%%bash\n",
    "cat > campus.cpp <<'CPPCODE'\n",
    "\n",
    "#include <iostream>\n",
    "#include <string>\n",
    "using namespace std;\n",
    "\n",
    "struct Point {\n",
    "    int x;\n",
    "    int y;\n",
    "};\n",
    "\n",
    "struct Rectangle {\n",
    "    string label;\n",
    "    struct Point southwest;\n",
    "    struct Point northeast;\n",
    "    char fill_color;\n",
    "    char draw_color;\n",
    "};\n",
    "\n",
    "\n",
    "// typedef struct Rectangle Rec;\n",
    "// Rec Shift(Rec, Vec) {return Rec} // TODO\n",
    "// Rec Scale(Rec, Mul) {return Rec} // TODO\n",
    "// Rec Rotate(Rec, Ang) {return Rec} // TODO\n",
    "\n",
    "char Canvas[200][100] = {};\n",
    "\n",
    "void Print2Canvas(Rectangle r1) {\n",
    "    // Fill the rectangle\n",
    "    for (int yy = r1.southwest.y; yy <= r1.northeast.y; yy++) {\n",
    "        for (int xx = r1.southwest.x; xx <= r1.northeast.x; xx++) {\n",
    "            Canvas[yy][xx] = r1.fill_color;\n",
    "        }\n",
    "    }\n",
    "    // Draw the rectangle\n",
    "    for (int yy = r1.southwest.y; yy <= r1.northeast.y; yy++) {\n",
    "        Canvas[yy][r1.southwest.x] = r1.draw_color;\n",
    "        Canvas[yy][r1.northeast.x] = r1.draw_color;\n",
    "    }\n",
    "    for (int xx = r1.southwest.x; xx <= r1.northeast.x; xx++) {\n",
    "        Canvas[r1.southwest.y][xx] = r1.draw_color;\n",
    "        Canvas[r1.northeast.y][xx] = r1.draw_color;\n",
    "    }\n",
    "    // Print the label\n",
    "    int midx = (r1.southwest.x + r1.northeast.x) / 2;\n",
    "    int midy = (r1.southwest.y + r1.northeast.y) / 2;\n",
    "    int lsize = r1.label.size();\n",
    "    for (int ii = 0; ii < lsize; ii++) {\n",
    "        Canvas[midy][midx - lsize/2 + ii] = r1.label[ii];\n",
    "    }\n",
    "}\n",
    "\n",
    "void ClearCanvas() {\n",
    "    for (int y = 0; y < 100; y++) {\n",
    "        for (int x = 0; x < 200; x++) {\n",
    "            Canvas[y][x] = ' ';\n",
    "        }\n",
    "    }\n",
    "}\n",
    "\n",
    "void ShowCanvas() {\n",
    "    for (int y = 0; y < 100; y++) {\n",
    "        for (int x = 0; x < 100; x++) {\n",
    "            cout << Canvas[y][x];\n",
    "        }\n",
    "        cout << endl;\n",
    "    }\n",
    "}\n",
    "\n",
    "int main() {\n",
    "    ClearCanvas();\n",
    "\n",
    "    struct Rectangle DG;\n",
    "    DG.label = \"DanG2\";\n",
    "    DG.southwest.x = 40;\n",
    "    DG.southwest.y = 40;\n",
    "    DG.northeast.x = 80;\n",
    "    DG.northeast.y = 60;\n",
    "    DG.fill_color = '.';\n",
    "    DG.draw_color = '#';\n",
    "    Print2Canvas(DG);\n",
    "\n",
    "    struct Rectangle Z2;\n",
    "    Z2.label = \"Zone2\";\n",
    "    Z2.southwest = {.x=5, .y=65};\n",
    "    Z2.northeast = {.x=50, .y=90};\n",
    "    Z2.fill_color = ',';\n",
    "    Z2.draw_color = 'x';\n",
    "    Print2Canvas(Z2);\n",
    "\n",
    "    struct Rectangle Gl;\n",
    "    Gl = {\n",
    "        .label= \"Glass\",\n",
    "        .southwest={.x=50, .y=5},\n",
    "        .northeast={.x=80, .y=35},\n",
    "        .fill_color='\\'',\n",
    "        .draw_color='@'\n",
    "    };\n",
    "    Print2Canvas(Gl);\n",
    "\n",
    "    ShowCanvas();\n",
    "}\n",
    "\n",
    "CPPCODE\n",
    "g++-14 -std=c++26 -Wall -Wextra -Wpedantic -Wshadow -Wconversion campus.cpp -o campus\n",
    "./campus\n"
   ]
  },
  {
   "cell_type": "markdown",
   "id": "3ca1d2c7",
   "metadata": {
    "vscode": {
     "languageId": "cpp"
    }
   },
   "source": [
    "## Error handling"
   ]
  },
  {
   "cell_type": "code",
   "execution_count": 135,
   "id": "88c859ac",
   "metadata": {
    "vscode": {
     "languageId": "cpp"
    }
   },
   "outputs": [
    {
     "name": "stdout",
     "output_type": "stream",
     "text": [
      "Roots are 2 and 0.4\n",
      "Roots are Error: Square root of negative number and Error: Square root of negative number\n"
     ]
    }
   ],
   "source": [
    "%%bash\n",
    "cat > mynan.cpp <<'CPPCODE'\n",
    "#include <iostream>\n",
    "#include <cmath>\n",
    "using namespace std;\n",
    "\n",
    "struct FloatOrError {\n",
    "    bool isError;\n",
    "    float value;\n",
    "    string why;\n",
    "};\n",
    "\n",
    "typedef struct FloatOrError stFOE;\n",
    "\n",
    "string ToString(stFOE a) {\n",
    "    if (a.isError) {\n",
    "        return \"Error: \" + a.why;\n",
    "    }\n",
    "    return to_string(a.value);\n",
    "}\n",
    "\n",
    "stFOE add(stFOE a, stFOE b) {\n",
    "    if (a.isError) { return a; }\n",
    "    if (b.isError) { return b; }\n",
    "    stFOE answer = {\n",
    "        .isError = false,\n",
    "        .value = a.value + b.value,\n",
    "        .why = \"\"\n",
    "    };\n",
    "    return answer;\n",
    "}\n",
    "\n",
    "stFOE subtract(stFOE a, stFOE b) {\n",
    "    if (a.isError) { return a; }\n",
    "    if (b.isError) { return b; }\n",
    "    stFOE answer = {\n",
    "        .isError = false,\n",
    "        .value = a.value - b.value,\n",
    "        .why = \"\"\n",
    "    };\n",
    "    return answer;\n",
    "}\n",
    "\n",
    "stFOE multiply(stFOE a, stFOE b) {\n",
    "    if (a.isError) { return a; }\n",
    "    if (b.isError) { return b; }\n",
    "    stFOE answer = {\n",
    "        .isError = false,\n",
    "        .value = a.value * b.value,\n",
    "        .why = \"\"\n",
    "    };\n",
    "    return answer;\n",
    "}\n",
    "\n",
    "stFOE divide(stFOE a, stFOE b) {\n",
    "    if (a.isError) { return a; }\n",
    "    if (b.isError) { return b; }\n",
    "    if (b.value == 0) {\n",
    "        stFOE answer = {\n",
    "            .isError = true,\n",
    "            .value = 0,\n",
    "            .why = \"Division by zero\"\n",
    "        };\n",
    "        return answer;\n",
    "    }\n",
    "    stFOE answer = {\n",
    "        .isError = false,\n",
    "        .value = a.value / b.value,\n",
    "        .why = \"\"\n",
    "    };\n",
    "    return answer;\n",
    "}\n",
    "\n",
    "stFOE sqrt(stFOE a) {\n",
    "    if (a.isError) {\n",
    "        return a;\n",
    "    }\n",
    "    if (a.value < 0) {\n",
    "        stFOE answer = {\n",
    "            .isError = true,\n",
    "            .value = 0,\n",
    "            .why = \"Square root of negative number\"\n",
    "        };\n",
    "        return answer;\n",
    "    }\n",
    "    stFOE answer = {\n",
    "        .isError = false,\n",
    "        .value = sqrt(a.value),\n",
    "        .why = \"\"\n",
    "    };\n",
    "    return answer;\n",
    "}\n",
    "\n",
    "stFOE log(stFOE a) {\n",
    "    if (a.isError) {\n",
    "        return a;\n",
    "    }\n",
    "    if (a.value <= 0) {\n",
    "        stFOE answer = {\n",
    "            .isError = true,\n",
    "            .value = 0,\n",
    "            .why = \"Logarithm of zero\"\n",
    "                   \"or negative number\"\n",
    "        };\n",
    "        return answer;\n",
    "    }\n",
    "    stFOE answer = {\n",
    "        .isError = false,\n",
    "        .value = log(a.value),\n",
    "        .why = \"\"\n",
    "    };\n",
    "    return answer;\n",
    "}\n",
    "\n",
    "void SolveQuadratic(\n",
    "    stFOE a,\n",
    "    stFOE b,\n",
    "    stFOE c,\n",
    "    stFOE roots[2]\n",
    ") {\n",
    "    if (a.isError) { roots[0] = roots[1] = a; return; }\n",
    "    if (b.isError) { roots[0] = roots[1] = b; return; }\n",
    "    if (c.isError) { roots[0] = roots[1] = c; return; }\n",
    "    if (a.value == 0) {\n",
    "        // linear equation bx + c = 0\n",
    "        stFOE root = divide(c, b);\n",
    "        if (b.value == 0) {\n",
    "            // Ok it's not even linear\n",
    "            if (c.value == 0) {\n",
    "                root.why = \"a = b = c = 0, so infinitely many roots\";\n",
    "            } else {\n",
    "                root.why = \"a = b = 0 != c, so no roots\";\n",
    "            }\n",
    "        }\n",
    "        roots[0] = root;\n",
    "        roots[1] = {\n",
    "            .isError = true,\n",
    "            .value = 0,\n",
    "            .why = \"No more roots because a == 0\"\n",
    "        };\n",
    "        return;\n",
    "    }\n",
    "    stFOE b2 = multiply(b, b);\n",
    "    stFOE ac = multiply(a, c);\n",
    "    stFOE fourac = multiply(ac, {false, 4, \"\"});\n",
    "    stFOE b2_4ac = subtract(b2, fourac);\n",
    "    stFOE sqrt_b2_4ac = sqrt(b2_4ac);\n",
    "    stFOE twoa = multiply(a, {false, 2, \"\"});\n",
    "    stFOE b_plus_sqrt = add(b, sqrt_b2_4ac);\n",
    "    stFOE b_minus_sqrt = subtract(b, sqrt_b2_4ac);\n",
    "    stFOE root1 = divide(b_plus_sqrt, twoa);\n",
    "    stFOE root2 = divide(b_minus_sqrt, twoa);\n",
    "    roots[0] = root1;\n",
    "    roots[1] = root2;\n",
    "}\n",
    "\n",
    "int main() {\n",
    "    stFOE a = {false, 5, \"\"};\n",
    "    stFOE b = {false, 12, \"\"};\n",
    "    stFOE c = {false, 4, \"\"};\n",
    "    stFOE roots[2];\n",
    "    SolveQuadratic(a, b, c, roots);\n",
    "    cout << \"Roots are \"\n",
    "         << ToString(roots[0])\n",
    "         << \" and \"\n",
    "         << ToString(roots[1])\n",
    "         << endl;\n",
    "\n",
    "    stFOE bb = {false, 2, \"\"};\n",
    "    SolveQuadratic(a, bb, c, roots);\n",
    "    cout << \"Roots are \"\n",
    "         << ToString(roots[0])\n",
    "         << \" and \"\n",
    "         << ToString(roots[1])\n",
    "         << endl;\n",
    "    return 0;\n",
    "}\n",
    "\n",
    "CPPCODE\n",
    "g++-14 -std=c++26 -Wall -Wextra -Wpedantic -Wshadow -Wconversion mynan.cpp -o mynan\n",
    "./mynan\n"
   ]
  },
  {
   "cell_type": "markdown",
   "id": "64b21536",
   "metadata": {
    "vscode": {
     "languageId": "cpp"
    }
   },
   "source": [
    "```C++\n",
    "typedef struct FloatOrError stFOE;\n",
    "\n",
    "stFOE add(stFOE a, stFOE b) {\n",
    "    if (a.isError) {\n",
    "        a.why = \"Cannot compute a+b since a is error: \"\n",
    "            + a.why;\n",
    "        return a;\n",
    "    }\n",
    "    if (b.isError) {\n",
    "        b.why = \"Cannot compute a+b since b is error: \" + b.why;\n",
    "            return b;\n",
    "    }\n",
    "    ...\n",
    "}\n",
    "```"
   ]
  },
  {
   "cell_type": "markdown",
   "id": "ee92c42d",
   "metadata": {
    "vscode": {
     "languageId": "cpp"
    }
   },
   "source": [
    "## Union"
   ]
  },
  {
   "cell_type": "markdown",
   "id": "ec90dd90",
   "metadata": {
    "vscode": {
     "languageId": "cpp"
    }
   },
   "source": [
    "C++\n",
    "union FloatOrInt {\n",
    "    float f;\n",
    "    int i;\n",
    "};\n",
    "```"
   ]
  },
  {
   "cell_type": "markdown",
   "id": "df53c93e",
   "metadata": {
    "vscode": {
     "languageId": "cpp"
    }
   },
   "source": [
    "```C++\n",
    "union FloatOrError_help {\n",
    "    float f;\n",
    "    string why;\n",
    "};\n",
    "\n",
    "struct FloatOrError {\n",
    "    bool isError;\n",
    "    FloatOrError_help value;\n",
    "    // if isError is true,\n",
    "    // value.why is the reason\n",
    "    // if isError is false, \n",
    "    // value.f is the float value\n",
    "};\n",
    "```"
   ]
  },
  {
   "cell_type": "markdown",
   "id": "97cce9fd",
   "metadata": {
    "vscode": {
     "languageId": "cpp"
    }
   },
   "source": [
    "## Enum"
   ]
  },
  {
   "cell_type": "markdown",
   "id": "f5289127",
   "metadata": {
    "vscode": {
     "languageId": "cpp"
    }
   },
   "source": [
    "```C++\n",
    "string ErrorCode_lookup[100] = {\n",
    "    \"Division By Zero\",\n",
    "    \"Sqrt Of Negative\",\n",
    "    \"Log Of Zero\",\n",
    "    \"Log Of Negative\",\n",
    "    \"No More Roots\"\n",
    "};\n",
    "\n",
    "union FloatOrError {\n",
    "    float f;\n",
    "    int ecode;\n",
    "};\n",
    "```"
   ]
  },
  {
   "cell_type": "markdown",
   "id": "71945270",
   "metadata": {},
   "source": [
    "```C++\n",
    "enum ErrorCode {\n",
    "    DivisionByZero,\n",
    "    SqrtOfNegative,\n",
    "    Log Of Zero,\n",
    "    LogOfNegative,\n",
    "    NoMoreRoots\n",
    "};\n",
    "\n",
    "union FloatOrError {\n",
    "    float f;\n",
    "    ErrorCode ecode;\n",
    "};\n",
    "\n",
    "string getErrorMessage(ErrorCode ecode) {\n",
    "    switch (ecode) {\n",
    "        case DivisionByZero: return \"Division by zero\";\n",
    "        case SqrtOfNegative: return \"Square root of negative number\";\n",
    "        case LogOfZero: return \"Log of zero\";\n",
    "        case LogOfNegative: return \"Log of negative number\";\n",
    "        case NoMoreRoots: return \"No more roots because of low degree\";\n",
    "        default: return \"Unknown error code\";\n",
    "    }\n",
    "}\n",
    "\n",
    "```"
   ]
  },
  {
   "cell_type": "code",
   "execution_count": 140,
   "id": "5788b5e6",
   "metadata": {
    "vscode": {
     "languageId": "cpp"
    }
   },
   "outputs": [
    {
     "name": "stderr",
     "output_type": "stream",
     "text": [
      "enum.cpp: In function 'std::string ToString(FloatOrError)':\n",
      "enum.cpp:45:1: warning: control reaches end of non-void function [-Wreturn-type]\n",
      "   45 | }\n",
      "      | ^\n"
     ]
    },
    {
     "name": "stdout",
     "output_type": "stream",
     "text": [
      "square root of 2 is 1.4142135\n",
      "square root of -1 is Error: Square root of negative number\n"
     ]
    }
   ],
   "source": [
    "%%bash\n",
    "cat > enum.cpp <<'CPPCODE'\n",
    "\n",
    "#include <iostream>\n",
    "#include <cmath>\n",
    "using namespace std;\n",
    "\n",
    "enum ErrorCode {\n",
    "    DIVISION_BY_ZERO,\n",
    "    SQUARE_ROOT_NEGATIVE,\n",
    "    LOG_ZERO,\n",
    "    LOG_NEGATIVE,\n",
    "    NO_MORE_ROOTS,\n",
    "};\n",
    "\n",
    "union FloatOrError_help {\n",
    "    float f;\n",
    "    ErrorCode why;\n",
    "};\n",
    "\n",
    "struct FloatOrError {\n",
    "    bool isError;\n",
    "    FloatOrError_help value;\n",
    "    // if isError is true,\n",
    "    // value.why is the reason\n",
    "    // if isError is false, \n",
    "    // value.f is the float value\n",
    "};\n",
    "\n",
    "string ToString(struct FloatOrError a) {\n",
    "    if (!a.isError) {\n",
    "        return to_string(a.value.f);\n",
    "    }\n",
    "    ErrorCode ecode = a.value.why;\n",
    "    switch (ecode) {\n",
    "        case DIVISION_BY_ZERO:\n",
    "            return \"Error: Division by zero\";\n",
    "        case SQUARE_ROOT_NEGATIVE:\n",
    "            return \"Error: Square root of negative number\";\n",
    "        case LOG_ZERO:\n",
    "            return \"Error: Logarithm of zero\";\n",
    "        case LOG_NEGATIVE:\n",
    "            return \"Error: Logarithm of negative number\";\n",
    "        case NO_MORE_ROOTS:\n",
    "            return \"Error: No more roots\";\n",
    "    }\n",
    "}\n",
    "\n",
    "struct FloatOrError sqrt(struct FloatOrError a) {\n",
    "    if (a.isError) {\n",
    "        return a;\n",
    "    }\n",
    "    if (a.value.f < 0) {\n",
    "        struct FloatOrError noneg;\n",
    "        noneg.isError = true;\n",
    "        noneg.value.why = SQUARE_ROOT_NEGATIVE;\n",
    "        return noneg; // Return the error message\n",
    "    }\n",
    "    struct FloatOrError result;\n",
    "    result.isError = false;\n",
    "    result.value.f = sqrt(a.value.f);\n",
    "    return result; // Return the square root value\n",
    "}\n",
    "\n",
    "int main() {\n",
    "    struct FloatOrError a = {.isError = false, .value = {.f = 2}};\n",
    "    struct FloatOrError b = sqrt(a);\n",
    "    cout << \"square root of \" << ToString(a) << \" is \" << ToString(b) << endl;\n",
    "\n",
    "    struct FloatOrError c = {.isError = false, .value = {.f = -1}};\n",
    "    struct FloatOrError d = sqrt(c);\n",
    "    cout << \"square root of \" << ToString(c) << \" is \" << ToString(d) << endl;\n",
    "}\n",
    "\n",
    "\n",
    "CPPCODE\n",
    "g++-14 -std=c++26 -Wall -Wextra -Wpedantic -Wshadow -Wconversion enum.cpp -o enum\n",
    "./enum\n"
   ]
  },
  {
   "cell_type": "markdown",
   "id": "ffa65ea6",
   "metadata": {
    "vscode": {
     "languageId": "cpp"
    }
   },
   "source": [
    "## Stack"
   ]
  },
  {
   "cell_type": "code",
   "execution_count": 141,
   "id": "12904b82",
   "metadata": {
    "vscode": {
     "languageId": "cpp"
    }
   },
   "outputs": [
    {
     "name": "stdout",
     "output_type": "stream",
     "text": [
      "Stack underflow!\n",
      "Spent Error: Stack underflow\n",
      "Stack underflow!\n",
      "Spent Error: Stack underflow\n",
      "Stack underflow!\n",
      "Spent Error: Stack underflow\n",
      "Saved $1000, balance = 1k\n",
      "Saved $1000, balance = 2k\n",
      "Saved $1000, balance = 3k\n",
      "Saved $1000, balance = 4k\n",
      "Saved $1000, balance = 5k\n",
      "Spent 1000\n",
      "Spent 1000\n",
      "Saved $1000, balance = 4k\n",
      "Spent 1000\n",
      "Saved $1000, balance = 4k\n",
      "Saved $1000, balance = 5k\n",
      "Spent 1000\n",
      "Spent 1000\n",
      "Spent 1000\n",
      "Spent 1000\n",
      "Saved $1000, balance = 2k\n",
      "Saved $1000, balance = 3k\n",
      "Spent 1000\n",
      "Spent 1000\n",
      "Spent 1000\n",
      "Stack underflow!\n",
      "Spent Error: Stack underflow\n",
      "Saved $1000, balance = 1k\n",
      "Spent 1000\n",
      "Stack underflow!\n",
      "Spent Error: Stack underflow\n",
      "Saved $1000, balance = 1k\n",
      "Saved $1000, balance = 2k\n",
      "Spent 1000\n",
      "Spent 1000\n",
      "Saved $1000, balance = 1k\n",
      "Saved $1000, balance = 2k\n",
      "Spent 1000\n",
      "Saved $1000, balance = 2k\n",
      "Spent 1000\n",
      "Spent 1000\n",
      "Stack underflow!\n",
      "Spent Error: Stack underflow\n",
      "Stack underflow!\n",
      "Spent Error: Stack underflow\n",
      "Stack underflow!\n",
      "Spent Error: Stack underflow\n",
      "Stack underflow!\n",
      "Spent Error: Stack underflow\n",
      "Saved $1000, balance = 1k\n",
      "Spent 1000\n",
      "Saved $1000, balance = 1k\n",
      "Spent 1000\n",
      "Stack underflow!\n",
      "Spent Error: Stack underflow\n",
      "Saved $1000, balance = 1k\n",
      "Spent 1000\n",
      "Saved $1000, balance = 1k\n",
      "Spent 1000\n",
      "Stack underflow!\n",
      "Spent Error: Stack underflow\n",
      "Stack underflow!\n",
      "Spent Error: Stack underflow\n",
      "Saved $1000, balance = 1k\n",
      "Saved $1000, balance = 2k\n",
      "Saved $1000, balance = 3k\n",
      "Saved $1000, balance = 4k\n",
      "Saved $1000, balance = 5k\n",
      "Saved $1000, balance = 6k\n",
      "Saved $1000, balance = 7k\n",
      "Spent 1000\n",
      "Saved $1000, balance = 7k\n",
      "Saved $1000, balance = 8k\n",
      "Spent 1000\n",
      "Saved $1000, balance = 8k\n",
      "Spent 1000\n",
      "Spent 1000\n",
      "Spent 1000\n",
      "Saved $1000, balance = 6k\n",
      "Saved $1000, balance = 7k\n",
      "Spent 1000\n",
      "Saved $1000, balance = 7k\n",
      "Spent 1000\n",
      "Spent 1000\n",
      "Spent 1000\n",
      "Spent 1000\n",
      "Saved $1000, balance = 4k\n",
      "Spent 1000\n",
      "Saved $1000, balance = 4k\n",
      "Spent 1000\n",
      "Spent 1000\n",
      "Spent 1000\n",
      "Saved $1000, balance = 2k\n",
      "Spent 1000\n",
      "Spent 1000\n",
      "Stack underflow!\n",
      "Spent Error: Stack underflow\n",
      "Stack underflow!\n",
      "Spent Error: Stack underflow\n",
      "Stack underflow!\n",
      "Spent Error: Stack underflow\n",
      "Saved $1000, balance = 1k\n",
      "Spent 1000\n",
      "Saved $1000, balance = 1k\n",
      "Saved $1000, balance = 2k\n",
      "Spent 1000\n",
      "Spent 1000\n",
      "Saved $1000, balance = 1k\n",
      "Saved $1000, balance = 2k\n",
      "Saved $1000, balance = 3k\n",
      "Saved $1000, balance = 4k\n",
      "Spent 1000\n",
      "Saved $1000, balance = 4k\n",
      "Saved $1000, balance = 5k\n"
     ]
    }
   ],
   "source": [
    "%%bash\n",
    "cat > stack.cpp <<'CPPCODE'\n",
    "\n",
    "#include <iostream>\n",
    "using namespace std;\n",
    "\n",
    "struct IntOrError {\n",
    "    bool isError;\n",
    "    int value;\n",
    "    string why;\n",
    "};\n",
    "\n",
    "string ToString (struct IntOrError a) {\n",
    "    if (a.isError) {\n",
    "        return \"Error: \" + a.why;\n",
    "    }\n",
    "    return to_string(a.value);\n",
    "}\n",
    "\n",
    "struct IntStack100 {\n",
    "    int maxsize = 100;\n",
    "    struct IntOrError content[100];\n",
    "    int top; // top of the stack = how many elements are in the stack\n",
    "};\n",
    "\n",
    "void StackPush(struct IntStack100 &IS, IntOrError new_value) {\n",
    "    if (IS.top == IS.maxsize) {\n",
    "        cout << \"Stack overflow!\" << endl;\n",
    "        cout << \"That is, the stack reached its maximum capacity\" << endl;\n",
    "        cout << \"so you cannot push any more elements\" << endl;\n",
    "        return;\n",
    "    }\n",
    "    IS.content[IS.top] = new_value;\n",
    "    IS.top += 1;\n",
    "}\n",
    "\n",
    "IntOrError StackPop(struct IntStack100 &IS) {\n",
    "    if (IS.top == 0) {\n",
    "        cout << \"Stack underflow!\" << endl;\n",
    "        // TODO use a struct that allows error codes\n",
    "        IntOrError ohno = {true, -404, \"Stack underflow\"};\n",
    "        return ohno;\n",
    "    }\n",
    "    IS.top--;\n",
    "    return IS.content[IS.top];\n",
    "}\n",
    "\n",
    "int main() {\n",
    "    struct IntStack100 PiggyBank;\n",
    "    PiggyBank.top = 0;\n",
    "\n",
    "    for (int day = 0; day < 100; day++) {\n",
    "        if (rand() % 2 == 0) { // good day; save money\n",
    "            IntOrError kids = {false, 1000, \"\"};\n",
    "            StackPush(PiggyBank, kids);\n",
    "            cout << \"Saved $1000, balance = \" << PiggyBank.top << \"k\" << endl;\n",
    "        }\n",
    "        else { // bad day; spend money\n",
    "            IntOrError emergency_fund = StackPop(PiggyBank);\n",
    "            cout << \"Spent \" << ToString(emergency_fund) << endl;\n",
    "        }\n",
    "    }\n",
    "\n",
    "    return 0;\n",
    "}\n",
    "\n",
    "CPPCODE\n",
    "g++-14 -std=c++26 -Wall -Wextra -Wpedantic -Wshadow -Wconversion stack.cpp -o stack\n",
    "./stack"
   ]
  },
  {
   "cell_type": "markdown",
   "id": "766c6bb8",
   "metadata": {
    "vscode": {
     "languageId": "cpp"
    }
   },
   "source": [
    "## Type game"
   ]
  },
  {
   "cell_type": "markdown",
   "id": "a3182644",
   "metadata": {
    "vscode": {
     "languageId": "cpp"
    }
   },
   "source": [
    "```C++\n",
    "int ***(**a[10][20])[30][40];\n",
    "```"
   ]
  },
  {
   "cell_type": "markdown",
   "id": "4d9db028",
   "metadata": {},
   "source": [
    "```C++\n",
    "int ***(**a[10][20])[30][40];\n",
    "int ***(**b[20])[30][40];\n",
    "int ***(**c)[30][40];\n",
    "int ***(*d)[30][40];\n",
    "int ***e[30][40];\n",
    "int ***f[40];\n",
    "int ***g;\n",
    "int **h;\n",
    "int *i;\n",
    "int j;\n",
    "```\n",
    "\n",
    "- `[]` Has higher priority than *\n",
    "- Replace `a[10]` by `b`\n",
    "- Replace `b[20]` by `c`\n",
    "- Replace `*c` by `d`\n",
    "- Replace `*d` by `e`\n",
    "- Replace `e[30]` by `f`\n",
    "- Replace `f[40]` by `g`\n",
    "- Replace `*g` by `h`\n",
    "- Replace `*h` by `i`\n",
    "- Replace `*i` by `j`\n",
    "\n",
    "- `[]` Has higher priority than *\n",
    "- `a` is 2d array of p2p2 2d array of p2p2p2int\n",
    "- `b` is array of p2p2 2d array of p2p2p2int\n",
    "- `c` is ptr to ptr to 2d array of p2p2p2int\n",
    "- `d` is a pointer to 2d array of p2p2p2int\n",
    "- `e` is an array of array of ptr to ptr to ptr to int\n",
    "- `f` is an array of ptr to ptr to ptr to int\n",
    "- `g` is a pointer to pointer to pointer to int\n",
    "- `h` is a pointer to pointer to int\n",
    "- `i` is a pointer to int\n",
    "- `j` is an int\n"
   ]
  },
  {
   "cell_type": "code",
   "execution_count": null,
   "id": "357c7b70",
   "metadata": {
    "vscode": {
     "languageId": "cpp"
    }
   },
   "outputs": [],
   "source": [
    "[] Has higher priority than *\n",
    "a is 2d array of p2p2 2d array of p2p2p2int\n",
    "b is array of p2p2 2d array of p2p2p2int\n",
    "c is ptr to ptr to 2d array of p2p2p2int\n",
    "d is a pointer to 2d array of p2p2p2int\n",
    "e is an array of array of ptr to ptr to ptr to int\n",
    "f is an array of ptr to ptr to ptr to int\n",
    "g is a pointer to pointer to pointer to int\n",
    "h is a pointer to pointer to int\n",
    "i is a pointer to int\n",
    "j is an int\n"
   ]
  },
  {
   "cell_type": "markdown",
   "id": "0a16500c",
   "metadata": {
    "vscode": {
     "languageId": "cpp"
    }
   },
   "source": [
    "## Function pointer"
   ]
  },
  {
   "cell_type": "markdown",
   "id": "38bddf59",
   "metadata": {
    "vscode": {
     "languageId": "cpp"
    }
   },
   "source": [
    "```C++\n",
    "void ArrayAdd(int A[100], b){\n",
    "    for(int i = 0; i < 100; i++) {\n",
    "        A[i] += b;\n",
    "    }\n",
    "}\n",
    "\n",
    "void ArrayMul(int A[100], b){\n",
    "    for(int i = 0; i < 100; i++) {\n",
    "        A[i] *= b;\n",
    "    }\n",
    "}\n",
    "```"
   ]
  },
  {
   "cell_type": "markdown",
   "id": "438f431a",
   "metadata": {
    "vscode": {
     "languageId": "cpp"
    }
   },
   "source": [
    "```C++\n",
    "void ArrayModify(\n",
    "    int A[100],\n",
    "    int (*F)(int x)\n",
    "){\n",
    "    for(int i = 0; i < 100; i++) {\n",
    "        A[i] = (*F)(A[i]);\n",
    "    }\n",
    "}\n",
    "```"
   ]
  },
  {
   "cell_type": "markdown",
   "id": "870f40a6",
   "metadata": {
    "vscode": {
     "languageId": "cpp"
    }
   },
   "source": [
    "```C++\n",
    "void sort(\n",
    "    X A[100],\n",
    "    bool (*lessthan)(X a, X b)\n",
    "){\n",
    "    ...\n",
    "}\n",
    "```"
   ]
  },
  {
   "cell_type": "markdown",
   "id": "910cad48",
   "metadata": {},
   "source": [
    "BecauseWhyNot is a function.  \n",
    "Its first argument is a pointer to an array of char.  \n",
    "Its second argument is an array of pointer to int.  \n",
    "Its return type is a ptr to a 2d array to ptr to float."
   ]
  },
  {
   "cell_type": "markdown",
   "id": "066de94e",
   "metadata": {},
   "source": [
    "## Malloc"
   ]
  },
  {
   "cell_type": "markdown",
   "id": "35b253fd",
   "metadata": {},
   "source": [
    "```C++\n",
    "cin >> n;\n",
    "int *A;\n",
    "A = malloc(n * sizeof(int));\n",
    "\n",
    "for (int i = 0; i < n; i++) {\n",
    "    cin >> A[i];\n",
    "}\n",
    "\n",
    "for (int i = 0; i < n; i++) {\n",
    "    cout << A[n - 1 - i] << \" \";\n",
    "}\n",
    "\n",
    "```"
   ]
  },
  {
   "cell_type": "markdown",
   "id": "87383f50",
   "metadata": {},
   "source": [
    "Correction\n",
    "```C++\n",
    "cin >> n;\n",
    "int *A;\n",
    "void *V;\n",
    "V = malloc(n * sizeof(int));\n",
    "A = (int *) V;\n",
    "```"
   ]
  },
  {
   "cell_type": "markdown",
   "id": "f7a8995b",
   "metadata": {
    "vscode": {
     "languageId": "cpp"
    }
   },
   "source": [
    "## New"
   ]
  },
  {
   "cell_type": "markdown",
   "id": "373180c7",
   "metadata": {
    "vscode": {
     "languageId": "cpp"
    }
   },
   "source": [
    "```C++\n",
    "int *B ;\n",
    "B = new int[100];\n",
    "\n",
    "for (int i = 0; i < n; i ++) {\n",
    "    cin >> B[i];\n",
    "}\n",
    "\n",
    "for (int i = 0; i < n; i ++) {\n",
    "    cout << B[n - 1 - i] << \" \";\n",
    "}\n",
    "```"
   ]
  },
  {
   "cell_type": "markdown",
   "id": "fd758259",
   "metadata": {
    "vscode": {
     "languageId": "cpp"
    }
   },
   "source": [
    "```C++\n",
    "struct ComplexNumber *C ;\n",
    "C = new struct ComplexNumber;\n",
    "\n",
    "cin >> (*C).x >> (*C).y;\n",
    "cout << (*C).x * (*C).x\n",
    "      + (*C).y * (*C).y;\n",
    "```"
   ]
  },
  {
   "cell_type": "markdown",
   "id": "62e7c01d",
   "metadata": {
    "vscode": {
     "languageId": "cpp"
    }
   },
   "source": [
    "```C++\n",
    "struct ComplexNumber *C ;\n",
    "C = new struct ComplexNumber;\n",
    "\n",
    "cin >> C->x >> C->y;\n",
    "\n",
    "cout << C->x * C->x + C->y * C->y;\n",
    "```"
   ]
  },
  {
   "cell_type": "code",
   "execution_count": 147,
   "id": "a8e8fea5",
   "metadata": {
    "vscode": {
     "languageId": "cpp"
    }
   },
   "outputs": [
    {
     "ename": "SyntaxError",
     "evalue": "invalid syntax (1210077180.py, line 1)",
     "output_type": "error",
     "traceback": [
      "\u001b[0;36m  Cell \u001b[0;32mIn[147], line 1\u001b[0;36m\u001b[0m\n\u001b[0;31m    ```C++\u001b[0m\n\u001b[0m    ^\u001b[0m\n\u001b[0;31mSyntaxError\u001b[0m\u001b[0;31m:\u001b[0m invalid syntax\n"
     ]
    }
   ],
   "source": [
    "```C++\n",
    "int *A;\n",
    "A = (int *) malloc(n*sizeof(int));\n",
    "free(A);\n",
    "\n",
    "int *B = new int[n];\n",
    "delete[] B;\n",
    "\n",
    "int *C = new struct ComplexNumber;\n",
    "delete C;\n",
    "```"
   ]
  },
  {
   "cell_type": "code",
   "execution_count": null,
   "id": "1dd4cc2f",
   "metadata": {
    "vscode": {
     "languageId": "cpp"
    }
   },
   "outputs": [],
   "source": []
  }
 ],
 "metadata": {
  "kernelspec": {
   "display_name": "SageMath 10.6",
   "language": "sage",
   "name": "SageMath-10.6"
  },
  "language_info": {
   "codemirror_mode": {
    "name": "ipython",
    "version": 3
   },
   "file_extension": ".py",
   "mimetype": "text/x-python",
   "name": "python",
   "nbconvert_exporter": "python",
   "pygments_lexer": "ipython3",
   "version": "3.12.5"
  }
 },
 "nbformat": 4,
 "nbformat_minor": 5
}
