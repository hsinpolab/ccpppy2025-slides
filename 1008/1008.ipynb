{
 "cells": [
  {
   "cell_type": "markdown",
   "id": "c7658d49",
   "metadata": {
    "vscode": {
     "languageId": "plaintext"
    }
   },
   "source": [
    "# Computer Programming 1001"
   ]
  },
  {
   "cell_type": "code",
   "execution_count": 3,
   "id": "5eba4742",
   "metadata": {
    "vscode": {
     "languageId": "cpp"
    }
   },
   "outputs": [
    {
     "name": "stdout",
     "output_type": "stream",
     "text": [
      "env: SDKROOT=/Library/Developer/CommandLineTools/SDKs/MacOSX.sdk\n"
     ]
    }
   ],
   "source": [
    "# Ignore this; my laptop is so old and Apple is nasty so I need this\n",
    "sdkroot = !xcrun --show-sdk-path\n",
    "%env SDKROOT={sdkroot[0]}"
   ]
  },
  {
   "cell_type": "markdown",
   "id": "ae88b715",
   "metadata": {
    "vscode": {
     "languageId": "plaintext"
    }
   },
   "source": [
    "## Struct (recall)"
   ]
  },
  {
   "cell_type": "markdown",
   "id": "8a210beb",
   "metadata": {
    "vscode": {
     "languageId": "cpp"
    }
   },
   "source": [
    "Last time, we see that struct can pack several variables together.\n",
    "\n",
    "```C++\n",
    "struct CC {\n",
    "    double r;\n",
    "    double i;\n",
    "}\n",
    "```"
   ]
  },
  {
   "cell_type": "markdown",
   "id": "e7966145",
   "metadata": {
    "vscode": {
     "languageId": "cpp"
    }
   },
   "source": [
    "And then we can define functions.\n",
    "\n",
    "```C++\n",
    "double abs (struct CC z) {\n",
    "    double a = 0;\n",
    "    a += z.r * z.r;\n",
    "    a += z.i * z.i;\n",
    "    return sqrt(a);\n",
    "}\n",
    "\n",
    "struct CC conjugate(struct CC z) {\n",
    "    struct CC c;\n",
    "    c.r = z.r;\n",
    "    c.i = -z.i;\n",
    "    return c;\n",
    "}\n",
    "\n",
    "struct CC add(struct CC z, struct CC w) {\n",
    "    struct CC sum;\n",
    "    sum.r = Z.r + W.r;\n",
    "    sum.i = Z.i + W.i;\n",
    "    return sum;\n",
    "}\n",
    "```"
   ]
  },
  {
   "cell_type": "markdown",
   "id": "22a1fc52",
   "metadata": {
    "vscode": {
     "languageId": "cpp"
    }
   },
   "source": [
    "## Use class to do both at the same time"
   ]
  },
  {
   "cell_type": "markdown",
   "id": "ed472e95",
   "metadata": {
    "vscode": {
     "languageId": "plaintext"
    }
   },
   "source": [
    "Remember to use `public:` (default is `private:`).\n",
    "\n",
    "(The default of `struct` is `public:`.)\n",
    "\n",
    "(Now `class` = `struct` + `function`.)\n",
    "\n",
    "```C++\n",
    "class CCC {\n",
    "    public:\n",
    "    double r;\n",
    "    double i;\n",
    "    double abs() {\n",
    "        return sqrt(r*r + i*i);\n",
    "    }\n",
    "    CCC conjugate() {\n",
    "        CCC cjg;\n",
    "        cjg.r = r;\n",
    "        cjg.i = -i;\n",
    "        return cjg;\n",
    "    }\n",
    "    CCC add(CCC w) {\n",
    "        CCC sum;\n",
    "        sum.r = r + w.r;\n",
    "        sum.i = i + w.i;\n",
    "        return sum;\n",
    "    }\n",
    "};\n",
    "```"
   ]
  },
  {
   "cell_type": "markdown",
   "id": "b4904422",
   "metadata": {
    "vscode": {
     "languageId": "cpp"
    }
   },
   "source": [
    "This is how you use them\n",
    "```C++\n",
    "cout << z.abs() << endl;\n",
    "\n",
    "cout << z.conjugate().r << \" + \" << z.conjugate().i << \"i\" << endl;\n",
    "\n",
    "cout << z.add(w).abs() << endl;\n",
    "```"
   ]
  },
  {
   "cell_type": "markdown",
   "id": "154e1968",
   "metadata": {
    "vscode": {
     "languageId": "cpp"
    }
   },
   "source": [
    "Member variable: `r` and `i`\n",
    "\n",
    "Member function: `abs()` and `conjugate()`\n",
    "\n",
    "When defining a member function,\n",
    "the first argument is always `this`\n",
    "(the `z` in `z.abs()`, `z.conjugate()`, and `z.add(w)`).\n",
    "That is to say, in the function definition,\n",
    "`r` is actually `z.r` and `i` is actually `z.i`.\n"
   ]
  },
  {
   "cell_type": "markdown",
   "id": "dae827c0",
   "metadata": {
    "vscode": {
     "languageId": "plaintext"
    }
   },
   "source": [
    "## Operator"
   ]
  },
  {
   "cell_type": "markdown",
   "id": "37a72cd5",
   "metadata": {
    "vscode": {
     "languageId": "plaintext"
    }
   },
   "source": [
    "Last time we defined addition.\n",
    "\n",
    "```C++\n",
    "struct CC add(struct CC z, struct CC w) {\n",
    "    struct CC sum;\n",
    "    sum.r = Z.r + W.r;\n",
    "    sum.i = Z.i + W.i;\n",
    "    return sum;\n",
    "}\n",
    "```"
   ]
  },
  {
   "cell_type": "markdown",
   "id": "f448894f",
   "metadata": {
    "vscode": {
     "languageId": "plaintext"
    }
   },
   "source": [
    "But is it possible to use the plus character `+`?\n",
    "\n",
    "```C++\n",
    "struct CC sum = z + w;\n",
    "```"
   ]
  },
  {
   "cell_type": "markdown",
   "id": "af569637",
   "metadata": {
    "vscode": {
     "languageId": "plaintext"
    }
   },
   "source": [
    "Yes, all you need to know is that\n",
    "`z + w` will be translated into `operator+(z, w)`.\n",
    "\n",
    "The name of the function is `operator+`.\n",
    "\n",
    "So we can define our own `operator+` for `struct CC`.\n",
    "\n",
    "```C++\n",
    "struct CC operator+(struct CC z, struct CC w) {\n",
    "    struct CC c;\n",
    "    c.r = z.r + w.r;\n",
    "    c.i = z.i + w.i;\n",
    "    return c;\n",
    "}\n",
    "\n",
    "int main() {\n",
    "    struct CC z, w, c;\n",
    "    z.r = 1; z.i = 2;\n",
    "    w.r = 3; w.i = 4;\n",
    "    c = z + w; // same as c = operator+(z, w);\n",
    "    cout << abs(c)\n",
    "    return 0;\n",
    "}\n",
    "```"
   ]
  },
  {
   "cell_type": "markdown",
   "id": "9fbfd94b",
   "metadata": {
    "vscode": {
     "languageId": "cpp"
    }
   },
   "source": [
    "## Operator overloading"
   ]
  },
  {
   "cell_type": "markdown",
   "id": "825772ff",
   "metadata": {
    "vscode": {
     "languageId": "cpp"
    }
   },
   "source": [
    "`operator+` is defined for multiple types, including `int`, `double`, and `string`.\n",
    "\n",
    "```C++\n",
    "int operator+(int a, int b) { ... };\n",
    "double operator+(double a, double b) { ... };\n",
    "string operator+(string a, string b) { ... };\n",
    "```"
   ]
  },
  {
   "cell_type": "markdown",
   "id": "41ffe5a4",
   "metadata": {
    "vscode": {
     "languageId": "cpp"
    }
   },
   "source": [
    "C++ will determine the correction of `operator+`\n",
    "by checking the types of the two arguments."
   ]
  },
  {
   "cell_type": "markdown",
   "id": "c346277c",
   "metadata": {
    "vscode": {
     "languageId": "plaintext"
    }
   },
   "source": [
    "## Cout"
   ]
  },
  {
   "cell_type": "markdown",
   "id": "a9e597ad",
   "metadata": {},
   "source": [
    "To be able to use `cout << z`, we need to define `operator<<`.\n",
    "\n",
    "In other words, when the compiler sees `cout << z`,\n",
    "it translates it into `operator<<(cout, z)`.\n",
    "\n",
    "But what is `cout << z << endl`?\n",
    "\n",
    "It is translated into `(cout << z) << endl`.\n",
    "\n",
    "And then it is translated into `operator<<(operator<<(cout, z), endl)`.\n",
    "\n",
    "That is to say, the return value of `operator<<(cout, z)`\n",
    "is the type of `cout`.\n",
    "\n",
    "The type of `cout` is `ostream`.\n",
    "\n",
    "```C++\n",
    "ostream& operator<<(ostream& seaotter, struct CC z) {\n",
    "    seaotter << z.r << \" + \" << z.i << \"i\";\n",
    "    return seaotter;\n",
    "}\n",
    "```"
   ]
  },
  {
   "cell_type": "markdown",
   "id": "be9a3f68",
   "metadata": {
    "vscode": {
     "languageId": "cpp"
    }
   },
   "source": [
    "Usage\n",
    "\n",
    "```C++\n",
    "struct CC z;\n",
    "z.r = 1;\n",
    "z.i = 2;\n",
    "cout << z << endl; // 1 + 2i\n",
    "```"
   ]
  },
  {
   "cell_type": "markdown",
   "id": "172113a5",
   "metadata": {
    "vscode": {
     "languageId": "cpp"
    }
   },
   "source": [
    "This is the class version\n",
    "\n",
    "```C++\n",
    "class CCC {\n",
    "    public:\n",
    "    double r;\n",
    "    double i;\n",
    "    double abs() {\n",
    "        return sqrt(r*r + i*i);\n",
    "    }\n",
    "    CCC conjugate() {\n",
    "        CCC cjg;\n",
    "        cjg.r = r;\n",
    "        cjg.i = -i;\n",
    "        return cjg;\n",
    "    }\n",
    "    CCC operator+(CCC w) {\n",
    "        CCC sum;\n",
    "        sum.r = r + w.r;\n",
    "        sum.i = i + w.i;\n",
    "        return sum;\n",
    "    }\n",
    "};\n",
    "```"
   ]
  },
  {
   "cell_type": "markdown",
   "id": "6a9fe8eb",
   "metadata": {
    "vscode": {
     "languageId": "cpp"
    }
   },
   "source": [
    "If you don't know what is `ostream`,\n",
    "imagine that as a file that the screen can also read.\n",
    "\n",
    "By copying strings like `1 + 2i` into the file,\n",
    "the screen sees `1 + 2i` in the file and display them on the screen.\n",
    "Just like you open a `txt` file and see the content inside.\n"
   ]
  },
  {
   "cell_type": "markdown",
   "id": "2487d7c6",
   "metadata": {
    "vscode": {
     "languageId": "cpp"
    }
   },
   "source": [
    "## Cin"
   ]
  },
  {
   "cell_type": "markdown",
   "id": "8bfde705",
   "metadata": {},
   "source": [
    "Similarly, we can `cin >> z` by defining `operator>>`."
   ]
  },
  {
   "cell_type": "markdown",
   "id": "7ea9c2d4",
   "metadata": {},
   "source": [
    "```C++\n",
    "istream& operator>>(istream& seen, struct CC& z) {\n",
    "    // expect input: 1 2\n",
    "    return seen >> z.r >> z.i;\n",
    "}\n",
    "```\n"
   ]
  },
  {
   "cell_type": "markdown",
   "id": "6c6eb27c",
   "metadata": {},
   "source": [
    "```C++\n",
    "istream& operator>>(istream& seen, struct CC& z) {\n",
    "    // expect input: (1, 2)\n",
    "    char lparen, comma, rparen;\n",
    "    return seen >> lparen >> z.r >> comma >> z.i >> rparen;\n",
    "}\n",
    "```\n"
   ]
  },
  {
   "cell_type": "markdown",
   "id": "a049fe4e",
   "metadata": {},
   "source": [
    "```C++\n",
    "istream& operator>>(istream& seen, struct CC& z) {\n",
    "    // expect input: 1 + 2i\n",
    "    char plus, ichar;\n",
    "    return seen >> z.r >> plus >> z.i >> ichar;\n",
    "}\n",
    "```\n"
   ]
  },
  {
   "cell_type": "markdown",
   "id": "1b2ce837",
   "metadata": {
    "vscode": {
     "languageId": "cpp"
    }
   },
   "source": [
    "## Class constructor"
   ]
  },
  {
   "cell_type": "markdown",
   "id": "3659be6f",
   "metadata": {
    "vscode": {
     "languageId": "cpp"
    }
   },
   "source": [
    "Class constructor tells how to create a complex number\n",
    "(or for other classes).\n",
    "\n",
    "The best part is that you can construction in different ways.\n",
    "\n",
    "```C++\n",
    "class CCC {\n",
    "    public:\n",
    "    double r;\n",
    "    double i;\n",
    "    CCC () { // default constructor\n",
    "        r = 0;\n",
    "        i = 0;\n",
    "    }\n",
    "    CCC (double real) { // constructor with one argument\n",
    "        r = real;\n",
    "        i = 0;\n",
    "    }\n",
    "    CCC (double real, double imag) { // constructor with two arguments\n",
    "        r = real;\n",
    "        i = imag;\n",
    "    }\n",
    "    double abs() {\n",
    "        return sqrt(r*r + i*i);\n",
    "    }\n",
    "    CCC conjugate() {\n",
    "        CCC cjg;\n",
    "        cjg.r = r;\n",
    "        cjg.i = -i;\n",
    "        return cjg;\n",
    "    }\n",
    "    CCC operator+(CCC w) {\n",
    "        CCC sum;\n",
    "        sum.r = r + w.r;\n",
    "        sum.i = i + w.i;\n",
    "        return sum;\n",
    "    }\n",
    "};\n",
    "```\n",
    "\n",
    "\n",
    "```C++\n",
    "CCC a; // a = CCC() = 0 + 0i\n",
    "CCC b = CCC(1); // b = 1 + 0i\n",
    "CCC c = CCC(1, 2); // c = 1 + 2i\n",
    "```"
   ]
  },
  {
   "cell_type": "markdown",
   "id": "0dc6bd8a",
   "metadata": {
    "vscode": {
     "languageId": "cpp"
    }
   },
   "source": [
    "## Class deconstructor"
   ]
  },
  {
   "cell_type": "markdown",
   "id": "bfe351d4",
   "metadata": {
    "vscode": {
     "languageId": "cpp"
    }
   },
   "source": [
    "If the constructor involves some type of memory allocation,\n",
    "you also need a destructor to free the memory.\n",
    "\n",
    "This is not really needed, as the memory will be freed when the program ends.\n",
    "\n",
    "But for programs that run for a long time,\n",
    "it is a good practice to free memory that is no longer needed."
   ]
  },
  {
   "cell_type": "markdown",
   "id": "73ee453c",
   "metadata": {
    "vscode": {
     "languageId": "cpp"
    }
   },
   "source": [
    "An example is polynomial\n",
    "\n",
    "```C++\n",
    "class Polynomial {\n",
    "    public:\n",
    "    int degree;\n",
    "    int *coef;\n",
    "    Polynomial (int d) {\n",
    "        degree = d;\n",
    "        coef = new int[d+1]; // allocate memory for coefficients\n",
    "    }\n",
    "    ~Polynomial() {\n",
    "        delete[] coef; // free memory\n",
    "    }\n",
    "};\n",
    "```"
   ]
  },
  {
   "cell_type": "markdown",
   "id": "594e0741",
   "metadata": {
    "vscode": {
     "languageId": "cpp"
    }
   },
   "source": [
    "Another example is matrix\n",
    "\n",
    "```C++\n",
    "class Matrix {\n",
    "    public:\n",
    "    int rows, cols;\n",
    "    int **entry;\n",
    "    Matrix (int r, int c) {\n",
    "        rows = r;\n",
    "        cols = c;\n",
    "        entry = new int*[r]; // allocate memory for row pointers\n",
    "        for (int i = 0; i < r; i++) {\n",
    "            entry[i] = new int[c]; // allocate memory for each row\n",
    "        }\n",
    "    }\n",
    "    ~Matrix() {\n",
    "        for (int i = 0; i < rows; i++) {\n",
    "            delete[] entry[i]; // free memory for each row\n",
    "        }\n",
    "        delete[] entry; // free memory for row pointers\n",
    "    }\n",
    "};\n",
    "```\n"
   ]
  },
  {
   "cell_type": "markdown",
   "id": "86e6761b",
   "metadata": {
    "vscode": {
     "languageId": "cpp"
    }
   },
   "source": [
    "You can have class in class.\n",
    "\n",
    "For instance, polynomial of matrices.\n",
    "\n",
    "```C++\n",
    "class PolyMatrix {\n",
    "    public:\n",
    "    int degree;\n",
    "    Matrix *coef; // coef is an array of Matrix\n",
    "    PolyMatrix (int d, int size) {\n",
    "        degree = d;\n",
    "        coef = new Matrix[d+1]; // allocate memory for coefficients\n",
    "        for (int i=0; i<=d; i++) {\n",
    "            coef[i] = Matrix(size, size); // initialize each Matrix\n",
    "        }\n",
    "    }\n",
    "    ~PolyMatrix() {\n",
    "        // No per-element delete needed;\n",
    "        // delete[] coef will invoke ~Matrix() for each element\n",
    "        delete[] coef; // free memory\n",
    "    }\n",
    "};\n",
    "```"
   ]
  },
  {
   "cell_type": "markdown",
   "id": "503ad0df",
   "metadata": {
    "vscode": {
     "languageId": "cpp"
    }
   },
   "source": [
    "Another example is a matrix of polynomials\n",
    "\n",
    "```C++\n",
    "class MatrixPoly {\n",
    "    public:\n",
    "    int rows, cols;\n",
    "    Polynomial **entry;\n",
    "    MatrixPoly (int r, int c, int d) {\n",
    "        rows = r; cols = c;\n",
    "        entry = new Polynomial*[r]; // allocate memory for row pointers\n",
    "        for (int i=0; i<r; i++) {\n",
    "            entry[i] = new Polynomial[c]; // allocate memory for each row\n",
    "            for (int j=0; j<c; j++) {\n",
    "                entry[i][j] = Polynomial(d); // initialize each polynomial\n",
    "            }\n",
    "        }\n",
    "    }\n",
    "    ~MatrixPoly() {\n",
    "        for (int i=0; i<rows; i++) {\n",
    "            delete[] entry[i]; // free memory for each row\n",
    "        }\n",
    "        delete[] entry; // free memory for row pointers\n",
    "    }\n",
    "}\n",
    "```"
   ]
  },
  {
   "cell_type": "markdown",
   "id": "037088f5",
   "metadata": {
    "vscode": {
     "languageId": "cpp"
    }
   },
   "source": [
    "## Inheritance"
   ]
  },
  {
   "cell_type": "markdown",
   "id": "fed1ead8",
   "metadata": {},
   "source": [
    "A derived class can inherit from another class.\n",
    "\n",
    "For instance, a bird is an animal.\n",
    "\n",
    "So a bird can inherit `age` from animal;\n",
    "\n",
    "```C++\n",
    "class Animal () {\n",
    "    int age;\n",
    "    string name;\n",
    "}\n",
    "\n",
    "class Bird : public Animal {\n",
    "    double wing_span;\n",
    "};\n",
    "```\n",
    "\n",
    "Now bird has `age`, `name`, and `wing_span`.\n",
    "\n",
    "```C++\n",
    "Bird b;\n",
    "b.age = 1;\n",
    "b.name = \"sparrow\";\n",
    "b.wing_span = 0.25;\n",
    "```"
   ]
  },
  {
   "cell_type": "markdown",
   "id": "caac5ede",
   "metadata": {},
   "source": [
    "You can chain inheritance.\n",
    "\n",
    "```C++\n",
    "class Peacock : public Bird {\n",
    "    string color;\n",
    "};\n",
    "```\n",
    "\n",
    "Now peacock has `age`, `name`, `wing_span`, and `color`.\n",
    "\n",
    "```C++\n",
    "Peacock p;\n",
    "p.age = 2;\n",
    "p.name = \"peacock\";\n",
    "p.wing_span = 1.5;\n",
    "p.color = \"blue\";\n",
    "```"
   ]
  },
  {
   "cell_type": "markdown",
   "id": "4f6f4dec",
   "metadata": {},
   "source": [
    "You can inherit from multiple classes.\n",
    "\n",
    "```C++\n",
    "class Mammal : public Animal {\n",
    "    bool has_fur;\n",
    "};\n",
    "\n",
    "class Bat : public Mammal, public Bird {\n",
    "    double echolocation_range;\n",
    "};\n",
    "```\n",
    "\n",
    "Now bat has `age`, `name`, `has_fur`, `wing_span`, and `echolocation_range`.\n",
    "\n",
    "```C++\n",
    "Bat b;\n",
    "b.age = 3;\n",
    "b.name = \"bat\";\n",
    "b.has_fur = true;\n",
    "b.wing_span = 1.5;\n",
    "b.echolocation_range = 100.0;\n",
    "```"
   ]
  },
  {
   "cell_type": "markdown",
   "id": "5e86204d",
   "metadata": {},
   "source": []
  }
 ],
 "metadata": {
  "kernelspec": {
   "display_name": "SageMath 10.6",
   "language": "sage",
   "name": "SageMath-10.6"
  },
  "language_info": {
   "codemirror_mode": {
    "name": "ipython",
    "version": 3
   },
   "file_extension": ".py",
   "mimetype": "text/x-python",
   "name": "python",
   "nbconvert_exporter": "python",
   "pygments_lexer": "ipython3",
   "version": "3.12.5"
  }
 },
 "nbformat": 4,
 "nbformat_minor": 5
}
