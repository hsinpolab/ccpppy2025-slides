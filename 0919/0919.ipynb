{
 "cells": [
  {
   "cell_type": "markdown",
   "id": "094cd75f",
   "metadata": {
    "vscode": {
     "languageId": "plaintext"
    }
   },
   "source": [
    "# Computer Programming 0919"
   ]
  },
  {
   "cell_type": "code",
   "execution_count": 1,
   "id": "ebacef72",
   "metadata": {
    "vscode": {
     "languageId": "python"
    }
   },
   "outputs": [
    {
     "name": "stdout",
     "output_type": "stream",
     "text": [
      "env: SDKROOT=/Library/Developer/CommandLineTools/SDKs/MacOSX.sdk\n"
     ]
    }
   ],
   "source": [
    "# Ignore this; my laptop is so old and Apple is nasty so I need this\n",
    "sdkroot = !xcrun --show-sdk-path\n",
    "%env SDKROOT={sdkroot[0]}"
   ]
  },
  {
   "cell_type": "markdown",
   "id": "3968ba8a",
   "metadata": {},
   "source": [
    "## Print rand Photo"
   ]
  },
  {
   "cell_type": "code",
   "execution_count": null,
   "id": "da301234",
   "metadata": {
    "vscode": {
     "languageId": "cpp"
    }
   },
   "outputs": [
    {
     "name": "stdout",
     "output_type": "stream",
     "text": [
      "Overwriting printphoto.cpp\n"
     ]
    }
   ],
   "source": [
    "%%writefile printphoto.cpp\n",
    "\n",
    "\n",
    "#include <iostream>\n",
    "#include <cmath>\n",
    "using namespace std;\n",
    "\n",
    "string white2black =  \" .:-=+*#%@\";\n",
    "// The names of these characters:\n",
    "//  space\n",
    "// .period\n",
    "// :colon\n",
    "// -hyphen\n",
    "// =equal\n",
    "// +plus\n",
    "// *asterisk\n",
    "// #hash\n",
    "// %percent\n",
    "// @at\n",
    "\n",
    "// 0 is white, 3 is light gray, 6 is dark gray, 9 is black\n",
    "void PrintPixel(float pvalue) {\n",
    "    // void means this function does not return anything\n",
    "    int pint = round(pvalue);\n",
    "    if (pint > 9) {pint = 9;} // Clamp the value\n",
    "    if (pint < 0) {pint = 0;} // Clamp the value\n",
    "    // https://en.wikipedia.org/wiki/Clamping_(graphics)\n",
    "    cout << white2black[pint];\n",
    "    // instead of cout-ing the number pint,\n",
    "    // we cout character that requires more ink to represent higher number\n",
    "\n",
    "    // As mentioned, void means this function does not return anything\n",
    "    // So we don't write a return statement here\n",
    "}\n",
    "\n",
    "int main() {\n",
    "    float photo[50][100]; // This is a 2D array\n",
    "    // Height is 50, width is 100\n",
    "    // photo is the entire photo\n",
    "    // photo[0] is the first row\n",
    "    // photo[0][0] is the first pixel of the first row\n",
    "    // etc etc\n",
    "    // photo[49][99] is the last pixel of the last row\n",
    "    // Try cout << photo, what do you get?\n",
    "    // Try cout << photo[0], what do you get?\n",
    "\n",
    "    for (int y = 0; y < 50; y++) {\n",
    "        for (int x = 0; x < 100; x++) {\n",
    "            // Initialize every pixel as a random number between 0 and 9\n",
    "            photo[y][x] = rand() % 10;\n",
    "        }\n",
    "    }\n",
    "    \n",
    "    for (int y = 0; y < 50; y++) {\n",
    "        for (int x = 0; x < 100; x++) {\n",
    "            // Using the function PrintPixel to print the pixel\n",
    "            PrintPixel(photo[y][x]);\n",
    "        }\n",
    "        cout << endl; // Go to the next row\n",
    "    }\n",
    "}\n"
   ]
  },
  {
   "cell_type": "code",
   "execution_count": 5,
   "id": "7220b5da",
   "metadata": {
    "vscode": {
     "languageId": "shellscript"
    }
   },
   "outputs": [
    {
     "name": "stdout",
     "output_type": "stream",
     "text": [
      "#@-% :=%-@ +::#-#@ :-@@# -@%*+#*:# -@@@.#:-*++%.=#.-%=% =* -:*@=.-#%%-%.+-+=-*+@+=@.#++=.%%-+::**#%=\n",
      ".#.%#%##==@.+++%:@%: #=%+%- *::+::#.+:.. .%#*  @+*:%+@=-@ +*-*- %= =*=*=-%=  @-#+#:@#+*+- =%+++=:.@:\n",
      "=+%*:+.-@#-#+ :.%#.++%+*#@=.*.: ==+@#+-@ ++*-:*%@.=%%#.@-..=@+@ @-= #+#+ *=#%=  *:=#=.%+%@@@--##-:+*\n",
      "-= * = +*%+-#*%*#.%=@#-. :-#.%@-#=% = +#  +*#% *+#-=- =%#+@+-:#-@##@+---%+%@* =:--#  . -  -%-* = @:=\n",
      "@:@. @-  - .@%*@ .*==%*.= %. -..+ %=@- +:-%#% =+#. * --+ :-:#.  @#.#=+.#%:+=+- .@=+@-@**= %: * #:@%.\n",
      ".*..%..+  %-# .-=-##+.:**+=.#.-=%*.+ *+-. .@+#*%+=#@****# =. %.=%%=+#@%=+%%@=# = *+-%+.:=*#++ +: ##@\n",
      "#+-@@=@.+@%- @ #*%-%*.@*#%@#++:=@==#@++*.+@.-%%@=-@+.#=+.=* -::.=## @+#:@#*%:@@%-#.:*.#*+ =+.:-#:=.%\n",
      ":* -@=@*+.-:*@  -@+-..:*@.@ *.#-%# -*@.=.=*. := =-.#@=# ..+:::=@##: @ #.* @:@* :%==% .+...+.# %+-#@*\n",
      "-.+% @:=--@ ++==-%::*=   %.#*#.=%.%+-.@-@. =@   -:%:=%-+  *# #--:.=  %#-%=+:@ @% +-++=+..*.@-=#@% #+\n",
      "%=:+ # #*%:-@ -%-.  % =#*.*.=@*=:%==@%. -#=-=%.:%-@@@*.#-@%= *-=*@#=@=.@*# @#-.+*=+.:%% ##@* .:-:.. \n",
      ".-%  @=:= :@#@::-.-:.*%. * =@@=+ *@ %%:% : @+-+@%@.:%= . %.=@+@ :-+@ .-*@ = :==.@ :.+=@ : -%:.*%-:@#\n",
      "-=%*..+*@% ::*#*.:.-*+#-*-:+ -#-+@.%= %@+%:-:***-==:@:%@:+*#:%  %:+% -:--:.@.*-@.#@***===+#*## :..=-\n",
      "#==- #@@@==.:@=#- @ -..+-@*-.%.- %#*:@.=.:+ =:*#*-=.@+@%%%#-%%@*%*@+@*%*@=#*%.-% %..%#*.%%-+*%%@@-#:\n",
      "-%-+.+=::@.+%% = %++@+##-#*=-+=+*@=-*-=#= #+ :+=:.+.*  :- + +#=% * +@:%-#*:@%+@:++@..==:*-*@. =+%:.*\n",
      " %=#%.# =*@+-:@=.** :--+%.%..- #:-+%-+*.#@:=%-@*=##-.#=@*@% -**+=:-.:.:+*=% . +=:*#@+@. %@@#@*@ +#::\n",
      " .+ +*=+:- *=#..%+: ..:=++:-:-..@% @+:=:-+%=+.. =.*.=+:--*%=%-@:- @:#::#@- @ .+%:+ :%-@@- .+:#-@*=@:\n",
      "-+@#:=:=*#+@:*:@*@@% -*-#+%##.*.-=-::...:--  =+# .%*- @*:%=**:+.#.%= ##.::#=#+#-%@-#.+#+#:==@@* .*:-\n",
      "+@.@.*-*= %.@++.##% ==+-@*+-#:.%=:. * -#%=#@+--* %@#=+@#+#=+%#@+@**%+:%-@---@.==+:*@+ - :%-.#%*%*#= \n",
      " %#*=*-#%=*%:- ==--:@#@#.--@ =#=.% %%.#:- * =% -@=+.. # =+.=:= *#.+@.+  +@=-====-+###:=:@@-#  **:+%*\n",
      ".=#% :#+.*= +%@:-:*%-***-.*:.@#=: :+ :.:-##*+.@@#@ *+.#@#-+@:%-@%#=.#* :. %#@=#:@# .== +@#++= %#-#=%\n",
      "#+-:#*:::% + *.@ :#+:=+ .-.#. @#=%-%.:@*+:-@@=*#: *.+=*=#++*=.. *@##@-:+@@ :%-**-#--%=*- .*+@+%+@.= \n",
      "*:--+.+:%+: . -#@ .@:@*@.* . :.+ =#-+%.*-%* :*@ :.:.#@%#*:%-%=@*-:-*@+=:.#.@=#***#-=# # *--+ :**%#-#\n",
      "*+=*%-.#.*==@+@%= #-:+.. :@ -+%=%=.  %+%=#:% :+= *-  +:: %:++#=#=  **.-:+%+ +*#+#+-+*-:#.@+.#* +*..+\n",
      "*@ =#:-- --=:#-.#@#*.=:  =*@#-@-:@=%-@++# ##@%- @#.%+ =:* @@%@::%#.:*@+%+%-#+==+ -@%@@+-%=##.:%#=:*+\n",
      "- :  --%%-:. ++.==#%%+%%=-.:=+@*=%#+#-*-*#*:#:*-..=%=+#-#+-*%.#  :*@#=#+%*+#+#@..@.++=-=-@.: -@: @= \n",
      "*@=%%**:=%.#+#.@%++..::@=-=.*=-=-.=%@+:::+@-- @+=@.@-%+#  @--*+ +:=.---%-..#@#@:@ .+.-* =-%: *+#:: *\n",
      " .%+@--.%:#:..+#@#.* *:.@.= - %+ #+#@@:-#@@#@@%%++#+@=+*:* %@.=+ #%=+%.%+:+.  : : . + =*+%#=@-=*=..+\n",
      "%-#:-+.-%# *@.@ =+%.#.- %+*=-=#+@-*+.%@ @#:== -.%=%%#:%*+#:#@  .#.@ =#*+.=++@@@@:= *::. =#-#.+%=:%+%\n",
      ": @ #:*%% -@#:=- .+%#-==#:=@@=#+%#-# - -*%* :#@.*#.%+%.-# :-:@-%-%# %*-+%.*-%=##:*.- #=.+@:*% +:-+#+\n",
      ":%*%#:-**.@=: #%.-=:+%:##+#.:#=%-+.@--=.%@-%#:-%..@@ .*-#=%@+ ##+%*=#*%#:.@#*# %.::+@.%:-- *:= .# %+\n",
      "+#=.+@@# -::-@=.=:#==*=#%%=#+:*#+==%-- = :=+@=+*@   .=@#: =- =%#. :=+@-+%%#@=.## @::-:.:##%#-:.-:# +\n",
      " @-+=#%- =.#@+-:@@% %@# %%*::#-...#%-.:#%%*=-- =-#:@#:=%+ %=* =+%.@.@.* -:.% :@@@.===.=.#.@#+*..%:-%\n",
      "-- %-# @-@-%*++.* +%%#:.##=+ #*+-*+ :+-+:@ -#*--*:*:%.*=@:*@*=++%--=*+ +#-:.=#*#. - @ :.*: @=%*#@ @%\n",
      "-%*.*% .@.#=**%**:@@@#* *.*%* -. =%#=*#@+#% = % --.-*=:@::.++.= *-%*-@-*%.@@.+-%:%.@.-- -:* *:*:=:* \n",
      "@:=+::=@-##+=-*==%.* ::=@+#: *#* * -.=+#::.%+#%:#**:= @+++.-%=%+=+** -% @ #@%## ...%:@:*@*=%#-=#@ * \n",
      "* :+:*=*@-##.@+@@.@--*.%%#*.%=-##%.   -#@#-@=-*@..+*@*=*==+#+@ *%-:# :+.@=% *@-%+%@#=-@ =*..@%@#+-++\n",
      " *++%:#==* -+%--:.*:-*#+-@-. @@%#+*-@#%#%  %:.#*%:+=@@++-+ @#.* +-*-:+@+*-#@: =:*@*%:*#*@--*-++@.-:=\n",
      "+*- @#-+:.#:%-:+=:-@-=*:-#@=#%% :=:%. .==#=.#:*.::-** + .-*+ #*:=-.#-++* @#=.:...#-+..:* :=@#++-*@-+\n",
      "@*#.-.--*@#.-+==*-#. %=.=.-%:  =@ . +:@+++ %@+#*:+=-:.:*** .@@+@*:-.:+#%+-:%@-%*.*%@=#**@@ ==%*=#++:\n",
      " @%%-:=*  #+ %.#@#.#   *%%-++:#-.@+*=+@ %*@@++*..-+=*-- --*::%:#%:=*:=@+*@.%..:.* @#:*-=#=# #% @:*.*\n",
      "#*#**: # **+*@#: *= #=+-.-##=*+.:*+#@+ :*-%@ *-+.+#%*@*#+=#@:=#+:=+##%* *-:.%-.:@%.*:#-% . @:=.+.@@-\n",
      "-#%%. =#@@ @=#*.+:#:.@. #.-%+ =@#:=*+*.*:* #=+#+:*.%=.@-..*: @.@@+@: *@=*@:-- % @+#@---:=--+. @-%#. \n",
      "+=.@ #-=%.#:::*:.= *## % . - %=::- .#-=: #.% .=#:. -#=@.@ .*@@++#% #+:#-#::=%*@#-=%@::#@:*%=-=#@ #- \n",
      ".+%+@@#-%:*@::-.=.=.*. :+=#.-:#+ % =@+ =.%*#-.+-.%.=-%-+ =#.%*+-=.=:::@@:#%.#+#+-@--##:- @-+-*.%+@@:\n",
      ":%+*+:=*=+- %%#*## @-@*+*== #.* @@=%# *=:-%.= * :=.@:. -@=@%++:.%#:+.:*-  .+:-.%%##@ +@+@+#*+-@*%=.:\n",
      "*%++@##*  @:*+.  == =%*+-.%+ .@++@.+@+@+%=@#-**-+*.@+@ @=*#%=*-%.-@  * %%  %%#=: *%++:-@@%  +:@*::#=\n",
      " #+.@*%  #*.=*-%:*@::%#.-@#.@#.+@=@ *#.=#.++#=.=*#@*@.#:#  .=%#.%-@@:-*%@*@-+@=+-=.-.:..::%+-=%**%.#\n",
      "*@  #%%# %+:- :*=*==#-:*-% **- ##%+=% -#..*%:*.%%-++:: %= =@ #:- :.*#*@*%#. :#%--:+*.#=..#:.**:+.=@.\n",
      ".%-#-%%  #*+.@+-=*+ **- ...@ +##-:@% #*:@%+@: =:#@##+*= :+@#-**--:.#.:=+.-@#@@@ ++-=+:%.##-= % .+*++\n",
      "%==* %-+:#=:*#++#@#* =#.**---+% ++-=#@=-- @+===+%- ++@=%@--* :**%=*=#=-=@.*%@:#::  .:*.-%-=#@@.+=@##\n"
     ]
    }
   ],
   "source": [
    "%%bash\n",
    "\n",
    "g++-14 -std=c++26 -Wall -Wextra -Wpedantic printphoto.cpp -o printphoto\n",
    "./printphoto"
   ]
  },
  {
   "cell_type": "markdown",
   "id": "627b4523",
   "metadata": {
    "vscode": {
     "languageId": "cpp"
    }
   },
   "source": [
    "## Combined"
   ]
  },
  {
   "cell_type": "code",
   "execution_count": 8,
   "id": "41469cfd",
   "metadata": {
    "vscode": {
     "languageId": "cpp"
    }
   },
   "outputs": [
    {
     "name": "stdout",
     "output_type": "stream",
     "text": [
      "Writing sine.cpp\n"
     ]
    }
   ],
   "source": [
    "%%writefile sine.cpp\n",
    "\n",
    "#include <iostream>\n",
    "#include <cmath>\n",
    "using namespace std;\n",
    "\n",
    "string white2black =  \" .:-=+*#%@\";\n",
    "void PrintPixel(float pvalue) {\n",
    "    int pint = round(pvalue);\n",
    "    if (pint > 9) {pint = 9;} // Clamp the value\n",
    "    if (pint < 0) {pint = 0;} // Clamp the value\n",
    "    // https://en.wikipedia.org/wiki/Clamping_(graphics)\n",
    "    cout << white2black[pint];\n",
    "}\n",
    "\n",
    "void InitializePhoto(float ph[50][100]) {\n",
    "    for (int y = 0; y < 50; y++) {\n",
    "        for (int x = 0; x < 100; x++) {\n",
    "            // Initialize pixels using sin\n",
    "            ph[y][x] = 6 * sin(0.3*x-0.5*y) * sin(-0.1*x+0.05*y);\n",
    "        }\n",
    "    }\n",
    "}\n",
    "\n",
    "void PrintPhoto(float ph[50][100]) {\n",
    "    for (int y = 0; y < 50; y++) {\n",
    "        for (int x = 0; x < 100; x++) {\n",
    "            // Using the function PrintPixel to print the pixel\n",
    "            PrintPixel(ph[y][x]);\n",
    "        }\n",
    "        cout << endl; // Go to the next row\n",
    "    }\n",
    "}\n",
    "\n",
    "int main() {\n",
    "    float photo[50][100]; // This is a 2D array\n",
    "    InitializePhoto(photo);    \n",
    "    PrintPhoto(photo);\n",
    "}\n"
   ]
  },
  {
   "cell_type": "code",
   "execution_count": 9,
   "id": "76bd4418",
   "metadata": {
    "vscode": {
     "languageId": "shellscript"
    }
   },
   "outputs": [
    {
     "name": "stdout",
     "output_type": "stream",
     "text": [
      "           .:=+***+-:                      :-+***+=:.                     .-=+**+=-.                \n",
      "             .-++**+=:.                     .:=+**+=-:                      :-+***+=:.              \n",
      "               :=+**++-:                      .-=+**+=:.                     .:=+**+=-:             \n",
      "   .            .-=+**+=-.         .            :=+**+=-:         .            .-=+*++=:.           \n",
      "   ...            :-=+++=-:.       ...           .-=++++=:.       ...            :-++++=-:        ..\n",
      "    ....            :=+++==:.      .....           .-=+++=-:.      ....           .:=+++=-:.      ..\n",
      "    ..:::.           .-=++==-:.     ..::.            :-=++=-:.     ..:::.           .-=++==-:.     .\n",
      ".    ..::::.           .-====-:.    ..::::.           .:-===-:..    .:::::.           :-====-:.    .\n",
      ":.    .::--::            :-===-:..   ..:---:.           .--==-::.    .::--:.           .:-===-:.    \n",
      "-:.    .:-----.           .:----:..   ..:----:.           :----::.    .:----:.           .:----:..  \n",
      "-::.    .:--==-:.           .:---:..   ..:-===-:           .:---::.    .:--==-:.           .:--::.  \n",
      ":::..    .:--===-:.           .::::.     .:-====-.           .::::..    .:-====-:            .::::. \n",
      ".:::..     .:-=++=-:           ..::..     .:-=++==:.           .:::.      .:-=++=-.           ..::..\n",
      "  ....      .:-=+++=-.           .....      .-=+++=-:            ....      .:-=+++=-.           ....\n",
      "    ...       .-=++++=:.           ...       .:-=+++=-.           ...        :-=++++=:            ..\n",
      "               .:-=+*++-:            .         .-=+**+=:.                     .:=++*+=-.            \n",
      "                 .-=+**+=-.                     .:-+***+-:                      .-=+**+=-.          \n",
      "                   :-+***+=:.                     .-=+**+=-.                      :=+***+=:         \n",
      "                    .:=+***+-:                      :-+***+=:.                     .-=+**+=-.       \n",
      "                      .-=+**+=-.                     .:=+**++-:                      :-+***+=:.     \n",
      "-.                      :=+**++-:                      .-=+**+=-.                     .:=+**+=-:    \n",
      "+-:.        .            .-=+**+=-.         .            :-++*+=-:         .            .-=+*++=:.  \n",
      "++=-.       ....           .-=+++=-:.       ...           .:=++++=:.       ...            :-++++=-:.\n",
      "+++=-:.      ....            :-+++==:.      .....           .-=+++=-:.      ....           .:=+++=-:\n",
      "-=++=-:.     ..:::.           .:==+==-:.     ..::..           :-=++=-:.     ..:::.           .-=++==\n",
      " :-===--:.    ..::::.           .-====-:.    ..::::.           .:-===-:..    .:::::.           :-===\n",
      "  .:-==--:.    .::---:.           :-===-:..   ..:---:.           .:-==--:.    .::--::            :-=\n",
      "    .:----:.    .:-----:           .:----:..   ..:----:.           :----::.    .:----:.           .:\n",
      "      ::--::.    .:--==-:.           .:---:..   ..:-===-:           .::--::.    .:--==-:.           \n",
      "       .::::..    .:--===-:.           .::::.     .:-====-.           .::::..    .:-====-:          \n",
      "         .:::..     .:-=++=-:           ..::..     .:-=+++=:.           .:::.      .:-=++=-:        \n",
      "           ....      .:-=+++=-.           .....      .-=++++-:            ....      .:-=+++=-.      \n",
      ":            ...       .-=++++=:.           ...       .:-=+++=-.            ..        .-=++++=:     \n",
      "=-.                     .:-=+*++-:                      .-=+**+=-.                     .:-++*++-:   \n",
      "*+=:.                     .-=+**+=-.                      :-+***+=:                      .-=+**+=-. \n",
      "***+-:                      :-+***+=:.                     .-=+**+=-.                      :-+***+=:\n",
      "=+**+=-.                     .:=+***+-:                      :-+***+=:.                     .-=+**+=\n",
      ":=+***+-:                      .-=+**+=-.                     .:=+***+-:                      :-+***\n",
      " .-=+**+=-.                      :=+**++-:.                     .-=+**+=-.                      :=+*\n",
      "   .-=+*++-:.        .            .:=+**+=-.         .            :-++*+=-:.        .            .-=\n",
      "     :=++++=-.       ....           .-=+++=-:.       ...           .:=++++=-.       ...            :\n",
      "      .-=+++=-:.      ....            :-=+++=-.      .....           .-=+++=-:.      ....           \n",
      "        .-=++=-:.     ..:::.           .:==+==-:.     ..::..           :-=++=-:.     ..:::.         \n",
      "          :-===--:.    ..::::.           .-====-:.    ..::::.           .:-===-::.    .:::::.       \n",
      "           .:-==--:.    .::---:.           :-===-:..   ..:---:.           .:-==--:.    .::--::      \n",
      ":.           .:----:.    .:-----:           .:----:..   ..:----:.           .----::.    .:-----.    \n",
      "=-:.           .:--::.    .:--==--.           .:---:..   ..:-===-:            ::--::.    .:--==-:.  \n",
      "===-:           .::::..    ..:-===-:.           .::::.     .:-====-.           .::::..    .:-====-: \n",
      "==++=-.           .:::..     .:-=++=-:            .::..     .:-=+++=-.           .:::.      .:-=++=-\n",
      ":-=+++=:.           ....      .:-=+++=-.           .....      .:=++++=:            ....      .:-=+++\n"
     ]
    }
   ],
   "source": [
    "%%bash\n",
    "\n",
    "g++-14 -std=c++26 -Wall -Wextra -Wpedantic sine.cpp -o sine\n",
    "./sine"
   ]
  },
  {
   "cell_type": "markdown",
   "id": "0530a259",
   "metadata": {
    "vscode": {
     "languageId": "cpp"
    }
   },
   "source": [
    "## We’re stardust"
   ]
  },
  {
   "cell_type": "code",
   "execution_count": null,
   "id": "9568faf8",
   "metadata": {
    "vscode": {
     "languageId": "cpp"
    }
   },
   "outputs": [
    {
     "name": "stdout",
     "output_type": "stream",
     "text": [
      "Overwriting stardust.cpp\n"
     ]
    }
   ],
   "source": [
    "%%writefile stardust.cpp\n",
    "\n",
    "#include <iostream>\n",
    "#include <cmath>\n",
    "#include <unistd.h>\n",
    "using namespace std;\n",
    "\n",
    "string white2black =  \" .:-=+*#%@\";\n",
    "void PrintPixel(float pvalue) {\n",
    "    int pint = round(pvalue);\n",
    "    if (pint > 9) {pint = 9;} // Clamp the value\n",
    "    if (pint < 0) {pint = 0;} // Clamp the value\n",
    "    // https://en.wikipedia.org/wiki/Clamping_(graphics)\n",
    "    cout << white2black[pint];\n",
    "}\n",
    "\n",
    "void InitializePhoto(float ph[50][100]) {\n",
    "    for (int y = 0; y < 50; y++) {\n",
    "        for (int x = 0; x < 100; x++) {\n",
    "            // Initialize every pixel as a random number between 0 and 9\n",
    "            ph[y][x]=6*sin(0.3*x-0.5*y)*sin(-0.1*x+0.05*y);\n",
    "        }\n",
    "    }\n",
    "}\n",
    "\n",
    "void PrintPhoto(float ph[50][100]) {\n",
    "    for (int y = 0; y < 50; y++) {\n",
    "        for (int x = 0; x < 100; x++) {\n",
    "            // Using the function PrintPixel to print the pixel\n",
    "            PrintPixel(ph[y][x]);\n",
    "        }\n",
    "        cout << endl; // Go to the next row\n",
    "    }\n",
    "}\n",
    "\n",
    "void DarkerPhoto(float ph[50][100]) {\n",
    "    for (int y = 0; y < 50; y++) {\n",
    "        for (int x = 0; x < 100; x++) {\n",
    "            ph[y][x] *= 0.9;\n",
    "        }\n",
    "    }\n",
    "}\n",
    "\n",
    "void AddNoise(float ph[50][100]) {\n",
    "    for (int y = 0; y < 50; y++) {\n",
    "        for (int x = 0; x < 100; x++) {\n",
    "            ph[y][x] += 20 * (rand() % 500 == 1);\n",
    "        }\n",
    "    }\n",
    "}\n",
    "\n",
    "int main() {\n",
    "    float photo[50][100]; // This is a 2D array\n",
    "    InitializePhoto(photo);\n",
    "    for (int repeat = 0; repeat < 100; repeat++) {\n",
    "        DarkerPhoto(photo);\n",
    "        AddNoise(photo);\n",
    "        PrintPhoto(photo);\n",
    "        usleep(100000);\n",
    "    }\n",
    "}\n"
   ]
  },
  {
   "cell_type": "code",
   "execution_count": 27,
   "id": "0962eb7f",
   "metadata": {
    "vscode": {
     "languageId": "shellscript"
    }
   },
   "outputs": [
    {
     "name": "stdout",
     "output_type": "stream",
     "text": [
      "execute this in terminal, not in notebook\n"
     ]
    }
   ],
   "source": [
    "%%bash\n",
    "\n",
    "g++-14 -std=c++26 -Wall -Wextra -Wpedantic stardust.cpp -o stardust\n",
    "echo \"execute this in terminal, not in notebook\""
   ]
  },
  {
   "cell_type": "markdown",
   "id": "50b51cec",
   "metadata": {
    "vscode": {
     "languageId": "cpp"
    }
   },
   "source": [
    "## Earth Rotates"
   ]
  },
  {
   "cell_type": "code",
   "execution_count": 33,
   "id": "933947f5",
   "metadata": {
    "vscode": {
     "languageId": "cpp"
    }
   },
   "outputs": [
    {
     "name": "stdout",
     "output_type": "stream",
     "text": [
      "Overwriting earthrotates.cpp\n"
     ]
    }
   ],
   "source": [
    "%%writefile earthrotates.cpp\n",
    "\n",
    "#include <iostream>\n",
    "#include <cmath>\n",
    "#include <unistd.h>\n",
    "using namespace std;\n",
    "\n",
    "string white2black =  \" .:-=+*#%@\";\n",
    "void PrintPixel(float pvalue) {\n",
    "    int pint = round(pvalue); if (pint > 9) {pint = 9;} if (pint < 0) {pint = 0;} cout << white2black[pint];\n",
    "}\n",
    "void InitializePhoto(float ph[50][100]) {\n",
    "    for (int y = 0; y < 50; y++) { for (int x = 0; x < 100; x++) { ph[y][x]=6*sin(0.3*x-0.5*y)*sin(-0.1*x+0.05*y); } }\n",
    "}\n",
    "void PrintPhoto(float ph[50][100]) {\n",
    "    for (int y = 0; y < 50; y++) { for (int x = 0; x < 100; x++) { PrintPixel(ph[y][x]); } cout << endl; }\n",
    "}\n",
    "void DarkerPhoto(float ph[50][100]) {\n",
    "    for (int y = 0; y < 50; y++) { for (int x = 0; x < 100; x++) { ph[y][x] *= 0.9; } }\n",
    "}\n",
    "void AddNoise(float ph[50][100]) {\n",
    "    for (int y = 0; y < 50; y++) { for (int x = 0; x < 100; x++) { ph[y][x] += 20 * (rand() % 500 == 1); } }\n",
    "}\n",
    "void Drifting(float ph[50][100], float newph[50][100]) {\n",
    "    for (int y = 0; y < 50; y++) {\n",
    "        for (int x = 0; x < 100; x++) {\n",
    "            newph[y][x] = ph[y][x-1];\n",
    "        }\n",
    "    }\n",
    "    for (int y = 0; y < 50; y++) {\n",
    "        for (int x = 0; x < 100; x++) {\n",
    "            ph[y][x] = newph[y][x-1];\n",
    "        }\n",
    "    }\n",
    "}\n",
    "int main() {\n",
    "    float photo[50][100]; // This is a 2D array\n",
    "    float newphoto[50][100]; // This is a temporary 2D array so that \n",
    "    // the Drifting function have additional space to work with\n",
    "    InitializePhoto(photo);\n",
    "    for (int repeat = 0; repeat < 100; repeat++) {\n",
    "        DarkerPhoto(photo);\n",
    "        AddNoise(photo);\n",
    "        if (repeat % 3 == 0) { Drifting(photo, newphoto); }\n",
    "        PrintPhoto(photo);\n",
    "        usleep(100000);\n",
    "    }\n",
    "}\n"
   ]
  },
  {
   "cell_type": "code",
   "execution_count": 34,
   "id": "e54d8774",
   "metadata": {
    "vscode": {
     "languageId": "shellscript"
    }
   },
   "outputs": [
    {
     "name": "stdout",
     "output_type": "stream",
     "text": [
      "execute this in terminal, not in notebook\n"
     ]
    }
   ],
   "source": [
    "%%bash\n",
    "\n",
    "g++-14 -std=c++26 -Wall -Wextra -Wpedantic earthrotates.cpp -o earthrorates\n",
    "echo \"execute this in terminal, not in notebook\""
   ]
  },
  {
   "cell_type": "markdown",
   "id": "7ebba457",
   "metadata": {
    "vscode": {
     "languageId": "cpp"
    }
   },
   "source": [
    "## Diffusion"
   ]
  },
  {
   "cell_type": "code",
   "execution_count": 39,
   "id": "6ba42354",
   "metadata": {
    "vscode": {
     "languageId": "cpp"
    }
   },
   "outputs": [
    {
     "name": "stdout",
     "output_type": "stream",
     "text": [
      "Overwriting diffusion.cpp\n"
     ]
    }
   ],
   "source": [
    "%%writefile diffusion.cpp\n",
    "\n",
    "#include <iostream>\n",
    "#include <cmath>\n",
    "#include <unistd.h>\n",
    "using namespace std;\n",
    "\n",
    "string white2black =  \" .:-=+*#%@\";\n",
    "void PrintPixel(float pvalue) {\n",
    "    int pint = round(pvalue); if (pint > 9) {pint = 9;} if (pint < 0) {pint = 0;} cout << white2black[pint];\n",
    "}\n",
    "void InitializePhoto(float ph[50][100]) {\n",
    "    for (int y = 0; y < 50; y++) { for (int x = 0; x < 100; x++) { ph[y][x]=6*sin(0.3*x-0.5*y)*sin(-0.1*x+0.05*y); } }\n",
    "}\n",
    "void PrintPhoto(float ph[50][100]) {\n",
    "    for (int y = 0; y < 50; y++) { for (int x = 0; x < 100; x++) { PrintPixel(ph[y][x]); } cout << endl; }\n",
    "}\n",
    "void DarkerPhoto(float ph[50][100]) {\n",
    "    for (int y = 0; y < 50; y++) { for (int x = 0; x < 100; x++) { ph[y][x] *= 0.9; } }\n",
    "}\n",
    "void AddNoise(float ph[50][100]) {\n",
    "    for (int y = 0; y < 50; y++) { for (int x = 0; x < 100; x++) { ph[y][x] += 100 * (rand() % 10000 == 1); } }\n",
    "}\n",
    "void Drifting(float ph[50][100], float newph[50][100]) {\n",
    "    for (int y = 0; y < 50; y++) {\n",
    "        for (int x = 0; x < 100; x++) {\n",
    "            newph[y][x] = ph[y][x-1];\n",
    "        }\n",
    "    }\n",
    "    for (int y = 0; y < 50; y++) {\n",
    "        for (int x = 0; x < 100; x++) {\n",
    "            ph[y][x] = newph[y][x-1];\n",
    "        }\n",
    "    }\n",
    "}\n",
    "\n",
    "void Diffusion(float ph[50][100], float newph[50][100]) {\n",
    "    for (int y = 0; y < 50; y++) {\n",
    "        for (int x = 0; x < 100; x++) {\n",
    "            int x1 = (x + 1 + 100) % 100; // int x1 = x + 1; if (x1 == 100) { x1 = 0; }\n",
    "            int x2 = (x - 1 + 100) % 100; // int x2 = x - 1; if (x2 == -1) { x2 = 99; }\n",
    "            int y1 = (y + 1 + 50) % 50;   // int y1 = y + 1; if (y1 == 50) { y1 = 0; }\n",
    "            int y2 = (y - 1 + 50) % 50;   // int y2 = y - 1; if (y2 == -1) { y2 = 49; }\n",
    "            float neighbor = (ph[y][x1] - ph[y][x])\n",
    "                           + (ph[y][x2] - ph[y][x])\n",
    "                           + (ph[y1][x] - ph[y][x])\n",
    "                           + (ph[y2][x] - ph[y][x]);\n",
    "            newph[y][x] = ph[y][x] + neighbor / 10;\n",
    "        }\n",
    "    }\n",
    "    for (int y = 0; y < 50; y++) {\n",
    "        for (int x = 0; x < 100; x++) {\n",
    "            ph[y][x] = newph[y][x-1];\n",
    "        }\n",
    "    }\n",
    "}\n",
    "\n",
    "int main() {\n",
    "    float photo[50][100]; // This is a 2D array\n",
    "    float newphoto[50][100]; // This is a temporary 2D array so that \n",
    "    // the Drifting function have additional space to work with\n",
    "    InitializePhoto(photo);\n",
    "    for (int repeat = 0; repeat < 100; repeat++) {\n",
    "        DarkerPhoto(photo);\n",
    "        AddNoise(photo);\n",
    "        if (repeat % 3 == 0) { Drifting(photo, newphoto); }\n",
    "        Diffusion(photo, newphoto);\n",
    "        PrintPhoto(photo);\n",
    "        usleep(100000);\n",
    "    }\n",
    "}"
   ]
  },
  {
   "cell_type": "code",
   "execution_count": 40,
   "id": "f4fb0769",
   "metadata": {
    "vscode": {
     "languageId": "python"
    }
   },
   "outputs": [
    {
     "name": "stdout",
     "output_type": "stream",
     "text": [
      "execute this in terminal, not in notebook\n"
     ]
    }
   ],
   "source": [
    "%%bash\n",
    "\n",
    "g++-14 -std=c++26 -Wall -Wextra -Wpedantic diffusion.cpp -o diffusion\n",
    "echo \"execute this in terminal, not in notebook\""
   ]
  },
  {
   "cell_type": "markdown",
   "id": "5a7b678a",
   "metadata": {
    "vscode": {
     "languageId": "cpp"
    }
   },
   "source": [
    "## Magnet in slowmotion\n"
   ]
  },
  {
   "cell_type": "code",
   "execution_count": 43,
   "id": "4f19bc32",
   "metadata": {
    "vscode": {
     "languageId": "cpp"
    }
   },
   "outputs": [
    {
     "name": "stdout",
     "output_type": "stream",
     "text": [
      "Overwriting MIS.cpp\n"
     ]
    }
   ],
   "source": [
    "%%writefile MIS.cpp\n",
    "\n",
    "#include <iostream>\n",
    "#include <cmath>\n",
    "#include <unistd.h>\n",
    "using namespace std;\n",
    "\n",
    "string white2black =  \" .:-=+*#%@\";\n",
    "void PrintPixel(float pvalue) {\n",
    "    int pint = round(pvalue); if (pint > 9) {pint = 9;} if (pint < 0) {pint = 0;} cout << white2black[pint];\n",
    "}\n",
    "void InitializePhoto(float ph[50][100]) {\n",
    "    for (int y = 0; y < 50; y++) { for (int x = 0; x < 100; x++) { ph[y][x] = 5 * (rand() % 2); } }\n",
    "}\n",
    "void PrintPhoto(float ph[50][100]) {\n",
    "    for (int y = 0; y < 50; y++) { for (int x = 0; x < 100; x++) { PrintPixel(ph[y][x]); } cout << endl; }\n",
    "}\n",
    "void BiasedFlipOne(float ph[50][100]) {\n",
    "    int y = rand() % 50;\n",
    "    int x = rand() % 100;\n",
    "    int x1 = (x + 1 + 100) % 100; // int x1 = x + 1; if (x1 == 100) { x1 = 0; }\n",
    "    int x2 = (x - 1 + 100) % 100; // int x2 = x - 1; if (x2 == -1) { x2 = 99; }\n",
    "    int y1 = (y + 1 + 50) % 50;   // int y1 = y + 1; if (y1 == 50) { y1 = 0; }\n",
    "    int y2 = (y - 1 + 50) % 50;   // int y2 = y - 1; if (y2 == -1) { y2 = 49; }\n",
    "    float hamilton = ph[y][x1] + ph[y][x2] + ph[y1][x] + ph[y2][x];\n",
    "    hamilton = hamilton / 5 * 2 - 4;\n",
    "    float probability = pow(2, hamilton) / (pow(2, hamilton) + pow(2, -hamilton));\n",
    "    if (rand() / float(RAND_MAX) < probability) { ph[y][x] = 5; }\n",
    "    else { ph[y][x] = 0; }\n",
    "}\n",
    "\n",
    "int main() {\n",
    "    float magnet[50][100];\n",
    "    InitializePhoto(magnet);\n",
    "    for (int repeat = 0; repeat < 100; repeat++) {\n",
    "        BiasedFlipOne(magnet);\n",
    "        PrintPhoto(magnet);\n",
    "        usleep(100000);\n",
    "    }\n",
    "}\n"
   ]
  },
  {
   "cell_type": "code",
   "execution_count": 45,
   "id": "f2fe80df",
   "metadata": {
    "vscode": {
     "languageId": "python"
    }
   },
   "outputs": [
    {
     "name": "stdout",
     "output_type": "stream",
     "text": [
      "execute this in terminal, not in notebook\n"
     ]
    }
   ],
   "source": [
    "%%bash\n",
    "\n",
    "g++-14 -std=c++26 -Wall -Wextra -Wpedantic MIS.cpp -o MIS\n",
    "echo \"execute this in terminal, not in notebook\""
   ]
  },
  {
   "cell_type": "markdown",
   "id": "086bb4be",
   "metadata": {
    "vscode": {
     "languageId": "cpp"
    }
   },
   "source": [
    "## Faster"
   ]
  },
  {
   "cell_type": "code",
   "execution_count": 47,
   "id": "dfbfed99",
   "metadata": {
    "vscode": {
     "languageId": "cpp"
    }
   },
   "outputs": [
    {
     "name": "stdout",
     "output_type": "stream",
     "text": [
      "Overwriting faster.cpp\n"
     ]
    }
   ],
   "source": [
    "%%writefile faster.cpp\n",
    "\n",
    "#include <iostream>\n",
    "#include <cmath>\n",
    "#include <unistd.h>\n",
    "using namespace std;\n",
    "\n",
    "string white2black =  \" .:-=+*#%@\";\n",
    "void PrintPixel(float pvalue) {\n",
    "    int pint = round(pvalue); if (pint > 9) {pint = 9;} if (pint < 0) {pint = 0;} cout << white2black[pint];\n",
    "}\n",
    "void InitializePhoto(float ph[50][100]) {\n",
    "    for (int y = 0; y < 50; y++) { for (int x = 0; x < 100; x++) { ph[y][x] = 5 * (rand() % 2); } }\n",
    "}\n",
    "void PrintPhoto(float ph[50][100]) {\n",
    "    for (int y = 0; y < 50; y++) { for (int x = 0; x < 100; x++) { PrintPixel(ph[y][x]); } cout << endl; }\n",
    "}\n",
    "void BiasedFlipOne(float ph[50][100]) {\n",
    "    int y = rand() % 50;\n",
    "    int x = rand() % 100;\n",
    "    int x1 = (x + 1 + 100) % 100; // int x1 = x + 1; if (x1 == 100) { x1 = 0; }\n",
    "    int x2 = (x - 1 + 100) % 100; // int x2 = x - 1; if (x2 == -1) { x2 = 99; }\n",
    "    int y1 = (y + 1 + 50) % 50;   // int y1 = y + 1; if (y1 == 50) { y1 = 0; }\n",
    "    int y2 = (y - 1 + 50) % 50;   // int y2 = y - 1; if (y2 == -1) { y2 = 49; }\n",
    "    float hamilton = ph[y][x1] + ph[y][x2] + ph[y1][x] + ph[y2][x];\n",
    "    hamilton = hamilton / 5 * 2 - 4;\n",
    "    float probability = pow(2, hamilton) / (pow(2, hamilton) + pow(2, -hamilton));\n",
    "    if (rand() / float(RAND_MAX) < probability) { ph[y][x] = 5; }\n",
    "    else { ph[y][x] = 0; }\n",
    "}\n",
    "\n",
    "int main() {\n",
    "    float magnet[50][100];\n",
    "    InitializePhoto(magnet);\n",
    "    for (int repeat = 0; repeat < 1e8; repeat++) {\n",
    "        BiasedFlipOne(magnet);\n",
    "        if (repeat % int(1e2) == 0) {\n",
    "            PrintPhoto(magnet);\n",
    "            usleep(100000);\n",
    "        }\n",
    "    }\n",
    "}\n"
   ]
  },
  {
   "cell_type": "code",
   "execution_count": 48,
   "id": "f6910e68",
   "metadata": {
    "vscode": {
     "languageId": "python"
    }
   },
   "outputs": [
    {
     "name": "stdout",
     "output_type": "stream",
     "text": [
      "execute this in terminal, not in notebook\n"
     ]
    }
   ],
   "source": [
    "%%bash\n",
    "\n",
    "g++-14 -std=c++26 -Wall -Wextra -Wpedantic faster.cpp -o faster\n",
    "echo \"execute this in terminal, not in notebook\""
   ]
  },
  {
   "cell_type": "markdown",
   "id": "094a49e7",
   "metadata": {},
   "source": [
    "## Faster faster"
   ]
  },
  {
   "cell_type": "markdown",
   "id": "b63f2922",
   "metadata": {},
   "source": [
    "```C++\n",
    "        if (repeat % int(1e4) == 0) {\n",
    "            PrintPhoto(magnet);\n",
    "            usleep(100000);\n",
    "        }\n",
    "```"
   ]
  },
  {
   "cell_type": "markdown",
   "id": "1b0306d1",
   "metadata": {},
   "source": [
    "## Faster faster faster"
   ]
  },
  {
   "cell_type": "markdown",
   "id": "9e061c97",
   "metadata": {},
   "source": [
    "```C++\n",
    "        if (repeat % int(1e6) == 0) {\n",
    "            PrintPhoto(magnet);\n",
    "            usleep(100);\n",
    "        }\n",
    "```"
   ]
  },
  {
   "cell_type": "markdown",
   "id": "91b7bd26",
   "metadata": {
    "vscode": {
     "languageId": "cpp"
    }
   },
   "source": [
    "## Change gear"
   ]
  },
  {
   "cell_type": "code",
   "execution_count": null,
   "id": "b387acae",
   "metadata": {
    "vscode": {
     "languageId": "python"
    }
   },
   "outputs": [
    {
     "name": "stdout",
     "output_type": "stream",
     "text": [
      "Overwriting sort.cpp\n"
     ]
    }
   ],
   "source": [
    "int main() {\n",
    "    float magnet[50][100];\n",
    "    InitializePhoto(magnet);\n",
    "    for (int repeat = 2; repeat < 1e8; repeat++) {\n",
    "        BiasedFlipOne(magnet);\n",
    "        if (repeat == round(pow(1.1, round(log(repeat) / log(1.1))))) {\n",
    "            PrintPhoto(magnet);\n",
    "            cout << \"repeat = \" << repeat << endl;\n",
    "            millisleep(100);\n",
    "        }\n",
    "    }\n",
    "}\n",
    "\n"
   ]
  },
  {
   "cell_type": "markdown",
   "id": "0d0875b9",
   "metadata": {},
   "source": [
    "## Reaction–Diffusion System\n"
   ]
  },
  {
   "cell_type": "code",
   "execution_count": null,
   "id": "9e818701",
   "metadata": {
    "vscode": {
     "languageId": "cpp"
    }
   },
   "outputs": [
    {
     "name": "stdout",
     "output_type": "stream",
     "text": [
      "Overwriting RDS.cpp\n"
     ]
    }
   ],
   "source": [
    "%%writefile RDS.cpp\n",
    "\n",
    "#include <iostream>\n",
    "#include <cmath>\n",
    "#include <unistd.h>\n",
    "using namespace std;\n",
    "\n",
    "string white2black =  \" .:-=+*#%@\";\n",
    "void PrintPixel(float pvalue) {\n",
    "    int pint = round(pvalue); if (pint > 9) {pint = 9;} if (pint < 0) {pint = 0;} cout << white2black[pint];\n",
    "}\n",
    "void InitializePhoto(float ch[50][100]) {\n",
    "    for (int y = 0; y < 50; y++) { for (int x = 0; x < 100; x++) { ch[y][x]=1 + 1*sin(0.3*x-0.5*y)*sin(-0.1*x+0.05*y); } }\n",
    "}\n",
    "void PrintPhoto(float ch[50][100]) {\n",
    "    for (int y = 0; y < 50; y++) { for (int x = 0; x < 100; x++) { PrintPixel(ch[y][x]); } cout << endl; }\n",
    "}\n",
    "\n",
    "void Diffusion(float ch[50][100], float newch[50][100]) {\n",
    "    for (int y = 0; y < 50; y++) {\n",
    "        for (int x = 0; x < 100; x++) {\n",
    "            int x1 = (x + 1 + 100) % 100; // int x1 = x + 1; if (x1 == 100) { x1 = 0; }\n",
    "            int x2 = (x - 1 + 100) % 100; // int x2 = x - 1; if (x2 == -1) { x2 = 99; }\n",
    "            int y1 = (y + 1 + 50) % 50;   // int y1 = y + 1; if (y1 == 50) { y1 = 0; }\n",
    "            int y2 = (y - 1 + 50) % 50;   // int y2 = y - 1; if (y2 == -1) { y2 = 49; }\n",
    "            float neighbor = (ch[y][x1] - ch[y][x])\n",
    "                           + (ch[y][x2] - ch[y][x])\n",
    "                           + (ch[y1][x] - ch[y][x])\n",
    "                           + (ch[y2][x] - ch[y][x]);\n",
    "            newch[y][x] = ch[y][x] + neighbor / 20;\n",
    "        }\n",
    "    }\n",
    "    for (int y = 0; y < 50; y++) {\n",
    "        for (int x = 0; x < 100; x++) {\n",
    "            ch[y][x] = newch[y][x];\n",
    "        }\n",
    "    }\n",
    "}\n",
    "\n",
    "void Reaction(float ch[50][100]) {\n",
    "    for (int y = 0; y < 50; y++) {\n",
    "        for (int x = 0; x < 100; x++) {\n",
    "            ch[y][x] += ch[y][x] * (10 - ch[y][x]) / 100;\n",
    "        }\n",
    "    }\n",
    "}\n",
    "\n",
    "int main() {\n",
    "    float chemical[50][100];\n",
    "    float newchem[50][100];\n",
    "    InitializePhoto(chemical);\n",
    "    for (int repeat = 0; repeat < 10000; repeat++) {\n",
    "        Diffusion(chemical, newchem);\n",
    "        Reaction(chemical);\n",
    "        PrintPhoto(chemical);\n",
    "        usleep(100000);\n",
    "    }\n",
    "}\n"
   ]
  },
  {
   "cell_type": "code",
   "execution_count": 54,
   "id": "71647e7b",
   "metadata": {
    "vscode": {
     "languageId": "python"
    }
   },
   "outputs": [
    {
     "name": "stdout",
     "output_type": "stream",
     "text": [
      "execute this in terminal, not in notebook\n"
     ]
    }
   ],
   "source": [
    "%%bash\n",
    "\n",
    "g++-14 -std=c++26 -Wall -Wextra -Wpedantic RDS.cpp -o RDS\n",
    "echo \"execute this in terminal, not in notebook\""
   ]
  },
  {
   "cell_type": "markdown",
   "id": "d443a677",
   "metadata": {
    "vscode": {
     "languageId": "cpp"
    }
   },
   "source": [
    "# Activator & Inhibitor"
   ]
  },
  {
   "cell_type": "code",
   "execution_count": 61,
   "id": "e741fbf3",
   "metadata": {
    "vscode": {
     "languageId": "cpp"
    }
   },
   "outputs": [
    {
     "name": "stdout",
     "output_type": "stream",
     "text": [
      "Overwriting AI.cpp\n"
     ]
    }
   ],
   "source": [
    "%%writefile AI.cpp\n",
    "\n",
    "#include <iostream>\n",
    "#include <cmath>\n",
    "#include <unistd.h>\n",
    "using namespace std;\n",
    "\n",
    "string white2black =  \" .:-=+*#%@\";\n",
    "void PrintPixel(float pvalue) {\n",
    "    int pint = round(2 * pvalue + 5); if (pint > 9) {pint = 9;} if (pint < 0) {pint = 0;} cout << white2black[pint];\n",
    "}\n",
    "void InitializePhoto1(float ch[50][100]) {\n",
    "    for (int y = 0; y < 50; y++) { for (int x = 0; x < 100; x++) { ch[y][x] = 2 * sin(0.3*x-0.5*y); } }\n",
    "}\n",
    "void InitializePhoto2(float ch[50][100]) {\n",
    "    for (int y = 0; y < 50; y++) { for (int x = 0; x < 100; x++) { ch[y][x] = 2 * sin(-0.2*x+0.1*y); } }\n",
    "}\n",
    "void PrintPhoto(float ch[50][100]) {\n",
    "    for (int y = 0; y < 50; y++) { for (int x = 0; x < 100; x++) { PrintPixel(ch[y][x]); } cout << endl; }\n",
    "}\n",
    "\n",
    "void Diffusion(float ch[50][100], float newch[50][100]) {\n",
    "    for (int y = 0; y < 50; y++) {\n",
    "        for (int x = 0; x < 100; x++) {\n",
    "            int x1 = (x + 1 + 100) % 100; // int x1 = x + 1; if (x1 == 100) { x1 = 0; }\n",
    "            int x2 = (x - 1 + 100) % 100; // int x2 = x - 1; if (x2 == -1) { x2 = 99; }\n",
    "            int y1 = (y + 1 + 50) % 50;   // int y1 = y + 1; if (y1 == 50) { y1 = 0; }\n",
    "            int y2 = (y - 1 + 50) % 50;   // int y2 = y - 1; if (y2 == -1) { y2 = 49; }\n",
    "            float neighbor = (ch[y][x1] - ch[y][x])\n",
    "                           + (ch[y][x2] - ch[y][x])\n",
    "                           + (ch[y1][x] - ch[y][x]) / 2\n",
    "                           + (ch[y2][x] - ch[y][x]) / 2;\n",
    "            newch[y][x] = ch[y][x] + neighbor / 10;\n",
    "        }\n",
    "    }\n",
    "    for (int y = 0; y < 50; y++) {\n",
    "        for (int x = 0; x < 100; x++) {\n",
    "            ch[y][x] = newch[y][x];\n",
    "        }\n",
    "    }\n",
    "}\n",
    "\n",
    "void Reaction(float act[50][100], float inh[50][100]) {\n",
    "    for (int y = 0; y < 50; y++) {\n",
    "        for (int x = 0; x < 100; x++) {\n",
    "            float a = act[y][x];\n",
    "            float i = inh[y][x];\n",
    "            act[y][x] += (a * (1 - a*a / 3) - i) / 10;\n",
    "            inh[y][x] += a / 10; // Van der Pol oscillator\n",
    "        }\n",
    "    }\n",
    "}\n",
    "\n",
    "int main() {\n",
    "    float activator[50][100];\n",
    "    float inhibitor[50][100];\n",
    "    float newchem[50][100];\n",
    "    InitializePhoto1(activator);\n",
    "    InitializePhoto2(inhibitor);\n",
    "    for (int repeat = 0; repeat < 10000; repeat++) {\n",
    "        Diffusion(activator, newchem);\n",
    "        Diffusion(inhibitor, newchem);\n",
    "        Reaction(activator, inhibitor);\n",
    "        PrintPhoto(activator);\n",
    "        usleep(100000);\n",
    "    }\n",
    "}\n"
   ]
  },
  {
   "cell_type": "code",
   "execution_count": 62,
   "id": "0c13e9f7",
   "metadata": {
    "vscode": {
     "languageId": "shellscript"
    }
   },
   "outputs": [
    {
     "name": "stdout",
     "output_type": "stream",
     "text": [
      "execute this in terminal, not in notebook\n"
     ]
    }
   ],
   "source": [
    "%%bash\n",
    "\n",
    "g++-14 -std=c++26 -Wall -Wextra -Wpedantic AI.cpp -o AI\n",
    "echo \"execute this in terminal, not in notebook\""
   ]
  },
  {
   "cell_type": "code",
   "execution_count": null,
   "id": "82524387",
   "metadata": {
    "vscode": {
     "languageId": "cpp"
    }
   },
   "outputs": [],
   "source": []
  }
 ],
 "metadata": {
  "kernelspec": {
   "display_name": "SageMath 10.6",
   "language": "sage",
   "name": "SageMath-10.6"
  },
  "language_info": {
   "codemirror_mode": {
    "name": "ipython",
    "version": 3
   },
   "file_extension": ".py",
   "mimetype": "text/x-python",
   "name": "sage",
   "nbconvert_exporter": "python",
   "pygments_lexer": "ipython3",
   "version": "3.12.5"
  }
 },
 "nbformat": 4,
 "nbformat_minor": 5
}
