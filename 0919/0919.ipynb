{
 "cells": [
  {
   "cell_type": "markdown",
   "id": "094cd75f",
   "metadata": {
    "vscode": {
     "languageId": "plaintext"
    }
   },
   "source": [
    "# Computer Programming 0917"
   ]
  },
  {
   "cell_type": "code",
   "execution_count": 1,
   "id": "ebacef72",
   "metadata": {},
   "outputs": [
    {
     "name": "stdout",
     "output_type": "stream",
     "text": [
      "env: SDKROOT=/Library/Developer/CommandLineTools/SDKs/MacOSX.sdk\n"
     ]
    }
   ],
   "source": [
    "# Ignore this; my laptop is so old and Apple is nasty so I need this\n",
    "sdkroot = !xcrun --show-sdk-path\n",
    "%env SDKROOT={sdkroot[0]}"
   ]
  },
  {
   "cell_type": "markdown",
   "id": "3968ba8a",
   "metadata": {},
   "source": [
    "## Print rand Photo"
   ]
  },
  {
   "cell_type": "code",
   "execution_count": 12,
   "id": "da301234",
   "metadata": {},
   "outputs": [
    {
     "name": "stdout",
     "output_type": "stream",
     "text": [
      "Overwriting printphoto.cpp\n"
     ]
    }
   ],
   "source": [
    "%%writefile printphoto.cpp\n",
    "\n",
    "\n",
    "#include <iostream>\n",
    "using namespace std;\n",
    "\n",
    "string white2black =  \" .:-=+*#%@\";\n",
    "// The names of these characters:\n",
    "//  space\n",
    "// .period\n",
    "// :colon\n",
    "// -hyphen\n",
    "// =equal\n",
    "// +plus\n",
    "// *asterisk\n",
    "// #hash\n",
    "// %percent\n",
    "// @at\n",
    "\n",
    "// 0 is white, 3 is light gray, 6 is dark gray, 9 is black\n",
    "void PrintPixel(float pvalue) {\n",
    "    // void means this function does not return anything\n",
    "    int pint = round(pvalue);\n",
    "    if (pint > 9) {pint = 9;} // Clamp the value\n",
    "    if (pint < 0) {pint = 0;} // Clamp the value\n",
    "    // https://en.wikipedia.org/wiki/Clamping_(graphics)\n",
    "    cout << white2black[pint];\n",
    "    // instead of cout-ing the number pint,\n",
    "    // we cout character that requires more ink to represent higher number\n",
    "\n",
    "    // As mentioned, void means this function does not return anything\n",
    "    // So we don't write a return statement here\n",
    "}\n",
    "\n",
    "int main() {\n",
    "    float photo[50][100]; // This is a 2D array\n",
    "    // Height is 50, width is 100\n",
    "    // photo is the entire photo\n",
    "    // photo[0] is the first row\n",
    "    // photo[0][0] is the first pixel of the first row\n",
    "    // etc etc\n",
    "    // photo[49][99] is the last pixel of the last row\n",
    "    // Try cout << photo, what do you get?\n",
    "    // Try cout << photo[0], what do you get?\n",
    "\n",
    "    for (int y = 0; y < 50; y++) {\n",
    "        for (int x = 0; x < 100; x++) {\n",
    "            // Initialize every pixel as a random number between 0 and 9\n",
    "            photo[y][x] = rand() % 10;\n",
    "            // photo[y][x]=6*sin(0.3*x-0.5*y)*sin(-0.1*x+0.05*y);\n",
    "        }\n",
    "    }\n",
    "    \n",
    "    for (int y = 0; y < 50; y++) {\n",
    "        for (int x = 0; x < 100; x++) {\n",
    "            // Using the function PrintPixel to print the pixel\n",
    "            PrintPixel(photo[y][x]);\n",
    "        }\n",
    "        cout << endl; // Go to the next row\n",
    "    }\n",
    "}\n"
   ]
  },
  {
   "cell_type": "code",
   "execution_count": null,
   "id": "7220b5da",
   "metadata": {},
   "outputs": [
    {
     "name": "stdout",
     "output_type": "stream",
     "text": [
      "Without initialization, the 0th element of CocoMelon is -1156002368\n",
      "Without initialization, the 1th element of CocoMelon is 32759\n",
      "Without initialization, the 4th element of CocoMelon is 704\n",
      "Without initialization, the 9th element of CocoMelon is 0\n",
      "Without initialization, the 16th element of CocoMelon is 0\n",
      "Without initialization, the 25th element of CocoMelon is 0\n",
      "Without initialization, the 36th element of CocoMelon is 0\n",
      "Without initialization, the 49th element of CocoMelon is 0\n",
      "Without initialization, the 64th element of CocoMelon is -1156001664\n",
      "Without initialization, the 81th element of CocoMelon is 32759\n",
      "With initialization, the 0th element of CocoMelon is 0\n",
      "With initialization, the 1th element of CocoMelon is 1\n",
      "With initialization, the 4th element of CocoMelon is 2\n",
      "With initialization, the 9th element of CocoMelon is 3\n",
      "With initialization, the 16th element of CocoMelon is 4\n",
      "With initialization, the 25th element of CocoMelon is 5\n",
      "With initialization, the 36th element of CocoMelon is 6\n",
      "With initialization, the 49th element of CocoMelon is 7\n",
      "With initialization, the 64th element of CocoMelon is 8\n",
      "With initialization, the 81th element of CocoMelon is 9\n"
     ]
    }
   ],
   "source": [
    "%%bash\n",
    "\n",
    "g++-14 -std=c++26 -Wall -Wextra -Wpedantic printphoto.cpp -o printphoto\n",
    "./printphoto"
   ]
  },
  {
   "cell_type": "markdown",
   "id": "627b4523",
   "metadata": {
    "vscode": {
     "languageId": "cpp"
    }
   },
   "source": [
    "## Combined"
   ]
  },
  {
   "cell_type": "code",
   "execution_count": 6,
   "id": "41469cfd",
   "metadata": {},
   "outputs": [
    {
     "name": "stdout",
     "output_type": "stream",
     "text": [
      "Writing combined.cpp\n"
     ]
    }
   ],
   "source": [
    "%%writefile combined.cpp\n",
    "\n",
    "#include <iostream>\n",
    "using namespace std;\n",
    "\n",
    "string white2black =  \" .:-=+*#%@\";\n",
    "void PrintPixel(float pvalue) {\n",
    "    int pint = round(pvalue);\n",
    "    if (pint > 9) {pint = 9;} // Clamp the value\n",
    "    if (pint < 0) {pint = 0;} // Clamp the value\n",
    "    // https://en.wikipedia.org/wiki/Clamping_(graphics)\n",
    "    cout << white2black[pint];\n",
    "}\n",
    "\n",
    "void InitializePhoto(float ph[50][100]) {\n",
    "    for (int y = 0; y < 50; y++) {\n",
    "        for (int x = 0; x < 100; x++) {\n",
    "            // Initialize every pixel as a random number between 0 and 9\n",
    "            ph[y][x]=6*sin(0.3*x-0.5*y)*sin(-0.1*x+0.05*y);\n",
    "        }\n",
    "    }\n",
    "}\n",
    "\n",
    "void PrintPhoto(float ph[50][100]) {\n",
    "    for (int y = 0; y < 50; y++) {\n",
    "        for (int x = 0; x < 100; x++) {\n",
    "            // Using the function PrintPixel to print the pixel\n",
    "            PrintPixel(ph[y][x]);\n",
    "        }\n",
    "        cout << endl; // Go to the next row\n",
    "    }\n",
    "}\n",
    "\n",
    "int main() {\n",
    "    float photo[50][100]; // This is a 2D array\n",
    "    InitializePhoto(photo);    \n",
    "    PrintPhoto(photo);\n",
    "}\n"
   ]
  },
  {
   "cell_type": "code",
   "execution_count": null,
   "id": "76bd4418",
   "metadata": {},
   "outputs": [
    {
     "name": "stdout",
     "output_type": "stream",
     "text": [
      "the 0th prefix sum is 0\n",
      "the 1th prefix sum is 1\n",
      "the 2th prefix sum is 3\n",
      "the 3th prefix sum is 6\n",
      "the 4th prefix sum is 10\n",
      "the 5th prefix sum is 15\n",
      "the 6th prefix sum is 21\n",
      "the 7th prefix sum is 28\n",
      "the 8th prefix sum is 36\n",
      "the 9th prefix sum is 45\n",
      "the 10th prefix sum is 55\n"
     ]
    }
   ],
   "source": [
    "%%bash\n",
    "\n",
    "g++-14 -std=c++26 -Wall -Wextra -Wpedantic combined.cpp -o combined\n",
    "./combined"
   ]
  },
  {
   "cell_type": "markdown",
   "id": "0530a259",
   "metadata": {
    "vscode": {
     "languageId": "cpp"
    }
   },
   "source": [
    "## We’re stardust"
   ]
  },
  {
   "cell_type": "code",
   "execution_count": 13,
   "id": "9568faf8",
   "metadata": {},
   "outputs": [
    {
     "name": "stdout",
     "output_type": "stream",
     "text": [
      "Overwriting stardust.cpp\n"
     ]
    }
   ],
   "source": [
    "%%writefile stardust.cpp\n",
    "\n",
    "#include <iostream>\n",
    "using namespace std;\n",
    "\n",
    "#include <chrono>\n",
    "#include <thread>\n",
    "#define millisleep(x) std::this_thread::sleep_for(std::chrono::milliseconds(x));\n",
    "\n",
    "string white2black =  \" .:-=+*#%@\";\n",
    "void PrintPixel(float pvalue) {\n",
    "    int pint = round(pvalue);\n",
    "    if (pint > 9) {pint = 9;} // Clamp the value\n",
    "    if (pint < 0) {pint = 0;} // Clamp the value\n",
    "    // https://en.wikipedia.org/wiki/Clamping_(graphics)\n",
    "    cout << white2black[pint];\n",
    "}\n",
    "\n",
    "void InitializePhoto(float ph[50][100]) {\n",
    "    for (int y = 0; y < 50; y++) {\n",
    "        for (int x = 0; x < 100; x++) {\n",
    "            // Initialize every pixel as a random number between 0 and 9\n",
    "            ph[y][x]=6*sin(0.3*x-0.5*y)*sin(-0.1*x+0.05*y);\n",
    "        }\n",
    "    }\n",
    "}\n",
    "\n",
    "void PrintPhoto(float ph[50][100]) {\n",
    "    for (int y = 0; y < 50; y++) {\n",
    "        for (int x = 0; x < 100; x++) {\n",
    "            // Using the function PrintPixel to print the pixel\n",
    "            PrintPixel(ph[y][x]);\n",
    "        }\n",
    "        cout << endl; // Go to the next row\n",
    "    }\n",
    "}\n",
    "\n",
    "void DarkerPhoto(float ph[50][100]) {\n",
    "    for (int y = 0; y < 50; y++) {\n",
    "        for (int x = 0; x < 100; x++) {\n",
    "            ph[y][x] *= 0.9;\n",
    "        }\n",
    "    }\n",
    "}\n",
    "\n",
    "void AddNoise(float ph[50][100]) {\n",
    "    for (int y = 0; y < 50; y++) {\n",
    "        for (int x = 0; x < 100; x++) {\n",
    "            ph[y][x] += 20 * (rand() % 500 == 1);\n",
    "        }\n",
    "    }\n",
    "}\n",
    "\n",
    "int main() {\n",
    "    float photo[50][100]; // This is a 2D array\n",
    "    InitializePhoto(photo);\n",
    "    for (int repeat = 0; repeat < 100; repeat++) {\n",
    "        DarkerPhoto(photo);\n",
    "        AddNoise(photo);\n",
    "        PrintPhoto(photo);\n",
    "        millisleep(100);\n",
    "    }\n",
    "}\n"
   ]
  },
  {
   "cell_type": "code",
   "execution_count": null,
   "id": "0962eb7f",
   "metadata": {},
   "outputs": [
    {
     "name": "stdout",
     "output_type": "stream",
     "text": [
      "0 99\n",
      "1 98\n",
      "2 97\n",
      "3 96\n",
      "4 95\n",
      "5 94\n",
      "6 93\n",
      "7 92\n",
      "8 91\n",
      "9 90\n",
      "10 89\n",
      "11 88\n",
      "12 87\n",
      "13 86\n",
      "14 85\n",
      "15 84\n",
      "16 83\n",
      "17 82\n",
      "18 81\n",
      "19 80\n",
      "20 79\n",
      "21 78\n",
      "22 77\n",
      "23 76\n",
      "24 75\n",
      "25 74\n",
      "26 73\n",
      "27 72\n",
      "28 71\n",
      "29 70\n",
      "30 69\n",
      "31 68\n",
      "32 67\n",
      "33 66\n",
      "34 65\n",
      "35 64\n",
      "36 63\n",
      "37 62\n",
      "38 61\n",
      "39 60\n",
      "40 59\n",
      "41 58\n",
      "42 57\n",
      "43 56\n",
      "44 55\n",
      "45 54\n",
      "46 53\n",
      "47 52\n",
      "48 51\n",
      "49 50\n",
      "50 49\n",
      "51 48\n",
      "52 47\n",
      "53 46\n",
      "54 45\n",
      "55 44\n",
      "56 43\n",
      "57 42\n",
      "58 41\n",
      "59 40\n",
      "60 39\n",
      "61 38\n",
      "62 37\n",
      "63 36\n",
      "64 35\n",
      "65 34\n",
      "66 33\n",
      "67 32\n",
      "68 31\n",
      "69 30\n",
      "70 29\n",
      "71 28\n",
      "72 27\n",
      "73 26\n",
      "74 25\n",
      "75 24\n",
      "76 23\n",
      "77 22\n",
      "78 21\n",
      "79 20\n",
      "80 19\n",
      "81 18\n",
      "82 17\n",
      "83 16\n",
      "84 15\n",
      "85 14\n",
      "86 13\n",
      "87 12\n",
      "88 11\n",
      "89 10\n",
      "90 9\n",
      "91 8\n",
      "92 7\n",
      "93 6\n",
      "94 5\n",
      "95 4\n",
      "96 3\n",
      "97 2\n",
      "98 1\n",
      "99 0\n"
     ]
    }
   ],
   "source": [
    "%%bash\n",
    "\n",
    "g++-14 -std=c++26 -Wall -Wextra -Wpedantic stardust.cpp -o stardust\n",
    "./stardust"
   ]
  },
  {
   "cell_type": "markdown",
   "id": "50b51cec",
   "metadata": {
    "vscode": {
     "languageId": "cpp"
    }
   },
   "source": [
    "## Earth Rotates"
   ]
  },
  {
   "cell_type": "code",
   "execution_count": 15,
   "id": "933947f5",
   "metadata": {},
   "outputs": [
    {
     "name": "stdout",
     "output_type": "stream",
     "text": [
      "Writing earthrotates.cpp\n"
     ]
    }
   ],
   "source": [
    "%%writefile earthrotates.cpp\n",
    "\n",
    "#include <iostream>\n",
    "using namespace std;\n",
    "#include <chrono>\n",
    "#include <thread>\n",
    "#define millisleep(x) std::this_thread::sleep_for(std::chrono::milliseconds(x));\n",
    "string white2black =  \" .:-=+*#%@\";\n",
    "void PrintPixel(float pvalue) {\n",
    "    int pint = round(pvalue); if (pint > 9) {pint = 9;} if (pint < 0) {pint = 0;} cout << white2black[pint];\n",
    "}\n",
    "void InitializePhoto(float ph[50][100]) {\n",
    "    for (int y = 0; y < 50; y++) { for (int x = 0; x < 100; x++) { ph[y][x]=6*sin(0.3*x-0.5*y)*sin(-0.1*x+0.05*y); } }\n",
    "}\n",
    "void PrintPhoto(float ph[50][100]) {\n",
    "    for (int y = 0; y < 50; y++) { for (int x = 0; x < 100; x++) { PrintPixel(ph[y][x]); } cout << endl; }\n",
    "}\n",
    "void DarkerPhoto(float ph[50][100]) {\n",
    "    for (int y = 0; y < 50; y++) { for (int x = 0; x < 100; x++) { ph[y][x] *= 0.9; } }\n",
    "}\n",
    "void AddNoise(float ph[50][100]) {\n",
    "    for (int y = 0; y < 50; y++) { for (int x = 0; x < 100; x++) { ph[y][x] += 20 * (rand() % 500 == 1); } }\n",
    "}\n",
    "void Drifting(float ph[50][100], float newph[50][100]) {\n",
    "    for (int y = 0; y < 50; y++) {\n",
    "        for (int x = 0; x < 100; x++) {\n",
    "            newph[y][x] = ph[y][x-1];\n",
    "        }\n",
    "    }\n",
    "    for (int y = 0; y < 50; y++) {\n",
    "        for (int x = 0; x < 100; x++) {\n",
    "            ph[y][x] = newph[y][x-1];\n",
    "        }\n",
    "    }\n",
    "}\n",
    "int main() {\n",
    "    float photo[50][100]; // This is a 2D array\n",
    "    float newphoto[50][100]; // This is a temporary 2D array so that \n",
    "    // the Drifting function have additional space to work with\n",
    "    InitializePhoto(photo);\n",
    "    for (int repeat = 0; repeat < 100; repeat++) {\n",
    "        DarkerPhoto(photo);\n",
    "        AddNoise(photo);\n",
    "        if (repeat % 3 == 0) { Drifting(photo, newphoto); }\n",
    "        PrintPhoto(photo);\n",
    "        millisleep(100);\n",
    "    }\n",
    "}\n"
   ]
  },
  {
   "cell_type": "code",
   "execution_count": null,
   "id": "e54d8774",
   "metadata": {},
   "outputs": [
    {
     "name": "stdout",
     "output_type": "stream",
     "text": [
      "How much do you want to shift? \n",
      "You want to shift by 12\n",
      "12 13 14 15 16 17 18 19 20 21 22 23 24 25 26 27 28 29 30 31 32 33 34 35 36 37 38 39 40 41 42 43 44 45 46 47 48 49 50 51 52 53 54 55 56 57 58 59 60 61 62 63 64 65 66 67 68 69 70 71 72 73 74 75 76 77 78 79 80 81 82 83 84 85 86 87 88 89 90 91 92 93 94 95 96 97 98 99 0 1 2 3 4 5 6 7 8 9 10 11 "
     ]
    }
   ],
   "source": [
    "%%bash\n",
    "\n",
    "g++-14 -std=c++26 -Wall -Wextra -Wpedantic earthrotates.cpp -o earthrorates\n",
    "./earthrotates"
   ]
  },
  {
   "cell_type": "markdown",
   "id": "7ebba457",
   "metadata": {
    "vscode": {
     "languageId": "cpp"
    }
   },
   "source": [
    "## Diffusion"
   ]
  },
  {
   "cell_type": "code",
   "execution_count": 16,
   "id": "6ba42354",
   "metadata": {},
   "outputs": [
    {
     "name": "stdout",
     "output_type": "stream",
     "text": [
      "Overwriting diffusion.cpp\n"
     ]
    }
   ],
   "source": [
    "%%writefile diffusion.cpp\n",
    "\n",
    "#include <iostream>\n",
    "using namespace std;\n",
    "#include <chrono>\n",
    "#include <thread>\n",
    "#define millisleep(x) std::this_thread::sleep_for(std::chrono::milliseconds(x));\n",
    "string white2black =  \" .:-=+*#%@\";\n",
    "void PrintPixel(float pvalue) {\n",
    "    int pint = round(pvalue); if (pint > 9) {pint = 9;} if (pint < 0) {pint = 0;} cout << white2black[pint];\n",
    "}\n",
    "void InitializePhoto(float ph[50][100]) {\n",
    "    for (int y = 0; y < 50; y++) { for (int x = 0; x < 100; x++) { ph[y][x]=6*sin(0.3*x-0.5*y)*sin(-0.1*x+0.05*y); } }\n",
    "}\n",
    "void PrintPhoto(float ph[50][100]) {\n",
    "    for (int y = 0; y < 50; y++) { for (int x = 0; x < 100; x++) { PrintPixel(ph[y][x]); } cout << endl; }\n",
    "}\n",
    "void DarkerPhoto(float ph[50][100]) {\n",
    "    for (int y = 0; y < 50; y++) { for (int x = 0; x < 100; x++) { ph[y][x] *= 0.9; } }\n",
    "}\n",
    "void AddNoise(float ph[50][100]) {\n",
    "    for (int y = 0; y < 50; y++) { for (int x = 0; x < 100; x++) { ph[y][x] += 100 * (rand() % 10000 == 1); } }\n",
    "}\n",
    "void Drifting(float ph[50][100], float newph[50][100]) {\n",
    "    for (int y = 0; y < 50; y++) {\n",
    "        for (int x = 0; x < 100; x++) {\n",
    "            newph[y][x] = ph[y][x-1];\n",
    "        }\n",
    "    }\n",
    "    for (int y = 0; y < 50; y++) {\n",
    "        for (int x = 0; x < 100; x++) {\n",
    "            ph[y][x] = newph[y][x-1];\n",
    "        }\n",
    "    }\n",
    "}\n",
    "\n",
    "void Diffusion(float ph[50][100], float newph[50][100]) {\n",
    "    for (int y = 0; y < 50; y++) {\n",
    "        for (int x = 0; x < 100; x++) {\n",
    "            int x1 = (x + 1 + 100) % 100; // int x1 = x + 1; if (x1 == 100) { x1 = 0; }\n",
    "            int x2 = (x - 1 + 100) % 100; // int x2 = x - 1; if (x2 == -1) { x2 = 99; }\n",
    "            int y1 = (y + 1 + 50) % 50;   // int y1 = y + 1; if (y1 == 50) { y1 = 0; }\n",
    "            int y2 = (y - 1 + 50) % 50;   // int y2 = y - 1; if (y2 == -1) { y2 = 49; }\n",
    "            float neighbor = (ph[y][x1] - ph[y][x])\n",
    "                           + (ph[y][x2] - ph[y][x])\n",
    "                           + (ph[y1][x] - ph[y][x])\n",
    "                           + (ph[y2][x] - ph[y][x]);\n",
    "            newph[y][x] = ph[y][x] + neighbor / 10;\n",
    "        }\n",
    "    }\n",
    "    for (int y = 0; y < 50; y++) {\n",
    "        for (int x = 0; x < 100; x++) {\n",
    "            ph[y][x] = newph[y][x-1];\n",
    "        }\n",
    "    }\n",
    "}\n",
    "\n",
    "int main() {\n",
    "    float photo[50][100]; // This is a 2D array\n",
    "    float newphoto[50][100]; // This is a temporary 2D array so that \n",
    "    // the Drifting function have additional space to work with\n",
    "    InitializePhoto(photo);\n",
    "    for (int repeat = 0; repeat < 100; repeat++) {\n",
    "        DarkerPhoto(photo);\n",
    "        AddNoise(photo);\n",
    "        if (repeat % 3 == 0) { Drifting(photo, newphoto); }\n",
    "        Diffusion(photo, newphoto);\n",
    "        PrintPhoto(photo);\n",
    "        millisleep(100);\n",
    "    }\n",
    "}\n"
   ]
  },
  {
   "cell_type": "code",
   "execution_count": null,
   "id": "f4fb0769",
   "metadata": {},
   "outputs": [
    {
     "name": "stdout",
     "output_type": "stream",
     "text": [
      "1 2 3 \n",
      "4 5 0 \n",
      "0 0 0 \n"
     ]
    }
   ],
   "source": [
    "%%bash\n",
    "\n",
    "g++-14 -std=c++26 -Wall -Wextra -Wpedantic diffusion.cpp -o diffusion\n",
    "./matrix"
   ]
  },
  {
   "cell_type": "markdown",
   "id": "5a7b678a",
   "metadata": {
    "vscode": {
     "languageId": "cpp"
    }
   },
   "source": [
    "## Magnet in slowmotion\n"
   ]
  },
  {
   "cell_type": "code",
   "execution_count": 18,
   "id": "4f19bc32",
   "metadata": {},
   "outputs": [
    {
     "name": "stdout",
     "output_type": "stream",
     "text": [
      "Writing MIS.cpp\n"
     ]
    }
   ],
   "source": [
    "%%writefile MIS.cpp\n",
    "\n",
    "#include <iostream>\n",
    "using namespace std;\n",
    "#include <chrono>\n",
    "#include <thread>\n",
    "#define millisleep(x) std::this_thread::sleep_for(std::chrono::milliseconds(x));\n",
    "string white2black =  \" .:-=+*#%@\";\n",
    "void PrintPixel(float pvalue) {\n",
    "    int pint = round(pvalue); if (pint > 9) {pint = 9;} if (pint < 0) {pint = 0;} cout << white2black[pint];\n",
    "}\n",
    "void InitializePhoto(float ph[50][100]) {\n",
    "    for (int y = 0; y < 50; y++) { for (int x = 0; x < 100; x++) { ph[y][x] = 5 * (rand() % 2); } }\n",
    "}\n",
    "void PrintPhoto(float ph[50][100]) {\n",
    "    for (int y = 0; y < 50; y++) { for (int x = 0; x < 100; x++) { PrintPixel(ph[y][x]); } cout << endl; }\n",
    "}\n",
    "void BiasedFlipOne(float ph[50][100]) {\n",
    "    int y = rand() % 50;\n",
    "    int x = rand() % 100;\n",
    "    int x1 = (x + 1 + 100) % 100; // int x1 = x + 1; if (x1 == 100) { x1 = 0; }\n",
    "    int x2 = (x - 1 + 100) % 100; // int x2 = x - 1; if (x2 == -1) { x2 = 99; }\n",
    "    int y1 = (y + 1 + 50) % 50;   // int y1 = y + 1; if (y1 == 50) { y1 = 0; }\n",
    "    int y2 = (y - 1 + 50) % 50;   // int y2 = y - 1; if (y2 == -1) { y2 = 49; }\n",
    "    float hamilton = ph[y][x1] + ph[y][x2] + ph[y1][x] + ph[y2][x];\n",
    "    hamilton = hamilton / 5 * 2 - 4;\n",
    "    float probability = pow(2, hamilton) / (pow(2, hamilton) + pow(2, -hamilton));\n",
    "    if (rand() / float(RAND_MAX) < probability) { ph[y][x] = 5; }\n",
    "    else { ph[y][x] = 0; }\n",
    "}\n",
    "\n",
    "int main() {\n",
    "    float magnet[50][100];\n",
    "    InitializePhoto(magnet);\n",
    "    for (int repeat = 0; repeat < 100; repeat++) {\n",
    "        BiasedFlipOne(magnet);\n",
    "        PrintPhoto(magnet);\n",
    "        millisleep(100);\n",
    "    }\n",
    "}\n"
   ]
  },
  {
   "cell_type": "code",
   "execution_count": null,
   "id": "f2fe80df",
   "metadata": {},
   "outputs": [
    {
     "name": "stdout",
     "output_type": "stream",
     "text": [
      "2 3 5 7 11 13 17 19 23 29 31 37 41 43 47 53 59 61 67 71 73 79 83 89 97 101 103 107 109 113 127 131 137 139 149 151 157 163 167 173 179 181 191 193 197 199 211 223 227 229 233 239 241 251 257 263 269 271 277 281 283 293 307 311 313 317 331 337 347 349 353 359 367 373 379 383 389 397 401 409 419 421 431 433 439 443 449 457 461 463 467 479 487 491 499 503 509 521 523 541 "
     ]
    }
   ],
   "source": [
    "%%bash\n",
    "\n",
    "g++-14 -std=c++26 -Wall -Wextra -Wpedantic MIS.cpp -o MIS\n",
    "./MIS"
   ]
  },
  {
   "cell_type": "markdown",
   "id": "086bb4be",
   "metadata": {
    "vscode": {
     "languageId": "cpp"
    }
   },
   "source": [
    "## Faster"
   ]
  },
  {
   "cell_type": "code",
   "execution_count": 19,
   "id": "dfbfed99",
   "metadata": {},
   "outputs": [
    {
     "name": "stdout",
     "output_type": "stream",
     "text": [
      "Overwriting faster.cpp\n"
     ]
    }
   ],
   "source": [
    "%%writefile faster.cpp\n",
    "\n",
    "#include <iostream>\n",
    "using namespace std;\n",
    "#include <chrono>\n",
    "#include <thread>\n",
    "#define millisleep(x) std::this_thread::sleep_for(std::chrono::milliseconds(x));\n",
    "string white2black =  \" .:-=+*#%@\";\n",
    "void PrintPixel(float pvalue) {\n",
    "    int pint = round(pvalue); if (pint > 9) {pint = 9;} if (pint < 0) {pint = 0;} cout << white2black[pint];\n",
    "}\n",
    "void InitializePhoto(float ph[50][100]) {\n",
    "    for (int y = 0; y < 50; y++) { for (int x = 0; x < 100; x++) { ph[y][x] = 5 * (rand() % 2); } }\n",
    "}\n",
    "void PrintPhoto(float ph[50][100]) {\n",
    "    for (int y = 0; y < 50; y++) { for (int x = 0; x < 100; x++) { PrintPixel(ph[y][x]); } cout << endl; }\n",
    "}\n",
    "void BiasedFlipOne(float ph[50][100]) {\n",
    "    int y = rand() % 50;\n",
    "    int x = rand() % 100;\n",
    "    int x1 = (x + 1 + 100) % 100; // int x1 = x + 1; if (x1 == 100) { x1 = 0; }\n",
    "    int x2 = (x - 1 + 100) % 100; // int x2 = x - 1; if (x2 == -1) { x2 = 99; }\n",
    "    int y1 = (y + 1 + 50) % 50;   // int y1 = y + 1; if (y1 == 50) { y1 = 0; }\n",
    "    int y2 = (y - 1 + 50) % 50;   // int y2 = y - 1; if (y2 == -1) { y2 = 49; }\n",
    "    float hamilton = ph[y][x1] + ph[y][x2] + ph[y1][x] + ph[y2][x];\n",
    "    hamilton = hamilton / 5 * 2 - 4;\n",
    "    float probability = pow(2, hamilton) / (pow(2, hamilton) + pow(2, -hamilton));\n",
    "    if (rand() / float(RAND_MAX) < probability) { ph[y][x] = 5; }\n",
    "    else { ph[y][x] = 0; }\n",
    "}\n",
    "\n",
    "int main() {\n",
    "    float magnet[50][100];\n",
    "    InitializePhoto(magnet);\n",
    "    for (int repeat = 0; repeat < 1e8; repeat++) {\n",
    "        BiasedFlipOne(magnet);\n",
    "        if (repeat % int(1e2) == 0) {\n",
    "            PrintPhoto(magnet);\n",
    "            millisleep(100);\n",
    "        }\n",
    "    }\n",
    "}\n"
   ]
  },
  {
   "cell_type": "code",
   "execution_count": null,
   "id": "f6910e68",
   "metadata": {},
   "outputs": [
    {
     "name": "stdout",
     "output_type": "stream",
     "text": [
      "1 \n",
      "1 1 \n",
      "1 2 1 \n",
      "1 3 3 1 \n",
      "1 4 6 4 1 \n",
      "1 5 10 10 5 1 \n",
      "1 6 15 20 15 6 1 \n",
      "1 7 21 35 35 21 7 1 \n",
      "1 8 28 56 70 56 28 8 1 \n",
      "1 9 36 84 126 126 84 36 9 1 \n",
      "1 10 45 120 210 252 210 120 45 10 1 \n",
      "1 11 55 165 330 462 462 330 165 55 11 1 \n",
      "1 12 66 220 495 792 924 792 495 220 66 12 1 \n",
      "1 13 78 286 715 1287 1716 1716 1287 715 286 78 13 1 \n",
      "1 14 91 364 1001 2002 3003 3432 3003 2002 1001 364 91 14 1 \n",
      "1 15 105 455 1365 3003 5005 6435 6435 5005 3003 1365 455 105 15 1 \n",
      "1 16 120 560 1820 4368 8008 11440 12870 11440 8008 4368 1820 560 120 16 1 \n",
      "1 17 136 680 2380 6188 12376 19448 24310 24310 19448 12376 6188 2380 680 136 17 1 \n",
      "1 18 153 816 3060 8568 18564 31824 43758 48620 43758 31824 18564 8568 3060 816 153 18 1 \n",
      "1 19 171 969 3876 11628 27132 50388 75582 92378 92378 75582 50388 27132 11628 3876 969 171 19 1 \n"
     ]
    }
   ],
   "source": [
    "%%bash\n",
    "\n",
    "g++-14 -std=c++26 -Wall -Wextra -Wpedantic faster.cpp -o faster\n",
    "./faster"
   ]
  },
  {
   "cell_type": "markdown",
   "id": "094a49e7",
   "metadata": {},
   "source": [
    "## Faster faster"
   ]
  },
  {
   "cell_type": "code",
   "execution_count": null,
   "id": "b63f2922",
   "metadata": {},
   "outputs": [
    {
     "name": "stdout",
     "output_type": "stream",
     "text": [
      "1 \n",
      "1 1 \n",
      "1 2 1 \n",
      "1 3 3 1 \n",
      "1 4 6 4 1 \n",
      "1 5 10 10 5 1 \n",
      "1 6 15 20 15 6 1 \n",
      "1 7 21 35 35 21 7 1 \n",
      "1 8 28 56 70 56 28 8 1 \n",
      "1 9 36 84 126 126 84 36 9 1 \n",
      "1 10 45 120 210 252 210 120 45 10 1 \n",
      "1 11 55 165 330 462 462 330 165 55 11 1 \n",
      "1 12 66 220 495 792 924 792 495 220 66 12 1 \n",
      "1 13 78 286 715 1287 1716 1716 1287 715 286 78 13 1 \n",
      "1 14 91 364 1001 2002 3003 3432 3003 2002 1001 364 91 14 1 \n",
      "1 15 105 455 1365 3003 5005 6435 6435 5005 3003 1365 455 105 15 1 \n",
      "1 16 120 560 1820 4368 8008 11440 12870 11440 8008 4368 1820 560 120 16 1 \n",
      "1 17 136 680 2380 6188 12376 19448 24310 24310 19448 12376 6188 2380 680 136 17 1 \n",
      "1 18 153 816 3060 8568 18564 31824 43758 48620 43758 31824 18564 8568 3060 816 153 18 1 \n",
      "1 19 171 969 3876 11628 27132 50388 75582 92378 92378 75582 50388 27132 11628 3876 969 171 19 1 \n"
     ]
    }
   ],
   "source": [
    "int main() {\n",
    "    float magnet[50][100];\n",
    "    InitializePhoto(magnet);\n",
    "    for (int repeat = 0; repeat < 1e8; repeat++) {\n",
    "        BiasedFlipOne(magnet);\n",
    "        if (repeat % int(1e4) == 0) {\n",
    "            PrintPhoto(magnet);\n",
    "            millisleep(100);\n",
    "        }\n",
    "    }\n",
    "}\n",
    "\n"
   ]
  },
  {
   "cell_type": "markdown",
   "id": "f5616702",
   "metadata": {
    "vscode": {
     "languageId": "cpp"
    }
   },
   "source": [
    "Another way to compute the binomial coefficient is by the definition\n",
    "$\\binom nk = \\frac{n!}{k! (n-k)!}$.\n",
    "\n",
    "But computing $n!$ is dangerous because it might overflow\n",
    "even though \\binom nk does not overflow.\n",
    "So we can instead use the recurrence relation\n",
    "$\\binom nk = \\binom{n-1}{k-1} \\cdot \\frac nk$."
   ]
  },
  {
   "cell_type": "markdown",
   "id": "1b0306d1",
   "metadata": {},
   "source": [
    "## Faster faster faster"
   ]
  },
  {
   "cell_type": "code",
   "execution_count": null,
   "id": "9e061c97",
   "metadata": {},
   "outputs": [
    {
     "name": "stdout",
     "output_type": "stream",
     "text": [
      "Overwriting summary.cpp\n"
     ]
    }
   ],
   "source": [
    "\n",
    "int main() {\n",
    "    float magnet[50][100];\n",
    "    InitializePhoto(magnet);\n",
    "    for (int repeat = 0; repeat < 1e8; repeat++) {\n",
    "        BiasedFlipOne(magnet);\n",
    "        if (repeat % int(1e4) == 0) {\n",
    "            PrintPhoto(magnet);\n",
    "            millisleep(100);\n",
    "        }\n",
    "    }\n",
    "}\n"
   ]
  },
  {
   "cell_type": "markdown",
   "id": "91b7bd26",
   "metadata": {
    "vscode": {
     "languageId": "cpp"
    }
   },
   "source": [
    "## Change gear"
   ]
  },
  {
   "cell_type": "code",
   "execution_count": null,
   "id": "b387acae",
   "metadata": {},
   "outputs": [
    {
     "name": "stdout",
     "output_type": "stream",
     "text": [
      "Overwriting sort.cpp\n"
     ]
    }
   ],
   "source": [
    "int main() {\n",
    "    float magnet[50][100];\n",
    "    InitializePhoto(magnet);\n",
    "    for (int repeat = 2; repeat < 1e8; repeat++) {\n",
    "        BiasedFlipOne(magnet);\n",
    "        if (repeat == round(pow(1.1, round(log(repeat) / log(1.1))))) {\n",
    "            PrintPhoto(magnet);\n",
    "            cout << \"repeat = \" << repeat << endl;\n",
    "            millisleep(100);\n",
    "        }\n",
    "    }\n",
    "}\n",
    "\n"
   ]
  },
  {
   "cell_type": "markdown",
   "id": "0d0875b9",
   "metadata": {},
   "source": [
    "## Reaction–Diffusion System\n"
   ]
  },
  {
   "cell_type": "code",
   "execution_count": 20,
   "id": "9e818701",
   "metadata": {},
   "outputs": [
    {
     "name": "stdout",
     "output_type": "stream",
     "text": [
      "Overwriting RDS.cpp\n"
     ]
    }
   ],
   "source": [
    "%%writefile RDS.cpp\n",
    "\n",
    "#include <iostream>\n",
    "using namespace std;\n",
    "#include <chrono>\n",
    "#include <thread>\n",
    "#define millisleep(x) std::this_thread::sleep_for(std::chrono::milliseconds(x));\n",
    "string white2black =  \" .:-=+*#%@\";\n",
    "void PrintPixel(float pvalue) {\n",
    "    int pint = round(pvalue); if (pint > 9) {pint = 9;} if (pint < 0) {pint = 0;} cout << white2black[pint];\n",
    "}\n",
    "void InitializePhoto(float ch[50][100]) {\n",
    "    for (int y = 0; y < 50; y++) { for (int x = 0; x < 100; x++) { ch[y][x]=1 + 1*sin(0.3*x-0.5*y)*sin(-0.1*x+0.05*y); } }\n",
    "}\n",
    "void PrintPhoto(float ch[50][100]) {\n",
    "    for (int y = 0; y < 50; y++) { for (int x = 0; x < 100; x++) { PrintPixel(ch[y][x]); } cout << endl; }\n",
    "}\n",
    "\n",
    "void Diffusion(float ch[50][100], float newch[50][100]) {\n",
    "    for (int y = 0; y < 50; y++) {\n",
    "        for (int x = 0; x < 100; x++) {\n",
    "            int x1 = (x + 1 + 100) % 100; // int x1 = x + 1; if (x1 == 100) { x1 = 0; }\n",
    "            int x2 = (x - 1 + 100) % 100; // int x2 = x - 1; if (x2 == -1) { x2 = 99; }\n",
    "            int y1 = (y + 1 + 50) % 50;   // int y1 = y + 1; if (y1 == 50) { y1 = 0; }\n",
    "            int y2 = (y - 1 + 50) % 50;   // int y2 = y - 1; if (y2 == -1) { y2 = 49; }\n",
    "            float neighbor = (ch[y][x1] - ch[y][x])\n",
    "                           + (ch[y][x2] - ch[y][x])\n",
    "                           + (ch[y1][x] - ch[y][x])\n",
    "                           + (ch[y2][x] - ch[y][x]);\n",
    "            newch[y][x] = ch[y][x] + neighbor / 20;\n",
    "        }\n",
    "    }\n",
    "    for (int y = 0; y < 50; y++) {\n",
    "        for (int x = 0; x < 100; x++) {\n",
    "            ch[y][x] = newch[y][x];\n",
    "        }\n",
    "    }\n",
    "}\n",
    "\n",
    "void Reaction(float ch[50][100]) {\n",
    "    for (int y = 0; y < 50; y++) {\n",
    "        for (int x = 0; x < 100; x++) {\n",
    "            ch[y][x] += ch[y][x] * (10 - ch[y][x]) / 100;\n",
    "        }\n",
    "    }\n",
    "}\n",
    "\n",
    "int main() {\n",
    "    float chemical[50][100];\n",
    "    float newchem[50][100];\n",
    "    InitializePhoto(chemical);\n",
    "    for (int repeat = 0; repeat < 10000; repeat++) {\n",
    "        Diffusion(chemical, newchem);\n",
    "        Reaction(chemical);\n",
    "        PrintPhoto(chemical);\n",
    "        millisleep(100);\n",
    "    }\n",
    "}\n"
   ]
  },
  {
   "cell_type": "code",
   "execution_count": null,
   "id": "71647e7b",
   "metadata": {},
   "outputs": [
    {
     "name": "stdout",
     "output_type": "stream",
     "text": [
      "Candidate 0 received 27 votes.\n",
      "Candidate 1 received 15 votes.\n",
      "Candidate 2 received 21 votes.\n",
      "Candidate 3 received 22 votes.\n",
      "Candidate 4 received 15 votes.\n"
     ]
    }
   ],
   "source": [
    "%%bash\n",
    "\n",
    "g++-14 -std=c++26 -Wall -Wextra -Wpedantic RDS.cpp -o RDS\n",
    "./RDS"
   ]
  },
  {
   "cell_type": "markdown",
   "id": "d443a677",
   "metadata": {
    "vscode": {
     "languageId": "cpp"
    }
   },
   "source": [
    "# Activator & Inhibitor"
   ]
  },
  {
   "cell_type": "code",
   "execution_count": 21,
   "id": "e741fbf3",
   "metadata": {},
   "outputs": [
    {
     "name": "stdout",
     "output_type": "stream",
     "text": [
      "Overwriting AI.cpp\n"
     ]
    }
   ],
   "source": [
    "%%writefile AI.cpp\n",
    "\n",
    "#include <iostream>\n",
    "using namespace std;\n",
    "#include <chrono>\n",
    "#include <thread>\n",
    "#define millisleep(x) std::this_thread::sleep_for(std::chrono::milliseconds(x));\n",
    "string white2black =  \" .:-=+*#%@\";\n",
    "void PrintPixel(float pvalue) {\n",
    "    int pint = round(2 * pvalue + 5); if (pint > 9) {pint = 9;} if (pint < 0) {pint = 0;} cout << white2black[pint];\n",
    "}\n",
    "void InitializePhoto1(float ch[50][100], float tau) {\n",
    "    for (int y = 0; y < 50; y++) { for (int x = 0; x < 100; x++) { ch[y][x] = 2 * sin(0.3*x-0.5*y); } }\n",
    "}\n",
    "void InitializePhoto2(float ch[50][100], float tau) {\n",
    "    for (int y = 0; y < 50; y++) { for (int x = 0; x < 100; x++) { ch[y][x] = 2 * sin(-0.2*x+0.1*y); } }\n",
    "}\n",
    "void PrintPhoto(float ch[50][100]) {\n",
    "    for (int y = 0; y < 50; y++) { for (int x = 0; x < 100; x++) { PrintPixel(ch[y][x]); } cout << endl; }\n",
    "}\n",
    "\n",
    "void Diffusion(float ch[50][100], float newch[50][100]) {\n",
    "    for (int y = 0; y < 50; y++) {\n",
    "        for (int x = 0; x < 100; x++) {\n",
    "            int x1 = (x + 1 + 100) % 100; // int x1 = x + 1; if (x1 == 100) { x1 = 0; }\n",
    "            int x2 = (x - 1 + 100) % 100; // int x2 = x - 1; if (x2 == -1) { x2 = 99; }\n",
    "            int y1 = (y + 1 + 50) % 50;   // int y1 = y + 1; if (y1 == 50) { y1 = 0; }\n",
    "            int y2 = (y - 1 + 50) % 50;   // int y2 = y - 1; if (y2 == -1) { y2 = 49; }\n",
    "            float neighbor = (ch[y][x1] - ch[y][x])\n",
    "                           + (ch[y][x2] - ch[y][x])\n",
    "                           + (ch[y1][x] - ch[y][x]) / 2\n",
    "                           + (ch[y2][x] - ch[y][x]) / 2;\n",
    "            newch[y][x] = ch[y][x] + neighbor / 10;\n",
    "        }\n",
    "    }\n",
    "    for (int y = 0; y < 50; y++) {\n",
    "        for (int x = 0; x < 100; x++) {\n",
    "            ch[y][x] = newch[y][x];\n",
    "        }\n",
    "    }\n",
    "}\n",
    "\n",
    "void Reaction(float act[50][100], float inh[50][100]) {\n",
    "    for (int y = 0; y < 50; y++) {\n",
    "        for (int x = 0; x < 100; x++) {\n",
    "            float a = act[y][x];\n",
    "            float i = inh[y][x];\n",
    "            act[y][x] += (a * (1 - a*a / 3) - i) / 10;\n",
    "            inh[y][x] += a / 10; // Van der Pol oscillator\n",
    "        }\n",
    "    }\n",
    "}\n",
    "\n",
    "int main() {\n",
    "    float activator[50][100];\n",
    "    float inhibitor[50][100];\n",
    "    float newchem[50][100];\n",
    "    InitializePhoto1(activator, 2);\n",
    "    InitializePhoto2(inhibitor, 0);\n",
    "    for (int repeat = 0; repeat < 10000; repeat++) {\n",
    "        Diffusion(activator, newchem);\n",
    "        Diffusion(inhibitor, newchem);\n",
    "        Reaction(activator, inhibitor);\n",
    "        PrintPhoto(activator);\n",
    "        millisleep(100);\n",
    "    }\n",
    "}\n"
   ]
  },
  {
   "cell_type": "code",
   "execution_count": null,
   "id": "0c13e9f7",
   "metadata": {},
   "outputs": [
    {
     "name": "stdout",
     "output_type": "stream",
     "text": [
      "5 8 11 \n",
      "12 2 5 \n",
      "6 9 12 \n",
      "After gaussian elimination\n",
      "5 8 11 \n",
      "0 -17.2 -21.4 \n",
      "0 0 -0.453489 \n",
      "Determinant 39"
     ]
    }
   ],
   "source": [
    "%%bash\n",
    "\n",
    "g++-14 -std=c++26 -Wall -Wextra -Wpedantic AI.cpp -o AI\n",
    "./AI"
   ]
  },
  {
   "cell_type": "markdown",
   "id": "82524387",
   "metadata": {},
   "source": []
  }
 ],
 "metadata": {
  "kernelspec": {
   "display_name": "Python 3",
   "language": "python",
   "name": "python3"
  },
  "language_info": {
   "codemirror_mode": {
    "name": "ipython",
    "version": 3
   },
   "file_extension": ".py",
   "mimetype": "text/x-python",
   "name": "python",
   "nbconvert_exporter": "python",
   "pygments_lexer": "ipython3",
   "version": "3.13.7"
  }
 },
 "nbformat": 4,
 "nbformat_minor": 5
}
