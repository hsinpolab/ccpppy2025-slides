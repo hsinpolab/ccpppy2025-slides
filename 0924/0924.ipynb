{
 "cells": [
  {
   "cell_type": "markdown",
   "id": "094cd75f",
   "metadata": {
    "vscode": {
     "languageId": "plaintext"
    }
   },
   "source": [
    "# Computer Programming 0924"
   ]
  },
  {
   "cell_type": "code",
   "execution_count": 3,
   "id": "ebacef72",
   "metadata": {},
   "outputs": [
    {
     "name": "stdout",
     "output_type": "stream",
     "text": [
      "env: SDKROOT=/Library/Developer/CommandLineTools/SDKs/MacOSX.sdk\n"
     ]
    }
   ],
   "source": [
    "# Ignore this; my laptop is so old and Apple is nasty so I need this\n",
    "sdkroot = !xcrun --show-sdk-path\n",
    "%env SDKROOT={sdkroot[0]}"
   ]
  },
  {
   "cell_type": "markdown",
   "id": "3968ba8a",
   "metadata": {},
   "source": [
    "## Functions - hw1"
   ]
  },
  {
   "cell_type": "code",
   "execution_count": null,
   "id": "da301234",
   "metadata": {
    "vscode": {
     "languageId": "cpp"
    }
   },
   "outputs": [
    {
     "name": "stdout",
     "output_type": "stream",
     "text": [
      "50 at step 1\n",
      "25 at step 2\n",
      "76 at step 3\n",
      "38 at step 4\n",
      "19 at step 5\n",
      "58 at step 6\n",
      "29 at step 7\n",
      "88 at step 8\n",
      "44 at step 9\n",
      "22 at step 10\n",
      "11 at step 11\n",
      "34 at step 12\n",
      "17 at step 13\n",
      "52 at step 14\n",
      "26 at step 15\n",
      "13 at step 16\n",
      "40 at step 17\n",
      "20 at step 18\n",
      "10 at step 19\n",
      "5 at step 20\n",
      "16 at step 21\n",
      "8 at step 22\n",
      "4 at step 23\n",
      "2 at step 24\n",
      "1 at step 25\n"
     ]
    }
   ],
   "source": [
    "%%bash\n",
    "cat > collatz.cpp << CPPCODE\n",
    "\n",
    "#include <iostream>\n",
    "using namespace std;\n",
    "\n",
    "int next_step(int n) {\n",
    "    if (n % 2 == 0) return n / 2;\n",
    "    else return 3 * n + 1;\n",
    "}\n",
    "\n",
    "int main () {\n",
    "    int n;\n",
    "    int step = 0;\n",
    "    cin >> n;\n",
    "\n",
    "    while (n != 1) {\n",
    "        n = next_step(n);\n",
    "        step++;\n",
    "        cout << n << \" at step \" << step << endl;\n",
    "    }\n",
    "    return 0;\n",
    "}\n",
    "\n",
    "CPPCODE\n",
    "g++-14 -std=c++26 -Wall -Wextra -Wpedantic collatz.cpp -o collatz\n",
    "./collatz <<< \"100\""
   ]
  },
  {
   "cell_type": "code",
   "execution_count": 12,
   "id": "de684fae",
   "metadata": {
    "vscode": {
     "languageId": "cpp"
    }
   },
   "outputs": [
    {
     "name": "stdout",
     "output_type": "stream",
     "text": [
      "x = 310\n"
     ]
    }
   ],
   "source": [
    "%%bash\n",
    "cat > remainder.cpp << CPPCODE\n",
    "\n",
    "#include <iostream>\n",
    "#include <string>\n",
    "using namespace std;\n",
    "\n",
    "bool check_congruent(int x, int m, int r) {\n",
    "    return x % m == r;\n",
    "}\n",
    "\n",
    "int main() {\n",
    "    // read the input\n",
    "    string varname, percent, equalsign;\n",
    "    int m1, r1, m2, r2, x;\n",
    "    cin >> varname >> percent >> m1 >> equalsign >> r1;\n",
    "    cin >> varname >> percent >> m2 >> equalsign >> r2;\n",
    "\n",
    "    // try all numbers\n",
    "    for (x = 0; x < m1 * m2; x++) {\n",
    "        if (check_congruent(x, m1, r1) && check_congruent(x, m2, r2)) {\n",
    "            break;\n",
    "        }\n",
    "    }\n",
    "\n",
    "    cout << \"x = \" << x << endl;\n",
    "    return 0;\n",
    "}\n",
    "\n",
    "CPPCODE\n",
    "g++-14 -std=c++26 -Wall -Wextra -Wpedantic remainder.cpp -o remainder\n",
    "./remainder << STDIN\n",
    "    x % 13 = 11\n",
    "    x % 27 = 13\n",
    "STDIN"
   ]
  },
  {
   "cell_type": "code",
   "execution_count": 16,
   "id": "b78e519f",
   "metadata": {
    "vscode": {
     "languageId": "cpp"
    }
   },
   "outputs": [
    {
     "name": "stdout",
     "output_type": "stream",
     "text": [
      "12, 18, 20, 24, 30, 36, 40, 42, 48, 54, 56, 60, 66, 70, 72, 78, 80, 84, 88, 90, 96, 100, 102, 104, 108, 112, 114, 120, 126, 132, 138, 140, 144, 150, 156, 160, 162, 168, 174, 176, 180, 186, 192, 196, 198, 200, 204, 208, 210, 216, 220, 222, 224, 228, 234, 240, 246, 252, 258, 260, 264, 270, 272, 276, 280, 282, 288, 294, 300, 304, 306, 308, 312, 318, 320, 324, 330, 336, 340, 342, 348, 350, 352, 354, 360, 364, 366, 368, 372, 378, 380, 384, 390, 392, 396, 400, 402, 408, 414, 416, 420, 426, 432, 438, 440, 444, 448, 450, 456, 460, 462, 464, 468, 474, 476, 480, 486, 490, 492, 498, 500, 504, 510, 516, 520, 522, 528, 532, 534, 540, 544, 546, 550, 552, 558, 560, 564, 570, 572, 576, 580, 582, 588, 594, 600, 606, 608, 612, 616, 618, 620, 624, 630, 636, 640, 642, 644, 648, 650, 654, 660, 666, 672, 678, 680, 684, 690, 696, 700, 702, 704, 708, 714, 720, 726, 728, 732, 736, 738, 740, 744, 748, 750, 756, 760, 762, 768, 770, 774, 780, 784, 786, 792, 798, 800, 804, 810, 812, 816, 820, 822, 828, 832, 834, 836, 840, 846, 852, 858, 860, 864, 868, 870, 876, 880, 882, 888, 894, 896, 900, 906, 910, 912, 918, 920, 924, 928, 930, 936, 940, 942, 945, 948, 952, 954, 960, 966, 968, 972, 978, 980, 984, 990, 992, 996"
     ]
    }
   ],
   "source": [
    "%%bash\n",
    "cat > abundant.cpp << CPPCODE\n",
    "\n",
    "#include <iostream>\n",
    "using namespace std;\n",
    "\n",
    "int sum_proper_divisor(int n) {\n",
    "    int sum = 0;\n",
    "    for (int d = 1; d < n; d++) {\n",
    "        if (n % d == 0) {\n",
    "            sum += d;\n",
    "        }\n",
    "    }\n",
    "    return sum;\n",
    "}\n",
    "\n",
    "int main() {\n",
    "    int N;\n",
    "    cin >> N;\n",
    "    cout << \"12\";\n",
    "\n",
    "    for (int n = 13; n <= N; n++) {\n",
    "        if (sum_proper_divisor(n) > n) {\n",
    "            cout << \", \" << n;\n",
    "        }\n",
    "    }\n",
    "    return 0;\n",
    "}\n",
    "\n",
    "CPPCODE\n",
    "g++-14 -std=c++26 -Wall -Wextra -Wpedantic abundant.cpp -o abundant\n",
    "./abundant <<< \"999\""
   ]
  },
  {
   "cell_type": "code",
   "execution_count": 8,
   "id": "75a000d0",
   "metadata": {
    "vscode": {
     "languageId": "cpp"
    }
   },
   "outputs": [
    {
     "name": "stdout",
     "output_type": "stream",
     "text": [
      "7651 - 1567 = 6084\n",
      "8640 - 468 = 8172\n",
      "8721 - 1278 = 7443\n",
      "7443 - 3447 = 3996\n",
      "9963 - 3699 = 6264\n",
      "6642 - 2466 = 4176\n",
      "7641 - 1467 = 6174\n"
     ]
    }
   ],
   "source": [
    "%%bash\n",
    "cat > black.cpp << CPPCODE\n",
    "\n",
    "#include <iostream>\n",
    "using namespace std;\n",
    "\n",
    "int largest(int a, int b, int c, int d) {\n",
    "    int L = a;\n",
    "    if (b > L) L = b;\n",
    "    if (c > L) L = c;\n",
    "    if (d > L) L = d;\n",
    "    return L;\n",
    "}\n",
    "\n",
    "int larger(int a, int b, int c, int d) { // the second largest\n",
    "    int L = largest(a, b, c, d);\n",
    "    if ((a == L) + (b == L) + (c == L) + (d == L) > 1) return L;\n",
    "    if (a == L) a = -1;\n",
    "    if (b == L) b = -1;\n",
    "    if (c == L) c = -1;\n",
    "    if (d == L) d = -1;\n",
    "    return largest(a, b, c, d);\n",
    "}\n",
    "\n",
    "int smallest(int a, int b, int c, int d) {\n",
    "    int S = a;\n",
    "    if (b < S) S = b;\n",
    "    if (c < S) S = c;\n",
    "    if (d < S) S = d;\n",
    "    return S;\n",
    "}\n",
    "\n",
    "int smaller(int a, int b, int c, int d) { // the second smallest\n",
    "    int S = smallest(a, b, c, d);\n",
    "    if ((a == S) + (b == S) + (c == S) + (d == S) > 1) return S;\n",
    "    if (a == S) a = 10;\n",
    "    if (b == S) b = 10;\n",
    "    if (c == S) c = 10;\n",
    "    if (d == S) d = 10;\n",
    "    return smallest(a, b, c, d);\n",
    "}\n",
    "\n",
    "int main() {\n",
    "    int n, a, b, c, d;\n",
    "    cin >> n;\n",
    "    a = n / 1000;\n",
    "    b = (n / 100) % 10;\n",
    "    c = (n / 10) % 10;\n",
    "    d = n % 10;\n",
    "    while (n != 6174) {\n",
    "        int left = 1000 * largest(a, b, c, d)\n",
    "            + 100 * larger(a, b, c, d)\n",
    "            + 10 * smaller(a, b, c, d)\n",
    "            + smallest(a, b, c, d);\n",
    "        int right = 1000 * smallest(a, b, c, d)\n",
    "            + 100 * smaller(a, b, c, d)\n",
    "            + 10 * larger(a, b, c, d)\n",
    "            + largest(a, b, c, d);\n",
    "        n = left - right;\n",
    "        a = n / 1000;\n",
    "        b = (n / 100) % 10;\n",
    "        c = (n / 10) % 10;\n",
    "        d = n % 10;\n",
    "        cout << left << \" - \" << right << \" = \" << n << endl;\n",
    "    }\n",
    "}\n",
    "\n",
    "CPPCODE\n",
    "g++-14 -std=c++26 -Wall -Wextra -Wpedantic black.cpp -o black\n",
    "./black <<< \"6175\""
   ]
  },
  {
   "cell_type": "code",
   "execution_count": 11,
   "id": "adc638c5",
   "metadata": {
    "vscode": {
     "languageId": "cpp"
    }
   },
   "outputs": [
    {
     "name": "stdout",
     "output_type": "stream",
     "text": [
      "7651 - 1567 = 6084\n",
      "8640 - 468 = 8172\n",
      "8721 - 1278 = 7443\n",
      "7443 - 3447 = 3996\n",
      "9963 - 3699 = 6264\n",
      "6642 - 2466 = 4176\n",
      "7641 - 1467 = 6174\n"
     ]
    }
   ],
   "source": [
    "%%bash\n",
    "cat > black.cpp << CPPCODE\n",
    "\n",
    "#include <iostream>\n",
    "using namespace std;\n",
    "\n",
    "void int2array(int n, int A[4]) {\n",
    "    A[0] = n / 1000;\n",
    "    A[1] = (n / 100) % 10;\n",
    "    A[2] = (n / 10) % 10;\n",
    "    A[3] = n % 10;\n",
    "}\n",
    "\n",
    "int array2int(int A[4]) {\n",
    "    return 1000 * A[0] + 100 * A[1] + 10 * A[2] + A[3];\n",
    "}\n",
    "\n",
    "void sort(int N[4], int L[4], int S[4]) {\n",
    "    L[0] = N[0];\n",
    "    L[1] = N[1];\n",
    "    L[2] = N[2];\n",
    "    L[3] = N[3];\n",
    "    bool sorted = false;\n",
    "    while (!sorted) {\n",
    "        sorted = true;\n",
    "        for (int i = 0; i < 3; i++) {\n",
    "            if (L[i] < L[i+1]) {\n",
    "                swap(L[i], L[i+1]);\n",
    "                sorted = false;\n",
    "            }\n",
    "        }\n",
    "    }\n",
    "    S[0] = L[3];\n",
    "    S[1] = L[2];\n",
    "    S[2] = L[1];\n",
    "    S[3] = L[0];\n",
    "}\n",
    "\n",
    "int main() {\n",
    "    int n;\n",
    "    int N[4] = {};\n",
    "    int L[4] = {};\n",
    "    int S[4] = {};\n",
    "    cin >> n;\n",
    "    int2array(n, N);\n",
    "    while (n != 6174) {\n",
    "        sort(N, L, S);\n",
    "        int large = array2int(L);\n",
    "        int small = array2int(S);\n",
    "        n = large - small;\n",
    "        cout << large << \" - \" << small << \" = \" << n << endl;\n",
    "        int2array(n, N);\n",
    "    }\n",
    "}\n",
    "\n",
    "CPPCODE\n",
    "g++-14 -std=c++26 -Wall -Wextra -Wpedantic black.cpp -o black\n",
    "./black <<< \"6175\""
   ]
  },
  {
   "cell_type": "code",
   "execution_count": 14,
   "id": "7022bdbc",
   "metadata": {
    "vscode": {
     "languageId": "cpp"
    }
   },
   "outputs": [
    {
     "name": "stdout",
     "output_type": "stream",
     "text": [
      "29376\n"
     ]
    }
   ],
   "source": [
    "%%bash\n",
    "cat > sos.cpp << CPPCODE\n",
    "\n",
    "#include <iostream>\n",
    "#include <cmath>\n",
    "using namespace std;\n",
    "\n",
    "int main() {\n",
    "    int n;\n",
    "    cin >> n;\n",
    "    int count = 0;\n",
    "    for (int a = -sqrt(n); a<= sqrt(n); ++a) {\n",
    "        int m = n - a * a;\n",
    "        for (int b = -sqrt(m); b <= sqrt(m); ++b) {\n",
    "            int l = m - b * b;\n",
    "            for (int c = -sqrt(l); c <= sqrt(l); ++c) {\n",
    "                int k = l - c * c;\n",
    "                for (int d = -sqrt(k); d <= sqrt(k); ++d) {\n",
    "                    if (d * d == k) {\n",
    "                        count++;\n",
    "                    }\n",
    "                }\n",
    "            }\n",
    "        }\n",
    "    }\n",
    "    cout << count << endl;\n",
    "    return 0;\n",
    "}\n",
    "\n",
    "CPPCODE\n",
    "g++-14 -std=c++26 -Wall -Wextra -Wpedantic sos.cpp -o sos\n",
    "./sos <<< \"8888\""
   ]
  },
  {
   "cell_type": "markdown",
   "id": "2b2a31cb",
   "metadata": {},
   "source": [
    "## Functions - hw2"
   ]
  },
  {
   "cell_type": "code",
   "execution_count": 16,
   "id": "1f8b9fa5",
   "metadata": {
    "vscode": {
     "languageId": "cpp"
    }
   },
   "outputs": [
    {
     "name": "stdout",
     "output_type": "stream",
     "text": [
      "21\n"
     ]
    }
   ],
   "source": [
    "%%bash\n",
    "cat > degree.cpp << CPPCODE\n",
    "\n",
    "#include <iostream>\n",
    "#include <fstream>\n",
    "#include <sstream>\n",
    "#include <string>\n",
    "using namespace std;\n",
    "\n",
    "int main() {\n",
    "    ifstream fin(\"com-amazon.ungraph.txt\");\n",
    "    if (!fin) { // check if file can be opened\n",
    "        cerr << \"Cannot open file.\" << endl;\n",
    "        return 1;\n",
    "    }\n",
    "\n",
    "    string line;\n",
    "    getline(fin, line);\n",
    "    getline(fin, line);\n",
    "    getline(fin, line);\n",
    "    getline(fin, line); // ignore first four lines\n",
    "\n",
    "    int v, a, b;\n",
    "    cin >> v;\n",
    "    int degree = 0;\n",
    "    while (fin >> a >> b) {\n",
    "        if (a == v || b == v) degree++;\n",
    "    }\n",
    "    cout << degree << endl;\n",
    "    return 0;\n",
    "}\n",
    "\n",
    "CPPCODE\n",
    "g++-14 -std=c++26 -Wall -Wextra -Wpedantic degree.cpp -o degree\n",
    "./degree <<< \"548411\""
   ]
  },
  {
   "cell_type": "code",
   "execution_count": null,
   "id": "fe7f1a29",
   "metadata": {
    "vscode": {
     "languageId": "cpp"
    }
   },
   "outputs": [],
   "source": []
  }
 ],
 "metadata": {
  "kernelspec": {
   "display_name": "SageMath 10.6",
   "language": "sage",
   "name": "SageMath-10.6"
  },
  "language_info": {
   "codemirror_mode": {
    "name": "ipython",
    "version": 3
   },
   "file_extension": ".py",
   "mimetype": "text/x-python",
   "name": "python",
   "nbconvert_exporter": "python",
   "pygments_lexer": "ipython3",
   "version": "3.12.5"
  }
 },
 "nbformat": 4,
 "nbformat_minor": 5
}
