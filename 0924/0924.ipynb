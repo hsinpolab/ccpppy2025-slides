{
 "cells": [
  {
   "cell_type": "markdown",
   "id": "094cd75f",
   "metadata": {
    "vscode": {
     "languageId": "plaintext"
    }
   },
   "source": [
    "# Computer Programming 0924"
   ]
  },
  {
   "cell_type": "code",
   "execution_count": 1,
   "id": "ebacef72",
   "metadata": {},
   "outputs": [
    {
     "name": "stdout",
     "output_type": "stream",
     "text": [
      "env: SDKROOT=/Library/Developer/CommandLineTools/SDKs/MacOSX.sdk\n"
     ]
    }
   ],
   "source": [
    "# Ignore this; my laptop is so old and Apple is nasty so I need this\n",
    "sdkroot = !xcrun --show-sdk-path\n",
    "%env SDKROOT={sdkroot[0]}"
   ]
  },
  {
   "cell_type": "markdown",
   "id": "3968ba8a",
   "metadata": {},
   "source": [
    "## HW2 answer"
   ]
  },
  {
   "cell_type": "markdown",
   "id": "f5461491",
   "metadata": {
    "vscode": {
     "languageId": "cpp"
    }
   },
   "source": [
    "### Collatz conjecture"
   ]
  },
  {
   "cell_type": "code",
   "execution_count": 2,
   "id": "da301234",
   "metadata": {
    "vscode": {
     "languageId": "cpp"
    }
   },
   "outputs": [
    {
     "name": "stdout",
     "output_type": "stream",
     "text": [
      "50 at step 1\n",
      "25 at step 2\n",
      "76 at step 3\n",
      "38 at step 4\n",
      "19 at step 5\n",
      "58 at step 6\n",
      "29 at step 7\n",
      "88 at step 8\n",
      "44 at step 9\n",
      "22 at step 10\n",
      "11 at step 11\n",
      "34 at step 12\n",
      "17 at step 13\n",
      "52 at step 14\n",
      "26 at step 15\n",
      "13 at step 16\n",
      "40 at step 17\n",
      "20 at step 18\n",
      "10 at step 19\n",
      "5 at step 20\n",
      "16 at step 21\n",
      "8 at step 22\n",
      "4 at step 23\n",
      "2 at step 24\n",
      "1 at step 25\n"
     ]
    }
   ],
   "source": [
    "%%bash\n",
    "cat > collatz.cpp << CPPCODE\n",
    "\n",
    "#include <iostream>\n",
    "using namespace std;\n",
    "\n",
    "int next_step(int n) {\n",
    "    if (n % 2 == 0) return n / 2;\n",
    "    else return 3 * n + 1;\n",
    "}\n",
    "\n",
    "int main () {\n",
    "    int n;\n",
    "    int step = 0;\n",
    "    cin >> n;\n",
    "\n",
    "    while (n != 1) {\n",
    "        n = next_step(n);\n",
    "        step++;\n",
    "        cout << n << \" at step \" << step << endl;\n",
    "    }\n",
    "    \n",
    "    return 0;\n",
    "}\n",
    "\n",
    "CPPCODE\n",
    "g++-14 -std=c++26 -Wall -Wextra -Wpedantic -Wshadow -Wconversion collatz.cpp -o collatz\n",
    "./collatz <<< \"100\""
   ]
  },
  {
   "cell_type": "markdown",
   "id": "924ea39c",
   "metadata": {},
   "source": [
    "### Chinese remainder theorem"
   ]
  },
  {
   "cell_type": "code",
   "execution_count": 3,
   "id": "de684fae",
   "metadata": {
    "vscode": {
     "languageId": "cpp"
    }
   },
   "outputs": [
    {
     "name": "stdout",
     "output_type": "stream",
     "text": [
      " not 0 not 1 not 2 not 3 not 4 not 5 not 6 not 7 not 8 not 9\n",
      " not 10 not 11 not 12 not 13 not 14 not 15 not 16 not 17 not 18 not 19\n",
      " not 20 not 21 not 22 not 23 not 24 not 25 not 26 not 27 not 28 not 29\n",
      " not 30 not 31 not 32 not 33 not 34 not 35 not 36 not 37 not 38 not 39\n",
      " not 40 not 41 not 42 not 43 not 44 not 45 not 46 not 47 not 48 not 49\n",
      " not 50 not 51 not 52 not 53 not 54 not 55 not 56 not 57 not 58 not 59\n",
      " not 60 not 61 not 62 not 63 not 64 not 65 not 66 not 67 not 68 not 69\n",
      " not 70 not 71 not 72 not 73 not 74 not 75 not 76 not 77 not 78 not 79\n",
      " not 80 not 81 not 82 not 83 not 84 not 85 not 86 not 87 not 88 not 89\n",
      " not 90 not 91 not 92 not 93 not 94 not 95 not 96 not 97 not 98 not 99\n",
      " not 100 not 101 not 102 not 103 not 104 not 105 not 106 not 107 not 108 not 109\n",
      " not 110 not 111 not 112 not 113 not 114 not 115 not 116 not 117 not 118 not 119\n",
      " not 120 not 121 not 122 not 123 not 124 not 125 not 126 not 127 not 128 not 129\n",
      " not 130 not 131 not 132 not 133 not 134 not 135 not 136 not 137 not 138 not 139\n",
      " not 140 not 141 not 142 not 143 not 144 not 145 not 146 not 147 not 148 not 149\n",
      " not 150 not 151 not 152 not 153 not 154 not 155 not 156 not 157 not 158 not 159\n",
      " not 160 not 161 not 162 not 163 not 164 not 165 not 166 not 167 not 168 not 169\n",
      " not 170 not 171 not 172 not 173 not 174 not 175 not 176 not 177 not 178 not 179\n",
      " not 180 not 181 not 182 not 183 not 184 not 185 not 186 not 187 not 188 not 189\n",
      " not 190 not 191 not 192 not 193 not 194 not 195 not 196 not 197 not 198 not 199\n",
      " not 200 not 201 not 202 not 203 not 204 not 205 not 206 not 207 not 208 not 209\n",
      " not 210 not 211 not 212 not 213 not 214 not 215 not 216 not 217 not 218 not 219\n",
      " not 220 not 221 not 222 not 223 not 224 not 225 not 226 not 227 not 228 not 229\n",
      " not 230 not 231 not 232 not 233 not 234 not 235 not 236 not 237 not 238 not 239\n",
      " not 240 not 241 not 242 not 243 not 244 not 245 not 246 not 247 not 248 not 249\n",
      " not 250 not 251 not 252 not 253 not 254 not 255 not 256 not 257 not 258 not 259\n",
      " not 260 not 261 not 262 not 263 not 264 not 265 not 266 not 267 not 268 not 269\n",
      " not 270 not 271 not 272 not 273 not 274 not 275 not 276 not 277 not 278 not 279\n",
      " not 280 not 281 not 282 not 283 not 284 not 285 not 286 not 287 not 288 not 289\n",
      " not 290 not 291 not 292 not 293 not 294 not 295 not 296 not 297 not 298 not 299\n",
      " not 300 not 301 not 302 not 303 not 304 not 305 not 306 not 307 not 308 not 309\n",
      "\n",
      "x = 310\n"
     ]
    }
   ],
   "source": [
    "%%bash\n",
    "cat > remainder.cpp << CPPCODE\n",
    "\n",
    "#include <iostream>\n",
    "#include <string>\n",
    "using namespace std;\n",
    "\n",
    "bool check_congruent(int x, int m, int r) {\n",
    "    return x % m == r;\n",
    "}\n",
    "\n",
    "int main() {\n",
    "    // read the input\n",
    "    string varname, percent, equalsign;\n",
    "    int m1, r1, m2, r2, x;\n",
    "    cin >> varname >> percent >> m1 >> equalsign >> r1;\n",
    "    cin >> varname >> percent >> m2 >> equalsign >> r2;\n",
    "\n",
    "    // try all numbers\n",
    "    for (x = 0; x < m1 * m2; x++) {\n",
    "        if (check_congruent(x, m1, r1) && check_congruent(x, m2, r2)) {\n",
    "            break;\n",
    "        }\n",
    "        cout << \" not \" << x;\n",
    "        if (x % 10 == 9) cout << endl;\n",
    "    }\n",
    "\n",
    "    cout << endl;\n",
    "    cout << \"x = \" << x << endl;\n",
    "    return 0;\n",
    "}\n",
    "\n",
    "CPPCODE\n",
    "g++-14 -std=c++26 -Wall -Wextra -Wpedantic -Wshadow -Wconversion remainder.cpp -o remainder\n",
    "./remainder << STDIN\n",
    "    x % 13 = 11\n",
    "    x % 27 = 13\n",
    "STDIN"
   ]
  },
  {
   "cell_type": "markdown",
   "id": "c338b201",
   "metadata": {
    "vscode": {
     "languageId": "cpp"
    }
   },
   "source": [
    "### Abundant numbers"
   ]
  },
  {
   "cell_type": "code",
   "execution_count": 4,
   "id": "b78e519f",
   "metadata": {
    "vscode": {
     "languageId": "cpp"
    }
   },
   "outputs": [
    {
     "name": "stdout",
     "output_type": "stream",
     "text": [
      "12, 18, 20, 24, 30, 36, 40, 42, 48, 54, 56, 60, 66, 70, 72, 78, 80, 84, 88, 90, 96, 100, 102, 104, 108, 112, 114, 120, 126, 132, 138, 140, 144, 150, 156, 160, 162, 168, 174, 176, 180, 186, 192, 196, 198, 200, 204, 208, 210, 216, 220, 222, 224, 228, 234, 240, 246, 252, 258, 260, 264, 270, 272, 276, 280, 282, 288, 294, 300, 304, 306, 308, 312, 318, 320, 324, 330, 336, 340, 342, 348, 350, 352, 354, 360, 364, 366, 368, 372, 378, 380, 384, 390, 392, 396, 400, 402, 408, 414, 416, 420, 426, 432, 438, 440, 444, 448, 450, 456, 460, 462, 464, 468, 474, 476, 480, 486, 490, 492, 498, 500, 504, 510, 516, 520, 522, 528, 532, 534, 540, 544, 546, 550, 552, 558, 560, 564, 570, 572, 576, 580, 582, 588, 594, 600, 606, 608, 612, 616, 618, 620, 624, 630, 636, 640, 642, 644, 648, 650, 654, 660, 666, 672, 678, 680, 684, 690, 696, 700, 702, 704, 708, 714, 720, 726, 728, 732, 736, 738, 740, 744, 748, 750, 756, 760, 762, 768, 770, 774, 780, 784, 786, 792, 798, 800, 804, 810, 812, 816, 820, 822, 828, 832, 834, 836, 840, 846, 852, 858, 860, 864, 868, 870, 876, 880, 882, 888, 894, 896, 900, 906, 910, 912, 918, 920, 924, 928, 930, 936, 940, 942, 945, 948, 952, 954, 960, 966, 968, 972, 978, 980, 984, 990, 992, 996"
     ]
    }
   ],
   "source": [
    "%%bash\n",
    "cat > abundant.cpp << CPPCODE\n",
    "\n",
    "#include <iostream>\n",
    "using namespace std;\n",
    "\n",
    "int sum_proper_divisor(int n) {\n",
    "    int sum = 0;\n",
    "    for (int d = 1; d < n; d++) {\n",
    "        if (n % d == 0) {\n",
    "            sum += d;\n",
    "        }\n",
    "    }\n",
    "    return sum;\n",
    "}\n",
    "\n",
    "int main() {\n",
    "    int N;\n",
    "    cin >> N;\n",
    "    cout << \"12\";\n",
    "\n",
    "    for (int n = 13; n <= N; n++) {\n",
    "        if (sum_proper_divisor(n) > n) {\n",
    "            cout << \", \" << n;\n",
    "        }\n",
    "    }\n",
    "    return 0;\n",
    "}\n",
    "\n",
    "CPPCODE\n",
    "g++-14 -std=c++26 -Wall -Wextra -Wpedantic -Wshadow -Wconversion abundant.cpp -o abundant\n",
    "./abundant <<< \"999\""
   ]
  },
  {
   "cell_type": "markdown",
   "id": "1fc1545b",
   "metadata": {
    "vscode": {
     "languageId": "cpp"
    }
   },
   "source": [
    "## Black hole number"
   ]
  },
  {
   "cell_type": "code",
   "execution_count": 5,
   "id": "75a000d0",
   "metadata": {
    "vscode": {
     "languageId": "cpp"
    }
   },
   "outputs": [
    {
     "name": "stdout",
     "output_type": "stream",
     "text": [
      "7651 - 1567 = 6084\n",
      "8640 - 468 = 8172\n",
      "8721 - 1278 = 7443\n",
      "7443 - 3447 = 3996\n",
      "9963 - 3699 = 6264\n",
      "6642 - 2466 = 4176\n",
      "7641 - 1467 = 6174\n"
     ]
    }
   ],
   "source": [
    "%%bash\n",
    "cat > black.cpp << CPPCODE\n",
    "\n",
    "#include <iostream>\n",
    "using namespace std;\n",
    "\n",
    "int largest(int a, int b, int c, int d) {\n",
    "    int L = a;\n",
    "    if (b > L) L = b;\n",
    "    if (c > L) L = c;\n",
    "    if (d > L) L = d;\n",
    "    return L;\n",
    "}\n",
    "\n",
    "int larger(int a, int b, int c, int d) { // the second largest\n",
    "    int L = largest(a, b, c, d);\n",
    "    if ((a == L) + (b == L) + (c == L) + (d == L) > 1) return L;\n",
    "    if (a == L) a = -1;\n",
    "    if (b == L) b = -1;\n",
    "    if (c == L) c = -1;\n",
    "    if (d == L) d = -1;\n",
    "    return largest(a, b, c, d);\n",
    "}\n",
    "\n",
    "int smallest(int a, int b, int c, int d) {\n",
    "    int S = a;\n",
    "    if (b < S) S = b;\n",
    "    if (c < S) S = c;\n",
    "    if (d < S) S = d;\n",
    "    return S;\n",
    "}\n",
    "\n",
    "int smaller(int a, int b, int c, int d) { // the second smallest\n",
    "    int S = smallest(a, b, c, d);\n",
    "    if ((a == S) + (b == S) + (c == S) + (d == S) > 1) return S;\n",
    "    if (a == S) a = 10;\n",
    "    if (b == S) b = 10;\n",
    "    if (c == S) c = 10;\n",
    "    if (d == S) d = 10;\n",
    "    return smallest(a, b, c, d);\n",
    "}\n",
    "\n",
    "int main() {\n",
    "    int n, a, b, c, d;\n",
    "    cin >> n;\n",
    "    a = n / 1000;\n",
    "    b = (n / 100) % 10;\n",
    "    c = (n / 10) % 10;\n",
    "    d = n % 10;\n",
    "    while (n != 6174) {\n",
    "        int left = 1000 * largest(a, b, c, d)\n",
    "            + 100 * larger(a, b, c, d)\n",
    "            + 10 * smaller(a, b, c, d)\n",
    "            + smallest(a, b, c, d);\n",
    "        int right = 1000 * smallest(a, b, c, d)\n",
    "            + 100 * smaller(a, b, c, d)\n",
    "            + 10 * larger(a, b, c, d)\n",
    "            + largest(a, b, c, d);\n",
    "        n = left - right;\n",
    "        a = n / 1000;\n",
    "        b = (n / 100) % 10;\n",
    "        c = (n / 10) % 10;\n",
    "        d = n % 10;\n",
    "        cout << left << \" - \" << right << \" = \" << n << endl;\n",
    "    }\n",
    "}\n",
    "\n",
    "CPPCODE\n",
    "g++-14 -std=c++26 -Wall -Wextra -Wpedantic -Wshadow -Wconversion black.cpp -o black\n",
    "./black <<< \"6175\""
   ]
  },
  {
   "cell_type": "code",
   "execution_count": 6,
   "id": "adc638c5",
   "metadata": {
    "vscode": {
     "languageId": "cpp"
    }
   },
   "outputs": [
    {
     "name": "stdout",
     "output_type": "stream",
     "text": [
      "7651 - 1567 = 6084\n",
      "8640 - 468 = 8172\n",
      "8721 - 1278 = 7443\n",
      "7443 - 3447 = 3996\n",
      "9963 - 3699 = 6264\n",
      "6642 - 2466 = 4176\n",
      "7641 - 1467 = 6174\n"
     ]
    }
   ],
   "source": [
    "%%bash\n",
    "cat > black.cpp << CPPCODE\n",
    "\n",
    "#include <iostream>\n",
    "using namespace std;\n",
    "\n",
    "void int2array(int n, int A[4]) {\n",
    "    A[0] = n / 1000;\n",
    "    A[1] = (n / 100) % 10;\n",
    "    A[2] = (n / 10) % 10;\n",
    "    A[3] = n % 10;\n",
    "}\n",
    "\n",
    "int array2int(int A[4]) {\n",
    "    return 1000 * A[0] + 100 * A[1] + 10 * A[2] + A[3];\n",
    "}\n",
    "\n",
    "void sort(int N[4], int L[4], int S[4]) {\n",
    "    L[0] = N[0];\n",
    "    L[1] = N[1];\n",
    "    L[2] = N[2];\n",
    "    L[3] = N[3];\n",
    "    bool sorted = false;\n",
    "    while (!sorted) {\n",
    "        sorted = true;\n",
    "        for (int i = 0; i < 3; i++) {\n",
    "            if (L[i] < L[i+1]) {\n",
    "                swap(L[i], L[i+1]);\n",
    "                sorted = false;\n",
    "            }\n",
    "        }\n",
    "    }\n",
    "    S[0] = L[3];\n",
    "    S[1] = L[2];\n",
    "    S[2] = L[1];\n",
    "    S[3] = L[0];\n",
    "}\n",
    "\n",
    "int main() {\n",
    "    int n;\n",
    "    int N[4] = {};\n",
    "    int L[4] = {};\n",
    "    int S[4] = {};\n",
    "    cin >> n;\n",
    "    int2array(n, N);\n",
    "    while (n != 6174) {\n",
    "        sort(N, L, S);\n",
    "        int large = array2int(L);\n",
    "        int small = array2int(S);\n",
    "        n = large - small;\n",
    "        cout << large << \" - \" << small << \" = \" << n << endl;\n",
    "        int2array(n, N);\n",
    "    }\n",
    "}\n",
    "\n",
    "CPPCODE\n",
    "g++-14 -std=c++26 -Wall -Wextra -Wpedantic -Wshadow -Wconversion black.cpp -o black\n",
    "./black <<< \"6175\""
   ]
  },
  {
   "cell_type": "code",
   "execution_count": 7,
   "id": "7022bdbc",
   "metadata": {
    "vscode": {
     "languageId": "cpp"
    }
   },
   "outputs": [
    {
     "name": "stderr",
     "output_type": "stream",
     "text": [
      "sos.cpp: In function 'int main()':\n",
      "sos.cpp:10:18: warning: conversion from '__gnu_cxx::__enable_if<true, double>::__type' {aka 'double'} to 'int' may change value [-Wfloat-conversion]\n",
      "   10 |     for (int a = -sqrt(n); a<= sqrt(n); ++a) {\n",
      "      |                  ^~~~~~~~\n",
      "sos.cpp:12:22: warning: conversion from '__gnu_cxx::__enable_if<true, double>::__type' {aka 'double'} to 'int' may change value [-Wfloat-conversion]\n",
      "   12 |         for (int b = -sqrt(m); b <= sqrt(m); ++b) {\n",
      "      |                      ^~~~~~~~\n",
      "sos.cpp:14:26: warning: conversion from '__gnu_cxx::__enable_if<true, double>::__type' {aka 'double'} to 'int' may change value [-Wfloat-conversion]\n",
      "   14 |             for (int c = -sqrt(l); c <= sqrt(l); ++c) {\n",
      "      |                          ^~~~~~~~\n",
      "sos.cpp:16:30: warning: conversion from '__gnu_cxx::__enable_if<true, double>::__type' {aka 'double'} to 'int' may change value [-Wfloat-conversion]\n",
      "   16 |                 for (int d = -sqrt(k); d <= sqrt(k); ++d) {\n",
      "      |                              ^~~~~~~~\n"
     ]
    },
    {
     "name": "stdout",
     "output_type": "stream",
     "text": [
      "29376\n"
     ]
    }
   ],
   "source": [
    "%%bash\n",
    "cat > sos.cpp << CPPCODE\n",
    "\n",
    "#include <iostream>\n",
    "#include <cmath>\n",
    "using namespace std;\n",
    "\n",
    "int main() {\n",
    "    int n;\n",
    "    cin >> n;\n",
    "    int count = 0;\n",
    "    for (int a = -sqrt(n); a<= sqrt(n); ++a) {\n",
    "        int m = n - a * a;\n",
    "        for (int b = -sqrt(m); b <= sqrt(m); ++b) {\n",
    "            int l = m - b * b;\n",
    "            for (int c = -sqrt(l); c <= sqrt(l); ++c) {\n",
    "                int k = l - c * c;\n",
    "                for (int d = -sqrt(k); d <= sqrt(k); ++d) {\n",
    "                    if (d * d == k) {\n",
    "                        count++;\n",
    "                    }\n",
    "                }\n",
    "            }\n",
    "        }\n",
    "    }\n",
    "    cout << count << endl;\n",
    "    return 0;\n",
    "}\n",
    "\n",
    "CPPCODE\n",
    "g++-14 -std=c++26 -Wall -Wextra -Wpedantic -Wshadow -Wconversion sos.cpp -o sos\n",
    "./sos <<< \"8888\""
   ]
  },
  {
   "cell_type": "markdown",
   "id": "2b2a31cb",
   "metadata": {},
   "source": [
    "### HW3 answer"
   ]
  },
  {
   "cell_type": "markdown",
   "id": "0792c1c6",
   "metadata": {
    "vscode": {
     "languageId": "cpp"
    }
   },
   "source": [
    "Announcement: \n",
    "- HW3 will be due next week (1001).\n",
    "- If you keep getting segmentation fault, use global variable."
   ]
  },
  {
   "cell_type": "code",
   "execution_count": 8,
   "id": "1f8b9fa5",
   "metadata": {
    "vscode": {
     "languageId": "cpp"
    }
   },
   "outputs": [
    {
     "name": "stdout",
     "output_type": "stream",
     "text": [
      "21\n"
     ]
    }
   ],
   "source": [
    "%%bash\n",
    "cat > degree.cpp << CPPCODE\n",
    "\n",
    "#include <iostream>\n",
    "#include <fstream>\n",
    "#include <string>\n",
    "using namespace std;\n",
    "\n",
    "void ignore_comment_lines(ifstream &fin) {\n",
    "    // ignore the first four lines (if we know it's four)\n",
    "    string line;\n",
    "    getline(fin, line);\n",
    "    getline(fin, line);\n",
    "    getline(fin, line);\n",
    "    getline(fin, line);\n",
    "}\n",
    "\n",
    "int main() {\n",
    "    ifstream fin(\"com-amazon.ungraph.txt\");\n",
    "    ignore_comment_lines(fin);\n",
    "\n",
    "    int v, a, b;\n",
    "    int degree = 0;\n",
    "    cin >> v;\n",
    "    while (fin >> a >> b) if (a == v || b == v) degree++;\n",
    "    cout << degree << endl;\n",
    "    \n",
    "    return 0;\n",
    "}\n",
    "\n",
    "CPPCODE\n",
    "g++-14 -std=c++26 -Wall -Wextra -Wpedantic -Wshadow -Wconversion degree.cpp -o degree\n",
    "./degree <<< \"548411\""
   ]
  },
  {
   "cell_type": "code",
   "execution_count": 9,
   "id": "fe7f1a29",
   "metadata": {
    "vscode": {
     "languageId": "cpp"
    }
   },
   "outputs": [
    {
     "name": "stdout",
     "output_type": "stream",
     "text": [
      "0 8 26 302 2210\n"
     ]
    }
   ],
   "source": [
    "%%bash\n",
    "cat > path.cpp << CPPCODE\n",
    "\n",
    "#include <iostream>\n",
    "#include <fstream>\n",
    "#include <string>\n",
    "using namespace std;\n",
    "\n",
    "void ignore_comment_lines(ifstream &fin) {\n",
    "    // Count how many lines start with '#' in a separate session\n",
    "    ifstream count_hashtag(\"com-amazon.ungraph.txt\");\n",
    "    string line;\n",
    "    int count = 0;\n",
    "    while (getline(count_hashtag, line)) {\n",
    "        if (line.empty() || line[0] != '#') {\n",
    "            break;\n",
    "        }\n",
    "        count++;\n",
    "    }\n",
    "    count_hashtag.close();\n",
    "    // Now skip those lines in the original file\n",
    "    for (int i = 0; i < count; i++) getline(fin, line);\n",
    "}\n",
    "\n",
    "int nPaths1[600000] = {};\n",
    "int nPaths2[600000] = {};\n",
    "int nPaths3[600000] = {};\n",
    "int nPaths4[600000] = {};\n",
    "int nPaths5[600000] = {};\n",
    "\n",
    "int main() {\n",
    "    int u, v;\n",
    "\n",
    "    // Read the graph from the file for #paths(1 -> a)\n",
    "    ifstream fin1(\"com-amazon.ungraph.txt\");\n",
    "    ignore_comment_lines(fin1);\n",
    "    while (fin1 >> u >> v) {\n",
    "        if (u == 1) nPaths1[v] += 1;\n",
    "        if (v == 1) nPaths1[u] += 1;\n",
    "    }\n",
    "    fin1.close();\n",
    "    int a;\n",
    "    cin >> a;\n",
    "    cout << nPaths1[a] << \" \";\n",
    "\n",
    "    // Read the graph from the file for #paths(1 -> ? -> b)\n",
    "    ifstream fin2(\"com-amazon.ungraph.txt\");\n",
    "    ignore_comment_lines(fin2);\n",
    "    while (fin2 >> u >> v) {\n",
    "        nPaths2[v] += nPaths1[u];\n",
    "        nPaths2[u] += nPaths1[v];\n",
    "    }\n",
    "    fin2.close();\n",
    "    int b;\n",
    "    cin >> b;\n",
    "    cout << nPaths2[b] << \" \";\n",
    "\n",
    "    // Read the graph from the file for #paths(1 -> ? -> ? -> c)\n",
    "    ifstream fin3(\"com-amazon.ungraph.txt\");\n",
    "    ignore_comment_lines(fin3);\n",
    "    while (fin3 >> u >> v) {\n",
    "        nPaths3[v] += nPaths2[u];\n",
    "        nPaths3[u] += nPaths2[v];\n",
    "    }\n",
    "    fin3.close();\n",
    "    int c;\n",
    "    cin >> c;\n",
    "    cout << nPaths3[c] << \" \";\n",
    "\n",
    "    // Read the graph from the file for #paths(1 -> ? -> ? -> ? -> d)\n",
    "    ifstream fin4(\"com-amazon.ungraph.txt\");\n",
    "    ignore_comment_lines(fin4);\n",
    "    while (fin4 >> u >> v) {\n",
    "        nPaths4[v] += nPaths3[u];\n",
    "        nPaths4[u] += nPaths3[v];\n",
    "    }\n",
    "    fin4.close();\n",
    "    int d;\n",
    "    cin >> d;\n",
    "    cout << nPaths4[d] << \" \";\n",
    "\n",
    "    // Read the graph from the file for #paths(1 -> ? -> ? -> ? -> ? -> e)\n",
    "    ifstream fin5(\"com-amazon.ungraph.txt\");\n",
    "    ignore_comment_lines(fin5);\n",
    "    while (fin5 >> u >> v) {\n",
    "        nPaths5[v] += nPaths4[u];\n",
    "        nPaths5[u] += nPaths4[v];\n",
    "    }\n",
    "    fin5.close();\n",
    "    int e;\n",
    "    cin >> e;\n",
    "    cout << nPaths5[e] << endl;\n",
    "\n",
    "    return 0;\n",
    "}\n",
    "\n",
    "CPPCODE\n",
    "g++-14 -std=c++26 -Wall -Wextra -Wpedantic -Wshadow -Wconversion path.cpp -o path\n",
    "./path <<< \"1 1 1 1 1\""
   ]
  },
  {
   "cell_type": "code",
   "execution_count": 10,
   "id": "45e8117a",
   "metadata": {
    "vscode": {
     "languageId": "cpp"
    }
   },
   "outputs": [
    {
     "name": "stdout",
     "output_type": "stream",
     "text": [
      "316126 326886 403214 386711 410980 "
     ]
    }
   ],
   "source": [
    "%%bash\n",
    "cat > candy.cpp << CPPCODE\n",
    "\n",
    "#include <iostream>\n",
    "#include <fstream>\n",
    "#include <string>\n",
    "using namespace std;\n",
    "\n",
    "void ignore_comment_lines(ifstream &fin) {\n",
    "    string line;\n",
    "    while (getline(fin, line)) {\n",
    "        if (line.empty() || line[0] != '#') {\n",
    "            break;\n",
    "        }\n",
    "    }\n",
    "    fin.seekg(0); // reset to beginning\n",
    "    for (int i = 0; i < 4; ++i) getline(fin, line); // Skip 4 lines\n",
    "}\n",
    "\n",
    "\n",
    "int degree[600000] = {};\n",
    "int tuesday[600000] = {};\n",
    "int saturday[600000] = {};\n",
    "\n",
    "int main() {\n",
    "    for (int i = 0; i < 600000; ++i) {\n",
    "        tuesday[i] = i;\n",
    "    }\n",
    "\n",
    "    ifstream fin(\"com-amazon.ungraph.txt\");\n",
    "    ignore_comment_lines(fin);\n",
    "    int u, v;\n",
    "    while (fin >> u >> v) {\n",
    "        degree[u]++;\n",
    "        degree[v]++;\n",
    "    }\n",
    "\n",
    "    for (int w = 0; w < 6; w++) {\n",
    "        // on wednesday, candies are sent out\n",
    "        for (int i = 0; i < 600000; ++i) {\n",
    "            saturday[i] = tuesday[i] % degree[i];\n",
    "        }\n",
    "        // on friday, candies are received\n",
    "        fin.clear(); // clear EOF flag\n",
    "        fin.seekg(0); // reset to beginning\n",
    "        ignore_comment_lines(fin);\n",
    "        while (fin >> u >> v) {\n",
    "            saturday[v] += tuesday[u] / degree[u];\n",
    "            saturday[u] += tuesday[v] / degree[v];\n",
    "        }\n",
    "\n",
    "        if (w != 5) {\n",
    "            int a;\n",
    "            cin >> a;\n",
    "            cout << saturday[a] << \" \";\n",
    "        }\n",
    "\n",
    "        // next week\n",
    "        for (int i = 0; i < 600000; ++i) {\n",
    "            tuesday[i] = saturday[i];\n",
    "        }\n",
    "    }\n",
    "\n",
    "    return 0;\n",
    "}\n",
    "\n",
    "CPPCODE\n",
    "g++-14 -std=c++26 -Wall -Wextra -Wpedantic -Wshadow -Wconversion candy.cpp -o candy\n",
    "./candy <<< \"2 2 2 2 2\""
   ]
  },
  {
   "cell_type": "code",
   "execution_count": 11,
   "id": "eedfc6f0",
   "metadata": {
    "vscode": {
     "languageId": "cpp"
    }
   },
   "outputs": [
    {
     "name": "stdout",
     "output_type": "stream",
     "text": [
      "10\n"
     ]
    }
   ],
   "source": [
    "%%bash\n",
    "cat > chain.cpp << CPPCODE\n",
    "\n",
    "#include <iostream>\n",
    "#include <fstream>\n",
    "#include <string>\n",
    "using namespace std;\n",
    "\n",
    "void ignore_comment_lines(ifstream &fin) {\n",
    "    string line;\n",
    "    while (fin.peek() == '#') getline(fin, line);\n",
    "}\n",
    "\n",
    "int chain_length[600000] = {};\n",
    "\n",
    "int main() {\n",
    "    for (int i = 0; i < 600000; ++i) {\n",
    "        chain_length[i] = 1;\n",
    "    }\n",
    "\n",
    "    ifstream fin(\"com-amazon.ungraph.txt\");\n",
    "    ignore_comment_lines(fin);\n",
    "    int u, v;\n",
    "    while (fin >> u >> v) {\n",
    "        if (chain_length[v] < chain_length[u] + 1) {\n",
    "            chain_length[v] = chain_length[u] + 1;\n",
    "        }\n",
    "    }\n",
    "    int z;\n",
    "    cin >> z;\n",
    "    cout << chain_length[z] << endl;\n",
    "    return 0;\n",
    "}\n",
    "\n",
    "CPPCODE\n",
    "g++-14 -std=c++26 -Wall -Wextra -Wpedantic -Wshadow -Wconversion chain.cpp -o chain\n",
    "./chain <<< \"403386\""
   ]
  },
  {
   "cell_type": "code",
   "execution_count": 12,
   "id": "7e29c9c8",
   "metadata": {
    "vscode": {
     "languageId": "cpp"
    }
   },
   "outputs": [
    {
     "name": "stdout",
     "output_type": "stream",
     "text": [
      "29813 365503\n"
     ]
    }
   ],
   "source": [
    "%%bash\n",
    "cat > symm.cpp << CPPCODE\n",
    "\n",
    "#include <iostream>\n",
    "#include <fstream>\n",
    "#include <string>\n",
    "using namespace std;\n",
    "\n",
    "void ignore_comment_lines(ifstream &fin) {\n",
    "    string line;\n",
    "    while (fin.peek() == '#') getline(fin, line);\n",
    "}\n",
    "\n",
    "int edges[2000000][2] = {};\n",
    "int degree[600000] = {};\n",
    "int prefix_sum[600000] = {};\n",
    "int degree_so_far[600000] = {};\n",
    "\n",
    "int main() {\n",
    "    ifstream fin(\"com-amazon.ungraph.txt\");\n",
    "    ignore_comment_lines(fin);\n",
    "\n",
    "    int u, v;\n",
    "    while (fin >> u >> v) {\n",
    "        degree[u]++;\n",
    "        degree[v]++;\n",
    "    }\n",
    "    for (int i = 0; i < 600000; i++) {\n",
    "        prefix_sum[i] = prefix_sum[i - 1] + degree[i];\n",
    "    }\n",
    "    \n",
    "    fin.clear(); // clear EOF flag\n",
    "    fin.seekg(0); // reset to beginning\n",
    "    ignore_comment_lines(fin);\n",
    "    while (fin >> u >> v) {\n",
    "        int pos_u = prefix_sum[u - 1] + degree_so_far[u];\n",
    "        edges[pos_u][0] = u;\n",
    "        edges[pos_u][1] = v;\n",
    "        degree_so_far[u]++;\n",
    "        int pos_v = prefix_sum[v - 1] + degree_so_far[v];\n",
    "        edges[pos_v][0] = v;\n",
    "        edges[pos_v][1] = u;\n",
    "        degree_so_far[v]++;\n",
    "    }\n",
    "    fin.close();\n",
    "    \n",
    "    int n;\n",
    "    cin >> n;\n",
    "    cout << edges[n][0] << \" \" << edges[n][1] << endl;\n",
    "    return 0;\n",
    "}\n",
    "\n",
    "CPPCODE\n",
    "g++-14 -std=c++26 -Wall -Wextra -Wpedantic -Wshadow -Wconversion symm.cpp -o symm\n",
    "./symm <<< \"100000\""
   ]
  },
  {
   "cell_type": "markdown",
   "id": "f142f5da",
   "metadata": {
    "vscode": {
     "languageId": "cpp"
    }
   },
   "source": [
    "## Generic form of functions in C++"
   ]
  },
  {
   "cell_type": "markdown",
   "id": "bb03ea89",
   "metadata": {
    "vscode": {
     "languageId": "cpp"
    }
   },
   "source": [
    "To define a function, do the following.\n",
    "\n",
    "```C++\n",
    "return_type function_name(int a, float b, string c, ...) {\n",
    "    // function body\n",
    "    // calculate value using a\n",
    "    // calculate value using b as well\n",
    "    // calculate value using c for sure\n",
    "    return value;\n",
    "}\n",
    "```\n",
    "\n",
    "Where `return_type` can be `int`, `float`, `string`, or anything like that."
   ]
  },
  {
   "cell_type": "markdown",
   "id": "c4bf19c4",
   "metadata": {
    "vscode": {
     "languageId": "cpp"
    }
   },
   "source": [
    "Functions are very useful.\n",
    "For instance, you probably don't want to compute sin and cos\n",
    "by yourself every time you need them."
   ]
  },
  {
   "cell_type": "code",
   "execution_count": 13,
   "id": "da49df58",
   "metadata": {
    "vscode": {
     "languageId": "cpp"
    }
   },
   "outputs": [
    {
     "name": "stderr",
     "output_type": "stream",
     "text": [
      "sin.cpp: In function 'float sin(float)':\n",
      "sin.cpp:10:41: warning: conversion from 'int' to 'float' may change value [-Wconversion]\n",
      "   10 |         term = -term * x * x / ((2 * i) * (2 * i + 1));\n",
      "      |                                ~~~~~~~~~^~~~~~~~~~~~~~\n",
      "sin.cpp: In function 'int main()':\n",
      "sin.cpp:18:27: warning: conversion from 'double' to 'float' changes value from '5.2359876666666672e-1' to '5.2359879e-1f' [-Wfloat-conversion]\n",
      "   18 |     cout << sin(3.1415926 / 6) << endl; // should be close to 1/2\n",
      "      |                 ~~~~~~~~~~^~~\n",
      "sin.cpp:19:27: warning: conversion from 'double' to 'float' changes value from '1.0471975333333334e+0' to '1.04719758e+0f' [-Wfloat-conversion]\n",
      "   19 |     cout << sin(3.1415926 / 3) << endl; // should be close to sqrt(3)/2\n",
      "      |                 ~~~~~~~~~~^~~\n",
      "sin.cpp:20:27: warning: conversion from 'double' to 'float' changes value from '1.5707963e+0' to '1.57079625e+0f' [-Wfloat-conversion]\n",
      "   20 |     cout << sin(3.1415926 / 2) << endl; // should be close to 1\n",
      "      |                 ~~~~~~~~~~^~~\n",
      "sin.cpp:21:27: warning: conversion from 'double' to 'float' changes value from '3.1415926000000001e+0' to '3.1415925e+0f' [-Wfloat-conversion]\n",
      "   21 |     cout << sin(3.1415926 / 1) << endl; // should be close to 0\n",
      "      |                 ~~~~~~~~~~^~~\n"
     ]
    },
    {
     "name": "stdout",
     "output_type": "stream",
     "text": [
      "0.5\n",
      "0.866025\n",
      "1\n",
      "3.46229e-07\n"
     ]
    }
   ],
   "source": [
    "%%bash\n",
    "cat > sin.cpp << CPPCODE\n",
    "\n",
    "#include <iostream>\n",
    "using namespace std;\n",
    "\n",
    "float sin(float x) {\n",
    "    // Taylor series for sin(x) = x - x^3/3! + x^5/5! - ...\n",
    "    float term = x; // First term is x\n",
    "    float result = term;\n",
    "    for (int i = 1; i < 10; ++i) { // 10 terms for approximation\n",
    "        term = -term * x * x / ((2 * i) * (2 * i + 1));\n",
    "        result += term;\n",
    "    }\n",
    "    return result;\n",
    "}\n",
    "\n",
    "int main () {\n",
    "    \n",
    "    cout << sin(3.1415926 / 6) << endl; // should be close to 1/2\n",
    "    cout << sin(3.1415926 / 3) << endl; // should be close to sqrt(3)/2\n",
    "    cout << sin(3.1415926 / 2) << endl; // should be close to 1\n",
    "    cout << sin(3.1415926 / 1) << endl; // should be close to 0\n",
    "}\n",
    "\n",
    "CPPCODE\n",
    "g++-14 -std=c++26 -Wall -Wextra -Wpedantic -Wshadow -Wconversion sin.cpp -o sin\n",
    "./sin"
   ]
  },
  {
   "cell_type": "markdown",
   "id": "b55f1a70",
   "metadata": {
    "vscode": {
     "languageId": "cpp"
    }
   },
   "source": [
    "For popular functions like `exp`, `sin`, `cos`, `sqrt`, etc.,\n",
    "we already have them in the standard library `<cmath>`.\n",
    "You can use them directly without defining your own."
   ]
  },
  {
   "cell_type": "code",
   "execution_count": 14,
   "id": "fb2c2bca",
   "metadata": {
    "vscode": {
     "languageId": "cpp"
    }
   },
   "outputs": [
    {
     "name": "stdout",
     "output_type": "stream",
     "text": [
      "1\n",
      "0.866025\n",
      "0.5\n",
      "2.67949e-08\n",
      "-1\n"
     ]
    }
   ],
   "source": [
    "%%bash\n",
    "cat > cos.cpp << CPPCODE\n",
    "\n",
    "#include <iostream>\n",
    "#include <cmath>\n",
    "using namespace std;\n",
    "\n",
    "int main () {\n",
    "    cout << cos(3.1415926 * 0) << endl; // should be close to 1\n",
    "    cout << cos(3.1415926 / 6) << endl; // should be close to sqrt(3)/2\n",
    "    cout << cos(3.1415926 / 3) << endl; // should be close to 1/2\n",
    "    cout << cos(3.1415926 / 2) << endl; // should be close to 0\n",
    "    cout << cos(3.1415926 / 1) << endl; // should be close to -1\n",
    "}\n",
    "\n",
    "CPPCODE\n",
    "g++-14 -std=c++26 -Wall -Wextra -Wpedantic -Wshadow -Wconversion cos.cpp -o cos\n",
    "./cos"
   ]
  },
  {
   "cell_type": "markdown",
   "id": "c865f36a",
   "metadata": {
    "vscode": {
     "languageId": "cpp"
    }
   },
   "source": [
    "## Why functions?"
   ]
  },
  {
   "cell_type": "markdown",
   "id": "97041efc",
   "metadata": {
    "vscode": {
     "languageId": "cpp"
    }
   },
   "source": [
    "### Reusability and testability\n",
    "\n",
    "Popular functions like sin, cos are all tested by countless users over the years.\n",
    "Some researchers even study their precision for a living.\n",
    "\n",
    "<https://stackoverflow.com/questions/20137105/c-sqrt-function-precision-for-full-squares>\n",
    "\n",
    "So, when possible, use what is there, don't reinvent the wheel."
   ]
  },
  {
   "cell_type": "code",
   "execution_count": 29,
   "id": "6569333a",
   "metadata": {
    "vscode": {
     "languageId": "cpp"
    }
   },
   "outputs": [
    {
     "name": "stdout",
     "output_type": "stream",
     "text": [
      "Our own factorial took 3.29462 seconds.\n",
      "Built-in factorial took 0.323528 seconds.\n"
     ]
    }
   ],
   "source": [
    "%%bash\n",
    "cat > factorial.cpp << CPPCODE\n",
    "\n",
    "#include<iostream>\n",
    "#include<cmath>\n",
    "using namespace std;\n",
    "\n",
    "double factorial(int n) {\n",
    "    if (n <= 1) return 1;\n",
    "    else return n * factorial(n - 1);\n",
    "}\n",
    "\n",
    "int main () {\n",
    "    auto c1 = clock();\n",
    "    for (int trial = 0; trial < 1e7; trial++) {\n",
    "        int n = rand() % 100;\n",
    "        factorial(n);\n",
    "    }\n",
    "    auto c2 = clock();\n",
    "    float sec = (c2 - c1) / (float)CLOCKS_PER_SEC;\n",
    "    cout << \"Our own factorial took \" << sec << \" seconds.\" << endl;\n",
    "\n",
    "    c1 = clock();\n",
    "    for (int trial = 0; trial < 1e7; trial++) {\n",
    "        int n = rand() % 100;\n",
    "        tgamma(n + 1);\n",
    "    }\n",
    "    c2 = clock();\n",
    "    sec = (c2 - c1) / (float)CLOCKS_PER_SEC;\n",
    "    cout << \"Built-in factorial took \" << sec << \" seconds.\" << endl;\n",
    "\n",
    "    return 0;\n",
    "}\n",
    "\n",
    "CPPCODE\n",
    "g++ -std=c++26 -Wall -Wextra -Wpedantic -Wshadow -Wconversion factorial.cpp -o factorial\n",
    "./factorial"
   ]
  },
  {
   "cell_type": "markdown",
   "id": "7c9323fb",
   "metadata": {
    "vscode": {
     "languageId": "cpp"
    }
   },
   "source": [
    "## Function and flow control"
   ]
  },
  {
   "cell_type": "markdown",
   "id": "7608328c",
   "metadata": {
    "vscode": {
     "languageId": "cpp"
    }
   },
   "source": [
    "```C++\n",
    "float binomial(int n, int k) { // should return n choose k\n",
    "    if (k < 0) { // trivial case\n",
    "        return 0;\n",
    "    }\n",
    "    if (k > n) { // trivial case\n",
    "        return 0;\n",
    "    }\n",
    "    if (k == 0) { // corner case\n",
    "        return 1;\n",
    "    }\n",
    "    if (k == 0) { // corner case\n",
    "        return 1;\n",
    "    }\n",
    "    return binomial(n - 1, k - 1) + binomial(n - 1, k);\n",
    "}\n",
    "```C++"
   ]
  },
  {
   "cell_type": "markdown",
   "id": "ebfacc26",
   "metadata": {
    "vscode": {
     "languageId": "cpp"
    }
   },
   "source": [
    "This is what happens without function\n",
    "\n",
    "```C++\n",
    "// inline binomial\n",
    "if (k < 0) {\n",
    "    Bino = 0;\n",
    "}\n",
    "else {\n",
    "    if (k > n) {\n",
    "        Bino = 0;\n",
    "    }\n",
    "    else {\n",
    "        if (k == 0) {\n",
    "            Bino = 1;\n",
    "        }\n",
    "        else {\n",
    "            if (k == n) {\n",
    "                Bino = 1;\n",
    "            }\n",
    "            else {\n",
    "                for (...) {\n",
    "                    ...\n",
    "                }\n",
    "            }\n",
    "        }\n",
    "    }\n",
    "}\n",
    "```\n",
    "\n",
    "<https://www.youtube.com/watch?v=CFRhGnuXG-4>"
   ]
  },
  {
   "cell_type": "markdown",
   "id": "b090f8ed",
   "metadata": {
    "vscode": {
     "languageId": "cpp"
    }
   },
   "source": [
    "## More case reduction"
   ]
  },
  {
   "cell_type": "markdown",
   "id": "2370d09b",
   "metadata": {
    "vscode": {
     "languageId": "cpp"
    }
   },
   "source": [
    "```C++\n",
    "float sin(float x) {\n",
    "    if (x > 2pi) { return sin(x - 2pi); }\n",
    "    if (x < 0) { return sin(x + 2pi); }\n",
    "    ... // Use Taylor expansion\n",
    "    ... // Use Taylor expansion\n",
    "    ... // Use Taylor expansion\n",
    "    return result;\n",
    "}\n",
    "```"
   ]
  },
  {
   "cell_type": "markdown",
   "id": "d3084358",
   "metadata": {
    "vscode": {
     "languageId": "cpp"
    }
   },
   "source": [
    "## Main function"
   ]
  },
  {
   "cell_type": "markdown",
   "id": "4f8e8c9f",
   "metadata": {
    "vscode": {
     "languageId": "cpp"
    }
   },
   "source": [
    "When we launch a program like `./candy`,\n",
    "it's like the operating system tries to call use function `int exit_state = main();`.\n",
    "It is just like we have `float y = sin(x);` in our C++ code.\n",
    "\n",
    "The output of the main function is the `exit_state`.\n",
    "This variable is used to tell the operating system if the program runs smoothly.\n",
    "If so, you should return `0` in `int main()`.\n",
    "If not, you should return `1`, `2`, `3`, ...\n",
    "These are called *error codes*.\n",
    "Different error codes could mean different things."
   ]
  },
  {
   "cell_type": "code",
   "execution_count": 16,
   "id": "bbbcc175",
   "metadata": {
    "vscode": {
     "languageId": "cpp"
    }
   },
   "outputs": [],
   "source": [
    "%%bash\n",
    "cat > ecode.cpp << CPPCODE\n",
    "\n",
    "#include <iostream>\n",
    "#include <fstream>\n",
    "#include <string>\n",
    "using namespace std;\n",
    "\n",
    "int main () {\n",
    "    string student_id;\n",
    "    cin >> student_id;\n",
    "    ifstream fin(student_id + \".cpp\");\n",
    "    if (!fin) { // check if file exists\n",
    "        return 111;\n",
    "    }\n",
    "    if (fin.peek() == EOF) { // check if file is empty\n",
    "        return 222;\n",
    "    }\n",
    "    char c;\n",
    "    fin.get(c);\n",
    "    if (c != '#') { // check if file starts with #\n",
    "        return 333;\n",
    "    }\n",
    "    return 0;\n",
    "}\n",
    "\n",
    "CPPCODE\n",
    "g++-14 -std=c++26 -Wall -Wextra -Wpedantic -Wshadow -Wconversion ecode.cpp -o ecode\n",
    "\n",
    "cat > b009011.cpp << HWCODE\n",
    "HWCODE\n",
    "\n",
    "cat > b009012.cpp << HWCODE\n",
    "int main () {cout << \"hello\"; return 0;}\n",
    "HWCODE\n",
    "\n",
    "cat > b009013.cpp << HWCODE\n",
    "#include <iostream>\n",
    "int main () {cout << \"hello\"; return 0;}\n",
    "HWCODE"
   ]
  },
  {
   "cell_type": "code",
   "execution_count": 17,
   "id": "d40fd8f9",
   "metadata": {
    "vscode": {
     "languageId": "cpp"
    }
   },
   "outputs": [
    {
     "ename": "CalledProcessError",
     "evalue": "Command 'b'./ecode <<< \"b009010\"\\n'' returned non-zero exit status 111.",
     "output_type": "error",
     "traceback": [
      "\u001b[31m---------------------------------------------------------------------------\u001b[39m",
      "\u001b[31mCalledProcessError\u001b[39m                        Traceback (most recent call last)",
      "\u001b[36mCell\u001b[39m\u001b[36m \u001b[39m\u001b[32mIn[17]\u001b[39m\u001b[32m, line 1\u001b[39m\n\u001b[32m----> \u001b[39m\u001b[32m1\u001b[39m \u001b[43mget_ipython\u001b[49m\u001b[43m(\u001b[49m\u001b[43m)\u001b[49m\u001b[43m.\u001b[49m\u001b[43mrun_cell_magic\u001b[49m\u001b[43m(\u001b[49m\u001b[33;43m'\u001b[39;49m\u001b[33;43mbash\u001b[39;49m\u001b[33;43m'\u001b[39;49m\u001b[43m,\u001b[49m\u001b[43m \u001b[49m\u001b[33;43m'\u001b[39;49m\u001b[33;43m'\u001b[39;49m\u001b[43m,\u001b[49m\u001b[43m \u001b[49m\u001b[33;43m'\u001b[39;49m\u001b[33;43m./ecode <<< \u001b[39;49m\u001b[33;43m\"\u001b[39;49m\u001b[33;43mb009010\u001b[39;49m\u001b[33;43m\"\u001b[39;49m\u001b[38;5;130;43;01m\\n\u001b[39;49;00m\u001b[33;43m'\u001b[39;49m\u001b[43m)\u001b[49m\n",
      "\u001b[36mFile \u001b[39m\u001b[32m/private/var/tmp/sage-10.7-current/local/lib/python3.13/site-packages/IPython/core/interactiveshell.py:2565\u001b[39m, in \u001b[36mInteractiveShell.run_cell_magic\u001b[39m\u001b[34m(self, magic_name, line, cell)\u001b[39m\n\u001b[32m   2563\u001b[39m \u001b[38;5;28;01mwith\u001b[39;00m \u001b[38;5;28mself\u001b[39m.builtin_trap:\n\u001b[32m   2564\u001b[39m     args = (magic_arg_s, cell)\n\u001b[32m-> \u001b[39m\u001b[32m2565\u001b[39m     result = \u001b[43mfn\u001b[49m\u001b[43m(\u001b[49m\u001b[43m*\u001b[49m\u001b[43margs\u001b[49m\u001b[43m,\u001b[49m\u001b[43m \u001b[49m\u001b[43m*\u001b[49m\u001b[43m*\u001b[49m\u001b[43mkwargs\u001b[49m\u001b[43m)\u001b[49m\n\u001b[32m   2567\u001b[39m \u001b[38;5;66;03m# The code below prevents the output from being displayed\u001b[39;00m\n\u001b[32m   2568\u001b[39m \u001b[38;5;66;03m# when using magics with decorator @output_can_be_silenced\u001b[39;00m\n\u001b[32m   2569\u001b[39m \u001b[38;5;66;03m# when the last Python token in the expression is a ';'.\u001b[39;00m\n\u001b[32m   2570\u001b[39m \u001b[38;5;28;01mif\u001b[39;00m \u001b[38;5;28mgetattr\u001b[39m(fn, magic.MAGIC_OUTPUT_CAN_BE_SILENCED, \u001b[38;5;28;01mFalse\u001b[39;00m):\n",
      "\u001b[36mFile \u001b[39m\u001b[32m/private/var/tmp/sage-10.7-current/local/lib/python3.13/site-packages/IPython/core/magics/script.py:160\u001b[39m, in \u001b[36mScriptMagics._make_script_magic.<locals>.named_script_magic\u001b[39m\u001b[34m(line, cell)\u001b[39m\n\u001b[32m    158\u001b[39m \u001b[38;5;28;01melse\u001b[39;00m:\n\u001b[32m    159\u001b[39m     line = script\n\u001b[32m--> \u001b[39m\u001b[32m160\u001b[39m \u001b[38;5;28;01mreturn\u001b[39;00m \u001b[38;5;28;43mself\u001b[39;49m\u001b[43m.\u001b[49m\u001b[43mshebang\u001b[49m\u001b[43m(\u001b[49m\u001b[43mline\u001b[49m\u001b[43m,\u001b[49m\u001b[43m \u001b[49m\u001b[43mcell\u001b[49m\u001b[43m)\u001b[49m\n",
      "\u001b[36mFile \u001b[39m\u001b[32m/private/var/tmp/sage-10.7-current/local/lib/python3.13/site-packages/IPython/core/magics/script.py:343\u001b[39m, in \u001b[36mScriptMagics.shebang\u001b[39m\u001b[34m(self, line, cell)\u001b[39m\n\u001b[32m    338\u001b[39m \u001b[38;5;28;01mif\u001b[39;00m args.raise_error \u001b[38;5;129;01mand\u001b[39;00m p.returncode != \u001b[32m0\u001b[39m:\n\u001b[32m    339\u001b[39m     \u001b[38;5;66;03m# If we get here and p.returncode is still None, we must have\u001b[39;00m\n\u001b[32m    340\u001b[39m     \u001b[38;5;66;03m# killed it but not yet seen its return code. We don't wait for it,\u001b[39;00m\n\u001b[32m    341\u001b[39m     \u001b[38;5;66;03m# in case it's stuck in uninterruptible sleep. -9 = SIGKILL\u001b[39;00m\n\u001b[32m    342\u001b[39m     rc = p.returncode \u001b[38;5;129;01mor\u001b[39;00m -\u001b[32m9\u001b[39m\n\u001b[32m--> \u001b[39m\u001b[32m343\u001b[39m     \u001b[38;5;28;01mraise\u001b[39;00m CalledProcessError(rc, cell)\n",
      "\u001b[31mCalledProcessError\u001b[39m: Command 'b'./ecode <<< \"b009010\"\\n'' returned non-zero exit status 111."
     ]
    }
   ],
   "source": [
    "%%bash\n",
    "./ecode <<< \"b009010\""
   ]
  },
  {
   "cell_type": "code",
   "execution_count": 18,
   "id": "dbb5c9db",
   "metadata": {
    "vscode": {
     "languageId": "cpp"
    }
   },
   "outputs": [
    {
     "ename": "CalledProcessError",
     "evalue": "Command 'b'./ecode <<< \"b009011\"\\n'' returned non-zero exit status 222.",
     "output_type": "error",
     "traceback": [
      "\u001b[31m---------------------------------------------------------------------------\u001b[39m",
      "\u001b[31mCalledProcessError\u001b[39m                        Traceback (most recent call last)",
      "\u001b[36mCell\u001b[39m\u001b[36m \u001b[39m\u001b[32mIn[18]\u001b[39m\u001b[32m, line 1\u001b[39m\n\u001b[32m----> \u001b[39m\u001b[32m1\u001b[39m \u001b[43mget_ipython\u001b[49m\u001b[43m(\u001b[49m\u001b[43m)\u001b[49m\u001b[43m.\u001b[49m\u001b[43mrun_cell_magic\u001b[49m\u001b[43m(\u001b[49m\u001b[33;43m'\u001b[39;49m\u001b[33;43mbash\u001b[39;49m\u001b[33;43m'\u001b[39;49m\u001b[43m,\u001b[49m\u001b[43m \u001b[49m\u001b[33;43m'\u001b[39;49m\u001b[33;43m'\u001b[39;49m\u001b[43m,\u001b[49m\u001b[43m \u001b[49m\u001b[33;43m'\u001b[39;49m\u001b[33;43m./ecode <<< \u001b[39;49m\u001b[33;43m\"\u001b[39;49m\u001b[33;43mb009011\u001b[39;49m\u001b[33;43m\"\u001b[39;49m\u001b[38;5;130;43;01m\\n\u001b[39;49;00m\u001b[33;43m'\u001b[39;49m\u001b[43m)\u001b[49m\n",
      "\u001b[36mFile \u001b[39m\u001b[32m/private/var/tmp/sage-10.7-current/local/lib/python3.13/site-packages/IPython/core/interactiveshell.py:2565\u001b[39m, in \u001b[36mInteractiveShell.run_cell_magic\u001b[39m\u001b[34m(self, magic_name, line, cell)\u001b[39m\n\u001b[32m   2563\u001b[39m \u001b[38;5;28;01mwith\u001b[39;00m \u001b[38;5;28mself\u001b[39m.builtin_trap:\n\u001b[32m   2564\u001b[39m     args = (magic_arg_s, cell)\n\u001b[32m-> \u001b[39m\u001b[32m2565\u001b[39m     result = \u001b[43mfn\u001b[49m\u001b[43m(\u001b[49m\u001b[43m*\u001b[49m\u001b[43margs\u001b[49m\u001b[43m,\u001b[49m\u001b[43m \u001b[49m\u001b[43m*\u001b[49m\u001b[43m*\u001b[49m\u001b[43mkwargs\u001b[49m\u001b[43m)\u001b[49m\n\u001b[32m   2567\u001b[39m \u001b[38;5;66;03m# The code below prevents the output from being displayed\u001b[39;00m\n\u001b[32m   2568\u001b[39m \u001b[38;5;66;03m# when using magics with decorator @output_can_be_silenced\u001b[39;00m\n\u001b[32m   2569\u001b[39m \u001b[38;5;66;03m# when the last Python token in the expression is a ';'.\u001b[39;00m\n\u001b[32m   2570\u001b[39m \u001b[38;5;28;01mif\u001b[39;00m \u001b[38;5;28mgetattr\u001b[39m(fn, magic.MAGIC_OUTPUT_CAN_BE_SILENCED, \u001b[38;5;28;01mFalse\u001b[39;00m):\n",
      "\u001b[36mFile \u001b[39m\u001b[32m/private/var/tmp/sage-10.7-current/local/lib/python3.13/site-packages/IPython/core/magics/script.py:160\u001b[39m, in \u001b[36mScriptMagics._make_script_magic.<locals>.named_script_magic\u001b[39m\u001b[34m(line, cell)\u001b[39m\n\u001b[32m    158\u001b[39m \u001b[38;5;28;01melse\u001b[39;00m:\n\u001b[32m    159\u001b[39m     line = script\n\u001b[32m--> \u001b[39m\u001b[32m160\u001b[39m \u001b[38;5;28;01mreturn\u001b[39;00m \u001b[38;5;28;43mself\u001b[39;49m\u001b[43m.\u001b[49m\u001b[43mshebang\u001b[49m\u001b[43m(\u001b[49m\u001b[43mline\u001b[49m\u001b[43m,\u001b[49m\u001b[43m \u001b[49m\u001b[43mcell\u001b[49m\u001b[43m)\u001b[49m\n",
      "\u001b[36mFile \u001b[39m\u001b[32m/private/var/tmp/sage-10.7-current/local/lib/python3.13/site-packages/IPython/core/magics/script.py:343\u001b[39m, in \u001b[36mScriptMagics.shebang\u001b[39m\u001b[34m(self, line, cell)\u001b[39m\n\u001b[32m    338\u001b[39m \u001b[38;5;28;01mif\u001b[39;00m args.raise_error \u001b[38;5;129;01mand\u001b[39;00m p.returncode != \u001b[32m0\u001b[39m:\n\u001b[32m    339\u001b[39m     \u001b[38;5;66;03m# If we get here and p.returncode is still None, we must have\u001b[39;00m\n\u001b[32m    340\u001b[39m     \u001b[38;5;66;03m# killed it but not yet seen its return code. We don't wait for it,\u001b[39;00m\n\u001b[32m    341\u001b[39m     \u001b[38;5;66;03m# in case it's stuck in uninterruptible sleep. -9 = SIGKILL\u001b[39;00m\n\u001b[32m    342\u001b[39m     rc = p.returncode \u001b[38;5;129;01mor\u001b[39;00m -\u001b[32m9\u001b[39m\n\u001b[32m--> \u001b[39m\u001b[32m343\u001b[39m     \u001b[38;5;28;01mraise\u001b[39;00m CalledProcessError(rc, cell)\n",
      "\u001b[31mCalledProcessError\u001b[39m: Command 'b'./ecode <<< \"b009011\"\\n'' returned non-zero exit status 222."
     ]
    }
   ],
   "source": [
    "%%bash\n",
    "./ecode <<< \"b009011\""
   ]
  },
  {
   "cell_type": "code",
   "execution_count": 19,
   "id": "b1ffbe45",
   "metadata": {
    "vscode": {
     "languageId": "cpp"
    }
   },
   "outputs": [
    {
     "ename": "CalledProcessError",
     "evalue": "Command 'b'./ecode <<< \"b009012\"\\n'' returned non-zero exit status 77.",
     "output_type": "error",
     "traceback": [
      "\u001b[31m---------------------------------------------------------------------------\u001b[39m",
      "\u001b[31mCalledProcessError\u001b[39m                        Traceback (most recent call last)",
      "\u001b[36mCell\u001b[39m\u001b[36m \u001b[39m\u001b[32mIn[19]\u001b[39m\u001b[32m, line 1\u001b[39m\n\u001b[32m----> \u001b[39m\u001b[32m1\u001b[39m \u001b[43mget_ipython\u001b[49m\u001b[43m(\u001b[49m\u001b[43m)\u001b[49m\u001b[43m.\u001b[49m\u001b[43mrun_cell_magic\u001b[49m\u001b[43m(\u001b[49m\u001b[33;43m'\u001b[39;49m\u001b[33;43mbash\u001b[39;49m\u001b[33;43m'\u001b[39;49m\u001b[43m,\u001b[49m\u001b[43m \u001b[49m\u001b[33;43m'\u001b[39;49m\u001b[33;43m'\u001b[39;49m\u001b[43m,\u001b[49m\u001b[43m \u001b[49m\u001b[33;43m'\u001b[39;49m\u001b[33;43m./ecode <<< \u001b[39;49m\u001b[33;43m\"\u001b[39;49m\u001b[33;43mb009012\u001b[39;49m\u001b[33;43m\"\u001b[39;49m\u001b[38;5;130;43;01m\\n\u001b[39;49;00m\u001b[33;43m'\u001b[39;49m\u001b[43m)\u001b[49m\n",
      "\u001b[36mFile \u001b[39m\u001b[32m/private/var/tmp/sage-10.7-current/local/lib/python3.13/site-packages/IPython/core/interactiveshell.py:2565\u001b[39m, in \u001b[36mInteractiveShell.run_cell_magic\u001b[39m\u001b[34m(self, magic_name, line, cell)\u001b[39m\n\u001b[32m   2563\u001b[39m \u001b[38;5;28;01mwith\u001b[39;00m \u001b[38;5;28mself\u001b[39m.builtin_trap:\n\u001b[32m   2564\u001b[39m     args = (magic_arg_s, cell)\n\u001b[32m-> \u001b[39m\u001b[32m2565\u001b[39m     result = \u001b[43mfn\u001b[49m\u001b[43m(\u001b[49m\u001b[43m*\u001b[49m\u001b[43margs\u001b[49m\u001b[43m,\u001b[49m\u001b[43m \u001b[49m\u001b[43m*\u001b[49m\u001b[43m*\u001b[49m\u001b[43mkwargs\u001b[49m\u001b[43m)\u001b[49m\n\u001b[32m   2567\u001b[39m \u001b[38;5;66;03m# The code below prevents the output from being displayed\u001b[39;00m\n\u001b[32m   2568\u001b[39m \u001b[38;5;66;03m# when using magics with decorator @output_can_be_silenced\u001b[39;00m\n\u001b[32m   2569\u001b[39m \u001b[38;5;66;03m# when the last Python token in the expression is a ';'.\u001b[39;00m\n\u001b[32m   2570\u001b[39m \u001b[38;5;28;01mif\u001b[39;00m \u001b[38;5;28mgetattr\u001b[39m(fn, magic.MAGIC_OUTPUT_CAN_BE_SILENCED, \u001b[38;5;28;01mFalse\u001b[39;00m):\n",
      "\u001b[36mFile \u001b[39m\u001b[32m/private/var/tmp/sage-10.7-current/local/lib/python3.13/site-packages/IPython/core/magics/script.py:160\u001b[39m, in \u001b[36mScriptMagics._make_script_magic.<locals>.named_script_magic\u001b[39m\u001b[34m(line, cell)\u001b[39m\n\u001b[32m    158\u001b[39m \u001b[38;5;28;01melse\u001b[39;00m:\n\u001b[32m    159\u001b[39m     line = script\n\u001b[32m--> \u001b[39m\u001b[32m160\u001b[39m \u001b[38;5;28;01mreturn\u001b[39;00m \u001b[38;5;28;43mself\u001b[39;49m\u001b[43m.\u001b[49m\u001b[43mshebang\u001b[49m\u001b[43m(\u001b[49m\u001b[43mline\u001b[49m\u001b[43m,\u001b[49m\u001b[43m \u001b[49m\u001b[43mcell\u001b[49m\u001b[43m)\u001b[49m\n",
      "\u001b[36mFile \u001b[39m\u001b[32m/private/var/tmp/sage-10.7-current/local/lib/python3.13/site-packages/IPython/core/magics/script.py:343\u001b[39m, in \u001b[36mScriptMagics.shebang\u001b[39m\u001b[34m(self, line, cell)\u001b[39m\n\u001b[32m    338\u001b[39m \u001b[38;5;28;01mif\u001b[39;00m args.raise_error \u001b[38;5;129;01mand\u001b[39;00m p.returncode != \u001b[32m0\u001b[39m:\n\u001b[32m    339\u001b[39m     \u001b[38;5;66;03m# If we get here and p.returncode is still None, we must have\u001b[39;00m\n\u001b[32m    340\u001b[39m     \u001b[38;5;66;03m# killed it but not yet seen its return code. We don't wait for it,\u001b[39;00m\n\u001b[32m    341\u001b[39m     \u001b[38;5;66;03m# in case it's stuck in uninterruptible sleep. -9 = SIGKILL\u001b[39;00m\n\u001b[32m    342\u001b[39m     rc = p.returncode \u001b[38;5;129;01mor\u001b[39;00m -\u001b[32m9\u001b[39m\n\u001b[32m--> \u001b[39m\u001b[32m343\u001b[39m     \u001b[38;5;28;01mraise\u001b[39;00m CalledProcessError(rc, cell)\n",
      "\u001b[31mCalledProcessError\u001b[39m: Command 'b'./ecode <<< \"b009012\"\\n'' returned non-zero exit status 77."
     ]
    }
   ],
   "source": [
    "%%bash\n",
    "./ecode <<< \"b009012\""
   ]
  },
  {
   "cell_type": "markdown",
   "id": "413ea950",
   "metadata": {
    "vscode": {
     "languageId": "cpp"
    }
   },
   "source": [
    "Note that the system says \n",
    "\n",
    "```text\n",
    "CalledProcessError: Command 'b'./ecode <<< \"b009012\"\\n'' returned non-zero exit status 77.\n",
    "```\n",
    "\n",
    "where $77$ is $333 % 256$"
   ]
  },
  {
   "cell_type": "code",
   "execution_count": 20,
   "id": "87a44b55",
   "metadata": {
    "vscode": {
     "languageId": "cpp"
    }
   },
   "outputs": [],
   "source": [
    "%%bash\n",
    "./ecode <<< \"b009013\""
   ]
  },
  {
   "cell_type": "markdown",
   "id": "b77e63c5",
   "metadata": {
    "vscode": {
     "languageId": "cpp"
    }
   },
   "source": [
    "## Void f(...)"
   ]
  },
  {
   "cell_type": "markdown",
   "id": "8964f49d",
   "metadata": {
    "vscode": {
     "languageId": "cpp"
    }
   },
   "source": [
    "A special type is called `void`,\n",
    "which means the function does not `return` anything.\n",
    "\n",
    "One possible reason to use `void` function is\n",
    "that the function modifies some global variables."
   ]
  },
  {
   "cell_type": "code",
   "execution_count": 21,
   "id": "e052f01f",
   "metadata": {
    "vscode": {
     "languageId": "cpp"
    }
   },
   "outputs": [
    {
     "name": "stdout",
     "output_type": "stream",
     "text": [
      "1\n",
      "2\n",
      "3\n",
      "4\n"
     ]
    }
   ],
   "source": [
    "%%bash\n",
    "cat > sun.cpp << CPPCODE\n",
    "\n",
    "#include <iostream>\n",
    "using namespace std;\n",
    "\n",
    "int temperature;\n",
    "void sun_shine() {\n",
    "    temperature++;\n",
    "}\n",
    "\n",
    "int main () {\n",
    "    temperature = 0;\n",
    "    sun_shine();\n",
    "    cout << temperature << endl;\n",
    "    sun_shine();\n",
    "    cout << temperature << endl;\n",
    "    sun_shine();\n",
    "    cout << temperature << endl;\n",
    "    sun_shine();\n",
    "    cout << temperature << endl;\n",
    "    \n",
    "}\n",
    "\n",
    "CPPCODE\n",
    "g++-14 -std=c++26 -Wall -Wextra -Wpedantic -Wshadow -Wconversion sun.cpp -o sun\n",
    "./sun"
   ]
  },
  {
   "cell_type": "markdown",
   "id": "0e74f583",
   "metadata": {
    "vscode": {
     "languageId": "cpp"
    }
   },
   "source": [
    "## Scopes, local variables, global variables"
   ]
  },
  {
   "cell_type": "markdown",
   "id": "38831207",
   "metadata": {
    "vscode": {
     "languageId": "cpp"
    }
   },
   "source": [
    "Note that local variables declared inside a function\n",
    "are not accessible outside the function."
   ]
  },
  {
   "cell_type": "code",
   "execution_count": 22,
   "id": "8d7188d8",
   "metadata": {
    "vscode": {
     "languageId": "cpp"
    }
   },
   "outputs": [
    {
     "name": "stderr",
     "output_type": "stream",
     "text": [
      "local.cpp: In function 'void sun_shine()':\n",
      "local.cpp:6:9: warning: unused variable 'sun_rotation' [-Wunused-variable]\n",
      "    6 |     int sun_rotation = 1; // local variable\n",
      "      |         ^~~~~~~~~~~~\n",
      "local.cpp: In function 'int main()':\n",
      "local.cpp:10:13: error: 'sun_rotation' was not declared in this scope\n",
      "   10 |     cout << sun_rotation << endl; // error: sun_rotation is not defined here\n",
      "      |             ^~~~~~~~~~~~\n"
     ]
    },
    {
     "ename": "CalledProcessError",
     "evalue": "Command 'b'cat > local.cpp << CPPCODE\\n\\n#include <iostream>\\nusing namespace std;\\n\\nvoid sun_shine() {\\n    int sun_rotation = 1; // local variable\\n}\\n\\nint main () {\\n    cout << sun_rotation << endl; // error: sun_rotation is not defined here\\n}\\n\\nCPPCODE\\ng++-14 -std=c++26 -Wall -Wextra -Wpedantic -Wshadow -Wconversion local.cpp -o local\\n'' returned non-zero exit status 1.",
     "output_type": "error",
     "traceback": [
      "\u001b[31m---------------------------------------------------------------------------\u001b[39m",
      "\u001b[31mCalledProcessError\u001b[39m                        Traceback (most recent call last)",
      "\u001b[36mCell\u001b[39m\u001b[36m \u001b[39m\u001b[32mIn[22]\u001b[39m\u001b[32m, line 1\u001b[39m\n\u001b[32m----> \u001b[39m\u001b[32m1\u001b[39m \u001b[43mget_ipython\u001b[49m\u001b[43m(\u001b[49m\u001b[43m)\u001b[49m\u001b[43m.\u001b[49m\u001b[43mrun_cell_magic\u001b[49m\u001b[43m(\u001b[49m\u001b[33;43m'\u001b[39;49m\u001b[33;43mbash\u001b[39;49m\u001b[33;43m'\u001b[39;49m\u001b[43m,\u001b[49m\u001b[43m \u001b[49m\u001b[33;43m'\u001b[39;49m\u001b[33;43m'\u001b[39;49m\u001b[43m,\u001b[49m\u001b[43m \u001b[49m\u001b[33;43m'\u001b[39;49m\u001b[33;43mcat > local.cpp << CPPCODE\u001b[39;49m\u001b[38;5;130;43;01m\\n\u001b[39;49;00m\u001b[38;5;130;43;01m\\n\u001b[39;49;00m\u001b[33;43m#include <iostream>\u001b[39;49m\u001b[38;5;130;43;01m\\n\u001b[39;49;00m\u001b[33;43musing namespace std;\u001b[39;49m\u001b[38;5;130;43;01m\\n\u001b[39;49;00m\u001b[38;5;130;43;01m\\n\u001b[39;49;00m\u001b[33;43mvoid sun_shine() \u001b[39;49m\u001b[33;43m{\u001b[39;49m\u001b[38;5;130;43;01m\\n\u001b[39;49;00m\u001b[33;43m    int sun_rotation = 1; // local variable\u001b[39;49m\u001b[38;5;130;43;01m\\n\u001b[39;49;00m\u001b[33;43m}\u001b[39;49m\u001b[38;5;130;43;01m\\n\u001b[39;49;00m\u001b[38;5;130;43;01m\\n\u001b[39;49;00m\u001b[33;43mint main () \u001b[39;49m\u001b[33;43m{\u001b[39;49m\u001b[38;5;130;43;01m\\n\u001b[39;49;00m\u001b[33;43m    cout << sun_rotation << endl; // error: sun_rotation is not defined here\u001b[39;49m\u001b[38;5;130;43;01m\\n\u001b[39;49;00m\u001b[33;43m}\u001b[39;49m\u001b[38;5;130;43;01m\\n\u001b[39;49;00m\u001b[38;5;130;43;01m\\n\u001b[39;49;00m\u001b[33;43mCPPCODE\u001b[39;49m\u001b[38;5;130;43;01m\\n\u001b[39;49;00m\u001b[33;43mg++-14 -std=c++26 -Wall -Wextra -Wpedantic -Wshadow -Wconversion local.cpp -o local\u001b[39;49m\u001b[38;5;130;43;01m\\n\u001b[39;49;00m\u001b[33;43m'\u001b[39;49m\u001b[43m)\u001b[49m\n",
      "\u001b[36mFile \u001b[39m\u001b[32m/private/var/tmp/sage-10.7-current/local/lib/python3.13/site-packages/IPython/core/interactiveshell.py:2565\u001b[39m, in \u001b[36mInteractiveShell.run_cell_magic\u001b[39m\u001b[34m(self, magic_name, line, cell)\u001b[39m\n\u001b[32m   2563\u001b[39m \u001b[38;5;28;01mwith\u001b[39;00m \u001b[38;5;28mself\u001b[39m.builtin_trap:\n\u001b[32m   2564\u001b[39m     args = (magic_arg_s, cell)\n\u001b[32m-> \u001b[39m\u001b[32m2565\u001b[39m     result = \u001b[43mfn\u001b[49m\u001b[43m(\u001b[49m\u001b[43m*\u001b[49m\u001b[43margs\u001b[49m\u001b[43m,\u001b[49m\u001b[43m \u001b[49m\u001b[43m*\u001b[49m\u001b[43m*\u001b[49m\u001b[43mkwargs\u001b[49m\u001b[43m)\u001b[49m\n\u001b[32m   2567\u001b[39m \u001b[38;5;66;03m# The code below prevents the output from being displayed\u001b[39;00m\n\u001b[32m   2568\u001b[39m \u001b[38;5;66;03m# when using magics with decorator @output_can_be_silenced\u001b[39;00m\n\u001b[32m   2569\u001b[39m \u001b[38;5;66;03m# when the last Python token in the expression is a ';'.\u001b[39;00m\n\u001b[32m   2570\u001b[39m \u001b[38;5;28;01mif\u001b[39;00m \u001b[38;5;28mgetattr\u001b[39m(fn, magic.MAGIC_OUTPUT_CAN_BE_SILENCED, \u001b[38;5;28;01mFalse\u001b[39;00m):\n",
      "\u001b[36mFile \u001b[39m\u001b[32m/private/var/tmp/sage-10.7-current/local/lib/python3.13/site-packages/IPython/core/magics/script.py:160\u001b[39m, in \u001b[36mScriptMagics._make_script_magic.<locals>.named_script_magic\u001b[39m\u001b[34m(line, cell)\u001b[39m\n\u001b[32m    158\u001b[39m \u001b[38;5;28;01melse\u001b[39;00m:\n\u001b[32m    159\u001b[39m     line = script\n\u001b[32m--> \u001b[39m\u001b[32m160\u001b[39m \u001b[38;5;28;01mreturn\u001b[39;00m \u001b[38;5;28;43mself\u001b[39;49m\u001b[43m.\u001b[49m\u001b[43mshebang\u001b[49m\u001b[43m(\u001b[49m\u001b[43mline\u001b[49m\u001b[43m,\u001b[49m\u001b[43m \u001b[49m\u001b[43mcell\u001b[49m\u001b[43m)\u001b[49m\n",
      "\u001b[36mFile \u001b[39m\u001b[32m/private/var/tmp/sage-10.7-current/local/lib/python3.13/site-packages/IPython/core/magics/script.py:343\u001b[39m, in \u001b[36mScriptMagics.shebang\u001b[39m\u001b[34m(self, line, cell)\u001b[39m\n\u001b[32m    338\u001b[39m \u001b[38;5;28;01mif\u001b[39;00m args.raise_error \u001b[38;5;129;01mand\u001b[39;00m p.returncode != \u001b[32m0\u001b[39m:\n\u001b[32m    339\u001b[39m     \u001b[38;5;66;03m# If we get here and p.returncode is still None, we must have\u001b[39;00m\n\u001b[32m    340\u001b[39m     \u001b[38;5;66;03m# killed it but not yet seen its return code. We don't wait for it,\u001b[39;00m\n\u001b[32m    341\u001b[39m     \u001b[38;5;66;03m# in case it's stuck in uninterruptible sleep. -9 = SIGKILL\u001b[39;00m\n\u001b[32m    342\u001b[39m     rc = p.returncode \u001b[38;5;129;01mor\u001b[39;00m -\u001b[32m9\u001b[39m\n\u001b[32m--> \u001b[39m\u001b[32m343\u001b[39m     \u001b[38;5;28;01mraise\u001b[39;00m CalledProcessError(rc, cell)\n",
      "\u001b[31mCalledProcessError\u001b[39m: Command 'b'cat > local.cpp << CPPCODE\\n\\n#include <iostream>\\nusing namespace std;\\n\\nvoid sun_shine() {\\n    int sun_rotation = 1; // local variable\\n}\\n\\nint main () {\\n    cout << sun_rotation << endl; // error: sun_rotation is not defined here\\n}\\n\\nCPPCODE\\ng++-14 -std=c++26 -Wall -Wextra -Wpedantic -Wshadow -Wconversion local.cpp -o local\\n'' returned non-zero exit status 1."
     ]
    }
   ],
   "source": [
    "%%bash\n",
    "cat > local.cpp << CPPCODE\n",
    "\n",
    "#include <iostream>\n",
    "using namespace std;\n",
    "\n",
    "void sun_shine() {\n",
    "    int sun_rotation = 1; // local variable\n",
    "}\n",
    "\n",
    "int main () {\n",
    "    cout << sun_rotation << endl; // error: sun_rotation is not defined here\n",
    "}\n",
    "\n",
    "CPPCODE\n",
    "g++-14 -std=c++26 -Wall -Wextra -Wpedantic -Wshadow -Wconversion local.cpp -o local"
   ]
  },
  {
   "cell_type": "code",
   "execution_count": 23,
   "id": "74fd123a",
   "metadata": {
    "vscode": {
     "languageId": "cpp"
    }
   },
   "outputs": [
    {
     "name": "stderr",
     "output_type": "stream",
     "text": [
      "local.cpp: In function 'void sun_shine()':\n",
      "local.cpp:6:13: error: 'earth_rotation' was not declared in this scope\n",
      "    6 |     cout << earth_rotation << endl; // error: earth_rotation is not defined here\n",
      "      |             ^~~~~~~~~~~~~~\n",
      "local.cpp: In function 'int main()':\n",
      "local.cpp:10:9: warning: unused variable 'earth_rotation' [-Wunused-variable]\n",
      "   10 |     int earth_rotation = 1;\n",
      "      |         ^~~~~~~~~~~~~~\n"
     ]
    },
    {
     "ename": "CalledProcessError",
     "evalue": "Command 'b'cat > local.cpp << CPPCODE\\n\\n#include <iostream>\\nusing namespace std;\\n\\nvoid sun_shine() {\\n    cout << earth_rotation << endl; // error: earth_rotation is not defined here\\n}\\n\\nint main () {\\n    int earth_rotation = 1;\\n    sun_shine();\\n}\\n\\nCPPCODE\\ng++-14 -std=c++26 -Wall -Wextra -Wpedantic -Wshadow -Wconversion local.cpp -o local\\n'' returned non-zero exit status 1.",
     "output_type": "error",
     "traceback": [
      "\u001b[31m---------------------------------------------------------------------------\u001b[39m",
      "\u001b[31mCalledProcessError\u001b[39m                        Traceback (most recent call last)",
      "\u001b[36mCell\u001b[39m\u001b[36m \u001b[39m\u001b[32mIn[23]\u001b[39m\u001b[32m, line 1\u001b[39m\n\u001b[32m----> \u001b[39m\u001b[32m1\u001b[39m \u001b[43mget_ipython\u001b[49m\u001b[43m(\u001b[49m\u001b[43m)\u001b[49m\u001b[43m.\u001b[49m\u001b[43mrun_cell_magic\u001b[49m\u001b[43m(\u001b[49m\u001b[33;43m'\u001b[39;49m\u001b[33;43mbash\u001b[39;49m\u001b[33;43m'\u001b[39;49m\u001b[43m,\u001b[49m\u001b[43m \u001b[49m\u001b[33;43m'\u001b[39;49m\u001b[33;43m'\u001b[39;49m\u001b[43m,\u001b[49m\u001b[43m \u001b[49m\u001b[33;43m'\u001b[39;49m\u001b[33;43mcat > local.cpp << CPPCODE\u001b[39;49m\u001b[38;5;130;43;01m\\n\u001b[39;49;00m\u001b[38;5;130;43;01m\\n\u001b[39;49;00m\u001b[33;43m#include <iostream>\u001b[39;49m\u001b[38;5;130;43;01m\\n\u001b[39;49;00m\u001b[33;43musing namespace std;\u001b[39;49m\u001b[38;5;130;43;01m\\n\u001b[39;49;00m\u001b[38;5;130;43;01m\\n\u001b[39;49;00m\u001b[33;43mvoid sun_shine() \u001b[39;49m\u001b[33;43m{\u001b[39;49m\u001b[38;5;130;43;01m\\n\u001b[39;49;00m\u001b[33;43m    cout << earth_rotation << endl; // error: earth_rotation is not defined here\u001b[39;49m\u001b[38;5;130;43;01m\\n\u001b[39;49;00m\u001b[33;43m}\u001b[39;49m\u001b[38;5;130;43;01m\\n\u001b[39;49;00m\u001b[38;5;130;43;01m\\n\u001b[39;49;00m\u001b[33;43mint main () \u001b[39;49m\u001b[33;43m{\u001b[39;49m\u001b[38;5;130;43;01m\\n\u001b[39;49;00m\u001b[33;43m    int earth_rotation = 1;\u001b[39;49m\u001b[38;5;130;43;01m\\n\u001b[39;49;00m\u001b[33;43m    sun_shine();\u001b[39;49m\u001b[38;5;130;43;01m\\n\u001b[39;49;00m\u001b[33;43m}\u001b[39;49m\u001b[38;5;130;43;01m\\n\u001b[39;49;00m\u001b[38;5;130;43;01m\\n\u001b[39;49;00m\u001b[33;43mCPPCODE\u001b[39;49m\u001b[38;5;130;43;01m\\n\u001b[39;49;00m\u001b[33;43mg++-14 -std=c++26 -Wall -Wextra -Wpedantic -Wshadow -Wconversion local.cpp -o local\u001b[39;49m\u001b[38;5;130;43;01m\\n\u001b[39;49;00m\u001b[33;43m'\u001b[39;49m\u001b[43m)\u001b[49m\n",
      "\u001b[36mFile \u001b[39m\u001b[32m/private/var/tmp/sage-10.7-current/local/lib/python3.13/site-packages/IPython/core/interactiveshell.py:2565\u001b[39m, in \u001b[36mInteractiveShell.run_cell_magic\u001b[39m\u001b[34m(self, magic_name, line, cell)\u001b[39m\n\u001b[32m   2563\u001b[39m \u001b[38;5;28;01mwith\u001b[39;00m \u001b[38;5;28mself\u001b[39m.builtin_trap:\n\u001b[32m   2564\u001b[39m     args = (magic_arg_s, cell)\n\u001b[32m-> \u001b[39m\u001b[32m2565\u001b[39m     result = \u001b[43mfn\u001b[49m\u001b[43m(\u001b[49m\u001b[43m*\u001b[49m\u001b[43margs\u001b[49m\u001b[43m,\u001b[49m\u001b[43m \u001b[49m\u001b[43m*\u001b[49m\u001b[43m*\u001b[49m\u001b[43mkwargs\u001b[49m\u001b[43m)\u001b[49m\n\u001b[32m   2567\u001b[39m \u001b[38;5;66;03m# The code below prevents the output from being displayed\u001b[39;00m\n\u001b[32m   2568\u001b[39m \u001b[38;5;66;03m# when using magics with decorator @output_can_be_silenced\u001b[39;00m\n\u001b[32m   2569\u001b[39m \u001b[38;5;66;03m# when the last Python token in the expression is a ';'.\u001b[39;00m\n\u001b[32m   2570\u001b[39m \u001b[38;5;28;01mif\u001b[39;00m \u001b[38;5;28mgetattr\u001b[39m(fn, magic.MAGIC_OUTPUT_CAN_BE_SILENCED, \u001b[38;5;28;01mFalse\u001b[39;00m):\n",
      "\u001b[36mFile \u001b[39m\u001b[32m/private/var/tmp/sage-10.7-current/local/lib/python3.13/site-packages/IPython/core/magics/script.py:160\u001b[39m, in \u001b[36mScriptMagics._make_script_magic.<locals>.named_script_magic\u001b[39m\u001b[34m(line, cell)\u001b[39m\n\u001b[32m    158\u001b[39m \u001b[38;5;28;01melse\u001b[39;00m:\n\u001b[32m    159\u001b[39m     line = script\n\u001b[32m--> \u001b[39m\u001b[32m160\u001b[39m \u001b[38;5;28;01mreturn\u001b[39;00m \u001b[38;5;28;43mself\u001b[39;49m\u001b[43m.\u001b[49m\u001b[43mshebang\u001b[49m\u001b[43m(\u001b[49m\u001b[43mline\u001b[49m\u001b[43m,\u001b[49m\u001b[43m \u001b[49m\u001b[43mcell\u001b[49m\u001b[43m)\u001b[49m\n",
      "\u001b[36mFile \u001b[39m\u001b[32m/private/var/tmp/sage-10.7-current/local/lib/python3.13/site-packages/IPython/core/magics/script.py:343\u001b[39m, in \u001b[36mScriptMagics.shebang\u001b[39m\u001b[34m(self, line, cell)\u001b[39m\n\u001b[32m    338\u001b[39m \u001b[38;5;28;01mif\u001b[39;00m args.raise_error \u001b[38;5;129;01mand\u001b[39;00m p.returncode != \u001b[32m0\u001b[39m:\n\u001b[32m    339\u001b[39m     \u001b[38;5;66;03m# If we get here and p.returncode is still None, we must have\u001b[39;00m\n\u001b[32m    340\u001b[39m     \u001b[38;5;66;03m# killed it but not yet seen its return code. We don't wait for it,\u001b[39;00m\n\u001b[32m    341\u001b[39m     \u001b[38;5;66;03m# in case it's stuck in uninterruptible sleep. -9 = SIGKILL\u001b[39;00m\n\u001b[32m    342\u001b[39m     rc = p.returncode \u001b[38;5;129;01mor\u001b[39;00m -\u001b[32m9\u001b[39m\n\u001b[32m--> \u001b[39m\u001b[32m343\u001b[39m     \u001b[38;5;28;01mraise\u001b[39;00m CalledProcessError(rc, cell)\n",
      "\u001b[31mCalledProcessError\u001b[39m: Command 'b'cat > local.cpp << CPPCODE\\n\\n#include <iostream>\\nusing namespace std;\\n\\nvoid sun_shine() {\\n    cout << earth_rotation << endl; // error: earth_rotation is not defined here\\n}\\n\\nint main () {\\n    int earth_rotation = 1;\\n    sun_shine();\\n}\\n\\nCPPCODE\\ng++-14 -std=c++26 -Wall -Wextra -Wpedantic -Wshadow -Wconversion local.cpp -o local\\n'' returned non-zero exit status 1."
     ]
    }
   ],
   "source": [
    "%%bash\n",
    "cat > local.cpp << CPPCODE\n",
    "\n",
    "#include <iostream>\n",
    "using namespace std;\n",
    "\n",
    "void sun_shine() {\n",
    "    cout << earth_rotation << endl; // error: earth_rotation is not defined here\n",
    "}\n",
    "\n",
    "int main () {\n",
    "    int earth_rotation = 1;\n",
    "    sun_shine();\n",
    "}\n",
    "\n",
    "CPPCODE\n",
    "g++-14 -std=c++26 -Wall -Wextra -Wpedantic -Wshadow -Wconversion local.cpp -o local"
   ]
  },
  {
   "cell_type": "markdown",
   "id": "040420f9",
   "metadata": {},
   "source": [
    "The following constructions introduce **scopes**.\n",
    "\n",
    "- function\n",
    "- curly braces `{}`\n",
    "- for loop\n",
    "- while loop\n",
    "- if-else\n",
    "- try-catch (will teach later)\n",
    "- class and struct (will teach later)\n",
    "- namespace (will teach later)\n",
    "\n",
    "A scope is range of codes,\n",
    "like universities living inside city, and city living inside countries.\n",
    "Variables declared in a university can only be used within the university.\n",
    "Variables declared in a city can only be used within the city, including any university in this city.\n",
    "Variables declared in a country can only be used within this country, not other countries.\n",
    "\n",
    "\n"
   ]
  },
  {
   "cell_type": "markdown",
   "id": "7c0c5454",
   "metadata": {
    "vscode": {
     "languageId": "cpp"
    }
   },
   "source": [
    "## Input type and output type"
   ]
  },
  {
   "cell_type": "code",
   "execution_count": 24,
   "id": "5c79592b",
   "metadata": {
    "vscode": {
     "languageId": "cpp"
    }
   },
   "outputs": [
    {
     "name": "stdout",
     "output_type": "stream",
     "text": [
      "1\n"
     ]
    }
   ],
   "source": [
    "%%bash\n",
    "cat > match.cpp << CPPCODE\n",
    "\n",
    "#include <iostream>\n",
    "using namespace std;\n",
    "\n",
    "int factorial(int k) {\n",
    "    if (k == 0) return 1;\n",
    "    return k * factorial(k - 1);\n",
    "}\n",
    "\n",
    "int main () {\n",
    "    int n;\n",
    "    cin >> n;\n",
    "    cout << factorial(n) << endl;\n",
    "}\n",
    "\n",
    "CPPCODE\n",
    "g++-14 -std=c++26 -Wall -Wextra -Wpedantic -Wshadow -Wconversion match.cpp -o match\n",
    "./match << \"10\""
   ]
  },
  {
   "cell_type": "code",
   "execution_count": 25,
   "id": "48ba973e",
   "metadata": {
    "vscode": {
     "languageId": "cpp"
    }
   },
   "outputs": [
    {
     "name": "stderr",
     "output_type": "stream",
     "text": [
      "no_match.cpp: In function 'int main()':\n",
      "no_match.cpp:13:23: error: cannot convert 'std::string' {aka 'std::__cxx11::basic_string<char>'} to 'int'\n",
      "   13 |     cout << factorial(n) << endl;\n",
      "      |                       ^\n",
      "      |                       |\n",
      "      |                       std::string {aka std::__cxx11::basic_string<char>}\n",
      "no_match.cpp:5:19: note:   initializing argument 1 of 'int factorial(int)'\n",
      "    5 | int factorial(int k) {\n",
      "      |               ~~~~^\n"
     ]
    },
    {
     "ename": "CalledProcessError",
     "evalue": "Command 'b'cat > no_match.cpp << CPPCODE\\n\\n#include <iostream>\\nusing namespace std;\\n\\nint factorial(int k) {\\n    if (k == 0) return 1;\\n    return k * factorial(k - 1);\\n}\\n\\nint main () {\\n    string n;\\n    cin >> n;\\n    cout << factorial(n) << endl;\\n}\\n\\nCPPCODE\\ng++-14 -std=c++26 -Wall -Wextra -Wpedantic -Wshadow -Wconversion no_match.cpp -o no_match\\n'' returned non-zero exit status 1.",
     "output_type": "error",
     "traceback": [
      "\u001b[31m---------------------------------------------------------------------------\u001b[39m",
      "\u001b[31mCalledProcessError\u001b[39m                        Traceback (most recent call last)",
      "\u001b[36mCell\u001b[39m\u001b[36m \u001b[39m\u001b[32mIn[25]\u001b[39m\u001b[32m, line 1\u001b[39m\n\u001b[32m----> \u001b[39m\u001b[32m1\u001b[39m \u001b[43mget_ipython\u001b[49m\u001b[43m(\u001b[49m\u001b[43m)\u001b[49m\u001b[43m.\u001b[49m\u001b[43mrun_cell_magic\u001b[49m\u001b[43m(\u001b[49m\u001b[33;43m'\u001b[39;49m\u001b[33;43mbash\u001b[39;49m\u001b[33;43m'\u001b[39;49m\u001b[43m,\u001b[49m\u001b[43m \u001b[49m\u001b[33;43m'\u001b[39;49m\u001b[33;43m'\u001b[39;49m\u001b[43m,\u001b[49m\u001b[43m \u001b[49m\u001b[33;43m'\u001b[39;49m\u001b[33;43mcat > no_match.cpp << CPPCODE\u001b[39;49m\u001b[38;5;130;43;01m\\n\u001b[39;49;00m\u001b[38;5;130;43;01m\\n\u001b[39;49;00m\u001b[33;43m#include <iostream>\u001b[39;49m\u001b[38;5;130;43;01m\\n\u001b[39;49;00m\u001b[33;43musing namespace std;\u001b[39;49m\u001b[38;5;130;43;01m\\n\u001b[39;49;00m\u001b[38;5;130;43;01m\\n\u001b[39;49;00m\u001b[33;43mint factorial(int k) \u001b[39;49m\u001b[33;43m{\u001b[39;49m\u001b[38;5;130;43;01m\\n\u001b[39;49;00m\u001b[33;43m    if (k == 0) return 1;\u001b[39;49m\u001b[38;5;130;43;01m\\n\u001b[39;49;00m\u001b[33;43m    return k * factorial(k - 1);\u001b[39;49m\u001b[38;5;130;43;01m\\n\u001b[39;49;00m\u001b[33;43m}\u001b[39;49m\u001b[38;5;130;43;01m\\n\u001b[39;49;00m\u001b[38;5;130;43;01m\\n\u001b[39;49;00m\u001b[33;43mint main () \u001b[39;49m\u001b[33;43m{\u001b[39;49m\u001b[38;5;130;43;01m\\n\u001b[39;49;00m\u001b[33;43m    string n;\u001b[39;49m\u001b[38;5;130;43;01m\\n\u001b[39;49;00m\u001b[33;43m    cin >> n;\u001b[39;49m\u001b[38;5;130;43;01m\\n\u001b[39;49;00m\u001b[33;43m    cout << factorial(n) << endl;\u001b[39;49m\u001b[38;5;130;43;01m\\n\u001b[39;49;00m\u001b[33;43m}\u001b[39;49m\u001b[38;5;130;43;01m\\n\u001b[39;49;00m\u001b[38;5;130;43;01m\\n\u001b[39;49;00m\u001b[33;43mCPPCODE\u001b[39;49m\u001b[38;5;130;43;01m\\n\u001b[39;49;00m\u001b[33;43mg++-14 -std=c++26 -Wall -Wextra -Wpedantic -Wshadow -Wconversion no_match.cpp -o no_match\u001b[39;49m\u001b[38;5;130;43;01m\\n\u001b[39;49;00m\u001b[33;43m'\u001b[39;49m\u001b[43m)\u001b[49m\n",
      "\u001b[36mFile \u001b[39m\u001b[32m/private/var/tmp/sage-10.7-current/local/lib/python3.13/site-packages/IPython/core/interactiveshell.py:2565\u001b[39m, in \u001b[36mInteractiveShell.run_cell_magic\u001b[39m\u001b[34m(self, magic_name, line, cell)\u001b[39m\n\u001b[32m   2563\u001b[39m \u001b[38;5;28;01mwith\u001b[39;00m \u001b[38;5;28mself\u001b[39m.builtin_trap:\n\u001b[32m   2564\u001b[39m     args = (magic_arg_s, cell)\n\u001b[32m-> \u001b[39m\u001b[32m2565\u001b[39m     result = \u001b[43mfn\u001b[49m\u001b[43m(\u001b[49m\u001b[43m*\u001b[49m\u001b[43margs\u001b[49m\u001b[43m,\u001b[49m\u001b[43m \u001b[49m\u001b[43m*\u001b[49m\u001b[43m*\u001b[49m\u001b[43mkwargs\u001b[49m\u001b[43m)\u001b[49m\n\u001b[32m   2567\u001b[39m \u001b[38;5;66;03m# The code below prevents the output from being displayed\u001b[39;00m\n\u001b[32m   2568\u001b[39m \u001b[38;5;66;03m# when using magics with decorator @output_can_be_silenced\u001b[39;00m\n\u001b[32m   2569\u001b[39m \u001b[38;5;66;03m# when the last Python token in the expression is a ';'.\u001b[39;00m\n\u001b[32m   2570\u001b[39m \u001b[38;5;28;01mif\u001b[39;00m \u001b[38;5;28mgetattr\u001b[39m(fn, magic.MAGIC_OUTPUT_CAN_BE_SILENCED, \u001b[38;5;28;01mFalse\u001b[39;00m):\n",
      "\u001b[36mFile \u001b[39m\u001b[32m/private/var/tmp/sage-10.7-current/local/lib/python3.13/site-packages/IPython/core/magics/script.py:160\u001b[39m, in \u001b[36mScriptMagics._make_script_magic.<locals>.named_script_magic\u001b[39m\u001b[34m(line, cell)\u001b[39m\n\u001b[32m    158\u001b[39m \u001b[38;5;28;01melse\u001b[39;00m:\n\u001b[32m    159\u001b[39m     line = script\n\u001b[32m--> \u001b[39m\u001b[32m160\u001b[39m \u001b[38;5;28;01mreturn\u001b[39;00m \u001b[38;5;28;43mself\u001b[39;49m\u001b[43m.\u001b[49m\u001b[43mshebang\u001b[49m\u001b[43m(\u001b[49m\u001b[43mline\u001b[49m\u001b[43m,\u001b[49m\u001b[43m \u001b[49m\u001b[43mcell\u001b[49m\u001b[43m)\u001b[49m\n",
      "\u001b[36mFile \u001b[39m\u001b[32m/private/var/tmp/sage-10.7-current/local/lib/python3.13/site-packages/IPython/core/magics/script.py:343\u001b[39m, in \u001b[36mScriptMagics.shebang\u001b[39m\u001b[34m(self, line, cell)\u001b[39m\n\u001b[32m    338\u001b[39m \u001b[38;5;28;01mif\u001b[39;00m args.raise_error \u001b[38;5;129;01mand\u001b[39;00m p.returncode != \u001b[32m0\u001b[39m:\n\u001b[32m    339\u001b[39m     \u001b[38;5;66;03m# If we get here and p.returncode is still None, we must have\u001b[39;00m\n\u001b[32m    340\u001b[39m     \u001b[38;5;66;03m# killed it but not yet seen its return code. We don't wait for it,\u001b[39;00m\n\u001b[32m    341\u001b[39m     \u001b[38;5;66;03m# in case it's stuck in uninterruptible sleep. -9 = SIGKILL\u001b[39;00m\n\u001b[32m    342\u001b[39m     rc = p.returncode \u001b[38;5;129;01mor\u001b[39;00m -\u001b[32m9\u001b[39m\n\u001b[32m--> \u001b[39m\u001b[32m343\u001b[39m     \u001b[38;5;28;01mraise\u001b[39;00m CalledProcessError(rc, cell)\n",
      "\u001b[31mCalledProcessError\u001b[39m: Command 'b'cat > no_match.cpp << CPPCODE\\n\\n#include <iostream>\\nusing namespace std;\\n\\nint factorial(int k) {\\n    if (k == 0) return 1;\\n    return k * factorial(k - 1);\\n}\\n\\nint main () {\\n    string n;\\n    cin >> n;\\n    cout << factorial(n) << endl;\\n}\\n\\nCPPCODE\\ng++-14 -std=c++26 -Wall -Wextra -Wpedantic -Wshadow -Wconversion no_match.cpp -o no_match\\n'' returned non-zero exit status 1."
     ]
    }
   ],
   "source": [
    "%%bash\n",
    "cat > no_match.cpp << CPPCODE\n",
    "\n",
    "#include <iostream>\n",
    "using namespace std;\n",
    "\n",
    "int factorial(int k) {\n",
    "    if (k == 0) return 1;\n",
    "    return k * factorial(k - 1);\n",
    "}\n",
    "\n",
    "int main () {\n",
    "    string n;\n",
    "    cin >> n;\n",
    "    cout << factorial(n) << endl;\n",
    "}\n",
    "\n",
    "CPPCODE\n",
    "g++-14 -std=c++26 -Wall -Wextra -Wpedantic -Wshadow -Wconversion no_match.cpp -o no_match"
   ]
  },
  {
   "cell_type": "code",
   "execution_count": null,
   "id": "63274406",
   "metadata": {
    "vscode": {
     "languageId": "cpp"
    }
   },
   "outputs": [],
   "source": [
    "%%bash\n",
    "cat > guess_match.cpp << CPPCODE\n",
    "\n",
    "#include <iostream>\n",
    "using namespace std;\n",
    "\n",
    "int factorial(int k) {\n",
    "    if (k == 0) return 1;\n",
    "    return k * factorial(k - 1);\n",
    "}\n",
    "\n",
    "int main () {\n",
    "    float n;\n",
    "    cin >> n;\n",
    "    cout << factorial(n) << endl;\n",
    "}\n",
    "\n",
    "CPPCODE\n",
    "g++-14 -std=c++26 -Wall -Wextra -Wpedantic -Wshadow -Wshadow -Wconversion guess_match.cpp -o guess_match"
   ]
  },
  {
   "cell_type": "code",
   "execution_count": 26,
   "id": "e9cb75a3",
   "metadata": {
    "vscode": {
     "languageId": "cpp"
    }
   },
   "outputs": [
    {
     "name": "stderr",
     "output_type": "stream",
     "text": [
      "match_no.cpp: In function 'int factorial(int)':\n",
      "match_no.cpp:7:12: error: cannot convert 'std::string' {aka 'std::__cxx11::basic_string<char>'} to 'int' in return\n",
      "    7 |     return s;\n",
      "      |            ^\n",
      "      |            |\n",
      "      |            std::string {aka std::__cxx11::basic_string<char>}\n",
      "match_no.cpp:5:19: warning: unused parameter 'k' [-Wunused-parameter]\n",
      "    5 | int factorial(int k) {\n",
      "      |               ~~~~^\n"
     ]
    },
    {
     "name": "stdout",
     "output_type": "stream",
     "text": [
      "1\n"
     ]
    }
   ],
   "source": [
    "%%bash\n",
    "cat > match_no.cpp << CPPCODE\n",
    "\n",
    "#include <iostream>\n",
    "using namespace std;\n",
    "\n",
    "int factorial(int k) {\n",
    "    string s = \"hello\";\n",
    "    return s;\n",
    "}\n",
    "\n",
    "int main () {\n",
    "    int n;\n",
    "    cin >> n;\n",
    "    cout << factorial(n) << endl;\n",
    "}\n",
    "\n",
    "CPPCODE\n",
    "g++-14 -std=c++26 -Wall -Wextra -Wpedantic -Wshadow -Wconversion match_no.cpp -o match_no\n",
    "./match_no << \"10\""
   ]
  },
  {
   "cell_type": "code",
   "execution_count": null,
   "id": "4e57db04",
   "metadata": {
    "vscode": {
     "languageId": "cpp"
    }
   },
   "outputs": [
    {
     "name": "stderr",
     "output_type": "stream",
     "text": [
      "match_no.cpp: In function 'int factorial(int)':\n",
      "match_no.cpp:7:12: warning: conversion from 'float' to 'int' may change value [-Wfloat-conversion]\n",
      "    7 |     return s;\n",
      "      |            ^\n",
      "match_no.cpp:5:19: warning: unused parameter 'k' [-Wunused-parameter]\n",
      "    5 | int factorial(int k) {\n",
      "      |               ~~~~^\n"
     ]
    },
    {
     "name": "stdout",
     "output_type": "stream",
     "text": [
      "1\n"
     ]
    }
   ],
   "source": [
    "%%bash\n",
    "cat > match_no.cpp << CPPCODE\n",
    "\n",
    "#include <iostream>\n",
    "using namespace std;\n",
    "\n",
    "int factorial(int k) {\n",
    "    float s = 1.5;\n",
    "    return s;\n",
    "}\n",
    "\n",
    "int main () {\n",
    "    int n;\n",
    "    cin >> n;\n",
    "    cout << factorial(n) << endl;\n",
    "}\n",
    "\n",
    "CPPCODE\n",
    "g++-14 -std=c++26 -Wall -Wextra -Wpedantic -Wshadow -Wshadow -Wconversion match_no.cpp -o match_no\n",
    "./match_no << \"10\""
   ]
  },
  {
   "cell_type": "markdown",
   "id": "b08122d1",
   "metadata": {
    "vscode": {
     "languageId": "cpp"
    }
   },
   "source": [
    "## Basic types"
   ]
  },
  {
   "cell_type": "code",
   "execution_count": 32,
   "id": "ca6016c9",
   "metadata": {
    "vscode": {
     "languageId": "cpp"
    }
   },
   "outputs": [
    {
     "name": "stdout",
     "output_type": "stream",
     "text": [
      "#define __ARM_SIZEOF_WCHAR_T 4\n",
      "#define __SIZEOF_INT__ 4\n",
      "#define __ARM_SIZEOF_MINIMAL_ENUM 4\n",
      "#define __SIZEOF_LONG_DOUBLE__ 8\n",
      "#define __SIZE_TYPE__ long unsigned int\n",
      "#define __SIZEOF_SIZE_T__ 8\n",
      "#define __SIZEOF_WINT_T__ 4\n",
      "#define __SIZEOF_POINTER__ 8\n",
      "#define __SIZEOF_PTRDIFF_T__ 8\n",
      "#define __SIZEOF_LONG__ 8\n",
      "#define __GCC_CONSTRUCTIVE_SIZE 64\n",
      "#define __SIZE_WIDTH__ 64\n",
      "#define __SIZEOF_SHORT__ 2\n",
      "#define __SIZEOF_INT128__ 16\n",
      "#define __SIZEOF_WCHAR_T__ 4\n",
      "#define __GCC_DESTRUCTIVE_SIZE 256\n",
      "#define __SIZEOF_DOUBLE__ 8\n",
      "#define __SIZEOF_FLOAT__ 4\n",
      "#define __SIZE_MAX__ 0xffffffffffffffffUL\n",
      "#define __SIZEOF_LONG_LONG__ 8\n"
     ]
    }
   ],
   "source": [
    "%%bash\n",
    "g++-14 -dM -E - < /dev/null | grep SIZE"
   ]
  },
  {
   "cell_type": "markdown",
   "id": "9d753a48",
   "metadata": {
    "vscode": {
     "languageId": "cpp"
    }
   },
   "source": [
    "<https://en.cppreference.com/w/cpp/language/types.html>"
   ]
  },
  {
   "cell_type": "markdown",
   "id": "ea590579",
   "metadata": {
    "vscode": {
     "languageId": "cpp"
    }
   },
   "source": [
    "## Overloading"
   ]
  },
  {
   "cell_type": "code",
   "execution_count": null,
   "id": "173c1580",
   "metadata": {
    "vscode": {
     "languageId": "cpp"
    }
   },
   "outputs": [
    {
     "name": "stdout",
     "output_type": "stream",
     "text": [
      "1409286144\n",
      "2.65253e+32\n"
     ]
    }
   ],
   "source": [
    "%%bash\n",
    "cat > overload.cpp << CPPCODE\n",
    "\n",
    "#include <iostream>\n",
    "using namespace std;\n",
    "\n",
    "float factorial(float k) {\n",
    "    if (k <= 1) return 1;\n",
    "    return k * factorial(k - 1);\n",
    "}\n",
    "\n",
    "int factorial(int k) {\n",
    "    if (k <= 1) return 1;\n",
    "    return k * factorial(k - 1);\n",
    "}\n",
    "\n",
    "int main () {\n",
    "    int m;\n",
    "    cin >> m;\n",
    "    cout << factorial(m) << endl;\n",
    "    float n;\n",
    "    cin >> n;\n",
    "    cout << factorial(n) << endl;\n",
    "}\n",
    "\n",
    "CPPCODE\n",
    "g++-14 -std=c++26 -Wall -Wextra -Wpedantic -Wshadow -Wshadow -Wconversion overload.cpp -o overload\n",
    "./overload <<< \"30 30\""
   ]
  },
  {
   "cell_type": "code",
   "execution_count": 63,
   "id": "76b06bad",
   "metadata": {
    "vscode": {
     "languageId": "cpp"
    }
   },
   "outputs": [
    {
     "data": {
      "text/plain": [
       "265252859812191058636308480000000"
      ]
     },
     "execution_count": 63,
     "metadata": {},
     "output_type": "execute_result"
    }
   ],
   "source": [
    "30.factorial()"
   ]
  },
  {
   "cell_type": "markdown",
   "id": "c8a00013",
   "metadata": {
    "vscode": {
     "languageId": "cpp"
    }
   },
   "source": [
    "## Default parameter"
   ]
  },
  {
   "cell_type": "markdown",
   "id": "01730b9e",
   "metadata": {
    "vscode": {
     "languageId": "cpp"
    }
   },
   "source": [
    "## Arrays as function parameter"
   ]
  },
  {
   "cell_type": "markdown",
   "id": "c9281837",
   "metadata": {
    "vscode": {
     "languageId": "cpp"
    }
   },
   "source": [
    "Another reason to use void as return type is to modify array.\n",
    "\n",
    "Note that we can modify integer the same way, but it's a different syntax"
   ]
  },
  {
   "cell_type": "code",
   "execution_count": 64,
   "id": "45816a7d",
   "metadata": {
    "vscode": {
     "languageId": "cpp"
    }
   },
   "outputs": [
    {
     "name": "stdout",
     "output_type": "stream",
     "text": [
      "0\n",
      "1\n",
      "2\n"
     ]
    }
   ],
   "source": [
    "%%bash\n",
    "cat > candy.cpp << CPPCODE\n",
    "\n",
    "#include <iostream>\n",
    "using namespace std;\n",
    "\n",
    "void birthday(int c) {\n",
    "    c += 1;\n",
    "}\n",
    "\n",
    "void birthday_ref(int &c) {\n",
    "    c += 1;\n",
    "}\n",
    "\n",
    "void christmas(int can[100]) {\n",
    "    for (int i = 0; i < 100; ++i) {\n",
    "        can[i] += 1;\n",
    "    }\n",
    "}\n",
    "\n",
    "int main () {\n",
    "    int candy[100];\n",
    "    for (int i = 0; i < 100; ++i) {\n",
    "        candy[i] = i;\n",
    "    }\n",
    "    \n",
    "    birthday(candy[0]);\n",
    "    cout << candy[0] << endl; // still 0, but why?\n",
    "\n",
    "    birthday_ref(candy[0]);\n",
    "    cout << candy[0] << endl; // now 1, but why?\n",
    "\n",
    "    christmas(candy);\n",
    "    cout << candy[0] << endl; // now 2\n",
    "}\n",
    "\n",
    "CPPCODE\n",
    "g++-14 -std=c++26 -Wall -Wextra -Wpedantic -Wshadow -Wconversion candy.cpp -o candy\n",
    "./candy"
   ]
  },
  {
   "cell_type": "markdown",
   "id": "28aa1371",
   "metadata": {
    "vscode": {
     "languageId": "cpp"
    }
   },
   "source": [
    "The problem is how functions get the parameters\n",
    "\n",
    "- Pass by value = copy = `main` tells `birthday_ref` that `c[0]` is `0`.\n",
    "- Pass by pointer = address = `main` tells `christmas` function the location of the array `candy`.\n",
    "- Pass by reference = alias = `main` tells `birthday_ref` that `c` is another name for `candy[0]`."
   ]
  },
  {
   "cell_type": "markdown",
   "id": "21800d27",
   "metadata": {
    "vscode": {
     "languageId": "cpp"
    }
   },
   "source": [
    "## Coding style"
   ]
  },
  {
   "cell_type": "markdown",
   "id": "e83b3f37",
   "metadata": {},
   "source": [
    "Most of the time, machines don't care.\n",
    "But we (readers) cares about readability.\n",
    "\n",
    "- A function ≈ one idea ≈ one screen.\n",
    "- Function should be named properly."
   ]
  },
  {
   "cell_type": "markdown",
   "id": "34c454dd",
   "metadata": {},
   "source": []
  },
  {
   "cell_type": "markdown",
   "id": "cb1dbf2b",
   "metadata": {},
   "source": []
  }
 ],
 "metadata": {
  "kernelspec": {
   "display_name": "SageMath 10.7",
   "language": "sage",
   "name": "SageMath-10.7"
  },
  "language_info": {
   "codemirror_mode": {
    "name": "ipython",
    "version": 3
   },
   "file_extension": ".py",
   "mimetype": "text/x-python",
   "name": "python",
   "nbconvert_exporter": "python",
   "pygments_lexer": "ipython3",
   "version": "3.13.3"
  }
 },
 "nbformat": 4,
 "nbformat_minor": 5
}
