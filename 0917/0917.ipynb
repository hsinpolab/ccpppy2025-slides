{
 "cells": [
  {
   "cell_type": "markdown",
   "id": "094cd75f",
   "metadata": {
    "vscode": {
     "languageId": "plaintext"
    }
   },
   "source": [
    "# Computer Programming 0917"
   ]
  },
  {
   "cell_type": "code",
   "execution_count": 1,
   "id": "ebacef72",
   "metadata": {
    "vscode": {
     "languageId": "python"
    }
   },
   "outputs": [
    {
     "name": "stdout",
     "output_type": "stream",
     "text": [
      "env: SDKROOT=/Library/Developer/CommandLineTools/SDKs/MacOSX.sdk\n"
     ]
    }
   ],
   "source": [
    "# Ignore this; my laptop is so old and Apple is nasty so I need this\n",
    "sdkroot = !xcrun --show-sdk-path\n",
    "%env SDKROOT={sdkroot[0]}"
   ]
  },
  {
   "cell_type": "markdown",
   "id": "33987e3f",
   "metadata": {},
   "source": [
    "## More on terminal commands"
   ]
  },
  {
   "cell_type": "markdown",
   "id": "00ed28ab",
   "metadata": {},
   "source": [
    "- `man pwd`: open the MANual page of the command `pwd`\n",
    "- `man cd`: open the MANual page of the command `cd`\n",
    "- `man ls`: open the MANual page of the command `ls`\n",
    "- `pwd`: Print Working Directory\n",
    "- `cd 0917`: Change Directory to the folder called `0917`\n",
    "- `cd ..`: Change Directory to the parent directory\n",
    "- `cd -`: Change Directory to the previous directory (last page)\n",
    "- `cd ~`: Change Directory to the home directory\n",
    "- `mkdir`: Make new Directory (new folder)\n",
    "- `ls`: LiSt the content of current working directory\n",
    "- `ls -l`: LiSt with Longer information\n",
    "- `ls -a`: LiSt All files, including hidden ones\n",
    "- `ls -la`: equivalent to `ls -l -a`\n",
    "- `cat`, `hexdump`\n",
    "- `nano`, `vim`, `code`\n",
    "- `clear`\n",
    "- `history`: show the command history\n",
    "- `touch animal.cpp`: used to create an empty file called `animal.cpp`\n",
    "- `grep cout animal.cpp`: search for `cout` in the file `animal.cpp`\n",
    "- `grep \"cout <<\" animal.cpp`: search for `cout <<` in the file `animal.cpp` (quote the space)\n",
    "- `head animal.cpp`: shows the first 10 lines of `animal.cpp`\n",
    "- `head -n 100 animal.cpp`: first 100 lines\n",
    "- `tail animal.cpp`: shows the last 10 lines of `animal.cpp`\n",
    "- `tail -n 1000 animal.cpp`: last 1000 lines\n",
    "- `rm animal.cpp`: ReMoves (deletes) the file `animal.cpp`.  \n",
    "- `rm -r 0917`: ReMoves Recursively, including folders and sub-folders and files within\n",
    "- `rm -f 0917/animal.cpp`: ReMoves files with Force (no confirmation)\n",
    "- `ｒｍ -ｒｆ /`: ReMoves everything, starting from the root.\n",
    "  DON'T DO THIS.  YOUR COMPUTER WILL BREAK.\n",
    "- `mv animal.cpp 0917/monster.cpp`: MoVes `animal.cpp` to folder `0917` and rename it `monster.cpp`\n",
    "- `cp animal.cpp animal-new.txt`: CoPies `animal.cpp` paste it as `animal-new.txt`\n",
    "- Use `-r` to copy directories recursively: `cp -r 0917 0924`\n",
    "- `g++-14 -std=c++26 -Wall -Wextra -Wpedantic animal.cpp -o an`:\n",
    "  compile `animal.cpp` to `an` with all the warning enabled.\n",
    "- `./an`: execute `an`\n",
    "- `./an <<< \"retire\"`: execute `an` with input `retire`.\n",
    "- `./an < keep.txt`: execute `an` with input coming from a text file `keep.txt`.\n",
    "- `./an > noise.txt`: execute `an` but all `cout` goes to `noise.txt` (overwrite).\n",
    "- `./an >> noise.txt`: execute `an` but all `cout` goes to `noise.txt` (append).\n",
    "- `./an <<< \"retire\" > noise.txt`: two things at once.\n",
    "- `./an < keep.txt >> noise.txt`: two things at once.\n",
    "- `echo retire`: print `retire` to screen\n",
    "- `echo \"retire\" | ./an`: execute `an` with input `retire`.\n",
    "- `./an | grep visitors`: execute `an` but only show lines containing \"visitors\".\n",
    "- `./an | grep \"is born\"`: execute `an` but only show lines containing \"is born\".\n",
    "- What does `|` do?\n",
    "- `Ctrl + C` terminates the program early"
   ]
  },
  {
   "cell_type": "markdown",
   "id": "3968ba8a",
   "metadata": {},
   "source": [
    "## Array"
   ]
  },
  {
   "cell_type": "code",
   "execution_count": 2,
   "id": "da301234",
   "metadata": {
    "vscode": {
     "languageId": "cpp"
    }
   },
   "outputs": [
    {
     "name": "stdout",
     "output_type": "stream",
     "text": [
      "Overwriting array.cpp\n"
     ]
    }
   ],
   "source": [
    "%%writefile array.cpp\n",
    "\n",
    "#include <iostream>\n",
    "using namespace std;\n",
    "\n",
    "int main() {\n",
    "    int CocoMelon[100];\n",
    "    for (int i = 0; i < 10; i++) {\n",
    "        int k = i*i;\n",
    "        cout << \"Without initialization, the \"\n",
    "        << k << \"th element of CocoMelon is \"\n",
    "        << CocoMelon[i] << endl;\n",
    "    }\n",
    "    for (int i = 0; i < 100; i++) {\n",
    "        CocoMelon[i] = i;\n",
    "    }\n",
    "    for (int i = 0; i < 10; i++) {\n",
    "        int k = i*i;\n",
    "        cout << \"With initialization, the \"\n",
    "        << k << \"th element of CocoMelon is \"\n",
    "        << CocoMelon[i] << endl;\n",
    "    }\n",
    "    return 0;\n",
    "}"
   ]
  },
  {
   "cell_type": "code",
   "execution_count": 3,
   "id": "7220b5da",
   "metadata": {
    "vscode": {
     "languageId": "cpp"
    }
   },
   "outputs": [
    {
     "name": "stdout",
     "output_type": "stream",
     "text": [
      "Without initialization, the 0th element of CocoMelon is -1156002368\n",
      "Without initialization, the 1th element of CocoMelon is 32759\n",
      "Without initialization, the 4th element of CocoMelon is 704\n",
      "Without initialization, the 9th element of CocoMelon is 0\n",
      "Without initialization, the 16th element of CocoMelon is 0\n",
      "Without initialization, the 25th element of CocoMelon is 0\n",
      "Without initialization, the 36th element of CocoMelon is 0\n",
      "Without initialization, the 49th element of CocoMelon is 0\n",
      "Without initialization, the 64th element of CocoMelon is -1156001664\n",
      "Without initialization, the 81th element of CocoMelon is 32759\n",
      "With initialization, the 0th element of CocoMelon is 0\n",
      "With initialization, the 1th element of CocoMelon is 1\n",
      "With initialization, the 4th element of CocoMelon is 2\n",
      "With initialization, the 9th element of CocoMelon is 3\n",
      "With initialization, the 16th element of CocoMelon is 4\n",
      "With initialization, the 25th element of CocoMelon is 5\n",
      "With initialization, the 36th element of CocoMelon is 6\n",
      "With initialization, the 49th element of CocoMelon is 7\n",
      "With initialization, the 64th element of CocoMelon is 8\n",
      "With initialization, the 81th element of CocoMelon is 9\n"
     ]
    }
   ],
   "source": [
    "%%bash\n",
    "\n",
    "g++-14 -std=c++26 -Wall -Wextra -Wpedantic array.cpp -o array\n",
    "./array"
   ]
  },
  {
   "cell_type": "code",
   "execution_count": 4,
   "id": "e6770429",
   "metadata": {
    "vscode": {
     "languageId": "cpp"
    }
   },
   "outputs": [
    {
     "name": "stdout",
     "output_type": "stream",
     "text": [
      "Overwriting initial.cpp\n"
     ]
    }
   ],
   "source": [
    "%%writefile initial.cpp\n",
    "\n",
    "#include <iostream>\n",
    "using namespace std;\n",
    "\n",
    "int main() {\n",
    "    int CocoMelon[10] = {1, 2, 3, 4, 5};\n",
    "    for (int i = 0; i < 10; i++) {\n",
    "        cout << \"With initialization, the \"\n",
    "        << i << \"th element of CocoMelon is \"\n",
    "        << CocoMelon[i] << endl;\n",
    "    }\n",
    "    return 0;\n",
    "}"
   ]
  },
  {
   "cell_type": "code",
   "execution_count": 5,
   "id": "658b2aeb",
   "metadata": {
    "vscode": {
     "languageId": "cpp"
    }
   },
   "outputs": [
    {
     "name": "stdout",
     "output_type": "stream",
     "text": [
      "With initialization, the 0th element of CocoMelon is 1\n",
      "With initialization, the 1th element of CocoMelon is 2\n",
      "With initialization, the 2th element of CocoMelon is 3\n",
      "With initialization, the 3th element of CocoMelon is 4\n",
      "With initialization, the 4th element of CocoMelon is 5\n",
      "With initialization, the 5th element of CocoMelon is 0\n",
      "With initialization, the 6th element of CocoMelon is 0\n",
      "With initialization, the 7th element of CocoMelon is 0\n",
      "With initialization, the 8th element of CocoMelon is 0\n",
      "With initialization, the 9th element of CocoMelon is 0\n"
     ]
    }
   ],
   "source": [
    "%%bash\n",
    "\n",
    "g++-14 -std=c++26 -Wall -Wextra -Wpedantic initial.cpp -o initial\n",
    "./initial"
   ]
  },
  {
   "cell_type": "markdown",
   "id": "627b4523",
   "metadata": {
    "vscode": {
     "languageId": "cpp"
    }
   },
   "source": [
    "## Prefix sum"
   ]
  },
  {
   "cell_type": "code",
   "execution_count": 6,
   "id": "41469cfd",
   "metadata": {
    "vscode": {
     "languageId": "cpp"
    }
   },
   "outputs": [
    {
     "name": "stdout",
     "output_type": "stream",
     "text": [
      "Overwriting prefix_sum.cpp\n"
     ]
    }
   ],
   "source": [
    "%%writefile prefix_sum.cpp\n",
    "\n",
    "#include <iostream>\n",
    "using namespace std;\n",
    "\n",
    "int main() {\n",
    "    int CocoMelon[100] = {};\n",
    "    int PrefixSum[100] = {};\n",
    "    for (int i = 0; i < 100; i++) {\n",
    "        CocoMelon[i] = i;\n",
    "    }\n",
    "    PrefixSum[0] = 0; // is this line necessary?\n",
    "    for (int i = 1; i < 100; i++) {\n",
    "        PrefixSum[i] = PrefixSum[i-1] + CocoMelon[i];\n",
    "    }\n",
    "    for (int i = 0; i < 11; i++) {\n",
    "        cout << \"the \" << i << \"th prefix sum is \"\n",
    "        << PrefixSum[i] << endl;\n",
    "    }\n",
    "    return 0;\n",
    "}"
   ]
  },
  {
   "cell_type": "code",
   "execution_count": 7,
   "id": "76bd4418",
   "metadata": {
    "vscode": {
     "languageId": "cpp"
    }
   },
   "outputs": [
    {
     "name": "stdout",
     "output_type": "stream",
     "text": [
      "the 0th prefix sum is 0\n",
      "the 1th prefix sum is 1\n",
      "the 2th prefix sum is 3\n",
      "the 3th prefix sum is 6\n",
      "the 4th prefix sum is 10\n",
      "the 5th prefix sum is 15\n",
      "the 6th prefix sum is 21\n",
      "the 7th prefix sum is 28\n",
      "the 8th prefix sum is 36\n",
      "the 9th prefix sum is 45\n",
      "the 10th prefix sum is 55\n"
     ]
    }
   ],
   "source": [
    "%%bash\n",
    "\n",
    "g++-14 -std=c++26 -Wall -Wextra -Wpedantic prefix_sum.cpp -o prefix_sum\n",
    "./prefix_sum"
   ]
  },
  {
   "cell_type": "markdown",
   "id": "0530a259",
   "metadata": {
    "vscode": {
     "languageId": "cpp"
    }
   },
   "source": [
    "## Reverse order"
   ]
  },
  {
   "cell_type": "code",
   "execution_count": 8,
   "id": "9568faf8",
   "metadata": {
    "vscode": {
     "languageId": "cpp"
    }
   },
   "outputs": [
    {
     "name": "stdout",
     "output_type": "stream",
     "text": [
      "Overwriting reverse.cpp\n"
     ]
    }
   ],
   "source": [
    "%%writefile reverse.cpp\n",
    "\n",
    "#include <iostream>\n",
    "using namespace std;\n",
    "\n",
    "int main() {\n",
    "    int CocoMelon[100] = {};\n",
    "    for (int i = 0; i < 100; i++) {\n",
    "        CocoMelon[i] = i;\n",
    "    }\n",
    "    int MelonCoco[100] = {};\n",
    "    for (int i = 0; i < 100; i++) {\n",
    "        MelonCoco[i] = CocoMelon[100 - 1 - i];\n",
    "    }\n",
    "    for (int i = 0; i < 100; i++) {\n",
    "        cout << CocoMelon[i] << \" \" << MelonCoco[i] << endl;\n",
    "    }\n",
    "    return 0;\n",
    "}"
   ]
  },
  {
   "cell_type": "code",
   "execution_count": 9,
   "id": "0962eb7f",
   "metadata": {
    "vscode": {
     "languageId": "cpp"
    }
   },
   "outputs": [
    {
     "name": "stdout",
     "output_type": "stream",
     "text": [
      "0 99\n",
      "1 98\n",
      "2 97\n",
      "3 96\n",
      "4 95\n",
      "5 94\n",
      "6 93\n",
      "7 92\n",
      "8 91\n",
      "9 90\n",
      "10 89\n",
      "11 88\n",
      "12 87\n",
      "13 86\n",
      "14 85\n",
      "15 84\n",
      "16 83\n",
      "17 82\n",
      "18 81\n",
      "19 80\n",
      "20 79\n",
      "21 78\n",
      "22 77\n",
      "23 76\n",
      "24 75\n",
      "25 74\n",
      "26 73\n",
      "27 72\n",
      "28 71\n",
      "29 70\n",
      "30 69\n",
      "31 68\n",
      "32 67\n",
      "33 66\n",
      "34 65\n",
      "35 64\n",
      "36 63\n",
      "37 62\n",
      "38 61\n",
      "39 60\n",
      "40 59\n",
      "41 58\n",
      "42 57\n",
      "43 56\n",
      "44 55\n",
      "45 54\n",
      "46 53\n",
      "47 52\n",
      "48 51\n",
      "49 50\n",
      "50 49\n",
      "51 48\n",
      "52 47\n",
      "53 46\n",
      "54 45\n",
      "55 44\n",
      "56 43\n",
      "57 42\n",
      "58 41\n",
      "59 40\n",
      "60 39\n",
      "61 38\n",
      "62 37\n",
      "63 36\n",
      "64 35\n",
      "65 34\n",
      "66 33\n",
      "67 32\n",
      "68 31\n",
      "69 30\n",
      "70 29\n",
      "71 28\n",
      "72 27\n",
      "73 26\n",
      "74 25\n",
      "75 24\n",
      "76 23\n",
      "77 22\n",
      "78 21\n",
      "79 20\n",
      "80 19\n",
      "81 18\n",
      "82 17\n",
      "83 16\n",
      "84 15\n",
      "85 14\n",
      "86 13\n",
      "87 12\n",
      "88 11\n",
      "89 10\n",
      "90 9\n",
      "91 8\n",
      "92 7\n",
      "93 6\n",
      "94 5\n",
      "95 4\n",
      "96 3\n",
      "97 2\n",
      "98 1\n",
      "99 0\n"
     ]
    }
   ],
   "source": [
    "%%bash\n",
    "\n",
    "g++-14 -std=c++26 -Wall -Wextra -Wpedantic reverse.cpp -o reverse\n",
    "./reverse"
   ]
  },
  {
   "cell_type": "markdown",
   "id": "50b51cec",
   "metadata": {
    "vscode": {
     "languageId": "cpp"
    }
   },
   "source": [
    "## Shift / offset / rotate"
   ]
  },
  {
   "cell_type": "code",
   "execution_count": 10,
   "id": "933947f5",
   "metadata": {
    "vscode": {
     "languageId": "cpp"
    }
   },
   "outputs": [
    {
     "name": "stdout",
     "output_type": "stream",
     "text": [
      "Overwriting shift.cpp\n"
     ]
    }
   ],
   "source": [
    "%%writefile shift.cpp\n",
    "\n",
    "#include <iostream>\n",
    "using namespace std;\n",
    "\n",
    "int main() {\n",
    "    int CocoMelon[100] = {};\n",
    "    for (int i = 0; i < 100; i++) {\n",
    "        CocoMelon[i] = i;\n",
    "    }\n",
    "    int shift;\n",
    "    cout << \"How much do you want to shift? \" << endl;\n",
    "    cin >> shift;\n",
    "    cout << \"You want to shift by \" << shift << endl;\n",
    "    for (; shift; shift--) {\n",
    "        int temp = CocoMelon[0];\n",
    "        for (int i = 0; i < 100 - 1; i++) {\n",
    "            CocoMelon[i] = CocoMelon[i + 1];\n",
    "        }\n",
    "        CocoMelon[99] = temp;\n",
    "    }\n",
    "    for (int i = 0; i < 100; i++) {\n",
    "        cout << CocoMelon[i] << \" \";\n",
    "    }\n",
    "    return 0;\n",
    "}"
   ]
  },
  {
   "cell_type": "code",
   "execution_count": 11,
   "id": "e54d8774",
   "metadata": {
    "vscode": {
     "languageId": "cpp"
    }
   },
   "outputs": [
    {
     "name": "stdout",
     "output_type": "stream",
     "text": [
      "How much do you want to shift? \n",
      "You want to shift by 12\n",
      "12 13 14 15 16 17 18 19 20 21 22 23 24 25 26 27 28 29 30 31 32 33 34 35 36 37 38 39 40 41 42 43 44 45 46 47 48 49 50 51 52 53 54 55 56 57 58 59 60 61 62 63 64 65 66 67 68 69 70 71 72 73 74 75 76 77 78 79 80 81 82 83 84 85 86 87 88 89 90 91 92 93 94 95 96 97 98 99 0 1 2 3 4 5 6 7 8 9 10 11 "
     ]
    }
   ],
   "source": [
    "%%bash\n",
    "\n",
    "g++-14 -std=c++26 -Wall -Wextra -Wpedantic shift.cpp -o shift\n",
    "./shift <<< \"12\""
   ]
  },
  {
   "cell_type": "code",
   "execution_count": 12,
   "id": "4e3be2a1",
   "metadata": {
    "vscode": {
     "languageId": "cpp"
    }
   },
   "outputs": [
    {
     "name": "stdout",
     "output_type": "stream",
     "text": [
      "Overwriting shift_fast.cpp\n"
     ]
    }
   ],
   "source": [
    "%%writefile shift_fast.cpp\n",
    "\n",
    "#include <iostream>\n",
    "using namespace std;\n",
    "\n",
    "int main() {\n",
    "    int CocoMelon[100] = {};\n",
    "    for (int i = 0; i < 100; i++) {\n",
    "        CocoMelon[i] = i;\n",
    "    }\n",
    "    int shift;\n",
    "    cout << \"How much do you want to shift? \" << endl;\n",
    "    cin >> shift;\n",
    "    cout << \"You want to shift by \" << shift << endl;\n",
    "    for (int i = 0; i < 100 / 2; i++) {\n",
    "        int a = CocoMelon[i];\n",
    "        int b = CocoMelon[100 - 1 - i];\n",
    "        CocoMelon[i] = b;\n",
    "        CocoMelon[100 - 1 - i] = a;\n",
    "    }\n",
    "    for (int i = 0; i < shift / 2; i++) {\n",
    "        int a = CocoMelon[i];\n",
    "        int b = CocoMelon[shift - 1 - i];\n",
    "        CocoMelon[i] = b;\n",
    "        CocoMelon[shift - 1 - i] = a;\n",
    "    }\n",
    "    for (int i = 0; i < (100 - shift) / 2; i++) {\n",
    "        int a = CocoMelon[shift + i];\n",
    "        int b = CocoMelon[100 - 1 - i];\n",
    "        CocoMelon[shift + i] = b;\n",
    "        CocoMelon[100 - 1 - i] = a;\n",
    "    }\n",
    "    for (int i = 0; i < 100; i++) {\n",
    "        cout << CocoMelon[i] << \" \";\n",
    "    }\n",
    "    return 0;\n",
    "}"
   ]
  },
  {
   "cell_type": "code",
   "execution_count": 13,
   "id": "f0bbc4f0",
   "metadata": {
    "vscode": {
     "languageId": "cpp"
    }
   },
   "outputs": [
    {
     "name": "stdout",
     "output_type": "stream",
     "text": [
      "How much do you want to shift? \n",
      "You want to shift by 12\n",
      "88 89 90 91 92 93 94 95 96 97 98 99 0 1 2 3 4 5 6 7 8 9 10 11 12 13 14 15 16 17 18 19 20 21 22 23 24 25 26 27 28 29 30 31 32 33 34 35 36 37 38 39 40 41 42 43 44 45 46 47 48 49 50 51 52 53 54 55 56 57 58 59 60 61 62 63 64 65 66 67 68 69 70 71 72 73 74 75 76 77 78 79 80 81 82 83 84 85 86 87 "
     ]
    }
   ],
   "source": [
    "%%bash\n",
    "\n",
    "g++-14 -std=c++26 -Wall -Wextra -Wpedantic shift_fast.cpp -o shift_fast\n",
    "./shift_fast <<< \"12\""
   ]
  },
  {
   "cell_type": "markdown",
   "id": "7ebba457",
   "metadata": {
    "vscode": {
     "languageId": "cpp"
    }
   },
   "source": [
    "## Two dimensional arrays"
   ]
  },
  {
   "cell_type": "code",
   "execution_count": 14,
   "id": "6ba42354",
   "metadata": {
    "vscode": {
     "languageId": "cpp"
    }
   },
   "outputs": [
    {
     "name": "stdout",
     "output_type": "stream",
     "text": [
      "Overwriting matrix.cpp\n"
     ]
    }
   ],
   "source": [
    "%%writefile matrix.cpp\n",
    "\n",
    "#include <iostream>\n",
    "using namespace std;\n",
    "\n",
    "int main() {\n",
    "    int Keanu[3][3] = {1, 2, 3, 4, 5};\n",
    "    for (int i = 0; i < 3; i++) {\n",
    "        for (int j = 0; j < 3; j++) {\n",
    "            cout << Keanu[i][j] << \" \";\n",
    "        }\n",
    "        cout << endl;\n",
    "    }\n",
    "    return 0;\n",
    "}"
   ]
  },
  {
   "cell_type": "code",
   "execution_count": 15,
   "id": "f4fb0769",
   "metadata": {
    "vscode": {
     "languageId": "cpp"
    }
   },
   "outputs": [
    {
     "name": "stdout",
     "output_type": "stream",
     "text": [
      "1 2 3 \n",
      "4 5 0 \n",
      "0 0 0 \n"
     ]
    }
   ],
   "source": [
    "%%bash\n",
    "\n",
    "g++-14 -std=c++26 -Wall -Wextra -Wpedantic matrix.cpp -o matrix\n",
    "./matrix"
   ]
  },
  {
   "cell_type": "code",
   "execution_count": 16,
   "id": "da87ce59",
   "metadata": {
    "vscode": {
     "languageId": "cpp"
    }
   },
   "outputs": [
    {
     "name": "stdout",
     "output_type": "stream",
     "text": [
      "Overwriting transpose.cpp\n"
     ]
    }
   ],
   "source": [
    "%%writefile transpose.cpp\n",
    "\n",
    "#include <iostream>\n",
    "using namespace std;\n",
    "\n",
    "int main() {\n",
    "    int Keanu[3][3] = {{1, 2, 3}, {4, 5}, {6}};\n",
    "    int Reeves[3][3] = {};\n",
    "    for (int i = 0; i < 3; i++) {\n",
    "        for (int j = 0; j < 3; j++) {\n",
    "            Reeves[j][i] = Keanu[i][j];\n",
    "        }\n",
    "    }\n",
    "    cout << \"Keanu :\" << endl;\n",
    "    for (int i = 0; i < 3; i++) {\n",
    "        for (int j = 0; j < 3; j++) {\n",
    "            cout << Keanu[i][j];\n",
    "        }\n",
    "        cout << endl;\n",
    "    }\n",
    "    cout << \"Reeves :\" << endl;\n",
    "    for (int i = 0; i < 3; i++) {\n",
    "        for (int j = 0; j < 3; j++) {\n",
    "            cout << Reeves[i][j];\n",
    "        }\n",
    "        cout << endl;\n",
    "    }\n",
    "    return 0;\n",
    "}"
   ]
  },
  {
   "cell_type": "code",
   "execution_count": 17,
   "id": "eabb122e",
   "metadata": {
    "vscode": {
     "languageId": "cpp"
    }
   },
   "outputs": [
    {
     "name": "stdout",
     "output_type": "stream",
     "text": [
      "Keanu :\n",
      "123\n",
      "450\n",
      "600\n",
      "Reeves :\n",
      "146\n",
      "250\n",
      "300\n"
     ]
    }
   ],
   "source": [
    "%%bash\n",
    "\n",
    "g++-14 -std=c++26 -Wall -Wextra -Wpedantic transpose.cpp -o transpose\n",
    "./transpose"
   ]
  },
  {
   "cell_type": "code",
   "execution_count": 18,
   "id": "59b5b787",
   "metadata": {
    "vscode": {
     "languageId": "cpp"
    }
   },
   "outputs": [
    {
     "name": "stdout",
     "output_type": "stream",
     "text": [
      "Overwriting rotate.cpp\n"
     ]
    }
   ],
   "source": [
    "%%writefile rotate.cpp\n",
    "\n",
    "#include <iostream>\n",
    "using namespace std;\n",
    "\n",
    "int main() {\n",
    "    int Keanu[3][3] = {{1, 2, 3}, {4, 5, 6}, {7, 8, 9}};\n",
    "    int Reeves[3][3] = {};\n",
    "    for (int i = 0; i < 3; i++) {\n",
    "        for (int j = 0; j < 3; j++) {\n",
    "            Reeves[j][2 - i] = Keanu[i][j];\n",
    "        }\n",
    "    }\n",
    "    cout << \"Keanu :\" << endl;\n",
    "    for (int i = 0; i < 3; i++) {\n",
    "        for (int j = 0; j < 3; j++) {\n",
    "            cout << Keanu[i][j];\n",
    "        }\n",
    "        cout << endl;\n",
    "    }\n",
    "    cout << \"Reeves :\" << endl;\n",
    "    for (int i = 0; i < 3; i++) {\n",
    "        for (int j = 0; j < 3; j++) {\n",
    "            cout << Reeves[i][j];\n",
    "        }\n",
    "        cout << endl;\n",
    "    }\n",
    "    return 0;\n",
    "}"
   ]
  },
  {
   "cell_type": "code",
   "execution_count": 19,
   "id": "5f422cd3",
   "metadata": {
    "vscode": {
     "languageId": "cpp"
    }
   },
   "outputs": [
    {
     "name": "stdout",
     "output_type": "stream",
     "text": [
      "Keanu :\n",
      "123\n",
      "456\n",
      "789\n",
      "Reeves :\n",
      "741\n",
      "852\n",
      "963\n"
     ]
    }
   ],
   "source": [
    "%%bash\n",
    "\n",
    "g++-14 -std=c++26 -Wall -Wextra -Wpedantic rotate.cpp -o rotate\n",
    "./rotate"
   ]
  },
  {
   "cell_type": "markdown",
   "id": "5a7b678a",
   "metadata": {
    "vscode": {
     "languageId": "cpp"
    }
   },
   "source": [
    "## Prime numbers"
   ]
  },
  {
   "cell_type": "code",
   "execution_count": 20,
   "id": "4f19bc32",
   "metadata": {
    "vscode": {
     "languageId": "cpp"
    }
   },
   "outputs": [
    {
     "name": "stdout",
     "output_type": "stream",
     "text": [
      "Overwriting prime.cpp\n"
     ]
    }
   ],
   "source": [
    "%%writefile prime.cpp\n",
    "\n",
    "#include <iostream>\n",
    "using namespace std;\n",
    "\n",
    "int main() {\n",
    "    int Primes[100] = {};\n",
    "    int n_prime = 0;\n",
    "    for (int n = 2; n < 10000000; n++) {\n",
    "        bool is_prime = true;\n",
    "        for (int i = 0; i < n_prime; i++) {\n",
    "            if (n % Primes[i] == 0) {\n",
    "                is_prime = false;\n",
    "                break;\n",
    "            }\n",
    "        }\n",
    "        if (is_prime) {\n",
    "            Primes[n_prime] = n;\n",
    "            n_prime++;\n",
    "        }\n",
    "    }\n",
    "    for (int k = 0; k < 100; k++) {\n",
    "        cout << Primes[k] << ' ';\n",
    "    }\n",
    "    return 0;\n",
    "}"
   ]
  },
  {
   "cell_type": "code",
   "execution_count": 21,
   "id": "f2fe80df",
   "metadata": {
    "vscode": {
     "languageId": "cpp"
    }
   },
   "outputs": [
    {
     "name": "stdout",
     "output_type": "stream",
     "text": [
      "2 3 5 7 11 13 17 19 23 29 31 37 41 43 47 53 59 61 67 71 73 79 83 89 97 101 103 107 109 113 127 131 137 139 149 151 157 163 167 173 179 181 191 193 197 199 211 223 227 229 233 239 241 251 257 263 269 271 277 281 283 293 307 311 313 317 331 337 347 349 353 359 367 373 379 383 389 397 401 409 419 421 431 433 439 443 449 457 461 463 467 479 487 491 499 503 509 521 523 541 "
     ]
    }
   ],
   "source": [
    "%%bash\n",
    "\n",
    "g++-14 -std=c++26 -Wall -Wextra -Wpedantic prime.cpp -o prime\n",
    "./prime"
   ]
  },
  {
   "cell_type": "code",
   "execution_count": 22,
   "id": "5def7b06",
   "metadata": {
    "vscode": {
     "languageId": "cpp"
    }
   },
   "outputs": [
    {
     "data": {
      "text/plain": [
       "[2,\n",
       " 3,\n",
       " 5,\n",
       " 7,\n",
       " 11,\n",
       " 13,\n",
       " 17,\n",
       " 19,\n",
       " 23,\n",
       " 29,\n",
       " 31,\n",
       " 37,\n",
       " 41,\n",
       " 43,\n",
       " 47,\n",
       " 53,\n",
       " 59,\n",
       " 61,\n",
       " 67,\n",
       " 71,\n",
       " 73,\n",
       " 79,\n",
       " 83,\n",
       " 89,\n",
       " 97,\n",
       " 101,\n",
       " 103,\n",
       " 107,\n",
       " 109,\n",
       " 113,\n",
       " 127,\n",
       " 131,\n",
       " 137,\n",
       " 139,\n",
       " 149,\n",
       " 151,\n",
       " 157,\n",
       " 163,\n",
       " 167,\n",
       " 173,\n",
       " 179,\n",
       " 181,\n",
       " 191,\n",
       " 193,\n",
       " 197,\n",
       " 199,\n",
       " 211,\n",
       " 223,\n",
       " 227,\n",
       " 229,\n",
       " 233,\n",
       " 239,\n",
       " 241,\n",
       " 251,\n",
       " 257,\n",
       " 263,\n",
       " 269,\n",
       " 271,\n",
       " 277,\n",
       " 281,\n",
       " 283,\n",
       " 293,\n",
       " 307,\n",
       " 311,\n",
       " 313,\n",
       " 317,\n",
       " 331,\n",
       " 337,\n",
       " 347,\n",
       " 349,\n",
       " 353,\n",
       " 359,\n",
       " 367,\n",
       " 373,\n",
       " 379,\n",
       " 383,\n",
       " 389,\n",
       " 397,\n",
       " 401,\n",
       " 409,\n",
       " 419,\n",
       " 421,\n",
       " 431,\n",
       " 433,\n",
       " 439,\n",
       " 443,\n",
       " 449,\n",
       " 457,\n",
       " 461,\n",
       " 463,\n",
       " 467,\n",
       " 479,\n",
       " 487,\n",
       " 491,\n",
       " 499,\n",
       " 503,\n",
       " 509,\n",
       " 521,\n",
       " 523,\n",
       " 541]"
      ]
     },
     "execution_count": 22,
     "metadata": {},
     "output_type": "execute_result"
    }
   ],
   "source": [
    "list(primes(542))"
   ]
  },
  {
   "cell_type": "markdown",
   "id": "086bb4be",
   "metadata": {
    "vscode": {
     "languageId": "cpp"
    }
   },
   "source": [
    "## Binomial coefficient"
   ]
  },
  {
   "cell_type": "code",
   "execution_count": 23,
   "id": "dfbfed99",
   "metadata": {
    "vscode": {
     "languageId": "cpp"
    }
   },
   "outputs": [
    {
     "name": "stdout",
     "output_type": "stream",
     "text": [
      "Overwriting binom.cpp\n"
     ]
    }
   ],
   "source": [
    "%%writefile binom.cpp\n",
    "\n",
    "#include <iostream>\n",
    "using namespace std;\n",
    "\n",
    "int main() {\n",
    "    int Pascal[20][20] = {};\n",
    "    for (int n = 0; n < 20; n++) {\n",
    "        for (int k = 0; k <= n; k++) {\n",
    "            if (k == 0 || k == n) {\n",
    "                Pascal[n][k] = 1;\n",
    "            } else {\n",
    "                Pascal[n][k] = Pascal[n-1][k-1] + Pascal[n-1][k];\n",
    "            }\n",
    "        }\n",
    "    }\n",
    "    for (int a = 0; a < 20; a++) {\n",
    "        for (int b = 0; b <= a; b++) {\n",
    "            cout << Pascal[a][b] << ' ';\n",
    "        }\n",
    "        cout << endl;\n",
    "    }\n",
    "    return 0;\n",
    "}"
   ]
  },
  {
   "cell_type": "code",
   "execution_count": 24,
   "id": "f6910e68",
   "metadata": {
    "vscode": {
     "languageId": "cpp"
    }
   },
   "outputs": [
    {
     "name": "stdout",
     "output_type": "stream",
     "text": [
      "1 \n",
      "1 1 \n",
      "1 2 1 \n",
      "1 3 3 1 \n",
      "1 4 6 4 1 \n",
      "1 5 10 10 5 1 \n",
      "1 6 15 20 15 6 1 \n",
      "1 7 21 35 35 21 7 1 \n",
      "1 8 28 56 70 56 28 8 1 \n",
      "1 9 36 84 126 126 84 36 9 1 \n",
      "1 10 45 120 210 252 210 120 45 10 1 \n",
      "1 11 55 165 330 462 462 330 165 55 11 1 \n",
      "1 12 66 220 495 792 924 792 495 220 66 12 1 \n",
      "1 13 78 286 715 1287 1716 1716 1287 715 286 78 13 1 \n",
      "1 14 91 364 1001 2002 3003 3432 3003 2002 1001 364 91 14 1 \n",
      "1 15 105 455 1365 3003 5005 6435 6435 5005 3003 1365 455 105 15 1 \n",
      "1 16 120 560 1820 4368 8008 11440 12870 11440 8008 4368 1820 560 120 16 1 \n",
      "1 17 136 680 2380 6188 12376 19448 24310 24310 19448 12376 6188 2380 680 136 17 1 \n",
      "1 18 153 816 3060 8568 18564 31824 43758 48620 43758 31824 18564 8568 3060 816 153 18 1 \n",
      "1 19 171 969 3876 11628 27132 50388 75582 92378 92378 75582 50388 27132 11628 3876 969 171 19 1 \n"
     ]
    }
   ],
   "source": [
    "%%bash\n",
    "\n",
    "g++-14 -std=c++26 -Wall -Wextra -Wpedantic binom.cpp -o binom\n",
    "./binom"
   ]
  },
  {
   "cell_type": "code",
   "execution_count": 25,
   "id": "b63f2922",
   "metadata": {
    "vscode": {
     "languageId": "cpp"
    }
   },
   "outputs": [
    {
     "name": "stdout",
     "output_type": "stream",
     "text": [
      "1 \n",
      "1 1 \n",
      "1 2 1 \n",
      "1 3 3 1 \n",
      "1 4 6 4 1 \n",
      "1 5 10 10 5 1 \n",
      "1 6 15 20 15 6 1 \n",
      "1 7 21 35 35 21 7 1 \n",
      "1 8 28 56 70 56 28 8 1 \n",
      "1 9 36 84 126 126 84 36 9 1 \n",
      "1 10 45 120 210 252 210 120 45 10 1 \n",
      "1 11 55 165 330 462 462 330 165 55 11 1 \n",
      "1 12 66 220 495 792 924 792 495 220 66 12 1 \n",
      "1 13 78 286 715 1287 1716 1716 1287 715 286 78 13 1 \n",
      "1 14 91 364 1001 2002 3003 3432 3003 2002 1001 364 91 14 1 \n",
      "1 15 105 455 1365 3003 5005 6435 6435 5005 3003 1365 455 105 15 1 \n",
      "1 16 120 560 1820 4368 8008 11440 12870 11440 8008 4368 1820 560 120 16 1 \n",
      "1 17 136 680 2380 6188 12376 19448 24310 24310 19448 12376 6188 2380 680 136 17 1 \n",
      "1 18 153 816 3060 8568 18564 31824 43758 48620 43758 31824 18564 8568 3060 816 153 18 1 \n",
      "1 19 171 969 3876 11628 27132 50388 75582 92378 92378 75582 50388 27132 11628 3876 969 171 19 1 \n"
     ]
    }
   ],
   "source": [
    "for n in range(20):\n",
    "    for k in range(n + 1):\n",
    "        print(binomial(n, k), end=' ')\n",
    "    print()"
   ]
  },
  {
   "cell_type": "markdown",
   "id": "f5616702",
   "metadata": {
    "vscode": {
     "languageId": "cpp"
    }
   },
   "source": [
    "Another way to compute the binomial coefficient is by the definition\n",
    "$\\binom nk = \\frac{n!}{k! (n-k)!}$.\n",
    "\n",
    "But computing $n!$ is dangerous because it might overflow\n",
    "even though \\binom nk does not overflow.\n",
    "So we can instead use the recurrence relation\n",
    "$\\binom nk = \\binom{n-1}{k-1} \\cdot \\frac nk$."
   ]
  },
  {
   "cell_type": "markdown",
   "id": "1b0306d1",
   "metadata": {},
   "source": [
    "## Array summary"
   ]
  },
  {
   "cell_type": "code",
   "execution_count": 26,
   "id": "9e061c97",
   "metadata": {
    "vscode": {
     "languageId": "cpp"
    }
   },
   "outputs": [
    {
     "name": "stdout",
     "output_type": "stream",
     "text": [
      "Overwriting summary.cpp\n"
     ]
    }
   ],
   "source": [
    "%%writefile summary.cpp\n",
    "\n",
    "#include <iostream>\n",
    "using namespace std;\n",
    "\n",
    "int main() {\n",
    "    int CocoMelon[100];\n",
    "    for (int i = 0; i < 100; i++) {\n",
    "        CocoMelon[i] = i;\n",
    "    }\n",
    "    int sum = 0;\n",
    "    int min = CocoMelon[0];\n",
    "    int max = CocoMelon[0];\n",
    "    for (int i = 0; i < 100; i++) {\n",
    "        sum += CocoMelon[i];\n",
    "        if (CocoMelon[i] < min) {\n",
    "            min = CocoMelon[i];\n",
    "        }\n",
    "        if (CocoMelon[i] > max) {\n",
    "            max = CocoMelon[i];\n",
    "        }\n",
    "    }\n",
    "    cout << \"Sum: \" << sum << endl;\n",
    "    cout << \"Average: \" << double(sum) / 100 << endl;\n",
    "    cout << \"Min: \" << min << endl;\n",
    "    cout << \"Max: \" << max << endl;\n",
    "    return 0;\n",
    "}"
   ]
  },
  {
   "cell_type": "code",
   "execution_count": 27,
   "id": "6615fb95",
   "metadata": {
    "vscode": {
     "languageId": "cpp"
    }
   },
   "outputs": [
    {
     "name": "stdout",
     "output_type": "stream",
     "text": [
      "Sum: 4950\n",
      "Average: 49.5\n",
      "Min: 0\n",
      "Max: 99\n"
     ]
    }
   ],
   "source": [
    "%%bash\n",
    "\n",
    "g++-14 -std=c++26 -Wall -Wextra -Wpedantic summary.cpp -o summary\n",
    "./summary"
   ]
  },
  {
   "cell_type": "markdown",
   "id": "91b7bd26",
   "metadata": {
    "vscode": {
     "languageId": "cpp"
    }
   },
   "source": [
    "## Sorting"
   ]
  },
  {
   "cell_type": "code",
   "execution_count": 28,
   "id": "b387acae",
   "metadata": {
    "vscode": {
     "languageId": "cpp"
    }
   },
   "outputs": [
    {
     "name": "stdout",
     "output_type": "stream",
     "text": [
      "Overwriting sort.cpp\n"
     ]
    }
   ],
   "source": [
    "%%writefile sort.cpp\n",
    "\n",
    "#include <iostream>\n",
    "using namespace std;\n",
    "\n",
    "int main() {\n",
    "    int CocoMelon[100];\n",
    "    for (int i = 0; i < 100; i++) {\n",
    "        CocoMelon[i] = (i * 37 + 50) % 100;\n",
    "        cout << CocoMelon[i] << \" \";\n",
    "    }\n",
    "    cout << endl;\n",
    "    bool sorted = false;\n",
    "    while (!sorted) {\n",
    "        sorted = true;\n",
    "        for (int i = 0; i < 99; i++) {\n",
    "            if (CocoMelon[i] > CocoMelon[i + 1]) {\n",
    "                int a = CocoMelon[i];\n",
    "                int b = CocoMelon[i + 1];\n",
    "                CocoMelon[i] = b;\n",
    "                CocoMelon[i + 1] = a;\n",
    "                sorted = false;\n",
    "            }\n",
    "        }\n",
    "    }\n",
    "    for (int i = 0; i < 100; i++) {\n",
    "        cout << CocoMelon[i] << \" \";\n",
    "    }\n",
    "    return 0;\n",
    "}"
   ]
  },
  {
   "cell_type": "code",
   "execution_count": 29,
   "id": "8bf6258a",
   "metadata": {
    "vscode": {
     "languageId": "cpp"
    }
   },
   "outputs": [
    {
     "name": "stdout",
     "output_type": "stream",
     "text": [
      "50 87 24 61 98 35 72 9 46 83 20 57 94 31 68 5 42 79 16 53 90 27 64 1 38 75 12 49 86 23 60 97 34 71 8 45 82 19 56 93 30 67 4 41 78 15 52 89 26 63 0 37 74 11 48 85 22 59 96 33 70 7 44 81 18 55 92 29 66 3 40 77 14 51 88 25 62 99 36 73 10 47 84 21 58 95 32 69 6 43 80 17 54 91 28 65 2 39 76 13 \n",
      "0 1 2 3 4 5 6 7 8 9 10 11 12 13 14 15 16 17 18 19 20 21 22 23 24 25 26 27 28 29 30 31 32 33 34 35 36 37 38 39 40 41 42 43 44 45 46 47 48 49 50 51 52 53 54 55 56 57 58 59 60 61 62 63 64 65 66 67 68 69 70 71 72 73 74 75 76 77 78 79 80 81 82 83 84 85 86 87 88 89 90 91 92 93 94 95 96 97 98 99 "
     ]
    }
   ],
   "source": [
    "%%bash\n",
    "\n",
    "g++-14 -std=c++26 -Wall -Wextra -Wpedantic sort.cpp -o sort\n",
    "./sort"
   ]
  },
  {
   "cell_type": "markdown",
   "id": "0d0875b9",
   "metadata": {},
   "source": [
    "## Vote counting"
   ]
  },
  {
   "cell_type": "code",
   "execution_count": 30,
   "id": "9e818701",
   "metadata": {
    "vscode": {
     "languageId": "cpp"
    }
   },
   "outputs": [
    {
     "name": "stdout",
     "output_type": "stream",
     "text": [
      "Overwriting vote.cpp\n"
     ]
    }
   ],
   "source": [
    "%%writefile vote.cpp\n",
    "\n",
    "#include <iostream>\n",
    "#include <random>\n",
    "using namespace std;\n",
    "\n",
    "int main() {\n",
    "    mt19937 m7(20250917);\n",
    "    int Votes[5] = {};\n",
    "    for (int i = 0; i < 100; i++) {\n",
    "        int vote = m7() % 5;\n",
    "        Votes[vote]++;\n",
    "    }\n",
    "    for (int i = 0; i < 5; i++) {\n",
    "        cout << \"Candidate \" << i\n",
    "        << \" received \" << Votes[i] << \" votes.\" << endl;\n",
    "    }\n",
    "    return 0;\n",
    "}"
   ]
  },
  {
   "cell_type": "code",
   "execution_count": 31,
   "id": "71647e7b",
   "metadata": {
    "vscode": {
     "languageId": "cpp"
    }
   },
   "outputs": [
    {
     "name": "stdout",
     "output_type": "stream",
     "text": [
      "Candidate 0 received 27 votes.\n",
      "Candidate 1 received 15 votes.\n",
      "Candidate 2 received 21 votes.\n",
      "Candidate 3 received 22 votes.\n",
      "Candidate 4 received 15 votes.\n"
     ]
    }
   ],
   "source": [
    "%%bash\n",
    "\n",
    "g++-14 -std=c++26 -Wall -Wextra -Wpedantic vote.cpp -o vote\n",
    "./vote"
   ]
  },
  {
   "cell_type": "markdown",
   "id": "23e25433",
   "metadata": {
    "vscode": {
     "languageId": "cpp"
    }
   },
   "source": [
    "## Matrix multiplication"
   ]
  },
  {
   "cell_type": "code",
   "execution_count": 32,
   "id": "b80821cc",
   "metadata": {
    "vscode": {
     "languageId": "cpp"
    }
   },
   "outputs": [
    {
     "name": "stdout",
     "output_type": "stream",
     "text": [
      "Overwriting matrix.cpp\n"
     ]
    }
   ],
   "source": [
    "%%writefile matrix.cpp\n",
    "\n",
    "#include <iostream>\n",
    "using namespace std;\n",
    "\n",
    "int main() {\n",
    "    int A[3][3] = {1, 2, 3, 4, 5, 6, 7, 8, 9};\n",
    "    int B[3][3] = {10, 11, 12, 13, 14, 15, 16, 17, 18};\n",
    "    int C[3][3] = {};\n",
    "    for (int i = 0; i < 3; i++) {\n",
    "        for (int j = 0; j < 3; j++) {\n",
    "            for (int k = 0; k < 3; k++) {\n",
    "                C[i][k] += A[i][j] * B[j][k];\n",
    "            }\n",
    "        }\n",
    "    }\n",
    "    for (int i = 0; i < 3; i++) {\n",
    "        for (int j = 0; j < 3; j++) {\n",
    "            cout << C[i][j] << \" \";\n",
    "        }\n",
    "        cout << endl;\n",
    "    }\n",
    "    return 0;\n",
    "}"
   ]
  },
  {
   "cell_type": "code",
   "execution_count": 33,
   "id": "1c2f22a4",
   "metadata": {
    "vscode": {
     "languageId": "cpp"
    }
   },
   "outputs": [
    {
     "name": "stdout",
     "output_type": "stream",
     "text": [
      "84 90 96 \n",
      "201 216 231 \n",
      "318 342 366 \n"
     ]
    }
   ],
   "source": [
    "%%bash\n",
    "\n",
    "g++-14 -std=c++26 -Wall -Wextra -Wpedantic matrix.cpp -o matrix\n",
    "./matrix"
   ]
  },
  {
   "cell_type": "code",
   "execution_count": 34,
   "id": "510d137d",
   "metadata": {
    "vscode": {
     "languageId": "cpp"
    }
   },
   "outputs": [
    {
     "data": {
      "text/plain": [
       "[ 84  90  96]\n",
       "[201 216 231]\n",
       "[318 342 366]"
      ]
     },
     "execution_count": 34,
     "metadata": {},
     "output_type": "execute_result"
    }
   ],
   "source": [
    "A = matrix([\n",
    "    [1, 2, 3],\n",
    "    [4, 5, 6],\n",
    "    [7, 8, 9]\n",
    "])\n",
    "B = matrix([\n",
    "    [10, 11, 12],\n",
    "    [13, 14, 15],\n",
    "    [16, 17, 18]\n",
    "])\n",
    "A * B"
   ]
  },
  {
   "cell_type": "markdown",
   "id": "d443a677",
   "metadata": {
    "vscode": {
     "languageId": "cpp"
    }
   },
   "source": [
    "# RREF (no pivoting)"
   ]
  },
  {
   "cell_type": "code",
   "execution_count": 35,
   "id": "e741fbf3",
   "metadata": {
    "vscode": {
     "languageId": "cpp"
    }
   },
   "outputs": [
    {
     "name": "stdout",
     "output_type": "stream",
     "text": [
      "Overwriting rref.cpp\n"
     ]
    }
   ],
   "source": [
    "%%writefile rref.cpp\n",
    "\n",
    "#include <iostream>\n",
    "#include <cmath>\n",
    "using namespace std;\n",
    "\n",
    "int main() {\n",
    "    float A[3][3] = {};\n",
    "    for (int i = 0; i < 3; i++) {\n",
    "        for (int j = 0; j < 3; j++) {\n",
    "            A[i][j] = (7 * i + 3 * j + 5) % 13;\n",
    "        }\n",
    "    }\n",
    "    for (int i = 0; i < 3; i++) {\n",
    "        for (int k = 0; k < 3; k++) {\n",
    "            cout << A[i][k] << ' ';\n",
    "        }\n",
    "        cout << endl;\n",
    "    }\n",
    "    for (int i = 0; i < 3; i++) { // index of pivot\n",
    "        for (int j = i + 1; j < 3; j++) { // index of row being eliminated\n",
    "            float ratio = A[j][i] / A[i][i];\n",
    "            for (int k = 0; k < 3; k++) { // index of column being eliminated\n",
    "                A[j][k] -= ratio * A[i][k];\n",
    "            }\n",
    "        }\n",
    "    }\n",
    "    cout << \"After gaussian elimination\" << endl;\n",
    "    for (int i = 0; i < 3; i++) {\n",
    "        for (int k = 0; k < 3; k++) {\n",
    "            cout << A[i][k] << ' ';\n",
    "        }\n",
    "        cout << endl;\n",
    "    }\n",
    "    cout << \"Determinant \" << A[0][0] * A[1][1] * A[2][2];\n",
    "    return 0;\n",
    "}"
   ]
  },
  {
   "cell_type": "code",
   "execution_count": 36,
   "id": "0c13e9f7",
   "metadata": {
    "vscode": {
     "languageId": "cpp"
    }
   },
   "outputs": [
    {
     "name": "stdout",
     "output_type": "stream",
     "text": [
      "5 8 11 \n",
      "12 2 5 \n",
      "6 9 12 \n",
      "After gaussian elimination\n",
      "5 8 11 \n",
      "0 -17.2 -21.4 \n",
      "0 0 -0.453489 \n",
      "Determinant 39"
     ]
    }
   ],
   "source": [
    "%%bash\n",
    "\n",
    "g++-14 -std=c++26 -Wall -Wextra -Wpedantic rref.cpp -o rref\n",
    "./rref"
   ]
  },
  {
   "cell_type": "code",
   "execution_count": 37,
   "id": "e82928e4",
   "metadata": {
    "vscode": {
     "languageId": "cpp"
    }
   },
   "outputs": [
    {
     "data": {
      "text/plain": [
       "[ 5  8 11]\n",
       "[12  2  5]\n",
       "[ 6  9 12]"
      ]
     },
     "execution_count": 37,
     "metadata": {},
     "output_type": "execute_result"
    }
   ],
   "source": [
    "f = lambda i, j: (7 * i + 3 * j + 5) % 13\n",
    "A = matrix(3, 3, f)\n",
    "A"
   ]
  },
  {
   "cell_type": "code",
   "execution_count": 38,
   "id": "4c08b4d4",
   "metadata": {
    "vscode": {
     "languageId": "cpp"
    }
   },
   "outputs": [
    {
     "data": {
      "text/plain": [
       "[  5.00000000000000   8.00000000000000   11.0000000000000]\n",
       "[ 0.000000000000000  -17.2000000000000  -21.4000000000000]\n",
       "[ 0.000000000000000  0.000000000000000 -0.453488372093023]"
      ]
     },
     "execution_count": 38,
     "metadata": {},
     "output_type": "execute_result"
    }
   ],
   "source": [
    "P, L, U = A.LU(pivot='nonzero')\n",
    "matrix(RR, U)"
   ]
  },
  {
   "cell_type": "markdown",
   "id": "061605ff",
   "metadata": {
    "vscode": {
     "languageId": "cpp"
    }
   },
   "source": [
    "## Convex hull"
   ]
  },
  {
   "cell_type": "code",
   "execution_count": 39,
   "id": "ef86e173",
   "metadata": {
    "vscode": {
     "languageId": "cpp"
    }
   },
   "outputs": [
    {
     "name": "stdout",
     "output_type": "stream",
     "text": [
      "Overwriting arch.cpp\n"
     ]
    }
   ],
   "source": [
    "%%writefile arch.cpp\n",
    "\n",
    "#include <iostream>\n",
    "#include <random>\n",
    "#include <unistd.h>\n",
    "using namespace std;\n",
    "\n",
    "int main() {\n",
    "    mt19937 m7(20250917);\n",
    "    float Arch[20] = {};\n",
    "    for (int i = 0; i < 20; i++) {\n",
    "        int height = i * (20 - i) + 10;\n",
    "        int height_random = m7() % height;\n",
    "        Arch[i] = height_random;\n",
    "    }\n",
    "    bool converging = false;\n",
    "    while (!converging) {\n",
    "        for (int i = 0; i < 20; i++) {\n",
    "            for (int j = 0; j < Arch[i]; j++) {\n",
    "                cout << \")\";\n",
    "            }\n",
    "            cout << endl;\n",
    "        }\n",
    "        sleep(1);\n",
    "        converging = true;\n",
    "        for (int i = 1; i < 20 - 1; i++) {\n",
    "            float a = Arch[i - 1];\n",
    "            float b = Arch[i];\n",
    "            float c = Arch[i + 1];\n",
    "            if (a + c > 2 * b + 1e-2) {\n",
    "                b = (a + c) / 2;\n",
    "                Arch[i] = b;\n",
    "                converging = false;\n",
    "            }\n",
    "        }\n",
    "    }\n",
    "    return 0;\n",
    "}"
   ]
  },
  {
   "cell_type": "code",
   "execution_count": 40,
   "id": "0f389411",
   "metadata": {
    "vscode": {
     "languageId": "cpp"
    }
   },
   "outputs": [
    {
     "name": "stdout",
     "output_type": "stream",
     "text": [
      "run this on terminal, not here\n"
     ]
    }
   ],
   "source": [
    "%%bash\n",
    "\n",
    "g++-14 -std=c++26 -Wall -Wextra -Wpedantic arch.cpp -o arch\n",
    "echo \"run this on terminal, not here\""
   ]
  },
  {
   "cell_type": "markdown",
   "id": "b24741da",
   "metadata": {
    "vscode": {
     "languageId": "cpp"
    }
   },
   "source": [
    "## PDE"
   ]
  },
  {
   "cell_type": "markdown",
   "id": "4359d9fb",
   "metadata": {
    "vscode": {
     "languageId": "cpp"
    }
   },
   "source": [
    "This is what a high-end CPU looks like from side view.\n",
    "\n",
    "```C++\n",
    "    int Fins[15][10] = {\n",
    "        {0, 1, 0, 1, 0, 1, 0, 1, 0, 1, 0, 1, 0, 1, 0}, \n",
    "        {0, 1, 0, 1, 0, 1, 0, 1, 0, 1, 0, 1, 0, 1, 0}, \n",
    "        {0, 1, 0, 1, 0, 1, 0, 1, 0, 1, 0, 1, 0, 1, 0}, \n",
    "        {0, 1, 0, 1, 0, 1, 0, 1, 0, 1, 0, 1, 0, 1, 0}, \n",
    "        {0, 1, 0, 1, 0, 1, 0, 1, 0, 1, 0, 1, 0, 1, 0}, \n",
    "        {0, 1, 0, 1, 0, 1, 0, 1, 0, 1, 0, 1, 0, 1, 0}, \n",
    "        {0, 1, 0, 1, 0, 1, 0, 1, 0, 1, 0, 1, 0, 1, 0}, \n",
    "        {0, 1, 0, 1, 0, 1, 0, 1, 0, 1, 0, 1, 0, 1, 0}, \n",
    "        {1, 1, 1, 1, 1, 1, 1, 1, 1, 1, 1, 1, 1, 1, 1}, \n",
    "        {2, 2, 2, 2, 2, 2, 2, 2, 2, 2, 2, 2, 2, 2, 2}, \n",
    "    } \n",
    "```\n",
    "\n",
    "Here `2` is the actual CPU that generates heat,\n",
    "`1` is the fins, and `0` is the air."
   ]
  },
  {
   "cell_type": "markdown",
   "id": "ac3b8879",
   "metadata": {
    "vscode": {
     "languageId": "plaintext"
    }
   },
   "source": [
    "CPU generates heat at a rate of $g^\\circ$ C per second per unit length squared.\n",
    "Within CPU, heat transfers at a rate of $(\\delta/50)^\\circ$ C per second per unit length,\n",
    "where $\\delta$ is the temperature difference.\n",
    "At the contact surface between the CPU and the fins,\n",
    "heat transfers at a rate of $(\\delta/20)^\\circ$ C per second per unit length.\n",
    "Within the fin, heat transfers at a rate of $(\\delta/10)^\\circ$ C per second per unit length.\n",
    "At the contact surface between the fins and the air,\n",
    "heat transfers at a rate of $(\\delta/100)^\\circ$ C per second per unit length.\n",
    "And the air is always at $30^\\circ$ C.\n",
    "\n",
    "Now you are asked to write a program that takes `double g` as input\n",
    "and outputs the temperature of the hottest point of the CPU after a long long time,\n",
    "so long that the temperature changes by at most $(1/1000000)^\\circ$ C per second.\n"
   ]
  },
  {
   "cell_type": "code",
   "execution_count": null,
   "id": "82524387",
   "metadata": {
    "vscode": {
     "languageId": "cpp"
    }
   },
   "outputs": [
    {
     "name": "stdout",
     "output_type": "stream",
     "text": [
      "Writing fin.cpp\n"
     ]
    }
   ],
   "source": [
    "%%writefile fin.cpp\n",
    "\n",
    "#include <iostream>\n",
    "#include <vector>\n",
    "using namespace std;\n",
    "const int ROWS = 10;\n",
    "const int COLS = 15;\n",
    "\n",
    "int Fins[ROWS][COLS] = {\n",
    "    {0, 1, 0, 1, 0, 1, 0, 1, 0, 1, 0, 1, 0, 1, 0},\n",
    "    {0, 1, 0, 1, 0, 1, 0, 1, 0, 1, 0, 1, 0, 1, 0},\n",
    "    {0, 1, 0, 1, 0, 1, 0, 1, 0, 1, 0, 1, 0, 1, 0},\n",
    "    {0, 1, 0, 1, 0, 1, 0, 1, 0, 1, 0, 1, 0, 1, 0},\n",
    "    {0, 1, 0, 1, 0, 1, 0, 1, 0, 1, 0, 1, 0, 1, 0},\n",
    "    {0, 1, 0, 1, 0, 1, 0, 1, 0, 1, 0, 1, 0, 1, 0},\n",
    "    {0, 1, 0, 1, 0, 1, 0, 1, 0, 1, 0, 1, 0, 1, 0},\n",
    "    {0, 1, 0, 1, 0, 1, 0, 1, 0, 1, 0, 1, 0, 1, 0},\n",
    "    {1, 1, 1, 1, 1, 1, 1, 1, 1, 1, 1, 1, 1, 1, 1},\n",
    "    {2, 2, 2, 2, 2, 2, 2, 2, 2, 2, 2, 2, 2, 2, 2}\n",
    "};\n",
    "\n",
    "double SimulateCpuTemperature(double g) {\n",
    "    // Initialize temperature grid\n",
    "    vector<vector<double>> Temper(ROWS, vector<double>(COLS, 30));\n",
    "    vector<vector<double>> TemNew = Temper;\n",
    "    bool still_cooling = true;\n",
    "    while (still_cooling) {\n",
    "        for (int i = 0; i < ROWS; ++i) {\n",
    "            for (int j = 1; j < COLS; ++j) {\n",
    "                double tdif = Temper[i][j] - Temper[i][j-1];\n",
    "                if (Fins[i][j-1] + Fins[i][j] == 1) { // fin-air\n",
    "                    if (Fins[i][j-1]) TemNew[i][j-1] += tdif / 100.;\n",
    "                    if (Fins[i][j]) TemNew[i][j] -= tdif / 100.;\n",
    "                }\n",
    "                if (Fins[i][j-1] + Fins[i][j] == 2) { // fin-fin\n",
    "                    TemNew[i][j-1] += tdif / 10.;\n",
    "                    TemNew[i][j] -= tdif / 10.;\n",
    "                }\n",
    "                if (Fins[i][j-1] + Fins[i][j] == 3) { // fin-cpu\n",
    "                    TemNew[i][j-1] += tdif / 20.;\n",
    "                    TemNew[i][j] -= tdif / 20.;\n",
    "                }\n",
    "                if (Fins[i][j-1] + Fins[i][j] == 4) { // cpu-cpu\n",
    "                    TemNew[i][j-1] += tdif / 50.;\n",
    "                    TemNew[i][j] -= tdif / 50.;\n",
    "                }\n",
    "            }\n",
    "        }\n",
    "        for (int i = 1; i < ROWS; ++i) {\n",
    "            for (int j = 0; j < COLS; ++j) {\n",
    "                double tdif = Temper[i][j] - Temper[i-1][j];\n",
    "                if (Fins[i-1][j] + Fins[i][j] == 1) { // fin-air\n",
    "                    if (Fins[i-1][j]) TemNew[i-1][j] += tdif / 100.;\n",
    "                    if (Fins[i][j]) TemNew[i][j] -= tdif / 100.;\n",
    "                }\n",
    "                if (Fins[i-1][j] + Fins[i][j] == 2) { // fin-fin\n",
    "                    TemNew[i-1][j] += tdif / 10.;\n",
    "                    TemNew[i][j] -= tdif / 10.;\n",
    "                }\n",
    "                if (Fins[i-1][j] + Fins[i][j] == 3) { // fin-cpu\n",
    "                    TemNew[i-1][j] += tdif / 20.;\n",
    "                    TemNew[i][j] -= tdif / 20.;\n",
    "                }\n",
    "                if (Fins[i-1][j] + Fins[i][j] == 4) { // cpu-cpu\n",
    "                    TemNew[i-1][j] += tdif / 50.;\n",
    "                    TemNew[i][j] -= tdif / 50.;\n",
    "                }\n",
    "            }\n",
    "        }\n",
    "\n",
    "        still_cooling = false;\n",
    "        for (int j = 0; j < COLS; j++) {\n",
    "            if (Fins[9][j] != 2) break;\n",
    "            TemNew[9][j] += g;\n",
    "            if (abs(TemNew[9][j] - Temper[9][j]) > 1e-6) {\n",
    "                still_cooling = true;\n",
    "            }\n",
    "        }\n",
    "        Temper = TemNew;\n",
    "    }\n",
    "\n",
    "    for (int i = 0; i < ROWS; ++i) {\n",
    "        for (int j = 0; j < COLS; ++j) {\n",
    "            cout << Temper[i][j] << \" \";\n",
    "        }\n",
    "        cout << endl;\n",
    "    }\n",
    "\n",
    "    double max_cpu_temp = 30;\n",
    "    for (int j = 0; j < COLS; ++j) {\n",
    "        max_cpu_temp = max(max_cpu_temp, Temper[9][j]);\n",
    "    }\n",
    "    return max_cpu_temp;\n",
    "}\n",
    "\n",
    "int main() {\n",
    "    double TestingCases[10] = {0.15, 0.25, 0.35, 0.45, 0.55, 0.65, 0.75, 0.85, 0.95, 1.05};\n",
    "    // double TestingCases[10] = {0.1, 0.2, 0.3, 0.4, 0.5, 0.6, 0.7, 0.8, 0.9, 1.0};\n",
    "    double Answers[10] = {40.4425, 47.4043, 54.366, 61.3278, 68.2896, 75.2513, 82.2131, 89.1748, 96.1366, 103.098};\n",
    "    for (int ndx = 0; ndx < 10; ndx ++) {\n",
    "        double g = TestingCases[ndx];\n",
    "        double hottest = SimulateCpuTemperature(g);\n",
    "        cout << int((hottest - Answers[ndx]) * 10000) << \"/10000\";\n",
    "        cout << \"   g: \" << g << \" --> Hottest: \" << hottest << \"\\n\";\n",
    "    }\n",
    "    return 0;\n",
    "}\n",
    "/*\n",
    " * 0.1 --> 42.52\n",
    " * 0.2 --> 55.0403\n",
    " * 0.3 --> 67.5607\n",
    " * 0.4 --> 80.0811\n",
    " * 0.5 --> 92.6014\n",
    " * 0.6 --> 105.122\n",
    " * 0.7 --> 117.642\n",
    " * 0.8 --> 130.163\n",
    " * 0.9 --> 142.683\n",
    " * 1.0 --> 155.203\n",
    " */"
   ]
  },
  {
   "cell_type": "code",
   "execution_count": 45,
   "id": "b4045f92",
   "metadata": {
    "vscode": {
     "languageId": "cpp"
    }
   },
   "outputs": [
    {
     "name": "stdout",
     "output_type": "stream",
     "text": [
      "30 30.3269 30 30.3147 30 30.31 30 30.3087 30 30.31 30 30.3147 30 30.3269 30 \n",
      "30 30.3922 30 30.3777 30 30.3719 30 30.3704 30 30.3719 30 30.3777 30 30.3922 30 \n",
      "30 30.5361 30 30.5162 30 30.5083 30 30.5063 30 30.5083 30 30.5162 30 30.5361 30 \n",
      "30 30.7871 30 30.7579 30 30.7464 30 30.7433 30 30.7464 30 30.7579 30 30.7871 30 \n",
      "30 31.1955 30 31.1512 30 31.1337 30 31.1291 30 31.1337 30 31.1512 30 31.1955 30 \n",
      "30 31.8431 30 31.7748 30 31.7478 30 31.7406 30 31.7478 30 31.7748 30 31.8431 30 \n",
      "30 32.8593 30 32.7533 30 32.7114 30 32.7003 30 32.7114 30 32.7533 30 32.8593 30 \n",
      "30 34.4474 30 34.2824 30 34.2173 30 34.2001 30 34.2173 30 34.2824 30 34.4474 30 \n",
      "37.5913 36.9249 37.1632 36.668 36.9908 36.5667 36.9289 36.5399 36.9289 36.5667 36.9908 36.668 37.1632 36.9249 37.5913 \n",
      "40.4425 40.0705 40.0626 39.8035 39.8829 39.6927 39.8174 39.6632 39.8174 39.6927 39.8829 39.8035 40.0626 40.0705 40.4425 \n",
      "0/10000   g: 0.15 --> Hottest: 40.4425\n",
      "30 30.5448 30 30.5246 30 30.5166 30 30.5145 30 30.5166 30 30.5246 30 30.5448 30 \n",
      "30 30.6537 30 30.6295 30 30.6199 30 30.6174 30 30.6199 30 30.6295 30 30.6537 30 \n",
      "30 30.8934 30 30.8603 30 30.8472 30 30.8438 30 30.8472 30 30.8603 30 30.8934 30 \n",
      "30 31.3118 30 31.2632 30 31.244 30 31.2389 30 31.244 30 31.2632 30 31.3118 30 \n",
      "30 31.9926 30 31.9187 30 31.8895 30 31.8818 30 31.8895 30 31.9187 30 31.9926 30 \n",
      "30 33.0719 30 32.9579 30 32.913 30 32.9011 30 32.913 30 32.9579 30 33.0719 30 \n",
      "30 34.7655 30 34.5888 30 34.519 30 34.5006 30 34.519 30 34.5888 30 34.7655 30 \n",
      "30 37.4123 30 37.1374 30 37.0289 30 37.0002 30 37.0289 30 37.1374 30 37.4123 30 \n",
      "42.6523 41.5416 41.9387 41.1135 41.6515 40.9445 41.5483 40.8998 41.5483 40.9445 41.6515 41.1135 41.9387 41.5416 42.6523 \n",
      "47.4043 46.7843 46.7711 46.3392 46.4716 46.1545 46.3624 46.1054 46.3624 46.1545 46.4716 46.3392 46.7711 46.7843 47.4043 \n",
      "0/10000   g: 0.25 --> Hottest: 47.4043\n",
      "30 30.7627 30 30.7344 30 30.7232 30 30.7203 30 30.7232 30 30.7344 30 30.7627 30 \n",
      "30 30.9152 30 30.8813 30 30.8679 30 30.8643 30 30.8679 30 30.8813 30 30.9152 30 \n",
      "30 31.2508 30 31.2044 30 31.1861 30 31.1813 30 31.1861 30 31.2044 30 31.2508 30 \n",
      "30 31.8366 30 31.7685 30 31.7416 30 31.7345 30 31.7416 30 31.7685 30 31.8366 30 \n",
      "30 32.7896 30 32.6862 30 32.6453 30 32.6345 30 32.6453 30 32.6862 30 32.7896 30 \n",
      "30 34.3006 30 34.1411 30 34.0782 30 34.0615 30 34.0782 30 34.1411 30 34.3006 30 \n",
      "30 36.6718 30 36.4243 30 36.3267 30 36.3008 30 36.3267 30 36.4243 30 36.6718 30 \n",
      "30 40.3773 30 39.9924 30 39.8405 30 39.8003 30 39.8405 30 39.9924 30 40.3773 30 \n",
      "47.7133 46.1582 46.7142 45.5589 46.3121 45.3224 46.1676 45.2598 46.1676 45.3224 46.3121 45.5589 46.7142 46.1582 47.7133 \n",
      "54.366 53.498 53.4796 52.8749 53.0603 52.6164 52.9073 52.5476 52.9073 52.6164 53.0603 52.8749 53.4796 53.498 54.366 \n",
      "0/10000   g: 0.35 --> Hottest: 54.366\n",
      "30 30.9806 30 30.9442 30 30.9299 30 30.9261 30 30.9299 30 30.9442 30 30.9806 30 \n",
      "30 31.1767 30 31.1331 30 31.1159 30 31.1113 30 31.1159 30 31.1331 30 31.1767 30 \n",
      "30 31.6082 30 31.5486 30 31.525 30 31.5188 30 31.525 30 31.5486 30 31.6082 30 \n",
      "30 32.3613 30 32.2737 30 32.2392 30 32.23 30 32.2392 30 32.2737 30 32.3613 30 \n",
      "30 33.5867 30 33.4537 30 33.4012 30 33.3873 30 33.4012 30 33.4537 30 33.5867 30 \n",
      "30 35.5294 30 35.3243 30 35.2434 30 35.222 30 35.2434 30 35.3243 30 35.5294 30 \n",
      "30 38.578 30 38.2598 30 38.1343 30 38.1011 30 38.1343 30 38.2598 30 38.578 30 \n",
      "30 43.3422 30 42.8473 30 42.6521 30 42.6004 30 42.6521 30 42.8473 30 43.3422 30 \n",
      "52.7742 50.7749 51.4897 50.0043 50.9727 49.7002 50.787 49.6198 50.787 49.7002 50.9727 50.0043 51.4897 50.7749 52.7742 \n",
      "61.3278 60.2118 60.1881 59.4106 59.649 59.0782 59.4523 58.9898 59.4523 59.0782 59.649 59.4106 60.1881 60.2118 61.3278 \n",
      "0/10000   g: 0.45 --> Hottest: 61.3278\n",
      "30 31.1985 30 31.1541 30 31.1365 30 31.1319 30 31.1365 30 31.1541 30 31.1985 30 \n",
      "30 31.4382 30 31.3849 30 31.3638 30 31.3583 30 31.3638 30 31.3849 30 31.4382 30 \n",
      "30 31.9656 30 31.8927 30 31.8639 30 31.8563 30 31.8639 30 31.8927 30 31.9656 30 \n",
      "30 32.8861 30 32.779 30 32.7368 30 32.7256 30 32.7368 30 32.779 30 32.8861 30 \n",
      "30 34.3837 30 34.2211 30 34.157 30 34.14 30 34.157 30 34.2211 30 34.3837 30 \n",
      "30 36.7582 30 36.5075 30 36.4086 30 36.3824 30 36.4086 30 36.5075 30 36.7582 30 \n",
      "30 40.4842 30 40.0954 30 39.9419 30 39.9013 30 39.9419 30 40.0954 30 40.4842 30 \n",
      "30 46.3072 30 45.7023 30 45.4636 30 45.4005 30 45.4636 30 45.7023 30 46.3072 30 \n",
      "57.8352 55.3915 56.2652 54.4497 55.6333 54.0781 55.4064 53.9798 55.4064 54.0781 55.6333 54.4497 56.2652 55.3915 57.8352 \n",
      "68.2896 66.9255 66.8966 65.9464 66.2377 65.5401 65.9973 65.432 65.9973 65.5401 66.2377 65.9464 66.8966 66.9255 68.2896 \n",
      "0/10000   g: 0.55 --> Hottest: 68.2896\n",
      "30 31.4164 30 31.3639 30 31.3432 30 31.3377 30 31.3432 30 31.3639 30 31.4164 30 \n",
      "30 31.6997 30 31.6367 30 31.6118 30 31.6052 30 31.6118 30 31.6367 30 31.6997 30 \n",
      "30 32.323 30 32.2368 30 32.2028 30 32.1938 30 32.2028 30 32.2368 30 32.323 30 \n",
      "30 33.4108 30 33.2843 30 33.2344 30 33.2212 30 33.2344 30 33.2843 30 33.4108 30 \n",
      "30 35.1808 30 34.9886 30 34.9128 30 34.8927 30 34.9128 30 34.9886 30 35.1808 30 \n",
      "30 37.9869 30 37.6907 30 37.5738 30 37.5429 30 37.5738 30 37.6907 30 37.9869 30 \n",
      "30 42.3905 30 41.9309 30 41.7496 30 41.7016 30 41.7496 30 41.9309 30 42.3905 30 \n",
      "30 49.2721 30 48.5573 30 48.2752 30 48.2006 30 48.2752 30 48.5573 30 49.2721 30 \n",
      "62.8961 60.0082 61.0407 58.8951 60.294 58.456 60.0257 58.3397 60.0257 58.456 60.294 58.8951 61.0407 60.0082 62.8961 \n",
      "75.2513 73.6393 73.6051 72.4821 72.8264 72.0019 72.5423 71.8742 72.5423 72.0019 72.8264 72.4821 73.6051 73.6393 75.2513 \n",
      "0/10000   g: 0.65 --> Hottest: 75.2513\n",
      "30 31.6344 30 31.5737 30 31.5498 30 31.5435 30 31.5498 30 31.5737 30 31.6344 30 \n",
      "30 31.9612 30 31.8885 30 31.8598 30 31.8522 30 31.8598 30 31.8885 30 31.9612 30 \n",
      "30 32.6803 30 32.5809 30 32.5417 30 32.5313 30 32.5417 30 32.5809 30 32.6803 30 \n",
      "30 33.9355 30 33.7896 30 33.732 30 33.7167 30 33.732 30 33.7896 30 33.9355 30 \n",
      "30 35.9778 30 35.7561 30 35.6686 30 35.6455 30 35.6686 30 35.7561 30 35.9778 30 \n",
      "30 39.2157 30 38.8739 30 38.739 30 38.7033 30 38.739 30 38.8739 30 39.2157 30 \n",
      "30 44.2967 30 43.7664 30 43.5572 30 43.5018 30 43.5572 30 43.7664 30 44.2967 30 \n",
      "30 52.2371 30 51.4123 30 51.0868 30 51.0007 30 51.0868 30 51.4123 30 52.2371 30 \n",
      "67.9571 64.6248 65.8162 63.3406 64.9546 62.8338 64.6451 62.6997 64.6451 62.8338 64.9546 63.3406 65.8162 64.6248 67.9571 \n",
      "82.2131 80.3531 80.3136 79.0178 79.4151 78.4637 79.0873 78.3164 79.0873 78.4637 79.4151 79.0178 80.3136 80.3531 82.2131 \n",
      "0/10000   g: 0.75 --> Hottest: 82.2131\n",
      "30 31.8523 30 31.7836 30 31.7565 30 31.7493 30 31.7565 30 31.7836 30 31.8523 30 \n",
      "30 32.2227 30 32.1403 30 32.1078 30 32.0991 30 32.1078 30 32.1403 30 32.2227 30 \n",
      "30 33.0377 30 32.9251 30 32.8806 30 32.8688 30 32.8806 30 32.9251 30 33.0377 30 \n",
      "30 34.4603 30 34.2948 30 34.2296 30 34.2123 30 34.2296 30 34.2948 30 34.4603 30 \n",
      "30 36.7749 30 36.5236 30 36.4244 30 36.3982 30 36.4244 30 36.5236 30 36.7749 30 \n",
      "30 40.4445 30 40.0571 30 39.9042 30 39.8638 30 39.9042 30 40.0571 30 40.4445 30 \n",
      "30 46.2029 30 45.602 30 45.3648 30 45.3021 30 45.3648 30 45.602 30 46.2029 30 \n",
      "30 55.202 30 54.2672 30 53.8984 30 53.8008 30 53.8984 30 54.2672 30 55.202 30 \n",
      "73.0181 69.2415 70.5918 67.786 69.6152 67.2117 69.2644 67.0597 69.2644 67.2117 69.6152 67.786 70.5918 69.2415 73.0181 \n",
      "89.1748 87.0668 87.0221 85.5535 86.0038 84.9256 85.6323 84.7586 85.6323 84.9256 86.0038 85.5535 87.0221 87.0668 89.1748 \n",
      "0/10000   g: 0.85 --> Hottest: 89.1748\n",
      "30 32.0702 30 31.9934 30 31.9631 30 31.9551 30 31.9631 30 31.9934 30 32.0702 30 \n",
      "30 32.4842 30 32.3921 30 32.3557 30 32.3461 30 32.3557 30 32.3921 30 32.4842 30 \n",
      "30 33.3951 30 33.2692 30 33.2195 30 33.2063 30 33.2195 30 33.2692 30 33.3951 30 \n",
      "30 34.985 30 34.8001 30 34.7272 30 34.7079 30 34.7272 30 34.8001 30 34.985 30 \n",
      "30 37.5719 30 37.2911 30 37.1803 30 37.1509 30 37.1803 30 37.2911 30 37.5719 30 \n",
      "30 41.6732 30 41.2403 30 41.0694 30 41.0242 30 41.0694 30 41.2403 30 41.6732 30 \n",
      "30 48.1092 30 47.4375 30 47.1724 30 47.1023 30 47.1724 30 47.4375 30 48.1092 30 \n",
      "30 58.167 30 57.1222 30 56.71 30 56.6009 30 56.71 30 57.1222 30 58.167 30 \n",
      "78.079 73.8582 75.3673 72.2314 74.2758 71.5895 73.8838 71.4197 73.8838 71.5895 74.2758 72.2314 75.3673 73.8582 78.079 \n",
      "96.1366 93.7806 93.7307 92.0892 92.5925 91.3874 92.1772 91.2008 92.1772 91.3874 92.5925 92.0892 93.7307 93.7806 96.1366 \n",
      "0/10000   g: 0.95 --> Hottest: 96.1366\n",
      "30 32.2881 30 32.2032 30 32.1697 30 32.1609 30 32.1697 30 32.2032 30 32.2881 30 \n",
      "30 32.7457 30 32.6439 30 32.6037 30 32.5931 30 32.6037 30 32.6439 30 32.7457 30 \n",
      "30 33.7525 30 33.6133 30 33.5584 30 33.5439 30 33.5584 30 33.6133 30 33.7525 30 \n",
      "30 35.5098 30 35.3054 30 35.2248 30 35.2034 30 35.2248 30 35.3054 30 35.5098 30 \n",
      "30 38.369 30 38.0586 30 37.9361 30 37.9037 30 37.9361 30 38.0586 30 38.369 30 \n",
      "30 42.902 30 42.4234 30 42.2346 30 42.1846 30 42.2346 30 42.4234 30 42.902 30 \n",
      "30 50.0154 30 49.273 30 48.9801 30 48.9026 30 48.9801 30 49.273 30 50.0154 30 \n",
      "30 61.1319 30 59.9772 30 59.5216 30 59.401 30 59.5216 30 59.9772 30 61.1319 30 \n",
      "83.14 78.4748 80.1428 76.6768 78.9365 75.9674 78.5031 75.7796 78.5031 75.9674 78.9365 76.6768 80.1428 78.4748 83.14 \n",
      "103.098 100.494 100.439 98.625 99.1812 97.8493 98.7222 97.643 98.7222 97.8493 99.1812 98.625 100.439 100.494 103.098 \n",
      "3/10000   g: 1.05 --> Hottest: 103.098\n"
     ]
    }
   ],
   "source": [
    "%%bash\n",
    "\n",
    "g++-14 -std=c++26 -Wall -Wextra -Wpedantic fin.cpp -o fin\n",
    "./fin"
   ]
  },
  {
   "cell_type": "code",
   "execution_count": null,
   "id": "ea3b0552",
   "metadata": {
    "vscode": {
     "languageId": "cpp"
    }
   },
   "outputs": [],
   "source": []
  }
 ],
 "metadata": {
  "kernelspec": {
   "display_name": "SageMath 10.6",
   "language": "sage",
   "name": "SageMath-10.6"
  },
  "language_info": {
   "codemirror_mode": {
    "name": "ipython",
    "version": 3
   },
   "file_extension": ".py",
   "mimetype": "text/x-python",
   "name": "sage",
   "nbconvert_exporter": "python",
   "pygments_lexer": "ipython3",
   "version": "3.12.5"
  }
 },
 "nbformat": 4,
 "nbformat_minor": 5
}
