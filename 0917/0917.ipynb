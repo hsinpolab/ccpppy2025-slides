{
 "cells": [
  {
   "cell_type": "markdown",
   "id": "094cd75f",
   "metadata": {
    "vscode": {
     "languageId": "plaintext"
    }
   },
   "source": [
    "# Computer Programming 0917"
   ]
  },
  {
   "cell_type": "code",
   "execution_count": 1,
   "id": "ebacef72",
   "metadata": {},
   "outputs": [
    {
     "name": "stdout",
     "output_type": "stream",
     "text": [
      "env: SDKROOT=/Library/Developer/CommandLineTools/SDKs/MacOSX.sdk\n"
     ]
    }
   ],
   "source": [
    "# Ignore this; my laptop is so old and Apple is nasty so I need this\n",
    "sdkroot = !xcrun --show-sdk-path\n",
    "%env SDKROOT={sdkroot[0]}"
   ]
  },
  {
   "cell_type": "markdown",
   "id": "33987e3f",
   "metadata": {},
   "source": [
    "## More on terminal commands"
   ]
  },
  {
   "cell_type": "markdown",
   "id": "00ed28ab",
   "metadata": {},
   "source": [
    "- `man pwd`: open the MANual page of the command `pwd`\n",
    "- `man cd`: open the MANual page of the command `cd`\n",
    "- `man ls`: open the MANual page of the command `ls`\n",
    "- `pwd`: Print Working Directory\n",
    "- `cd 0917`: Change Directory to the folder called `0917`\n",
    "- `cd ..`: Change Directory to the parent directory\n",
    "- `cd -`: Change Directory to the previous directory (last page)\n",
    "- `cd ~`: Change Directory to the home directory\n",
    "- `mkdir`: Make new Directory (new folder)\n",
    "- `ls`: LiSt the content of current working directory\n",
    "- `ls -l`: LiSt with Longer information\n",
    "- `ls -a`: LiSt All files, including hidden ones\n",
    "- `ls -la`: equivalent to `ls -l -a`\n",
    "- `cat`, `hexdump`\n",
    "- `nano`, `vim`, `code`\n",
    "- `clear`\n",
    "- `history`: show the command history\n",
    "- `touch animal.cpp`: used to create an empty file called `animal.cpp`\n",
    "- `grep cout animal.cpp`: search for `cout` in the file `animal.cpp`\n",
    "- `grep \"cout <<\" animal.cpp`: search for `cout <<` in the file `animal.cpp` (quote the space)\n",
    "- `head animal.cpp`: shows the first 10 lines of `animal.cpp`\n",
    "- `head -n 100 animal.cpp`: first 100 lines\n",
    "- `tail animal.cpp`: shows the last 10 lines of `animal.cpp`\n",
    "- `tail -n 1000 animal.cpp`: last 1000 lines\n",
    "- `rm animal.cpp`: ReMoves (deletes) the file `animal.cpp`.  \n",
    "- `rm -r 0917`: ReMoves Recursively, including folders and sub-folders and files within\n",
    "- `rm -f 0917/animal.cpp`: ReMoves files with Force (no confirmation)\n",
    "- `ｒｍ -ｒｆ /`: ReMoves everything, starting from the root.\n",
    "  DON'T DO THIS.  YOUR COMPUTER WILL BREAK.\n",
    "- `mv animal.cpp 0917/monster.cpp`: MoVes `animal.cpp` to folder `0917` and rename it `monster.cpp`\n",
    "- `cp animal.cpp animal-new.txt`: CoPies `animal.cpp` paste it as `animal-new.txt`\n",
    "- Use `-r` to copy directories recursively: `cp -r 0917 0924`\n",
    "- `g++-14 -std=c++26 -Wall -Wextra -Wpedantic animal.cpp -o an`:\n",
    "  compile `animal.cpp` to `an` with all the warning enabled.\n",
    "- `./an`: execute `an`\n",
    "- `./an <<< \"retire\"`: execute `an` with input `retire`.\n",
    "- `./an < keep.txt`: execute `an` with input coming from a text file `keep.txt`.\n",
    "- `./an > noise.txt`: execute `an` but all `cout` goes to `noise.txt` (overwrite).\n",
    "- `./an >> noise.txt`: execute `an` but all `cout` goes to `noise.txt` (append).\n",
    "- `./an <<< \"retire\" > noise.txt`: two things at once.\n",
    "- `./an < keep.txt >> noise.txt`: two things at once.\n",
    "- `echo retire`: print `retire` to screen\n",
    "- `echo \"retire\" | ./an`: execute `an` with input `retire`.\n",
    "- `./an | grep visitors`: execute `an` but only show lines containing \"visitors\".\n",
    "- `./an | grep \"is born\"`: execute `an` but only show lines containing \"is born\".\n",
    "- What does `|` do?\n",
    "- `Ctrl + C` terminates the program early"
   ]
  },
  {
   "cell_type": "markdown",
   "id": "3968ba8a",
   "metadata": {},
   "source": [
    "## Array"
   ]
  },
  {
   "cell_type": "code",
   "execution_count": 2,
   "id": "da301234",
   "metadata": {
    "vscode": {
     "languageId": "cpp"
    }
   },
   "outputs": [
    {
     "name": "stdout",
     "output_type": "stream",
     "text": [
      "Overwriting array.cpp\n"
     ]
    }
   ],
   "source": [
    "%%writefile array.cpp\n",
    "\n",
    "#include <iostream>\n",
    "using namespace std;\n",
    "\n",
    "int main() {\n",
    "    int CocoMelon[100];\n",
    "    for (int i = 0; i < 10; i++) {\n",
    "        int k = i*i;\n",
    "        cout << \"Without initialization, the \"\n",
    "        << k << \"th element of CocoMelon is \"\n",
    "        << CocoMelon[i] << endl;\n",
    "    }\n",
    "    for (int i = 0; i < 100; i++) {\n",
    "        CocoMelon[i] = i;\n",
    "    }\n",
    "    for (int i = 0; i < 10; i++) {\n",
    "        int k = i*i;\n",
    "        cout << \"With initialization, the \"\n",
    "        << k << \"th element of CocoMelon is \"\n",
    "        << CocoMelon[i] << endl;\n",
    "    }\n",
    "    return 0;\n",
    "}"
   ]
  },
  {
   "cell_type": "code",
   "execution_count": 3,
   "id": "7220b5da",
   "metadata": {
    "vscode": {
     "languageId": "cpp"
    }
   },
   "outputs": [
    {
     "name": "stdout",
     "output_type": "stream",
     "text": [
      "Without initialization, the 0th element of CocoMelon is -1156002368\n",
      "Without initialization, the 1th element of CocoMelon is 32759\n",
      "Without initialization, the 4th element of CocoMelon is 704\n",
      "Without initialization, the 9th element of CocoMelon is 0\n",
      "Without initialization, the 16th element of CocoMelon is 0\n",
      "Without initialization, the 25th element of CocoMelon is 0\n",
      "Without initialization, the 36th element of CocoMelon is 0\n",
      "Without initialization, the 49th element of CocoMelon is 0\n",
      "Without initialization, the 64th element of CocoMelon is -1156001664\n",
      "Without initialization, the 81th element of CocoMelon is 32759\n",
      "With initialization, the 0th element of CocoMelon is 0\n",
      "With initialization, the 1th element of CocoMelon is 1\n",
      "With initialization, the 4th element of CocoMelon is 2\n",
      "With initialization, the 9th element of CocoMelon is 3\n",
      "With initialization, the 16th element of CocoMelon is 4\n",
      "With initialization, the 25th element of CocoMelon is 5\n",
      "With initialization, the 36th element of CocoMelon is 6\n",
      "With initialization, the 49th element of CocoMelon is 7\n",
      "With initialization, the 64th element of CocoMelon is 8\n",
      "With initialization, the 81th element of CocoMelon is 9\n"
     ]
    }
   ],
   "source": [
    "%%bash\n",
    "\n",
    "g++-14 -std=c++26 -Wall -Wextra -Wpedantic array.cpp -o array\n",
    "./array"
   ]
  },
  {
   "cell_type": "code",
   "execution_count": 4,
   "id": "e6770429",
   "metadata": {
    "vscode": {
     "languageId": "cpp"
    }
   },
   "outputs": [
    {
     "name": "stdout",
     "output_type": "stream",
     "text": [
      "Overwriting initial.cpp\n"
     ]
    }
   ],
   "source": [
    "%%writefile initial.cpp\n",
    "\n",
    "#include <iostream>\n",
    "using namespace std;\n",
    "\n",
    "int main() {\n",
    "    int CocoMelon[10] = {1, 2, 3, 4, 5};\n",
    "    for (int i = 0; i < 10; i++) {\n",
    "        cout << \"With initialization, the \"\n",
    "        << i << \"th element of CocoMelon is \"\n",
    "        << CocoMelon[i] << endl;\n",
    "    }\n",
    "    return 0;\n",
    "}"
   ]
  },
  {
   "cell_type": "code",
   "execution_count": 5,
   "id": "658b2aeb",
   "metadata": {
    "vscode": {
     "languageId": "cpp"
    }
   },
   "outputs": [
    {
     "name": "stdout",
     "output_type": "stream",
     "text": [
      "With initialization, the 0th element of CocoMelon is 1\n",
      "With initialization, the 1th element of CocoMelon is 2\n",
      "With initialization, the 2th element of CocoMelon is 3\n",
      "With initialization, the 3th element of CocoMelon is 4\n",
      "With initialization, the 4th element of CocoMelon is 5\n",
      "With initialization, the 5th element of CocoMelon is 0\n",
      "With initialization, the 6th element of CocoMelon is 0\n",
      "With initialization, the 7th element of CocoMelon is 0\n",
      "With initialization, the 8th element of CocoMelon is 0\n",
      "With initialization, the 9th element of CocoMelon is 0\n"
     ]
    }
   ],
   "source": [
    "%%bash\n",
    "\n",
    "g++-14 -std=c++26 -Wall -Wextra -Wpedantic initial.cpp -o initial\n",
    "./initial"
   ]
  },
  {
   "cell_type": "markdown",
   "id": "627b4523",
   "metadata": {
    "vscode": {
     "languageId": "cpp"
    }
   },
   "source": [
    "## Prefix sum"
   ]
  },
  {
   "cell_type": "code",
   "execution_count": 6,
   "id": "41469cfd",
   "metadata": {
    "vscode": {
     "languageId": "cpp"
    }
   },
   "outputs": [
    {
     "name": "stdout",
     "output_type": "stream",
     "text": [
      "Overwriting prefix_sum.cpp\n"
     ]
    }
   ],
   "source": [
    "%%writefile prefix_sum.cpp\n",
    "\n",
    "#include <iostream>\n",
    "using namespace std;\n",
    "\n",
    "int main() {\n",
    "    int CocoMelon[100] = {};\n",
    "    int PrefixSum[100] = {};\n",
    "    for (int i = 0; i < 100; i++) {\n",
    "        CocoMelon[i] = i;\n",
    "    }\n",
    "    PrefixSum[0] = 0; // is this line necessary?\n",
    "    for (int i = 1; i < 100; i++) {\n",
    "        PrefixSum[i] = PrefixSum[i-1] + CocoMelon[i];\n",
    "    }\n",
    "    for (int i = 0; i < 11; i++) {\n",
    "        cout << \"the \" << i << \"th prefix sum is \"\n",
    "        << PrefixSum[i] << endl;\n",
    "    }\n",
    "    return 0;\n",
    "}"
   ]
  },
  {
   "cell_type": "code",
   "execution_count": 7,
   "id": "76bd4418",
   "metadata": {
    "vscode": {
     "languageId": "cpp"
    }
   },
   "outputs": [
    {
     "name": "stdout",
     "output_type": "stream",
     "text": [
      "the 0th prefix sum is 0\n",
      "the 1th prefix sum is 1\n",
      "the 2th prefix sum is 3\n",
      "the 3th prefix sum is 6\n",
      "the 4th prefix sum is 10\n",
      "the 5th prefix sum is 15\n",
      "the 6th prefix sum is 21\n",
      "the 7th prefix sum is 28\n",
      "the 8th prefix sum is 36\n",
      "the 9th prefix sum is 45\n",
      "the 10th prefix sum is 55\n"
     ]
    }
   ],
   "source": [
    "%%bash\n",
    "\n",
    "g++-14 -std=c++26 -Wall -Wextra -Wpedantic prefix_sum.cpp -o prefix_sum\n",
    "./prefix_sum"
   ]
  },
  {
   "cell_type": "markdown",
   "id": "0530a259",
   "metadata": {
    "vscode": {
     "languageId": "cpp"
    }
   },
   "source": [
    "## Reverse order"
   ]
  },
  {
   "cell_type": "code",
   "execution_count": 8,
   "id": "9568faf8",
   "metadata": {
    "vscode": {
     "languageId": "cpp"
    }
   },
   "outputs": [
    {
     "name": "stdout",
     "output_type": "stream",
     "text": [
      "Overwriting reverse.cpp\n"
     ]
    }
   ],
   "source": [
    "%%writefile reverse.cpp\n",
    "\n",
    "#include <iostream>\n",
    "using namespace std;\n",
    "\n",
    "int main() {\n",
    "    int CocoMelon[100] = {};\n",
    "    for (int i = 0; i < 100; i++) {\n",
    "        CocoMelon[i] = i;\n",
    "    }\n",
    "    int MelonCoco[100] = {};\n",
    "    for (int i = 0; i < 100; i++) {\n",
    "        MelonCoco[i] = CocoMelon[100 - 1 - i];\n",
    "    }\n",
    "    for (int i = 0; i < 100; i++) {\n",
    "        cout << CocoMelon[i] << \" \" << MelonCoco[i] << endl;\n",
    "    }\n",
    "    return 0;\n",
    "}"
   ]
  },
  {
   "cell_type": "code",
   "execution_count": 9,
   "id": "0962eb7f",
   "metadata": {
    "vscode": {
     "languageId": "cpp"
    }
   },
   "outputs": [
    {
     "name": "stdout",
     "output_type": "stream",
     "text": [
      "0 99\n",
      "1 98\n",
      "2 97\n",
      "3 96\n",
      "4 95\n",
      "5 94\n",
      "6 93\n",
      "7 92\n",
      "8 91\n",
      "9 90\n",
      "10 89\n",
      "11 88\n",
      "12 87\n",
      "13 86\n",
      "14 85\n",
      "15 84\n",
      "16 83\n",
      "17 82\n",
      "18 81\n",
      "19 80\n",
      "20 79\n",
      "21 78\n",
      "22 77\n",
      "23 76\n",
      "24 75\n",
      "25 74\n",
      "26 73\n",
      "27 72\n",
      "28 71\n",
      "29 70\n",
      "30 69\n",
      "31 68\n",
      "32 67\n",
      "33 66\n",
      "34 65\n",
      "35 64\n",
      "36 63\n",
      "37 62\n",
      "38 61\n",
      "39 60\n",
      "40 59\n",
      "41 58\n",
      "42 57\n",
      "43 56\n",
      "44 55\n",
      "45 54\n",
      "46 53\n",
      "47 52\n",
      "48 51\n",
      "49 50\n",
      "50 49\n",
      "51 48\n",
      "52 47\n",
      "53 46\n",
      "54 45\n",
      "55 44\n",
      "56 43\n",
      "57 42\n",
      "58 41\n",
      "59 40\n",
      "60 39\n",
      "61 38\n",
      "62 37\n",
      "63 36\n",
      "64 35\n",
      "65 34\n",
      "66 33\n",
      "67 32\n",
      "68 31\n",
      "69 30\n",
      "70 29\n",
      "71 28\n",
      "72 27\n",
      "73 26\n",
      "74 25\n",
      "75 24\n",
      "76 23\n",
      "77 22\n",
      "78 21\n",
      "79 20\n",
      "80 19\n",
      "81 18\n",
      "82 17\n",
      "83 16\n",
      "84 15\n",
      "85 14\n",
      "86 13\n",
      "87 12\n",
      "88 11\n",
      "89 10\n",
      "90 9\n",
      "91 8\n",
      "92 7\n",
      "93 6\n",
      "94 5\n",
      "95 4\n",
      "96 3\n",
      "97 2\n",
      "98 1\n",
      "99 0\n"
     ]
    }
   ],
   "source": [
    "%%bash\n",
    "\n",
    "g++-14 -std=c++26 -Wall -Wextra -Wpedantic reverse.cpp -o reverse\n",
    "./reverse"
   ]
  },
  {
   "cell_type": "markdown",
   "id": "50b51cec",
   "metadata": {
    "vscode": {
     "languageId": "cpp"
    }
   },
   "source": [
    "## Shift / offset / rotate"
   ]
  },
  {
   "cell_type": "code",
   "execution_count": 10,
   "id": "933947f5",
   "metadata": {
    "vscode": {
     "languageId": "cpp"
    }
   },
   "outputs": [
    {
     "name": "stdout",
     "output_type": "stream",
     "text": [
      "Overwriting shift.cpp\n"
     ]
    }
   ],
   "source": [
    "%%writefile shift.cpp\n",
    "\n",
    "#include <iostream>\n",
    "using namespace std;\n",
    "\n",
    "int main() {\n",
    "    int CocoMelon[100] = {};\n",
    "    for (int i = 0; i < 100; i++) {\n",
    "        CocoMelon[i] = i;\n",
    "    }\n",
    "    int shift;\n",
    "    cout << \"How much do you want to shift? \" << endl;\n",
    "    cin >> shift;\n",
    "    cout << \"You want to shift by \" << shift << endl;\n",
    "    for (; shift; shift--) {\n",
    "        int temp = CocoMelon[0];\n",
    "        for (int i = 0; i < 100 - 1; i++) {\n",
    "            CocoMelon[i] = CocoMelon[i + 1];\n",
    "        }\n",
    "        CocoMelon[99] = temp;\n",
    "    }\n",
    "    for (int i = 0; i < 100; i++) {\n",
    "        cout << CocoMelon[i] << \" \";\n",
    "    }\n",
    "    return 0;\n",
    "}"
   ]
  },
  {
   "cell_type": "code",
   "execution_count": 11,
   "id": "e54d8774",
   "metadata": {
    "vscode": {
     "languageId": "cpp"
    }
   },
   "outputs": [
    {
     "name": "stdout",
     "output_type": "stream",
     "text": [
      "How much do you want to shift? \n",
      "You want to shift by 12\n",
      "12 13 14 15 16 17 18 19 20 21 22 23 24 25 26 27 28 29 30 31 32 33 34 35 36 37 38 39 40 41 42 43 44 45 46 47 48 49 50 51 52 53 54 55 56 57 58 59 60 61 62 63 64 65 66 67 68 69 70 71 72 73 74 75 76 77 78 79 80 81 82 83 84 85 86 87 88 89 90 91 92 93 94 95 96 97 98 99 0 1 2 3 4 5 6 7 8 9 10 11 "
     ]
    }
   ],
   "source": [
    "%%bash\n",
    "\n",
    "g++-14 -std=c++26 -Wall -Wextra -Wpedantic shift.cpp -o shift\n",
    "./shift <<< \"12\""
   ]
  },
  {
   "cell_type": "code",
   "execution_count": 12,
   "id": "4e3be2a1",
   "metadata": {
    "vscode": {
     "languageId": "cpp"
    }
   },
   "outputs": [
    {
     "name": "stdout",
     "output_type": "stream",
     "text": [
      "Overwriting shift_fast.cpp\n"
     ]
    }
   ],
   "source": [
    "%%writefile shift_fast.cpp\n",
    "\n",
    "#include <iostream>\n",
    "using namespace std;\n",
    "\n",
    "int main() {\n",
    "    int CocoMelon[100] = {};\n",
    "    for (int i = 0; i < 100; i++) {\n",
    "        CocoMelon[i] = i;\n",
    "    }\n",
    "    int shift;\n",
    "    cout << \"How much do you want to shift? \" << endl;\n",
    "    cin >> shift;\n",
    "    cout << \"You want to shift by \" << shift << endl;\n",
    "    for (int i = 0; i < 100 / 2; i++) {\n",
    "        int a = CocoMelon[i];\n",
    "        int b = CocoMelon[100 - 1 - i];\n",
    "        CocoMelon[i] = b;\n",
    "        CocoMelon[100 - 1 - i] = a;\n",
    "    }\n",
    "    for (int i = 0; i < shift / 2; i++) {\n",
    "        int a = CocoMelon[i];\n",
    "        int b = CocoMelon[shift - 1 - i];\n",
    "        CocoMelon[i] = b;\n",
    "        CocoMelon[shift - 1 - i] = a;\n",
    "    }\n",
    "    for (int i = 0; i < (100 - shift) / 2; i++) {\n",
    "        int a = CocoMelon[shift + i];\n",
    "        int b = CocoMelon[100 - 1 - i];\n",
    "        CocoMelon[shift + i] = b;\n",
    "        CocoMelon[100 - 1 - i] = a;\n",
    "    }\n",
    "    for (int i = 0; i < 100; i++) {\n",
    "        cout << CocoMelon[i] << \" \";\n",
    "    }\n",
    "    return 0;\n",
    "}"
   ]
  },
  {
   "cell_type": "code",
   "execution_count": 13,
   "id": "f0bbc4f0",
   "metadata": {
    "vscode": {
     "languageId": "cpp"
    }
   },
   "outputs": [
    {
     "name": "stdout",
     "output_type": "stream",
     "text": [
      "How much do you want to shift? \n",
      "You want to shift by 12\n",
      "88 89 90 91 92 93 94 95 96 97 98 99 0 1 2 3 4 5 6 7 8 9 10 11 12 13 14 15 16 17 18 19 20 21 22 23 24 25 26 27 28 29 30 31 32 33 34 35 36 37 38 39 40 41 42 43 44 45 46 47 48 49 50 51 52 53 54 55 56 57 58 59 60 61 62 63 64 65 66 67 68 69 70 71 72 73 74 75 76 77 78 79 80 81 82 83 84 85 86 87 "
     ]
    }
   ],
   "source": [
    "%%bash\n",
    "\n",
    "g++-14 -std=c++26 -Wall -Wextra -Wpedantic shift_fast.cpp -o shift_fast\n",
    "./shift_fast <<< \"12\""
   ]
  },
  {
   "cell_type": "markdown",
   "id": "7ebba457",
   "metadata": {
    "vscode": {
     "languageId": "cpp"
    }
   },
   "source": [
    "## Two dimensional arrays"
   ]
  },
  {
   "cell_type": "code",
   "execution_count": 14,
   "id": "6ba42354",
   "metadata": {
    "vscode": {
     "languageId": "cpp"
    }
   },
   "outputs": [
    {
     "name": "stdout",
     "output_type": "stream",
     "text": [
      "Overwriting matrix.cpp\n"
     ]
    }
   ],
   "source": [
    "%%writefile matrix.cpp\n",
    "\n",
    "#include <iostream>\n",
    "using namespace std;\n",
    "\n",
    "int main() {\n",
    "    int Keanu[3][3] = {1, 2, 3, 4, 5};\n",
    "    for (int i = 0; i < 3; i++) {\n",
    "        for (int j = 0; j < 3; j++) {\n",
    "            cout << Keanu[i][j] << \" \";\n",
    "        }\n",
    "        cout << endl;\n",
    "    }\n",
    "    return 0;\n",
    "}"
   ]
  },
  {
   "cell_type": "code",
   "execution_count": 15,
   "id": "f4fb0769",
   "metadata": {
    "vscode": {
     "languageId": "cpp"
    }
   },
   "outputs": [
    {
     "name": "stdout",
     "output_type": "stream",
     "text": [
      "1 2 3 \n",
      "4 5 0 \n",
      "0 0 0 \n"
     ]
    }
   ],
   "source": [
    "%%bash\n",
    "\n",
    "g++-14 -std=c++26 -Wall -Wextra -Wpedantic matrix.cpp -o matrix\n",
    "./matrix"
   ]
  },
  {
   "cell_type": "code",
   "execution_count": 16,
   "id": "da87ce59",
   "metadata": {
    "vscode": {
     "languageId": "cpp"
    }
   },
   "outputs": [
    {
     "name": "stdout",
     "output_type": "stream",
     "text": [
      "Overwriting transpose.cpp\n"
     ]
    }
   ],
   "source": [
    "%%writefile transpose.cpp\n",
    "\n",
    "#include <iostream>\n",
    "using namespace std;\n",
    "\n",
    "int main() {\n",
    "    int Keanu[3][3] = {{1, 2, 3}, {4, 5}, {6}};\n",
    "    int Reeves[3][3] = {};\n",
    "    for (int i = 0; i < 3; i++) {\n",
    "        for (int j = 0; j < 3; j++) {\n",
    "            Reeves[j][i] = Keanu[i][j];\n",
    "        }\n",
    "    }\n",
    "    cout << \"Keanu :\" << endl;\n",
    "    for (int i = 0; i < 3; i++) {\n",
    "        for (int j = 0; j < 3; j++) {\n",
    "            cout << Keanu[i][j];\n",
    "        }\n",
    "        cout << endl;\n",
    "    }\n",
    "    cout << \"Reeves :\" << endl;\n",
    "    for (int i = 0; i < 3; i++) {\n",
    "        for (int j = 0; j < 3; j++) {\n",
    "            cout << Reeves[i][j];\n",
    "        }\n",
    "        cout << endl;\n",
    "    }\n",
    "    return 0;\n",
    "}"
   ]
  },
  {
   "cell_type": "code",
   "execution_count": 17,
   "id": "eabb122e",
   "metadata": {
    "vscode": {
     "languageId": "cpp"
    }
   },
   "outputs": [
    {
     "name": "stdout",
     "output_type": "stream",
     "text": [
      "Keanu :\n",
      "123\n",
      "450\n",
      "600\n",
      "Reeves :\n",
      "146\n",
      "250\n",
      "300\n"
     ]
    }
   ],
   "source": [
    "%%bash\n",
    "\n",
    "g++-14 -std=c++26 -Wall -Wextra -Wpedantic transpose.cpp -o transpose\n",
    "./transpose"
   ]
  },
  {
   "cell_type": "code",
   "execution_count": 18,
   "id": "59b5b787",
   "metadata": {
    "vscode": {
     "languageId": "cpp"
    }
   },
   "outputs": [
    {
     "name": "stdout",
     "output_type": "stream",
     "text": [
      "Overwriting rotate.cpp\n"
     ]
    }
   ],
   "source": [
    "%%writefile rotate.cpp\n",
    "\n",
    "#include <iostream>\n",
    "using namespace std;\n",
    "\n",
    "int main() {\n",
    "    int Keanu[3][3] = {{1, 2, 3}, {4, 5, 6}, {7, 8, 9}};\n",
    "    int Reeves[3][3] = {};\n",
    "    for (int i = 0; i < 3; i++) {\n",
    "        for (int j = 0; j < 3; j++) {\n",
    "            Reeves[j][2 - i] = Keanu[i][j];\n",
    "        }\n",
    "    }\n",
    "    cout << \"Keanu :\" << endl;\n",
    "    for (int i = 0; i < 3; i++) {\n",
    "        for (int j = 0; j < 3; j++) {\n",
    "            cout << Keanu[i][j];\n",
    "        }\n",
    "        cout << endl;\n",
    "    }\n",
    "    cout << \"Reeves :\" << endl;\n",
    "    for (int i = 0; i < 3; i++) {\n",
    "        for (int j = 0; j < 3; j++) {\n",
    "            cout << Reeves[i][j];\n",
    "        }\n",
    "        cout << endl;\n",
    "    }\n",
    "    return 0;\n",
    "}"
   ]
  },
  {
   "cell_type": "code",
   "execution_count": 19,
   "id": "5f422cd3",
   "metadata": {
    "vscode": {
     "languageId": "cpp"
    }
   },
   "outputs": [
    {
     "name": "stdout",
     "output_type": "stream",
     "text": [
      "Keanu :\n",
      "123\n",
      "456\n",
      "789\n",
      "Reeves :\n",
      "741\n",
      "852\n",
      "963\n"
     ]
    }
   ],
   "source": [
    "%%bash\n",
    "\n",
    "g++-14 -std=c++26 -Wall -Wextra -Wpedantic rotate.cpp -o rotate\n",
    "./rotate"
   ]
  },
  {
   "cell_type": "markdown",
   "id": "5a7b678a",
   "metadata": {
    "vscode": {
     "languageId": "cpp"
    }
   },
   "source": [
    "## Prime numbers"
   ]
  },
  {
   "cell_type": "code",
   "execution_count": 20,
   "id": "4f19bc32",
   "metadata": {
    "vscode": {
     "languageId": "cpp"
    }
   },
   "outputs": [
    {
     "name": "stdout",
     "output_type": "stream",
     "text": [
      "Overwriting prime.cpp\n"
     ]
    }
   ],
   "source": [
    "%%writefile prime.cpp\n",
    "\n",
    "#include <iostream>\n",
    "using namespace std;\n",
    "\n",
    "int main() {\n",
    "    int Primes[100] = {};\n",
    "    int n_prime = 0;\n",
    "    for (int n = 2; n < 10000000; n++) {\n",
    "        bool is_prime = true;\n",
    "        for (int i = 0; i < n_prime; i++) {\n",
    "            if (n % Primes[i] == 0) {\n",
    "                is_prime = false;\n",
    "                break;\n",
    "            }\n",
    "        }\n",
    "        if (is_prime) {\n",
    "            Primes[n_prime] = n;\n",
    "            n_prime++;\n",
    "        }\n",
    "    }\n",
    "    for (int k = 0; k < 100; k++) {\n",
    "        cout << Primes[k] << ' ';\n",
    "    }\n",
    "    return 0;\n",
    "}"
   ]
  },
  {
   "cell_type": "code",
   "execution_count": 21,
   "id": "f2fe80df",
   "metadata": {
    "vscode": {
     "languageId": "cpp"
    }
   },
   "outputs": [
    {
     "name": "stdout",
     "output_type": "stream",
     "text": [
      "2 3 5 7 11 13 17 19 23 29 31 37 41 43 47 53 59 61 67 71 73 79 83 89 97 101 103 107 109 113 127 131 137 139 149 151 157 163 167 173 179 181 191 193 197 199 211 223 227 229 233 239 241 251 257 263 269 271 277 281 283 293 307 311 313 317 331 337 347 349 353 359 367 373 379 383 389 397 401 409 419 421 431 433 439 443 449 457 461 463 467 479 487 491 499 503 509 521 523 541 "
     ]
    }
   ],
   "source": [
    "%%bash\n",
    "\n",
    "g++-14 -std=c++26 -Wall -Wextra -Wpedantic prime.cpp -o prime\n",
    "./prime"
   ]
  },
  {
   "cell_type": "code",
   "execution_count": 22,
   "id": "5def7b06",
   "metadata": {
    "vscode": {
     "languageId": "cpp"
    }
   },
   "outputs": [
    {
     "data": {
      "text/plain": [
       "[2,\n",
       " 3,\n",
       " 5,\n",
       " 7,\n",
       " 11,\n",
       " 13,\n",
       " 17,\n",
       " 19,\n",
       " 23,\n",
       " 29,\n",
       " 31,\n",
       " 37,\n",
       " 41,\n",
       " 43,\n",
       " 47,\n",
       " 53,\n",
       " 59,\n",
       " 61,\n",
       " 67,\n",
       " 71,\n",
       " 73,\n",
       " 79,\n",
       " 83,\n",
       " 89,\n",
       " 97,\n",
       " 101,\n",
       " 103,\n",
       " 107,\n",
       " 109,\n",
       " 113,\n",
       " 127,\n",
       " 131,\n",
       " 137,\n",
       " 139,\n",
       " 149,\n",
       " 151,\n",
       " 157,\n",
       " 163,\n",
       " 167,\n",
       " 173,\n",
       " 179,\n",
       " 181,\n",
       " 191,\n",
       " 193,\n",
       " 197,\n",
       " 199,\n",
       " 211,\n",
       " 223,\n",
       " 227,\n",
       " 229,\n",
       " 233,\n",
       " 239,\n",
       " 241,\n",
       " 251,\n",
       " 257,\n",
       " 263,\n",
       " 269,\n",
       " 271,\n",
       " 277,\n",
       " 281,\n",
       " 283,\n",
       " 293,\n",
       " 307,\n",
       " 311,\n",
       " 313,\n",
       " 317,\n",
       " 331,\n",
       " 337,\n",
       " 347,\n",
       " 349,\n",
       " 353,\n",
       " 359,\n",
       " 367,\n",
       " 373,\n",
       " 379,\n",
       " 383,\n",
       " 389,\n",
       " 397,\n",
       " 401,\n",
       " 409,\n",
       " 419,\n",
       " 421,\n",
       " 431,\n",
       " 433,\n",
       " 439,\n",
       " 443,\n",
       " 449,\n",
       " 457,\n",
       " 461,\n",
       " 463,\n",
       " 467,\n",
       " 479,\n",
       " 487,\n",
       " 491,\n",
       " 499,\n",
       " 503,\n",
       " 509,\n",
       " 521,\n",
       " 523,\n",
       " 541]"
      ]
     },
     "execution_count": 22,
     "metadata": {},
     "output_type": "execute_result"
    }
   ],
   "source": [
    "list(primes(542))"
   ]
  },
  {
   "cell_type": "markdown",
   "id": "086bb4be",
   "metadata": {
    "vscode": {
     "languageId": "cpp"
    }
   },
   "source": [
    "## Binomial coefficient"
   ]
  },
  {
   "cell_type": "code",
   "execution_count": 23,
   "id": "dfbfed99",
   "metadata": {
    "vscode": {
     "languageId": "cpp"
    }
   },
   "outputs": [
    {
     "name": "stdout",
     "output_type": "stream",
     "text": [
      "Overwriting binom.cpp\n"
     ]
    }
   ],
   "source": [
    "%%writefile binom.cpp\n",
    "\n",
    "#include <iostream>\n",
    "using namespace std;\n",
    "\n",
    "int main() {\n",
    "    int Pascal[20][20] = {};\n",
    "    for (int n = 0; n < 20; n++) {\n",
    "        for (int k = 0; k <= n; k++) {\n",
    "            if (k == 0 || k == n) {\n",
    "                Pascal[n][k] = 1;\n",
    "            } else {\n",
    "                Pascal[n][k] = Pascal[n-1][k-1] + Pascal[n-1][k];\n",
    "            }\n",
    "        }\n",
    "    }\n",
    "    for (int a = 0; a < 20; a++) {\n",
    "        for (int b = 0; b <= a; b++) {\n",
    "            cout << Pascal[a][b] << ' ';\n",
    "        }\n",
    "        cout << endl;\n",
    "    }\n",
    "    return 0;\n",
    "}"
   ]
  },
  {
   "cell_type": "code",
   "execution_count": 24,
   "id": "f6910e68",
   "metadata": {
    "vscode": {
     "languageId": "cpp"
    }
   },
   "outputs": [
    {
     "name": "stdout",
     "output_type": "stream",
     "text": [
      "1 \n",
      "1 1 \n",
      "1 2 1 \n",
      "1 3 3 1 \n",
      "1 4 6 4 1 \n",
      "1 5 10 10 5 1 \n",
      "1 6 15 20 15 6 1 \n",
      "1 7 21 35 35 21 7 1 \n",
      "1 8 28 56 70 56 28 8 1 \n",
      "1 9 36 84 126 126 84 36 9 1 \n",
      "1 10 45 120 210 252 210 120 45 10 1 \n",
      "1 11 55 165 330 462 462 330 165 55 11 1 \n",
      "1 12 66 220 495 792 924 792 495 220 66 12 1 \n",
      "1 13 78 286 715 1287 1716 1716 1287 715 286 78 13 1 \n",
      "1 14 91 364 1001 2002 3003 3432 3003 2002 1001 364 91 14 1 \n",
      "1 15 105 455 1365 3003 5005 6435 6435 5005 3003 1365 455 105 15 1 \n",
      "1 16 120 560 1820 4368 8008 11440 12870 11440 8008 4368 1820 560 120 16 1 \n",
      "1 17 136 680 2380 6188 12376 19448 24310 24310 19448 12376 6188 2380 680 136 17 1 \n",
      "1 18 153 816 3060 8568 18564 31824 43758 48620 43758 31824 18564 8568 3060 816 153 18 1 \n",
      "1 19 171 969 3876 11628 27132 50388 75582 92378 92378 75582 50388 27132 11628 3876 969 171 19 1 \n"
     ]
    }
   ],
   "source": [
    "%%bash\n",
    "\n",
    "g++-14 -std=c++26 -Wall -Wextra -Wpedantic binom.cpp -o binom\n",
    "./binom"
   ]
  },
  {
   "cell_type": "code",
   "execution_count": 25,
   "id": "b63f2922",
   "metadata": {
    "vscode": {
     "languageId": "cpp"
    }
   },
   "outputs": [
    {
     "name": "stdout",
     "output_type": "stream",
     "text": [
      "1 \n",
      "1 1 \n",
      "1 2 1 \n",
      "1 3 3 1 \n",
      "1 4 6 4 1 \n",
      "1 5 10 10 5 1 \n",
      "1 6 15 20 15 6 1 \n",
      "1 7 21 35 35 21 7 1 \n",
      "1 8 28 56 70 56 28 8 1 \n",
      "1 9 36 84 126 126 84 36 9 1 \n",
      "1 10 45 120 210 252 210 120 45 10 1 \n",
      "1 11 55 165 330 462 462 330 165 55 11 1 \n",
      "1 12 66 220 495 792 924 792 495 220 66 12 1 \n",
      "1 13 78 286 715 1287 1716 1716 1287 715 286 78 13 1 \n",
      "1 14 91 364 1001 2002 3003 3432 3003 2002 1001 364 91 14 1 \n",
      "1 15 105 455 1365 3003 5005 6435 6435 5005 3003 1365 455 105 15 1 \n",
      "1 16 120 560 1820 4368 8008 11440 12870 11440 8008 4368 1820 560 120 16 1 \n",
      "1 17 136 680 2380 6188 12376 19448 24310 24310 19448 12376 6188 2380 680 136 17 1 \n",
      "1 18 153 816 3060 8568 18564 31824 43758 48620 43758 31824 18564 8568 3060 816 153 18 1 \n",
      "1 19 171 969 3876 11628 27132 50388 75582 92378 92378 75582 50388 27132 11628 3876 969 171 19 1 \n"
     ]
    }
   ],
   "source": [
    "for n in range(20):\n",
    "    for k in range(n + 1):\n",
    "        print(binomial(n, k), end=' ')\n",
    "    print()"
   ]
  },
  {
   "cell_type": "markdown",
   "id": "f5616702",
   "metadata": {
    "vscode": {
     "languageId": "cpp"
    }
   },
   "source": [
    "Another way to compute the binomial coefficient is by the definition\n",
    "$\\binom nk = \\frac{n!}{k! (n-k)!}$.\n",
    "\n",
    "But computing $n!$ is dangerous because it might overflow\n",
    "even though \\binom nk does not overflow.\n",
    "So we can instead use the recurrence relation\n",
    "$\\binom nk = \\binom{n-1}{k-1} \\cdot \\frac nk$."
   ]
  },
  {
   "cell_type": "markdown",
   "id": "1b0306d1",
   "metadata": {},
   "source": [
    "## Array summary"
   ]
  },
  {
   "cell_type": "code",
   "execution_count": 26,
   "id": "9e061c97",
   "metadata": {
    "vscode": {
     "languageId": "cpp"
    }
   },
   "outputs": [
    {
     "name": "stdout",
     "output_type": "stream",
     "text": [
      "Overwriting summary.cpp\n"
     ]
    }
   ],
   "source": [
    "%%writefile summary.cpp\n",
    "\n",
    "#include <iostream>\n",
    "using namespace std;\n",
    "\n",
    "int main() {\n",
    "    int CocoMelon[100];\n",
    "    for (int i = 0; i < 100; i++) {\n",
    "        CocoMelon[i] = i;\n",
    "    }\n",
    "    int sum = 0;\n",
    "    int min = CocoMelon[0];\n",
    "    int max = CocoMelon[0];\n",
    "    for (int i = 0; i < 100; i++) {\n",
    "        sum += CocoMelon[i];\n",
    "        if (CocoMelon[i] < min) {\n",
    "            min = CocoMelon[i];\n",
    "        }\n",
    "        if (CocoMelon[i] > max) {\n",
    "            max = CocoMelon[i];\n",
    "        }\n",
    "    }\n",
    "    cout << \"Sum: \" << sum << endl;\n",
    "    cout << \"Average: \" << double(sum) / 100 << endl;\n",
    "    cout << \"Min: \" << min << endl;\n",
    "    cout << \"Max: \" << max << endl;\n",
    "    return 0;\n",
    "}"
   ]
  },
  {
   "cell_type": "code",
   "execution_count": 27,
   "id": "6615fb95",
   "metadata": {
    "vscode": {
     "languageId": "cpp"
    }
   },
   "outputs": [
    {
     "name": "stdout",
     "output_type": "stream",
     "text": [
      "Sum: 4950\n",
      "Average: 49.5\n",
      "Min: 0\n",
      "Max: 99\n"
     ]
    }
   ],
   "source": [
    "%%bash\n",
    "\n",
    "g++-14 -std=c++26 -Wall -Wextra -Wpedantic summary.cpp -o summary\n",
    "./summary"
   ]
  },
  {
   "cell_type": "markdown",
   "id": "91b7bd26",
   "metadata": {
    "vscode": {
     "languageId": "cpp"
    }
   },
   "source": [
    "## Sorting"
   ]
  },
  {
   "cell_type": "code",
   "execution_count": 28,
   "id": "b387acae",
   "metadata": {
    "vscode": {
     "languageId": "cpp"
    }
   },
   "outputs": [
    {
     "name": "stdout",
     "output_type": "stream",
     "text": [
      "Overwriting sort.cpp\n"
     ]
    }
   ],
   "source": [
    "%%writefile sort.cpp\n",
    "\n",
    "#include <iostream>\n",
    "using namespace std;\n",
    "\n",
    "int main() {\n",
    "    int CocoMelon[100];\n",
    "    for (int i = 0; i < 100; i++) {\n",
    "        CocoMelon[i] = (i * 37 + 50) % 100;\n",
    "        cout << CocoMelon[i] << \" \";\n",
    "    }\n",
    "    cout << endl;\n",
    "    bool sorted = false;\n",
    "    while (!sorted) {\n",
    "        sorted = true;\n",
    "        for (int i = 0; i < 99; i++) {\n",
    "            if (CocoMelon[i] > CocoMelon[i + 1]) {\n",
    "                int a = CocoMelon[i];\n",
    "                int b = CocoMelon[i + 1];\n",
    "                CocoMelon[i] = b;\n",
    "                CocoMelon[i + 1] = a;\n",
    "                sorted = false;\n",
    "            }\n",
    "        }\n",
    "    }\n",
    "    for (int i = 0; i < 100; i++) {\n",
    "        cout << CocoMelon[i] << \" \";\n",
    "    }\n",
    "    return 0;\n",
    "}"
   ]
  },
  {
   "cell_type": "code",
   "execution_count": 29,
   "id": "8bf6258a",
   "metadata": {
    "vscode": {
     "languageId": "cpp"
    }
   },
   "outputs": [
    {
     "name": "stdout",
     "output_type": "stream",
     "text": [
      "50 87 24 61 98 35 72 9 46 83 20 57 94 31 68 5 42 79 16 53 90 27 64 1 38 75 12 49 86 23 60 97 34 71 8 45 82 19 56 93 30 67 4 41 78 15 52 89 26 63 0 37 74 11 48 85 22 59 96 33 70 7 44 81 18 55 92 29 66 3 40 77 14 51 88 25 62 99 36 73 10 47 84 21 58 95 32 69 6 43 80 17 54 91 28 65 2 39 76 13 \n",
      "0 1 2 3 4 5 6 7 8 9 10 11 12 13 14 15 16 17 18 19 20 21 22 23 24 25 26 27 28 29 30 31 32 33 34 35 36 37 38 39 40 41 42 43 44 45 46 47 48 49 50 51 52 53 54 55 56 57 58 59 60 61 62 63 64 65 66 67 68 69 70 71 72 73 74 75 76 77 78 79 80 81 82 83 84 85 86 87 88 89 90 91 92 93 94 95 96 97 98 99 "
     ]
    }
   ],
   "source": [
    "%%bash\n",
    "\n",
    "g++-14 -std=c++26 -Wall -Wextra -Wpedantic sort.cpp -o sort\n",
    "./sort"
   ]
  },
  {
   "cell_type": "markdown",
   "id": "0d0875b9",
   "metadata": {},
   "source": [
    "## Vote counting"
   ]
  },
  {
   "cell_type": "code",
   "execution_count": 30,
   "id": "9e818701",
   "metadata": {
    "vscode": {
     "languageId": "cpp"
    }
   },
   "outputs": [
    {
     "name": "stdout",
     "output_type": "stream",
     "text": [
      "Overwriting vote.cpp\n"
     ]
    }
   ],
   "source": [
    "%%writefile vote.cpp\n",
    "\n",
    "#include <iostream>\n",
    "#include <random>\n",
    "using namespace std;\n",
    "\n",
    "int main() {\n",
    "    mt19937 m7(20250917);\n",
    "    int Votes[5] = {};\n",
    "    for (int i = 0; i < 100; i++) {\n",
    "        int vote = m7() % 5;\n",
    "        Votes[vote]++;\n",
    "    }\n",
    "    for (int i = 0; i < 5; i++) {\n",
    "        cout << \"Candidate \" << i\n",
    "        << \" received \" << Votes[i] << \" votes.\" << endl;\n",
    "    }\n",
    "    return 0;\n",
    "}"
   ]
  },
  {
   "cell_type": "code",
   "execution_count": 31,
   "id": "71647e7b",
   "metadata": {
    "vscode": {
     "languageId": "cpp"
    }
   },
   "outputs": [
    {
     "name": "stdout",
     "output_type": "stream",
     "text": [
      "Candidate 0 received 27 votes.\n",
      "Candidate 1 received 15 votes.\n",
      "Candidate 2 received 21 votes.\n",
      "Candidate 3 received 22 votes.\n",
      "Candidate 4 received 15 votes.\n"
     ]
    }
   ],
   "source": [
    "%%bash\n",
    "\n",
    "g++-14 -std=c++26 -Wall -Wextra -Wpedantic vote.cpp -o vote\n",
    "./vote"
   ]
  },
  {
   "cell_type": "markdown",
   "id": "23e25433",
   "metadata": {
    "vscode": {
     "languageId": "cpp"
    }
   },
   "source": [
    "## Matrix multiplication"
   ]
  },
  {
   "cell_type": "code",
   "execution_count": 32,
   "id": "b80821cc",
   "metadata": {
    "vscode": {
     "languageId": "cpp"
    }
   },
   "outputs": [
    {
     "name": "stdout",
     "output_type": "stream",
     "text": [
      "Overwriting matrix.cpp\n"
     ]
    }
   ],
   "source": [
    "%%writefile matrix.cpp\n",
    "\n",
    "#include <iostream>\n",
    "using namespace std;\n",
    "\n",
    "int main() {\n",
    "    int A[3][3] = {1, 2, 3, 4, 5, 6, 7, 8, 9};\n",
    "    int B[3][3] = {10, 11, 12, 13, 14, 15, 16, 17, 18};\n",
    "    int C[3][3] = {};\n",
    "    for (int i = 0; i < 3; i++) {\n",
    "        for (int j = 0; j < 3; j++) {\n",
    "            for (int k = 0; k < 3; k++) {\n",
    "                C[i][k] += A[i][j] * B[j][k];\n",
    "            }\n",
    "        }\n",
    "    }\n",
    "    for (int i = 0; i < 3; i++) {\n",
    "        for (int j = 0; j < 3; j++) {\n",
    "            cout << C[i][j] << \" \";\n",
    "        }\n",
    "        cout << endl;\n",
    "    }\n",
    "    return 0;\n",
    "}"
   ]
  },
  {
   "cell_type": "code",
   "execution_count": 33,
   "id": "1c2f22a4",
   "metadata": {
    "vscode": {
     "languageId": "cpp"
    }
   },
   "outputs": [
    {
     "name": "stdout",
     "output_type": "stream",
     "text": [
      "84 90 96 \n",
      "201 216 231 \n",
      "318 342 366 \n"
     ]
    }
   ],
   "source": [
    "%%bash\n",
    "\n",
    "g++-14 -std=c++26 -Wall -Wextra -Wpedantic matrix.cpp -o matrix\n",
    "./matrix"
   ]
  },
  {
   "cell_type": "code",
   "execution_count": 34,
   "id": "510d137d",
   "metadata": {
    "vscode": {
     "languageId": "cpp"
    }
   },
   "outputs": [
    {
     "data": {
      "text/plain": [
       "[ 84  90  96]\n",
       "[201 216 231]\n",
       "[318 342 366]"
      ]
     },
     "execution_count": 34,
     "metadata": {},
     "output_type": "execute_result"
    }
   ],
   "source": [
    "A = matrix([\n",
    "    [1, 2, 3],\n",
    "    [4, 5, 6],\n",
    "    [7, 8, 9]\n",
    "])\n",
    "B = matrix([\n",
    "    [10, 11, 12],\n",
    "    [13, 14, 15],\n",
    "    [16, 17, 18]\n",
    "])\n",
    "A * B"
   ]
  },
  {
   "cell_type": "markdown",
   "id": "d443a677",
   "metadata": {
    "vscode": {
     "languageId": "cpp"
    }
   },
   "source": [
    "# RREF (no pivoting)"
   ]
  },
  {
   "cell_type": "code",
   "execution_count": 35,
   "id": "e741fbf3",
   "metadata": {
    "vscode": {
     "languageId": "cpp"
    }
   },
   "outputs": [
    {
     "name": "stdout",
     "output_type": "stream",
     "text": [
      "Overwriting rref.cpp\n"
     ]
    }
   ],
   "source": [
    "%%writefile rref.cpp\n",
    "\n",
    "#include <iostream>\n",
    "#include <cmath>\n",
    "using namespace std;\n",
    "\n",
    "int main() {\n",
    "    float A[3][3] = {};\n",
    "    for (int i = 0; i < 3; i++) {\n",
    "        for (int j = 0; j < 3; j++) {\n",
    "            A[i][j] = (7 * i + 3 * j + 5) % 13;\n",
    "        }\n",
    "    }\n",
    "    for (int i = 0; i < 3; i++) {\n",
    "        for (int k = 0; k < 3; k++) {\n",
    "            cout << A[i][k] << ' ';\n",
    "        }\n",
    "        cout << endl;\n",
    "    }\n",
    "    for (int i = 0; i < 3; i++) { // index of pivot\n",
    "        for (int j = i + 1; j < 3; j++) { // index of row being eliminated\n",
    "            float ratio = A[j][i] / A[i][i];\n",
    "            for (int k = 0; k < 3; k++) { // index of column being eliminated\n",
    "                A[j][k] -= ratio * A[i][k];\n",
    "            }\n",
    "        }\n",
    "    }\n",
    "    cout << \"After gaussian elimination\" << endl;\n",
    "    for (int i = 0; i < 3; i++) {\n",
    "        for (int k = 0; k < 3; k++) {\n",
    "            cout << A[i][k] << ' ';\n",
    "        }\n",
    "        cout << endl;\n",
    "    }\n",
    "    cout << \"Determinant \" << A[0][0] * A[1][1] * A[2][2];\n",
    "    return 0;\n",
    "}"
   ]
  },
  {
   "cell_type": "code",
   "execution_count": 36,
   "id": "0c13e9f7",
   "metadata": {
    "vscode": {
     "languageId": "cpp"
    }
   },
   "outputs": [
    {
     "name": "stdout",
     "output_type": "stream",
     "text": [
      "5 8 11 \n",
      "12 2 5 \n",
      "6 9 12 \n",
      "After gaussian elimination\n",
      "5 8 11 \n",
      "0 -17.2 -21.4 \n",
      "0 0 -0.453489 \n",
      "Determinant 39"
     ]
    }
   ],
   "source": [
    "%%bash\n",
    "\n",
    "g++-14 -std=c++26 -Wall -Wextra -Wpedantic rref.cpp -o rref\n",
    "./rref"
   ]
  },
  {
   "cell_type": "code",
   "execution_count": 37,
   "id": "e82928e4",
   "metadata": {
    "vscode": {
     "languageId": "cpp"
    }
   },
   "outputs": [
    {
     "data": {
      "text/plain": [
       "[ 5  8 11]\n",
       "[12  2  5]\n",
       "[ 6  9 12]"
      ]
     },
     "execution_count": 37,
     "metadata": {},
     "output_type": "execute_result"
    }
   ],
   "source": [
    "f = lambda i, j: (7 * i + 3 * j + 5) % 13\n",
    "A = matrix(3, 3, f)\n",
    "A"
   ]
  },
  {
   "cell_type": "code",
   "execution_count": 38,
   "id": "4c08b4d4",
   "metadata": {
    "vscode": {
     "languageId": "cpp"
    }
   },
   "outputs": [
    {
     "data": {
      "text/plain": [
       "[  5.00000000000000   8.00000000000000   11.0000000000000]\n",
       "[ 0.000000000000000  -17.2000000000000  -21.4000000000000]\n",
       "[ 0.000000000000000  0.000000000000000 -0.453488372093023]"
      ]
     },
     "execution_count": 38,
     "metadata": {},
     "output_type": "execute_result"
    }
   ],
   "source": [
    "P, L, U = A.LU(pivot='nonzero')\n",
    "matrix(RR, U)"
   ]
  },
  {
   "cell_type": "markdown",
   "id": "061605ff",
   "metadata": {
    "vscode": {
     "languageId": "cpp"
    }
   },
   "source": [
    "## Convex hull"
   ]
  },
  {
   "cell_type": "code",
   "execution_count": 39,
   "id": "ef86e173",
   "metadata": {
    "vscode": {
     "languageId": "cpp"
    }
   },
   "outputs": [
    {
     "name": "stdout",
     "output_type": "stream",
     "text": [
      "Overwriting arch.cpp\n"
     ]
    }
   ],
   "source": [
    "%%writefile arch.cpp\n",
    "\n",
    "#include <iostream>\n",
    "#include <random>\n",
    "#include <unistd.h>\n",
    "using namespace std;\n",
    "\n",
    "int main() {\n",
    "    mt19937 m7(20250917);\n",
    "    float Arch[20] = {};\n",
    "    for (int i = 0; i < 20; i++) {\n",
    "        int height = i * (20 - i) + 10;\n",
    "        int height_random = m7() % height;\n",
    "        Arch[i] = height_random;\n",
    "    }\n",
    "    bool converging = false;\n",
    "    while (!converging) {\n",
    "        for (int i = 0; i < 20; i++) {\n",
    "            for (int j = 0; j < Arch[i]; j++) {\n",
    "                cout << \")\";\n",
    "            }\n",
    "            cout << endl;\n",
    "        }\n",
    "        sleep(1);\n",
    "        converging = true;\n",
    "        for (int i = 1; i < 20 - 1; i++) {\n",
    "            float a = Arch[i - 1];\n",
    "            float b = Arch[i];\n",
    "            float c = Arch[i + 1];\n",
    "            if (a + c > 2 * b + 1e-2) {\n",
    "                b = (a + c) / 2;\n",
    "                Arch[i] = b;\n",
    "                converging = false;\n",
    "            }\n",
    "        }\n",
    "    }\n",
    "    return 0;\n",
    "}"
   ]
  },
  {
   "cell_type": "code",
   "execution_count": 40,
   "id": "0f389411",
   "metadata": {
    "vscode": {
     "languageId": "cpp"
    }
   },
   "outputs": [
    {
     "name": "stdout",
     "output_type": "stream",
     "text": [
      "run this on terminal, not here\n"
     ]
    }
   ],
   "source": [
    "%%bash\n",
    "\n",
    "g++-14 -std=c++26 -Wall -Wextra -Wpedantic arch.cpp -o arch\n",
    "echo \"run this on terminal, not here\""
   ]
  },
  {
   "cell_type": "markdown",
   "id": "b24741da",
   "metadata": {
    "vscode": {
     "languageId": "cpp"
    }
   },
   "source": [
    "## PDE"
   ]
  },
  {
   "cell_type": "markdown",
   "id": "82524387",
   "metadata": {},
   "source": []
  }
 ],
 "metadata": {
  "kernelspec": {
   "display_name": "SageMath 10.6",
   "language": "sage",
   "name": "SageMath-10.6"
  },
  "language_info": {
   "codemirror_mode": {
    "name": "ipython",
    "version": 3
   },
   "file_extension": ".py",
   "mimetype": "text/x-python",
   "name": "python",
   "nbconvert_exporter": "python",
   "pygments_lexer": "ipython3",
   "version": "3.12.5"
  }
 },
 "nbformat": 4,
 "nbformat_minor": 5
}
