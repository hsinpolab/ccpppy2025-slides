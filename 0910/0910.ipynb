{
 "cells": [
  {
   "cell_type": "markdown",
   "id": "2c9048bb",
   "metadata": {
    "vscode": {
     "languageId": "cpp"
    }
   },
   "source": [
    "# Computer Programming Lab 0910"
   ]
  },
  {
   "cell_type": "code",
   "execution_count": 1,
   "id": "eb27cd69",
   "metadata": {
    "vscode": {
     "languageId": "cpp"
    }
   },
   "outputs": [
    {
     "name": "stdout",
     "output_type": "stream",
     "text": [
      "env: SDKROOT=/Library/Developer/CommandLineTools/SDKs/MacOSX.sdk\n"
     ]
    }
   ],
   "source": [
    "# Ignore this; my laptop is so old and Apple is nasty so I need this\n",
    "\n",
    "sdkroot = !xcrun --show-sdk-path\n",
    "%env SDKROOT={sdkroot[0]}"
   ]
  },
  {
   "cell_type": "markdown",
   "id": "bf2eaf0d",
   "metadata": {
    "vscode": {
     "languageId": "cpp"
    }
   },
   "source": [
    "## Useful terminal commands"
   ]
  },
  {
   "cell_type": "markdown",
   "id": "374fd2af",
   "metadata": {},
   "source": [
    "- `pwd`: Tells you the current folder.\n",
    "- `ls`: List the content of the current folder.\n",
    "- `cd 0910`: Change the current folder to `0910` that is under the current folder.\n",
    "- `cd ~`: Change to the **home** folder (the default folder, very useful when you get lost).\n",
    "- `cd ..`: Change to the parent folder.\n",
    "- `cd -`: Change to the previous folder (like last page in web browser).\n",
    "- `mkdir 0912`: Make a new folder called `0912` (note that `d` = `dir` = `directory`).\n",
    "- `cat while.cpp`: Print the content of `while.cpp`, usually for text files.\n",
    "- `hexdump while`: Print the content of `while`, usually for non-text files.\n",
    "- `code while.cpp`: Use the text editor vs code to edit the file `while.cpp`.\n",
    "- `nano while.cpp`: Use the text editor nano to edit the file `while.cpp`.\n",
    "  This is pretty much the same editor as the PTT BBS system.\n",
    "- `vim while.cpp`: use the text editor vim to edit the file `while.cpp`.\n",
    "  This and nano are the built-in text editors for most linux systems,\n",
    "  which includes supercomputers like **Taiwania 2**.\n",
    "- `g++-14`: The version 14 of gcc compiler for C++.\n",
    "- `g++-14 -std=c++26`: Follow the C++26 standard.\n",
    "- `g++-14 -std=c++26 while.cpp`: Compile `while.cpp` to `a.out`.\n",
    "- `g++-14 -std=c++26 while.cpp -o wh`: Compile `while.cpp` to `wh`.\n",
    "- `g++-14 -std=c++26 -Wall while.cpp -o wh`: Compile and warn about bad code.\n",
    "- `g++-14 -std=c++26 -Wall -Wextra while.cpp -o wh`: Now with even more warning.\n",
    "- `g++-14 -std=c++26 -Wall -Wextra -Wpedantic while.cpp -o wh`: Now with even more warning."
   ]
  },
  {
   "cell_type": "code",
   "execution_count": 9,
   "id": "245e3ed7",
   "metadata": {
    "vscode": {
     "languageId": "cpp"
    }
   },
   "outputs": [
    {
     "name": "stdout",
     "output_type": "stream",
     "text": [
      "Overwriting bad.cpp\n"
     ]
    }
   ],
   "source": [
    "%%writefile bad.cpp\n",
    "\n",
    "#include <iostream>\n",
    "using namespace std;\n",
    "\n",
    "int main() {\n",
    "    int n = 0;\n",
    "    // This is a bad code because n is never used.\n",
    "    return 0;\n",
    "}"
   ]
  },
  {
   "cell_type": "code",
   "execution_count": 10,
   "id": "5329b1be",
   "metadata": {
    "vscode": {
     "languageId": "cpp"
    }
   },
   "outputs": [
    {
     "name": "stderr",
     "output_type": "stream",
     "text": [
      "bad.cpp: In function 'int main()':\n",
      "bad.cpp:6:9: warning: unused variable 'n' [-Wunused-variable]\n",
      "    6 |     int n = 0;\n",
      "      |         ^\n"
     ]
    }
   ],
   "source": [
    "%%bash\n",
    "\n",
    "g++-14 -std=c++26 -Wall -Wextra -Wpedantic bad.cpp -o ba"
   ]
  },
  {
   "cell_type": "markdown",
   "id": "b4fd06f3",
   "metadata": {
    "vscode": {
     "languageId": "cpp"
    }
   },
   "source": [
    "As the example above shows, turning up warnings\n",
    "can help you find the *unusual part* of your code."
   ]
  },
  {
   "cell_type": "markdown",
   "id": "07e98c79",
   "metadata": {
    "vscode": {
     "languageId": "cpp"
    }
   },
   "source": [
    "## Special operations"
   ]
  },
  {
   "cell_type": "markdown",
   "id": "da4212e2",
   "metadata": {},
   "source": [
    "- `a++`: increase `a` by `1`\n",
    "- `++a`: increase `a` by `1`\n",
    "- `a--`: decrease `a` by `1`\n",
    "- `--a`: decrease `a` by `1`\n",
    "- `a += b`: increase `a` by `b`\n",
    "- `a -= b`: decrease `a` by `b`\n",
    "- `a *= b`: multiply `a` by `b`\n",
    "- `a /= b`: divide `a` by `b`\n",
    "- `a >> b`: shift `a`'s bits right `b` times\n",
    "- `a >> b`: shift `a`'s bits left `b` times\n",
    "- `a &= b`: make `a` equal to `a & b`\n",
    "- `a |= b`: make `a` equal to `a | b`\n",
    "- `a ^= b`: make `a` equal to `a ^ b`"
   ]
  },
  {
   "cell_type": "markdown",
   "id": "9d104041",
   "metadata": {
    "vscode": {
     "languageId": "cpp"
    }
   },
   "source": [
    "## Loops"
   ]
  },
  {
   "cell_type": "markdown",
   "id": "9e12151c",
   "metadata": {},
   "source": [
    "While loop is a syntax in C++ that allow you to repeat things.\n",
    "For instance, if we say\n",
    "\n",
    "```C++\n",
    "while(true) {\n",
    "    A;\n",
    "    B;\n",
    "    C;\n",
    "}\n",
    "```\n",
    "\n",
    "then the program will\n",
    "\n",
    "- Do A; Do B; Do C;\n",
    "- Do A; Do B; Do C;\n",
    "- Do A; Do B; Do C;\n",
    "- Do A; Do B; Do C;\n",
    "- Do A; Do B; Do C;\n",
    "- Do A; Do B; Do C;\n",
    "- Do A; Do B; Do C;\n",
    "- Do A; Do B; Do C;\n",
    "- Do A; Do B; Do C;\n",
    "- Do A; Do B; Do C;\n",
    "- Continue until the sun explodes.\n",
    "\n",
    "\n",
    "Press `Ctrl+C` or `Ctrl+D` to stop the loop."
   ]
  },
  {
   "cell_type": "code",
   "execution_count": 11,
   "id": "c49f9ead",
   "metadata": {
    "vscode": {
     "languageId": "cpp"
    }
   },
   "outputs": [
    {
     "name": "stdout",
     "output_type": "stream",
     "text": [
      "Overwriting while.cpp\n"
     ]
    }
   ],
   "source": [
    "%%writefile while.cpp\n",
    "\n",
    "#include <iostream>\n",
    "#include <unistd.h>\n",
    "using namespace std;\n",
    "\n",
    "int main() {\n",
    "    int n = 0;\n",
    "    while (true) {\n",
    "        n = n + 1;\n",
    "        cout << n << endl;\n",
    "        sleep(1);\n",
    "    }\n",
    "    return 0;\n",
    "}"
   ]
  },
  {
   "cell_type": "markdown",
   "id": "f4d59b95",
   "metadata": {
    "vscode": {
     "languageId": "cpp"
    }
   },
   "source": [
    "Here is an example of an infinite loop.\n",
    "Remember, use `Ctrl+C` or `Ctrl+D` to stop the loop.\n",
    "I inserted `sleep(1)` to slow it down.\n",
    "And you should too if you are dealing with similar codes."
   ]
  },
  {
   "cell_type": "code",
   "execution_count": 12,
   "id": "61e67bf6",
   "metadata": {
    "vscode": {
     "languageId": "cpp"
    }
   },
   "outputs": [
    {
     "name": "stdout",
     "output_type": "stream",
     "text": [
      "1\n",
      "2\n",
      "3\n",
      "4\n",
      "5\n",
      "6\n",
      "7\n",
      "8\n",
      "Process is interrupted.\n"
     ]
    }
   ],
   "source": [
    "%%bash\n",
    "\n",
    "g++-14 -std=c++26 -Wall -Wextra -Wpedantic while.cpp -o wh\n",
    "./wh"
   ]
  },
  {
   "cell_type": "markdown",
   "id": "0457a101",
   "metadata": {},
   "source": [
    "If you want the program to stop the loop without you,\n",
    "you have three options."
   ]
  },
  {
   "cell_type": "markdown",
   "id": "03f07567",
   "metadata": {},
   "source": [
    "### Option 1\n",
    "\n",
    "Use `break`;\n",
    "\n",
    "```C++\n",
    "int iteration = 0\n",
    "while (true) {\n",
    "    iteration++;\n",
    "    // This is the same as iteration = iteration + 1\n",
    "    // This is also the same as iteration += 1\n",
    "    cout << \"iteration \" << iteration << endl;\n",
    "    if (iteration > 100) {\n",
    "        break;\n",
    "    }\n",
    "}\n",
    "```\n",
    "\n",
    "This is useful when the user wants to try until success."
   ]
  },
  {
   "cell_type": "code",
   "execution_count": null,
   "id": "d1edc3b9",
   "metadata": {
    "vscode": {
     "languageId": "cpp"
    }
   },
   "outputs": [
    {
     "name": "stdout",
     "output_type": "stream",
     "text": [
      "Overwriting even.cpp\n"
     ]
    }
   ],
   "source": [
    "%%writefile even.cpp\n",
    "\n",
    "#include <iostream>\n",
    "#include <unistd.h>\n",
    "using namespace std;\n",
    "\n",
    "int main() {\n",
    "    int n = 0;\n",
    "    while (true) {\n",
    "        cout << \"Please input an even number: \";\n",
    "        cin >> n;\n",
    "        sleep(1);\n",
    "        cout << \"Your input is \" << n << endl;\n",
    "        sleep(1);\n",
    "        cout << \"Thinking ...\" << endl;\n",
    "        sleep(1);\n",
    "        cout << \"It is really hard to tell ...\" << endl;\n",
    "        sleep(1);\n",
    "        cout << \"I have never seen this number before ...\" << endl;\n",
    "        sleep(1);\n",
    "        cout << \"It it taking longer than I expected ...\" << endl;\n",
    "        sleep(1);\n",
    "        if (n % 2 == 1) {\n",
    "            cout << \"It is not an even number.\" << endl;\n",
    "            cout << \"Let's try again.\" << endl;\n",
    "        }\n",
    "        if (n % 2 == 0) {\n",
    "            cout << \"It is an even number.\" << endl;\n",
    "            break;\n",
    "        }\n",
    "    }\n",
    "    return 0;\n",
    "}"
   ]
  },
  {
   "cell_type": "code",
   "execution_count": null,
   "id": "95382bb9",
   "metadata": {
    "vscode": {
     "languageId": "cpp"
    }
   },
   "outputs": [
    {
     "name": "stdout",
     "output_type": "stream",
     "text": [
      "Please input an even number: Your input is 1\n",
      "Thinking ...\n",
      "It is really hard to tell ...\n",
      "I have never seen this number before ...\n",
      "It it taking longer than I expected ...\n",
      "It is not an even number\n",
      "Please input an even number: Your input is 3\n",
      "Thinking ...\n",
      "It is really hard to tell ...\n",
      "I have never seen this number before ...\n",
      "It it taking longer than I expected ...\n",
      "It is not an even number\n",
      "Please input an even number: Your input is 6\n",
      "Thinking ...\n",
      "It is really hard to tell ...\n",
      "I have never seen this number before ...\n",
      "It it taking longer than I expected ...\n",
      "It is an even number\n"
     ]
    }
   ],
   "source": [
    "%%bash\n",
    "\n",
    "g++-14 -std=c++26 -Wall -Wextra -Wpedantic even.cpp -o ev\n",
    "./ev <<< \"1 3 6\""
   ]
  },
  {
   "cell_type": "markdown",
   "id": "84ae29fc",
   "metadata": {},
   "source": [
    "### Option 2\n",
    "\n",
    "Replace `(true)` by your continuing criterion (not stopping criterion).\n",
    "\n",
    "```C++\n",
    "int iterations = 0\n",
    "while (iterations < 100) {\n",
    "    iterations++;\n",
    "    cout << \"iteration \" << iteration << endl;\n",
    "}\n",
    "```"
   ]
  },
  {
   "cell_type": "markdown",
   "id": "46abe75d",
   "metadata": {},
   "source": [
    "### Option 3\n",
    "\n",
    "Use `for` loop.\n",
    "(Note really a new option because it is eventually a `while` loop.)\n",
    "\n",
    "Roughly speaking,\n",
    "\n",
    "```C++\n",
    "    for (A; B; C) {\n",
    "        D;\n",
    "    }\n",
    "```\n",
    "\n",
    "is the same as\n",
    "\n",
    "```C++\n",
    "    A;\n",
    "    while (B) {\n",
    "        D;\n",
    "        C;\n",
    "    }\n",
    "```\n",
    "\n",
    "This is why you usually see people writing this."
   ]
  },
  {
   "cell_type": "code",
   "execution_count": null,
   "id": "3e397f9c",
   "metadata": {
    "vscode": {
     "languageId": "cpp"
    }
   },
   "outputs": [
    {
     "name": "stdout",
     "output_type": "stream",
     "text": [
      "Overwriting for.cpp\n"
     ]
    }
   ],
   "source": [
    "%%writefile for.cpp\n",
    "\n",
    "#include <iostream>\n",
    "#include <unistd.h>\n",
    "using namespace std;\n",
    "\n",
    "int main() {\n",
    "    for (int i = 0; i < 20; i++) {\n",
    "        cout << i << endl;\n",
    "        sleep(1);\n",
    "    }\n",
    "    return 0;\n",
    "}"
   ]
  },
  {
   "cell_type": "code",
   "execution_count": null,
   "id": "ab7313b4",
   "metadata": {
    "vscode": {
     "languageId": "cpp"
    }
   },
   "outputs": [
    {
     "name": "stdout",
     "output_type": "stream",
     "text": [
      "0\n",
      "1\n",
      "2\n",
      "3\n",
      "4\n",
      "5\n",
      "6\n",
      "7\n",
      "8\n",
      "9\n",
      "10\n",
      "11\n",
      "12\n",
      "13\n",
      "14\n",
      "15\n",
      "16\n",
      "17\n",
      "18\n",
      "19\n"
     ]
    }
   ],
   "source": [
    "%%bash\n",
    "\n",
    "g++-14 -std=c++26 -Wall -Wextra -Wpedantic for.cpp -o fo\n",
    "./fo"
   ]
  },
  {
   "cell_type": "markdown",
   "id": "45af63c1",
   "metadata": {
    "vscode": {
     "languageId": "cpp"
    }
   },
   "source": [
    "## Nested for loops"
   ]
  },
  {
   "cell_type": "code",
   "execution_count": null,
   "id": "4b74494f",
   "metadata": {
    "vscode": {
     "languageId": "cpp"
    }
   },
   "outputs": [
    {
     "name": "stdout",
     "output_type": "stream",
     "text": [
      "Overwriting forfor.cpp\n"
     ]
    }
   ],
   "source": [
    "%%writefile forfor.cpp\n",
    "\n",
    "#include <iostream>\n",
    "#include <unistd.h>\n",
    "using namespace std;\n",
    "\n",
    "int main() {\n",
    "    for (int i = 0; i < 10; i++) {\n",
    "        for (int j = 0; j < 10; j++) {\n",
    "            cout << i << j << \" \";\n",
    "        }\n",
    "        cout << endl;\n",
    "        sleep(1);\n",
    "    }\n",
    "    return 0;\n",
    "}"
   ]
  },
  {
   "cell_type": "code",
   "execution_count": null,
   "id": "5cc62ea0",
   "metadata": {
    "vscode": {
     "languageId": "cpp"
    }
   },
   "outputs": [
    {
     "name": "stdout",
     "output_type": "stream",
     "text": [
      "00 01 02 03 04 05 06 07 08 09 \n",
      "10 11 12 13 14 15 16 17 18 19 \n",
      "20 21 22 23 24 25 26 27 28 29 \n",
      "30 31 32 33 34 35 36 37 38 39 \n",
      "40 41 42 43 44 45 46 47 48 49 \n",
      "50 51 52 53 54 55 56 57 58 59 \n",
      "60 61 62 63 64 65 66 67 68 69 \n",
      "70 71 72 73 74 75 76 77 78 79 \n",
      "80 81 82 83 84 85 86 87 88 89 \n",
      "90 91 92 93 94 95 96 97 98 99 \n"
     ]
    }
   ],
   "source": [
    "%%bash\n",
    "\n",
    "g++-14 -std=c++26 -Wall -Wextra -Wpedantic forfor.cpp -o ff\n",
    "./ff"
   ]
  },
  {
   "cell_type": "code",
   "execution_count": null,
   "id": "112b3620",
   "metadata": {
    "vscode": {
     "languageId": "cpp"
    }
   },
   "outputs": [
    {
     "name": "stdout",
     "output_type": "stream",
     "text": [
      "Overwriting mul_table.cpp\n"
     ]
    }
   ],
   "source": [
    "%%writefile mul_table.cpp\n",
    "\n",
    "#include <iostream>\n",
    "using namespace std;\n",
    "\n",
    "int main() {\n",
    "    cout << \"  |  \";\n",
    "    for (int j = 1; j < 10; j++) { \n",
    "        cout << j << \"  \";\n",
    "    }\n",
    "    cout << endl;\n",
    "    cout << \"--+-\";\n",
    "    for (int j = 1; j < 10; j++) { \n",
    "        cout << \"---\";\n",
    "    }\n",
    "    cout << endl;\n",
    "    for (int i = 1; i < 10; i++) {\n",
    "        cout << i << \" | \";\n",
    "        for (int j = 1; j < 10; j++) {\n",
    "            int a = i * j / 10;\n",
    "            int b = i * j % 10;\n",
    "            cout << a << b << \" \";\n",
    "        }\n",
    "        cout << endl;\n",
    "    }\n",
    "    return 0;\n",
    "}"
   ]
  },
  {
   "cell_type": "code",
   "execution_count": null,
   "id": "2dcbfebf",
   "metadata": {
    "vscode": {
     "languageId": "cpp"
    }
   },
   "outputs": [
    {
     "name": "stdout",
     "output_type": "stream",
     "text": [
      "  |  1  2  3  4  5  6  7  8  9  \n",
      "--+----------------------------\n",
      "1 | 01 02 03 04 05 06 07 08 09 \n",
      "2 | 02 04 06 08 10 12 14 16 18 \n",
      "3 | 03 06 09 12 15 18 21 24 27 \n",
      "4 | 04 08 12 16 20 24 28 32 36 \n",
      "5 | 05 10 15 20 25 30 35 40 45 \n",
      "6 | 06 12 18 24 30 36 42 48 54 \n",
      "7 | 07 14 21 28 35 42 49 56 63 \n",
      "8 | 08 16 24 32 40 48 56 64 72 \n",
      "9 | 09 18 27 36 45 54 63 72 81 \n"
     ]
    }
   ],
   "source": [
    "%%bash\n",
    "\n",
    "g++-14 -std=c++26 -Wall -Wextra -Wpedantic mul_table.cpp -o mt\n",
    "./mt"
   ]
  },
  {
   "cell_type": "markdown",
   "id": "f0e5fb7e",
   "metadata": {
    "vscode": {
     "languageId": "cpp"
    }
   },
   "source": [
    "## Estimate $\\pi$"
   ]
  },
  {
   "cell_type": "code",
   "execution_count": null,
   "id": "8cb6655f",
   "metadata": {
    "vscode": {
     "languageId": "cpp"
    }
   },
   "outputs": [
    {
     "name": "stdout",
     "output_type": "stream",
     "text": [
      "Overwriting forforfor.cpp\n"
     ]
    }
   ],
   "source": [
    "%%writefile forforfor.cpp\n",
    "\n",
    "#include <iostream>\n",
    "using namespace std;\n",
    "\n",
    "int main() {\n",
    "    float radius = 5.606;\n",
    "    int count = 0;\n",
    "    for (int i = -radius; i <= radius; i++) {\n",
    "        for (int j = -radius; j <= radius; j++) {\n",
    "            for (int k = -radius; k <= radius; k ++) {\n",
    "                if (i * i + j * j + k * k < radius * radius) {\n",
    "                    cout << \"+\";\n",
    "                    count++;\n",
    "                }\n",
    "                else {\n",
    "                    cout << \".\";\n",
    "                }\n",
    "            }\n",
    "            cout << \"  \";\n",
    "        }\n",
    "        cout << endl;\n",
    "    }\n",
    "    cout << \"Our estimate of pi is\" << endl;\n",
    "    cout << 3/4. * count / (radius * radius * radius) << endl;\n",
    "    return 0;\n",
    "}"
   ]
  },
  {
   "cell_type": "code",
   "execution_count": null,
   "id": "dad24f29",
   "metadata": {
    "vscode": {
     "languageId": "cpp"
    }
   },
   "outputs": [
    {
     "name": "stdout",
     "output_type": "stream",
     "text": [
      "...........  ...........  ...........  ....+++....  ...+++++...  ...+++++...  ...+++++...  ....+++....  ...........  ...........  ...........  \n",
      "...........  ...........  ...+++++...  ..+++++++..  ..+++++++..  ..+++++++..  ..+++++++..  ..+++++++..  ...+++++...  ...........  ...........  \n",
      "...........  ...+++++...  ..+++++++..  .+++++++++.  .+++++++++.  .+++++++++.  .+++++++++.  .+++++++++.  ..+++++++..  ...+++++...  ...........  \n",
      "....+++....  ..+++++++..  .+++++++++.  .+++++++++.  +++++++++++  +++++++++++  +++++++++++  .+++++++++.  .+++++++++.  ..+++++++..  ....+++....  \n",
      "...+++++...  ..+++++++..  .+++++++++.  +++++++++++  +++++++++++  +++++++++++  +++++++++++  +++++++++++  .+++++++++.  ..+++++++..  ...+++++...  \n",
      "...+++++...  ..+++++++..  .+++++++++.  +++++++++++  +++++++++++  +++++++++++  +++++++++++  +++++++++++  .+++++++++.  ..+++++++..  ...+++++...  \n",
      "...+++++...  ..+++++++..  .+++++++++.  +++++++++++  +++++++++++  +++++++++++  +++++++++++  +++++++++++  .+++++++++.  ..+++++++..  ...+++++...  \n",
      "....+++....  ..+++++++..  .+++++++++.  .+++++++++.  +++++++++++  +++++++++++  +++++++++++  .+++++++++.  .+++++++++.  ..+++++++..  ....+++....  \n",
      "...........  ...+++++...  ..+++++++..  .+++++++++.  .+++++++++.  .+++++++++.  .+++++++++.  .+++++++++.  ..+++++++..  ...+++++...  ...........  \n",
      "...........  ...........  ...+++++...  ..+++++++..  ..+++++++..  ..+++++++..  ..+++++++..  ..+++++++..  ...+++++...  ...........  ...........  \n",
      "...........  ...........  ...........  ....+++....  ...+++++...  ...+++++...  ...+++++...  ....+++....  ...........  ...........  ...........  \n",
      "Our estimate of pi is\n",
      "3.14591\n"
     ]
    }
   ],
   "source": [
    "%%bash\n",
    "\n",
    "g++-14 -std=c++26 -Wall -Wextra -Wpedantic forforfor.cpp -o fff\n",
    "./fff"
   ]
  },
  {
   "cell_type": "markdown",
   "id": "1af37a1b",
   "metadata": {
    "vscode": {
     "languageId": "cpp"
    }
   },
   "source": [
    "## Untraditional stopping criterion"
   ]
  },
  {
   "cell_type": "markdown",
   "id": "0fa8f448",
   "metadata": {
    "vscode": {
     "languageId": "cpp"
    }
   },
   "source": [
    "### Root\n",
    "\n",
    "Use can use loops to, say, find the least number that satisfies certain condition.\n",
    "For instance, the following program finds $\\lceil \\sqrt n \\rceil$."
   ]
  },
  {
   "cell_type": "code",
   "execution_count": null,
   "id": "180c00b8",
   "metadata": {
    "vscode": {
     "languageId": "cpp"
    }
   },
   "outputs": [
    {
     "name": "stdout",
     "output_type": "stream",
     "text": [
      "Overwriting root.cpp\n"
     ]
    }
   ],
   "source": [
    "%%writefile root.cpp\n",
    "\n",
    "#include <iostream>\n",
    "using namespace std;\n",
    "\n",
    "int main() {\n",
    "    int n = 123456789;\n",
    "    int r = 0;\n",
    "    for (int i = 0; i < n; i++) {\n",
    "        if (i * i >= n) {\n",
    "            r = i;\n",
    "            break;\n",
    "            // Note that i is defined within the loop\n",
    "            // and will die after the loop ends.\n",
    "            // We have to remember i using something that lives longer.\n",
    "        }\n",
    "    }\n",
    "    cout << \"The least number such that r^2 >= n is \" << r << endl;\n",
    "    cout << \"To double check, notice that (r - 1)^2 = \" << (r - 1) * (r - 1)\n",
    "    << \", n = \" << n << \", and r^2 = \" << r * r << endl;\n",
    "    return 0;\n",
    "}"
   ]
  },
  {
   "cell_type": "code",
   "execution_count": null,
   "id": "0b0ce380",
   "metadata": {
    "vscode": {
     "languageId": "cpp"
    }
   },
   "outputs": [
    {
     "name": "stdout",
     "output_type": "stream",
     "text": [
      "The least number such that r^2 >= n is 11112\n",
      "To double check, notice that (r - 1)^2 = 123454321, n = 123456789, and r^2 = 123476544\n"
     ]
    }
   ],
   "source": [
    "%%bash\n",
    "\n",
    "g++-14 -std=c++26 -Wall -Wextra -Wpedantic root.cpp -o ro\n",
    "./ro"
   ]
  },
  {
   "cell_type": "markdown",
   "id": "b5c8cc0e",
   "metadata": {
    "vscode": {
     "languageId": "cpp"
    }
   },
   "source": [
    "That was square root.\n",
    "Next we try cubic root."
   ]
  },
  {
   "cell_type": "code",
   "execution_count": null,
   "id": "8ef747bc",
   "metadata": {
    "vscode": {
     "languageId": "cpp"
    }
   },
   "outputs": [
    {
     "name": "stdout",
     "output_type": "stream",
     "text": [
      "Overwriting root.cpp\n"
     ]
    }
   ],
   "source": [
    "%%writefile root.cpp\n",
    "\n",
    "#include <iostream>\n",
    "using namespace std;\n",
    "\n",
    "int main() {\n",
    "    int n = 123456789;\n",
    "    int r = 0;\n",
    "    for (int i = 0; i < n; i++) {\n",
    "        if (i * i * i >= n) {\n",
    "            r = i;\n",
    "            break;\n",
    "        }\n",
    "    }\n",
    "    cout << \"The least number such that r^3 >= n is \" << r << endl;\n",
    "    cout << \"To double check, notice that (r - 1)^3 = \" << (r - 1) * (r - 1) * (r - 1)\n",
    "    << \", n = \" << n << \", and r^3 = \" << r * r * r << endl;\n",
    "    return 0;\n",
    "}"
   ]
  },
  {
   "cell_type": "code",
   "execution_count": null,
   "id": "f760a44d",
   "metadata": {
    "vscode": {
     "languageId": "cpp"
    }
   },
   "outputs": [
    {
     "name": "stdout",
     "output_type": "stream",
     "text": [
      "The least number such that r^3 >= n is 498\n",
      "To double check, notice that (r - 1)^3 = 122763473, n = 123456789, and r^3 = 123505992\n"
     ]
    }
   ],
   "source": [
    "%%bash\n",
    "\n",
    "g++-14 -std=c++26 -Wall -Wextra -Wpedantic root.cpp -o ro\n",
    "./ro"
   ]
  },
  {
   "cell_type": "markdown",
   "id": "4b7c538a",
   "metadata": {
    "vscode": {
     "languageId": "cpp"
    }
   },
   "source": [
    "## Satisfactory game"
   ]
  },
  {
   "cell_type": "code",
   "execution_count": 3,
   "id": "86d1c857",
   "metadata": {
    "vscode": {
     "languageId": "cpp"
    }
   },
   "outputs": [
    {
     "name": "stdout",
     "output_type": "stream",
     "text": [
      "Overwriting sat.cpp\n"
     ]
    }
   ],
   "source": [
    "%%writefile sat.cpp\n",
    "\n",
    "#include <iostream>\n",
    "#include <string>\n",
    "using namespace std;\n",
    "\n",
    "int main() {\n",
    "    cout << \"Please input a permutation of ABCD such that\" << endl;\n",
    "    cout << \"A is to the right of B\" << endl;\n",
    "    cout << \"B is next to C\" << endl;\n",
    "    cout << \"C is not next to D\" << endl;\n",
    "    cout << \"D is not next to A\" << endl;\n",
    "    string guess;\n",
    "    while (true) {\n",
    "        cin >> guess;\n",
    "        cout << \"Your guess is \" << guess << endl;\n",
    "        if (guess.size() != 4) {\n",
    "            cout << \"Not a permutation of ABCD.  Try again.\" << endl;\n",
    "            continue;\n",
    "        }\n",
    "        int a = 0;\n",
    "        int b = 0;\n",
    "        int c = 0;\n",
    "        int d = 0;\n",
    "        for (int i = 0; i < 4; i++) {\n",
    "            if (guess[i] == 'A') a++; \n",
    "            if (guess[i] == 'B') b++; \n",
    "            if (guess[i] == 'C') c++; \n",
    "            if (guess[i] == 'D') d++; \n",
    "        }\n",
    "        if (a * b * c * d != 1) {\n",
    "            cout << \"Not a permutation of ABCD.  Try again.\" << endl;\n",
    "            continue;\n",
    "        }\n",
    "        bool flag = false;\n",
    "        a = b = c = d;\n",
    "        for (int i = 0; i < 4; i++) {\n",
    "            if (guess[i] == 'A') a++; \n",
    "            if (guess[i] == 'B') b++; \n",
    "            if (guess[i] == 'C') c++; \n",
    "            if (guess[i] == 'D') d++; \n",
    "            if (a > b) {\n",
    "                flag = true;\n",
    "            }\n",
    "        }\n",
    "        if (flag) {\n",
    "            cout << \"A is not to the right of B.  Try again.\" << endl;\n",
    "            continue;\n",
    "        }\n",
    "        flag = true;\n",
    "        for (int i = 0; i < 3; i++) {\n",
    "            if (guess[i] == 'B' || guess[i] == 'C') {\n",
    "                if (guess[i+1] == 'B' || guess[i+1] == 'C') {\n",
    "                    flag = false;\n",
    "                }\n",
    "            }\n",
    "        }\n",
    "        if (flag) {\n",
    "            cout << \"B is not next to C.  Try again.\" << endl;\n",
    "            continue;\n",
    "        }\n",
    "        flag = false;\n",
    "        for (int i = 0; i < 3; i++) {\n",
    "            if (guess[i] == 'C' || guess[i] == 'D') {\n",
    "                if (guess[i+1] == 'C' || guess[i+1] == 'D') {\n",
    "                    flag = true;\n",
    "                }\n",
    "            }\n",
    "        }\n",
    "        if (flag) {\n",
    "            cout << \"C is next to D.  Try again.\" << endl;\n",
    "            continue;\n",
    "        }\n",
    "        flag = false;\n",
    "        for (int i = 0; i < 3; i++) {\n",
    "            if (guess[i] == 'D' || guess[i] == 'A') {\n",
    "                if (guess[i+1] == 'D' || guess[i+1] == 'A') {\n",
    "                    flag = true;\n",
    "                }\n",
    "            }\n",
    "        }\n",
    "        if (flag) {\n",
    "            cout << \"D is next to A.  Try again.\" << endl;\n",
    "            continue;\n",
    "        }\n",
    "        cout << \"It seems you succeed.  Nice!\" << endl;\n",
    "        break;\n",
    "    }\n",
    "    return 0;\n",
    "}"
   ]
  },
  {
   "cell_type": "code",
   "execution_count": 4,
   "id": "32064a5d",
   "metadata": {
    "vscode": {
     "languageId": "cpp"
    }
   },
   "outputs": [
    {
     "name": "stdout",
     "output_type": "stream",
     "text": [
      "Please input a permutation of ABCD such that\n",
      "A is to the right of B\n",
      "B is next to C\n",
      "C is not next to D\n",
      "D is not next to A\n",
      "Your guess is ABC\n",
      "Not a permutation of ABCD.  Try again.\n",
      "Your guess is AABC\n",
      "Not a permutation of ABCD.  Try again.\n",
      "Your guess is ABCD\n",
      "A is not to the right of B.  Try again.\n",
      "Your guess is DCBA\n",
      "C is next to D.  Try again.\n",
      "Your guess is DBCA\n",
      "It seems you succeed.  Nice!\n"
     ]
    }
   ],
   "source": [
    "%%bash\n",
    "\n",
    "g++-14 -std=c++26 -Wall -Wextra -Wpedantic sat.cpp -o sa\n",
    "./sa <<< \"ABC AABC ABCD DCBA DBCA\""
   ]
  },
  {
   "cell_type": "markdown",
   "id": "407cac19",
   "metadata": {
    "vscode": {
     "languageId": "cpp"
    }
   },
   "source": [
    "## Sorting"
   ]
  },
  {
   "cell_type": "code",
   "execution_count": null,
   "id": "0b26f6c6",
   "metadata": {
    "vscode": {
     "languageId": "cpp"
    }
   },
   "outputs": [
    {
     "name": "stdout",
     "output_type": "stream",
     "text": [
      "Overwriting sort.cpp\n"
     ]
    }
   ],
   "source": [
    "%%writefile sort.cpp\n",
    "\n",
    "#include <iostream>\n",
    "#include <unistd.h>\n",
    "using namespace std;\n",
    "\n",
    "int main() {\n",
    "    char a, b, c, d, e;\n",
    "    char temp;\n",
    "    cin >> a >> b >> c >> d >> e;\n",
    "    while (true) {\n",
    "        if (a > b) { temp = a; a = b; b = temp; }\n",
    "        if (b > c) { temp = b; b = c; c = temp; }\n",
    "        if (c > d) { temp = c; c = d; d = temp; }\n",
    "        if (d > e) { temp = d; d = e; e = temp; }\n",
    "        cout << a << b << c << d << e << endl;\n",
    "        if (a < b && b < c && c < d && d < e) { break; }\n",
    "    }\n",
    "}"
   ]
  },
  {
   "cell_type": "code",
   "execution_count": 14,
   "id": "1f63677a",
   "metadata": {
    "vscode": {
     "languageId": "cpp"
    }
   },
   "outputs": [
    {
     "name": "stdout",
     "output_type": "stream",
     "text": [
      "43215\n",
      "32145\n",
      "21345\n",
      "12345\n"
     ]
    }
   ],
   "source": [
    "%%bash\n",
    "\n",
    "g++-14 -std=c++26 -Wall -Wextra -Wpedantic sort.cpp -o so\n",
    "./so <<< \"54321\""
   ]
  },
  {
   "cell_type": "markdown",
   "id": "2bc26968",
   "metadata": {
    "vscode": {
     "languageId": "cpp"
    }
   },
   "source": [
    "## Binary search"
   ]
  },
  {
   "cell_type": "markdown",
   "id": "d09105d6",
   "metadata": {
    "vscode": {
     "languageId": "cpp"
    }
   },
   "source": [
    "Binary search is a very power tool\n",
    "because it avoids enumerating all integers\n",
    "when you are still **far away**.\n",
    "\n",
    "THe principle is as follows:\n",
    "You let $L$ and $R$ the the left and right ends of your search,\n",
    "where you are certain that the true answer $x$ is such that $L < x \\le R$.\n",
    "Then you cut the interval in half to see if\n",
    "$x$ is in $(L, M]$ or $(M, R]$."
   ]
  },
  {
   "cell_type": "code",
   "execution_count": 15,
   "id": "3370b40e",
   "metadata": {
    "vscode": {
     "languageId": "cpp"
    }
   },
   "outputs": [
    {
     "name": "stdout",
     "output_type": "stream",
     "text": [
      "Overwriting search.cpp\n"
     ]
    }
   ],
   "source": [
    "%%writefile search.cpp\n",
    "\n",
    "#include <iostream>\n",
    "#include <cassert>\n",
    "using namespace std;\n",
    "\n",
    "int main() {\n",
    "    int n = 123456789;\n",
    "    int L = 0;\n",
    "    int R = 20000;\n",
    "    int ans = 0;\n",
    "    assert(L * L < n);\n",
    "    assert(R * R >= n);\n",
    "    for (int it = 0; it < 100; it++) {\n",
    "        int M = (L + R) / 2;\n",
    "        if (M * M >= n) {\n",
    "            R = M;\n",
    "        }\n",
    "        if (M * M < n) {\n",
    "            L = M;\n",
    "        }\n",
    "        if (L + 1 == R) {\n",
    "            // L is bad and R is good\n",
    "            // and there are no other number in between\n",
    "            ans = R;\n",
    "            break;\n",
    "        }\n",
    "    }\n",
    "    cout << \"The least number such that ans^2 >= n is \" << ans << endl;\n",
    "    cout << \"To double check, notice that (ans - 1)^2 = \" << (ans - 1) * (ans - 1)\n",
    "    << \", n = \" << n << \", and ans^2 = \" << ans * ans << endl;\n",
    "    return 0;\n",
    "}"
   ]
  },
  {
   "cell_type": "code",
   "execution_count": 16,
   "id": "9e68976c",
   "metadata": {
    "vscode": {
     "languageId": "cpp"
    }
   },
   "outputs": [
    {
     "name": "stdout",
     "output_type": "stream",
     "text": [
      "The least number such that ans^2 >= n is 11112\n",
      "To double check, notice that (ans - 1)^2 = 123454321, n = 123456789, and ans^2 = 123476544\n"
     ]
    }
   ],
   "source": [
    "%%bash\n",
    "\n",
    "g++-14 -std=c++26 -Wall -Wextra -Wpedantic search.cpp -o se\n",
    "./se"
   ]
  },
  {
   "cell_type": "markdown",
   "id": "8c763550",
   "metadata": {
    "vscode": {
     "languageId": "cpp"
    }
   },
   "source": [
    "Binary search can do better: It works on floating-point numbers.\n",
    "(On the other hand, it is almost impossible to enumerate all `float`)."
   ]
  },
  {
   "cell_type": "code",
   "execution_count": null,
   "id": "62659787",
   "metadata": {
    "vscode": {
     "languageId": "cpp"
    }
   },
   "outputs": [
    {
     "name": "stdout",
     "output_type": "stream",
     "text": [
      "Overwriting search.cpp\n"
     ]
    }
   ],
   "source": [
    "%%writefile search.cpp\n",
    "\n",
    "#include <iostream>\n",
    "#include <cassert>\n",
    "using namespace std;\n",
    "\n",
    "int main() {\n",
    "    int n = 123456789;\n",
    "    float L = 0;\n",
    "    float R = 20000;\n",
    "    assert(L * L <= n);\n",
    "    assert(R * R >= n);\n",
    "    for (int it = 0; it < 100; it++) {\n",
    "        float M = (L + R) / 2;\n",
    "        if (M * M >= n) {\n",
    "            R = M;\n",
    "        }\n",
    "        if (M * M <= n) {\n",
    "            L = M;\n",
    "        }\n",
    "    }\n",
    "    float ans = (L + R) / 2;\n",
    "    cout << \"Our best number ans^2 = n is \" << ans << endl;\n",
    "    cout << \"To double check, notice that answer^2 = \" << ans * ans << endl;\n",
    "    return 0;\n",
    "}"
   ]
  },
  {
   "cell_type": "code",
   "execution_count": null,
   "id": "373a8c46",
   "metadata": {
    "vscode": {
     "languageId": "cpp"
    }
   },
   "outputs": [
    {
     "name": "stdout",
     "output_type": "stream",
     "text": [
      "Our best number ans^2 = n is 11111.1\n",
      "To double check, notice that answer^2 = 1.23457e+08\n"
     ]
    }
   ],
   "source": [
    "%%bash\n",
    "\n",
    "g++-14 -std=c++26 -Wall -Wextra -Wpedantic search.cpp -o se\n",
    "./se"
   ]
  },
  {
   "cell_type": "code",
   "execution_count": null,
   "id": "38bb9b66",
   "metadata": {
    "vscode": {
     "languageId": "cpp"
    }
   },
   "outputs": [
    {
     "data": {
      "text/plain": [
       "11111.111060555555"
      ]
     },
     "execution_count": 98,
     "metadata": {},
     "output_type": "execute_result"
    }
   ],
   "source": [
    "# Meanwhile, the true value is\n",
    "\n",
    "float(sqrt(123456789))"
   ]
  },
  {
   "cell_type": "markdown",
   "id": "73ca8fe0",
   "metadata": {
    "vscode": {
     "languageId": "cpp"
    }
   },
   "source": [
    "Try to replace `for (int it = 0; it < 100; it++)`\n",
    "by something like `for (int it = 0; it < 10; it++)`\n",
    "to study how many iterations is needed to get to the precision you need."
   ]
  },
  {
   "cell_type": "markdown",
   "id": "f642fe20",
   "metadata": {
    "vscode": {
     "languageId": "cpp"
    }
   },
   "source": [
    "## Fibonacci number"
   ]
  },
  {
   "cell_type": "markdown",
   "id": "52e71718",
   "metadata": {
    "vscode": {
     "languageId": "cpp"
    }
   },
   "source": [
    "It is hard to avoid fibonacci number when teaching programming.\n",
    "\n",
    "You can check the answer with [OEIS](https://oeis.org/A000045a)."
   ]
  },
  {
   "cell_type": "code",
   "execution_count": null,
   "id": "60ca5e15",
   "metadata": {
    "vscode": {
     "languageId": "cpp"
    }
   },
   "outputs": [
    {
     "name": "stdout",
     "output_type": "stream",
     "text": [
      "Overwriting fib.cpp\n"
     ]
    }
   ],
   "source": [
    "%%writefile fib.cpp\n",
    "\n",
    "#include <iostream>\n",
    "using namespace std;\n",
    "\n",
    "int main() {\n",
    "    int a = 1;\n",
    "    int b = 1;\n",
    "    int c = 1;\n",
    "    for (int n = 0; n < 50; n++) {\n",
    "        c = a + b;\n",
    "        a = b;\n",
    "        b = c;\n",
    "        cout << a << \" \";\n",
    "    }\n",
    "    return 0;\n",
    "}"
   ]
  },
  {
   "cell_type": "code",
   "execution_count": null,
   "id": "7a3447fc",
   "metadata": {
    "vscode": {
     "languageId": "cpp"
    }
   },
   "outputs": [
    {
     "name": "stdout",
     "output_type": "stream",
     "text": [
      "-1 -2 -3 -5 -8 -13 -21 -34 -55 -89 -144 -233 -377 -610 -987 -1597 -2584 -4181 -6765 -10946 -17711 -28657 -46368 -75025 -121393 -196418 -317811 -514229 -832040 -1.34627e+06 -2.17831e+06 -3.52458e+06 -5.70289e+06 -9.22746e+06 -1.49304e+07 -2.41578e+07 -3.90882e+07 -6.3246e+07 -1.02334e+08 -1.6558e+08 -2.67914e+08 -4.33494e+08 -7.01409e+08 -1.1349e+09 -1.83631e+09 -2.97121e+09 -4.80753e+09 -7.77874e+09 -1.25863e+10 -2.0365e+10 -3.29513e+10 -5.33163e+10 -8.62676e+10 -1.39584e+11 -2.25851e+11 -3.65435e+11 -5.91287e+11 -9.56722e+11 -1.54801e+12 -2.50473e+12 -4.05274e+12 -6.55747e+12 -1.06102e+13 -1.71677e+13 -2.77779e+13 -4.49456e+13 -7.27234e+13 -1.17669e+14 -1.90392e+14 -3.08061e+14 -4.98454e+14 -8.06515e+14 -1.30497e+15 -2.11148e+15 -3.41645e+15 -5.52794e+15 -8.94439e+15 -1.44723e+16 -2.34167e+16 -3.78891e+16 -6.13058e+16 -9.91948e+16 -1.60501e+17 -2.59695e+17 -4.20196e+17 -6.79891e+17 -1.10009e+18 -1.77998e+18 -2.88007e+18 -4.66004e+18 -7.54011e+18 -1.22002e+19 -1.97403e+19 -3.19404e+19 -5.16807e+19 -8.36211e+19 -1.35302e+20 -2.18923e+20 -3.54225e+20 -5.73148e+20 -9.27372e+20 -1.50052e+21 -2.42789e+21 -3.92841e+21 -6.3563e+21 -1.02847e+22 -1.6641e+22 -2.69257e+22 -4.35668e+22 -7.04925e+22 -1.14059e+23 -1.84552e+23 -2.98611e+23 -4.83163e+23 -7.81774e+23 -1.26494e+24 -2.04671e+24 -3.31165e+24 -5.35836e+24 -8.67001e+24 -1.40284e+25 -2.26984e+25 -3.67267e+25 -5.94251e+25 -9.61518e+25 -1.55577e+26 -2.51729e+26 -4.07306e+26 -6.59034e+26 -1.06634e+27 -1.72537e+27 -2.79171e+27 -4.51709e+27 -7.3088e+27 -1.18259e+28 -1.91347e+28 -3.09606e+28 -5.00953e+28 -8.10559e+28 -1.31151e+29 -2.12207e+29 -3.43358e+29 -5.55565e+29 -8.98923e+29 -1.45449e+30 -2.35341e+30 -3.8079e+30 -6.16131e+30 -9.96921e+30 -1.61305e+31 -2.60997e+31 -4.22303e+31 -6.833e+31 -1.1056e+32 -1.7889e+32 -2.89451e+32 -4.68341e+32 -7.57791e+32 -1.22613e+33 -1.98392e+33 -3.21006e+33 -5.19398e+33 -8.40404e+33 -1.3598e+34 -2.20021e+34 -3.56001e+34 -5.76021e+34 -9.32022e+34 -1.50804e+35 -2.44006e+35 -3.94811e+35 -6.38817e+35 -1.03363e+36 -1.67245e+36 -2.70607e+36 -4.37852e+36 -7.08459e+36 -1.14631e+37 -1.85477e+37 -3.00108e+37 -4.85585e+37 -7.85693e+37 -1.27128e+38 -2.05697e+38 -3.32825e+38 -inf -inf -inf -inf -inf -inf -inf -inf -inf -inf -inf -inf -inf -inf -inf "
     ]
    }
   ],
   "source": [
    "%%bash\n",
    "\n",
    "g++-14 -std=c++26 -Wall -Wextra -Wpedantic fib.cpp -o fi\n",
    "./fi"
   ]
  },
  {
   "cell_type": "markdown",
   "id": "2fa3f6a7",
   "metadata": {
    "vscode": {
     "languageId": "cpp"
    }
   },
   "source": [
    "You start seeing negative numbers because **integer overflow**.\n",
    "Roughly speaking, `int` is designed for integers in the range\n",
    "$[-2^{31}, 2^{31} - 1]$.\n",
    "Anything that goes beyond $2^{31} - 1$ will wrap back to $-2^{31}$,\n",
    "and anything that goes below $-2^{31}$ will reappear at $2^{31} - 1$.\n",
    "\n",
    "To verify my theory, let's cheat with python; python's integer is very long."
   ]
  },
  {
   "cell_type": "code",
   "execution_count": null,
   "id": "ed1004d3",
   "metadata": {
    "vscode": {
     "languageId": "cpp"
    }
   },
   "outputs": [
    {
     "name": "stdout",
     "output_type": "stream",
     "text": [
      "1 2 3 5 8 13 21 34 55 89 144 233 377 610 987 1597 2584 4181 6765 10946 17711 28657 46368 75025 121393 196418 317811 514229 832040 1346269 2178309 3524578 5702887 9227465 14930352 24157817 39088169 63245986 102334155 165580141 267914296 433494437 701408733 1134903170 1836311903 -1323752223 (actually 2971215073)\n",
      "512559680 (actually 4807526976)\n",
      "-811192543 (actually 7778742049)\n",
      "-298632863 (actually 12586269025)\n",
      "-1109825406 (actually 20365011074)\n"
     ]
    }
   ],
   "source": [
    "a = b = c = 1\n",
    "for n in range(50):\n",
    "    c = a + b;\n",
    "    a = b;\n",
    "    b = c;\n",
    "    if (a < 2^31):\n",
    "        print(a, end=' ')\n",
    "    else:\n",
    "        A = (a + 2^31) % 2^32 - 2^31\n",
    "        print(f'{A} (actually {a})')"
   ]
  },
  {
   "cell_type": "markdown",
   "id": "b4f739f5",
   "metadata": {
    "vscode": {
     "languageId": "cpp"
    }
   },
   "source": [
    "Now `long long int` can solve this problem partially because\n",
    "it is design for $[-2^{63}, 2^{63} - 1]$."
   ]
  },
  {
   "cell_type": "code",
   "execution_count": null,
   "id": "293a6373",
   "metadata": {
    "vscode": {
     "languageId": "cpp"
    }
   },
   "outputs": [
    {
     "name": "stdout",
     "output_type": "stream",
     "text": [
      "Overwriting fib.cpp\n"
     ]
    }
   ],
   "source": [
    "%%writefile fib.cpp\n",
    "\n",
    "#include <iostream>\n",
    "using namespace std;\n",
    "\n",
    "int main() {\n",
    "    long long a = 1;\n",
    "    long long b = 1;\n",
    "    long long c = 1;\n",
    "    for (int n = 0; n < 100; n++) {\n",
    "        c = a + b;\n",
    "        a = b;\n",
    "        b = c;\n",
    "        cout << a << \" \";\n",
    "    }\n",
    "    return 0;\n",
    "}"
   ]
  },
  {
   "cell_type": "code",
   "execution_count": null,
   "id": "acd18445",
   "metadata": {
    "vscode": {
     "languageId": "cpp"
    }
   },
   "outputs": [
    {
     "name": "stdout",
     "output_type": "stream",
     "text": [
      "-1 -2 -3 -5 -8 -13 -21 -34 -55 -89 -144 -233 -377 -610 -987 -1597 -2584 -4181 -6765 -10946 -17711 -28657 -46368 -75025 -121393 -196418 -317811 -514229 -832040 -1.34627e+06 -2.17831e+06 -3.52458e+06 -5.70289e+06 -9.22746e+06 -1.49304e+07 -2.41578e+07 -3.90882e+07 -6.3246e+07 -1.02334e+08 -1.6558e+08 -2.67914e+08 -4.33494e+08 -7.01409e+08 -1.1349e+09 -1.83631e+09 -2.97121e+09 -4.80753e+09 -7.77874e+09 -1.25863e+10 -2.0365e+10 -3.29513e+10 -5.33163e+10 -8.62676e+10 -1.39584e+11 -2.25851e+11 -3.65435e+11 -5.91287e+11 -9.56722e+11 -1.54801e+12 -2.50473e+12 -4.05274e+12 -6.55747e+12 -1.06102e+13 -1.71677e+13 -2.77779e+13 -4.49456e+13 -7.27234e+13 -1.17669e+14 -1.90392e+14 -3.08061e+14 -4.98454e+14 -8.06515e+14 -1.30497e+15 -2.11148e+15 -3.41645e+15 -5.52794e+15 -8.94439e+15 -1.44723e+16 -2.34167e+16 -3.78891e+16 -6.13058e+16 -9.91948e+16 -1.60501e+17 -2.59695e+17 -4.20196e+17 -6.79891e+17 -1.10009e+18 -1.77998e+18 -2.88007e+18 -4.66004e+18 -7.54011e+18 -1.22002e+19 -1.97403e+19 -3.19404e+19 -5.16807e+19 -8.36211e+19 -1.35302e+20 -2.18923e+20 -3.54225e+20 -5.73148e+20 -9.27372e+20 -1.50052e+21 -2.42789e+21 -3.92841e+21 -6.3563e+21 -1.02847e+22 -1.6641e+22 -2.69257e+22 -4.35668e+22 -7.04925e+22 -1.14059e+23 -1.84552e+23 -2.98611e+23 -4.83163e+23 -7.81774e+23 -1.26494e+24 -2.04671e+24 -3.31165e+24 -5.35836e+24 -8.67001e+24 -1.40284e+25 -2.26984e+25 -3.67267e+25 -5.94251e+25 -9.61518e+25 -1.55577e+26 -2.51729e+26 -4.07306e+26 -6.59034e+26 -1.06634e+27 -1.72537e+27 -2.79171e+27 -4.51709e+27 -7.3088e+27 -1.18259e+28 -1.91347e+28 -3.09606e+28 -5.00953e+28 -8.10559e+28 -1.31151e+29 -2.12207e+29 -3.43358e+29 -5.55565e+29 -8.98923e+29 -1.45449e+30 -2.35341e+30 -3.8079e+30 -6.16131e+30 -9.96921e+30 -1.61305e+31 -2.60997e+31 -4.22303e+31 -6.833e+31 -1.1056e+32 -1.7889e+32 -2.89451e+32 -4.68341e+32 -7.57791e+32 -1.22613e+33 -1.98392e+33 -3.21006e+33 -5.19398e+33 -8.40404e+33 -1.3598e+34 -2.20021e+34 -3.56001e+34 -5.76021e+34 -9.32022e+34 -1.50804e+35 -2.44006e+35 -3.94811e+35 -6.38817e+35 -1.03363e+36 -1.67245e+36 -2.70607e+36 -4.37852e+36 -7.08459e+36 -1.14631e+37 -1.85477e+37 -3.00108e+37 -4.85585e+37 -7.85693e+37 -1.27128e+38 -2.05697e+38 -3.32825e+38 -inf -inf -inf -inf -inf -inf -inf -inf -inf -inf -inf -inf -inf -inf -inf "
     ]
    }
   ],
   "source": [
    "%%bash\n",
    "\n",
    "g++-14 -std=c++26 -Wall -Wextra -Wpedantic fib.cpp -o fi\n",
    "./fi"
   ]
  },
  {
   "cell_type": "markdown",
   "id": "00acef01",
   "metadata": {
    "vscode": {
     "languageId": "cpp"
    }
   },
   "source": [
    "But it still overflows.\n",
    "\n",
    "Let's double check with python."
   ]
  },
  {
   "cell_type": "code",
   "execution_count": null,
   "id": "05b074b0",
   "metadata": {
    "vscode": {
     "languageId": "cpp"
    }
   },
   "outputs": [
    {
     "name": "stdout",
     "output_type": "stream",
     "text": [
      "1 2 3 5 8 13 21 34 55 89 144 233 377 610 987 1597 2584 4181 6765 10946 17711 28657 46368 75025 121393 196418 317811 514229 832040 1346269 2178309 3524578 5702887 9227465 14930352 24157817 39088169 63245986 102334155 165580141 267914296 433494437 701408733 1134903170 1836311903 2971215073 4807526976 7778742049 12586269025 20365011074 32951280099 53316291173 86267571272 139583862445 225851433717 365435296162 591286729879 956722026041 1548008755920 2504730781961 4052739537881 6557470319842 10610209857723 17167680177565 27777890035288 44945570212853 72723460248141 117669030460994 190392490709135 308061521170129 498454011879264 806515533049393 1304969544928657 2111485077978050 3416454622906707 5527939700884757 8944394323791464 14472334024676221 23416728348467685 37889062373143906 61305790721611591 99194853094755497 160500643816367088 259695496911122585 420196140727489673 679891637638612258 1100087778366101931 1779979416004714189 2880067194370816120 4660046610375530309 7540113804746346429 -6246583658587674878 (actually 12200160415121876738)\n",
      "1293530146158671551 (actually 19740274219868223167)\n",
      "-4953053512429003327 (actually 31940434634990099905)\n",
      "-3659523366270331776 (actually 51680708854858323072)\n",
      "-8612576878699335103 (actually 83621143489848422977)\n",
      "6174643828739884737 (actually 135301852344706746049)\n",
      "-2437933049959450366 (actually 218922995834555169026)\n",
      "3736710778780434371 (actually 354224848179261915075)\n",
      "1298777728820984005 (actually 573147844013817084101)\n"
     ]
    }
   ],
   "source": [
    "a = b = c = 1\n",
    "for n in range(100):\n",
    "    c = a + b;\n",
    "    a = b;\n",
    "    b = c;\n",
    "    if (a < 2^63): print(a, end=' ')\n",
    "    else:\n",
    "        A = (a + 2^63) % 2^64 - 2^63\n",
    "        print(f'{A} (actually {a})')"
   ]
  },
  {
   "cell_type": "markdown",
   "id": "f266b0cd",
   "metadata": {
    "vscode": {
     "languageId": "cpp"
    }
   },
   "source": [
    "Floating-point numbers can handle range larger than `long long`\n",
    "at the cost of being not precise up to $\\pm1$.\n",
    "\n",
    "you see, when we see scientific notation like $6.02 \\cdot 10^{23}$,\n",
    "we do not really care if that number is\n",
    "$6{,}020{,}000{,}000{,}000$ or\n",
    "$6{,}020{,}000{,}000{,}001$ or\n",
    "$6{,}019{,}999{,}999{,}999$.\n",
    "\n",
    "The computer knows you.\n",
    "So it give up the less significant digits\n",
    "to save space for numbers that could have overflown."
   ]
  },
  {
   "cell_type": "code",
   "execution_count": null,
   "id": "dd83e121",
   "metadata": {
    "vscode": {
     "languageId": "cpp"
    }
   },
   "outputs": [
    {
     "name": "stdout",
     "output_type": "stream",
     "text": [
      "Overwriting fib.cpp\n"
     ]
    }
   ],
   "source": [
    "%%writefile fib.cpp\n",
    "\n",
    "#include <iostream>\n",
    "using namespace std;\n",
    "\n",
    "int main() {\n",
    "    float a = 1;\n",
    "    float b = 1;\n",
    "    float c = 1;\n",
    "    for (int n = 0; n < 200; n++) {\n",
    "        c = a + b;\n",
    "        a = b;\n",
    "        b = c;\n",
    "        cout << a << \" \";\n",
    "    }\n",
    "    return 0;\n",
    "}"
   ]
  },
  {
   "cell_type": "code",
   "execution_count": null,
   "id": "11793384",
   "metadata": {
    "vscode": {
     "languageId": "cpp"
    }
   },
   "outputs": [
    {
     "name": "stdout",
     "output_type": "stream",
     "text": [
      "1 2 3 5 8 13 21 34 55 89 144 233 377 610 987 1597 2584 4181 6765 10946 17711 28657 46368 75025 121393 196418 317811 514229 832040 1.34627e+06 2.17831e+06 3.52458e+06 5.70289e+06 9.22746e+06 1.49304e+07 2.41578e+07 3.90882e+07 6.3246e+07 1.02334e+08 1.6558e+08 2.67914e+08 4.33494e+08 7.01409e+08 1.1349e+09 1.83631e+09 2.97121e+09 4.80753e+09 7.77874e+09 1.25863e+10 2.0365e+10 3.29513e+10 5.33163e+10 8.62676e+10 1.39584e+11 2.25851e+11 3.65435e+11 5.91287e+11 9.56722e+11 1.54801e+12 2.50473e+12 4.05274e+12 6.55747e+12 1.06102e+13 1.71677e+13 2.77779e+13 4.49456e+13 7.27234e+13 1.17669e+14 1.90392e+14 3.08061e+14 4.98454e+14 8.06515e+14 1.30497e+15 2.11148e+15 3.41645e+15 5.52794e+15 8.94439e+15 1.44723e+16 2.34167e+16 3.78891e+16 6.13058e+16 9.91948e+16 1.60501e+17 2.59695e+17 4.20196e+17 6.79891e+17 1.10009e+18 1.77998e+18 2.88007e+18 4.66004e+18 7.54011e+18 1.22002e+19 1.97403e+19 3.19404e+19 5.16807e+19 8.36211e+19 1.35302e+20 2.18923e+20 3.54225e+20 5.73148e+20 9.27372e+20 1.50052e+21 2.42789e+21 3.92841e+21 6.3563e+21 1.02847e+22 1.6641e+22 2.69257e+22 4.35668e+22 7.04925e+22 1.14059e+23 1.84552e+23 2.98611e+23 4.83163e+23 7.81774e+23 1.26494e+24 2.04671e+24 3.31165e+24 5.35836e+24 8.67001e+24 1.40284e+25 2.26984e+25 3.67267e+25 5.94251e+25 9.61518e+25 1.55577e+26 2.51729e+26 4.07306e+26 6.59034e+26 1.06634e+27 1.72537e+27 2.79171e+27 4.51709e+27 7.3088e+27 1.18259e+28 1.91347e+28 3.09606e+28 5.00953e+28 8.10559e+28 1.31151e+29 2.12207e+29 3.43358e+29 5.55565e+29 8.98923e+29 1.45449e+30 2.35341e+30 3.8079e+30 6.16131e+30 9.96921e+30 1.61305e+31 2.60997e+31 4.22303e+31 6.833e+31 1.1056e+32 1.7889e+32 2.89451e+32 4.68341e+32 7.57791e+32 1.22613e+33 1.98392e+33 3.21006e+33 5.19398e+33 8.40404e+33 1.3598e+34 2.20021e+34 3.56001e+34 5.76021e+34 9.32022e+34 1.50804e+35 2.44006e+35 3.94811e+35 6.38817e+35 1.03363e+36 1.67245e+36 2.70607e+36 4.37852e+36 7.08459e+36 1.14631e+37 1.85477e+37 3.00108e+37 4.85585e+37 7.85693e+37 1.27128e+38 2.05697e+38 3.32825e+38 inf inf inf inf inf inf inf inf inf inf inf inf inf inf inf "
     ]
    }
   ],
   "source": [
    "%%bash\n",
    "\n",
    "g++-14 -std=c++26 -Wall -Wextra -Wpedantic fib.cpp -o fi\n",
    "./fi"
   ]
  },
  {
   "cell_type": "markdown",
   "id": "8e975cc9",
   "metadata": {
    "vscode": {
     "languageId": "cpp"
    }
   },
   "source": [
    "`float` still overflows, except that it does not go back to negative number.\n",
    "It **remembers** that it overflows because it's too large, and becomes $+\\infty$.\n",
    "\n",
    "Similarly, a `float` that overflows because it's too negative becomes $-\\infty$."
   ]
  },
  {
   "cell_type": "code",
   "execution_count": null,
   "id": "350efcd3",
   "metadata": {
    "vscode": {
     "languageId": "cpp"
    }
   },
   "outputs": [
    {
     "name": "stdout",
     "output_type": "stream",
     "text": [
      "Overwriting fib.cpp\n"
     ]
    }
   ],
   "source": [
    "%%writefile fib.cpp\n",
    "\n",
    "#include <iostream>\n",
    "using namespace std;\n",
    "\n",
    "int main() {\n",
    "    float a = -1;\n",
    "    float b = -1;\n",
    "    float c = -1;\n",
    "    for (int n = 0; n < 200; n++) {\n",
    "        c = a + b;\n",
    "        a = b;\n",
    "        b = c;\n",
    "        cout << a << \" \";\n",
    "    }\n",
    "    return 0;\n",
    "}"
   ]
  },
  {
   "cell_type": "code",
   "execution_count": null,
   "id": "31866888",
   "metadata": {
    "vscode": {
     "languageId": "cpp"
    }
   },
   "outputs": [
    {
     "name": "stdout",
     "output_type": "stream",
     "text": [
      "-1 -2 -3 -5 -8 -13 -21 -34 -55 -89 -144 -233 -377 -610 -987 -1597 -2584 -4181 -6765 -10946 -17711 -28657 -46368 -75025 -121393 -196418 -317811 -514229 -832040 -1.34627e+06 -2.17831e+06 -3.52458e+06 -5.70289e+06 -9.22746e+06 -1.49304e+07 -2.41578e+07 -3.90882e+07 -6.3246e+07 -1.02334e+08 -1.6558e+08 -2.67914e+08 -4.33494e+08 -7.01409e+08 -1.1349e+09 -1.83631e+09 -2.97121e+09 -4.80753e+09 -7.77874e+09 -1.25863e+10 -2.0365e+10 -3.29513e+10 -5.33163e+10 -8.62676e+10 -1.39584e+11 -2.25851e+11 -3.65435e+11 -5.91287e+11 -9.56722e+11 -1.54801e+12 -2.50473e+12 -4.05274e+12 -6.55747e+12 -1.06102e+13 -1.71677e+13 -2.77779e+13 -4.49456e+13 -7.27234e+13 -1.17669e+14 -1.90392e+14 -3.08061e+14 -4.98454e+14 -8.06515e+14 -1.30497e+15 -2.11148e+15 -3.41645e+15 -5.52794e+15 -8.94439e+15 -1.44723e+16 -2.34167e+16 -3.78891e+16 -6.13058e+16 -9.91948e+16 -1.60501e+17 -2.59695e+17 -4.20196e+17 -6.79891e+17 -1.10009e+18 -1.77998e+18 -2.88007e+18 -4.66004e+18 -7.54011e+18 -1.22002e+19 -1.97403e+19 -3.19404e+19 -5.16807e+19 -8.36211e+19 -1.35302e+20 -2.18923e+20 -3.54225e+20 -5.73148e+20 -9.27372e+20 -1.50052e+21 -2.42789e+21 -3.92841e+21 -6.3563e+21 -1.02847e+22 -1.6641e+22 -2.69257e+22 -4.35668e+22 -7.04925e+22 -1.14059e+23 -1.84552e+23 -2.98611e+23 -4.83163e+23 -7.81774e+23 -1.26494e+24 -2.04671e+24 -3.31165e+24 -5.35836e+24 -8.67001e+24 -1.40284e+25 -2.26984e+25 -3.67267e+25 -5.94251e+25 -9.61518e+25 -1.55577e+26 -2.51729e+26 -4.07306e+26 -6.59034e+26 -1.06634e+27 -1.72537e+27 -2.79171e+27 -4.51709e+27 -7.3088e+27 -1.18259e+28 -1.91347e+28 -3.09606e+28 -5.00953e+28 -8.10559e+28 -1.31151e+29 -2.12207e+29 -3.43358e+29 -5.55565e+29 -8.98923e+29 -1.45449e+30 -2.35341e+30 -3.8079e+30 -6.16131e+30 -9.96921e+30 -1.61305e+31 -2.60997e+31 -4.22303e+31 -6.833e+31 -1.1056e+32 -1.7889e+32 -2.89451e+32 -4.68341e+32 -7.57791e+32 -1.22613e+33 -1.98392e+33 -3.21006e+33 -5.19398e+33 -8.40404e+33 -1.3598e+34 -2.20021e+34 -3.56001e+34 -5.76021e+34 -9.32022e+34 -1.50804e+35 -2.44006e+35 -3.94811e+35 -6.38817e+35 -1.03363e+36 -1.67245e+36 -2.70607e+36 -4.37852e+36 -7.08459e+36 -1.14631e+37 -1.85477e+37 -3.00108e+37 -4.85585e+37 -7.85693e+37 -1.27128e+38 -2.05697e+38 -3.32825e+38 -inf -inf -inf -inf -inf -inf -inf -inf -inf -inf -inf -inf -inf -inf -inf "
     ]
    }
   ],
   "source": [
    "%%bash\n",
    "\n",
    "g++-14 -std=c++26 -Wall -Wextra -Wpedantic fib.cpp -o fi\n",
    "./fi"
   ]
  },
  {
   "cell_type": "markdown",
   "id": "5fc72bf4",
   "metadata": {
    "vscode": {
     "languageId": "cpp"
    }
   },
   "source": [
    "`double` has a larger range but it is still not infinite."
   ]
  },
  {
   "cell_type": "code",
   "execution_count": null,
   "id": "9642d1c9",
   "metadata": {
    "vscode": {
     "languageId": "cpp"
    }
   },
   "outputs": [
    {
     "name": "stdout",
     "output_type": "stream",
     "text": [
      "Overwriting fib.cpp\n"
     ]
    }
   ],
   "source": [
    "%%writefile fib.cpp\n",
    "\n",
    "#include <iostream>\n",
    "using namespace std;\n",
    "\n",
    "int main() {\n",
    "    double a = 1;\n",
    "    double b = 1;\n",
    "    double c = 1;\n",
    "    for (int n = 0; n < 1500; n++) {\n",
    "        c = a + b;\n",
    "        a = b;\n",
    "        b = c;\n",
    "        cout << a << \" \";\n",
    "    }\n",
    "    return 0;\n",
    "}"
   ]
  },
  {
   "cell_type": "code",
   "execution_count": null,
   "id": "3ac96176",
   "metadata": {
    "vscode": {
     "languageId": "cpp"
    }
   },
   "outputs": [
    {
     "name": "stdout",
     "output_type": "stream",
     "text": [
      "-1 -2 -3 -5 -8 -13 -21 -34 -55 -89 -144 -233 -377 -610 -987 -1597 -2584 -4181 -6765 -10946 -17711 -28657 -46368 -75025 -121393 -196418 -317811 -514229 -832040 -1.34627e+06 -2.17831e+06 -3.52458e+06 -5.70289e+06 -9.22746e+06 -1.49304e+07 -2.41578e+07 -3.90882e+07 -6.3246e+07 -1.02334e+08 -1.6558e+08 -2.67914e+08 -4.33494e+08 -7.01409e+08 -1.1349e+09 -1.83631e+09 -2.97121e+09 -4.80753e+09 -7.77874e+09 -1.25863e+10 -2.0365e+10 -3.29513e+10 -5.33163e+10 -8.62676e+10 -1.39584e+11 -2.25851e+11 -3.65435e+11 -5.91287e+11 -9.56722e+11 -1.54801e+12 -2.50473e+12 -4.05274e+12 -6.55747e+12 -1.06102e+13 -1.71677e+13 -2.77779e+13 -4.49456e+13 -7.27234e+13 -1.17669e+14 -1.90392e+14 -3.08061e+14 -4.98454e+14 -8.06515e+14 -1.30497e+15 -2.11148e+15 -3.41645e+15 -5.52794e+15 -8.94439e+15 -1.44723e+16 -2.34167e+16 -3.78891e+16 -6.13058e+16 -9.91948e+16 -1.60501e+17 -2.59695e+17 -4.20196e+17 -6.79891e+17 -1.10009e+18 -1.77998e+18 -2.88007e+18 -4.66004e+18 -7.54011e+18 -1.22002e+19 -1.97403e+19 -3.19404e+19 -5.16807e+19 -8.36211e+19 -1.35302e+20 -2.18923e+20 -3.54225e+20 -5.73148e+20 -9.27372e+20 -1.50052e+21 -2.42789e+21 -3.92841e+21 -6.3563e+21 -1.02847e+22 -1.6641e+22 -2.69257e+22 -4.35668e+22 -7.04925e+22 -1.14059e+23 -1.84552e+23 -2.98611e+23 -4.83163e+23 -7.81774e+23 -1.26494e+24 -2.04671e+24 -3.31165e+24 -5.35836e+24 -8.67001e+24 -1.40284e+25 -2.26984e+25 -3.67267e+25 -5.94251e+25 -9.61518e+25 -1.55577e+26 -2.51729e+26 -4.07306e+26 -6.59034e+26 -1.06634e+27 -1.72537e+27 -2.79171e+27 -4.51709e+27 -7.3088e+27 -1.18259e+28 -1.91347e+28 -3.09606e+28 -5.00953e+28 -8.10559e+28 -1.31151e+29 -2.12207e+29 -3.43358e+29 -5.55565e+29 -8.98923e+29 -1.45449e+30 -2.35341e+30 -3.8079e+30 -6.16131e+30 -9.96921e+30 -1.61305e+31 -2.60997e+31 -4.22303e+31 -6.833e+31 -1.1056e+32 -1.7889e+32 -2.89451e+32 -4.68341e+32 -7.57791e+32 -1.22613e+33 -1.98392e+33 -3.21006e+33 -5.19398e+33 -8.40404e+33 -1.3598e+34 -2.20021e+34 -3.56001e+34 -5.76021e+34 -9.32022e+34 -1.50804e+35 -2.44006e+35 -3.94811e+35 -6.38817e+35 -1.03363e+36 -1.67245e+36 -2.70607e+36 -4.37852e+36 -7.08459e+36 -1.14631e+37 -1.85477e+37 -3.00108e+37 -4.85585e+37 -7.85693e+37 -1.27128e+38 -2.05697e+38 -3.32825e+38 -inf -inf -inf -inf -inf -inf -inf -inf -inf -inf -inf -inf -inf -inf -inf "
     ]
    }
   ],
   "source": [
    "%%bash\n",
    "\n",
    "g++-14 -std=c++26 -Wall -Wextra -Wpedantic fib.cpp -o fi\n",
    "./fi"
   ]
  },
  {
   "cell_type": "markdown",
   "id": "53f1d35d",
   "metadata": {
    "vscode": {
     "languageId": "cpp"
    }
   },
   "source": [
    "Let's check if python reports similar numbers,"
   ]
  },
  {
   "cell_type": "code",
   "execution_count": null,
   "id": "8b64901b",
   "metadata": {
    "vscode": {
     "languageId": "cpp"
    }
   },
   "outputs": [
    {
     "name": "stdout",
     "output_type": "stream",
     "text": [
      "3.0853830266784576e+307 4.992254605477768e+307 8.077637632156225e+307 1.3069892237633993e+308 inf inf inf inf inf inf inf inf inf inf inf inf inf inf inf inf inf inf inf inf inf inf inf inf inf "
     ]
    }
   ],
   "source": [
    "a = b = c = 1\n",
    "for n in range(1500):\n",
    "    c = a + b;\n",
    "    a = b;\n",
    "    b = c;\n",
    "    if n > 1470: print(float(a), end=' ')"
   ]
  },
  {
   "cell_type": "markdown",
   "id": "d74a0ec7",
   "metadata": {
    "vscode": {
     "languageId": "cpp"
    }
   },
   "source": [
    "There is another thing called **underflow**,\n",
    "meaning that the number is too close to $0$ it can't be remembered properly."
   ]
  },
  {
   "cell_type": "markdown",
   "id": "42830ed7",
   "metadata": {
    "vscode": {
     "languageId": "cpp"
    }
   },
   "source": [
    "## ODE"
   ]
  },
  {
   "cell_type": "markdown",
   "id": "ff97af03",
   "metadata": {
    "vscode": {
     "languageId": "cpp"
    }
   },
   "source": [
    "Let's try to solve the initial value problem\n",
    "$$f''(t) = -f(t)$$\n",
    "$$f(0) = 0$$\n",
    "$$f'(0) = 1$$\n",
    "\n",
    "We know the answer is $f(t) = \\sin(t)$\n",
    "but the computer does not, so we teach it.\n",
    "\n",
    "Note that $f(t + dt) \\approx f(t) + f'(t)dt$\n",
    "and that $f'(t + dt) \\approx f'(t) + f''(t)dt = f'(t) -f(t)dt$"
   ]
  },
  {
   "cell_type": "code",
   "execution_count": null,
   "id": "6497b65c",
   "metadata": {
    "vscode": {
     "languageId": "cpp"
    }
   },
   "outputs": [
    {
     "name": "stdout",
     "output_type": "stream",
     "text": [
      "Overwriting ode.cpp\n"
     ]
    }
   ],
   "source": [
    "%%writefile ode.cpp\n",
    "\n",
    "#include <iostream>\n",
    "using namespace std;\n",
    "\n",
    "int main() {\n",
    "    float f = 0;\n",
    "    float dfdt = 1;\n",
    "    float dt = 1e-3;\n",
    "    for (float t = 0; t < 10; t += dt) {\n",
    "        float ddfddt = -f;\n",
    "        dfdt += ddfddt * dt;\n",
    "        f += dfdt * dt;\n",
    "    }\n",
    "    cout << \"At t = 10\" << endl;\n",
    "    cout << \"f(t) = \" << f << endl;\n",
    "    cout << \"f'(t) = \" << dfdt << endl;\n",
    "    return 0;\n",
    "}"
   ]
  },
  {
   "cell_type": "code",
   "execution_count": null,
   "id": "ec400d52",
   "metadata": {
    "vscode": {
     "languageId": "cpp"
    }
   },
   "outputs": [
    {
     "name": "stdout",
     "output_type": "stream",
     "text": [
      "At t = 10\n",
      "f(t) = -0.544023\n",
      "f'(t) = -0.839342\n"
     ]
    }
   ],
   "source": [
    "%%bash\n",
    "\n",
    "g++-14 -std=c++26 -Wall -Wextra -Wpedantic ode.cpp -o od\n",
    "./od"
   ]
  },
  {
   "cell_type": "code",
   "execution_count": 17,
   "id": "e473917b",
   "metadata": {
    "vscode": {
     "languageId": "cpp"
    }
   },
   "outputs": [
    {
     "data": {
      "text/plain": [
       "(-0.5440211108893698, -0.8390715290764524)"
      ]
     },
     "execution_count": 17,
     "metadata": {},
     "output_type": "execute_result"
    }
   ],
   "source": [
    "# Now double check the answer\n",
    "float(sin(10)), float(cos(10))"
   ]
  },
  {
   "cell_type": "markdown",
   "id": "320264f4",
   "metadata": {
    "vscode": {
     "languageId": "cpp"
    }
   },
   "source": [
    "## ODE and animation"
   ]
  },
  {
   "cell_type": "markdown",
   "id": "51ca3e65",
   "metadata": {},
   "source": [
    "We can visualize the ODE by command line animation.\n",
    "Here is how"
   ]
  },
  {
   "cell_type": "code",
   "execution_count": null,
   "id": "9c852500",
   "metadata": {
    "vscode": {
     "languageId": "cpp"
    }
   },
   "outputs": [
    {
     "name": "stdout",
     "output_type": "stream",
     "text": [
      "Overwriting animate.cpp\n"
     ]
    }
   ],
   "source": [
    "%%writefile animate.cpp\n",
    "\n",
    "#include <iostream>\n",
    "#include <unistd.h>\n",
    "using namespace std;\n",
    "\n",
    "int main() {\n",
    "    float f = 0;\n",
    "    float df = 1;\n",
    "    float dt = 1e-1;\n",
    "    for (float t = 0; t < 10; t += dt) {\n",
    "        float ddf = -f;\n",
    "        df += ddf * dt;\n",
    "        f += df * dt;\n",
    "\n",
    "        // Now we start printing\n",
    "        for (int x = -80; x <= 80; x++) {\n",
    "            char c = ' ';\n",
    "            int F = f * 50;\n",
    "            if (x == 0) c = '|';\n",
    "            if (x == F) c = '@';\n",
    "            if (0 < x && x < F) c = '~';\n",
    "            if (F < x && x < 0) c = '~';\n",
    "            cout << c;\n",
    "        }\n",
    "        cout << endl;\n",
    "        for (int x = -80; x <= 80; x++) {\n",
    "            char c = ' ';\n",
    "            int F = f * 50;\n",
    "            int dF = df * 20;\n",
    "            if (0 < x - F && x - F < dF) c = '>';\n",
    "            if (dF < x - F && x - F < 0) c = '<';\n",
    "            cout << c;\n",
    "        }\n",
    "        cout << endl;\n",
    "        usleep(100000);\n",
    "    }\n",
    "    return 0;\n",
    "}"
   ]
  },
  {
   "cell_type": "code",
   "execution_count": null,
   "id": "446139b3",
   "metadata": {
    "vscode": {
     "languageId": "cpp"
    }
   },
   "outputs": [
    {
     "name": "stdout",
     "output_type": "stream",
     "text": [
      "                                                                                |~~~~@                                                                           \n",
      "                                                                                      >>>>>>>>>>>>>>>>>>>                                                        \n",
      "                                                                                |~~~~~~~~@                                                                       \n",
      "                                                                                          >>>>>>>>>>>>>>>>>>                                                     \n",
      "                                                                                |~~~~~~~~~~~~~@                                                                  \n",
      "                                                                                               >>>>>>>>>>>>>>>>>>                                                \n",
      "                                                                                |~~~~~~~~~~~~~~~~~~@                                                             \n",
      "                                                                                                    >>>>>>>>>>>>>>>>>                                            \n",
      "                                                                                |~~~~~~~~~~~~~~~~~~~~~~~@                                                        \n",
      "                                                                                                         >>>>>>>>>>>>>>>>>                                       \n",
      "                                                                                |~~~~~~~~~~~~~~~~~~~~~~~~~~~@                                                    \n",
      "                                                                                                             >>>>>>>>>>>>>>>>                                    \n",
      "                                                                                |~~~~~~~~~~~~~~~~~~~~~~~~~~~~~~~@                                                \n",
      "                                                                                                                 >>>>>>>>>>>>>>                                  \n",
      "                                                                                |~~~~~~~~~~~~~~~~~~~~~~~~~~~~~~~~~~@                                             \n",
      "                                                                                                                    >>>>>>>>>>>>>                                \n",
      "                                                                                |~~~~~~~~~~~~~~~~~~~~~~~~~~~~~~~~~~~~~~@                                         \n",
      "                                                                                                                        >>>>>>>>>>>>                             \n",
      "                                                                                |~~~~~~~~~~~~~~~~~~~~~~~~~~~~~~~~~~~~~~~~~@                                      \n",
      "                                                                                                                           >>>>>>>>>>                            \n",
      "                                                                                |~~~~~~~~~~~~~~~~~~~~~~~~~~~~~~~~~~~~~~~~~~~@                                    \n",
      "                                                                                                                             >>>>>>>>                            \n",
      "                                                                                |~~~~~~~~~~~~~~~~~~~~~~~~~~~~~~~~~~~~~~~~~~~~~@                                  \n",
      "                                                                                                                               >>>>>>>                           \n",
      "                                                                                |~~~~~~~~~~~~~~~~~~~~~~~~~~~~~~~~~~~~~~~~~~~~~~~@                                \n",
      "                                                                                                                                 >>>>>                           \n",
      "                                                                                |~~~~~~~~~~~~~~~~~~~~~~~~~~~~~~~~~~~~~~~~~~~~~~~~@                               \n",
      "                                                                                                                                  >>>                            \n",
      "                                                                                |~~~~~~~~~~~~~~~~~~~~~~~~~~~~~~~~~~~~~~~~~~~~~~~~@                               \n",
      "                                                                                                                                  >                              \n",
      "                                                                                |~~~~~~~~~~~~~~~~~~~~~~~~~~~~~~~~~~~~~~~~~~~~~~~~~@                              \n",
      "                                                                                                                                                                 \n",
      "                                                                                |~~~~~~~~~~~~~~~~~~~~~~~~~~~~~~~~~~~~~~~~~~~~~~~~@                               \n",
      "                                                                                                                                                                 \n",
      "                                                                                |~~~~~~~~~~~~~~~~~~~~~~~~~~~~~~~~~~~~~~~~~~~~~~~@                                \n",
      "                                                                                                                              <<                                 \n",
      "                                                                                |~~~~~~~~~~~~~~~~~~~~~~~~~~~~~~~~~~~~~~~~~~~~~~@                                 \n",
      "                                                                                                                           <<<<                                  \n",
      "                                                                                |~~~~~~~~~~~~~~~~~~~~~~~~~~~~~~~~~~~~~~~~~~~~@                                   \n",
      "                                                                                                                       <<<<<<                                    \n",
      "                                                                                |~~~~~~~~~~~~~~~~~~~~~~~~~~~~~~~~~~~~~~~~~~@                                     \n",
      "                                                                                                                   <<<<<<<<                                      \n",
      "                                                                                |~~~~~~~~~~~~~~~~~~~~~~~~~~~~~~~~~~~~~~~@                                        \n",
      "                                                                                                               <<<<<<<<<                                         \n",
      "                                                                                |~~~~~~~~~~~~~~~~~~~~~~~~~~~~~~~~~~~~@                                           \n",
      "                                                                                                          <<<<<<<<<<<                                            \n",
      "                                                                                |~~~~~~~~~~~~~~~~~~~~~~~~~~~~~~~~@                                               \n",
      "                                                                                                    <<<<<<<<<<<<<                                                \n",
      "                                                                                |~~~~~~~~~~~~~~~~~~~~~~~~~~~~@                                                   \n",
      "                                                                                               <<<<<<<<<<<<<<                                                    \n",
      "                                                                                |~~~~~~~~~~~~~~~~~~~~~~~~@                                                       \n",
      "                                                                                          <<<<<<<<<<<<<<<                                                        \n",
      "                                                                                |~~~~~~~~~~~~~~~~~~~~@                                                           \n",
      "                                                                                     <<<<<<<<<<<<<<<<                                                            \n",
      "                                                                                |~~~~~~~~~~~~~~~@                                                                \n",
      "                                                                               <<<<<<<<<<<<<<<<<                                                                 \n",
      "                                                                                |~~~~~~~~~~@                                                                     \n",
      "                                                                         <<<<<<<<<<<<<<<<<<                                                                      \n",
      "                                                                                |~~~~~~@                                                                         \n",
      "                                                                     <<<<<<<<<<<<<<<<<<                                                                          \n",
      "                                                                                |~@                                                                              \n",
      "                                                                <<<<<<<<<<<<<<<<<<                                                                               \n",
      "                                                                              @~|                                                                                \n",
      "                                                           <<<<<<<<<<<<<<<<<<<                                                                                   \n",
      "                                                                         @~~~~~~|                                                                                \n",
      "                                                       <<<<<<<<<<<<<<<<<<                                                                                        \n",
      "                                                                    @~~~~~~~~~~~|                                                                                \n",
      "                                                  <<<<<<<<<<<<<<<<<<                                                                                             \n",
      "                                                               @~~~~~~~~~~~~~~~~|                                                                                \n",
      "                                             <<<<<<<<<<<<<<<<<<                                                                                                  \n",
      "                                                          @~~~~~~~~~~~~~~~~~~~~~|                                                                                \n",
      "                                         <<<<<<<<<<<<<<<<<                                                                                                       \n",
      "                                                      @~~~~~~~~~~~~~~~~~~~~~~~~~|                                                                                \n",
      "                                      <<<<<<<<<<<<<<<<                                                                                                           \n",
      "                                                  @~~~~~~~~~~~~~~~~~~~~~~~~~~~~~|                                                                                \n",
      "                                   <<<<<<<<<<<<<<<                                                                                                               \n",
      "                                              @~~~~~~~~~~~~~~~~~~~~~~~~~~~~~~~~~|                                                                                \n",
      "                                <<<<<<<<<<<<<<                                                                                                                   \n",
      "                                           @~~~~~~~~~~~~~~~~~~~~~~~~~~~~~~~~~~~~|                                                                                \n",
      "                               <<<<<<<<<<<<                                                                                                                      \n",
      "                                       @~~~~~~~~~~~~~~~~~~~~~~~~~~~~~~~~~~~~~~~~|                                                                                \n",
      "                            <<<<<<<<<<<                                                                                                                          \n",
      "                                     @~~~~~~~~~~~~~~~~~~~~~~~~~~~~~~~~~~~~~~~~~~|                                                                                \n",
      "                            <<<<<<<<<                                                                                                                            \n",
      "                                   @~~~~~~~~~~~~~~~~~~~~~~~~~~~~~~~~~~~~~~~~~~~~|                                                                                \n",
      "                            <<<<<<<                                                                                                                              \n",
      "                                 @~~~~~~~~~~~~~~~~~~~~~~~~~~~~~~~~~~~~~~~~~~~~~~|                                                                                \n",
      "                           <<<<<<                                                                                                                                \n",
      "                                @~~~~~~~~~~~~~~~~~~~~~~~~~~~~~~~~~~~~~~~~~~~~~~~|                                                                                \n",
      "                            <<<<                                                                                                                                 \n",
      "                               @~~~~~~~~~~~~~~~~~~~~~~~~~~~~~~~~~~~~~~~~~~~~~~~~|                                                                                \n",
      "                             <<                                                                                                                                  \n",
      "                              @~~~~~~~~~~~~~~~~~~~~~~~~~~~~~~~~~~~~~~~~~~~~~~~~~|                                                                                \n",
      "                                                                                                                                                                 \n",
      "                               @~~~~~~~~~~~~~~~~~~~~~~~~~~~~~~~~~~~~~~~~~~~~~~~~|                                                                                \n",
      "                                                                                                                                                                 \n",
      "                               @~~~~~~~~~~~~~~~~~~~~~~~~~~~~~~~~~~~~~~~~~~~~~~~~|                                                                                \n",
      "                                >                                                                                                                                \n",
      "                                 @~~~~~~~~~~~~~~~~~~~~~~~~~~~~~~~~~~~~~~~~~~~~~~|                                                                                \n",
      "                                  >>>                                                                                                                            \n",
      "                                  @~~~~~~~~~~~~~~~~~~~~~~~~~~~~~~~~~~~~~~~~~~~~~|                                                                                \n",
      "                                   >>>>>                                                                                                                         \n",
      "                                    @~~~~~~~~~~~~~~~~~~~~~~~~~~~~~~~~~~~~~~~~~~~|                                                                                \n",
      "                                     >>>>>>>                                                                                                                     \n",
      "                                       @~~~~~~~~~~~~~~~~~~~~~~~~~~~~~~~~~~~~~~~~|                                                                                \n",
      "                                        >>>>>>>>>                                                                                                                \n",
      "                                          @~~~~~~~~~~~~~~~~~~~~~~~~~~~~~~~~~~~~~|                                                                                \n",
      "                                           >>>>>>>>>>                                                                                                            \n",
      "                                             @~~~~~~~~~~~~~~~~~~~~~~~~~~~~~~~~~~|                                                                                \n",
      "                                              >>>>>>>>>>>>                                                                                                       \n",
      "                                                 @~~~~~~~~~~~~~~~~~~~~~~~~~~~~~~|                                                                                \n",
      "                                                  >>>>>>>>>>>>>                                                                                                  \n",
      "                                                     @~~~~~~~~~~~~~~~~~~~~~~~~~~|                                                                                \n",
      "                                                      >>>>>>>>>>>>>>>                                                                                            \n",
      "                                                         @~~~~~~~~~~~~~~~~~~~~~~|                                                                                \n",
      "                                                          >>>>>>>>>>>>>>>>                                                                                       \n",
      "                                                              @~~~~~~~~~~~~~~~~~|                                                                                \n",
      "                                                               >>>>>>>>>>>>>>>>>                                                                                 \n",
      "                                                                   @~~~~~~~~~~~~|                                                                                \n",
      "                                                                    >>>>>>>>>>>>>>>>>                                                                            \n",
      "                                                                        @~~~~~~~|                                                                                \n",
      "                                                                         >>>>>>>>>>>>>>>>>>                                                                      \n",
      "                                                                            @~~~|                                                                                \n",
      "                                                                             >>>>>>>>>>>>>>>>>>                                                                  \n",
      "                                                                                @                                                                                \n",
      "                                                                                 >>>>>>>>>>>>>>>>>>>                                                             \n",
      "                                                                                |~~~~@                                                                           \n",
      "                                                                                      >>>>>>>>>>>>>>>>>>                                                         \n",
      "                                                                                |~~~~~~~~~@                                                                      \n",
      "                                                                                           >>>>>>>>>>>>>>>>>>                                                    \n",
      "                                                                                |~~~~~~~~~~~~~~@                                                                 \n",
      "                                                                                                >>>>>>>>>>>>>>>>>>                                               \n",
      "                                                                                |~~~~~~~~~~~~~~~~~~~@                                                            \n",
      "                                                                                                     >>>>>>>>>>>>>>>>>                                           \n",
      "                                                                                |~~~~~~~~~~~~~~~~~~~~~~~@                                                        \n",
      "                                                                                                         >>>>>>>>>>>>>>>>                                        \n",
      "                                                                                |~~~~~~~~~~~~~~~~~~~~~~~~~~~~@                                                   \n",
      "                                                                                                              >>>>>>>>>>>>>>>                                    \n",
      "                                                                                |~~~~~~~~~~~~~~~~~~~~~~~~~~~~~~~~@                                               \n",
      "                                                                                                                  >>>>>>>>>>>>>>                                 \n",
      "                                                                                |~~~~~~~~~~~~~~~~~~~~~~~~~~~~~~~~~~~@                                            \n",
      "                                                                                                                     >>>>>>>>>>>>>                               \n",
      "                                                                                |~~~~~~~~~~~~~~~~~~~~~~~~~~~~~~~~~~~~~~@                                         \n",
      "                                                                                                                        >>>>>>>>>>>                              \n",
      "                                                                                |~~~~~~~~~~~~~~~~~~~~~~~~~~~~~~~~~~~~~~~~~@                                      \n",
      "                                                                                                                           >>>>>>>>>>                            \n",
      "                                                                                |~~~~~~~~~~~~~~~~~~~~~~~~~~~~~~~~~~~~~~~~~~~~@                                   \n",
      "                                                                                                                              >>>>>>>>                           \n",
      "                                                                                |~~~~~~~~~~~~~~~~~~~~~~~~~~~~~~~~~~~~~~~~~~~~~~@                                 \n",
      "                                                                                                                                >>>>>>                           \n",
      "                                                                                |~~~~~~~~~~~~~~~~~~~~~~~~~~~~~~~~~~~~~~~~~~~~~~~@                                \n",
      "                                                                                                                                 >>>>                            \n",
      "                                                                                |~~~~~~~~~~~~~~~~~~~~~~~~~~~~~~~~~~~~~~~~~~~~~~~~@                               \n",
      "                                                                                                                                  >>                             \n",
      "                                                                                |~~~~~~~~~~~~~~~~~~~~~~~~~~~~~~~~~~~~~~~~~~~~~~~~@                               \n",
      "                                                                                                                                  >                              \n",
      "                                                                                |~~~~~~~~~~~~~~~~~~~~~~~~~~~~~~~~~~~~~~~~~~~~~~~~~@                              \n",
      "                                                                                                                                                                 \n",
      "                                                                                |~~~~~~~~~~~~~~~~~~~~~~~~~~~~~~~~~~~~~~~~~~~~~~~~@                               \n",
      "                                                                                                                                                                 \n",
      "                                                                                |~~~~~~~~~~~~~~~~~~~~~~~~~~~~~~~~~~~~~~~~~~~~~~~@                                \n",
      "                                                                                                                              <<                                 \n",
      "                                                                                |~~~~~~~~~~~~~~~~~~~~~~~~~~~~~~~~~~~~~~~~~~~~~~@                                 \n",
      "                                                                                                                           <<<<                                  \n",
      "                                                                                |~~~~~~~~~~~~~~~~~~~~~~~~~~~~~~~~~~~~~~~~~~~~@                                   \n",
      "                                                                                                                       <<<<<<                                    \n",
      "                                                                                |~~~~~~~~~~~~~~~~~~~~~~~~~~~~~~~~~~~~~~~~~@                                      \n",
      "                                                                                                                  <<<<<<<<                                       \n",
      "                                                                                |~~~~~~~~~~~~~~~~~~~~~~~~~~~~~~~~~~~~~~@                                         \n",
      "                                                                                                             <<<<<<<<<<                                          \n",
      "                                                                                |~~~~~~~~~~~~~~~~~~~~~~~~~~~~~~~~~~~@                                            \n",
      "                                                                                                         <<<<<<<<<<<                                             \n",
      "                                                                                |~~~~~~~~~~~~~~~~~~~~~~~~~~~~~~~~@                                               \n",
      "                                                                                                    <<<<<<<<<<<<<                                                \n",
      "                                                                                |~~~~~~~~~~~~~~~~~~~~~~~~~~~~@                                                   \n",
      "                                                                                               <<<<<<<<<<<<<<                                                    \n",
      "                                                                                |~~~~~~~~~~~~~~~~~~~~~~~@                                                        \n",
      "                                                                                         <<<<<<<<<<<<<<<                                                         \n",
      "                                                                                |~~~~~~~~~~~~~~~~~~~@                                                            \n",
      "                                                                                    <<<<<<<<<<<<<<<<                                                             \n",
      "                                                                                |~~~~~~~~~~~~~~@                                                                 \n",
      "                                                                              <<<<<<<<<<<<<<<<<                                                                  \n",
      "                                                                                |~~~~~~~~~@                                                                      \n",
      "                                                                        <<<<<<<<<<<<<<<<<<                                                                       \n",
      "                                                                                |~~~~~@                                                                          \n",
      "                                                                    <<<<<<<<<<<<<<<<<<                                                                           \n",
      "                                                                                |@                                                                               \n",
      "                                                               <<<<<<<<<<<<<<<<<<                                                                                \n",
      "                                                                             @~~|                                                                                \n",
      "                                                          <<<<<<<<<<<<<<<<<<<                                                                                    \n",
      "                                                                        @~~~~~~~|                                                                                \n",
      "                                                      <<<<<<<<<<<<<<<<<<                                                                                         \n",
      "                                                                   @~~~~~~~~~~~~|                                                                                \n",
      "                                                 <<<<<<<<<<<<<<<<<<                                                                                              \n",
      "                                                              @~~~~~~~~~~~~~~~~~|                                                                                \n",
      "                                             <<<<<<<<<<<<<<<<<                                                                                                   \n",
      "                                                         @~~~~~~~~~~~~~~~~~~~~~~|                                                                                \n",
      "                                        <<<<<<<<<<<<<<<<<                                                                                                        \n",
      "                                                     @~~~~~~~~~~~~~~~~~~~~~~~~~~|                                                                                \n",
      "                                     <<<<<<<<<<<<<<<<                                                                                                            \n"
     ]
    }
   ],
   "source": [
    "%%bash\n",
    "\n",
    "g++-14 -std=c++26 -Wall -Wextra -Wpedantic animate.cpp -o an\n",
    "./an"
   ]
  },
  {
   "cell_type": "markdown",
   "id": "ad60571f",
   "metadata": {
    "vscode": {
     "languageId": "cpp"
    }
   },
   "source": [
    "## More on floating-point numbers"
   ]
  },
  {
   "cell_type": "markdown",
   "id": "3ed2b898",
   "metadata": {},
   "source": [
    "So far we have seen positive evidence\n",
    "that `float` and `double` are good for engineering.\n",
    "But we always have to be careful."
   ]
  },
  {
   "cell_type": "code",
   "execution_count": null,
   "id": "22cecb31",
   "metadata": {
    "vscode": {
     "languageId": "cpp"
    }
   },
   "outputs": [
    {
     "name": "stdout",
     "output_type": "stream",
     "text": [
      "Writing float.cpp\n"
     ]
    }
   ],
   "source": [
    "%%writefile float.cpp\n",
    "\n",
    "#include <iostream>\n",
    "using namespace std;\n",
    "\n",
    "int main() {\n",
    "    float x = 0;\n",
    "    float a = 1/1000000.;\n",
    "    for (int i = 0; i < 1000000; i++) {\n",
    "        x += a; // This is the same as x = x + a;\n",
    "    }\n",
    "    cout << x << endl;\n",
    "    return 0;\n",
    "}"
   ]
  },
  {
   "cell_type": "code",
   "execution_count": null,
   "id": "9410d108",
   "metadata": {
    "vscode": {
     "languageId": "cpp"
    }
   },
   "outputs": [
    {
     "name": "stdout",
     "output_type": "stream",
     "text": [
      "1.00904\n"
     ]
    }
   ],
   "source": [
    "%%bash\n",
    "\n",
    "g++-14 -std=c++26 -Wall -Wextra -Wpedantic float.cpp -o fl\n",
    "./fl"
   ]
  },
  {
   "cell_type": "markdown",
   "id": "8e31119c",
   "metadata": {
    "vscode": {
     "languageId": "cpp"
    }
   },
   "source": [
    "You can see that there is a 1% error\n",
    "when we compute $10^{-6} \\cdot 10^6$ using addition.\n",
    "The reason is that `float a = 1/1000000.;` doesn't make `a` exactly $10^{-6}$.\n",
    "In fact, `a` is a fraction $p / 2^k$ that is very close to $10^{-6}$.\n",
    "It's analogous to $1/10 \\approx 102/1024$\n",
    "but of course `float` has a higher precision.\n",
    "But eventually something like $10 \\cdot 102/1024 = 1020/1024$ happens\n",
    "so `x` is only close to, but not exactly equal to, $1$.\n",
    "\n",
    "We know that `double` has a higher precision, so we try with `double`."
   ]
  },
  {
   "cell_type": "code",
   "execution_count": null,
   "id": "731c8248",
   "metadata": {
    "vscode": {
     "languageId": "cpp"
    }
   },
   "outputs": [
    {
     "name": "stdout",
     "output_type": "stream",
     "text": [
      "Overwriting double.cpp\n"
     ]
    }
   ],
   "source": [
    "%%writefile double.cpp\n",
    "\n",
    "#include <iostream>\n",
    "using namespace std;\n",
    "\n",
    "int main() {\n",
    "    double x = 0;\n",
    "    double a = 1/1000000.;\n",
    "    for (int i = 0; i < 1000000; i++) {\n",
    "        x += a; // This is the same as x = x + a;\n",
    "    }\n",
    "    cout << x << endl;\n",
    "    return 0;\n",
    "}"
   ]
  },
  {
   "cell_type": "code",
   "execution_count": null,
   "id": "70d8ee1b",
   "metadata": {
    "vscode": {
     "languageId": "cpp"
    }
   },
   "outputs": [
    {
     "name": "stdout",
     "output_type": "stream",
     "text": [
      "1\n"
     ]
    }
   ],
   "source": [
    "%%bash\n",
    "\n",
    "g++-14 -std=c++26 -Wall -Wextra -Wpedantic double.cpp -o do\n",
    "./do"
   ]
  },
  {
   "cell_type": "markdown",
   "id": "069ea1da",
   "metadata": {
    "vscode": {
     "languageId": "cpp"
    }
   },
   "source": [
    "It's doesn't mean that `double` is flawless.\n",
    "It's just that the relative error to small `cout` ignores it.\n",
    "If you do `cout << x - 1 << endl` you will see `7.91811e-12`."
   ]
  },
  {
   "cell_type": "markdown",
   "id": "caf49cce",
   "metadata": {
    "vscode": {
     "languageId": "cpp"
    }
   },
   "source": [
    "## Gray codes"
   ]
  },
  {
   "cell_type": "markdown",
   "id": "5bc093ad",
   "metadata": {
    "vscode": {
     "languageId": "cpp"
    }
   },
   "source": [
    "Here is how to look into the digits of integers"
   ]
  },
  {
   "cell_type": "code",
   "execution_count": 4,
   "id": "acbfd7c9",
   "metadata": {
    "vscode": {
     "languageId": "cpp"
    }
   },
   "outputs": [
    {
     "name": "stdout",
     "output_type": "stream",
     "text": [
      "Overwriting bits.cpp\n"
     ]
    }
   ],
   "source": [
    "%%writefile bits.cpp\n",
    "\n",
    "#include <iostream>\n",
    "using namespace std;\n",
    "\n",
    "int main() {\n",
    "    for (int n = 0; n < 100; n++) {\n",
    "        for (int d = 31; d >=0; d--) {\n",
    "            cout << ((n >> d) & 1);\n",
    "        }\n",
    "        cout << endl;\n",
    "    }\n",
    "}"
   ]
  },
  {
   "cell_type": "code",
   "execution_count": null,
   "id": "dd5222f7",
   "metadata": {
    "vscode": {
     "languageId": "cpp"
    }
   },
   "outputs": [
    {
     "name": "stdout",
     "output_type": "stream",
     "text": [
      "00000000000000000000000000000000\n",
      "00000000000000000000000000000001\n",
      "00000000000000000000000000000010\n",
      "00000000000000000000000000000011\n",
      "00000000000000000000000000000100\n",
      "00000000000000000000000000000101\n",
      "00000000000000000000000000000110\n",
      "00000000000000000000000000000111\n",
      "00000000000000000000000000001000\n",
      "00000000000000000000000000001001\n",
      "00000000000000000000000000001010\n",
      "00000000000000000000000000001011\n",
      "00000000000000000000000000001100\n",
      "00000000000000000000000000001101\n",
      "00000000000000000000000000001110\n",
      "00000000000000000000000000001111\n",
      "00000000000000000000000000010000\n",
      "00000000000000000000000000010001\n",
      "00000000000000000000000000010010\n",
      "00000000000000000000000000010011\n",
      "00000000000000000000000000010100\n",
      "00000000000000000000000000010101\n",
      "00000000000000000000000000010110\n",
      "00000000000000000000000000010111\n",
      "00000000000000000000000000011000\n",
      "00000000000000000000000000011001\n",
      "00000000000000000000000000011010\n",
      "00000000000000000000000000011011\n",
      "00000000000000000000000000011100\n",
      "00000000000000000000000000011101\n",
      "00000000000000000000000000011110\n",
      "00000000000000000000000000011111\n",
      "00000000000000000000000000100000\n",
      "00000000000000000000000000100001\n",
      "00000000000000000000000000100010\n",
      "00000000000000000000000000100011\n",
      "00000000000000000000000000100100\n",
      "00000000000000000000000000100101\n",
      "00000000000000000000000000100110\n",
      "00000000000000000000000000100111\n",
      "00000000000000000000000000101000\n",
      "00000000000000000000000000101001\n",
      "00000000000000000000000000101010\n",
      "00000000000000000000000000101011\n",
      "00000000000000000000000000101100\n",
      "00000000000000000000000000101101\n",
      "00000000000000000000000000101110\n",
      "00000000000000000000000000101111\n",
      "00000000000000000000000000110000\n",
      "00000000000000000000000000110001\n",
      "00000000000000000000000000110010\n",
      "00000000000000000000000000110011\n",
      "00000000000000000000000000110100\n",
      "00000000000000000000000000110101\n",
      "00000000000000000000000000110110\n",
      "00000000000000000000000000110111\n",
      "00000000000000000000000000111000\n",
      "00000000000000000000000000111001\n",
      "00000000000000000000000000111010\n",
      "00000000000000000000000000111011\n",
      "00000000000000000000000000111100\n",
      "00000000000000000000000000111101\n",
      "00000000000000000000000000111110\n",
      "00000000000000000000000000111111\n",
      "00000000000000000000000001000000\n",
      "00000000000000000000000001000001\n",
      "00000000000000000000000001000010\n",
      "00000000000000000000000001000011\n",
      "00000000000000000000000001000100\n",
      "00000000000000000000000001000101\n",
      "00000000000000000000000001000110\n",
      "00000000000000000000000001000111\n",
      "00000000000000000000000001001000\n",
      "00000000000000000000000001001001\n",
      "00000000000000000000000001001010\n",
      "00000000000000000000000001001011\n",
      "00000000000000000000000001001100\n",
      "00000000000000000000000001001101\n",
      "00000000000000000000000001001110\n",
      "00000000000000000000000001001111\n",
      "00000000000000000000000001010000\n",
      "00000000000000000000000001010001\n",
      "00000000000000000000000001010010\n",
      "00000000000000000000000001010011\n",
      "00000000000000000000000001010100\n",
      "00000000000000000000000001010101\n",
      "00000000000000000000000001010110\n",
      "00000000000000000000000001010111\n",
      "00000000000000000000000001011000\n",
      "00000000000000000000000001011001\n",
      "00000000000000000000000001011010\n",
      "00000000000000000000000001011011\n",
      "00000000000000000000000001011100\n",
      "00000000000000000000000001011101\n",
      "00000000000000000000000001011110\n",
      "00000000000000000000000001011111\n",
      "00000000000000000000000001100000\n",
      "00000000000000000000000001100001\n",
      "00000000000000000000000001100010\n",
      "00000000000000000000000001100011\n"
     ]
    }
   ],
   "source": [
    "%%bash\n",
    "\n",
    "g++-14 -std=c++26 -Wall -Wextra -Wpedantic bits.cpp -o bi\n",
    "./bi"
   ]
  },
  {
   "cell_type": "markdown",
   "id": "2b11d48e",
   "metadata": {},
   "source": [
    "Gray code is a way to reorder these integers\n",
    "so that the next integer and the previous differ by one bit."
   ]
  },
  {
   "cell_type": "code",
   "execution_count": 16,
   "id": "14bdebaf",
   "metadata": {
    "vscode": {
     "languageId": "cpp"
    }
   },
   "outputs": [
    {
     "name": "stdout",
     "output_type": "stream",
     "text": [
      "Overwriting gary.cpp\n"
     ]
    }
   ],
   "source": [
    "%%writefile gary.cpp\n",
    "\n",
    "#include <iostream>\n",
    "using namespace std;\n",
    "\n",
    "int main() {\n",
    "    for (int n = 0; n < 100; n++) {\n",
    "        for (int d = 31; d >=0; d--) {\n",
    "            if (n - (n & (n - 1)) == 1 << d) cout << '|';\n",
    "            else cout << ' ';\n",
    "        }\n",
    "        cout << endl;\n",
    "        int m = n ^ (n >> 1);\n",
    "        for (int d = 31; d >=0; d--) {\n",
    "            cout << ((m >> d) & 1);\n",
    "        }\n",
    "        cout << \"  \" << m << endl;\n",
    "    }\n",
    "}"
   ]
  },
  {
   "cell_type": "code",
   "execution_count": 17,
   "id": "592eb020",
   "metadata": {
    "vscode": {
     "languageId": "cpp"
    }
   },
   "outputs": [
    {
     "name": "stdout",
     "output_type": "stream",
     "text": [
      "                                \n",
      "00000000000000000000000000000000  0\n",
      "                               |\n",
      "00000000000000000000000000000001  1\n",
      "                              | \n",
      "00000000000000000000000000000011  3\n",
      "                               |\n",
      "00000000000000000000000000000010  2\n",
      "                             |  \n",
      "00000000000000000000000000000110  6\n",
      "                               |\n",
      "00000000000000000000000000000111  7\n",
      "                              | \n",
      "00000000000000000000000000000101  5\n",
      "                               |\n",
      "00000000000000000000000000000100  4\n",
      "                            |   \n",
      "00000000000000000000000000001100  12\n",
      "                               |\n",
      "00000000000000000000000000001101  13\n",
      "                              | \n",
      "00000000000000000000000000001111  15\n",
      "                               |\n",
      "00000000000000000000000000001110  14\n",
      "                             |  \n",
      "00000000000000000000000000001010  10\n",
      "                               |\n",
      "00000000000000000000000000001011  11\n",
      "                              | \n",
      "00000000000000000000000000001001  9\n",
      "                               |\n",
      "00000000000000000000000000001000  8\n",
      "                           |    \n",
      "00000000000000000000000000011000  24\n",
      "                               |\n",
      "00000000000000000000000000011001  25\n",
      "                              | \n",
      "00000000000000000000000000011011  27\n",
      "                               |\n",
      "00000000000000000000000000011010  26\n",
      "                             |  \n",
      "00000000000000000000000000011110  30\n",
      "                               |\n",
      "00000000000000000000000000011111  31\n",
      "                              | \n",
      "00000000000000000000000000011101  29\n",
      "                               |\n",
      "00000000000000000000000000011100  28\n",
      "                            |   \n",
      "00000000000000000000000000010100  20\n",
      "                               |\n",
      "00000000000000000000000000010101  21\n",
      "                              | \n",
      "00000000000000000000000000010111  23\n",
      "                               |\n",
      "00000000000000000000000000010110  22\n",
      "                             |  \n",
      "00000000000000000000000000010010  18\n",
      "                               |\n",
      "00000000000000000000000000010011  19\n",
      "                              | \n",
      "00000000000000000000000000010001  17\n",
      "                               |\n",
      "00000000000000000000000000010000  16\n",
      "                          |     \n",
      "00000000000000000000000000110000  48\n",
      "                               |\n",
      "00000000000000000000000000110001  49\n",
      "                              | \n",
      "00000000000000000000000000110011  51\n",
      "                               |\n",
      "00000000000000000000000000110010  50\n",
      "                             |  \n",
      "00000000000000000000000000110110  54\n",
      "                               |\n",
      "00000000000000000000000000110111  55\n",
      "                              | \n",
      "00000000000000000000000000110101  53\n",
      "                               |\n",
      "00000000000000000000000000110100  52\n",
      "                            |   \n",
      "00000000000000000000000000111100  60\n",
      "                               |\n",
      "00000000000000000000000000111101  61\n",
      "                              | \n",
      "00000000000000000000000000111111  63\n",
      "                               |\n",
      "00000000000000000000000000111110  62\n",
      "                             |  \n",
      "00000000000000000000000000111010  58\n",
      "                               |\n",
      "00000000000000000000000000111011  59\n",
      "                              | \n",
      "00000000000000000000000000111001  57\n",
      "                               |\n",
      "00000000000000000000000000111000  56\n",
      "                           |    \n",
      "00000000000000000000000000101000  40\n",
      "                               |\n",
      "00000000000000000000000000101001  41\n",
      "                              | \n",
      "00000000000000000000000000101011  43\n",
      "                               |\n",
      "00000000000000000000000000101010  42\n",
      "                             |  \n",
      "00000000000000000000000000101110  46\n",
      "                               |\n",
      "00000000000000000000000000101111  47\n",
      "                              | \n",
      "00000000000000000000000000101101  45\n",
      "                               |\n",
      "00000000000000000000000000101100  44\n",
      "                            |   \n",
      "00000000000000000000000000100100  36\n",
      "                               |\n",
      "00000000000000000000000000100101  37\n",
      "                              | \n",
      "00000000000000000000000000100111  39\n",
      "                               |\n",
      "00000000000000000000000000100110  38\n",
      "                             |  \n",
      "00000000000000000000000000100010  34\n",
      "                               |\n",
      "00000000000000000000000000100011  35\n",
      "                              | \n",
      "00000000000000000000000000100001  33\n",
      "                               |\n",
      "00000000000000000000000000100000  32\n",
      "                         |      \n",
      "00000000000000000000000001100000  96\n",
      "                               |\n",
      "00000000000000000000000001100001  97\n",
      "                              | \n",
      "00000000000000000000000001100011  99\n",
      "                               |\n",
      "00000000000000000000000001100010  98\n",
      "                             |  \n",
      "00000000000000000000000001100110  102\n",
      "                               |\n",
      "00000000000000000000000001100111  103\n",
      "                              | \n",
      "00000000000000000000000001100101  101\n",
      "                               |\n",
      "00000000000000000000000001100100  100\n",
      "                            |   \n",
      "00000000000000000000000001101100  108\n",
      "                               |\n",
      "00000000000000000000000001101101  109\n",
      "                              | \n",
      "00000000000000000000000001101111  111\n",
      "                               |\n",
      "00000000000000000000000001101110  110\n",
      "                             |  \n",
      "00000000000000000000000001101010  106\n",
      "                               |\n",
      "00000000000000000000000001101011  107\n",
      "                              | \n",
      "00000000000000000000000001101001  105\n",
      "                               |\n",
      "00000000000000000000000001101000  104\n",
      "                           |    \n",
      "00000000000000000000000001111000  120\n",
      "                               |\n",
      "00000000000000000000000001111001  121\n",
      "                              | \n",
      "00000000000000000000000001111011  123\n",
      "                               |\n",
      "00000000000000000000000001111010  122\n",
      "                             |  \n",
      "00000000000000000000000001111110  126\n",
      "                               |\n",
      "00000000000000000000000001111111  127\n",
      "                              | \n",
      "00000000000000000000000001111101  125\n",
      "                               |\n",
      "00000000000000000000000001111100  124\n",
      "                            |   \n",
      "00000000000000000000000001110100  116\n",
      "                               |\n",
      "00000000000000000000000001110101  117\n",
      "                              | \n",
      "00000000000000000000000001110111  119\n",
      "                               |\n",
      "00000000000000000000000001110110  118\n",
      "                             |  \n",
      "00000000000000000000000001110010  114\n",
      "                               |\n",
      "00000000000000000000000001110011  115\n",
      "                              | \n",
      "00000000000000000000000001110001  113\n",
      "                               |\n",
      "00000000000000000000000001110000  112\n",
      "                          |     \n",
      "00000000000000000000000001010000  80\n",
      "                               |\n",
      "00000000000000000000000001010001  81\n",
      "                              | \n",
      "00000000000000000000000001010011  83\n",
      "                               |\n",
      "00000000000000000000000001010010  82\n"
     ]
    }
   ],
   "source": [
    "%%bash\n",
    "\n",
    "g++-14 -std=c++26 -Wall -Wextra -Wpedantic gary.cpp -o gr\n",
    "./gr"
   ]
  },
  {
   "cell_type": "markdown",
   "id": "02e8a899",
   "metadata": {
    "vscode": {
     "languageId": "cpp"
    }
   },
   "source": [
    "See also OEIS A003188"
   ]
  },
  {
   "cell_type": "code",
   "execution_count": null,
   "id": "1cb1d5ef",
   "metadata": {
    "vscode": {
     "languageId": "cpp"
    }
   },
   "outputs": [],
   "source": []
  }
 ],
 "metadata": {
  "kernelspec": {
   "display_name": "SageMath 10.6",
   "language": "sage",
   "name": "SageMath-10.6"
  },
  "language_info": {
   "codemirror_mode": {
    "name": "ipython",
    "version": 3
   },
   "file_extension": ".py",
   "mimetype": "text/x-python",
   "name": "sage",
   "nbconvert_exporter": "python",
   "pygments_lexer": "ipython3",
   "version": "3.12.5"
  }
 },
 "nbformat": 4,
 "nbformat_minor": 5
}
