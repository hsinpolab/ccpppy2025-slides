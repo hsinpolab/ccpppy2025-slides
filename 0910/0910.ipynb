{
 "cells": [
  {
   "cell_type": "markdown",
   "id": "2c9048bb",
   "metadata": {
    "vscode": {
     "languageId": "cpp"
    }
   },
   "source": [
    "# Computer Programming 0910"
   ]
  },
  {
   "cell_type": "code",
   "execution_count": 21,
   "id": "eb27cd69",
   "metadata": {
    "vscode": {
     "languageId": "cpp"
    }
   },
   "outputs": [
    {
     "name": "stdout",
     "output_type": "stream",
     "text": [
      "env: SDKROOT=/Library/Developer/CommandLineTools/SDKs/MacOSX.sdk\n"
     ]
    }
   ],
   "source": [
    "# Ignore this; my laptop is so old and Apple is nasty so I need this\n",
    "\n",
    "sdkroot = !xcrun --show-sdk-path\n",
    "%env SDKROOT={sdkroot[0]}"
   ]
  },
  {
   "cell_type": "markdown",
   "id": "bf2eaf0d",
   "metadata": {
    "vscode": {
     "languageId": "cpp"
    }
   },
   "source": [
    "## Useful terminal commands"
   ]
  },
  {
   "cell_type": "markdown",
   "id": "374fd2af",
   "metadata": {},
   "source": [
    "- `pwd`: Tells you the current folder.\n",
    "- `ls`: List the content of the current folder.\n",
    "- `cd 0910`: Change the current folder to `0910` that is under the current folder.\n",
    "- `cd ~`: Change to the **home** folder (the default folder, very useful when you get lost).\n",
    "- `cd ..`: Change to the parent folder.\n",
    "- `cd -`: Change to the previous folder (like last page in web browser).\n",
    "- `mkdir 0912`: Make a new folder called `0912` (note that `d` = `dir` = `directory`).\n",
    "- `cat while.cpp`: Print the content of `while.cpp`, usually for text files.\n",
    "- `hexdump while`: Print the content of `while`, usually for non-text files.\n",
    "- `code while.cpp`: Use the text editor vs code to edit the file `while.cpp`.\n",
    "- `nano while.cpp`: Use the text editor nano to edit the file `while.cpp`.\n",
    "  This is pretty much the same editor as the PTT BBS system.\n",
    "- `vim while.cpp`: use the text editor vim to edit the file `while.cpp`.\n",
    "  This and nano are the built-in text editors for most linux systems,\n",
    "  which includes supercomputers like **Taiwania 2**.\n",
    "- `g++-14`: The version 14 of gcc compiler for C++.\n",
    "- `g++-14 -std=c++26`: Follow the C++26 standard.\n",
    "- `g++-14 -std=c++26 while.cpp`: Compile `while.cpp` to `a.out`.\n",
    "- `g++-14 -std=c++26 while.cpp -o wh`: Compile `while.cpp` to `wh`.\n",
    "- `g++-14 -std=c++26 -Wall while.cpp -o wh`: Compile and warn about bad code.\n",
    "- `g++-14 -std=c++26 -Wall -Wextra while.cpp -o wh`: Now with even more warning.\n",
    "- `g++-14 -std=c++26 -Wall -Wextra -Wpedantic while.cpp -o wh`: Now with even more warning."
   ]
  },
  {
   "cell_type": "code",
   "execution_count": 9,
   "id": "245e3ed7",
   "metadata": {
    "vscode": {
     "languageId": "cpp"
    }
   },
   "outputs": [
    {
     "name": "stdout",
     "output_type": "stream",
     "text": [
      "Overwriting bad.cpp\n"
     ]
    }
   ],
   "source": [
    "%%writefile bad.cpp\n",
    "\n",
    "#include <iostream>\n",
    "using namespace std;\n",
    "\n",
    "int main() {\n",
    "    int n = 0;\n",
    "    // This is a bad code because n is never used.\n",
    "    return 0;\n",
    "}"
   ]
  },
  {
   "cell_type": "code",
   "execution_count": 10,
   "id": "5329b1be",
   "metadata": {
    "vscode": {
     "languageId": "cpp"
    }
   },
   "outputs": [
    {
     "name": "stderr",
     "output_type": "stream",
     "text": [
      "bad.cpp: In function 'int main()':\n",
      "bad.cpp:6:9: warning: unused variable 'n' [-Wunused-variable]\n",
      "    6 |     int n = 0;\n",
      "      |         ^\n"
     ]
    }
   ],
   "source": [
    "%%bash\n",
    "\n",
    "g++-14 -std=c++26 -Wall -Wextra -Wpedantic bad.cpp -o ba"
   ]
  },
  {
   "cell_type": "markdown",
   "id": "b4fd06f3",
   "metadata": {
    "vscode": {
     "languageId": "cpp"
    }
   },
   "source": [
    "As the example above shows, turning up warnings\n",
    "can help you find the *unusual part* of your code."
   ]
  },
  {
   "cell_type": "markdown",
   "id": "07e98c79",
   "metadata": {
    "vscode": {
     "languageId": "cpp"
    }
   },
   "source": [
    "## Special operations"
   ]
  },
  {
   "cell_type": "markdown",
   "id": "da4212e2",
   "metadata": {},
   "source": [
    "- `a++`: increase `a` by `1`\n",
    "- `++a`: increase `a` by `1`\n",
    "- `a--`: decrease `a` by `1`\n",
    "- `--a`: decrease `a` by `1`\n",
    "- `a += b`: increase `a` by `b`\n",
    "- `a -= b`: decrease `a` by `b`\n",
    "- `a *= b`: multiply `a` by `b`\n",
    "- `a /= b`: divide `a` by `b`\n",
    "- `a >> b`: shift `a`'s bits right `b` times\n",
    "- `a >> b`: shift `a`'s bits left `b` times\n",
    "- `a &= b`: make `a` equal to `a & b`\n",
    "- `a |= b`: make `a` equal to `a | b`\n",
    "- `a ^= b`: make `a` equal to `a ^ b`"
   ]
  },
  {
   "cell_type": "markdown",
   "id": "9d104041",
   "metadata": {
    "vscode": {
     "languageId": "cpp"
    }
   },
   "source": [
    "## Loops"
   ]
  },
  {
   "cell_type": "markdown",
   "id": "9e12151c",
   "metadata": {},
   "source": [
    "While loop is a syntax in C++ that allow you to repeat things.\n",
    "For instance, if we say\n",
    "\n",
    "```C++\n",
    "while(true) {\n",
    "    A;\n",
    "    B;\n",
    "    C;\n",
    "}\n",
    "```\n",
    "\n",
    "then the program will\n",
    "\n",
    "- Do A; Do B; Do C;\n",
    "- Do A; Do B; Do C;\n",
    "- Do A; Do B; Do C;\n",
    "- Do A; Do B; Do C;\n",
    "- Do A; Do B; Do C;\n",
    "- Do A; Do B; Do C;\n",
    "- Do A; Do B; Do C;\n",
    "- Do A; Do B; Do C;\n",
    "- Do A; Do B; Do C;\n",
    "- Do A; Do B; Do C;\n",
    "- Continue until the sun explodes.\n",
    "\n",
    "\n",
    "Press `Ctrl+C` or `Ctrl+D` to stop the loop."
   ]
  },
  {
   "cell_type": "code",
   "execution_count": 11,
   "id": "c49f9ead",
   "metadata": {
    "vscode": {
     "languageId": "cpp"
    }
   },
   "outputs": [
    {
     "name": "stdout",
     "output_type": "stream",
     "text": [
      "Overwriting while.cpp\n"
     ]
    }
   ],
   "source": [
    "%%writefile while.cpp\n",
    "\n",
    "#include <iostream>\n",
    "#include <unistd.h>\n",
    "using namespace std;\n",
    "\n",
    "int main() {\n",
    "    int n = 0;\n",
    "    while (true) {\n",
    "        n = n + 1;\n",
    "        cout << n << endl;\n",
    "        sleep(1);\n",
    "    }\n",
    "    return 0;\n",
    "}"
   ]
  },
  {
   "cell_type": "markdown",
   "id": "f4d59b95",
   "metadata": {
    "vscode": {
     "languageId": "cpp"
    }
   },
   "source": [
    "Here is an example of an infinite loop.\n",
    "Remember, use `Ctrl+C` or `Ctrl+D` to stop the loop.\n",
    "I inserted `sleep(1)` to slow it down.\n",
    "And you should too if you are dealing with similar codes."
   ]
  },
  {
   "cell_type": "code",
   "execution_count": 12,
   "id": "61e67bf6",
   "metadata": {
    "vscode": {
     "languageId": "cpp"
    }
   },
   "outputs": [
    {
     "name": "stdout",
     "output_type": "stream",
     "text": [
      "1\n",
      "2\n",
      "3\n",
      "4\n",
      "5\n",
      "6\n",
      "7\n",
      "8\n",
      "Process is interrupted.\n"
     ]
    }
   ],
   "source": [
    "%%bash\n",
    "\n",
    "g++-14 -std=c++26 -Wall -Wextra -Wpedantic while.cpp -o wh\n",
    "./wh"
   ]
  },
  {
   "cell_type": "markdown",
   "id": "0457a101",
   "metadata": {},
   "source": [
    "If you want the program to stop the loop without you,\n",
    "you have three options."
   ]
  },
  {
   "cell_type": "markdown",
   "id": "03f07567",
   "metadata": {},
   "source": [
    "### Option 1\n",
    "\n",
    "Use `break`;\n",
    "\n",
    "```C++\n",
    "int iteration = 0\n",
    "while (true) {\n",
    "    iteration++;\n",
    "    // This is the same as iteration = iteration + 1\n",
    "    // This is also the same as iteration += 1\n",
    "    cout << \"iteration \" << iteration << endl;\n",
    "    if (iteration > 100) {\n",
    "        break;\n",
    "    }\n",
    "}\n",
    "```\n",
    "\n",
    "This is useful when the user wants to try until success."
   ]
  },
  {
   "cell_type": "code",
   "execution_count": null,
   "id": "d1edc3b9",
   "metadata": {
    "vscode": {
     "languageId": "cpp"
    }
   },
   "outputs": [
    {
     "name": "stdout",
     "output_type": "stream",
     "text": [
      "Overwriting even.cpp\n"
     ]
    }
   ],
   "source": [
    "%%writefile even.cpp\n",
    "\n",
    "#include <iostream>\n",
    "#include <unistd.h>\n",
    "using namespace std;\n",
    "\n",
    "int main() {\n",
    "    int n = 0;\n",
    "    while (true) {\n",
    "        cout << \"Please input an even number: \";\n",
    "        cin >> n;\n",
    "        sleep(1);\n",
    "        cout << \"Your input is \" << n << endl;\n",
    "        sleep(1);\n",
    "        cout << \"Thinking ...\" << endl;\n",
    "        sleep(1);\n",
    "        cout << \"It is really hard to tell ...\" << endl;\n",
    "        sleep(1);\n",
    "        cout << \"I have never seen this number before ...\" << endl;\n",
    "        sleep(1);\n",
    "        cout << \"It it taking longer than I expected ...\" << endl;\n",
    "        sleep(1);\n",
    "        if (n % 2 == 1) {\n",
    "            cout << \"It is not an even number.\" << endl;\n",
    "            cout << \"Let's try again.\" << endl;\n",
    "        }\n",
    "        if (n % 2 == 0) {\n",
    "            cout << \"It is an even number.\" << endl;\n",
    "            break;\n",
    "        }\n",
    "    }\n",
    "    return 0;\n",
    "}"
   ]
  },
  {
   "cell_type": "code",
   "execution_count": null,
   "id": "95382bb9",
   "metadata": {
    "vscode": {
     "languageId": "cpp"
    }
   },
   "outputs": [
    {
     "name": "stdout",
     "output_type": "stream",
     "text": [
      "Please input an even number: Your input is 1\n",
      "Thinking ...\n",
      "It is really hard to tell ...\n",
      "I have never seen this number before ...\n",
      "It it taking longer than I expected ...\n",
      "It is not an even number\n",
      "Please input an even number: Your input is 3\n",
      "Thinking ...\n",
      "It is really hard to tell ...\n",
      "I have never seen this number before ...\n",
      "It it taking longer than I expected ...\n",
      "It is not an even number\n",
      "Please input an even number: Your input is 6\n",
      "Thinking ...\n",
      "It is really hard to tell ...\n",
      "I have never seen this number before ...\n",
      "It it taking longer than I expected ...\n",
      "It is an even number\n"
     ]
    }
   ],
   "source": [
    "%%bash\n",
    "\n",
    "g++-14 -std=c++26 -Wall -Wextra -Wpedantic even.cpp -o ev\n",
    "./ev <<< \"1 3 6\""
   ]
  },
  {
   "cell_type": "markdown",
   "id": "84ae29fc",
   "metadata": {},
   "source": [
    "### Option 2\n",
    "\n",
    "Replace `(true)` by your continuing criterion (not stopping criterion).\n",
    "\n",
    "```C++\n",
    "int iterations = 0\n",
    "while (iterations < 100) {\n",
    "    iterations++;\n",
    "    cout << \"iteration \" << iteration << endl;\n",
    "}\n",
    "```"
   ]
  },
  {
   "cell_type": "markdown",
   "id": "46abe75d",
   "metadata": {},
   "source": [
    "### Option 3\n",
    "\n",
    "Use `for` loop.\n",
    "(Note really a new option because it is eventually a `while` loop.)\n",
    "\n",
    "Roughly speaking,\n",
    "\n",
    "```C++\n",
    "    for (A; B; C) {\n",
    "        D;\n",
    "    }\n",
    "```\n",
    "\n",
    "is the same as\n",
    "\n",
    "```C++\n",
    "    A;\n",
    "    while (B) {\n",
    "        D;\n",
    "        C;\n",
    "    }\n",
    "```\n",
    "\n",
    "This is why you usually see people writing this."
   ]
  },
  {
   "cell_type": "code",
   "execution_count": null,
   "id": "3e397f9c",
   "metadata": {
    "vscode": {
     "languageId": "cpp"
    }
   },
   "outputs": [
    {
     "name": "stdout",
     "output_type": "stream",
     "text": [
      "Overwriting for.cpp\n"
     ]
    }
   ],
   "source": [
    "%%writefile for.cpp\n",
    "\n",
    "#include <iostream>\n",
    "#include <unistd.h>\n",
    "using namespace std;\n",
    "\n",
    "int main() {\n",
    "    for (int i = 0; i < 20; i++) {\n",
    "        cout << i << endl;\n",
    "        sleep(1);\n",
    "    }\n",
    "    return 0;\n",
    "}"
   ]
  },
  {
   "cell_type": "code",
   "execution_count": null,
   "id": "ab7313b4",
   "metadata": {
    "vscode": {
     "languageId": "cpp"
    }
   },
   "outputs": [
    {
     "name": "stdout",
     "output_type": "stream",
     "text": [
      "0\n",
      "1\n",
      "2\n",
      "3\n",
      "4\n",
      "5\n",
      "6\n",
      "7\n",
      "8\n",
      "9\n",
      "10\n",
      "11\n",
      "12\n",
      "13\n",
      "14\n",
      "15\n",
      "16\n",
      "17\n",
      "18\n",
      "19\n"
     ]
    }
   ],
   "source": [
    "%%bash\n",
    "\n",
    "g++-14 -std=c++26 -Wall -Wextra -Wpedantic for.cpp -o fo\n",
    "./fo"
   ]
  },
  {
   "cell_type": "markdown",
   "id": "45af63c1",
   "metadata": {
    "vscode": {
     "languageId": "cpp"
    }
   },
   "source": [
    "## Nested for loops"
   ]
  },
  {
   "cell_type": "code",
   "execution_count": null,
   "id": "4b74494f",
   "metadata": {
    "vscode": {
     "languageId": "cpp"
    }
   },
   "outputs": [
    {
     "name": "stdout",
     "output_type": "stream",
     "text": [
      "Overwriting forfor.cpp\n"
     ]
    }
   ],
   "source": [
    "%%writefile forfor.cpp\n",
    "\n",
    "#include <iostream>\n",
    "#include <unistd.h>\n",
    "using namespace std;\n",
    "\n",
    "int main() {\n",
    "    for (int i = 0; i < 10; i++) {\n",
    "        for (int j = 0; j < 10; j++) {\n",
    "            cout << i << j << \" \";\n",
    "        }\n",
    "        cout << endl;\n",
    "        sleep(1);\n",
    "    }\n",
    "    return 0;\n",
    "}"
   ]
  },
  {
   "cell_type": "code",
   "execution_count": null,
   "id": "5cc62ea0",
   "metadata": {
    "vscode": {
     "languageId": "cpp"
    }
   },
   "outputs": [
    {
     "name": "stdout",
     "output_type": "stream",
     "text": [
      "00 01 02 03 04 05 06 07 08 09 \n",
      "10 11 12 13 14 15 16 17 18 19 \n",
      "20 21 22 23 24 25 26 27 28 29 \n",
      "30 31 32 33 34 35 36 37 38 39 \n",
      "40 41 42 43 44 45 46 47 48 49 \n",
      "50 51 52 53 54 55 56 57 58 59 \n",
      "60 61 62 63 64 65 66 67 68 69 \n",
      "70 71 72 73 74 75 76 77 78 79 \n",
      "80 81 82 83 84 85 86 87 88 89 \n",
      "90 91 92 93 94 95 96 97 98 99 \n"
     ]
    }
   ],
   "source": [
    "%%bash\n",
    "\n",
    "g++-14 -std=c++26 -Wall -Wextra -Wpedantic forfor.cpp -o ff\n",
    "./ff"
   ]
  },
  {
   "cell_type": "code",
   "execution_count": null,
   "id": "112b3620",
   "metadata": {
    "vscode": {
     "languageId": "cpp"
    }
   },
   "outputs": [
    {
     "name": "stdout",
     "output_type": "stream",
     "text": [
      "Overwriting mul_table.cpp\n"
     ]
    }
   ],
   "source": [
    "%%writefile mul_table.cpp\n",
    "\n",
    "#include <iostream>\n",
    "using namespace std;\n",
    "\n",
    "int main() {\n",
    "    cout << \"  |  \";\n",
    "    for (int j = 1; j < 10; j++) { \n",
    "        cout << j << \"  \";\n",
    "    }\n",
    "    cout << endl;\n",
    "    cout << \"--+-\";\n",
    "    for (int j = 1; j < 10; j++) { \n",
    "        cout << \"---\";\n",
    "    }\n",
    "    cout << endl;\n",
    "    for (int i = 1; i < 10; i++) {\n",
    "        cout << i << \" | \";\n",
    "        for (int j = 1; j < 10; j++) {\n",
    "            int a = i * j / 10;\n",
    "            int b = i * j % 10;\n",
    "            cout << a << b << \" \";\n",
    "        }\n",
    "        cout << endl;\n",
    "    }\n",
    "    return 0;\n",
    "}"
   ]
  },
  {
   "cell_type": "code",
   "execution_count": null,
   "id": "2dcbfebf",
   "metadata": {
    "vscode": {
     "languageId": "cpp"
    }
   },
   "outputs": [
    {
     "name": "stdout",
     "output_type": "stream",
     "text": [
      "  |  1  2  3  4  5  6  7  8  9  \n",
      "--+----------------------------\n",
      "1 | 01 02 03 04 05 06 07 08 09 \n",
      "2 | 02 04 06 08 10 12 14 16 18 \n",
      "3 | 03 06 09 12 15 18 21 24 27 \n",
      "4 | 04 08 12 16 20 24 28 32 36 \n",
      "5 | 05 10 15 20 25 30 35 40 45 \n",
      "6 | 06 12 18 24 30 36 42 48 54 \n",
      "7 | 07 14 21 28 35 42 49 56 63 \n",
      "8 | 08 16 24 32 40 48 56 64 72 \n",
      "9 | 09 18 27 36 45 54 63 72 81 \n"
     ]
    }
   ],
   "source": [
    "%%bash\n",
    "\n",
    "g++-14 -std=c++26 -Wall -Wextra -Wpedantic mul_table.cpp -o mt\n",
    "./mt"
   ]
  },
  {
   "cell_type": "markdown",
   "id": "f0e5fb7e",
   "metadata": {
    "vscode": {
     "languageId": "cpp"
    }
   },
   "source": [
    "## Estimate $\\pi$"
   ]
  },
  {
   "cell_type": "code",
   "execution_count": null,
   "id": "8cb6655f",
   "metadata": {
    "vscode": {
     "languageId": "cpp"
    }
   },
   "outputs": [
    {
     "name": "stdout",
     "output_type": "stream",
     "text": [
      "Overwriting forforfor.cpp\n"
     ]
    }
   ],
   "source": [
    "%%writefile forforfor.cpp\n",
    "\n",
    "#include <iostream>\n",
    "using namespace std;\n",
    "\n",
    "int main() {\n",
    "    float radius = 5.606;\n",
    "    int count = 0;\n",
    "    for (int i = -radius; i <= radius; i++) {\n",
    "        for (int j = -radius; j <= radius; j++) {\n",
    "            for (int k = -radius; k <= radius; k ++) {\n",
    "                if (i * i + j * j + k * k < radius * radius) {\n",
    "                    cout << \"+\";\n",
    "                    count++;\n",
    "                }\n",
    "                else {\n",
    "                    cout << \".\";\n",
    "                }\n",
    "            }\n",
    "            cout << \"  \";\n",
    "        }\n",
    "        cout << endl;\n",
    "    }\n",
    "    cout << \"Our estimate of pi is\" << endl;\n",
    "    cout << 3/4. * count / (radius * radius * radius) << endl;\n",
    "    return 0;\n",
    "}"
   ]
  },
  {
   "cell_type": "code",
   "execution_count": null,
   "id": "dad24f29",
   "metadata": {
    "vscode": {
     "languageId": "cpp"
    }
   },
   "outputs": [
    {
     "name": "stdout",
     "output_type": "stream",
     "text": [
      "...........  ...........  ...........  ....+++....  ...+++++...  ...+++++...  ...+++++...  ....+++....  ...........  ...........  ...........  \n",
      "...........  ...........  ...+++++...  ..+++++++..  ..+++++++..  ..+++++++..  ..+++++++..  ..+++++++..  ...+++++...  ...........  ...........  \n",
      "...........  ...+++++...  ..+++++++..  .+++++++++.  .+++++++++.  .+++++++++.  .+++++++++.  .+++++++++.  ..+++++++..  ...+++++...  ...........  \n",
      "....+++....  ..+++++++..  .+++++++++.  .+++++++++.  +++++++++++  +++++++++++  +++++++++++  .+++++++++.  .+++++++++.  ..+++++++..  ....+++....  \n",
      "...+++++...  ..+++++++..  .+++++++++.  +++++++++++  +++++++++++  +++++++++++  +++++++++++  +++++++++++  .+++++++++.  ..+++++++..  ...+++++...  \n",
      "...+++++...  ..+++++++..  .+++++++++.  +++++++++++  +++++++++++  +++++++++++  +++++++++++  +++++++++++  .+++++++++.  ..+++++++..  ...+++++...  \n",
      "...+++++...  ..+++++++..  .+++++++++.  +++++++++++  +++++++++++  +++++++++++  +++++++++++  +++++++++++  .+++++++++.  ..+++++++..  ...+++++...  \n",
      "....+++....  ..+++++++..  .+++++++++.  .+++++++++.  +++++++++++  +++++++++++  +++++++++++  .+++++++++.  .+++++++++.  ..+++++++..  ....+++....  \n",
      "...........  ...+++++...  ..+++++++..  .+++++++++.  .+++++++++.  .+++++++++.  .+++++++++.  .+++++++++.  ..+++++++..  ...+++++...  ...........  \n",
      "...........  ...........  ...+++++...  ..+++++++..  ..+++++++..  ..+++++++..  ..+++++++..  ..+++++++..  ...+++++...  ...........  ...........  \n",
      "...........  ...........  ...........  ....+++....  ...+++++...  ...+++++...  ...+++++...  ....+++....  ...........  ...........  ...........  \n",
      "Our estimate of pi is\n",
      "3.14591\n"
     ]
    }
   ],
   "source": [
    "%%bash\n",
    "\n",
    "g++-14 -std=c++26 -Wall -Wextra -Wpedantic forforfor.cpp -o fff\n",
    "./fff"
   ]
  },
  {
   "cell_type": "markdown",
   "id": "1af37a1b",
   "metadata": {
    "vscode": {
     "languageId": "cpp"
    }
   },
   "source": [
    "## Untraditional stopping criterion"
   ]
  },
  {
   "cell_type": "markdown",
   "id": "0fa8f448",
   "metadata": {
    "vscode": {
     "languageId": "cpp"
    }
   },
   "source": [
    "### Root\n",
    "\n",
    "Use can use loops to, say, find the least number that satisfies certain condition.\n",
    "For instance, the following program finds $\\lceil \\sqrt n \\rceil$."
   ]
  },
  {
   "cell_type": "code",
   "execution_count": null,
   "id": "180c00b8",
   "metadata": {
    "vscode": {
     "languageId": "cpp"
    }
   },
   "outputs": [
    {
     "name": "stdout",
     "output_type": "stream",
     "text": [
      "Overwriting root.cpp\n"
     ]
    }
   ],
   "source": [
    "%%writefile root.cpp\n",
    "\n",
    "#include <iostream>\n",
    "using namespace std;\n",
    "\n",
    "int main() {\n",
    "    int n = 123456789;\n",
    "    int r = 0;\n",
    "    for (int i = 0; i < n; i++) {\n",
    "        if (i * i >= n) {\n",
    "            r = i;\n",
    "            break;\n",
    "            // Note that i is defined within the loop\n",
    "            // and will die after the loop ends.\n",
    "            // We have to remember i using something that lives longer.\n",
    "        }\n",
    "    }\n",
    "    cout << \"The least number such that r^2 >= n is \" << r << endl;\n",
    "    cout << \"To double check, notice that (r - 1)^2 = \" << (r - 1) * (r - 1)\n",
    "    << \", n = \" << n << \", and r^2 = \" << r * r << endl;\n",
    "    return 0;\n",
    "}"
   ]
  },
  {
   "cell_type": "code",
   "execution_count": null,
   "id": "0b0ce380",
   "metadata": {
    "vscode": {
     "languageId": "cpp"
    }
   },
   "outputs": [
    {
     "name": "stdout",
     "output_type": "stream",
     "text": [
      "The least number such that r^2 >= n is 11112\n",
      "To double check, notice that (r - 1)^2 = 123454321, n = 123456789, and r^2 = 123476544\n"
     ]
    }
   ],
   "source": [
    "%%bash\n",
    "\n",
    "g++-14 -std=c++26 -Wall -Wextra -Wpedantic root.cpp -o ro\n",
    "./ro"
   ]
  },
  {
   "cell_type": "markdown",
   "id": "b5c8cc0e",
   "metadata": {
    "vscode": {
     "languageId": "cpp"
    }
   },
   "source": [
    "That was square root.\n",
    "Next we try cubic root."
   ]
  },
  {
   "cell_type": "code",
   "execution_count": null,
   "id": "8ef747bc",
   "metadata": {
    "vscode": {
     "languageId": "cpp"
    }
   },
   "outputs": [
    {
     "name": "stdout",
     "output_type": "stream",
     "text": [
      "Overwriting root.cpp\n"
     ]
    }
   ],
   "source": [
    "%%writefile root.cpp\n",
    "\n",
    "#include <iostream>\n",
    "using namespace std;\n",
    "\n",
    "int main() {\n",
    "    int n = 123456789;\n",
    "    int r = 0;\n",
    "    for (int i = 0; i < n; i++) {\n",
    "        if (i * i * i >= n) {\n",
    "            r = i;\n",
    "            break;\n",
    "        }\n",
    "    }\n",
    "    cout << \"The least number such that r^3 >= n is \" << r << endl;\n",
    "    cout << \"To double check, notice that (r - 1)^3 = \" << (r - 1) * (r - 1) * (r - 1)\n",
    "    << \", n = \" << n << \", and r^3 = \" << r * r * r << endl;\n",
    "    return 0;\n",
    "}"
   ]
  },
  {
   "cell_type": "code",
   "execution_count": null,
   "id": "f760a44d",
   "metadata": {
    "vscode": {
     "languageId": "cpp"
    }
   },
   "outputs": [
    {
     "name": "stdout",
     "output_type": "stream",
     "text": [
      "The least number such that r^3 >= n is 498\n",
      "To double check, notice that (r - 1)^3 = 122763473, n = 123456789, and r^3 = 123505992\n"
     ]
    }
   ],
   "source": [
    "%%bash\n",
    "\n",
    "g++-14 -std=c++26 -Wall -Wextra -Wpedantic root.cpp -o ro\n",
    "./ro"
   ]
  },
  {
   "cell_type": "markdown",
   "id": "4b7c538a",
   "metadata": {
    "vscode": {
     "languageId": "cpp"
    }
   },
   "source": [
    "## Satisfactory game"
   ]
  },
  {
   "cell_type": "code",
   "execution_count": 3,
   "id": "86d1c857",
   "metadata": {
    "vscode": {
     "languageId": "cpp"
    }
   },
   "outputs": [
    {
     "name": "stdout",
     "output_type": "stream",
     "text": [
      "Overwriting sat.cpp\n"
     ]
    }
   ],
   "source": [
    "%%writefile sat.cpp\n",
    "\n",
    "#include <iostream>\n",
    "#include <string>\n",
    "using namespace std;\n",
    "\n",
    "int main() {\n",
    "    cout << \"Please input a permutation of ABCD such that\" << endl;\n",
    "    cout << \"A is to the right of B\" << endl;\n",
    "    cout << \"B is next to C\" << endl;\n",
    "    cout << \"C is not next to D\" << endl;\n",
    "    cout << \"D is not next to A\" << endl;\n",
    "    string guess;\n",
    "    while (true) {\n",
    "        cin >> guess;\n",
    "        cout << \"Your guess is \" << guess << endl;\n",
    "        if (guess.size() != 4) {\n",
    "            cout << \"Not a permutation of ABCD.  Try again.\" << endl;\n",
    "            continue;\n",
    "        }\n",
    "        int a = 0;\n",
    "        int b = 0;\n",
    "        int c = 0;\n",
    "        int d = 0;\n",
    "        for (int i = 0; i < 4; i++) {\n",
    "            if (guess[i] == 'A') a++; \n",
    "            if (guess[i] == 'B') b++; \n",
    "            if (guess[i] == 'C') c++; \n",
    "            if (guess[i] == 'D') d++; \n",
    "        }\n",
    "        if (a * b * c * d != 1) {\n",
    "            cout << \"Not a permutation of ABCD.  Try again.\" << endl;\n",
    "            continue;\n",
    "        }\n",
    "        bool flag = false;\n",
    "        a = b = c = d;\n",
    "        for (int i = 0; i < 4; i++) {\n",
    "            if (guess[i] == 'A') a++; \n",
    "            if (guess[i] == 'B') b++; \n",
    "            if (guess[i] == 'C') c++; \n",
    "            if (guess[i] == 'D') d++; \n",
    "            if (a > b) {\n",
    "                flag = true;\n",
    "            }\n",
    "        }\n",
    "        if (flag) {\n",
    "            cout << \"A is not to the right of B.  Try again.\" << endl;\n",
    "            continue;\n",
    "        }\n",
    "        flag = true;\n",
    "        for (int i = 0; i < 3; i++) {\n",
    "            if (guess[i] == 'B' || guess[i] == 'C') {\n",
    "                if (guess[i+1] == 'B' || guess[i+1] == 'C') {\n",
    "                    flag = false;\n",
    "                }\n",
    "            }\n",
    "        }\n",
    "        if (flag) {\n",
    "            cout << \"B is not next to C.  Try again.\" << endl;\n",
    "            continue;\n",
    "        }\n",
    "        flag = false;\n",
    "        for (int i = 0; i < 3; i++) {\n",
    "            if (guess[i] == 'C' || guess[i] == 'D') {\n",
    "                if (guess[i+1] == 'C' || guess[i+1] == 'D') {\n",
    "                    flag = true;\n",
    "                }\n",
    "            }\n",
    "        }\n",
    "        if (flag) {\n",
    "            cout << \"C is next to D.  Try again.\" << endl;\n",
    "            continue;\n",
    "        }\n",
    "        flag = false;\n",
    "        for (int i = 0; i < 3; i++) {\n",
    "            if (guess[i] == 'D' || guess[i] == 'A') {\n",
    "                if (guess[i+1] == 'D' || guess[i+1] == 'A') {\n",
    "                    flag = true;\n",
    "                }\n",
    "            }\n",
    "        }\n",
    "        if (flag) {\n",
    "            cout << \"D is next to A.  Try again.\" << endl;\n",
    "            continue;\n",
    "        }\n",
    "        cout << \"It seems you succeed.  Nice!\" << endl;\n",
    "        break;\n",
    "    }\n",
    "    return 0;\n",
    "}"
   ]
  },
  {
   "cell_type": "code",
   "execution_count": 4,
   "id": "32064a5d",
   "metadata": {
    "vscode": {
     "languageId": "cpp"
    }
   },
   "outputs": [
    {
     "name": "stdout",
     "output_type": "stream",
     "text": [
      "Please input a permutation of ABCD such that\n",
      "A is to the right of B\n",
      "B is next to C\n",
      "C is not next to D\n",
      "D is not next to A\n",
      "Your guess is ABC\n",
      "Not a permutation of ABCD.  Try again.\n",
      "Your guess is AABC\n",
      "Not a permutation of ABCD.  Try again.\n",
      "Your guess is ABCD\n",
      "A is not to the right of B.  Try again.\n",
      "Your guess is DCBA\n",
      "C is next to D.  Try again.\n",
      "Your guess is DBCA\n",
      "It seems you succeed.  Nice!\n"
     ]
    }
   ],
   "source": [
    "%%bash\n",
    "\n",
    "g++-14 -std=c++26 -Wall -Wextra -Wpedantic sat.cpp -o sa\n",
    "./sa <<< \"ABC AABC ABCD DCBA DBCA\""
   ]
  },
  {
   "cell_type": "markdown",
   "id": "407cac19",
   "metadata": {
    "vscode": {
     "languageId": "cpp"
    }
   },
   "source": [
    "## Sorting"
   ]
  },
  {
   "cell_type": "code",
   "execution_count": null,
   "id": "0b26f6c6",
   "metadata": {
    "vscode": {
     "languageId": "cpp"
    }
   },
   "outputs": [
    {
     "name": "stdout",
     "output_type": "stream",
     "text": [
      "Overwriting sort.cpp\n"
     ]
    }
   ],
   "source": [
    "%%writefile sort.cpp\n",
    "\n",
    "#include <iostream>\n",
    "#include <unistd.h>\n",
    "using namespace std;\n",
    "\n",
    "int main() {\n",
    "    char a, b, c, d, e;\n",
    "    char temp;\n",
    "    cin >> a >> b >> c >> d >> e;\n",
    "    while (true) {\n",
    "        if (a > b) { temp = a; a = b; b = temp; }\n",
    "        if (b > c) { temp = b; b = c; c = temp; }\n",
    "        if (c > d) { temp = c; c = d; d = temp; }\n",
    "        if (d > e) { temp = d; d = e; e = temp; }\n",
    "        cout << a << b << c << d << e << endl;\n",
    "        if (a < b && b < c && c < d && d < e) { break; }\n",
    "    }\n",
    "}"
   ]
  },
  {
   "cell_type": "code",
   "execution_count": 14,
   "id": "1f63677a",
   "metadata": {
    "vscode": {
     "languageId": "cpp"
    }
   },
   "outputs": [
    {
     "name": "stdout",
     "output_type": "stream",
     "text": [
      "43215\n",
      "32145\n",
      "21345\n",
      "12345\n"
     ]
    }
   ],
   "source": [
    "%%bash\n",
    "\n",
    "g++-14 -std=c++26 -Wall -Wextra -Wpedantic sort.cpp -o so\n",
    "./so <<< \"54321\""
   ]
  },
  {
   "cell_type": "markdown",
   "id": "2bc26968",
   "metadata": {
    "vscode": {
     "languageId": "cpp"
    }
   },
   "source": [
    "## Binary search"
   ]
  },
  {
   "cell_type": "markdown",
   "id": "d09105d6",
   "metadata": {
    "vscode": {
     "languageId": "cpp"
    }
   },
   "source": [
    "Binary search is a very power tool\n",
    "because it avoids enumerating all integers\n",
    "when you are still **far away**.\n",
    "\n",
    "THe principle is as follows:\n",
    "You let $L$ and $R$ the the left and right ends of your search,\n",
    "where you are certain that the true answer $x$ is such that $L < x \\le R$.\n",
    "Then you cut the interval in half to see if\n",
    "$x$ is in $(L, M]$ or $(M, R]$."
   ]
  },
  {
   "cell_type": "code",
   "execution_count": 15,
   "id": "3370b40e",
   "metadata": {
    "vscode": {
     "languageId": "cpp"
    }
   },
   "outputs": [
    {
     "name": "stdout",
     "output_type": "stream",
     "text": [
      "Overwriting search.cpp\n"
     ]
    }
   ],
   "source": [
    "%%writefile search.cpp\n",
    "\n",
    "#include <iostream>\n",
    "#include <cassert>\n",
    "using namespace std;\n",
    "\n",
    "int main() {\n",
    "    int n = 123456789;\n",
    "    int L = 0;\n",
    "    int R = 20000;\n",
    "    int ans = 0;\n",
    "    assert(L * L < n);\n",
    "    assert(R * R >= n);\n",
    "    for (int it = 0; it < 100; it++) {\n",
    "        int M = (L + R) / 2;\n",
    "        if (M * M >= n) {\n",
    "            R = M;\n",
    "        }\n",
    "        if (M * M < n) {\n",
    "            L = M;\n",
    "        }\n",
    "        if (L + 1 == R) {\n",
    "            // L is bad and R is good\n",
    "            // and there are no other number in between\n",
    "            ans = R;\n",
    "            break;\n",
    "        }\n",
    "    }\n",
    "    cout << \"The least number such that ans^2 >= n is \" << ans << endl;\n",
    "    cout << \"To double check, notice that (ans - 1)^2 = \" << (ans - 1) * (ans - 1)\n",
    "    << \", n = \" << n << \", and ans^2 = \" << ans * ans << endl;\n",
    "    return 0;\n",
    "}"
   ]
  },
  {
   "cell_type": "code",
   "execution_count": 16,
   "id": "9e68976c",
   "metadata": {
    "vscode": {
     "languageId": "cpp"
    }
   },
   "outputs": [
    {
     "name": "stdout",
     "output_type": "stream",
     "text": [
      "The least number such that ans^2 >= n is 11112\n",
      "To double check, notice that (ans - 1)^2 = 123454321, n = 123456789, and ans^2 = 123476544\n"
     ]
    }
   ],
   "source": [
    "%%bash\n",
    "\n",
    "g++-14 -std=c++26 -Wall -Wextra -Wpedantic search.cpp -o se\n",
    "./se"
   ]
  },
  {
   "cell_type": "markdown",
   "id": "8c763550",
   "metadata": {
    "vscode": {
     "languageId": "cpp"
    }
   },
   "source": [
    "Binary search can do better: It works on floating-point numbers.\n",
    "(On the other hand, it is almost impossible to enumerate all `float`)."
   ]
  },
  {
   "cell_type": "code",
   "execution_count": null,
   "id": "62659787",
   "metadata": {
    "vscode": {
     "languageId": "cpp"
    }
   },
   "outputs": [
    {
     "name": "stdout",
     "output_type": "stream",
     "text": [
      "Overwriting search.cpp\n"
     ]
    }
   ],
   "source": [
    "%%writefile search.cpp\n",
    "\n",
    "#include <iostream>\n",
    "#include <cassert>\n",
    "using namespace std;\n",
    "\n",
    "int main() {\n",
    "    int n = 123456789;\n",
    "    float L = 0;\n",
    "    float R = 20000;\n",
    "    assert(L * L <= n);\n",
    "    assert(R * R >= n);\n",
    "    for (int it = 0; it < 100; it++) {\n",
    "        float M = (L + R) / 2;\n",
    "        if (M * M >= n) {\n",
    "            R = M;\n",
    "        }\n",
    "        if (M * M <= n) {\n",
    "            L = M;\n",
    "        }\n",
    "    }\n",
    "    float ans = (L + R) / 2;\n",
    "    cout << \"Our best number ans^2 = n is \" << ans << endl;\n",
    "    cout << \"To double check, notice that answer^2 = \" << ans * ans << endl;\n",
    "    return 0;\n",
    "}"
   ]
  },
  {
   "cell_type": "code",
   "execution_count": null,
   "id": "373a8c46",
   "metadata": {
    "vscode": {
     "languageId": "cpp"
    }
   },
   "outputs": [
    {
     "name": "stdout",
     "output_type": "stream",
     "text": [
      "Our best number ans^2 = n is 11111.1\n",
      "To double check, notice that answer^2 = 1.23457e+08\n"
     ]
    }
   ],
   "source": [
    "%%bash\n",
    "\n",
    "g++-14 -std=c++26 -Wall -Wextra -Wpedantic search.cpp -o se\n",
    "./se"
   ]
  },
  {
   "cell_type": "code",
   "execution_count": null,
   "id": "38bb9b66",
   "metadata": {
    "vscode": {
     "languageId": "cpp"
    }
   },
   "outputs": [
    {
     "data": {
      "text/plain": [
       "11111.111060555555"
      ]
     },
     "execution_count": 98,
     "metadata": {},
     "output_type": "execute_result"
    }
   ],
   "source": [
    "# Meanwhile, the true value is\n",
    "\n",
    "float(sqrt(123456789))"
   ]
  },
  {
   "cell_type": "markdown",
   "id": "73ca8fe0",
   "metadata": {
    "vscode": {
     "languageId": "cpp"
    }
   },
   "source": [
    "Try to replace `for (int it = 0; it < 100; it++)`\n",
    "by something like `for (int it = 0; it < 10; it++)`\n",
    "to study how many iterations is needed to get to the precision you need."
   ]
  },
  {
   "cell_type": "markdown",
   "id": "f642fe20",
   "metadata": {
    "vscode": {
     "languageId": "cpp"
    }
   },
   "source": [
    "## Fibonacci number"
   ]
  },
  {
   "cell_type": "markdown",
   "id": "52e71718",
   "metadata": {
    "vscode": {
     "languageId": "cpp"
    }
   },
   "source": [
    "It is hard to avoid fibonacci number when teaching programming.\n",
    "\n",
    "You can check the answer with [OEIS](https://oeis.org/A000045a)."
   ]
  },
  {
   "cell_type": "code",
   "execution_count": 22,
   "id": "60ca5e15",
   "metadata": {
    "vscode": {
     "languageId": "cpp"
    }
   },
   "outputs": [
    {
     "name": "stdout",
     "output_type": "stream",
     "text": [
      "Overwriting fib.cpp\n"
     ]
    }
   ],
   "source": [
    "%%writefile fib.cpp\n",
    "\n",
    "#include <iostream>\n",
    "using namespace std;\n",
    "\n",
    "int main() {\n",
    "    int a = 1;\n",
    "    int b = 1;\n",
    "    int c = 1;\n",
    "    for (int n = 0; n < 50; n++) {\n",
    "        c = a + b;\n",
    "        a = b;\n",
    "        b = c;\n",
    "        cout << a << \" \";\n",
    "    }\n",
    "    return 0;\n",
    "}"
   ]
  },
  {
   "cell_type": "code",
   "execution_count": 23,
   "id": "7a3447fc",
   "metadata": {
    "vscode": {
     "languageId": "cpp"
    }
   },
   "outputs": [
    {
     "name": "stdout",
     "output_type": "stream",
     "text": [
      "1 2 3 5 8 13 21 34 55 89 144 233 377 610 987 1597 2584 4181 6765 10946 17711 28657 46368 75025 121393 196418 317811 514229 832040 1346269 2178309 3524578 5702887 9227465 14930352 24157817 39088169 63245986 102334155 165580141 267914296 433494437 701408733 1134903170 1836311903 -1323752223 512559680 -811192543 -298632863 -1109825406 "
     ]
    }
   ],
   "source": [
    "%%bash\n",
    "\n",
    "g++-14 -std=c++26 -Wall -Wextra -Wpedantic fib.cpp -o fi\n",
    "./fi"
   ]
  },
  {
   "cell_type": "markdown",
   "id": "2fa3f6a7",
   "metadata": {
    "vscode": {
     "languageId": "cpp"
    }
   },
   "source": [
    "You start seeing negative numbers because **integer overflow**.\n",
    "Roughly speaking, `int` is designed for integers in the range\n",
    "$[-2^{31}, 2^{31} - 1]$.\n",
    "Anything that goes beyond $2^{31} - 1$ will wrap back to $-2^{31}$,\n",
    "and anything that goes below $-2^{31}$ will reappear at $2^{31} - 1$.\n",
    "\n",
    "To verify my theory, let's cheat with python; python's integer is very long."
   ]
  },
  {
   "cell_type": "code",
   "execution_count": 24,
   "id": "ed1004d3",
   "metadata": {
    "vscode": {
     "languageId": "cpp"
    }
   },
   "outputs": [
    {
     "name": "stdout",
     "output_type": "stream",
     "text": [
      "1 2 3 5 8 13 21 34 55 89 144 233 377 610 987 1597 2584 4181 6765 10946 17711 28657 46368 75025 121393 196418 317811 514229 832040 1346269 2178309 3524578 5702887 9227465 14930352 24157817 39088169 63245986 102334155 165580141 267914296 433494437 701408733 1134903170 1836311903 -1323752223 (actually 2971215073)\n",
      "512559680 (actually 4807526976)\n",
      "-811192543 (actually 7778742049)\n",
      "-298632863 (actually 12586269025)\n",
      "-1109825406 (actually 20365011074)\n"
     ]
    }
   ],
   "source": [
    "a = b = c = 1\n",
    "for n in range(50):\n",
    "    c = a + b;\n",
    "    a = b;\n",
    "    b = c;\n",
    "    if (a < 2^31):\n",
    "        print(a, end=' ')\n",
    "    else:\n",
    "        A = (a + 2^31) % 2^32 - 2^31\n",
    "        print(f'{A} (actually {a})')"
   ]
  },
  {
   "cell_type": "markdown",
   "id": "b4f739f5",
   "metadata": {
    "vscode": {
     "languageId": "cpp"
    }
   },
   "source": [
    "Now `long long int` can solve this problem partially because\n",
    "it is design for $[-2^{63}, 2^{63} - 1]$."
   ]
  },
  {
   "cell_type": "code",
   "execution_count": 25,
   "id": "293a6373",
   "metadata": {
    "vscode": {
     "languageId": "cpp"
    }
   },
   "outputs": [
    {
     "name": "stdout",
     "output_type": "stream",
     "text": [
      "Overwriting fib.cpp\n"
     ]
    }
   ],
   "source": [
    "%%writefile fib.cpp\n",
    "\n",
    "#include <iostream>\n",
    "using namespace std;\n",
    "\n",
    "int main() {\n",
    "    long long a = 1;\n",
    "    long long b = 1;\n",
    "    long long c = 1;\n",
    "    for (int n = 0; n < 100; n++) {\n",
    "        c = a + b;\n",
    "        a = b;\n",
    "        b = c;\n",
    "        cout << a << \" \";\n",
    "    }\n",
    "    return 0;\n",
    "}"
   ]
  },
  {
   "cell_type": "code",
   "execution_count": 26,
   "id": "acd18445",
   "metadata": {
    "vscode": {
     "languageId": "cpp"
    }
   },
   "outputs": [
    {
     "name": "stdout",
     "output_type": "stream",
     "text": [
      "1 2 3 5 8 13 21 34 55 89 144 233 377 610 987 1597 2584 4181 6765 10946 17711 28657 46368 75025 121393 196418 317811 514229 832040 1346269 2178309 3524578 5702887 9227465 14930352 24157817 39088169 63245986 102334155 165580141 267914296 433494437 701408733 1134903170 1836311903 2971215073 4807526976 7778742049 12586269025 20365011074 32951280099 53316291173 86267571272 139583862445 225851433717 365435296162 591286729879 956722026041 1548008755920 2504730781961 4052739537881 6557470319842 10610209857723 17167680177565 27777890035288 44945570212853 72723460248141 117669030460994 190392490709135 308061521170129 498454011879264 806515533049393 1304969544928657 2111485077978050 3416454622906707 5527939700884757 8944394323791464 14472334024676221 23416728348467685 37889062373143906 61305790721611591 99194853094755497 160500643816367088 259695496911122585 420196140727489673 679891637638612258 1100087778366101931 1779979416004714189 2880067194370816120 4660046610375530309 7540113804746346429 -6246583658587674878 1293530146158671551 -4953053512429003327 -3659523366270331776 -8612576878699335103 6174643828739884737 -2437933049959450366 3736710778780434371 1298777728820984005 "
     ]
    }
   ],
   "source": [
    "%%bash\n",
    "\n",
    "g++-14 -std=c++26 -Wall -Wextra -Wpedantic fib.cpp -o fi\n",
    "./fi"
   ]
  },
  {
   "cell_type": "markdown",
   "id": "00acef01",
   "metadata": {
    "vscode": {
     "languageId": "cpp"
    }
   },
   "source": [
    "But it still overflows.\n",
    "\n",
    "Let's double check with python."
   ]
  },
  {
   "cell_type": "code",
   "execution_count": 27,
   "id": "05b074b0",
   "metadata": {
    "vscode": {
     "languageId": "cpp"
    }
   },
   "outputs": [
    {
     "name": "stdout",
     "output_type": "stream",
     "text": [
      "1 2 3 5 8 13 21 34 55 89 144 233 377 610 987 1597 2584 4181 6765 10946 17711 28657 46368 75025 121393 196418 317811 514229 832040 1346269 2178309 3524578 5702887 9227465 14930352 24157817 39088169 63245986 102334155 165580141 267914296 433494437 701408733 1134903170 1836311903 2971215073 4807526976 7778742049 12586269025 20365011074 32951280099 53316291173 86267571272 139583862445 225851433717 365435296162 591286729879 956722026041 1548008755920 2504730781961 4052739537881 6557470319842 10610209857723 17167680177565 27777890035288 44945570212853 72723460248141 117669030460994 190392490709135 308061521170129 498454011879264 806515533049393 1304969544928657 2111485077978050 3416454622906707 5527939700884757 8944394323791464 14472334024676221 23416728348467685 37889062373143906 61305790721611591 99194853094755497 160500643816367088 259695496911122585 420196140727489673 679891637638612258 1100087778366101931 1779979416004714189 2880067194370816120 4660046610375530309 7540113804746346429 -6246583658587674878 (actually 12200160415121876738)\n",
      "1293530146158671551 (actually 19740274219868223167)\n",
      "-4953053512429003327 (actually 31940434634990099905)\n",
      "-3659523366270331776 (actually 51680708854858323072)\n",
      "-8612576878699335103 (actually 83621143489848422977)\n",
      "6174643828739884737 (actually 135301852344706746049)\n",
      "-2437933049959450366 (actually 218922995834555169026)\n",
      "3736710778780434371 (actually 354224848179261915075)\n",
      "1298777728820984005 (actually 573147844013817084101)\n"
     ]
    }
   ],
   "source": [
    "a = b = c = 1\n",
    "for n in range(100):\n",
    "    c = a + b;\n",
    "    a = b;\n",
    "    b = c;\n",
    "    if (a < 2^63): print(a, end=' ')\n",
    "    else:\n",
    "        A = (a + 2^63) % 2^64 - 2^63\n",
    "        print(f'{A} (actually {a})')"
   ]
  },
  {
   "cell_type": "markdown",
   "id": "f266b0cd",
   "metadata": {
    "vscode": {
     "languageId": "cpp"
    }
   },
   "source": [
    "Floating-point numbers can handle range larger than `long long`\n",
    "at the cost of being not precise up to $\\pm1$.\n",
    "\n",
    "you see, when we see scientific notation like $6.02 \\cdot 10^{23}$,\n",
    "we do not really care if that number is\n",
    "$6{,}020{,}000{,}000{,}000$ or\n",
    "$6{,}020{,}000{,}000{,}001$ or\n",
    "$6{,}019{,}999{,}999{,}999$.\n",
    "\n",
    "The computer knows you.\n",
    "So it give up the less significant digits\n",
    "to save space for numbers that could have overflown."
   ]
  },
  {
   "cell_type": "code",
   "execution_count": 28,
   "id": "dd83e121",
   "metadata": {
    "vscode": {
     "languageId": "cpp"
    }
   },
   "outputs": [
    {
     "name": "stdout",
     "output_type": "stream",
     "text": [
      "Overwriting fib.cpp\n"
     ]
    }
   ],
   "source": [
    "%%writefile fib.cpp\n",
    "\n",
    "#include <iostream>\n",
    "using namespace std;\n",
    "\n",
    "int main() {\n",
    "    float a = 1;\n",
    "    float b = 1;\n",
    "    float c = 1;\n",
    "    for (int n = 0; n < 200; n++) {\n",
    "        c = a + b;\n",
    "        a = b;\n",
    "        b = c;\n",
    "        cout << a << \" \";\n",
    "    }\n",
    "    return 0;\n",
    "}"
   ]
  },
  {
   "cell_type": "code",
   "execution_count": 29,
   "id": "11793384",
   "metadata": {
    "vscode": {
     "languageId": "cpp"
    }
   },
   "outputs": [
    {
     "name": "stdout",
     "output_type": "stream",
     "text": [
      "1 2 3 5 8 13 21 34 55 89 144 233 377 610 987 1597 2584 4181 6765 10946 17711 28657 46368 75025 121393 196418 317811 514229 832040 1.34627e+06 2.17831e+06 3.52458e+06 5.70289e+06 9.22746e+06 1.49304e+07 2.41578e+07 3.90882e+07 6.3246e+07 1.02334e+08 1.6558e+08 2.67914e+08 4.33494e+08 7.01409e+08 1.1349e+09 1.83631e+09 2.97121e+09 4.80753e+09 7.77874e+09 1.25863e+10 2.0365e+10 3.29513e+10 5.33163e+10 8.62676e+10 1.39584e+11 2.25851e+11 3.65435e+11 5.91287e+11 9.56722e+11 1.54801e+12 2.50473e+12 4.05274e+12 6.55747e+12 1.06102e+13 1.71677e+13 2.77779e+13 4.49456e+13 7.27234e+13 1.17669e+14 1.90392e+14 3.08061e+14 4.98454e+14 8.06515e+14 1.30497e+15 2.11148e+15 3.41645e+15 5.52794e+15 8.94439e+15 1.44723e+16 2.34167e+16 3.78891e+16 6.13058e+16 9.91948e+16 1.60501e+17 2.59695e+17 4.20196e+17 6.79891e+17 1.10009e+18 1.77998e+18 2.88007e+18 4.66004e+18 7.54011e+18 1.22002e+19 1.97403e+19 3.19404e+19 5.16807e+19 8.36211e+19 1.35302e+20 2.18923e+20 3.54225e+20 5.73148e+20 9.27372e+20 1.50052e+21 2.42789e+21 3.92841e+21 6.3563e+21 1.02847e+22 1.6641e+22 2.69257e+22 4.35668e+22 7.04925e+22 1.14059e+23 1.84552e+23 2.98611e+23 4.83163e+23 7.81774e+23 1.26494e+24 2.04671e+24 3.31165e+24 5.35836e+24 8.67001e+24 1.40284e+25 2.26984e+25 3.67267e+25 5.94251e+25 9.61518e+25 1.55577e+26 2.51729e+26 4.07306e+26 6.59034e+26 1.06634e+27 1.72537e+27 2.79171e+27 4.51709e+27 7.3088e+27 1.18259e+28 1.91347e+28 3.09606e+28 5.00953e+28 8.10559e+28 1.31151e+29 2.12207e+29 3.43358e+29 5.55565e+29 8.98923e+29 1.45449e+30 2.35341e+30 3.8079e+30 6.16131e+30 9.96921e+30 1.61305e+31 2.60997e+31 4.22303e+31 6.833e+31 1.1056e+32 1.7889e+32 2.89451e+32 4.68341e+32 7.57791e+32 1.22613e+33 1.98392e+33 3.21006e+33 5.19398e+33 8.40404e+33 1.3598e+34 2.20021e+34 3.56001e+34 5.76021e+34 9.32022e+34 1.50804e+35 2.44006e+35 3.94811e+35 6.38817e+35 1.03363e+36 1.67245e+36 2.70607e+36 4.37852e+36 7.08459e+36 1.14631e+37 1.85477e+37 3.00108e+37 4.85585e+37 7.85693e+37 1.27128e+38 2.05697e+38 3.32825e+38 inf inf inf inf inf inf inf inf inf inf inf inf inf inf inf "
     ]
    }
   ],
   "source": [
    "%%bash\n",
    "\n",
    "g++-14 -std=c++26 -Wall -Wextra -Wpedantic fib.cpp -o fi\n",
    "./fi"
   ]
  },
  {
   "cell_type": "markdown",
   "id": "8e975cc9",
   "metadata": {
    "vscode": {
     "languageId": "cpp"
    }
   },
   "source": [
    "`float` still overflows, except that it does not go back to negative number.\n",
    "It **remembers** that it overflows because it's too large, and becomes $+\\infty$.\n",
    "\n",
    "Similarly, a `float` that overflows because it's too negative becomes $-\\infty$."
   ]
  },
  {
   "cell_type": "code",
   "execution_count": 30,
   "id": "350efcd3",
   "metadata": {
    "vscode": {
     "languageId": "cpp"
    }
   },
   "outputs": [
    {
     "name": "stdout",
     "output_type": "stream",
     "text": [
      "Overwriting fib.cpp\n"
     ]
    }
   ],
   "source": [
    "%%writefile fib.cpp\n",
    "\n",
    "#include <iostream>\n",
    "using namespace std;\n",
    "\n",
    "int main() {\n",
    "    float a = -1;\n",
    "    float b = -1;\n",
    "    float c = -1;\n",
    "    for (int n = 0; n < 200; n++) {\n",
    "        c = a + b;\n",
    "        a = b;\n",
    "        b = c;\n",
    "        cout << a << \" \";\n",
    "    }\n",
    "    return 0;\n",
    "}"
   ]
  },
  {
   "cell_type": "code",
   "execution_count": 31,
   "id": "31866888",
   "metadata": {
    "vscode": {
     "languageId": "cpp"
    }
   },
   "outputs": [
    {
     "name": "stdout",
     "output_type": "stream",
     "text": [
      "-1 -2 -3 -5 -8 -13 -21 -34 -55 -89 -144 -233 -377 -610 -987 -1597 -2584 -4181 -6765 -10946 -17711 -28657 -46368 -75025 -121393 -196418 -317811 -514229 -832040 -1.34627e+06 -2.17831e+06 -3.52458e+06 -5.70289e+06 -9.22746e+06 -1.49304e+07 -2.41578e+07 -3.90882e+07 -6.3246e+07 -1.02334e+08 -1.6558e+08 -2.67914e+08 -4.33494e+08 -7.01409e+08 -1.1349e+09 -1.83631e+09 -2.97121e+09 -4.80753e+09 -7.77874e+09 -1.25863e+10 -2.0365e+10 -3.29513e+10 -5.33163e+10 -8.62676e+10 -1.39584e+11 -2.25851e+11 -3.65435e+11 -5.91287e+11 -9.56722e+11 -1.54801e+12 -2.50473e+12 -4.05274e+12 -6.55747e+12 -1.06102e+13 -1.71677e+13 -2.77779e+13 -4.49456e+13 -7.27234e+13 -1.17669e+14 -1.90392e+14 -3.08061e+14 -4.98454e+14 -8.06515e+14 -1.30497e+15 -2.11148e+15 -3.41645e+15 -5.52794e+15 -8.94439e+15 -1.44723e+16 -2.34167e+16 -3.78891e+16 -6.13058e+16 -9.91948e+16 -1.60501e+17 -2.59695e+17 -4.20196e+17 -6.79891e+17 -1.10009e+18 -1.77998e+18 -2.88007e+18 -4.66004e+18 -7.54011e+18 -1.22002e+19 -1.97403e+19 -3.19404e+19 -5.16807e+19 -8.36211e+19 -1.35302e+20 -2.18923e+20 -3.54225e+20 -5.73148e+20 -9.27372e+20 -1.50052e+21 -2.42789e+21 -3.92841e+21 -6.3563e+21 -1.02847e+22 -1.6641e+22 -2.69257e+22 -4.35668e+22 -7.04925e+22 -1.14059e+23 -1.84552e+23 -2.98611e+23 -4.83163e+23 -7.81774e+23 -1.26494e+24 -2.04671e+24 -3.31165e+24 -5.35836e+24 -8.67001e+24 -1.40284e+25 -2.26984e+25 -3.67267e+25 -5.94251e+25 -9.61518e+25 -1.55577e+26 -2.51729e+26 -4.07306e+26 -6.59034e+26 -1.06634e+27 -1.72537e+27 -2.79171e+27 -4.51709e+27 -7.3088e+27 -1.18259e+28 -1.91347e+28 -3.09606e+28 -5.00953e+28 -8.10559e+28 -1.31151e+29 -2.12207e+29 -3.43358e+29 -5.55565e+29 -8.98923e+29 -1.45449e+30 -2.35341e+30 -3.8079e+30 -6.16131e+30 -9.96921e+30 -1.61305e+31 -2.60997e+31 -4.22303e+31 -6.833e+31 -1.1056e+32 -1.7889e+32 -2.89451e+32 -4.68341e+32 -7.57791e+32 -1.22613e+33 -1.98392e+33 -3.21006e+33 -5.19398e+33 -8.40404e+33 -1.3598e+34 -2.20021e+34 -3.56001e+34 -5.76021e+34 -9.32022e+34 -1.50804e+35 -2.44006e+35 -3.94811e+35 -6.38817e+35 -1.03363e+36 -1.67245e+36 -2.70607e+36 -4.37852e+36 -7.08459e+36 -1.14631e+37 -1.85477e+37 -3.00108e+37 -4.85585e+37 -7.85693e+37 -1.27128e+38 -2.05697e+38 -3.32825e+38 -inf -inf -inf -inf -inf -inf -inf -inf -inf -inf -inf -inf -inf -inf -inf "
     ]
    }
   ],
   "source": [
    "%%bash\n",
    "\n",
    "g++-14 -std=c++26 -Wall -Wextra -Wpedantic fib.cpp -o fi\n",
    "./fi"
   ]
  },
  {
   "cell_type": "markdown",
   "id": "5fc72bf4",
   "metadata": {
    "vscode": {
     "languageId": "cpp"
    }
   },
   "source": [
    "`double` has a larger range but it is still not infinite."
   ]
  },
  {
   "cell_type": "code",
   "execution_count": 32,
   "id": "9642d1c9",
   "metadata": {
    "vscode": {
     "languageId": "cpp"
    }
   },
   "outputs": [
    {
     "name": "stdout",
     "output_type": "stream",
     "text": [
      "Overwriting fib.cpp\n"
     ]
    }
   ],
   "source": [
    "%%writefile fib.cpp\n",
    "\n",
    "#include <iostream>\n",
    "using namespace std;\n",
    "\n",
    "int main() {\n",
    "    double a = 1;\n",
    "    double b = 1;\n",
    "    double c = 1;\n",
    "    for (int n = 0; n < 1500; n++) {\n",
    "        c = a + b;\n",
    "        a = b;\n",
    "        b = c;\n",
    "        cout << a << \" \";\n",
    "    }\n",
    "    return 0;\n",
    "}"
   ]
  },
  {
   "cell_type": "code",
   "execution_count": 33,
   "id": "3ac96176",
   "metadata": {
    "vscode": {
     "languageId": "cpp"
    }
   },
   "outputs": [
    {
     "name": "stdout",
     "output_type": "stream",
     "text": [
      "1 2 3 5 8 13 21 34 55 89 144 233 377 610 987 1597 2584 4181 6765 10946 17711 28657 46368 75025 121393 196418 317811 514229 832040 1.34627e+06 2.17831e+06 3.52458e+06 5.70289e+06 9.22746e+06 1.49304e+07 2.41578e+07 3.90882e+07 6.3246e+07 1.02334e+08 1.6558e+08 2.67914e+08 4.33494e+08 7.01409e+08 1.1349e+09 1.83631e+09 2.97122e+09 4.80753e+09 7.77874e+09 1.25863e+10 2.0365e+10 3.29513e+10 5.33163e+10 8.62676e+10 1.39584e+11 2.25851e+11 3.65435e+11 5.91287e+11 9.56722e+11 1.54801e+12 2.50473e+12 4.05274e+12 6.55747e+12 1.06102e+13 1.71677e+13 2.77779e+13 4.49456e+13 7.27235e+13 1.17669e+14 1.90392e+14 3.08062e+14 4.98454e+14 8.06516e+14 1.30497e+15 2.11149e+15 3.41645e+15 5.52794e+15 8.94439e+15 1.44723e+16 2.34167e+16 3.78891e+16 6.13058e+16 9.91949e+16 1.60501e+17 2.59695e+17 4.20196e+17 6.79892e+17 1.10009e+18 1.77998e+18 2.88007e+18 4.66005e+18 7.54011e+18 1.22002e+19 1.97403e+19 3.19404e+19 5.16807e+19 8.36211e+19 1.35302e+20 2.18923e+20 3.54225e+20 5.73148e+20 9.27373e+20 1.50052e+21 2.42789e+21 3.92841e+21 6.35631e+21 1.02847e+22 1.6641e+22 2.69257e+22 4.35668e+22 7.04925e+22 1.14059e+23 1.84552e+23 2.98611e+23 4.83163e+23 7.81774e+23 1.26494e+24 2.04671e+24 3.31165e+24 5.35836e+24 8.67001e+24 1.40284e+25 2.26984e+25 3.67267e+25 5.94251e+25 9.61519e+25 1.55577e+26 2.51729e+26 4.07306e+26 6.59035e+26 1.06634e+27 1.72538e+27 2.79172e+27 4.51709e+27 7.30881e+27 1.18259e+28 1.91347e+28 3.09606e+28 5.00953e+28 8.10559e+28 1.31151e+29 2.12207e+29 3.43358e+29 5.55565e+29 8.98924e+29 1.45449e+30 2.35341e+30 3.8079e+30 6.16131e+30 9.96922e+30 1.61305e+31 2.60997e+31 4.22303e+31 6.833e+31 1.1056e+32 1.7889e+32 2.89451e+32 4.68341e+32 7.57792e+32 1.22613e+33 1.98392e+33 3.21006e+33 5.19398e+33 8.40404e+33 1.3598e+34 2.20021e+34 3.56001e+34 5.76021e+34 9.32022e+34 1.50804e+35 2.44007e+35 3.94811e+35 6.38817e+35 1.03363e+36 1.67245e+36 2.70607e+36 4.37852e+36 7.08459e+36 1.14631e+37 1.85477e+37 3.00108e+37 4.85585e+37 7.85694e+37 1.27128e+38 2.05697e+38 3.32825e+38 5.38522e+38 8.71347e+38 1.40987e+39 2.28122e+39 3.69109e+39 5.9723e+39 9.66339e+39 1.56357e+40 2.52991e+40 4.09348e+40 6.62339e+40 1.07169e+41 1.73403e+41 2.80571e+41 4.53974e+41 7.34545e+41 1.18852e+42 1.92306e+42 3.11158e+42 5.03465e+42 8.14623e+42 1.31809e+43 2.13271e+43 3.4508e+43 5.58351e+43 9.0343e+43 1.46178e+44 2.36521e+44 3.82699e+44 6.1922e+44 1.00192e+45 1.62114e+45 2.62306e+45 4.2442e+45 6.86726e+45 1.11115e+46 1.79787e+46 2.90902e+46 4.70689e+46 7.61591e+46 1.23228e+47 1.99387e+47 3.22615e+47 5.22002e+47 8.44617e+47 1.36662e+48 2.21124e+48 3.57786e+48 5.78909e+48 9.36695e+48 1.5156e+49 2.4523e+49 3.9679e+49 6.4202e+49 1.03881e+50 1.68083e+50 2.71964e+50 4.40047e+50 7.12011e+50 1.15206e+51 1.86407e+51 3.01613e+51 4.8802e+51 7.89633e+51 1.27765e+52 2.06728e+52 3.34494e+52 5.41222e+52 8.75716e+52 1.41694e+53 2.29265e+53 3.70959e+53 6.00225e+53 9.71184e+53 1.57141e+54 2.54259e+54 4.114e+54 6.65659e+54 1.07706e+55 1.74272e+55 2.81978e+55 4.5625e+55 7.38228e+55 1.19448e+56 1.9327e+56 3.12718e+56 5.05989e+56 8.18707e+56 1.3247e+57 2.1434e+57 3.4681e+57 5.6115e+57 9.0796e+57 1.46911e+58 2.37707e+58 3.84618e+58 6.22325e+58 1.00694e+59 1.62927e+59 2.63621e+59 4.26548e+59 6.90169e+59 1.11672e+60 1.80689e+60 2.9236e+60 4.73049e+60 7.65409e+60 1.23846e+61 2.00387e+61 3.24232e+61 5.24619e+61 8.48852e+61 1.37347e+62 2.22232e+62 3.59579e+62 5.81812e+62 9.41391e+62 1.5232e+63 2.46459e+63 3.9878e+63 6.45239e+63 1.04402e+64 1.68926e+64 2.73328e+64 4.42253e+64 7.15581e+64 1.15783e+65 1.87342e+65 3.03125e+65 4.90466e+65 7.93591e+65 1.28406e+66 2.07765e+66 3.36171e+66 5.43936e+66 8.80106e+66 1.42404e+67 2.30415e+67 3.72819e+67 6.03234e+67 9.76053e+67 1.57929e+68 2.55534e+68 4.13463e+68 6.68997e+68 1.08246e+69 1.75146e+69 2.83392e+69 4.58537e+69 7.41929e+69 1.20047e+70 1.94239e+70 3.14286e+70 5.08525e+70 8.22811e+70 1.33134e+71 2.15415e+71 3.48549e+71 5.63963e+71 9.12512e+71 1.47648e+72 2.38899e+72 3.86546e+72 6.25445e+72 1.01199e+73 1.63744e+73 2.64943e+73 4.28686e+73 6.93629e+73 1.12232e+74 1.81594e+74 2.93826e+74 4.7542e+74 7.69246e+74 1.24467e+75 2.01391e+75 3.25858e+75 5.27249e+75 8.53107e+75 1.38036e+76 2.23346e+76 3.61382e+76 5.84728e+76 9.46111e+76 1.53084e+77 2.47695e+77 4.00779e+77 6.48474e+77 1.04925e+78 1.69773e+78 2.74698e+78 4.44471e+78 7.19168e+78 1.16364e+79 1.88281e+79 3.04645e+79 4.92925e+79 7.9757e+79 1.2905e+80 2.08807e+80 3.37856e+80 5.46663e+80 8.84519e+80 1.43118e+81 2.3157e+81 3.74688e+81 6.06258e+81 9.80946e+81 1.5872e+82 2.56815e+82 4.15536e+82 6.72351e+82 1.08789e+83 1.76024e+83 2.84812e+83 4.60836e+83 7.45648e+83 1.20648e+84 1.95213e+84 3.15862e+84 5.11075e+84 8.26937e+84 1.33801e+85 2.16495e+85 3.50296e+85 5.66791e+85 9.17087e+85 1.48388e+86 2.40096e+86 3.88484e+86 6.28581e+86 1.01706e+87 1.64565e+87 2.66271e+87 4.30836e+87 6.97107e+87 1.12794e+88 1.82505e+88 2.95299e+88 4.77804e+88 7.73103e+88 1.25091e+89 2.02401e+89 3.27492e+89 5.29893e+89 8.57384e+89 1.38728e+90 2.24466e+90 3.63194e+90 5.8766e+90 9.50854e+90 1.53851e+91 2.48937e+91 4.02788e+91 6.51725e+91 1.05451e+92 1.70624e+92 2.76075e+92 4.46699e+92 7.22774e+92 1.16947e+93 1.89225e+93 3.06172e+93 4.95397e+93 8.01569e+93 1.29697e+94 2.09853e+94 3.3955e+94 5.49403e+94 8.88953e+94 1.43836e+95 2.32731e+95 3.76567e+95 6.09298e+95 9.85864e+95 1.59516e+96 2.58103e+96 4.17619e+96 6.75721e+96 1.09334e+97 1.76906e+97 2.8624e+97 4.63146e+97 7.49387e+97 1.21253e+98 1.96192e+98 3.17445e+98 5.13637e+98 8.31082e+98 1.34472e+99 2.1758e+99 3.52052e+99 5.69632e+99 9.21685e+99 1.49132e+100 2.413e+100 3.90432e+100 6.31732e+100 1.02216e+101 1.6539e+101 2.67606e+101 4.32996e+101 7.00602e+101 1.1336e+102 1.8342e+102 2.9678e+102 4.80199e+102 7.76979e+102 1.25718e+103 2.03416e+103 3.29134e+103 5.32549e+103 8.61683e+103 1.39423e+104 2.25592e+104 3.65015e+104 5.90606e+104 9.55621e+104 1.54623e+105 2.50185e+105 4.04808e+105 6.54992e+105 1.0598e+106 1.71479e+106 2.77459e+106 4.48938e+106 7.26398e+106 1.17534e+107 1.90173e+107 3.07707e+107 4.9788e+107 8.05587e+107 1.30347e+108 2.10906e+108 3.41252e+108 5.52158e+108 8.9341e+108 1.44557e+109 2.33898e+109 3.78455e+109 6.12352e+109 9.90807e+109 1.60316e+110 2.59397e+110 4.19713e+110 6.79109e+110 1.09882e+111 1.77793e+111 2.87675e+111 4.65468e+111 7.53144e+111 1.21861e+112 1.97176e+112 3.19037e+112 5.16212e+112 8.35249e+112 1.35146e+113 2.18671e+113 3.53817e+113 5.72488e+113 9.26305e+113 1.49879e+114 2.4251e+114 3.92389e+114 6.34899e+114 1.02729e+115 1.66219e+115 2.68948e+115 4.35166e+115 7.04114e+115 1.13928e+116 1.84339e+116 2.98267e+116 4.82607e+116 7.80874e+116 1.26348e+117 2.04436e+117 3.30784e+117 5.35219e+117 8.66003e+117 1.40122e+118 2.26723e+118 3.66845e+118 5.93567e+118 9.60412e+118 1.55398e+119 2.51439e+119 4.06837e+119 6.58276e+119 1.06511e+120 1.72339e+120 2.7885e+120 4.51189e+120 7.30039e+120 1.18123e+121 1.91127e+121 3.0925e+121 5.00376e+121 8.09626e+121 1.31e+122 2.11963e+122 3.42963e+122 5.54926e+122 8.97889e+122 1.45282e+123 2.3507e+123 3.80352e+123 6.15422e+123 9.95774e+123 1.6112e+124 2.60697e+124 4.21817e+124 6.82514e+124 1.10433e+125 1.78684e+125 2.89118e+125 4.67802e+125 7.5692e+125 1.22472e+126 1.98164e+126 3.20636e+126 5.188e+126 8.39437e+126 1.35824e+127 2.19767e+127 3.55591e+127 5.75358e+127 9.30949e+127 1.50631e+128 2.43726e+128 3.94357e+128 6.38082e+128 1.03244e+129 1.67052e+129 2.70296e+129 4.37348e+129 7.07644e+129 1.14499e+130 1.85264e+130 2.99763e+130 4.85026e+130 7.84789e+130 1.26982e+131 2.05461e+131 3.32442e+131 5.37903e+131 8.70345e+131 1.40825e+132 2.27859e+132 3.68684e+132 5.96543e+132 9.65227e+132 1.56177e+133 2.527e+133 4.08877e+133 6.61576e+133 1.07045e+134 1.73203e+134 2.80248e+134 4.53451e+134 7.337e+134 1.18715e+135 1.92085e+135 3.108e+135 5.02885e+135 8.13685e+135 1.31657e+136 2.13026e+136 3.44683e+136 5.57708e+136 9.02391e+136 1.4601e+137 2.36249e+137 3.82259e+137 6.18508e+137 1.00077e+138 1.61927e+138 2.62004e+138 4.23932e+138 6.85936e+138 1.10987e+139 1.7958e+139 2.90567e+139 4.70147e+139 7.60714e+139 1.23086e+140 1.99158e+140 3.22244e+140 5.21401e+140 8.43645e+140 1.36505e+141 2.20869e+141 3.57374e+141 5.78243e+141 9.35617e+141 1.51386e+142 2.44948e+142 3.96334e+142 6.41281e+142 1.03761e+143 1.6789e+143 2.71651e+143 4.39541e+143 7.11192e+143 1.15073e+144 1.86192e+144 3.01266e+144 4.87458e+144 7.88724e+144 1.27618e+145 2.06491e+145 3.34109e+145 5.40599e+145 8.74708e+145 1.41531e+146 2.29002e+146 3.70532e+146 5.99534e+146 9.70066e+146 1.5696e+147 2.53967e+147 4.10927e+147 6.64893e+147 1.07582e+148 1.74071e+148 2.81653e+148 4.55725e+148 7.37378e+148 1.1931e+149 1.93048e+149 3.12358e+149 5.05406e+149 8.17765e+149 1.32317e+150 2.14094e+150 3.46411e+150 5.60504e+150 9.06915e+150 1.46742e+151 2.37433e+151 3.84175e+151 6.21609e+151 1.00578e+152 1.62739e+152 2.63318e+152 4.26057e+152 6.89375e+152 1.11543e+153 1.80481e+153 2.92024e+153 4.72504e+153 7.64528e+153 1.23703e+154 2.00156e+154 3.23859e+154 5.24015e+154 8.47875e+154 1.37189e+155 2.21976e+155 3.59166e+155 5.81142e+155 9.40308e+155 1.52145e+156 2.46176e+156 3.98321e+156 6.44496e+156 1.04282e+157 1.68731e+157 2.73013e+157 4.41744e+157 7.14757e+157 1.1565e+158 1.87126e+158 3.02776e+158 4.89902e+158 7.92678e+158 1.28258e+159 2.07526e+159 3.35784e+159 5.4331e+159 8.79094e+159 1.4224e+160 2.3015e+160 3.7239e+160 6.0254e+160 9.7493e+160 1.57747e+161 2.5524e+161 4.12987e+161 6.68227e+161 1.08121e+162 1.74944e+162 2.83065e+162 4.58009e+162 7.41075e+162 1.19908e+163 1.94016e+163 3.13924e+163 5.0794e+163 8.21865e+163 1.3298e+164 2.15167e+164 3.48147e+164 5.63314e+164 9.11462e+164 1.47478e+165 2.38624e+165 3.86101e+165 6.24725e+165 1.01083e+166 1.63555e+166 2.64638e+166 4.28193e+166 6.92831e+166 1.12102e+167 1.81385e+167 2.93488e+167 4.74873e+167 7.68361e+167 1.24323e+168 2.0116e+168 3.25483e+168 5.26643e+168 8.52126e+168 1.37877e+169 2.23089e+169 3.60966e+169 5.84056e+169 9.45022e+169 1.52908e+170 2.4741e+170 4.00318e+170 6.47728e+170 1.04805e+171 1.69577e+171 2.74382e+171 4.43959e+171 7.18341e+171 1.1623e+172 1.88064e+172 3.04294e+172 4.92358e+172 7.96652e+172 1.28901e+173 2.08566e+173 3.37467e+173 5.46034e+173 8.83501e+173 1.42953e+174 2.31304e+174 3.74257e+174 6.0556e+174 9.79817e+174 1.58538e+175 2.5652e+175 4.15057e+175 6.71577e+175 1.08663e+176 1.75821e+176 2.84485e+176 4.60306e+176 7.4479e+176 1.2051e+177 1.94989e+177 3.15498e+177 5.10487e+177 8.25985e+177 1.33647e+178 2.16246e+178 3.49893e+178 5.66139e+178 9.16031e+178 1.48217e+179 2.3982e+179 3.88037e+179 6.27857e+179 1.01589e+180 1.64375e+180 2.65965e+180 4.3034e+180 6.96304e+180 1.12664e+181 1.82295e+181 2.94959e+181 4.77254e+181 7.72213e+181 1.24947e+182 2.02168e+182 3.27115e+182 5.29283e+182 8.56398e+182 1.38568e+183 2.24208e+183 3.62776e+183 5.86984e+183 9.4976e+183 1.53674e+184 2.4865e+184 4.02325e+184 6.50975e+184 1.0533e+185 1.70427e+185 2.75757e+185 4.46185e+185 7.21942e+185 1.16813e+186 1.89007e+186 3.0582e+186 4.94827e+186 8.00646e+186 1.29547e+187 2.09612e+187 3.39159e+187 5.48771e+187 8.8793e+187 1.4367e+188 2.32463e+188 3.76133e+188 6.08596e+188 9.8473e+188 1.59333e+189 2.57806e+189 4.17138e+189 6.74944e+189 1.09208e+190 1.76703e+190 2.85911e+190 4.62613e+190 7.48524e+190 1.21114e+191 1.95966e+191 3.1708e+191 5.13046e+191 8.30126e+191 1.34317e+192 2.1733e+192 3.51647e+192 5.68977e+192 9.20624e+192 1.4896e+193 2.41022e+193 3.89983e+193 6.31005e+193 1.02099e+194 1.65199e+194 2.67298e+194 4.32497e+194 6.99795e+194 1.13229e+195 1.83209e+195 2.96438e+195 4.79647e+195 7.76085e+195 1.25573e+196 2.03182e+196 3.28755e+196 5.31936e+196 8.60691e+196 1.39263e+197 2.25332e+197 3.64595e+197 5.89927e+197 9.54521e+197 1.54445e+198 2.49897e+198 4.04342e+198 6.54239e+198 1.05858e+199 1.71282e+199 2.7714e+199 4.48422e+199 7.25562e+199 1.17398e+200 1.89955e+200 3.07353e+200 4.97307e+200 8.0466e+200 1.30197e+201 2.10663e+201 3.4086e+201 5.51522e+201 8.92382e+201 1.4439e+202 2.33629e+202 3.78019e+202 6.11648e+202 9.89667e+202 1.60131e+203 2.59098e+203 4.1923e+203 6.78328e+203 1.09756e+204 1.77588e+204 2.87344e+204 4.64933e+204 7.52277e+204 1.21721e+205 1.96949e+205 3.1867e+205 5.15618e+205 8.34288e+205 1.34991e+206 2.18419e+206 3.5341e+206 5.71829e+206 9.25239e+206 1.49707e+207 2.42231e+207 3.91938e+207 6.34169e+207 1.02611e+208 1.66027e+208 2.68638e+208 4.34666e+208 7.03304e+208 1.13797e+209 1.84127e+209 2.97924e+209 4.82052e+209 7.79976e+209 1.26203e+210 2.042e+210 3.30403e+210 5.34603e+210 8.65006e+210 1.39961e+211 2.26462e+211 3.66423e+211 5.92884e+211 9.59307e+211 1.55219e+212 2.5115e+212 4.06369e+212 6.57519e+212 1.06389e+213 1.72141e+213 2.78529e+213 4.5067e+213 7.29199e+213 1.17987e+214 1.90907e+214 3.08894e+214 4.99801e+214 8.08694e+214 1.3085e+215 2.11719e+215 3.42568e+215 5.54287e+215 8.96856e+215 1.45114e+216 2.348e+216 3.79914e+216 6.14714e+216 9.94628e+216 1.60934e+217 2.60397e+217 4.21331e+217 6.81728e+217 1.10306e+218 1.78479e+218 2.88785e+218 4.67264e+218 7.56048e+218 1.22331e+219 1.97936e+219 3.20267e+219 5.18203e+219 8.38471e+219 1.35667e+220 2.19514e+220 3.55182e+220 5.74696e+220 9.29878e+220 1.50457e+221 2.43445e+221 3.93903e+221 6.37348e+221 1.03125e+222 1.6686e+222 2.69985e+222 4.36845e+222 7.0683e+222 1.14367e+223 1.8505e+223 2.99418e+223 4.84468e+223 7.83886e+223 1.26835e+224 2.05224e+224 3.32059e+224 5.37284e+224 8.69343e+224 1.40663e+225 2.27597e+225 3.6826e+225 5.95857e+225 9.64116e+225 1.55997e+226 2.52409e+226 4.08406e+226 6.60815e+226 1.06922e+227 1.73004e+227 2.79926e+227 4.52929e+227 7.32855e+227 1.18578e+228 1.91864e+228 3.10442e+228 5.02306e+228 8.12749e+228 1.31506e+229 2.1278e+229 3.44286e+229 5.57066e+229 9.01352e+229 1.45842e+230 2.35977e+230 3.81819e+230 6.17796e+230 9.99615e+230 1.61741e+231 2.61703e+231 4.23444e+231 6.85146e+231 1.10859e+232 1.79374e+232 2.90233e+232 4.69606e+232 7.59839e+232 1.22945e+233 1.98928e+233 3.21873e+233 5.20801e+233 8.42674e+233 1.36348e+234 2.20615e+234 3.56963e+234 5.77578e+234 9.3454e+234 1.51212e+235 2.44666e+235 3.95878e+235 6.40543e+235 1.03642e+236 1.67696e+236 2.71338e+236 4.39035e+236 7.10373e+236 1.14941e+237 1.85978e+237 3.00919e+237 4.86897e+237 7.87816e+237 1.27471e+238 2.06253e+238 3.33724e+238 5.39977e+238 8.73702e+238 1.41368e+239 2.28738e+239 3.70106e+239 5.98844e+239 9.6895e+239 1.56779e+240 2.53674e+240 4.10454e+240 6.64128e+240 1.07458e+241 1.73871e+241 2.81329e+241 4.552e+241 7.36529e+241 1.19173e+242 1.92826e+242 3.11999e+242 5.04825e+242 8.16824e+242 1.32165e+243 2.13847e+243 3.46012e+243 5.59859e+243 9.05871e+243 1.46573e+244 2.3716e+244 3.83733e+244 6.20893e+244 1.00463e+245 1.62552e+245 2.63015e+245 4.25567e+245 6.88581e+245 1.11415e+246 1.80273e+246 2.91688e+246 4.71961e+246 7.63648e+246 1.23561e+247 1.99926e+247 3.23487e+247 5.23412e+247 8.46899e+247 1.37031e+248 2.21721e+248 3.58752e+248 5.80473e+248 9.39225e+248 1.5197e+249 2.45892e+249 3.97862e+249 6.43755e+249 1.04162e+250 1.68537e+250 2.72699e+250 4.41236e+250 7.13935e+250 1.15517e+251 1.86911e+251 3.02428e+251 4.89338e+251 7.91766e+251 1.2811e+252 2.07287e+252 3.35397e+252 5.42684e+252 8.78082e+252 1.42077e+253 2.29885e+253 3.71961e+253 6.01846e+253 9.73808e+253 1.57565e+254 2.54946e+254 4.12512e+254 6.67458e+254 1.07997e+255 1.74743e+255 2.8274e+255 4.57482e+255 7.40222e+255 1.1977e+256 1.93793e+256 3.13563e+256 5.07356e+256 8.20919e+256 1.32827e+257 2.14919e+257 3.47747e+257 5.62666e+257 9.10413e+257 1.47308e+258 2.38349e+258 3.85657e+258 6.24006e+258 1.00966e+259 1.63367e+259 2.64333e+259 4.277e+259 6.92033e+259 1.11973e+260 1.81177e+260 2.9315e+260 4.74327e+260 7.67477e+260 1.2418e+261 2.00928e+261 3.25108e+261 5.26036e+261 8.51145e+261 1.37718e+262 2.22833e+262 3.60551e+262 5.83383e+262 9.43934e+262 1.52732e+263 2.47125e+263 3.99857e+263 6.46982e+263 1.04684e+264 1.69382e+264 2.74066e+264 4.43448e+264 7.17514e+264 1.16096e+265 1.87848e+265 3.03944e+265 4.91792e+265 7.95735e+265 1.28753e+266 2.08326e+266 3.37079e+266 5.45405e+266 8.82484e+266 1.42789e+267 2.31037e+267 3.73826e+267 6.04864e+267 9.7869e+267 1.58355e+268 2.56224e+268 4.1458e+268 6.70804e+268 1.08538e+269 1.75619e+269 2.84157e+269 4.59776e+269 7.43933e+269 1.20371e+270 1.94764e+270 3.15135e+270 5.09899e+270 8.25034e+270 1.33493e+271 2.15997e+271 3.4949e+271 5.65487e+271 9.14977e+271 1.48046e+272 2.39544e+272 3.87591e+272 6.27135e+272 1.01473e+273 1.64186e+273 2.65659e+273 4.29844e+273 6.95503e+273 1.12535e+274 1.82085e+274 2.9462e+274 4.76705e+274 7.71325e+274 1.24803e+275 2.01935e+275 3.26738e+275 5.28674e+275 8.55412e+275 1.38409e+276 2.2395e+276 3.62358e+276 5.86308e+276 9.48667e+276 1.53497e+277 2.48364e+277 4.01862e+277 6.50226e+277 1.05209e+278 1.70231e+278 2.7544e+278 4.45671e+278 7.21111e+278 1.16678e+279 1.88789e+279 3.05468e+279 4.94257e+279 7.99725e+279 1.29398e+280 2.09371e+280 3.38769e+280 5.4814e+280 8.86908e+280 1.43505e+281 2.32196e+281 3.757e+281 6.07896e+281 9.83597e+281 1.59149e+282 2.57509e+282 4.16658e+282 6.74167e+282 1.09083e+283 1.76499e+283 2.85582e+283 4.62081e+283 7.47663e+283 1.20974e+284 1.95741e+284 3.16715e+284 5.12456e+284 8.29171e+284 1.34163e+285 2.1708e+285 3.51242e+285 5.68322e+285 9.19564e+285 1.48789e+286 2.40745e+286 3.89534e+286 6.30279e+286 1.01981e+287 1.65009e+287 2.6699e+287 4.32e+287 6.9899e+287 1.13099e+288 1.82998e+288 2.96097e+288 4.79095e+288 7.75192e+288 1.25429e+289 2.02948e+289 3.28376e+289 5.31324e+289 8.59701e+289 1.39103e+290 2.25073e+290 3.64175e+290 5.89248e+290 9.53423e+290 1.54267e+291 2.49609e+291 4.03876e+291 6.53486e+291 1.05736e+292 1.71085e+292 2.76821e+292 4.47906e+292 7.24727e+292 1.17263e+293 1.89736e+293 3.06999e+293 4.96735e+293 8.03734e+293 1.30047e+294 2.1042e+294 3.40467e+294 5.50888e+294 8.91355e+294 1.44224e+295 2.3336e+295 3.77584e+295 6.10944e+295 9.88528e+295 1.59947e+296 2.588e+296 4.18747e+296 6.77547e+296 1.09629e+297 1.77384e+297 2.87014e+297 4.64398e+297 7.51411e+297 1.21581e+298 1.96722e+298 3.18303e+298 5.15025e+298 8.33328e+298 1.34835e+299 2.18168e+299 3.53003e+299 5.71171e+299 9.24175e+299 1.49535e+300 2.41952e+300 3.91487e+300 6.33439e+300 1.02493e+301 1.65836e+301 2.68329e+301 4.34165e+301 7.02494e+301 1.13666e+302 1.83915e+302 2.97581e+302 4.81497e+302 7.79078e+302 1.26057e+303 2.03965e+303 3.30023e+303 5.33988e+303 8.64011e+303 1.398e+304 2.26201e+304 3.66001e+304 5.92202e+304 9.58203e+304 1.5504e+305 2.50861e+305 4.05901e+305 6.56762e+305 1.06266e+306 1.71943e+306 2.78209e+306 4.50151e+306 7.2836e+306 1.17851e+307 1.90687e+307 3.08538e+307 4.99225e+307 8.07764e+307 1.30699e+308 inf inf inf inf inf inf inf inf inf inf inf inf inf inf inf inf inf inf inf inf inf inf inf inf inf "
     ]
    }
   ],
   "source": [
    "%%bash\n",
    "\n",
    "g++-14 -std=c++26 -Wall -Wextra -Wpedantic fib.cpp -o fi\n",
    "./fi"
   ]
  },
  {
   "cell_type": "markdown",
   "id": "53f1d35d",
   "metadata": {
    "vscode": {
     "languageId": "cpp"
    }
   },
   "source": [
    "Let's check if python reports similar numbers,"
   ]
  },
  {
   "cell_type": "code",
   "execution_count": 34,
   "id": "8b64901b",
   "metadata": {
    "vscode": {
     "languageId": "cpp"
    }
   },
   "outputs": [
    {
     "name": "stdout",
     "output_type": "stream",
     "text": [
      "3.0853830266784576e+307 4.992254605477768e+307 8.077637632156225e+307 1.3069892237633993e+308 inf inf inf inf inf inf inf inf inf inf inf inf inf inf inf inf inf inf inf inf inf inf inf inf inf "
     ]
    }
   ],
   "source": [
    "a = b = c = 1\n",
    "for n in range(1500):\n",
    "    c = a + b;\n",
    "    a = b;\n",
    "    b = c;\n",
    "    if n > 1470: print(float(a), end=' ')"
   ]
  },
  {
   "cell_type": "markdown",
   "id": "d74a0ec7",
   "metadata": {
    "vscode": {
     "languageId": "cpp"
    }
   },
   "source": [
    "There is another thing called **underflow**,\n",
    "meaning that the number is too close to $0$ it can't be remembered properly."
   ]
  },
  {
   "cell_type": "markdown",
   "id": "42830ed7",
   "metadata": {
    "vscode": {
     "languageId": "cpp"
    }
   },
   "source": [
    "## ODE"
   ]
  },
  {
   "cell_type": "markdown",
   "id": "ff97af03",
   "metadata": {
    "vscode": {
     "languageId": "cpp"
    }
   },
   "source": [
    "Let's try to solve the initial value problem\n",
    "$$f''(t) = -f(t)$$\n",
    "$$f(0) = 0$$\n",
    "$$f'(0) = 1$$\n",
    "\n",
    "We know the answer is $f(t) = \\sin(t)$\n",
    "but the computer does not, so we teach it.\n",
    "\n",
    "Note that $f(t + dt) \\approx f(t) + f'(t)dt$\n",
    "and that $f'(t + dt) \\approx f'(t) + f''(t)dt = f'(t) -f(t)dt$"
   ]
  },
  {
   "cell_type": "code",
   "execution_count": 35,
   "id": "6497b65c",
   "metadata": {
    "vscode": {
     "languageId": "cpp"
    }
   },
   "outputs": [
    {
     "name": "stdout",
     "output_type": "stream",
     "text": [
      "Overwriting ode.cpp\n"
     ]
    }
   ],
   "source": [
    "%%writefile ode.cpp\n",
    "\n",
    "#include <iostream>\n",
    "using namespace std;\n",
    "\n",
    "int main() {\n",
    "    float f = 0;\n",
    "    float dfdt = 1;\n",
    "    float dt = 1e-3;\n",
    "    for (float t = 0; t < 10; t += dt) {\n",
    "        float ddfddt = -f;\n",
    "        dfdt += ddfddt * dt;\n",
    "        f += dfdt * dt;\n",
    "    }\n",
    "    cout << \"At t = 10\" << endl;\n",
    "    cout << \"f(t) = \" << f << endl;\n",
    "    cout << \"f'(t) = \" << dfdt << endl;\n",
    "    return 0;\n",
    "}"
   ]
  },
  {
   "cell_type": "code",
   "execution_count": 36,
   "id": "ec400d52",
   "metadata": {
    "vscode": {
     "languageId": "cpp"
    }
   },
   "outputs": [
    {
     "name": "stdout",
     "output_type": "stream",
     "text": [
      "At t = 10\n",
      "f(t) = -0.544023\n",
      "f'(t) = -0.839342\n"
     ]
    }
   ],
   "source": [
    "%%bash\n",
    "\n",
    "g++-14 -std=c++26 -Wall -Wextra -Wpedantic ode.cpp -o od\n",
    "./od"
   ]
  },
  {
   "cell_type": "code",
   "execution_count": 37,
   "id": "e473917b",
   "metadata": {
    "vscode": {
     "languageId": "cpp"
    }
   },
   "outputs": [
    {
     "data": {
      "text/plain": [
       "(-0.5440211108893698, -0.8390715290764524)"
      ]
     },
     "execution_count": 37,
     "metadata": {},
     "output_type": "execute_result"
    }
   ],
   "source": [
    "# Now double check the answer\n",
    "float(sin(10)), float(cos(10))"
   ]
  },
  {
   "cell_type": "markdown",
   "id": "320264f4",
   "metadata": {
    "vscode": {
     "languageId": "cpp"
    }
   },
   "source": [
    "## ODE and animation"
   ]
  },
  {
   "cell_type": "markdown",
   "id": "51ca3e65",
   "metadata": {},
   "source": [
    "We can visualize the ODE by command line animation.\n",
    "Here is how"
   ]
  },
  {
   "cell_type": "code",
   "execution_count": 38,
   "id": "9c852500",
   "metadata": {
    "vscode": {
     "languageId": "cpp"
    }
   },
   "outputs": [
    {
     "name": "stdout",
     "output_type": "stream",
     "text": [
      "Overwriting animate.cpp\n"
     ]
    }
   ],
   "source": [
    "%%writefile animate.cpp\n",
    "\n",
    "#include <iostream>\n",
    "#include <unistd.h>\n",
    "using namespace std;\n",
    "\n",
    "int main() {\n",
    "    float f = 0;\n",
    "    float df = 1;\n",
    "    float dt = 1e-1;\n",
    "    for (float t = 0; t < 10; t += dt) {\n",
    "        float ddf = -f;\n",
    "        df += ddf * dt;\n",
    "        f += df * dt;\n",
    "\n",
    "        // Now we start printing\n",
    "        for (int x = -80; x <= 80; x++) {\n",
    "            char c = ' ';\n",
    "            int F = f * 50;\n",
    "            if (x == 0) c = '|';\n",
    "            if (x == F) c = '@';\n",
    "            if (0 < x && x < F) c = '~';\n",
    "            if (F < x && x < 0) c = '~';\n",
    "            cout << c;\n",
    "        }\n",
    "        cout << endl;\n",
    "        for (int x = -80; x <= 80; x++) {\n",
    "            char c = ' ';\n",
    "            int F = f * 50;\n",
    "            int dF = df * 20;\n",
    "            if (0 < x - F && x - F < dF) c = '>';\n",
    "            if (dF < x - F && x - F < 0) c = '<';\n",
    "            cout << c;\n",
    "        }\n",
    "        cout << endl;\n",
    "        usleep(100000);\n",
    "    }\n",
    "    return 0;\n",
    "}"
   ]
  },
  {
   "cell_type": "code",
   "execution_count": 39,
   "id": "446139b3",
   "metadata": {
    "vscode": {
     "languageId": "cpp"
    }
   },
   "outputs": [
    {
     "name": "stdout",
     "output_type": "stream",
     "text": [
      "                                                                                |~~~~@                                                                           \n",
      "                                                                                      >>>>>>>>>>>>>>>>>>>                                                        \n",
      "                                                                                |~~~~~~~~@                                                                       \n",
      "                                                                                          >>>>>>>>>>>>>>>>>>                                                     \n",
      "                                                                                |~~~~~~~~~~~~~@                                                                  \n",
      "                                                                                               >>>>>>>>>>>>>>>>>>                                                \n",
      "                                                                                |~~~~~~~~~~~~~~~~~~@                                                             \n",
      "                                                                                                    >>>>>>>>>>>>>>>>>                                            \n",
      "                                                                                |~~~~~~~~~~~~~~~~~~~~~~~@                                                        \n",
      "                                                                                                         >>>>>>>>>>>>>>>>>                                       \n",
      "                                                                                |~~~~~~~~~~~~~~~~~~~~~~~~~~~@                                                    \n",
      "                                                                                                             >>>>>>>>>>>>>>>>                                    \n",
      "                                                                                |~~~~~~~~~~~~~~~~~~~~~~~~~~~~~~~@                                                \n",
      "                                                                                                                 >>>>>>>>>>>>>>                                  \n",
      "                                                                                |~~~~~~~~~~~~~~~~~~~~~~~~~~~~~~~~~~@                                             \n",
      "                                                                                                                    >>>>>>>>>>>>>                                \n",
      "                                                                                |~~~~~~~~~~~~~~~~~~~~~~~~~~~~~~~~~~~~~~@                                         \n",
      "                                                                                                                        >>>>>>>>>>>>                             \n",
      "                                                                                |~~~~~~~~~~~~~~~~~~~~~~~~~~~~~~~~~~~~~~~~~@                                      \n",
      "                                                                                                                           >>>>>>>>>>                            \n",
      "                                                                                |~~~~~~~~~~~~~~~~~~~~~~~~~~~~~~~~~~~~~~~~~~~@                                    \n",
      "                                                                                                                             >>>>>>>>                            \n",
      "                                                                                |~~~~~~~~~~~~~~~~~~~~~~~~~~~~~~~~~~~~~~~~~~~~~@                                  \n",
      "                                                                                                                               >>>>>>>                           \n",
      "                                                                                |~~~~~~~~~~~~~~~~~~~~~~~~~~~~~~~~~~~~~~~~~~~~~~~@                                \n",
      "                                                                                                                                 >>>>>                           \n",
      "                                                                                |~~~~~~~~~~~~~~~~~~~~~~~~~~~~~~~~~~~~~~~~~~~~~~~~@                               \n",
      "                                                                                                                                  >>>                            \n",
      "                                                                                |~~~~~~~~~~~~~~~~~~~~~~~~~~~~~~~~~~~~~~~~~~~~~~~~@                               \n",
      "                                                                                                                                  >                              \n",
      "                                                                                |~~~~~~~~~~~~~~~~~~~~~~~~~~~~~~~~~~~~~~~~~~~~~~~~~@                              \n",
      "                                                                                                                                                                 \n",
      "                                                                                |~~~~~~~~~~~~~~~~~~~~~~~~~~~~~~~~~~~~~~~~~~~~~~~~@                               \n",
      "                                                                                                                                                                 \n",
      "                                                                                |~~~~~~~~~~~~~~~~~~~~~~~~~~~~~~~~~~~~~~~~~~~~~~~@                                \n",
      "                                                                                                                              <<                                 \n",
      "                                                                                |~~~~~~~~~~~~~~~~~~~~~~~~~~~~~~~~~~~~~~~~~~~~~~@                                 \n",
      "                                                                                                                           <<<<                                  \n",
      "                                                                                |~~~~~~~~~~~~~~~~~~~~~~~~~~~~~~~~~~~~~~~~~~~~@                                   \n",
      "                                                                                                                       <<<<<<                                    \n",
      "                                                                                |~~~~~~~~~~~~~~~~~~~~~~~~~~~~~~~~~~~~~~~~~~@                                     \n",
      "                                                                                                                   <<<<<<<<                                      \n",
      "                                                                                |~~~~~~~~~~~~~~~~~~~~~~~~~~~~~~~~~~~~~~~@                                        \n",
      "                                                                                                               <<<<<<<<<                                         \n",
      "                                                                                |~~~~~~~~~~~~~~~~~~~~~~~~~~~~~~~~~~~~@                                           \n",
      "                                                                                                          <<<<<<<<<<<                                            \n",
      "                                                                                |~~~~~~~~~~~~~~~~~~~~~~~~~~~~~~~~@                                               \n",
      "                                                                                                    <<<<<<<<<<<<<                                                \n",
      "                                                                                |~~~~~~~~~~~~~~~~~~~~~~~~~~~~@                                                   \n",
      "                                                                                               <<<<<<<<<<<<<<                                                    \n",
      "                                                                                |~~~~~~~~~~~~~~~~~~~~~~~~@                                                       \n",
      "                                                                                          <<<<<<<<<<<<<<<                                                        \n",
      "                                                                                |~~~~~~~~~~~~~~~~~~~~@                                                           \n",
      "                                                                                     <<<<<<<<<<<<<<<<                                                            \n",
      "                                                                                |~~~~~~~~~~~~~~~@                                                                \n",
      "                                                                               <<<<<<<<<<<<<<<<<                                                                 \n",
      "                                                                                |~~~~~~~~~~@                                                                     \n",
      "                                                                         <<<<<<<<<<<<<<<<<<                                                                      \n",
      "                                                                                |~~~~~~@                                                                         \n",
      "                                                                     <<<<<<<<<<<<<<<<<<                                                                          \n",
      "                                                                                |~@                                                                              \n",
      "                                                                <<<<<<<<<<<<<<<<<<                                                                               \n",
      "                                                                              @~|                                                                                \n",
      "                                                           <<<<<<<<<<<<<<<<<<<                                                                                   \n",
      "                                                                         @~~~~~~|                                                                                \n",
      "                                                       <<<<<<<<<<<<<<<<<<                                                                                        \n",
      "                                                                    @~~~~~~~~~~~|                                                                                \n",
      "                                                  <<<<<<<<<<<<<<<<<<                                                                                             \n",
      "                                                               @~~~~~~~~~~~~~~~~|                                                                                \n",
      "                                             <<<<<<<<<<<<<<<<<<                                                                                                  \n",
      "                                                          @~~~~~~~~~~~~~~~~~~~~~|                                                                                \n",
      "                                         <<<<<<<<<<<<<<<<<                                                                                                       \n",
      "                                                      @~~~~~~~~~~~~~~~~~~~~~~~~~|                                                                                \n",
      "                                      <<<<<<<<<<<<<<<<                                                                                                           \n",
      "                                                  @~~~~~~~~~~~~~~~~~~~~~~~~~~~~~|                                                                                \n",
      "                                   <<<<<<<<<<<<<<<                                                                                                               \n",
      "                                              @~~~~~~~~~~~~~~~~~~~~~~~~~~~~~~~~~|                                                                                \n",
      "                                <<<<<<<<<<<<<<                                                                                                                   \n",
      "                                           @~~~~~~~~~~~~~~~~~~~~~~~~~~~~~~~~~~~~|                                                                                \n",
      "                               <<<<<<<<<<<<                                                                                                                      \n",
      "                                       @~~~~~~~~~~~~~~~~~~~~~~~~~~~~~~~~~~~~~~~~|                                                                                \n",
      "                            <<<<<<<<<<<                                                                                                                          \n",
      "                                     @~~~~~~~~~~~~~~~~~~~~~~~~~~~~~~~~~~~~~~~~~~|                                                                                \n",
      "                            <<<<<<<<<                                                                                                                            \n",
      "                                   @~~~~~~~~~~~~~~~~~~~~~~~~~~~~~~~~~~~~~~~~~~~~|                                                                                \n",
      "                            <<<<<<<                                                                                                                              \n",
      "                                 @~~~~~~~~~~~~~~~~~~~~~~~~~~~~~~~~~~~~~~~~~~~~~~|                                                                                \n",
      "                           <<<<<<                                                                                                                                \n",
      "                                @~~~~~~~~~~~~~~~~~~~~~~~~~~~~~~~~~~~~~~~~~~~~~~~|                                                                                \n",
      "                            <<<<                                                                                                                                 \n",
      "                               @~~~~~~~~~~~~~~~~~~~~~~~~~~~~~~~~~~~~~~~~~~~~~~~~|                                                                                \n",
      "                             <<                                                                                                                                  \n",
      "                              @~~~~~~~~~~~~~~~~~~~~~~~~~~~~~~~~~~~~~~~~~~~~~~~~~|                                                                                \n",
      "                                                                                                                                                                 \n",
      "                               @~~~~~~~~~~~~~~~~~~~~~~~~~~~~~~~~~~~~~~~~~~~~~~~~|                                                                                \n",
      "                                                                                                                                                                 \n",
      "                               @~~~~~~~~~~~~~~~~~~~~~~~~~~~~~~~~~~~~~~~~~~~~~~~~|                                                                                \n",
      "                                >                                                                                                                                \n",
      "                                 @~~~~~~~~~~~~~~~~~~~~~~~~~~~~~~~~~~~~~~~~~~~~~~|                                                                                \n",
      "                                  >>>                                                                                                                            \n",
      "                                  @~~~~~~~~~~~~~~~~~~~~~~~~~~~~~~~~~~~~~~~~~~~~~|                                                                                \n",
      "                                   >>>>>                                                                                                                         \n",
      "                                    @~~~~~~~~~~~~~~~~~~~~~~~~~~~~~~~~~~~~~~~~~~~|                                                                                \n",
      "                                     >>>>>>>                                                                                                                     \n",
      "                                       @~~~~~~~~~~~~~~~~~~~~~~~~~~~~~~~~~~~~~~~~|                                                                                \n",
      "                                        >>>>>>>>>                                                                                                                \n",
      "                                          @~~~~~~~~~~~~~~~~~~~~~~~~~~~~~~~~~~~~~|                                                                                \n",
      "                                           >>>>>>>>>>                                                                                                            \n",
      "                                             @~~~~~~~~~~~~~~~~~~~~~~~~~~~~~~~~~~|                                                                                \n",
      "                                              >>>>>>>>>>>>                                                                                                       \n",
      "                                                 @~~~~~~~~~~~~~~~~~~~~~~~~~~~~~~|                                                                                \n",
      "                                                  >>>>>>>>>>>>>                                                                                                  \n",
      "                                                     @~~~~~~~~~~~~~~~~~~~~~~~~~~|                                                                                \n",
      "                                                      >>>>>>>>>>>>>>>                                                                                            \n",
      "                                                         @~~~~~~~~~~~~~~~~~~~~~~|                                                                                \n",
      "                                                          >>>>>>>>>>>>>>>>                                                                                       \n",
      "                                                              @~~~~~~~~~~~~~~~~~|                                                                                \n",
      "                                                               >>>>>>>>>>>>>>>>>                                                                                 \n",
      "                                                                   @~~~~~~~~~~~~|                                                                                \n",
      "                                                                    >>>>>>>>>>>>>>>>>                                                                            \n",
      "                                                                        @~~~~~~~|                                                                                \n",
      "                                                                         >>>>>>>>>>>>>>>>>>                                                                      \n",
      "                                                                            @~~~|                                                                                \n",
      "                                                                             >>>>>>>>>>>>>>>>>>                                                                  \n",
      "                                                                                @                                                                                \n",
      "                                                                                 >>>>>>>>>>>>>>>>>>>                                                             \n",
      "                                                                                |~~~~@                                                                           \n",
      "                                                                                      >>>>>>>>>>>>>>>>>>                                                         \n",
      "                                                                                |~~~~~~~~~@                                                                      \n",
      "                                                                                           >>>>>>>>>>>>>>>>>>                                                    \n",
      "                                                                                |~~~~~~~~~~~~~~@                                                                 \n",
      "                                                                                                >>>>>>>>>>>>>>>>>>                                               \n",
      "                                                                                |~~~~~~~~~~~~~~~~~~~@                                                            \n",
      "                                                                                                     >>>>>>>>>>>>>>>>>                                           \n",
      "                                                                                |~~~~~~~~~~~~~~~~~~~~~~~@                                                        \n",
      "                                                                                                         >>>>>>>>>>>>>>>>                                        \n",
      "                                                                                |~~~~~~~~~~~~~~~~~~~~~~~~~~~~@                                                   \n",
      "                                                                                                              >>>>>>>>>>>>>>>                                    \n",
      "                                                                                |~~~~~~~~~~~~~~~~~~~~~~~~~~~~~~~~@                                               \n",
      "                                                                                                                  >>>>>>>>>>>>>>                                 \n",
      "                                                                                |~~~~~~~~~~~~~~~~~~~~~~~~~~~~~~~~~~~@                                            \n",
      "                                                                                                                     >>>>>>>>>>>>>                               \n",
      "                                                                                |~~~~~~~~~~~~~~~~~~~~~~~~~~~~~~~~~~~~~~@                                         \n",
      "                                                                                                                        >>>>>>>>>>>                              \n",
      "                                                                                |~~~~~~~~~~~~~~~~~~~~~~~~~~~~~~~~~~~~~~~~~@                                      \n",
      "                                                                                                                           >>>>>>>>>>                            \n",
      "                                                                                |~~~~~~~~~~~~~~~~~~~~~~~~~~~~~~~~~~~~~~~~~~~~@                                   \n",
      "                                                                                                                              >>>>>>>>                           \n",
      "                                                                                |~~~~~~~~~~~~~~~~~~~~~~~~~~~~~~~~~~~~~~~~~~~~~~@                                 \n",
      "                                                                                                                                >>>>>>                           \n",
      "                                                                                |~~~~~~~~~~~~~~~~~~~~~~~~~~~~~~~~~~~~~~~~~~~~~~~@                                \n",
      "                                                                                                                                 >>>>                            \n",
      "                                                                                |~~~~~~~~~~~~~~~~~~~~~~~~~~~~~~~~~~~~~~~~~~~~~~~~@                               \n",
      "                                                                                                                                  >>                             \n",
      "                                                                                |~~~~~~~~~~~~~~~~~~~~~~~~~~~~~~~~~~~~~~~~~~~~~~~~@                               \n",
      "                                                                                                                                  >                              \n",
      "                                                                                |~~~~~~~~~~~~~~~~~~~~~~~~~~~~~~~~~~~~~~~~~~~~~~~~~@                              \n",
      "                                                                                                                                                                 \n",
      "                                                                                |~~~~~~~~~~~~~~~~~~~~~~~~~~~~~~~~~~~~~~~~~~~~~~~~@                               \n",
      "                                                                                                                                                                 \n",
      "                                                                                |~~~~~~~~~~~~~~~~~~~~~~~~~~~~~~~~~~~~~~~~~~~~~~~@                                \n",
      "                                                                                                                              <<                                 \n",
      "                                                                                |~~~~~~~~~~~~~~~~~~~~~~~~~~~~~~~~~~~~~~~~~~~~~~@                                 \n",
      "                                                                                                                           <<<<                                  \n",
      "                                                                                |~~~~~~~~~~~~~~~~~~~~~~~~~~~~~~~~~~~~~~~~~~~~@                                   \n",
      "                                                                                                                       <<<<<<                                    \n",
      "                                                                                |~~~~~~~~~~~~~~~~~~~~~~~~~~~~~~~~~~~~~~~~~@                                      \n",
      "                                                                                                                  <<<<<<<<                                       \n",
      "                                                                                |~~~~~~~~~~~~~~~~~~~~~~~~~~~~~~~~~~~~~~@                                         \n",
      "                                                                                                             <<<<<<<<<<                                          \n",
      "                                                                                |~~~~~~~~~~~~~~~~~~~~~~~~~~~~~~~~~~~@                                            \n",
      "                                                                                                         <<<<<<<<<<<                                             \n",
      "                                                                                |~~~~~~~~~~~~~~~~~~~~~~~~~~~~~~~~@                                               \n",
      "                                                                                                    <<<<<<<<<<<<<                                                \n",
      "                                                                                |~~~~~~~~~~~~~~~~~~~~~~~~~~~~@                                                   \n",
      "                                                                                               <<<<<<<<<<<<<<                                                    \n",
      "                                                                                |~~~~~~~~~~~~~~~~~~~~~~~@                                                        \n",
      "                                                                                         <<<<<<<<<<<<<<<                                                         \n",
      "                                                                                |~~~~~~~~~~~~~~~~~~~@                                                            \n",
      "                                                                                    <<<<<<<<<<<<<<<<                                                             \n",
      "                                                                                |~~~~~~~~~~~~~~@                                                                 \n",
      "                                                                              <<<<<<<<<<<<<<<<<                                                                  \n",
      "                                                                                |~~~~~~~~~@                                                                      \n",
      "                                                                        <<<<<<<<<<<<<<<<<<                                                                       \n",
      "                                                                                |~~~~~@                                                                          \n",
      "                                                                    <<<<<<<<<<<<<<<<<<                                                                           \n",
      "                                                                                |@                                                                               \n",
      "                                                               <<<<<<<<<<<<<<<<<<                                                                                \n",
      "                                                                             @~~|                                                                                \n",
      "                                                          <<<<<<<<<<<<<<<<<<<                                                                                    \n",
      "                                                                        @~~~~~~~|                                                                                \n",
      "                                                      <<<<<<<<<<<<<<<<<<                                                                                         \n",
      "                                                                   @~~~~~~~~~~~~|                                                                                \n",
      "                                                 <<<<<<<<<<<<<<<<<<                                                                                              \n",
      "                                                              @~~~~~~~~~~~~~~~~~|                                                                                \n",
      "                                             <<<<<<<<<<<<<<<<<                                                                                                   \n",
      "                                                         @~~~~~~~~~~~~~~~~~~~~~~|                                                                                \n",
      "                                        <<<<<<<<<<<<<<<<<                                                                                                        \n",
      "                                                     @~~~~~~~~~~~~~~~~~~~~~~~~~~|                                                                                \n",
      "                                     <<<<<<<<<<<<<<<<                                                                                                            \n"
     ]
    }
   ],
   "source": [
    "%%bash\n",
    "\n",
    "g++-14 -std=c++26 -Wall -Wextra -Wpedantic animate.cpp -o an\n",
    "./an"
   ]
  },
  {
   "cell_type": "markdown",
   "id": "ad60571f",
   "metadata": {
    "vscode": {
     "languageId": "cpp"
    }
   },
   "source": [
    "## More on floating-point numbers"
   ]
  },
  {
   "cell_type": "markdown",
   "id": "3ed2b898",
   "metadata": {},
   "source": [
    "So far we have seen positive evidence\n",
    "that `float` and `double` are good for engineering.\n",
    "But we always have to be careful."
   ]
  },
  {
   "cell_type": "code",
   "execution_count": 40,
   "id": "22cecb31",
   "metadata": {
    "vscode": {
     "languageId": "cpp"
    }
   },
   "outputs": [
    {
     "name": "stdout",
     "output_type": "stream",
     "text": [
      "Overwriting float.cpp\n"
     ]
    }
   ],
   "source": [
    "%%writefile float.cpp\n",
    "\n",
    "#include <iostream>\n",
    "using namespace std;\n",
    "\n",
    "int main() {\n",
    "    float x = 0;\n",
    "    float a = 1/1000000.;\n",
    "    for (int i = 0; i < 1000000; i++) {\n",
    "        x += a; // This is the same as x = x + a;\n",
    "    }\n",
    "    cout << x << endl;\n",
    "    return 0;\n",
    "}"
   ]
  },
  {
   "cell_type": "code",
   "execution_count": 41,
   "id": "9410d108",
   "metadata": {
    "vscode": {
     "languageId": "cpp"
    }
   },
   "outputs": [
    {
     "name": "stdout",
     "output_type": "stream",
     "text": [
      "1.00904\n"
     ]
    }
   ],
   "source": [
    "%%bash\n",
    "\n",
    "g++-14 -std=c++26 -Wall -Wextra -Wpedantic float.cpp -o fl\n",
    "./fl"
   ]
  },
  {
   "cell_type": "markdown",
   "id": "8e31119c",
   "metadata": {
    "vscode": {
     "languageId": "cpp"
    }
   },
   "source": [
    "You can see that there is a 1% error\n",
    "when we compute $10^{-6} \\cdot 10^6$ using addition.\n",
    "The reason is that `float a = 1/1000000.;` doesn't make `a` exactly $10^{-6}$.\n",
    "In fact, `a` is a fraction $p / 2^k$ that is very close to $10^{-6}$.\n",
    "It's analogous to $1/10 \\approx 102/1024$\n",
    "but of course `float` has a higher precision.\n",
    "But eventually something like $10 \\cdot 102/1024 = 1020/1024$ happens\n",
    "so `x` is only close to, but not exactly equal to, $1$.\n",
    "\n",
    "We know that `double` has a higher precision, so we try with `double`."
   ]
  },
  {
   "cell_type": "code",
   "execution_count": 42,
   "id": "731c8248",
   "metadata": {
    "vscode": {
     "languageId": "cpp"
    }
   },
   "outputs": [
    {
     "name": "stdout",
     "output_type": "stream",
     "text": [
      "Writing double.cpp\n"
     ]
    }
   ],
   "source": [
    "%%writefile double.cpp\n",
    "\n",
    "#include <iostream>\n",
    "using namespace std;\n",
    "\n",
    "int main() {\n",
    "    double x = 0;\n",
    "    double a = 1/1000000.;\n",
    "    for (int i = 0; i < 1000000; i++) {\n",
    "        x += a; // This is the same as x = x + a;\n",
    "    }\n",
    "    cout << x << endl;\n",
    "    return 0;\n",
    "}"
   ]
  },
  {
   "cell_type": "code",
   "execution_count": 43,
   "id": "70d8ee1b",
   "metadata": {
    "vscode": {
     "languageId": "cpp"
    }
   },
   "outputs": [
    {
     "name": "stdout",
     "output_type": "stream",
     "text": [
      "1\n"
     ]
    }
   ],
   "source": [
    "%%bash\n",
    "\n",
    "g++-14 -std=c++26 -Wall -Wextra -Wpedantic double.cpp -o do\n",
    "./do"
   ]
  },
  {
   "cell_type": "markdown",
   "id": "069ea1da",
   "metadata": {
    "vscode": {
     "languageId": "cpp"
    }
   },
   "source": [
    "It's doesn't mean that `double` is flawless.\n",
    "It's just that the relative error to small `cout` ignores it.\n",
    "If you do `cout << x - 1 << endl` you will see `7.91811e-12`."
   ]
  },
  {
   "cell_type": "markdown",
   "id": "caf49cce",
   "metadata": {
    "vscode": {
     "languageId": "cpp"
    }
   },
   "source": [
    "## Gray codes"
   ]
  },
  {
   "cell_type": "markdown",
   "id": "5bc093ad",
   "metadata": {
    "vscode": {
     "languageId": "cpp"
    }
   },
   "source": [
    "Here is how to look into the digits of integers"
   ]
  },
  {
   "cell_type": "code",
   "execution_count": 44,
   "id": "acbfd7c9",
   "metadata": {
    "vscode": {
     "languageId": "cpp"
    }
   },
   "outputs": [
    {
     "name": "stdout",
     "output_type": "stream",
     "text": [
      "Overwriting bits.cpp\n"
     ]
    }
   ],
   "source": [
    "%%writefile bits.cpp\n",
    "\n",
    "#include <iostream>\n",
    "using namespace std;\n",
    "\n",
    "int main() {\n",
    "    for (int n = 0; n < 100; n++) {\n",
    "        for (int d = 31; d >=0; d--) {\n",
    "            cout << ((n >> d) & 1);\n",
    "        }\n",
    "        cout << endl;\n",
    "    }\n",
    "}"
   ]
  },
  {
   "cell_type": "code",
   "execution_count": 45,
   "id": "dd5222f7",
   "metadata": {
    "vscode": {
     "languageId": "cpp"
    }
   },
   "outputs": [
    {
     "name": "stdout",
     "output_type": "stream",
     "text": [
      "00000000000000000000000000000000\n",
      "00000000000000000000000000000001\n",
      "00000000000000000000000000000010\n",
      "00000000000000000000000000000011\n",
      "00000000000000000000000000000100\n",
      "00000000000000000000000000000101\n",
      "00000000000000000000000000000110\n",
      "00000000000000000000000000000111\n",
      "00000000000000000000000000001000\n",
      "00000000000000000000000000001001\n",
      "00000000000000000000000000001010\n",
      "00000000000000000000000000001011\n",
      "00000000000000000000000000001100\n",
      "00000000000000000000000000001101\n",
      "00000000000000000000000000001110\n",
      "00000000000000000000000000001111\n",
      "00000000000000000000000000010000\n",
      "00000000000000000000000000010001\n",
      "00000000000000000000000000010010\n",
      "00000000000000000000000000010011\n",
      "00000000000000000000000000010100\n",
      "00000000000000000000000000010101\n",
      "00000000000000000000000000010110\n",
      "00000000000000000000000000010111\n",
      "00000000000000000000000000011000\n",
      "00000000000000000000000000011001\n",
      "00000000000000000000000000011010\n",
      "00000000000000000000000000011011\n",
      "00000000000000000000000000011100\n",
      "00000000000000000000000000011101\n",
      "00000000000000000000000000011110\n",
      "00000000000000000000000000011111\n",
      "00000000000000000000000000100000\n",
      "00000000000000000000000000100001\n",
      "00000000000000000000000000100010\n",
      "00000000000000000000000000100011\n",
      "00000000000000000000000000100100\n",
      "00000000000000000000000000100101\n",
      "00000000000000000000000000100110\n",
      "00000000000000000000000000100111\n",
      "00000000000000000000000000101000\n",
      "00000000000000000000000000101001\n",
      "00000000000000000000000000101010\n",
      "00000000000000000000000000101011\n",
      "00000000000000000000000000101100\n",
      "00000000000000000000000000101101\n",
      "00000000000000000000000000101110\n",
      "00000000000000000000000000101111\n",
      "00000000000000000000000000110000\n",
      "00000000000000000000000000110001\n",
      "00000000000000000000000000110010\n",
      "00000000000000000000000000110011\n",
      "00000000000000000000000000110100\n",
      "00000000000000000000000000110101\n",
      "00000000000000000000000000110110\n",
      "00000000000000000000000000110111\n",
      "00000000000000000000000000111000\n",
      "00000000000000000000000000111001\n",
      "00000000000000000000000000111010\n",
      "00000000000000000000000000111011\n",
      "00000000000000000000000000111100\n",
      "00000000000000000000000000111101\n",
      "00000000000000000000000000111110\n",
      "00000000000000000000000000111111\n",
      "00000000000000000000000001000000\n",
      "00000000000000000000000001000001\n",
      "00000000000000000000000001000010\n",
      "00000000000000000000000001000011\n",
      "00000000000000000000000001000100\n",
      "00000000000000000000000001000101\n",
      "00000000000000000000000001000110\n",
      "00000000000000000000000001000111\n",
      "00000000000000000000000001001000\n",
      "00000000000000000000000001001001\n",
      "00000000000000000000000001001010\n",
      "00000000000000000000000001001011\n",
      "00000000000000000000000001001100\n",
      "00000000000000000000000001001101\n",
      "00000000000000000000000001001110\n",
      "00000000000000000000000001001111\n",
      "00000000000000000000000001010000\n",
      "00000000000000000000000001010001\n",
      "00000000000000000000000001010010\n",
      "00000000000000000000000001010011\n",
      "00000000000000000000000001010100\n",
      "00000000000000000000000001010101\n",
      "00000000000000000000000001010110\n",
      "00000000000000000000000001010111\n",
      "00000000000000000000000001011000\n",
      "00000000000000000000000001011001\n",
      "00000000000000000000000001011010\n",
      "00000000000000000000000001011011\n",
      "00000000000000000000000001011100\n",
      "00000000000000000000000001011101\n",
      "00000000000000000000000001011110\n",
      "00000000000000000000000001011111\n",
      "00000000000000000000000001100000\n",
      "00000000000000000000000001100001\n",
      "00000000000000000000000001100010\n",
      "00000000000000000000000001100011\n"
     ]
    }
   ],
   "source": [
    "%%bash\n",
    "\n",
    "g++-14 -std=c++26 -Wall -Wextra -Wpedantic bits.cpp -o bi\n",
    "./bi"
   ]
  },
  {
   "cell_type": "markdown",
   "id": "2b11d48e",
   "metadata": {},
   "source": [
    "Gray code is a way to reorder these integers\n",
    "so that the next integer and the previous differ by one bit."
   ]
  },
  {
   "cell_type": "code",
   "execution_count": 46,
   "id": "14bdebaf",
   "metadata": {
    "vscode": {
     "languageId": "cpp"
    }
   },
   "outputs": [
    {
     "name": "stdout",
     "output_type": "stream",
     "text": [
      "Overwriting gary.cpp\n"
     ]
    }
   ],
   "source": [
    "%%writefile gary.cpp\n",
    "\n",
    "#include <iostream>\n",
    "using namespace std;\n",
    "\n",
    "int main() {\n",
    "    for (int n = 0; n < 100; n++) {\n",
    "        for (int d = 31; d >=0; d--) {\n",
    "            if (n - (n & (n - 1)) == 1 << d) cout << '|';\n",
    "            else cout << ' ';\n",
    "        }\n",
    "        cout << endl;\n",
    "        int m = n ^ (n >> 1);\n",
    "        for (int d = 31; d >=0; d--) {\n",
    "            cout << ((m >> d) & 1);\n",
    "        }\n",
    "        cout << \"  \" << m << endl;\n",
    "    }\n",
    "}"
   ]
  },
  {
   "cell_type": "code",
   "execution_count": 47,
   "id": "592eb020",
   "metadata": {
    "vscode": {
     "languageId": "cpp"
    }
   },
   "outputs": [
    {
     "name": "stdout",
     "output_type": "stream",
     "text": [
      "                                \n",
      "00000000000000000000000000000000  0\n",
      "                               |\n",
      "00000000000000000000000000000001  1\n",
      "                              | \n",
      "00000000000000000000000000000011  3\n",
      "                               |\n",
      "00000000000000000000000000000010  2\n",
      "                             |  \n",
      "00000000000000000000000000000110  6\n",
      "                               |\n",
      "00000000000000000000000000000111  7\n",
      "                              | \n",
      "00000000000000000000000000000101  5\n",
      "                               |\n",
      "00000000000000000000000000000100  4\n",
      "                            |   \n",
      "00000000000000000000000000001100  12\n",
      "                               |\n",
      "00000000000000000000000000001101  13\n",
      "                              | \n",
      "00000000000000000000000000001111  15\n",
      "                               |\n",
      "00000000000000000000000000001110  14\n",
      "                             |  \n",
      "00000000000000000000000000001010  10\n",
      "                               |\n",
      "00000000000000000000000000001011  11\n",
      "                              | \n",
      "00000000000000000000000000001001  9\n",
      "                               |\n",
      "00000000000000000000000000001000  8\n",
      "                           |    \n",
      "00000000000000000000000000011000  24\n",
      "                               |\n",
      "00000000000000000000000000011001  25\n",
      "                              | \n",
      "00000000000000000000000000011011  27\n",
      "                               |\n",
      "00000000000000000000000000011010  26\n",
      "                             |  \n",
      "00000000000000000000000000011110  30\n",
      "                               |\n",
      "00000000000000000000000000011111  31\n",
      "                              | \n",
      "00000000000000000000000000011101  29\n",
      "                               |\n",
      "00000000000000000000000000011100  28\n",
      "                            |   \n",
      "00000000000000000000000000010100  20\n",
      "                               |\n",
      "00000000000000000000000000010101  21\n",
      "                              | \n",
      "00000000000000000000000000010111  23\n",
      "                               |\n",
      "00000000000000000000000000010110  22\n",
      "                             |  \n",
      "00000000000000000000000000010010  18\n",
      "                               |\n",
      "00000000000000000000000000010011  19\n",
      "                              | \n",
      "00000000000000000000000000010001  17\n",
      "                               |\n",
      "00000000000000000000000000010000  16\n",
      "                          |     \n",
      "00000000000000000000000000110000  48\n",
      "                               |\n",
      "00000000000000000000000000110001  49\n",
      "                              | \n",
      "00000000000000000000000000110011  51\n",
      "                               |\n",
      "00000000000000000000000000110010  50\n",
      "                             |  \n",
      "00000000000000000000000000110110  54\n",
      "                               |\n",
      "00000000000000000000000000110111  55\n",
      "                              | \n",
      "00000000000000000000000000110101  53\n",
      "                               |\n",
      "00000000000000000000000000110100  52\n",
      "                            |   \n",
      "00000000000000000000000000111100  60\n",
      "                               |\n",
      "00000000000000000000000000111101  61\n",
      "                              | \n",
      "00000000000000000000000000111111  63\n",
      "                               |\n",
      "00000000000000000000000000111110  62\n",
      "                             |  \n",
      "00000000000000000000000000111010  58\n",
      "                               |\n",
      "00000000000000000000000000111011  59\n",
      "                              | \n",
      "00000000000000000000000000111001  57\n",
      "                               |\n",
      "00000000000000000000000000111000  56\n",
      "                           |    \n",
      "00000000000000000000000000101000  40\n",
      "                               |\n",
      "00000000000000000000000000101001  41\n",
      "                              | \n",
      "00000000000000000000000000101011  43\n",
      "                               |\n",
      "00000000000000000000000000101010  42\n",
      "                             |  \n",
      "00000000000000000000000000101110  46\n",
      "                               |\n",
      "00000000000000000000000000101111  47\n",
      "                              | \n",
      "00000000000000000000000000101101  45\n",
      "                               |\n",
      "00000000000000000000000000101100  44\n",
      "                            |   \n",
      "00000000000000000000000000100100  36\n",
      "                               |\n",
      "00000000000000000000000000100101  37\n",
      "                              | \n",
      "00000000000000000000000000100111  39\n",
      "                               |\n",
      "00000000000000000000000000100110  38\n",
      "                             |  \n",
      "00000000000000000000000000100010  34\n",
      "                               |\n",
      "00000000000000000000000000100011  35\n",
      "                              | \n",
      "00000000000000000000000000100001  33\n",
      "                               |\n",
      "00000000000000000000000000100000  32\n",
      "                         |      \n",
      "00000000000000000000000001100000  96\n",
      "                               |\n",
      "00000000000000000000000001100001  97\n",
      "                              | \n",
      "00000000000000000000000001100011  99\n",
      "                               |\n",
      "00000000000000000000000001100010  98\n",
      "                             |  \n",
      "00000000000000000000000001100110  102\n",
      "                               |\n",
      "00000000000000000000000001100111  103\n",
      "                              | \n",
      "00000000000000000000000001100101  101\n",
      "                               |\n",
      "00000000000000000000000001100100  100\n",
      "                            |   \n",
      "00000000000000000000000001101100  108\n",
      "                               |\n",
      "00000000000000000000000001101101  109\n",
      "                              | \n",
      "00000000000000000000000001101111  111\n",
      "                               |\n",
      "00000000000000000000000001101110  110\n",
      "                             |  \n",
      "00000000000000000000000001101010  106\n",
      "                               |\n",
      "00000000000000000000000001101011  107\n",
      "                              | \n",
      "00000000000000000000000001101001  105\n",
      "                               |\n",
      "00000000000000000000000001101000  104\n",
      "                           |    \n",
      "00000000000000000000000001111000  120\n",
      "                               |\n",
      "00000000000000000000000001111001  121\n",
      "                              | \n",
      "00000000000000000000000001111011  123\n",
      "                               |\n",
      "00000000000000000000000001111010  122\n",
      "                             |  \n",
      "00000000000000000000000001111110  126\n",
      "                               |\n",
      "00000000000000000000000001111111  127\n",
      "                              | \n",
      "00000000000000000000000001111101  125\n",
      "                               |\n",
      "00000000000000000000000001111100  124\n",
      "                            |   \n",
      "00000000000000000000000001110100  116\n",
      "                               |\n",
      "00000000000000000000000001110101  117\n",
      "                              | \n",
      "00000000000000000000000001110111  119\n",
      "                               |\n",
      "00000000000000000000000001110110  118\n",
      "                             |  \n",
      "00000000000000000000000001110010  114\n",
      "                               |\n",
      "00000000000000000000000001110011  115\n",
      "                              | \n",
      "00000000000000000000000001110001  113\n",
      "                               |\n",
      "00000000000000000000000001110000  112\n",
      "                          |     \n",
      "00000000000000000000000001010000  80\n",
      "                               |\n",
      "00000000000000000000000001010001  81\n",
      "                              | \n",
      "00000000000000000000000001010011  83\n",
      "                               |\n",
      "00000000000000000000000001010010  82\n"
     ]
    }
   ],
   "source": [
    "%%bash\n",
    "\n",
    "g++-14 -std=c++26 -Wall -Wextra -Wpedantic gary.cpp -o gr\n",
    "./gr"
   ]
  },
  {
   "cell_type": "markdown",
   "id": "02e8a899",
   "metadata": {
    "vscode": {
     "languageId": "cpp"
    }
   },
   "source": [
    "See also OEIS A003188"
   ]
  },
  {
   "cell_type": "code",
   "execution_count": null,
   "id": "1cb1d5ef",
   "metadata": {
    "vscode": {
     "languageId": "cpp"
    }
   },
   "outputs": [],
   "source": []
  },
  {
   "cell_type": "code",
   "execution_count": null,
   "id": "5c327795",
   "metadata": {
    "vscode": {
     "languageId": "cpp"
    }
   },
   "outputs": [],
   "source": []
  },
  {
   "cell_type": "code",
   "execution_count": null,
   "id": "8473d5b5",
   "metadata": {
    "vscode": {
     "languageId": "cpp"
    }
   },
   "outputs": [],
   "source": []
  }
 ],
 "metadata": {
  "kernelspec": {
   "display_name": "SageMath 10.6",
   "language": "sage",
   "name": "SageMath-10.6"
  },
  "language_info": {
   "codemirror_mode": {
    "name": "ipython",
    "version": 3
   },
   "file_extension": ".py",
   "mimetype": "text/x-python",
   "name": "python",
   "nbconvert_exporter": "python",
   "pygments_lexer": "ipython3",
   "version": "3.12.5"
  }
 },
 "nbformat": 4,
 "nbformat_minor": 5
}
