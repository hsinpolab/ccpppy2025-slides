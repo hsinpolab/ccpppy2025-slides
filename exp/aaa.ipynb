{
 "cells": [
  {
   "cell_type": "markdown",
   "id": "45556838",
   "metadata": {
    "vscode": {
     "languageId": "plaintext"
    }
   },
   "source": [
    "# CCppPy Assignments"
   ]
  },
  {
   "cell_type": "markdown",
   "id": "4ba21982",
   "metadata": {
    "vscode": {
     "languageId": "plaintext"
    }
   },
   "source": [
    "## Hilbert Curve"
   ]
  },
  {
   "cell_type": "markdown",
   "id": "74da2e68",
   "metadata": {
    "vscode": {
     "languageId": "plaintext"
    }
   },
   "source": [
    "```\n",
    "Alphabet : A, B\n",
    "Constants : F + −\n",
    "Axiom : A\n",
    "Production rules:\n",
    "A → +BF−AFA−FB+\n",
    "B → −AF+BFB+FA−\n",
    "```"
   ]
  },
  {
   "cell_type": "code",
   "execution_count": 111,
   "id": "e7fea0fc",
   "metadata": {},
   "outputs": [
    {
     "data": {
      "text/plain": [
       "'+-+-AF+BFB+FA-F-+BF-AFA-FB+F+BF-AFA-FB+-F-AF+BFB+FA-+F+-+BF-AFA-FB+F+-AF+BFB+FA-F-AF+BFB+FA-+F+BF-AFA-FB+-F-+BF-AFA-FB+F+-AF+BFB+FA-F-AF+BFB+FA-+F+BF-AFA-FB+-+F+-AF+BFB+FA-F-+BF-AFA-FB+F+BF-AFA-FB+-F-AF+BFB+FA-+-F-+-+BF-AFA-FB+F+-AF+BFB+FA-F-AF+BFB+FA-+F+BF-AFA-FB+-F-+-AF+BFB+FA-F-+BF-AFA-FB+F+BF-AFA-FB+-F-AF+BFB+FA-+F+-AF+BFB+FA-F-+BF-AFA-FB+F+BF-AFA-FB+-F-AF+BFB+FA-+-F-+BF-AFA-FB+F+-AF+BFB+FA-F-AF+BFB+FA-+F+BF-AFA-FB+-+F+-+BF-AFA-FB+F+-AF+BFB+FA-F-AF+BFB+FA-+F+BF-AFA-FB+-F-+-AF+BFB+FA-F-+BF-AFA-FB+F+BF-AFA-FB+-F-AF+BFB+FA-+F+-AF+BFB+FA-F-+BF-AFA-FB+F+BF-AFA-FB+-F-AF+BFB+FA-+-F-+BF-AFA-FB+F+-AF+BFB+FA-F-AF+BFB+FA-+F+BF-AFA-FB+-+-F-+-AF+BFB+FA-F-+BF-AFA-FB+F+BF-AFA-FB+-F-AF+BFB+FA-+F+-+BF-AFA-FB+F+-AF+BFB+FA-F-AF+BFB+FA-+F+BF-AFA-FB+-F-+BF-AFA-FB+F+-AF+BFB+FA-F-AF+BFB+FA-+F+BF-AFA-FB+-+F+-AF+BFB+FA-F-+BF-AFA-FB+F+BF-AFA-FB+-F-AF+BFB+FA-+-+'"
      ]
     },
     "execution_count": 111,
     "metadata": {},
     "output_type": "execute_result"
    }
   ],
   "source": [
    "ll = 4\n",
    "hstring = \"A\"\n",
    "for it in range(ll):\n",
    "    hstring = hstring.replace(\"A\", \"a\")\n",
    "    hstring = hstring.replace(\"B\", \"b\")\n",
    "    hstring = hstring.replace(\"a\", \"+BF-AFA-FB+\")\n",
    "    hstring = hstring.replace(\"b\", \"-AF+BFB+FA-\")\n",
    "\n",
    "hstring"
   ]
  },
  {
   "cell_type": "code",
   "execution_count": 113,
   "id": "bcf69fb5",
   "metadata": {},
   "outputs": [
    {
     "name": "stdout",
     "output_type": "stream",
     "text": [
      "+--+  +--+--+  +--+--+  +--+--+  +--+--+  +--+\n",
      "   |  |     |  |     |  |     |  |     |  |   \n",
      "+--+  +--+  +--+  +--+  +--+  +--+  +--+  +--+\n",
      "|        |        |        |        |        |\n",
      "+  +--+  +  +--+  +--+  +--+  +--+  +  +--+  +\n",
      "|  |  |  |  |  |     |  |     |  |  |  |  |  |\n",
      "+--+  +--+  +  +--+--+  +--+--+  +  +--+  +--+\n",
      "            |                    |            \n",
      "+--+  +--+  +  +--+--+  +--+--+  +  +--+  +--+\n",
      "|  |  |  |  |  |     |  |     |  |  |  |  |  |\n",
      "+  +--+  +  +--+  +--+  +--+  +--+  +  +--+  +\n",
      "|        |        |        |        |        |\n",
      "+--+  +--+  +--+  +--+  +--+  +--+  +--+  +--+\n",
      "   |  |     |  |     |  |     |  |     |  |   \n",
      "+--+  +--+--+  +--+--+  +--+--+  +--+--+  +--+\n",
      "|                                            |\n",
      "+  +--+--+  +--+--+  +--+  +--+--+  +--+--+  +\n",
      "|  |     |  |     |  |  |  |     |  |     |  |\n",
      "+--+  +--+  +--+  +--+  +--+  +--+  +--+  +--+\n",
      "      |        |              |        |      \n",
      "+--+  +--+  +--+  +--+  +--+  +--+  +--+  +--+\n",
      "|  |     |  |     |  |  |  |     |  |     |  |\n",
      "+  +--+--+  +--+--+  +  +  +--+--+  +--+--+  +\n",
      "|                    |  |                    |\n",
      "+--+  +--+--+--+  +--+  +--+  +--+--+--+  +--+\n",
      "   |  |        |  |        |  |        |  |   \n",
      "+--+  +--+  +--+  +--+  +--+  +--+  +--+  +--+\n",
      "|        |  |        |  |        |  |        |\n",
      "+  +--+  +  +  +--+  +  +  +--+  +  +  +--+  +\n",
      "|  |  |  |  |  |  |  |  |  |  |  |  |  |  |  |\n",
      "+--+  +--+  +--+  +--+  +--+  +--+  +--+  +--+\n"
     ]
    }
   ],
   "source": [
    "canvas = [[' ' for c in range(3*2^ll - 2)] for r in range(2*2^ll - 1)]\n",
    "(x, y, dx, dy) = (0, 0, 0, 1)\n",
    "for c in hstring:\n",
    "    if c == 'A':\n",
    "        canvas[x][y] = '+'\n",
    "    if c == 'B':\n",
    "        canvas[x][y] = '+'\n",
    "    if c == 'F':\n",
    "        x += dx\n",
    "        y += dy\n",
    "        if dx:\n",
    "            canvas[x][y] = '|' \n",
    "        else:\n",
    "            canvas[x][y] = '-' \n",
    "            x += dx\n",
    "            y += dy\n",
    "            canvas[x][y] = '-'\n",
    "        x += dx\n",
    "        y += dy\n",
    "    elif c == '-':\n",
    "        (dx, dy) = (-dy, dx)\n",
    "    elif c == '+':\n",
    "        (dx, dy) = (dy, -dx)\n",
    "result = '\\n'.join(''.join(row) for row in canvas)\n",
    "print(result)"
   ]
  },
  {
   "cell_type": "code",
   "execution_count": 116,
   "id": "d084eb2d",
   "metadata": {},
   "outputs": [],
   "source": [
    "for ll in range(10):\n",
    "    hstring = \"A\"\n",
    "    for it in range(ll):\n",
    "        hstring = hstring.replace(\"A\", \"a\")\n",
    "        hstring = hstring.replace(\"B\", \"b\")\n",
    "        hstring = hstring.replace(\"a\", \"+BF-AFA-FB+\")\n",
    "        hstring = hstring.replace(\"b\", \"-AF+BFB+FA-\")\n",
    "\n",
    "    canvas = [[' ' for c in range(3*2^ll - 2)] for r in range(2*2^ll - 1)]\n",
    "    (x, y, dx, dy) = (0, 0, 0, 1)\n",
    "    for c in hstring:\n",
    "        if c == 'A':\n",
    "            canvas[x][y] = '+'\n",
    "        if c == 'B':\n",
    "            canvas[x][y] = '+'\n",
    "        if c == 'F':\n",
    "            x += dx\n",
    "            y += dy\n",
    "            if dx:\n",
    "                canvas[x][y] = '|' \n",
    "            else:\n",
    "                canvas[x][y] = '-' \n",
    "                x += dx\n",
    "                y += dy\n",
    "                canvas[x][y] = '-'\n",
    "            x += dx\n",
    "            y += dy\n",
    "        elif c == '-':\n",
    "            (dx, dy) = (-dy, dx)\n",
    "        elif c == '+':\n",
    "            (dx, dy) = (dy, -dx)\n",
    "    result = '\\n'.join(''.join(row) for row in canvas)\n",
    "    with open(f'hilbert-{ll}.txt', 'w') as f:\n",
    "        f.write(result)"
   ]
  },
  {
   "cell_type": "markdown",
   "id": "c6385022",
   "metadata": {},
   "source": [
    "## Hanoi tower"
   ]
  },
  {
   "cell_type": "code",
   "execution_count": 109,
   "id": "b0c8fa66",
   "metadata": {},
   "outputs": [],
   "source": [
    "for ll in range(10):\n",
    "    hstring = \"A\"\n",
    "    for it in range(ll):\n",
    "        hstring = hstring.replace(\"A\", \"a\")\n",
    "        hstring = hstring.replace(\"B\", \"b\")\n",
    "        hstring = hstring.replace(\"a\", \"-BF+A+FB-\")\n",
    "        hstring = hstring.replace(\"b\", \"+AF-B-FA+\")\n",
    "    canvas = [[' ' for c in range(4*2^ll - 3)] for r in range(2*2^ll - 1)]\n",
    "    (x, y, dx, dy) = (0, 0, 2, 0)\n",
    "    for c in hstring:\n",
    "        if c == 'A':\n",
    "            canvas[y][x] = '@'\n",
    "        if c == 'B':\n",
    "            canvas[y][x] = '@'\n",
    "        if c == 'F':\n",
    "            x = x + dx\n",
    "            y = y + dy\n",
    "            if dx * dy > 0: canvas[y][x] = '/'\n",
    "            if dx * dy < 0: canvas[y][x] = '\\\\'\n",
    "            if dx * dy == 0:\n",
    "                canvas[y][x-1] = '-'\n",
    "                canvas[y][x] = '-'\n",
    "                canvas[y][x+1] = '-'\n",
    "            x = x + dx\n",
    "            y = y + dy\n",
    "        elif c == '-':\n",
    "            (dx, dy) = {\n",
    "                (2, 0) : (1, 1),\n",
    "                (1, 1) : (-1, 1),\n",
    "                (-1, 1) : (-2, 0),\n",
    "                (-2, 0) : (-1, -1),\n",
    "                (-1, -1) : (1, -1),\n",
    "                (1, -1) : (2, 0),\n",
    "            }[dx, dy]\n",
    "        elif c == '+':\n",
    "            (dx, dy) = {\n",
    "                (1, 1) : (2, 0),\n",
    "                (-1, 1) : (1, 1),\n",
    "                (-2, 0) : (-1, 1),\n",
    "                (-1, -1) : (-2, 0),\n",
    "                (1, -1) : (-1, -1),\n",
    "                (2, 0) : (1, -1),\n",
    "            }[dx, dy]\n",
    "    canvas.reverse()\n",
    "    result = '\\n'.join(''.join(row) for row in canvas)\n",
    "    with open(f'hanoi-{ll}.txt', 'w') as f:\n",
    "        f.write(result)"
   ]
  },
  {
   "cell_type": "markdown",
   "id": "9559ee95",
   "metadata": {},
   "source": [
    "## Chemical element"
   ]
  },
  {
   "cell_type": "code",
   "execution_count": 117,
   "id": "6f1da99e",
   "metadata": {},
   "outputs": [],
   "source": [
    "elements = [\n",
    "'h', 'he', 'li', 'be', 'b', 'c', 'n', 'o', 'f', 'ne', 'na', 'mg', 'al', 'si', 'p', 's', 'cl', 'ar', 'k', 'ca', 'sc',\n",
    "'ti', 'v', 'cr', 'mn', 'fe co', 'ni', 'cu', 'zn', 'ga', 'ge', 'as', 'se', 'br', 'kr', 'rb', 'sr', 'y', 'zr', 'nb',\n",
    "'mo', 'tc', 'ru', 'rh', 'pd', 'ag', 'cd', 'in sn', 'sb', 'te', 'i', 'xe', 'cs', 'ba', 'la', 'ce', 'pr', 'nd', 'pm',\n",
    "'sm', 'eu', 'gd', 'tb', 'dy', 'ho', 'er', 'tm', 'yb', 'lu', 'hf ta', 'w', 're', 'os', 'ir', 'pt', 'au', 'hg', 'tl',\n",
    "'pb', 'bi', 'po', 'at', 'rn', 'fr', 'ra', 'ac', 'th', 'pa', 'u', 'np', 'pu', 'am cm', 'bk', 'cf', 'es', 'fm', 'md',\n",
    "'no', 'lr', 'rf', 'db', 'sg', 'bh', 'hs', 'mt', 'ds', 'rg', 'cn', 'nh', 'fl', 'mc', 'lv', 'ts', 'og']"
   ]
  },
  {
   "cell_type": "code",
   "execution_count": 118,
   "id": "deef8204",
   "metadata": {},
   "outputs": [],
   "source": [
    "with open('words.txt', 'r') as f:\n",
    "    words = [line.strip() for line in f]"
   ]
  },
  {
   "cell_type": "code",
   "execution_count": 124,
   "id": "31e39a26",
   "metadata": {},
   "outputs": [],
   "source": [
    "def decompose_word(w):\n",
    "    if len(w) in [1, 2]:\n",
    "        if w in elements:\n",
    "            return [f'[{w}]']\n",
    "        else: return []\n",
    "    all_possibilities = []\n",
    "    before1 = decompose_word(w[:1])\n",
    "    after1 = decompose_word(w[1:])\n",
    "    for a in before1:\n",
    "        for b in after1:\n",
    "            all_possibilities.append(a + b)\n",
    "    before2 = decompose_word(w[:2])\n",
    "    after2 = decompose_word(w[2:])\n",
    "    for a in before2:\n",
    "        for b in after2:\n",
    "            all_possibilities.append(a + b)\n",
    "    all_p = set(all_possibilities)\n",
    "    all_p = list(all_p)\n",
    "    all_p.sort()\n",
    "    return all_p\n"
   ]
  },
  {
   "cell_type": "code",
   "execution_count": 129,
   "id": "a526c426",
   "metadata": {},
   "outputs": [
    {
     "name": "stdout",
     "output_type": "stream",
     "text": [
      "[ac][ce][pt]\n",
      "[ac][c][es][s]\n",
      "[ac][c][u][ra][te]\n",
      "[ac][cu][ra][te]\n",
      "[ac][c][u][se]\n",
      "[ac][cu][se]\n",
      "[ag][o]\n",
      "[al][o][ne]\n",
      "[ar][i][se]\n",
      "[ar][o][u][nd]\n",
      "[ar][ra][n][ge]\n",
      "[ar][ti][s][ti][c]\n",
      "[as]\n",
      "[as][k]\n",
      "[as][s][es][s]\n",
      "[as][s][u][re]\n",
      "[at]\n",
      "[at][mo][s][p][he][re]\n",
      "[at][te][nd]\n",
      "[b][ac][k]\n",
      "[b][ag]\n",
      "[ba][la][n][ce]\n",
      "[ba][n]\n",
      "[ba][nd]\n",
      "[b][ar]\n",
      "[ba][se]\n",
      "[ba][si][c]\n",
      "[ba][si][s]\n",
      "[be]\n",
      "[be][ac][h]\n",
      "[be][ar]\n",
      "[be][at]\n",
      "[be][c][au][se]\n",
      "[be][ca][u][se]\n",
      "[be][er]\n",
      "[be][f][o][re]\n",
      "[be][h][i][nd]\n",
      "[be][nd]\n",
      "[be][ne][at][h]\n",
      "[be][y][o][nd]\n",
      "[b][i][nd]\n",
      "[bi][nd]\n",
      "[b][ir][th]\n",
      "[b][i][te]\n",
      "[bi][te]\n",
      "[b][li][nd]\n",
      "[b][o][at]\n",
      "[b][o][dy]\n",
      "[b][o][nd]\n",
      "[b][o][ne]\n",
      "[b][o][rn]\n",
      "[b][os][s]\n",
      "[b][o][th]\n",
      "[b][o][th][er]\n",
      "[b][o][u][nd][ar][y]\n",
      "[b][ra][nd]\n",
      "[b][re][at][h]\n",
      "[b][re][at][he]\n",
      "[br][o][th][er]\n",
      "[b][u][rn]\n",
      "[b][u][s][i][n][es][s]\n",
      "[b][u][si][n][es][s]\n",
      "[b][u][y][er]\n",
      "[ca][bi][n]\n",
      "[c][al][c][u][la][te]\n",
      "[c][al][cu][la][te]\n",
      "[ca][n]\n",
      "[ca][n][c][er]\n",
      "[ca][p]\n",
      "[ca][pt][u][re]\n",
      "[c][ar]\n",
      "[ca][re]\n",
      "[ca][re][er]\n",
      "[ca][se]\n",
      "[c][as][h]\n",
      "[c][at]\n",
      "[ca][tc][h]\n",
      "[c][au][se]\n",
      "[ca][u][se]\n",
      "[c][h][ar][ge]\n",
      "[c][he][f]\n",
      "[c][h][o][c][o][la][te]\n",
      "[c][ho][c][o][la][te]\n",
      "[c][h][o][i][ce]\n",
      "[c][ho][i][ce]\n",
      "[c][h][o][o][se]\n",
      "[c][ho][o][se]\n",
      "[c][i][te]\n",
      "[cl][as][s]\n",
      "[c][la][s][si][c]\n",
      "[cl][as][si][c]\n",
      "[c][li][ni][c]\n",
      "[cl][i][ni][c]\n",
      "[c][li][n][i][c][al]\n",
      "[c][li][ni][c][al]\n",
      "[cl][i][n][i][c][al]\n",
      "[cl][i][ni][c][al]\n",
      "[cl][o][se]\n",
      "[cl][o][s][er]\n",
      "[cl][os][er]\n",
      "[cl][o][th][es]\n",
      "[c][lu][b]\n",
      "[c][o][ac][h]\n",
      "[c][o][al]\n",
      "[c][o][at]\n",
      "[c][o][lu][mn]\n",
      "[c][o][n][ce][pt]\n",
      "[c][o][n][c][er][n]\n",
      "[c][o][n][ce][rn]\n",
      "[c][o][n][c][re][te]\n",
      "[c][o][n][s][c][i][o][u][s][n][es][s]\n",
      "[c][o][n][sc][i][o][u][s][n][es][s]\n",
      "[c][o][n][v][i][n][ce]\n",
      "[c][o][re]\n",
      "[c][o][rn]\n",
      "[c][o][rn][er]\n",
      "[c][o][u][ra][ge]\n",
      "[c][o][u][si][n]\n",
      "[c][o][v][er]\n",
      "[cr][ac][k]\n",
      "[cr][as][h]\n",
      "[c][re][at][u][re]\n",
      "[c][re][w]\n",
      "[cr][i][si][s]\n",
      "[cr][i][ti][c]\n",
      "[cr][i][ti][c][al]\n",
      "[cr][i][ti][c][i][sm]\n",
      "[cr][os][s]\n",
      "[c][ru][c][i][al]\n",
      "[cr][u][c][i][al]\n",
      "[cr][y]\n",
      "[cu][p]\n",
      "[es][se][n][ti][al]\n",
      "[f][al][se]\n",
      "[f][ar]\n",
      "[f][at]\n",
      "[f][at][h][er]\n",
      "[f][i][b][er]\n",
      "[f][i][f][th]\n",
      "[f][i][n][al]\n",
      "[f][i][na][n][ce]\n",
      "[f][i][na][n][c][i][al]\n",
      "[f][i][nd]\n",
      "[f][i][ne]\n",
      "[f][i][re]\n",
      "[fl][ag]\n",
      "[fl][at]\n",
      "[fl][es][h]\n",
      "[fl][o][at]\n",
      "[fl][o][w][er]\n",
      "[fl][y]\n",
      "[f][o][cu][s]\n",
      "[f][o][re][v][er]\n",
      "[f][o][u][nd]\n",
      "[f][o][u][nd][er]\n",
      "[fr][es][h]\n",
      "[f][u][nd]\n",
      "[f][u][n][er][al]\n",
      "[ga][p]\n",
      "[ga][ra][ge]\n",
      "[ga][s]\n",
      "[ga][te]\n",
      "[ga][th][er]\n",
      "[ga][y]\n",
      "[ge][ar]\n",
      "[ge][nd][er]\n",
      "[ge][ne]\n",
      "[ge][n][er][al]\n",
      "[ge][ne][ra][te]\n",
      "[ge][ne][ti][c]\n",
      "[ge][n][tl][y]\n",
      "[h][al][f]\n",
      "[h][at]\n",
      "[he]\n",
      "[he][al][th]\n",
      "[he][al][th][y]\n",
      "[he][ar]\n",
      "[he][at]\n",
      "[he][li][c][o][pt][er]\n",
      "[h][er]\n",
      "[he][re]\n",
      "[h][er][o]\n",
      "[he][y]\n",
      "[h][i][re]\n",
      "[h][o][ne][y]\n",
      "[ho][ne][y]\n",
      "[h][o][u][se]\n",
      "[ho][u][se]\n",
      "[ho][w]\n",
      "[h][u][ge]\n",
      "[h][u][s][ba][nd]\n",
      "[i][ce]\n",
      "[i][nd][i][ca][te]\n",
      "[i][n][i][ti][al]\n",
      "[i][ni][ti][al]\n",
      "[i][n][n][er]\n",
      "[i][n][s][p][i][re]\n",
      "[i][n][s][u][ra][n][ce]\n",
      "[i][n][te][nd]\n",
      "[i][n][te][n][se]\n",
      "[i][n][te][rn][al]\n",
      "[i][n][te][rn][at][i][o][n][al]\n",
      "[i][n][v][es][ti][ga][te]\n",
      "[i][n][v][i][te]\n",
      "[i][s][la][nd]\n",
      "[i][ts]\n",
      "[k][i][nd]\n",
      "[k][i][tc][he][n]\n",
      "[k][no][w]\n",
      "[la][b]\n",
      "[la][dy]\n",
      "[la][nd]\n",
      "[la][p]\n",
      "[la][te]\n",
      "[la][w]\n",
      "[la][w][y][er]\n",
      "[la][y]\n",
      "[la][y][er]\n",
      "[li][b][er][al]\n",
      "[li][br][ar][y]\n",
      "[li][ce][n][se]\n",
      "[li][ne]\n",
      "[li][p]\n",
      "[li][s][te][n]\n",
      "[mo][ne][y]\n",
      "[mo][n][th]\n",
      "[mo][re]\n",
      "[mo][re][o][v][er]\n",
      "[mo][s][tl][y]\n",
      "[mo][th][er]\n",
      "[mo][u][se]\n",
      "[mo][u][th]\n",
      "[n][at][i][o][n][al]\n",
      "[na][ti][o][n][al]\n",
      "[n][at][u][re]\n",
      "[ne][ar]\n",
      "[ne][c][es][s][ar][y]\n",
      "[ne][ce][s][s][ar][y]\n",
      "[ne][i][th][er]\n",
      "[ne][v][er]\n",
      "[ne][w]\n",
      "[ne][w][s][pa][p][er]\n",
      "[n][i][ce]\n",
      "[ni][ce]\n",
      "[n][i][ne]\n",
      "[ni][ne]\n",
      "[no]\n",
      "[n][o][b][o][dy]\n",
      "[no][b][o][dy]\n",
      "[n][o][i][se]\n",
      "[no][i][se]\n",
      "[n][o][ne]\n",
      "[no][ne]\n",
      "[n][o][se]\n",
      "[no][se]\n",
      "[n][o][te]\n",
      "[no][te]\n",
      "[n][o][ti][ce]\n",
      "[no][ti][ce]\n",
      "[no][w]\n",
      "[n][o][w][he][re]\n",
      "[no][w][he][re]\n",
      "[o][b][s][er][v][er]\n",
      "[o][f][f][er]\n",
      "[o][f][f][i][ce]\n",
      "[o][f][f][i][c][er]\n",
      "[o][f][f][i][c][i][al]\n",
      "[o][f][te][n]\n",
      "[o][n][ce]\n",
      "[o][ne]\n",
      "[o][n][li][ne]\n",
      "[o][p][p][o][se]\n",
      "[o][p][po][se]\n",
      "[o][p][p][o][s][i][te]\n",
      "[o][p][p][o][si][te]\n",
      "[o][p][p][os][i][te]\n",
      "[o][p][po][s][i][te]\n",
      "[o][p][po][si][te]\n",
      "[o][ra][n][ge]\n",
      "[o][th][er]\n",
      "[o][th][er][s]\n",
      "[o][th][er][w][i][se]\n",
      "[o][v][er]\n",
      "[o][w][n][er]\n",
      "[pa][ce]\n",
      "[p][ac][k]\n",
      "[pa][ge]\n",
      "[pa][ir]\n",
      "[pa][n]\n",
      "[pa][p][er]\n",
      "[p][ar][k]\n",
      "[p][ar][ti][c][i][pa][te]\n",
      "[p][ar][tl][y]\n",
      "[p][as][s]\n",
      "[pa][tc][h]\n",
      "[p][at][h]\n",
      "[pa][th]\n",
      "[p][at][te][rn]\n",
      "[p][au][se]\n",
      "[pa][u][se]\n",
      "[pa][y]\n",
      "[p][er]\n",
      "[p][er][s][o][n][al]\n",
      "[p][h][o][ne]\n",
      "[p][ho][ne]\n",
      "[p][h][ra][se]\n",
      "[p][h][y][s][i][c][al]\n",
      "[p][h][y][si][c][al]\n",
      "[p][i][ne]\n",
      "[p][i][tc][h]\n",
      "[p][la][ce]\n",
      "[p][la][n]\n",
      "[p][la][ne]\n",
      "[p][la][s][ti][c]\n",
      "[p][la][te]\n",
      "[p][la][y]\n",
      "[p][la][y][er]\n",
      "[p][lu][s]\n",
      "[p][o][li][ce]\n",
      "[po][li][ce]\n",
      "[p][o][li][ti][c][al]\n",
      "[po][li][ti][c][al]\n",
      "[p][o][li][ti][cs]\n",
      "[po][li][ti][cs]\n",
      "[po][p]\n",
      "[p][o][se]\n",
      "[po][se]\n",
      "[p][o][s][s][es][s]\n",
      "[p][os][s][es][s]\n",
      "[po][s][s][es][s]\n",
      "[p][o][te][n][ti][al]\n",
      "[po][te][n][ti][al]\n",
      "[p][o][u][nd]\n",
      "[po][u][nd]\n",
      "[p][o][w][er]\n",
      "[po][w][er]\n",
      "[p][ra][c][ti][c][al]\n",
      "[pr][ac][ti][c][al]\n",
      "[p][ra][c][ti][ce]\n",
      "[pr][ac][ti][ce]\n",
      "[p][ra][y]\n",
      "[p][ra][y][er]\n",
      "[p][re][f][er]\n",
      "[p][re][pa][re]\n",
      "[p][re][se][n][ce]\n",
      "[pr][es][s]\n",
      "[p][re][s][s][u][re]\n",
      "[pr][es][s][u][re]\n",
      "[p][re][te][nd]\n",
      "[pr][i][ce]\n",
      "[pr][i][n][c][i][p][al]\n",
      "[pr][i][s][o][n][er]\n",
      "[pr][i][v][ac][y]\n",
      "[pr][o][c][es][s]\n",
      "[pr][o][f][es][s][i][o][n][al]\n",
      "[pr][o][f][es][si][o][n][al]\n",
      "[pr][o][mo][te]\n",
      "[pr][o][p][er]\n",
      "[pr][o][p][o][s][al]\n",
      "[pr][o][p][os][al]\n",
      "[pr][o][po][s][al]\n",
      "[pr][o][p][o][se]\n",
      "[pr][o][po][se]\n",
      "[pr][o][v][i][n][ce]\n",
      "[p][u][b][li][c]\n",
      "[pu][b][li][c]\n",
      "[p][u][b][li][cl][y]\n",
      "[pu][b][li][cl][y]\n",
      "[p][u][b][li][s][h][er]\n",
      "[pu][b][li][s][h][er]\n",
      "[p][u][re]\n",
      "[pu][re]\n",
      "[ra][ce]\n",
      "[ra][c][i][al]\n",
      "[ra][i][se]\n",
      "[ra][n][ge]\n",
      "[ra][re]\n",
      "[ra][te]\n",
      "[ra][th][er]\n",
      "[ra][ti][o]\n",
      "[ra][w]\n",
      "[re][ac][h]\n",
      "[re][al]\n",
      "[re][ce][n][tl][y]\n",
      "[re][c][o][v][er]\n",
      "[re][c][o][v][er][y]\n",
      "[re][f][er]\n",
      "[re][f][u][se]\n",
      "[re][la][te]\n",
      "[re][mo][te]\n",
      "[re][p][la][ce]\n",
      "[re][se][ar][c][h][er]\n",
      "[re][s][p][o][nd]\n",
      "[re][s][po][nd]\n",
      "[re][s][p][o][n][se]\n",
      "[re][s][po][n][se]\n",
      "[re][ti][re]\n",
      "[ru][b]\n",
      "[ru][n]\n",
      "[s][al][ar][y]\n",
      "[s][al][es]\n",
      "[s][au][ce]\n",
      "[s][ca][nd][al]\n",
      "[s][ce][ne]\n",
      "[s][c][o][re]\n",
      "[sc][o][re]\n",
      "[s][cr][i][pt]\n",
      "[se][at]\n",
      "[se][c][o][nd]\n",
      "[se][c][u][re]\n",
      "[se][cu][re]\n",
      "[se][nd]\n",
      "[se][n][se]\n",
      "[se][n][te][n][ce]\n",
      "[se][pa][ra][te]\n",
      "[s][er][i][es]\n",
      "[s][er][v][i][ce]\n",
      "[se][v][er][al]\n",
      "[s][h][ar][p]\n",
      "[s][he]\n",
      "[s][h][i][ne]\n",
      "[s][ho][p]\n",
      "[s][h][o][re]\n",
      "[s][ho][re]\n",
      "[s][ho][w]\n",
      "[s][h][o][w][er]\n",
      "[s][ho][w][er]\n",
      "[s][i][lv][er]\n",
      "[si][lv][er]\n",
      "[si][n]\n",
      "[s][i][n][ce]\n",
      "[si][n][ce]\n",
      "[s][ir]\n",
      "[s][i][te]\n",
      "[si][te]\n",
      "[s][li][ce]\n",
      "[s][li][p]\n",
      "[s][mo][o][th]\n",
      "[sm][o][o][th]\n",
      "[s][na][p]\n",
      "[s][no][w]\n",
      "[s][o][c][c][er]\n",
      "[s][o][c][i][al]\n",
      "[s][o][u][nd]\n",
      "[s][o][u][th]\n",
      "[s][o][u][th][er][n]\n",
      "[s][pa][ce]\n",
      "[s][te][al]\n",
      "[s][te][p]\n",
      "[s][u][c][c][es][s]\n",
      "[s][u][f][f][er]\n",
      "[s][u][p][er]\n",
      "[s][u][p][p][o][se]\n",
      "[s][u][p][po][se]\n",
      "[s][u][re]\n",
      "[s][u][rg][er][y]\n",
      "[s][w][i][tc][h]\n",
      "[te][ac][h]\n",
      "[te][ac][h][er]\n",
      "[te][ar]\n",
      "[te][c][h][n][i][c][al]\n",
      "[te][c][h][ni][c][al]\n",
      "[te][n]\n",
      "[te][nd]\n",
      "[te][n][ni][s]\n",
      "[th][at]\n",
      "[th][o][se]\n",
      "[th][re][at]\n",
      "[ti][p]\n",
      "[ti][re]\n",
      "[u][nd][er]\n",
      "[u][n][i][v][er][s][al]\n",
      "[u][ni][v][er][s][al]\n",
      "[u][n][i][v][er][se]\n",
      "[u][ni][v][er][se]\n",
      "[u][n][u][s][u][al]\n",
      "[u][po][n]\n",
      "[u][p][p][er]\n",
      "[u][se]\n",
      "[u][s][er]\n",
      "[u][s][u][al]\n",
      "[v][ar][y]\n",
      "[v][er][y]\n",
      "[v][i][o][la][te]\n",
      "[v][i][ru][s]\n",
      "[v][i][s][u][al]\n",
      "[v][o][i][ce]\n",
      "[v][o][lu][n][te][er]\n",
      "[v][o][te]\n",
      "[w][al][k]\n",
      "[w][ar]\n",
      "[w][ar][n]\n",
      "[w][as][h]\n",
      "[w][as][te]\n",
      "[w][at][er]\n",
      "[w][es][te][rn]\n",
      "[w][h][at]\n",
      "[w][he][n]\n",
      "[w][he][ne][v][er]\n",
      "[w][he][re]\n",
      "[w][he][re][as]\n",
      "[w][he][th][er]\n",
      "[w][h][i][s][p][er]\n",
      "[w][h][i][te]\n",
      "[w][ho]\n",
      "[w][h][o][se]\n",
      "[w][ho][se]\n",
      "[w][i][nd]\n",
      "[w][i][ne]\n",
      "[w][i][n][n][er]\n",
      "[w][i][re]\n",
      "[w][i][se]\n",
      "[w][i][th]\n",
      "[w][o][nd][er]\n",
      "[w][o][u][nd]\n",
      "[w][ra][p]\n",
      "[y][es]\n",
      "[y][o][u][th]\n"
     ]
    }
   ],
   "source": [
    "for w in words:\n",
    "    dw = decompose_word(w)\n",
    "    if dw: print('\\n'.join(dw))"
   ]
  },
  {
   "cell_type": "code",
   "execution_count": 134,
   "id": "afc5d014",
   "metadata": {},
   "outputs": [
    {
     "name": "stdout",
     "output_type": "stream",
     "text": [
      "0.000000000000000 1.00000000000000 1.50000000000000 2.00000000000000 2.25000000000000 2.50000000000000 2.75000000000000 3.00000000000000 3.25000000000000 3.25000000000000 3.50000000000000 3.50000000000000 3.75000000000000 3.75000000000000 4.00000000000000 4.00000000000000 "
     ]
    }
   ],
   "source": [
    "for k in range(1, 17):\n",
    "    x = ln(k) / ln(2)\n",
    "    x = round(x*4) / 4.\n",
    "    print(x, end=' ')"
   ]
  },
  {
   "cell_type": "code",
   "execution_count": null,
   "id": "e304d9d6",
   "metadata": {},
   "outputs": [],
   "source": [
    "0 1 1.5 2 2.25 2.5 2.75 3 3.25 3.25 3.5 3.5 3.75 3.75 4 4 "
   ]
  },
  {
   "cell_type": "code",
   "execution_count": 6,
   "id": "0161397f",
   "metadata": {},
   "outputs": [
    {
     "name": "stdout",
     "output_type": "stream",
     "text": [
      "2\n",
      "\n",
      "1\n",
      "\n",
      "3\n",
      "\n",
      "4\n",
      "\n",
      "7\n",
      "\n",
      "11\n",
      "\n",
      "18\n",
      "\n",
      "29\n",
      "\n",
      "47\n",
      "\n",
      "76\n",
      "\n"
     ]
    }
   ],
   "source": [
    "A = Matrix([[0, 1], [1, 1]])\n",
    "for i in range(10):\n",
    "    print((A^i).trace())\n",
    "    print()"
   ]
  },
  {
   "cell_type": "code",
   "execution_count": 9,
   "id": "b743f682",
   "metadata": {},
   "outputs": [
    {
     "data": {
      "text/plain": [
       "(25, 77)"
      ]
     },
     "execution_count": 9,
     "metadata": {},
     "output_type": "execute_result"
    }
   ],
   "source": [
    "FF = GF(101)\n",
    "(FF(5) + FF(-25)) * FF(125), (FF(5) - FF(-25)) / FF(125)"
   ]
  },
  {
   "cell_type": "code",
   "execution_count": 14,
   "id": "648c2288",
   "metadata": {},
   "outputs": [
    {
     "data": {
      "text/plain": [
       "(18, -1/864)"
      ]
     },
     "execution_count": 14,
     "metadata": {},
     "output_type": "execute_result"
    }
   ],
   "source": [
    "(1/12 + 1/6) * 72, (1/12 - 1/6) / 72"
   ]
  },
  {
   "cell_type": "code",
   "execution_count": 18,
   "id": "1614d8da",
   "metadata": {},
   "outputs": [
    {
     "name": "stdout",
     "output_type": "stream",
     "text": [
      "env: SDKROOT=/Library/Developer/CommandLineTools/SDKs/MacOSX.sdk\n"
     ]
    }
   ],
   "source": [
    "# Ignore this; my laptop is so old so I need this\n",
    "\n",
    "sdkroot = !xcrun --show-sdk-path\n",
    "%env SDKROOT={sdkroot[0]}"
   ]
  },
  {
   "cell_type": "code",
   "execution_count": 16,
   "id": "d10d1e97",
   "metadata": {
    "vscode": {
     "languageId": "cpp"
    }
   },
   "outputs": [
    {
     "name": "stdout",
     "output_type": "stream",
     "text": [
      "Overwriting hello.cpp\n"
     ]
    }
   ],
   "source": [
    "%%writefile hello.cpp\n",
    "\n",
    "#include <iostream>\n",
    "using namespace std;\n",
    "int main() {\n",
    "    int a, b, c;\n",
    "    cin >> a >> b >> c;\n",
    "    cout << \"Hello \" << a << endl;\n",
    "    cout << \"Hello \" << b << endl;\n",
    "    cout << \"Hello \" << c << endl;\n",
    "}"
   ]
  },
  {
   "cell_type": "code",
   "execution_count": 17,
   "id": "3481b821",
   "metadata": {},
   "outputs": [],
   "source": [
    "%%bash\n",
    "\n",
    "g++-15 -std=c++26 hello.cpp -o hell"
   ]
  },
  {
   "cell_type": "code",
   "execution_count": 19,
   "id": "841253b5",
   "metadata": {},
   "outputs": [
    {
     "name": "stdout",
     "output_type": "stream",
     "text": [
      "Hello 12\n",
      "Hello 345\n",
      "Hello 6789\n"
     ]
    }
   ],
   "source": [
    "%%bash\n",
    "\n",
    "./hell <<< \"12 345 6789\""
   ]
  },
  {
   "cell_type": "markdown",
   "id": "61dd4fcf",
   "metadata": {
    "vscode": {
     "languageId": "python"
    }
   },
   "source": [
    "## Math source"
   ]
  },
  {
   "cell_type": "code",
   "execution_count": 3,
   "id": "f6a3b05f",
   "metadata": {},
   "outputs": [
    {
     "data": {
      "text/plain": [
       "Finite Field of size 101"
      ]
     },
     "execution_count": 3,
     "metadata": {},
     "output_type": "execute_result"
    }
   ],
   "source": [
    "GF(101)"
   ]
  },
  {
   "cell_type": "code",
   "execution_count": 5,
   "id": "eff423d6",
   "metadata": {},
   "outputs": [
    {
     "data": {
      "text/plain": [
       "<class 'sage.rings.finite_rings.finite_field_prime_modn.FiniteField_prime_modn_with_category'>"
      ]
     },
     "execution_count": 5,
     "metadata": {},
     "output_type": "execute_result"
    }
   ],
   "source": [
    "parent(GF(101))"
   ]
  },
  {
   "cell_type": "code",
   "execution_count": 14,
   "id": "a8578ede",
   "metadata": {},
   "outputs": [
    {
     "data": {
      "text/plain": [
       "<built-in method _add_ of sage.rings.finite_rings.integer_mod.IntegerMod_int object at 0x169c47940>"
      ]
     },
     "execution_count": 14,
     "metadata": {},
     "output_type": "execute_result"
    }
   ],
   "source": [
    "a = GF(101).random_element()\n",
    "a._add_"
   ]
  },
  {
   "cell_type": "code",
   "execution_count": 16,
   "id": "efb76ed2",
   "metadata": {},
   "outputs": [
    {
     "name": "stdout",
     "output_type": "stream",
     "text": [
      "\u001b[0;31mDocstring:\u001b[0m     \n",
      "   Return \"right\" plus \"self\".\n",
      "\n",
      "   EXAMPLES:\n",
      "\n",
      "      sage: (2/3)._add_(1/6)\n",
      "      5/6\n",
      "      sage: (1/3)._add_(1/2)\n",
      "      5/6\n",
      "\u001b[0;31mInit docstring:\u001b[0m Initialize self.  See help(type(self)) for accurate signature.\n",
      "\u001b[0;31mFile:\u001b[0m           /private/var/tmp/sage-10.6-current/local/var/lib/sage/venv-python3.12.5/lib/python3.12/site-packages/sage/rings/rational.pyx\n",
      "\u001b[0;31mType:\u001b[0m           builtin_function_or_method"
     ]
    }
   ],
   "source": [
    "a = 1/2\n",
    "a._add_?"
   ]
  },
  {
   "cell_type": "code",
   "execution_count": 7,
   "id": "33891dd0",
   "metadata": {},
   "outputs": [
    {
     "name": "stdout",
     "output_type": "stream",
     "text": [
      "\u001b[0;31mDocstring:\u001b[0m     \n",
      "   Add \"self\" to \"right\".\n",
      "\n",
      "   EXAMPLES:\n",
      "\n",
      "      sage: CC(2, 1)._add_(CC(1, -2))\n",
      "      3.00000000000000 - 1.00000000000000*I\n",
      "\u001b[0;31mInit docstring:\u001b[0m Initialize self.  See help(type(self)) for accurate signature.\n",
      "\u001b[0;31mFile:\u001b[0m           /private/var/tmp/sage-10.6-current/local/var/lib/sage/venv-python3.12.5/lib/python3.12/site-packages/sage/rings/complex_mpfr.pyx\n",
      "\u001b[0;31mType:\u001b[0m           builtin_function_or_method"
     ]
    }
   ],
   "source": [
    "a = I * 0.3\n",
    "a._add_?"
   ]
  },
  {
   "cell_type": "code",
   "execution_count": 9,
   "id": "86fba67e",
   "metadata": {},
   "outputs": [
    {
     "name": "stdout",
     "output_type": "stream",
     "text": [
      "\u001b[0;31mDocstring:\u001b[0m     \n",
      "   Add \"self\" to \"right\".\n",
      "\n",
      "   EXAMPLES:\n",
      "\n",
      "      sage: CC(2, 1)._add_(CC(1, -2))\n",
      "      3.00000000000000 - 1.00000000000000*I\n",
      "\u001b[0;31mInit docstring:\u001b[0m Initialize self.  See help(type(self)) for accurate signature.\n",
      "\u001b[0;31mFile:\u001b[0m           /private/var/tmp/sage-10.6-current/local/var/lib/sage/venv-python3.12.5/lib/python3.12/site-packages/sage/rings/complex_mpfr.pyx\n",
      "\u001b[0;31mType:\u001b[0m           builtin_function_or_method"
     ]
    }
   ],
   "source": [
    "a = I * 0.3\n",
    "a._add_?"
   ]
  },
  {
   "cell_type": "code",
   "execution_count": 13,
   "id": "2056ed1f",
   "metadata": {},
   "outputs": [
    {
     "name": "stdout",
     "output_type": "stream",
     "text": [
      "\u001b[0;31mDocstring:\u001b[0m     \n",
      "   Return the inverse of self, without changing \"self\".\n",
      "\n",
      "   Note that one can use the Python inverse operator to obtain the\n",
      "   inverse as well.\n",
      "\n",
      "   See also: \"inverse_positive_definite()\"\n",
      "\n",
      "   EXAMPLES:\n",
      "\n",
      "      sage: m = matrix([[1,2],[3,4]])\n",
      "      sage: m^(-1)\n",
      "      [  -2    1]\n",
      "      [ 3/2 -1/2]\n",
      "      sage: m.inverse()\n",
      "      [  -2    1]\n",
      "      [ 3/2 -1/2]\n",
      "      sage: ~m\n",
      "      [  -2    1]\n",
      "      [ 3/2 -1/2]\n",
      "\n",
      "      sage: m = matrix([[1,2],[3,4]], sparse=True)\n",
      "      sage: m^(-1)\n",
      "      [  -2    1]\n",
      "      [ 3/2 -1/2]\n",
      "      sage: m.inverse()\n",
      "      [  -2    1]\n",
      "      [ 3/2 -1/2]\n",
      "      sage: ~m\n",
      "      [  -2    1]\n",
      "      [ 3/2 -1/2]\n",
      "\u001b[0;31mInit docstring:\u001b[0m Initialize self.  See help(type(self)) for accurate signature.\n",
      "\u001b[0;31mFile:\u001b[0m           /private/var/tmp/sage-10.6-current/local/var/lib/sage/venv-python3.12.5/lib/python3.12/site-packages/sage/matrix/matrix2.pyx\n",
      "\u001b[0;31mType:\u001b[0m           builtin_function_or_method"
     ]
    }
   ],
   "source": [
    "A = matrix([[0.1, 0.2], [0.3, 0.4]])\n",
    "A.inverse?"
   ]
  },
  {
   "cell_type": "markdown",
   "id": "67ead91e",
   "metadata": {
    "vscode": {
     "languageId": "python"
    }
   },
   "source": [
    "## Benchmarking"
   ]
  },
  {
   "cell_type": "code",
   "execution_count": 106,
   "id": "acdbfc21",
   "metadata": {
    "vscode": {
     "languageId": "cpp"
    }
   },
   "outputs": [
    {
     "name": "stdout",
     "output_type": "stream",
     "text": [
      "Overwriting fibench.cpp\n"
     ]
    }
   ],
   "source": [
    "%%writefile fibench.cpp\n",
    "\n",
    "#include <iostream>\n",
    "#include <unistd.h>\n",
    "#include <chrono>\n",
    "using namespace std;\n",
    "\n",
    "static volatile double garbage_can;\n",
    "// C++ compiler will delete codes whose results are not used.\n",
    "// This is a good thing for speeding up real programs.\n",
    "// But for benchmarking, we want to perform the computation without using the results.\n",
    "// So we use a \"garbage can\" to store the results in a way that\n",
    "// the compiler cannot optimize the codes away.\n",
    "\n",
    "template <class F>\n",
    "double time_f_at_n (F&& f, long long n) {\n",
    "    auto t0 = std::chrono::steady_clock::now();\n",
    "    garbage_can /= 2;\n",
    "    garbage_can += static_cast<double>(f(n)); // throw the result away\n",
    "    auto t1 = std::chrono::steady_clock::now();\n",
    "    long long ns = std::chrono::duration_cast<std::chrono::nanoseconds>(t1 - t0).count();\n",
    "    return double(ns) / 1e9; // convert to seconds\n",
    "}\n",
    "\n",
    "\n",
    "// The recursion method\n",
    "double fib_rec(long long n) {\n",
    "    if (n <= 1) return double(n);\n",
    "    return fib_rec(n-1) + fib_rec(n-2);\n",
    "}\n",
    "\n",
    "// Dynamic programming\n",
    "double fib_dp(long long n) {\n",
    "    if (n <= 1) return n;\n",
    "    double  a = 0;\n",
    "    double  b = 1;\n",
    "    double  c = 0;\n",
    "    for (long long i = 2; i <= n; ++i) {\n",
    "        c = a + b;\n",
    "        a = b;\n",
    "        b = c;\n",
    "    }\n",
    "    return b;\n",
    "}\n",
    "\n",
    "// Matrix and square and multiply\n",
    "struct M22 {\n",
    "    double a, b, c, d;\n",
    "};\n",
    "M22 mul(const M22& X, const M22& Y) {\n",
    "    return {\n",
    "        X.a*Y.a + X.b*Y.c,  X.a*Y.b + X.b*Y.d,\n",
    "        X.c*Y.a + X.d*Y.c,  X.c*Y.b + X.d*Y.d\n",
    "    };\n",
    "}\n",
    "double fib_matrix(long long n) {\n",
    "    if (n == 0) return 0;\n",
    "    M22 Q{1,1,1,0};\n",
    "    M22 res{1,0,0,1}; // identity\n",
    "    while (n) {\n",
    "        if (n & 1) res = mul(res, Q);\n",
    "        Q = mul(Q, Q);\n",
    "        n >>= 1;\n",
    "    }\n",
    "    return res.b;\n",
    "}\n",
    "double fib_sleep(long long n) {\n",
    "    usleep(n);\n",
    "    return 1;\n",
    "}\n",
    "\n",
    "int main() {\n",
    "    cout << \"fib_rec spends \" << time_f_at_n(fib_rec, 42) << \" seconds\" << endl;\n",
    "    cout << \"fib_dp spends \" << time_f_at_n(fib_dp, 44442222) << \" seconds\" << endl;\n",
    "    cout << \"fib_matrix spends \" << time_f_at_n(fib_matrix, 4444444422222222) << \" seconds\" << endl;\n",
    "    cout << \"fib_sleep spends \" << time_f_at_n(fib_sleep, 5555555) << \" seconds\" << endl;\n",
    "    cout << garbage_can << endl; // to avoid \"unused variable\" warning\n",
    "}"
   ]
  },
  {
   "cell_type": "code",
   "execution_count": 107,
   "id": "75be0d3d",
   "metadata": {
    "vscode": {
     "languageId": "shellscript"
    }
   },
   "outputs": [
    {
     "name": "stdout",
     "output_type": "stream",
     "text": [
      "fib_rec spends 2.19989 seconds\n",
      "fib_dp spends 0.198219 seconds\n",
      "fib_matrix spends 1e-06 seconds\n",
      "fib_sleep spends 5.55882 seconds\n",
      "inf\n"
     ]
    }
   ],
   "source": [
    "%%bash\n",
    "\n",
    "g++-14 -std=c++26 -Wall -Wextra -Wpedantic fibench.cpp -o fibench\n",
    "./fibench"
   ]
  },
  {
   "cell_type": "markdown",
   "id": "66e3cd0e",
   "metadata": {
    "vscode": {
     "languageId": "cpp"
    }
   },
   "source": [
    "## Human genome project"
   ]
  },
  {
   "cell_type": "code",
   "execution_count": 59,
   "id": "7daf67b5",
   "metadata": {},
   "outputs": [
    {
     "name": "stdout",
     "output_type": "stream",
     "text": [
      "AGTCACTTGTCCTACCTTCTATGAATCTAGCCCGCCCATTAGGAATCGATTCTCAGCAGGTAAGTGAACCTGGAGCTATACTCGCAATCGACCCTGGGGTGAGCAACAGGCCACGGGCGAACTCATAAAAGCTTCACAAGTGCAAGCCCGAAAACTCTATAATCGGTGTTGGATAGCCCTAGAGTAGGCCGACGCGCCTCTAGACTCGTCCCTCGGTCGAGGGCCGCTTTGTCTACGGGGCCTAGCGGATAAGCACGAAAACCAACAAACACTGAGAGTACGGGCCGAAGCAGGGGTTTTTGCGTCCCGAAGAGTATGATCAGGCTCGAGGTGCATCTTATGCCATCCCCTAGCGATTCATAAGCTTTAACGACGTCTAATCGACTGATCCAGTATCACGTAGTTAAGTTATCATCCCAGAAGAGACGTACATACGCGGCCATCTCTGGAGTAATTCGGGCGGACTACCGCGGCGACAGGTCATGTTTTCATGTCTCGGGCACAGTCTCATTGACCCGATTCCATCGGTACCCACAACGGAAAGACAAGGAGGCGATGTCCCAAGATGCGAATTTTTAGTTACACATAATTGGTTAGTGAGAAGTGTGGTGGTGAGTGCGAATGAGCGCGATTCAGATGGAACACCGAACGCAAACAGCTCCGGTAGTGAAACGCAATACATTAAGCATCGACCGCTATAACTCCTGGTTGCAGGTATCTTAGGATGGGTTTATGCACGGAATGTGCCGATCGCTTCCTGATTGGTTGACGATAACGTCCGGTACATCACTGCGGGAACACGACGCACTTATCCCCGTGTACACCTCGACCGAATGCGCAGGGTTTATCGACCAGCTGATGAAATTATAGTACAGATTGTTTACTACACGCGATAACTTCCATAGTATGGCTGGCGCCACCTTAGGCTGTCGCATTATCCGGGGGCATGAGACTGGCTATACGTATCGGGGCCGCGCCAATATCACATTCATGTTACTAG\n"
     ]
    },
    {
     "data": {
      "text/plain": [
       "991"
      ]
     },
     "execution_count": 59,
     "metadata": {},
     "output_type": "execute_result"
    }
   ],
   "source": [
    "gene = ''\n",
    "for pos in range(1000):\n",
    "    r = floor(random() * 4) \n",
    "    gene += 'ACGT'[r]\n",
    "print(gene)\n",
    "\n",
    "read_pool = []\n",
    "for pos in range(1000 - 9):\n",
    "    read_pool.append(gene[pos : pos+10])\n",
    "len(set(read_pool))\n"
   ]
  },
  {
   "cell_type": "code",
   "execution_count": 60,
   "id": "2211d206",
   "metadata": {},
   "outputs": [],
   "source": [
    "read_map = {}\n",
    "for pos in range(1000 - 10):\n",
    "    segment = gene[pos : pos+11]\n",
    "    left = segment[:10]\n",
    "    right = segment[10:]\n",
    "    read_map[left] = right\n",
    "# print(read_map)"
   ]
  },
  {
   "cell_type": "code",
   "execution_count": 61,
   "id": "310802fd",
   "metadata": {
    "vscode": {
     "languageId": "cpp"
    }
   },
   "outputs": [
    {
     "data": {
      "text/plain": [
       "'AGTCACTTGTCCTACCTTCTATGAATCTAGCCCGCCCATTAGGAATCGATTCTCAGCAGGTAAGTGAACCTGGAGCTATACTCGCAATCGACCCTGGGGTGAGCAACAGGCCACGGGCGAACTCATAAAAGCTTCACAAGTGCAAGCCCGAAAACTCTATAATCGGTGTTGGATAGCCCTAGAGTAGGCCGACGCGCCTCTAGACTCGTCCCTCGGTCGAGGGCCGCTTTGTCTACGGGGCCTAGCGGATAAGCACGAAAACCAACAAACACTGAGAGTACGGGCCGAAGCAGGGGTTTTTGCGTCCCGAAGAGTATGATCAGGCTCGAGGTGCATCTTATGCCATCCCCTAGCGATTCATAAGCTTTAACGACGTCTAATCGACTGATCCAGTATCACGTAGTTAAGTTATCATCCCAGAAGAGACGTACATACGCGGCCATCTCTGGAGTAATTCGGGCGGACTACCGCGGCGACAGGTCATGTTTTCATGTCTCGGGCACAGTCTCATTGACCCGATTCCATCGGTACCCACAACGGAAAGACAAGGAGGCGATGTCCCAAGATGCGAATTTTTAGTTACACATAATTGGTTAGTGAGAAGTGTGGTGGTGAGTGCGAATGAGCGCGATTCAGATGGAACACCGAACGCAAACAGCTCCGGTAGTGAAACGCAATACATTAAGCATCGACCGCTATAACTCCTGGTTGCAGGTATCTTAGGATGGGTTTATGCACGGAATGTGCCGATCGCTTCCTGATTGGTTGACGATAACGTCCGGTACATCACTGCGGGAACACGACGCACTTATCCCCGTGTACACCTCGACCGAATGCGCAGGGTTTATCGACCAGCTGATGAAATTATAGTACAGATTGTTTACTACACGCGATAACTTCCATAGTATGGCTGGCGCCACCTTAGGCTGTCGCATTATCCGGGGGCATGAGACTGGCTATACGTATCGGGGCCGCGCCAATATCACATTCATGTTACTAG'"
      ]
     },
     "execution_count": 61,
     "metadata": {},
     "output_type": "execute_result"
    }
   ],
   "source": [
    "seed = gene[:10]\n",
    "for i in range(990):\n",
    "    last10 = seed[-10:]\n",
    "    next = read_map[last10]\n",
    "    seed += next\n",
    "seed"
   ]
  },
  {
   "cell_type": "code",
   "execution_count": 62,
   "id": "0964098a",
   "metadata": {
    "vscode": {
     "languageId": "cpp"
    }
   },
   "outputs": [
    {
     "data": {
      "text/plain": [
       "True"
      ]
     },
     "execution_count": 62,
     "metadata": {},
     "output_type": "execute_result"
    }
   ],
   "source": [
    "seed == gene"
   ]
  },
  {
   "cell_type": "code",
   "execution_count": null,
   "id": "b8beef04",
   "metadata": {
    "vscode": {
     "languageId": "cpp"
    }
   },
   "outputs": [],
   "source": []
  }
 ],
 "metadata": {
  "kernelspec": {
   "display_name": "SageMath 10.6",
   "language": "sage",
   "name": "SageMath-10.6"
  },
  "language_info": {
   "codemirror_mode": {
    "name": "ipython",
    "version": 3
   },
   "file_extension": ".py",
   "mimetype": "text/x-python",
   "name": "python",
   "nbconvert_exporter": "python",
   "pygments_lexer": "ipython3",
   "version": "3.12.5"
  }
 },
 "nbformat": 4,
 "nbformat_minor": 5
}
